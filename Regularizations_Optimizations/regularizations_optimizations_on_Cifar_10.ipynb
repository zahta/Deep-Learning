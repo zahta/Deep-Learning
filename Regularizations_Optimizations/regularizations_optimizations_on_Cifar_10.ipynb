{
  "nbformat": 4,
  "nbformat_minor": 0,
  "metadata": {
    "accelerator": "GPU",
    "colab": {
      "name": "regularizations_optimizations_on_Cifar_10.ipynb",
      "provenance": [],
      "collapsed_sections": []
    },
    "kernelspec": {
      "display_name": "Python 3",
      "language": "python",
      "name": "python3"
    },
    "language_info": {
      "codemirror_mode": {
        "name": "ipython",
        "version": 3
      },
      "file_extension": ".py",
      "mimetype": "text/x-python",
      "name": "python",
      "nbconvert_exporter": "python",
      "pygments_lexer": "ipython3",
      "version": "3.8.5"
    }
  },
  "cells": [
    {
      "cell_type": "markdown",
      "metadata": {
        "id": "qluQS0EZjGvs"
      },
      "source": [
        "# Some regularizations and optimization algorithms on [CIFAR-10](https://www.cs.toronto.edu/~kriz/cifar.html) dataset\n",
        "By [Zahra Taheri](https://github.com/zahta), November 27, 2020"
      ]
    },
    {
      "cell_type": "markdown",
      "metadata": {
        "id": "zJoxdQN0xLYP"
      },
      "source": [
        "### Preperation for Google colab"
      ]
    },
    {
      "cell_type": "code",
      "metadata": {
        "colab": {
          "base_uri": "https://localhost:8080/"
        },
        "id": "IwPpfl5z0mQT",
        "outputId": "040b6b9e-dd13-4a1c-f5f0-faa684838282"
      },
      "source": [
        "from google.colab import drive\n",
        "drive.mount('/content/drive')"
      ],
      "execution_count": 1,
      "outputs": [
        {
          "output_type": "stream",
          "text": [
            "Mounted at /content/drive\n"
          ],
          "name": "stdout"
        }
      ]
    },
    {
      "cell_type": "code",
      "metadata": {
        "colab": {
          "base_uri": "https://localhost:8080/"
        },
        "id": "Zg41tyStjIBj",
        "outputId": "f89b1b5a-19c5-4ebc-dfcf-343137abf1f8"
      },
      "source": [
        "#unzip dataset files from google drive to content folder in colab\n",
        "\n",
        "import os\n",
        "\n",
        "if os.path.exists(\"/content/cifar-10-batches-py/\")==False:\n",
        "  print(\"unzip files!\")\n",
        "  !unzip -q \"/content/drive/My Drive/cifar-10-batches-py.zip\"\n",
        "\n",
        "mypath=\"/content/cifar-10-batches-py/\""
      ],
      "execution_count": 2,
      "outputs": [
        {
          "output_type": "stream",
          "text": [
            "unzip files!\n"
          ],
          "name": "stdout"
        }
      ]
    },
    {
      "cell_type": "code",
      "metadata": {
        "colab": {
          "base_uri": "https://localhost:8080/"
        },
        "id": "KR39sJ8l0mRk",
        "outputId": "4cdbf840-a8da-4262-f29c-2de8a9aa24a7"
      },
      "source": [
        "#Define path to the directory\n",
        " \n",
        "os.chdir(mypath)\n",
        "\n",
        "print(os.getcwd())"
      ],
      "execution_count": 3,
      "outputs": [
        {
          "output_type": "stream",
          "text": [
            "/content/cifar-10-batches-py\n"
          ],
          "name": "stdout"
        }
      ]
    },
    {
      "cell_type": "markdown",
      "metadata": {
        "id": "QfghEiqfxLYb"
      },
      "source": [
        "### Import libraries"
      ]
    },
    {
      "cell_type": "code",
      "metadata": {
        "colab": {
          "base_uri": "https://localhost:8080/"
        },
        "id": "qo1QqkwHxLYb",
        "outputId": "bea21ef5-0dec-47e9-f037-74df0686bbf2"
      },
      "source": [
        "import numpy as np\n",
        "import pandas as pd\n",
        "import time\n",
        "import torch\n",
        "import torch.nn as nn\n",
        "import torch.nn.functional as F\n",
        "from torch.autograd import Variable\n",
        "from torchsummary import summary\n",
        "\n",
        "import matplotlib as mpl\n",
        "import matplotlib.pyplot as plt\n",
        "\n",
        "import os\n",
        "\n",
        "import warnings\n",
        "warnings.filterwarnings('ignore')\n",
        "\n",
        "# Set the seeds to ensure reproducibility\n",
        "np.random.seed(1)\n",
        "torch.manual_seed(1)"
      ],
      "execution_count": 4,
      "outputs": [
        {
          "output_type": "execute_result",
          "data": {
            "text/plain": [
              "<torch._C.Generator at 0x7fca6652bb58>"
            ]
          },
          "metadata": {
            "tags": []
          },
          "execution_count": 4
        }
      ]
    },
    {
      "cell_type": "markdown",
      "metadata": {
        "id": "0MPtnr2nxLYf"
      },
      "source": [
        "## Loading CIFAR-10"
      ]
    },
    {
      "cell_type": "code",
      "metadata": {
        "id": "i7oOuVNXxLYf"
      },
      "source": [
        "%run load_cifar10.py"
      ],
      "execution_count": 5,
      "outputs": []
    },
    {
      "cell_type": "code",
      "metadata": {
        "colab": {
          "base_uri": "https://localhost:8080/"
        },
        "id": "Fu7BS0DYycgG",
        "outputId": "fd29a667-0646-4b11-d5f1-197dbeb6d298"
      },
      "source": [
        "#Define path to the directory\n",
        " \n",
        "os.chdir(\"/content/\")\n",
        "\n",
        "print(os.getcwd())"
      ],
      "execution_count": 6,
      "outputs": [
        {
          "output_type": "stream",
          "text": [
            "/content\n"
          ],
          "name": "stdout"
        }
      ]
    },
    {
      "cell_type": "code",
      "metadata": {
        "colab": {
          "base_uri": "https://localhost:8080/"
        },
        "id": "FsEzizhsxLYi",
        "outputId": "ccc62fc6-1b13-448e-a30b-d9ef78122532"
      },
      "source": [
        "cifar_10_dir = 'cifar-10-batches-py'\n",
        "train_data, train_filenames, train_labels, test_data, test_filenames, test_labels, label_names = \\\n",
        "load_cifar_10_data(cifar_10_dir)\n",
        "print(\"Train data: \", train_data.shape)\n",
        "print(\"Train filenames: \", train_filenames.shape)\n",
        "print(\"Train labels: \", train_labels.shape)\n",
        "print(\"Test data: \", test_data.shape)\n",
        "print(\"Test filenames: \", test_filenames.shape)\n",
        "print(\"Test labels: \", test_labels.shape)\n",
        "print(\"Label names: \", label_names.shape)"
      ],
      "execution_count": 7,
      "outputs": [
        {
          "output_type": "stream",
          "text": [
            "Train data:  (50000, 32, 32, 3)\n",
            "Train filenames:  (50000,)\n",
            "Train labels:  (50000,)\n",
            "Test data:  (10000, 32, 32, 3)\n",
            "Test filenames:  (10000,)\n",
            "Test labels:  (10000,)\n",
            "Label names:  (10,)\n"
          ],
          "name": "stdout"
        }
      ]
    },
    {
      "cell_type": "code",
      "metadata": {
        "colab": {
          "base_uri": "https://localhost:8080/",
          "height": 252
        },
        "id": "YXncHfn-xLYl",
        "outputId": "2ccba6b9-da9b-4456-f2d0-7d9de0ae7453"
      },
      "source": [
        "# display some random training images\n",
        "num_plot = 7\n",
        "f, ax = plt.subplots(num_plot, num_plot)\n",
        "for m in range(num_plot):\n",
        "    for n in range(num_plot):\n",
        "        idx = np.random.randint(0, train_data.shape[0])\n",
        "        ax[m, n].imshow(train_data[idx])\n",
        "        ax[m, n].get_xaxis().set_visible(False)\n",
        "        ax[m, n].get_yaxis().set_visible(False)\n",
        "f.subplots_adjust(hspace=0.1)\n",
        "f.subplots_adjust(wspace=0)\n",
        "plt.show()"
      ],
      "execution_count": 8,
      "outputs": [
        {
          "output_type": "display_data",
          "data": {
            "image/png": "[encoded data removed]",
            "text/plain": [
              "<Figure size 432x288 with 49 Axes>"
            ]
          },
          "metadata": {
            "tags": [],
            "needs_background": "light"
          }
        }
      ]
    },
    {
      "cell_type": "markdown",
      "metadata": {
        "id": "3s5fAfkYxLYp"
      },
      "source": [
        "## Preparation of the dataset"
      ]
    },
    {
      "cell_type": "code",
      "metadata": {
        "id": "rhkFuxc4PGYq"
      },
      "source": [
        "#nsamples1, a1,b1,c1 = train_data.shape\n",
        "#X_train= train_data.reshape((nsamples1,a1*b1*c1))\n",
        "#nsamples2, a2,b2,c2 = test_data.shape\n",
        "#X_test= test_data.reshape((nsamples2,a2*b2*c2))\n",
        "\n",
        "# Data standardization\n",
        "#from sklearn.preprocessing import StandardScaler\n",
        "#scaler = StandardScaler()\n",
        "#X_train = scaler.fit_transform(X_train)\n",
        "#X_test= scaler.transform(X_test)\n",
        "\n",
        "#train_data = X_train.reshape((nsamples1, a1,b1,c1))\n",
        "#test_data= X_test.reshape((nsamples2, a2,b2,c2))"
      ],
      "execution_count": 9,
      "outputs": []
    },
    {
      "cell_type": "code",
      "metadata": {
        "id": "wJ1L0HBAjGxk"
      },
      "source": [
        "import torch\n",
        "from torch.utils.data import TensorDataset, DataLoader\n",
        "\n",
        "tensor_x = torch.Tensor(train_data) # transform to torch tensor\n",
        "tensor_y = torch.Tensor(train_labels)\n",
        "tensor_y = tensor_y.type(torch.LongTensor)\n",
        "\n",
        "train_dataset = TensorDataset(tensor_x,tensor_y) # create your dataset"
      ],
      "execution_count": 10,
      "outputs": []
    },
    {
      "cell_type": "code",
      "metadata": {
        "id": "eZCUXWsRjGxt"
      },
      "source": [
        "tensor_x2 = torch.Tensor(test_data)\n",
        "tensor_y2 = torch.Tensor(test_labels)\n",
        "tensor_y2 = tensor_y2.type(torch.LongTensor)\n",
        "\n",
        "test_dataset = TensorDataset(tensor_x2,tensor_y2)"
      ],
      "execution_count": 11,
      "outputs": []
    },
    {
      "cell_type": "code",
      "metadata": {
        "colab": {
          "base_uri": "https://localhost:8080/"
        },
        "id": "ynRkeVJyjGx0",
        "outputId": "7e1fa4e3-3336-4533-9f83-5dd2e56ae0fd"
      },
      "source": [
        "tensor_y"
      ],
      "execution_count": 12,
      "outputs": [
        {
          "output_type": "execute_result",
          "data": {
            "text/plain": [
              "tensor([6, 9, 9,  ..., 9, 1, 1])"
            ]
          },
          "metadata": {
            "tags": []
          },
          "execution_count": 12
        }
      ]
    },
    {
      "cell_type": "markdown",
      "metadata": {
        "id": "0Q3zsgW2jGx8"
      },
      "source": [
        "## Building Feedforward Neural Networks with PyTorch"
      ]
    },
    {
      "cell_type": "code",
      "metadata": {
        "id": "zjBZmMz7NEo5"
      },
      "source": [
        "device = torch.device('cuda:0' if torch.cuda.is_available() else 'cpu')"
      ],
      "execution_count": 13,
      "outputs": []
    },
    {
      "cell_type": "code",
      "metadata": {
        "id": "6WkguwSb1JCh"
      },
      "source": [
        "def compute_accuracy(net, data_loader):\n",
        "    correct_pred, num_examples = 0, 0\n",
        "    with torch.no_grad():\n",
        "        for features, targets in data_loader:\n",
        "            features = features.view(-1, 3*32*32).to(device)\n",
        "            targets = targets.to(device)\n",
        "            outputs = net.forward(features)\n",
        "            predicted_labels = torch.argmax(outputs, 1)\n",
        "            num_examples += targets.size(0)\n",
        "            correct_pred += (predicted_labels == targets).sum()\n",
        "        return correct_pred.float()/num_examples * 100        \n",
        "            \n",
        "            \n",
        "\n",
        "def compute_loss(net, data_loader):\n",
        "    curr_loss = 0.\n",
        "    with torch.no_grad():\n",
        "        for cnt, (features, targets) in enumerate(data_loader):\n",
        "            features = features.view(-1, 3*32*32).to(device)\n",
        "            targets = targets.to(device)\n",
        "            outputs = net.forward(features)\n",
        "            loss = criterion(outputs, targets)\n",
        "            curr_loss += loss\n",
        "        return float(curr_loss)/cnt"
      ],
      "execution_count": 14,
      "outputs": []
    },
    {
      "cell_type": "markdown",
      "metadata": {
        "id": "3p2Us_9CNEpO"
      },
      "source": [
        "## Regularizations (Ensemble Methods)"
      ]
    },
    {
      "cell_type": "markdown",
      "metadata": {
        "id": "tloDyTk81JCh"
      },
      "source": [
        "- [Ensembles: the only (almost) free Lunch in Machine Learning](https://towardsdatascience.com/ensembles-the-almost-free-lunch-in-machine-learning-91af7ebe5090)\n",
        "    - Build optimal ensembles of neural networks with PyTorch and NumPy\n",
        "    \n",
        "    \n",
        "- [Bagging and Dropout Learning](https://jrodthoughts.medium.com/bagging-and-dropout-learning-ae484023b0da)"
      ]
    },
    {
      "cell_type": "markdown",
      "metadata": {
        "id": "C9UvWqB41JCh"
      },
      "source": [
        "### Dropout: Ensemble Method Interpretation\n",
        "**Reference:** [Regularization by Sebastian Raschka](https://sebastianraschka.com/pdf/lecture-notes/stat479ss19/L10_regularization_slides.pdf)\n",
        "\n",
        "- In DL, we typically don't do regular ensembling (majority vote over a large number of networks, bagging, etc.) because it is very expensive to fit neural nets.\n",
        "- However, we know that the squared error for a prediction by a randomly selected model is larger than the squared error using an ensemble prediction (here, average over class probabilities).\n",
        "- Now, in dropout, we have a different model for each minibatch. \n",
        "- Via the minibatch iterations, we essentially sample over $M=2^h$ models, where h is the number of hidden units.\n",
        "- Restriction is that we have weight sharing over these models, which can be seen as a form of regularization.\n",
        "- During \"inference\" we can then average over all these models (but this is very expensive). \n",
        "- However, using the last model after training and scaling the predictions by a factor 1/(1-p) approximates the geometric mean and is much cheaper (actually, it's exactly the geometric mean if we have a linear model).\n",
        "\n",
        "### Dropout: More Practical Tips\n",
        "\n",
        "- Don't use Dropout if your model does not overfit .\n",
        "- However, in that case above, it is then recommended to increase the capacity to make it overfit, and then use dropout to be able to use a larger capacity model (but make it not overfit).\n",
        "\n"
      ]
    },
    {
      "cell_type": "markdown",
      "metadata": {
        "id": "P_xGYFrsjG0R"
      },
      "source": [
        "### Model C: 3 Hidden Layers Feedforward Neural Network (ReLU and LeakyReLU Activation functions)"
      ]
    },
    {
      "cell_type": "markdown",
      "metadata": {
        "id": "3hkihmCtjG0S"
      },
      "source": [
        "#### Make dataset iterable"
      ]
    },
    {
      "cell_type": "code",
      "metadata": {
        "colab": {
          "base_uri": "https://localhost:8080/"
        },
        "id": "vAKel6fnjG0X",
        "outputId": "d3076a0d-50af-4a5f-9c2d-d5953588f93e"
      },
      "source": [
        "batch_size = 128\n",
        "n_iters = 8000\n",
        "num_epochs = n_iters / (len(train_data) / batch_size)\n",
        "num_epochs = int(num_epochs)\n",
        "print(num_epochs)"
      ],
      "execution_count": null,
      "outputs": [
        {
          "output_type": "stream",
          "text": [
            "20\n"
          ],
          "name": "stdout"
        }
      ]
    },
    {
      "cell_type": "code",
      "metadata": {
        "id": "OrkSXyTYjG0d"
      },
      "source": [
        "train_loader = DataLoader(train_dataset, batch_size=batch_size, shuffle=True) # create your dataloader\n",
        "\n",
        "test_loader = DataLoader(test_dataset, batch_size=batch_size,  shuffle=False) # create your dataloader"
      ],
      "execution_count": null,
      "outputs": []
    },
    {
      "cell_type": "markdown",
      "metadata": {
        "id": "Eq-gTJ_SjG0v"
      },
      "source": [
        "### Create model class"
      ]
    },
    {
      "cell_type": "code",
      "metadata": {
        "id": "Dm2oqxA8jG0y"
      },
      "source": [
        "class FeedforwardNeuralNetworkModel(nn.Module):\n",
        "    def __init__(self, input_size, hidden_size1,hidden_size2,hidden_size3, num_classes):\n",
        "        super(FeedforwardNeuralNetworkModel, self).__init__()\n",
        "        # linear function 1\n",
        "        self.fc1 = nn.Linear(input_dim, hidden_dim1)\n",
        "        self.dropout1 = nn.Dropout(0.2)\n",
        "        # non-linearity 1\n",
        "        self.relu1 = nn.LeakyReLU()\n",
        "        \n",
        "        # linear function 2\n",
        "        self.fc2 = nn.Linear(hidden_dim1, hidden_dim2)\n",
        "        # non-linearity 2\n",
        "        self.relu2 = nn.LeakyReLU()\n",
        "        \n",
        "        # linear function 3\n",
        "        self.fc3 = nn.Linear(hidden_dim2, hidden_dim3)\n",
        "        self.dropout2 = nn.Dropout(0.3)\n",
        "        # non-linearity 3\n",
        "        self.relu3 = nn.ReLU()\n",
        "        \n",
        "        # linear function 4 (readout)\n",
        "        self.fc4 = nn.Linear(hidden_dim3, output_dim)\n",
        "        \n",
        "    def forward(self, x):\n",
        "        # linear function 1\n",
        "        out = self.fc1(x)\n",
        "        out = self.dropout1(out)\n",
        "        # non-linearity 1\n",
        "        out = self.relu1(out)\n",
        "        \n",
        "        # linear function 2\n",
        "        out = self.fc2(out)\n",
        "        # non-linearity 2\n",
        "        out = self.relu2(out)\n",
        "        \n",
        "        # linear function 3\n",
        "        out = self.fc3(out)\n",
        "        out = self.dropout2(out)\n",
        "        # non-linearity 3\n",
        "        out = self.relu3(out)\n",
        "        \n",
        "        #linear function 4 (readout)\n",
        "        out = self.fc4(out)\n",
        "        return out       \n",
        "    "
      ],
      "execution_count": null,
      "outputs": []
    },
    {
      "cell_type": "code",
      "metadata": {
        "id": "F3PSVkvdjG1A"
      },
      "source": [
        "#  Instantiate model class\n",
        "input_dim = 3*32*32\n",
        "output_dim = 10\n",
        "hidden_dim1 = 700\n",
        "hidden_dim2 = 1200\n",
        "hidden_dim3 = 512 \n",
        "\n",
        "model = FeedforwardNeuralNetworkModel(input_dim, hidden_dim1, hidden_dim2, hidden_dim3, output_dim)\n",
        "\n",
        "#######################\n",
        "#  USE GPU FOR MODEL  #\n",
        "#######################\n",
        "if torch.cuda.is_available():\n",
        "    model.cuda()\n",
        "    "
      ],
      "execution_count": null,
      "outputs": []
    },
    {
      "cell_type": "code",
      "metadata": {
        "colab": {
          "base_uri": "https://localhost:8080/"
        },
        "id": "CXUDCMOGb5Nb",
        "outputId": "b56759f4-0c04-457d-90ba-df209e72227a"
      },
      "source": [
        "summary(model, (1,3*32*32))"
      ],
      "execution_count": null,
      "outputs": [
        {
          "output_type": "stream",
          "text": [
            "----------------------------------------------------------------\n",
            "        Layer (type)               Output Shape         Param #\n",
            "================================================================\n",
            "            Linear-1               [-1, 1, 700]       2,151,100\n",
            "           Dropout-2               [-1, 1, 700]               0\n",
            "         LeakyReLU-3               [-1, 1, 700]               0\n",
            "            Linear-4              [-1, 1, 1200]         841,200\n",
            "         LeakyReLU-5              [-1, 1, 1200]               0\n",
            "            Linear-6               [-1, 1, 512]         614,912\n",
            "           Dropout-7               [-1, 1, 512]               0\n",
            "              ReLU-8               [-1, 1, 512]               0\n",
            "            Linear-9                [-1, 1, 10]           5,130\n",
            "================================================================\n",
            "Total params: 3,612,342\n",
            "Trainable params: 3,612,342\n",
            "Non-trainable params: 0\n",
            "----------------------------------------------------------------\n",
            "Input size (MB): 0.01\n",
            "Forward/backward pass size (MB): 0.05\n",
            "Params size (MB): 13.78\n",
            "Estimated Total Size (MB): 13.84\n",
            "----------------------------------------------------------------\n"
          ],
          "name": "stdout"
        }
      ]
    },
    {
      "cell_type": "code",
      "metadata": {
        "id": "zdPgr72wVJo6"
      },
      "source": [
        "#  Instantiate loss class\n",
        "criterion=nn.CrossEntropyLoss()\n",
        "\n",
        "#  Instantiate optimizer class\n",
        "learning_rate = 0.001\n",
        "LAMBDA = 0.08\n",
        "optimizer = torch.optim.SGD(model.parameters(), lr=learning_rate, weight_decay=LAMBDA)"
      ],
      "execution_count": null,
      "outputs": []
    },
    {
      "cell_type": "markdown",
      "metadata": {
        "id": "BNczts6hNEp7"
      },
      "source": [
        "#### Train the model"
      ]
    },
    {
      "cell_type": "code",
      "metadata": {
        "colab": {
          "base_uri": "https://localhost:8080/"
        },
        "id": "0_hlsyDz1JCi",
        "outputId": "ab85e536-8138-4ec0-dd9d-f836af0743b9"
      },
      "source": [
        "start_time = time.time()\n",
        "minibatch_cost = []\n",
        "epoch_cost = []\n",
        "for epoch in range(num_epochs):\n",
        "    model.train()\n",
        "    for batch_idx, (features, targets) in enumerate(train_loader):\n",
        "        \n",
        "        features = features.view(-1, 3*32*32).to(device)\n",
        "        targets = targets.to(device)    \n",
        "        ### FORWARD AND BACK PROP\n",
        "        outputs = model(features)\n",
        "        \n",
        "        cost = criterion(outputs, targets)\n",
        "        optimizer.zero_grad()\n",
        "        \n",
        "        cost.backward()\n",
        "        minibatch_cost.append(cost)\n",
        "        ### UPDATE MODEL PARAMETERS\n",
        "        optimizer.step()\n",
        "        \n",
        "        ### LOGGING\n",
        "        if not batch_idx % 500:\n",
        "            print ('Epoch: %03d/%03d | Batch %03d/%03d | Cost: %.4f' \n",
        "                   %(epoch+1, num_epochs, batch_idx, \n",
        "                     len(train_loader), cost))\n",
        "       \n",
        "    model.eval()\n",
        "    with torch.no_grad():\n",
        "        cost = compute_loss(model, train_loader)\n",
        "        epoch_cost.append(cost)\n",
        "        print('Epoch: %03d/%03d Train Cost: %.4f' % (\n",
        "                epoch+1, num_epochs, cost))\n",
        "        print('Time elapsed: %.2f min' % ((time.time() - start_time)/60))\n",
        "\n",
        "        \n",
        "model.eval()\n",
        "with torch.no_grad():\n",
        "    print('Total Training Time: %.2f min' % ((time.time() - start_time)/60))\n",
        "\n",
        "    print('Training Accuracy: %.2f' % compute_accuracy(model, train_loader))\n",
        "    print('Test Accuracy: %.2f' % compute_accuracy(model, test_loader))"
      ],
      "execution_count": null,
      "outputs": [
        {
          "output_type": "stream",
          "text": [
            "Epoch: 001/020 | Batch 000/391 | Cost: 16.5132\n",
            "Epoch: 001/020 Train Cost: 1.8124\n",
            "Time elapsed: 0.06 min\n",
            "Epoch: 002/020 | Batch 000/391 | Cost: 1.8483\n",
            "Epoch: 002/020 Train Cost: 1.7279\n",
            "Time elapsed: 0.12 min\n",
            "Epoch: 003/020 | Batch 000/391 | Cost: 1.8184\n",
            "Epoch: 003/020 Train Cost: 1.6592\n",
            "Time elapsed: 0.18 min\n",
            "Epoch: 004/020 | Batch 000/391 | Cost: 1.7399\n",
            "Epoch: 004/020 Train Cost: 1.6776\n",
            "Time elapsed: 0.23 min\n",
            "Epoch: 005/020 | Batch 000/391 | Cost: 1.7761\n",
            "Epoch: 005/020 Train Cost: 1.6291\n",
            "Time elapsed: 0.29 min\n",
            "Epoch: 006/020 | Batch 000/391 | Cost: 1.7283\n",
            "Epoch: 006/020 Train Cost: 1.5485\n",
            "Time elapsed: 0.35 min\n",
            "Epoch: 007/020 | Batch 000/391 | Cost: 1.5972\n",
            "Epoch: 007/020 Train Cost: 1.5566\n",
            "Time elapsed: 0.40 min\n",
            "Epoch: 008/020 | Batch 000/391 | Cost: 1.6456\n",
            "Epoch: 008/020 Train Cost: 1.5254\n",
            "Time elapsed: 0.46 min\n",
            "Epoch: 009/020 | Batch 000/391 | Cost: 1.6438\n",
            "Epoch: 009/020 Train Cost: 1.4966\n",
            "Time elapsed: 0.52 min\n",
            "Epoch: 010/020 | Batch 000/391 | Cost: 1.5006\n",
            "Epoch: 010/020 Train Cost: 1.4641\n",
            "Time elapsed: 0.58 min\n",
            "Epoch: 011/020 | Batch 000/391 | Cost: 1.4839\n",
            "Epoch: 011/020 Train Cost: 1.5168\n",
            "Time elapsed: 0.63 min\n",
            "Epoch: 012/020 | Batch 000/391 | Cost: 1.5524\n",
            "Epoch: 012/020 Train Cost: 1.5420\n",
            "Time elapsed: 0.69 min\n",
            "Epoch: 013/020 | Batch 000/391 | Cost: 1.6213\n",
            "Epoch: 013/020 Train Cost: 1.4450\n",
            "Time elapsed: 0.75 min\n",
            "Epoch: 014/020 | Batch 000/391 | Cost: 1.4692\n",
            "Epoch: 014/020 Train Cost: 1.4175\n",
            "Time elapsed: 0.81 min\n",
            "Epoch: 015/020 | Batch 000/391 | Cost: 1.5463\n",
            "Epoch: 015/020 Train Cost: 1.4577\n",
            "Time elapsed: 0.86 min\n",
            "Epoch: 016/020 | Batch 000/391 | Cost: 1.4247\n",
            "Epoch: 016/020 Train Cost: 1.4399\n",
            "Time elapsed: 0.92 min\n",
            "Epoch: 017/020 | Batch 000/391 | Cost: 1.6451\n",
            "Epoch: 017/020 Train Cost: 1.5143\n",
            "Time elapsed: 0.98 min\n",
            "Epoch: 018/020 | Batch 000/391 | Cost: 1.6074\n",
            "Epoch: 018/020 Train Cost: 1.4224\n",
            "Time elapsed: 1.04 min\n",
            "Epoch: 019/020 | Batch 000/391 | Cost: 1.3076\n",
            "Epoch: 019/020 Train Cost: 1.4179\n",
            "Time elapsed: 1.09 min\n",
            "Epoch: 020/020 | Batch 000/391 | Cost: 1.4338\n",
            "Epoch: 020/020 Train Cost: 1.3735\n",
            "Time elapsed: 1.15 min\n",
            "Total Training Time: 1.15 min\n",
            "Training Accuracy: 52.30\n",
            "Test Accuracy: 49.67\n"
          ],
          "name": "stdout"
        }
      ]
    },
    {
      "cell_type": "code",
      "metadata": {
        "colab": {
          "base_uri": "https://localhost:8080/",
          "height": 350
        },
        "id": "ZId0EZvqNEp-",
        "outputId": "ca885ad1-4db9-4e3d-8c33-7a05fc8e013f"
      },
      "source": [
        "#Plot the loss curve\n",
        "\n",
        "plt.figure(figsize=(8,5))\n",
        "plt.plot(range(len(epoch_cost)), epoch_cost)\n",
        "plt.xlabel(\"Epoch\")\n",
        "plt.ylabel(\"Cross entropy loss\")\n",
        "plt.title(\"Loss of training\")\n",
        "plt.show()"
      ],
      "execution_count": null,
      "outputs": [
        {
          "output_type": "display_data",
          "data": {
            "image/png": "[encoded data removed]",
            "text/plain": [
              "<Figure size 576x360 with 1 Axes>"
            ]
          },
          "metadata": {
            "tags": []
          }
        }
      ]
    },
    {
      "cell_type": "markdown",
      "metadata": {
        "id": "XXgF4yeEjG1f"
      },
      "source": [
        "### Model D: 3 Hidden Layers Feedforward Neural Network"
      ]
    },
    {
      "cell_type": "markdown",
      "metadata": {
        "id": "tuSZiRwMoRqp"
      },
      "source": [
        "#### Make dataset iterable"
      ]
    },
    {
      "cell_type": "code",
      "metadata": {
        "colab": {
          "base_uri": "https://localhost:8080/"
        },
        "id": "_gPdQ-fKoRqs",
        "outputId": "c59eb7c5-5a0c-47b2-d269-2bc98f19cd32"
      },
      "source": [
        "batch_size = 128\n",
        "n_iters = 8000\n",
        "num_epochs = n_iters / (len(train_data) / batch_size)\n",
        "num_epochs = int(num_epochs)\n",
        "print(num_epochs)"
      ],
      "execution_count": null,
      "outputs": [
        {
          "output_type": "stream",
          "text": [
            "20\n"
          ],
          "name": "stdout"
        }
      ]
    },
    {
      "cell_type": "code",
      "metadata": {
        "id": "S_iUXYNnoRqy"
      },
      "source": [
        "train_loader = DataLoader(train_dataset, batch_size=batch_size, shuffle=True) # create your dataloader\n",
        "\n",
        "test_loader = DataLoader(test_dataset, batch_size=batch_size,  shuffle=False) # create your dataloader"
      ],
      "execution_count": null,
      "outputs": []
    },
    {
      "cell_type": "markdown",
      "metadata": {
        "id": "rawoxbtsjG1g"
      },
      "source": [
        "### Create model class"
      ]
    },
    {
      "cell_type": "code",
      "metadata": {
        "id": "YwIPfbxdjG1i"
      },
      "source": [
        "class FeedforwardNeuralNetworkModel(nn.Module):\n",
        "    def __init__(self, input_size, hidden_size1,hidden_size2,hidden_size3, num_classes):\n",
        "        super(FeedforwardNeuralNetworkModel, self).__init__()\n",
        "        # linear function 1\n",
        "        self.fc1 = nn.Linear(input_dim, hidden_dim1)\n",
        "        #self.dropout1 = nn.Dropout(0.2)\n",
        "        # non-linearity 1\n",
        "        self.relu1 = nn.LeakyReLU()\n",
        "        \n",
        "        # linear function 2\n",
        "        self.fc2 = nn.Linear(hidden_dim1, hidden_dim2)\n",
        "        # non-linearity 2\n",
        "        self.relu2 = nn.LeakyReLU()\n",
        "        \n",
        "        # linear function 3\n",
        "        self.fc3 = nn.Linear(hidden_dim2, hidden_dim3)\n",
        "        self.dropout2 = nn.Dropout(0.25)\n",
        "        # non-linearity 3\n",
        "        self.relu3 = nn.LeakyReLU()\n",
        "        \n",
        "        # linear function 4 (readout) \n",
        "        self.fc4 = nn.Linear(hidden_dim3, output_dim)\n",
        "        \n",
        "    def forward(self, x):\n",
        "        # linear function 1\n",
        "        out = self.fc1(x)\n",
        "        #out = self.dropout1(out)\n",
        "        # non-linearity 1\n",
        "        out = self.relu1(out)\n",
        "        \n",
        "        # linear function 2\n",
        "        out = self.fc2(out)\n",
        "        #out = self.dropout1(out)\n",
        "        # non-linearity 2\n",
        "        out = self.relu2(out)\n",
        "        \n",
        "        # linear function 3\n",
        "        out = self.fc3(out)\n",
        "        out = self.dropout2(out)\n",
        "        # non-linearity 3\n",
        "        out = self.relu3(out)\n",
        "        \n",
        "        #linear function 4 (readout)\n",
        "        out = self.fc4(out)\n",
        "        return out       \n",
        "    "
      ],
      "execution_count": null,
      "outputs": []
    },
    {
      "cell_type": "code",
      "metadata": {
        "id": "P-Q-qM2TjG1s"
      },
      "source": [
        "#  Instantiate model class\n",
        "input_dim = 3*32*32\n",
        "output_dim = 10\n",
        "hidden_dim1 = 1530\n",
        "hidden_dim2 = 768\n",
        "hidden_dim3 = 384 \n",
        "\n",
        "model = FeedforwardNeuralNetworkModel(input_dim, hidden_dim1, hidden_dim2, hidden_dim3, output_dim)\n",
        "\n",
        "#######################\n",
        "#  USE GPU FOR MODEL  #\n",
        "#######################\n",
        "if torch.cuda.is_available():\n",
        "    model.cuda()\n",
        "    "
      ],
      "execution_count": null,
      "outputs": []
    },
    {
      "cell_type": "code",
      "metadata": {
        "colab": {
          "base_uri": "https://localhost:8080/"
        },
        "id": "F4GPSRqnb63I",
        "outputId": "24dcc76b-cb92-4094-b5f7-9ff87cf92073"
      },
      "source": [
        "summary(model, (1,3*32*32))"
      ],
      "execution_count": null,
      "outputs": [
        {
          "output_type": "stream",
          "text": [
            "----------------------------------------------------------------\n",
            "        Layer (type)               Output Shape         Param #\n",
            "================================================================\n",
            "            Linear-1              [-1, 1, 1530]       4,701,690\n",
            "         LeakyReLU-2              [-1, 1, 1530]               0\n",
            "            Linear-3               [-1, 1, 768]       1,175,808\n",
            "         LeakyReLU-4               [-1, 1, 768]               0\n",
            "            Linear-5               [-1, 1, 384]         295,296\n",
            "           Dropout-6               [-1, 1, 384]               0\n",
            "         LeakyReLU-7               [-1, 1, 384]               0\n",
            "            Linear-8                [-1, 1, 10]           3,850\n",
            "================================================================\n",
            "Total params: 6,176,644\n",
            "Trainable params: 6,176,644\n",
            "Non-trainable params: 0\n",
            "----------------------------------------------------------------\n",
            "Input size (MB): 0.01\n",
            "Forward/backward pass size (MB): 0.04\n",
            "Params size (MB): 23.56\n",
            "Estimated Total Size (MB): 23.62\n",
            "----------------------------------------------------------------\n"
          ],
          "name": "stdout"
        }
      ]
    },
    {
      "cell_type": "code",
      "metadata": {
        "id": "D9N9mdWtVWRt"
      },
      "source": [
        "#  Instantiate loss class\n",
        "criterion=nn.CrossEntropyLoss()\n",
        "\n",
        "#  Instantiate optimizer class\n",
        "learning_rate = 0.001\n",
        "LAMBDA = 0.09\n",
        "optimizer = torch.optim.SGD(model.parameters(), lr=learning_rate, weight_decay=LAMBDA)"
      ],
      "execution_count": null,
      "outputs": []
    },
    {
      "cell_type": "markdown",
      "metadata": {
        "id": "iwA9PbLJ4L2W"
      },
      "source": [
        "#### Train the model"
      ]
    },
    {
      "cell_type": "code",
      "metadata": {
        "colab": {
          "base_uri": "https://localhost:8080/"
        },
        "id": "tBIal1Vz8afU",
        "outputId": "fd019878-e515-4b58-eef3-01a304871e95"
      },
      "source": [
        "start_time = time.time()\n",
        "minibatch_cost = []\n",
        "epoch_cost = []\n",
        "for epoch in range(num_epochs):\n",
        "    model.train()\n",
        "    for batch_idx, (features, targets) in enumerate(train_loader):\n",
        "        \n",
        "        features = features.view(-1, 3*32*32).to(device)\n",
        "        targets = targets.to(device)    \n",
        "        ### FORWARD AND BACK PROP\n",
        "        outputs = model(features)\n",
        "        \n",
        "        cost = criterion(outputs, targets)\n",
        "        optimizer.zero_grad()\n",
        "        \n",
        "        cost.backward()\n",
        "        minibatch_cost.append(cost)\n",
        "        ### UPDATE MODEL PARAMETERS\n",
        "        optimizer.step()\n",
        "        \n",
        "        ### LOGGING\n",
        "        if not batch_idx % 500:\n",
        "            print ('Epoch: %03d/%03d | Batch %03d/%03d | Cost: %.4f' \n",
        "                   %(epoch+1, num_epochs, batch_idx, \n",
        "                     len(train_loader), cost))\n",
        "       \n",
        "    model.eval()\n",
        "    with torch.no_grad():\n",
        "        cost = compute_loss(model, train_loader)\n",
        "        epoch_cost.append(cost)\n",
        "        print('Epoch: %03d/%03d Train Cost: %.4f' % (\n",
        "                epoch+1, num_epochs, cost))\n",
        "        print('Time elapsed: %.2f min' % ((time.time() - start_time)/60))\n",
        "\n",
        "        \n",
        "model.eval()\n",
        "with torch.no_grad():\n",
        "    print('Total Training Time: %.2f min' % ((time.time() - start_time)/60))\n",
        "\n",
        "    print('Training Accuracy: %.2f' % compute_accuracy(model, train_loader))\n",
        "    print('Test Accuracy: %.2f' % compute_accuracy(model, test_loader))"
      ],
      "execution_count": null,
      "outputs": [
        {
          "output_type": "stream",
          "text": [
            "Epoch: 001/020 | Batch 000/391 | Cost: 11.9137\n",
            "Epoch: 001/020 Train Cost: 1.7357\n",
            "Time elapsed: 0.06 min\n",
            "Epoch: 002/020 | Batch 000/391 | Cost: 1.7874\n",
            "Epoch: 002/020 Train Cost: 1.6275\n",
            "Time elapsed: 0.12 min\n",
            "Epoch: 003/020 | Batch 000/391 | Cost: 1.5782\n",
            "Epoch: 003/020 Train Cost: 1.5847\n",
            "Time elapsed: 0.18 min\n",
            "Epoch: 004/020 | Batch 000/391 | Cost: 1.6649\n",
            "Epoch: 004/020 Train Cost: 1.5310\n",
            "Time elapsed: 0.23 min\n",
            "Epoch: 005/020 | Batch 000/391 | Cost: 1.6077\n",
            "Epoch: 005/020 Train Cost: 1.5155\n",
            "Time elapsed: 0.29 min\n",
            "Epoch: 006/020 | Batch 000/391 | Cost: 1.4629\n",
            "Epoch: 006/020 Train Cost: 1.5373\n",
            "Time elapsed: 0.35 min\n",
            "Epoch: 007/020 | Batch 000/391 | Cost: 1.5562\n",
            "Epoch: 007/020 Train Cost: 1.4886\n",
            "Time elapsed: 0.41 min\n",
            "Epoch: 008/020 | Batch 000/391 | Cost: 1.5789\n",
            "Epoch: 008/020 Train Cost: 1.4345\n",
            "Time elapsed: 0.46 min\n",
            "Epoch: 009/020 | Batch 000/391 | Cost: 1.5385\n",
            "Epoch: 009/020 Train Cost: 1.4407\n",
            "Time elapsed: 0.52 min\n",
            "Epoch: 010/020 | Batch 000/391 | Cost: 1.3597\n",
            "Epoch: 010/020 Train Cost: 1.4061\n",
            "Time elapsed: 0.58 min\n",
            "Epoch: 011/020 | Batch 000/391 | Cost: 1.5116\n",
            "Epoch: 011/020 Train Cost: 1.4018\n",
            "Time elapsed: 0.64 min\n",
            "Epoch: 012/020 | Batch 000/391 | Cost: 1.4274\n",
            "Epoch: 012/020 Train Cost: 1.3995\n",
            "Time elapsed: 0.69 min\n",
            "Epoch: 013/020 | Batch 000/391 | Cost: 1.3623\n",
            "Epoch: 013/020 Train Cost: 1.3759\n",
            "Time elapsed: 0.75 min\n",
            "Epoch: 014/020 | Batch 000/391 | Cost: 1.3538\n",
            "Epoch: 014/020 Train Cost: 1.3510\n",
            "Time elapsed: 0.81 min\n",
            "Epoch: 015/020 | Batch 000/391 | Cost: 1.3255\n",
            "Epoch: 015/020 Train Cost: 1.3829\n",
            "Time elapsed: 0.87 min\n",
            "Epoch: 016/020 | Batch 000/391 | Cost: 1.3393\n",
            "Epoch: 016/020 Train Cost: 1.3642\n",
            "Time elapsed: 0.93 min\n",
            "Epoch: 017/020 | Batch 000/391 | Cost: 1.2776\n",
            "Epoch: 017/020 Train Cost: 1.3680\n",
            "Time elapsed: 0.98 min\n",
            "Epoch: 018/020 | Batch 000/391 | Cost: 1.2839\n",
            "Epoch: 018/020 Train Cost: 1.3730\n",
            "Time elapsed: 1.04 min\n",
            "Epoch: 019/020 | Batch 000/391 | Cost: 1.7107\n",
            "Epoch: 019/020 Train Cost: 1.3524\n",
            "Time elapsed: 1.10 min\n",
            "Epoch: 020/020 | Batch 000/391 | Cost: 1.3919\n",
            "Epoch: 020/020 Train Cost: 1.3779\n",
            "Time elapsed: 1.15 min\n",
            "Total Training Time: 1.15 min\n",
            "Training Accuracy: 51.79\n",
            "Test Accuracy: 48.03\n"
          ],
          "name": "stdout"
        }
      ]
    },
    {
      "cell_type": "code",
      "metadata": {
        "colab": {
          "base_uri": "https://localhost:8080/",
          "height": 350
        },
        "id": "dBqbFu9i4L2W",
        "outputId": "af99ffb5-4b46-4c77-ff85-109f69e41a76"
      },
      "source": [
        "#Plot the loss curve\n",
        "\n",
        "plt.figure(figsize=(8,5))\n",
        "plt.plot(range(len(epoch_cost)), epoch_cost)\n",
        "plt.xlabel(\"Epoch\")\n",
        "plt.ylabel(\"Cross entropy loss\")\n",
        "plt.title(\"Loss of training\")\n",
        "plt.show()"
      ],
      "execution_count": null,
      "outputs": [
        {
          "output_type": "display_data",
          "data": {
            "image/png": "[encoded data removed]",
            "text/plain": [
              "<Figure size 576x360 with 1 Axes>"
            ]
          },
          "metadata": {
            "tags": []
          }
        }
      ]
    },
    {
      "cell_type": "markdown",
      "metadata": {
        "id": "zI7P2o5cNErL"
      },
      "source": [
        "## **Optimization:** Different optimizers and batch normalization"
      ]
    },
    {
      "cell_type": "markdown",
      "metadata": {
        "id": "hPJd1fysO9oN"
      },
      "source": [
        "## 1. SGD"
      ]
    },
    {
      "cell_type": "markdown",
      "metadata": {
        "id": "QjG14FFAMYp3"
      },
      "source": [
        "### Model C: 3 Hidden Layers Feedforward Neural Network (ReLU and LeakyReLU Activation functions)"
      ]
    },
    {
      "cell_type": "markdown",
      "metadata": {
        "id": "GUUmnS9eMYp3"
      },
      "source": [
        "#### Make dataset iterable"
      ]
    },
    {
      "cell_type": "code",
      "metadata": {
        "colab": {
          "base_uri": "https://localhost:8080/"
        },
        "id": "49iT4eU9MYp4",
        "outputId": "266c1c23-47ce-458e-db42-45ad1d03f7de"
      },
      "source": [
        "batch_size = 128\n",
        "n_iters = 8000\n",
        "num_epochs = n_iters / (len(train_data) / batch_size)\n",
        "num_epochs = int(num_epochs)\n",
        "print(num_epochs)"
      ],
      "execution_count": null,
      "outputs": [
        {
          "output_type": "stream",
          "text": [
            "20\n"
          ],
          "name": "stdout"
        }
      ]
    },
    {
      "cell_type": "code",
      "metadata": {
        "id": "1StAQXWRMYp7"
      },
      "source": [
        "train_loader = DataLoader(train_dataset, batch_size=batch_size, shuffle=True) # create your dataloader\n",
        "\n",
        "test_loader = DataLoader(test_dataset, batch_size=batch_size,  shuffle=False) # create your dataloader"
      ],
      "execution_count": null,
      "outputs": []
    },
    {
      "cell_type": "markdown",
      "metadata": {
        "id": "WDHtjznvMYp7"
      },
      "source": [
        "### Create model class"
      ]
    },
    {
      "cell_type": "code",
      "metadata": {
        "id": "12AUVzrdMYp7"
      },
      "source": [
        "class FeedforwardNeuralNetworkModel(nn.Module):\n",
        "    def __init__(self, input_size, hidden_size1,hidden_size2,hidden_size3, num_classes):\n",
        "        super(FeedforwardNeuralNetworkModel, self).__init__()\n",
        "        # linear function 1\n",
        "        self.fc1 = nn.Linear(input_dim, hidden_dim1)\n",
        "        self.dropout1 = nn.Dropout(0.2)\n",
        "        # non-linearity 1\n",
        "        self.relu1 = nn.LeakyReLU()\n",
        "        \n",
        "        # linear function 2\n",
        "        self.fc2 = nn.Linear(hidden_dim1, hidden_dim2)\n",
        "        # non-linearity 2\n",
        "        self.relu2 = nn.LeakyReLU()\n",
        "        \n",
        "        # linear function 3\n",
        "        self.fc3 = nn.Linear(hidden_dim2, hidden_dim3)\n",
        "        self.dropout2 = nn.Dropout(0.3)\n",
        "        # non-linearity 3\n",
        "        self.relu3 = nn.ReLU()\n",
        "        \n",
        "        # linear function 4 (readout)\n",
        "        self.fc4 = nn.Linear(hidden_dim3, output_dim)\n",
        "        \n",
        "    def forward(self, x):\n",
        "        # linear function 1\n",
        "        out = self.fc1(x)\n",
        "        out = self.dropout1(out)\n",
        "        # non-linearity 1\n",
        "        out = self.relu1(out)\n",
        "        \n",
        "        # linear function 2\n",
        "        out = self.fc2(out)\n",
        "        # non-linearity 2\n",
        "        out = self.relu2(out)\n",
        "        \n",
        "        # linear function 3\n",
        "        out = self.fc3(out)\n",
        "        out = self.dropout2(out)\n",
        "        # non-linearity 3\n",
        "        out = self.relu3(out)\n",
        "        \n",
        "        #linear function 4 (readout)\n",
        "        out = self.fc4(out)\n",
        "        return out       \n",
        "    "
      ],
      "execution_count": null,
      "outputs": []
    },
    {
      "cell_type": "code",
      "metadata": {
        "id": "1LWfFZe7MYp7"
      },
      "source": [
        "#  Instantiate model class\n",
        "input_dim = 3*32*32\n",
        "output_dim = 10\n",
        "hidden_dim1 = 700\n",
        "hidden_dim2 = 1200\n",
        "hidden_dim3 = 512 \n",
        "\n",
        "model = FeedforwardNeuralNetworkModel(input_dim, hidden_dim1, hidden_dim2, hidden_dim3, output_dim)\n",
        "\n",
        "#######################\n",
        "#  USE GPU FOR MODEL  #\n",
        "#######################\n",
        "if torch.cuda.is_available():\n",
        "    model.cuda()\n",
        "    "
      ],
      "execution_count": null,
      "outputs": []
    },
    {
      "cell_type": "code",
      "metadata": {
        "colab": {
          "base_uri": "https://localhost:8080/"
        },
        "id": "LxQf1G9NMYp7",
        "outputId": "49d1ee3c-3191-4830-a3e7-84d01274cfd3"
      },
      "source": [
        "summary(model, (1,3*32*32))"
      ],
      "execution_count": null,
      "outputs": [
        {
          "output_type": "stream",
          "text": [
            "----------------------------------------------------------------\n",
            "        Layer (type)               Output Shape         Param #\n",
            "================================================================\n",
            "            Linear-1               [-1, 1, 700]       2,151,100\n",
            "           Dropout-2               [-1, 1, 700]               0\n",
            "         LeakyReLU-3               [-1, 1, 700]               0\n",
            "            Linear-4              [-1, 1, 1200]         841,200\n",
            "         LeakyReLU-5              [-1, 1, 1200]               0\n",
            "            Linear-6               [-1, 1, 512]         614,912\n",
            "           Dropout-7               [-1, 1, 512]               0\n",
            "              ReLU-8               [-1, 1, 512]               0\n",
            "            Linear-9                [-1, 1, 10]           5,130\n",
            "================================================================\n",
            "Total params: 3,612,342\n",
            "Trainable params: 3,612,342\n",
            "Non-trainable params: 0\n",
            "----------------------------------------------------------------\n",
            "Input size (MB): 0.01\n",
            "Forward/backward pass size (MB): 0.05\n",
            "Params size (MB): 13.78\n",
            "Estimated Total Size (MB): 13.84\n",
            "----------------------------------------------------------------\n"
          ],
          "name": "stdout"
        }
      ]
    },
    {
      "cell_type": "code",
      "metadata": {
        "id": "HrwJXZkRMYp8"
      },
      "source": [
        "#  Instantiate loss class\n",
        "criterion=nn.CrossEntropyLoss()\n",
        "\n",
        "#  Instantiate optimizer class\n",
        "learning_rate = 0.001\n",
        "LAMBDA = 0.08\n",
        "optimizer = torch.optim.SGD(model.parameters(), lr=learning_rate, weight_decay=LAMBDA)"
      ],
      "execution_count": null,
      "outputs": []
    },
    {
      "cell_type": "markdown",
      "metadata": {
        "id": "yp02aK8lMYp8"
      },
      "source": [
        "#### Train the model"
      ]
    },
    {
      "cell_type": "code",
      "metadata": {
        "colab": {
          "base_uri": "https://localhost:8080/"
        },
        "id": "-FkChkETMYp8",
        "outputId": "61b1667d-25b1-4a18-c957-baaa283baefb"
      },
      "source": [
        "start_time = time.time()\n",
        "minibatch_cost = []\n",
        "epoch_cost = []\n",
        "for epoch in range(num_epochs):\n",
        "    model.train()\n",
        "    for batch_idx, (features, targets) in enumerate(train_loader):\n",
        "        \n",
        "        features = features.view(-1, 3*32*32).to(device)\n",
        "        targets = targets.to(device)    \n",
        "        ### FORWARD AND BACK PROP\n",
        "        outputs = model(features)\n",
        "        \n",
        "        cost = criterion(outputs, targets)\n",
        "        optimizer.zero_grad()\n",
        "        \n",
        "        cost.backward()\n",
        "        minibatch_cost.append(cost)\n",
        "        ### UPDATE MODEL PARAMETERS\n",
        "        optimizer.step()\n",
        "        \n",
        "        ### LOGGING\n",
        "        if not batch_idx % 500:\n",
        "            print ('Epoch: %03d/%03d | Batch %03d/%03d | Cost: %.4f' \n",
        "                   %(epoch+1, num_epochs, batch_idx, \n",
        "                     len(train_loader), cost))\n",
        "       \n",
        "    model.eval()\n",
        "    with torch.no_grad():\n",
        "        cost = compute_loss(model, train_loader)\n",
        "        epoch_cost.append(cost)\n",
        "        print('Epoch: %03d/%03d Train Cost: %.4f' % (\n",
        "                epoch+1, num_epochs, cost))\n",
        "        print('Time elapsed: %.2f min' % ((time.time() - start_time)/60))\n",
        "\n",
        "        \n",
        "model.eval()\n",
        "with torch.no_grad():\n",
        "    print('Total Training Time: %.2f min' % ((time.time() - start_time)/60))\n",
        "\n",
        "    print('Training Accuracy: %.2f' % compute_accuracy(model, train_loader))\n",
        "    print('Test Accuracy: %.2f' % compute_accuracy(model, test_loader))"
      ],
      "execution_count": null,
      "outputs": [
        {
          "output_type": "stream",
          "text": [
            "Epoch: 001/020 | Batch 000/391 | Cost: 11.2107\n",
            "Epoch: 001/020 Train Cost: 1.8391\n",
            "Time elapsed: 0.06 min\n",
            "Epoch: 002/020 | Batch 000/391 | Cost: 1.8100\n",
            "Epoch: 002/020 Train Cost: 1.7494\n",
            "Time elapsed: 0.12 min\n",
            "Epoch: 003/020 | Batch 000/391 | Cost: 1.9003\n",
            "Epoch: 003/020 Train Cost: 1.6826\n",
            "Time elapsed: 0.18 min\n",
            "Epoch: 004/020 | Batch 000/391 | Cost: 1.7250\n",
            "Epoch: 004/020 Train Cost: 1.6269\n",
            "Time elapsed: 0.24 min\n",
            "Epoch: 005/020 | Batch 000/391 | Cost: 1.7205\n",
            "Epoch: 005/020 Train Cost: 1.5872\n",
            "Time elapsed: 0.30 min\n",
            "Epoch: 006/020 | Batch 000/391 | Cost: 1.7388\n",
            "Epoch: 006/020 Train Cost: 1.5639\n",
            "Time elapsed: 0.36 min\n",
            "Epoch: 007/020 | Batch 000/391 | Cost: 1.6524\n",
            "Epoch: 007/020 Train Cost: 1.5472\n",
            "Time elapsed: 0.42 min\n",
            "Epoch: 008/020 | Batch 000/391 | Cost: 1.5560\n",
            "Epoch: 008/020 Train Cost: 1.5031\n",
            "Time elapsed: 0.48 min\n",
            "Epoch: 009/020 | Batch 000/391 | Cost: 1.4138\n",
            "Epoch: 009/020 Train Cost: 1.5149\n",
            "Time elapsed: 0.54 min\n",
            "Epoch: 010/020 | Batch 000/391 | Cost: 1.5097\n",
            "Epoch: 010/020 Train Cost: 1.4995\n",
            "Time elapsed: 0.60 min\n",
            "Epoch: 011/020 | Batch 000/391 | Cost: 1.5623\n",
            "Epoch: 011/020 Train Cost: 1.4757\n",
            "Time elapsed: 0.66 min\n",
            "Epoch: 012/020 | Batch 000/391 | Cost: 1.4144\n",
            "Epoch: 012/020 Train Cost: 1.4398\n",
            "Time elapsed: 0.72 min\n",
            "Epoch: 013/020 | Batch 000/391 | Cost: 1.4110\n",
            "Epoch: 013/020 Train Cost: 1.4306\n",
            "Time elapsed: 0.78 min\n",
            "Epoch: 014/020 | Batch 000/391 | Cost: 1.5371\n",
            "Epoch: 014/020 Train Cost: 1.4540\n",
            "Time elapsed: 0.84 min\n",
            "Epoch: 015/020 | Batch 000/391 | Cost: 1.6463\n",
            "Epoch: 015/020 Train Cost: 1.4582\n",
            "Time elapsed: 0.90 min\n",
            "Epoch: 016/020 | Batch 000/391 | Cost: 1.5335\n",
            "Epoch: 016/020 Train Cost: 1.4310\n",
            "Time elapsed: 0.96 min\n",
            "Epoch: 017/020 | Batch 000/391 | Cost: 1.3789\n",
            "Epoch: 017/020 Train Cost: 1.4198\n",
            "Time elapsed: 1.02 min\n",
            "Epoch: 018/020 | Batch 000/391 | Cost: 1.5496\n",
            "Epoch: 018/020 Train Cost: 1.4049\n",
            "Time elapsed: 1.08 min\n",
            "Epoch: 019/020 | Batch 000/391 | Cost: 1.5647\n",
            "Epoch: 019/020 Train Cost: 1.4349\n",
            "Time elapsed: 1.14 min\n",
            "Epoch: 020/020 | Batch 000/391 | Cost: 1.5211\n",
            "Epoch: 020/020 Train Cost: 1.3905\n",
            "Time elapsed: 1.20 min\n",
            "Total Training Time: 1.20 min\n",
            "Training Accuracy: 51.00\n",
            "Test Accuracy: 48.62\n"
          ],
          "name": "stdout"
        }
      ]
    },
    {
      "cell_type": "code",
      "metadata": {
        "colab": {
          "base_uri": "https://localhost:8080/",
          "height": 350
        },
        "id": "9D6fuohFMYp8",
        "outputId": "f4fa124c-144e-4a34-9585-66bc77b5ec25"
      },
      "source": [
        "#Plot the loss curve\n",
        "\n",
        "plt.figure(figsize=(8,5))\n",
        "plt.plot(range(len(epoch_cost)), epoch_cost)\n",
        "plt.xlabel(\"Epoch\")\n",
        "plt.ylabel(\"Cross entropy loss\")\n",
        "plt.title(\"Loss of training\")\n",
        "plt.show()"
      ],
      "execution_count": null,
      "outputs": [
        {
          "output_type": "display_data",
          "data": {
            "image/png": "[encoded data removed]",
            "text/plain": [
              "<Figure size 576x360 with 1 Axes>"
            ]
          },
          "metadata": {
            "tags": []
          }
        }
      ]
    },
    {
      "cell_type": "markdown",
      "metadata": {
        "id": "uIFxFNUnO9oO"
      },
      "source": [
        "## 2. SGD Momentum"
      ]
    },
    {
      "cell_type": "markdown",
      "metadata": {
        "id": "qcu5nXGzMcAk"
      },
      "source": [
        "### Model C: 3 Hidden Layers Feedforward Neural Network (ReLU and LeakyReLU Activation functions)"
      ]
    },
    {
      "cell_type": "markdown",
      "metadata": {
        "id": "TW4Y5OLKMcAk"
      },
      "source": [
        "#### Make dataset iterable"
      ]
    },
    {
      "cell_type": "code",
      "metadata": {
        "colab": {
          "base_uri": "https://localhost:8080/"
        },
        "id": "pkk2k8u3McAk",
        "outputId": "ea924ae3-e5b3-4c11-a793-f5b13f56bf3a"
      },
      "source": [
        "batch_size = 128\n",
        "n_iters = 8000\n",
        "num_epochs = n_iters / (len(train_data) / batch_size)\n",
        "num_epochs = int(num_epochs)\n",
        "print(num_epochs)"
      ],
      "execution_count": null,
      "outputs": [
        {
          "output_type": "stream",
          "text": [
            "20\n"
          ],
          "name": "stdout"
        }
      ]
    },
    {
      "cell_type": "code",
      "metadata": {
        "id": "KgTUr8LpMcAl"
      },
      "source": [
        "train_loader = DataLoader(train_dataset, batch_size=batch_size, shuffle=True) # create your dataloader\n",
        "\n",
        "test_loader = DataLoader(test_dataset, batch_size=batch_size,  shuffle=False) # create your dataloader"
      ],
      "execution_count": null,
      "outputs": []
    },
    {
      "cell_type": "markdown",
      "metadata": {
        "id": "PPusA6YAMcAl"
      },
      "source": [
        "### Create model class"
      ]
    },
    {
      "cell_type": "code",
      "metadata": {
        "id": "8WzIj97vMcAl"
      },
      "source": [
        "class FeedforwardNeuralNetworkModel(nn.Module):\n",
        "    def __init__(self, input_size, hidden_size1,hidden_size2,hidden_size3, num_classes):\n",
        "        super(FeedforwardNeuralNetworkModel, self).__init__()\n",
        "        # linear function 1\n",
        "        self.fc1 = nn.Linear(input_dim, hidden_dim1)\n",
        "        self.dropout1 = nn.Dropout(0.2)\n",
        "        # non-linearity 1\n",
        "        self.relu1 = nn.LeakyReLU()\n",
        "        \n",
        "        # linear function 2\n",
        "        self.fc2 = nn.Linear(hidden_dim1, hidden_dim2)\n",
        "        # non-linearity 2\n",
        "        self.relu2 = nn.LeakyReLU()\n",
        "        \n",
        "        # linear function 3\n",
        "        self.fc3 = nn.Linear(hidden_dim2, hidden_dim3)\n",
        "        self.dropout2 = nn.Dropout(0.3)\n",
        "        # non-linearity 3\n",
        "        self.relu3 = nn.ReLU()\n",
        "        \n",
        "        # linear function 4 (readout)\n",
        "        self.fc4 = nn.Linear(hidden_dim3, output_dim)\n",
        "        \n",
        "    def forward(self, x):\n",
        "        # linear function 1\n",
        "        out = self.fc1(x)\n",
        "        out = self.dropout1(out)\n",
        "        # non-linearity 1\n",
        "        out = self.relu1(out)\n",
        "        \n",
        "        # linear function 2\n",
        "        out = self.fc2(out)\n",
        "        # non-linearity 2\n",
        "        out = self.relu2(out)\n",
        "        \n",
        "        # linear function 3\n",
        "        out = self.fc3(out)\n",
        "        out = self.dropout2(out)\n",
        "        # non-linearity 3\n",
        "        out = self.relu3(out)\n",
        "        \n",
        "        #linear function 4 (readout)\n",
        "        out = self.fc4(out)\n",
        "        return out       \n",
        "    "
      ],
      "execution_count": null,
      "outputs": []
    },
    {
      "cell_type": "code",
      "metadata": {
        "id": "PqCo14q-McAl"
      },
      "source": [
        "#  Instantiate model class\n",
        "input_dim = 3*32*32\n",
        "output_dim = 10\n",
        "hidden_dim1 = 700\n",
        "hidden_dim2 = 1200\n",
        "hidden_dim3 = 512 \n",
        "\n",
        "model = FeedforwardNeuralNetworkModel(input_dim, hidden_dim1, hidden_dim2, hidden_dim3, output_dim)\n",
        "\n",
        "#######################\n",
        "#  USE GPU FOR MODEL  #\n",
        "#######################\n",
        "if torch.cuda.is_available():\n",
        "    model.cuda()\n",
        "    "
      ],
      "execution_count": null,
      "outputs": []
    },
    {
      "cell_type": "code",
      "metadata": {
        "colab": {
          "base_uri": "https://localhost:8080/"
        },
        "id": "0sQefDr9McAl",
        "outputId": "57eab1c9-6a64-4ee2-beba-245d428a0493"
      },
      "source": [
        "summary(model, (1,3*32*32))"
      ],
      "execution_count": null,
      "outputs": [
        {
          "output_type": "stream",
          "text": [
            "----------------------------------------------------------------\n",
            "        Layer (type)               Output Shape         Param #\n",
            "================================================================\n",
            "            Linear-1               [-1, 1, 700]       2,151,100\n",
            "           Dropout-2               [-1, 1, 700]               0\n",
            "         LeakyReLU-3               [-1, 1, 700]               0\n",
            "            Linear-4              [-1, 1, 1200]         841,200\n",
            "         LeakyReLU-5              [-1, 1, 1200]               0\n",
            "            Linear-6               [-1, 1, 512]         614,912\n",
            "           Dropout-7               [-1, 1, 512]               0\n",
            "              ReLU-8               [-1, 1, 512]               0\n",
            "            Linear-9                [-1, 1, 10]           5,130\n",
            "================================================================\n",
            "Total params: 3,612,342\n",
            "Trainable params: 3,612,342\n",
            "Non-trainable params: 0\n",
            "----------------------------------------------------------------\n",
            "Input size (MB): 0.01\n",
            "Forward/backward pass size (MB): 0.05\n",
            "Params size (MB): 13.78\n",
            "Estimated Total Size (MB): 13.84\n",
            "----------------------------------------------------------------\n"
          ],
          "name": "stdout"
        }
      ]
    },
    {
      "cell_type": "code",
      "metadata": {
        "id": "YL70W5eYMcAl"
      },
      "source": [
        "#  Instantiate loss class\n",
        "criterion=nn.CrossEntropyLoss()\n",
        "\n",
        "#  Instantiate optimizer class\n",
        "learning_rate = 0.001\n",
        "LAMBDA = 0.08\n",
        "optimizer = torch.optim.SGD(model.parameters(), lr=learning_rate, weight_decay=LAMBDA, momentum=0.7)"
      ],
      "execution_count": null,
      "outputs": []
    },
    {
      "cell_type": "markdown",
      "metadata": {
        "id": "AyzG1R6bMcAl"
      },
      "source": [
        "#### Train the model"
      ]
    },
    {
      "cell_type": "code",
      "metadata": {
        "colab": {
          "base_uri": "https://localhost:8080/"
        },
        "id": "ufLS3VvsMcAl",
        "outputId": "4e773382-e67b-426c-f759-0789089a4839"
      },
      "source": [
        "start_time = time.time()\n",
        "minibatch_cost = []\n",
        "epoch_cost = []\n",
        "for epoch in range(num_epochs):\n",
        "    model.train()\n",
        "    for batch_idx, (features, targets) in enumerate(train_loader):\n",
        "        \n",
        "        features = features.view(-1, 3*32*32).to(device)\n",
        "        targets = targets.to(device)    \n",
        "        ### FORWARD AND BACK PROP\n",
        "        outputs = model(features)\n",
        "        \n",
        "        cost = criterion(outputs, targets)\n",
        "        optimizer.zero_grad()\n",
        "        \n",
        "        cost.backward()\n",
        "        minibatch_cost.append(cost)\n",
        "        ### UPDATE MODEL PARAMETERS\n",
        "        optimizer.step()\n",
        "        \n",
        "        ### LOGGING\n",
        "        if not batch_idx % 500:\n",
        "            print ('Epoch: %03d/%03d | Batch %03d/%03d | Cost: %.4f' \n",
        "                   %(epoch+1, num_epochs, batch_idx, \n",
        "                     len(train_loader), cost))\n",
        "       \n",
        "    model.eval()\n",
        "    with torch.no_grad():\n",
        "        cost = compute_loss(model, train_loader)\n",
        "        epoch_cost.append(cost)\n",
        "        print('Epoch: %03d/%03d Train Cost: %.4f' % (\n",
        "                epoch+1, num_epochs, cost))\n",
        "        print('Time elapsed: %.2f min' % ((time.time() - start_time)/60))\n",
        "\n",
        "        \n",
        "model.eval()\n",
        "with torch.no_grad():\n",
        "    print('Total Training Time: %.2f min' % ((time.time() - start_time)/60))\n",
        "\n",
        "    print('Training Accuracy: %.2f' % compute_accuracy(model, train_loader))\n",
        "    print('Test Accuracy: %.2f' % compute_accuracy(model, test_loader))"
      ],
      "execution_count": null,
      "outputs": [
        {
          "output_type": "stream",
          "text": [
            "Epoch: 001/020 | Batch 000/391 | Cost: 9.4511\n",
            "Epoch: 001/020 Train Cost: 1.8292\n",
            "Time elapsed: 0.06 min\n",
            "Epoch: 002/020 | Batch 000/391 | Cost: 1.8280\n",
            "Epoch: 002/020 Train Cost: 1.7555\n",
            "Time elapsed: 0.13 min\n",
            "Epoch: 003/020 | Batch 000/391 | Cost: 1.9066\n",
            "Epoch: 003/020 Train Cost: 1.6632\n",
            "Time elapsed: 0.19 min\n",
            "Epoch: 004/020 | Batch 000/391 | Cost: 1.7118\n",
            "Epoch: 004/020 Train Cost: 1.6258\n",
            "Time elapsed: 0.25 min\n",
            "Epoch: 005/020 | Batch 000/391 | Cost: 1.7468\n",
            "Epoch: 005/020 Train Cost: 1.5924\n",
            "Time elapsed: 0.31 min\n",
            "Epoch: 006/020 | Batch 000/391 | Cost: 1.8293\n",
            "Epoch: 006/020 Train Cost: 1.5588\n",
            "Time elapsed: 0.37 min\n",
            "Epoch: 007/020 | Batch 000/391 | Cost: 1.5755\n",
            "Epoch: 007/020 Train Cost: 1.5337\n",
            "Time elapsed: 0.44 min\n",
            "Epoch: 008/020 | Batch 000/391 | Cost: 1.5079\n",
            "Epoch: 008/020 Train Cost: 1.5491\n",
            "Time elapsed: 0.50 min\n",
            "Epoch: 009/020 | Batch 000/391 | Cost: 1.6266\n",
            "Epoch: 009/020 Train Cost: 1.4956\n",
            "Time elapsed: 0.56 min\n",
            "Epoch: 010/020 | Batch 000/391 | Cost: 1.4234\n",
            "Epoch: 010/020 Train Cost: 1.4876\n",
            "Time elapsed: 0.62 min\n",
            "Epoch: 011/020 | Batch 000/391 | Cost: 1.5389\n",
            "Epoch: 011/020 Train Cost: 1.4800\n",
            "Time elapsed: 0.69 min\n",
            "Epoch: 012/020 | Batch 000/391 | Cost: 1.5689\n",
            "Epoch: 012/020 Train Cost: 1.4803\n",
            "Time elapsed: 0.75 min\n",
            "Epoch: 013/020 | Batch 000/391 | Cost: 1.5600\n",
            "Epoch: 013/020 Train Cost: 1.5336\n",
            "Time elapsed: 0.81 min\n",
            "Epoch: 014/020 | Batch 000/391 | Cost: 1.4799\n",
            "Epoch: 014/020 Train Cost: 1.4814\n",
            "Time elapsed: 0.87 min\n",
            "Epoch: 015/020 | Batch 000/391 | Cost: 1.5484\n",
            "Epoch: 015/020 Train Cost: 1.4682\n",
            "Time elapsed: 0.93 min\n",
            "Epoch: 016/020 | Batch 000/391 | Cost: 1.4566\n",
            "Epoch: 016/020 Train Cost: 1.5039\n",
            "Time elapsed: 0.99 min\n",
            "Epoch: 017/020 | Batch 000/391 | Cost: 1.5946\n",
            "Epoch: 017/020 Train Cost: 1.4780\n",
            "Time elapsed: 1.05 min\n",
            "Epoch: 018/020 | Batch 000/391 | Cost: 1.5649\n",
            "Epoch: 018/020 Train Cost: 1.4671\n",
            "Time elapsed: 1.11 min\n",
            "Epoch: 019/020 | Batch 000/391 | Cost: 1.5390\n",
            "Epoch: 019/020 Train Cost: 1.4264\n",
            "Time elapsed: 1.17 min\n",
            "Epoch: 020/020 | Batch 000/391 | Cost: 1.4683\n",
            "Epoch: 020/020 Train Cost: 1.4624\n",
            "Time elapsed: 1.24 min\n",
            "Total Training Time: 1.24 min\n",
            "Training Accuracy: 47.50\n",
            "Test Accuracy: 45.91\n"
          ],
          "name": "stdout"
        }
      ]
    },
    {
      "cell_type": "code",
      "metadata": {
        "colab": {
          "base_uri": "https://localhost:8080/",
          "height": 350
        },
        "id": "AIT8CeB6McAm",
        "outputId": "94dcdb65-4aea-4a46-c0b1-adaad03a5a59"
      },
      "source": [
        "#Plot the loss curve\n",
        "\n",
        "plt.figure(figsize=(8,5))\n",
        "plt.plot(range(len(epoch_cost)), epoch_cost)\n",
        "plt.xlabel(\"Epoch\")\n",
        "plt.ylabel(\"Cross entropy loss\")\n",
        "plt.title(\"Loss of training\")\n",
        "plt.show()"
      ],
      "execution_count": null,
      "outputs": [
        {
          "output_type": "display_data",
          "data": {
            "image/png": "[encoded data removed]",
            "text/plain": [
              "<Figure size 576x360 with 1 Axes>"
            ]
          },
          "metadata": {
            "tags": []
          }
        }
      ]
    },
    {
      "cell_type": "markdown",
      "metadata": {
        "id": "Dn5NcDKsO9oQ"
      },
      "source": [
        "## 3. SGD Nesterov"
      ]
    },
    {
      "cell_type": "markdown",
      "metadata": {
        "id": "b6f1lyreMhvQ"
      },
      "source": [
        "### Model C: 3 Hidden Layers Feedforward Neural Network (ReLU and LeakyReLU Activation functions)"
      ]
    },
    {
      "cell_type": "markdown",
      "metadata": {
        "id": "KbVb8P9vMhvQ"
      },
      "source": [
        "#### Make dataset iterable"
      ]
    },
    {
      "cell_type": "code",
      "metadata": {
        "colab": {
          "base_uri": "https://localhost:8080/"
        },
        "id": "YrgT7kFfMhvQ",
        "outputId": "7173ecab-98f7-436b-b86c-1b0ece498e21"
      },
      "source": [
        "batch_size = 128\n",
        "n_iters = 8000\n",
        "num_epochs = n_iters / (len(train_data) / batch_size)\n",
        "num_epochs = int(num_epochs)\n",
        "print(num_epochs)"
      ],
      "execution_count": null,
      "outputs": [
        {
          "output_type": "stream",
          "text": [
            "20\n"
          ],
          "name": "stdout"
        }
      ]
    },
    {
      "cell_type": "code",
      "metadata": {
        "id": "57OvLAdhMhvR"
      },
      "source": [
        "train_loader = DataLoader(train_dataset, batch_size=batch_size, shuffle=True) # create your dataloader\n",
        "\n",
        "test_loader = DataLoader(test_dataset, batch_size=batch_size,  shuffle=False) # create your dataloader"
      ],
      "execution_count": null,
      "outputs": []
    },
    {
      "cell_type": "markdown",
      "metadata": {
        "id": "MfZ0smHNMhvR"
      },
      "source": [
        "### Create model class"
      ]
    },
    {
      "cell_type": "code",
      "metadata": {
        "id": "rwsl7-S8MhvR"
      },
      "source": [
        "class FeedforwardNeuralNetworkModel(nn.Module):\n",
        "    def __init__(self, input_size, hidden_size1,hidden_size2,hidden_size3, num_classes):\n",
        "        super(FeedforwardNeuralNetworkModel, self).__init__()\n",
        "        # linear function 1\n",
        "        self.fc1 = nn.Linear(input_dim, hidden_dim1)\n",
        "        self.dropout1 = nn.Dropout(0.2)\n",
        "        # non-linearity 1\n",
        "        self.relu1 = nn.LeakyReLU()\n",
        "        \n",
        "        # linear function 2\n",
        "        self.fc2 = nn.Linear(hidden_dim1, hidden_dim2)\n",
        "        # non-linearity 2\n",
        "        self.relu2 = nn.LeakyReLU()\n",
        "        \n",
        "        # linear function 3\n",
        "        self.fc3 = nn.Linear(hidden_dim2, hidden_dim3)\n",
        "        self.dropout2 = nn.Dropout(0.3)\n",
        "        # non-linearity 3\n",
        "        self.relu3 = nn.ReLU()\n",
        "        \n",
        "        # linear function 4 (readout)\n",
        "        self.fc4 = nn.Linear(hidden_dim3, output_dim)\n",
        "        \n",
        "    def forward(self, x):\n",
        "        # linear function 1\n",
        "        out = self.fc1(x)\n",
        "        out = self.dropout1(out)\n",
        "        # non-linearity 1\n",
        "        out = self.relu1(out)\n",
        "        \n",
        "        # linear function 2\n",
        "        out = self.fc2(out)\n",
        "        # non-linearity 2\n",
        "        out = self.relu2(out)\n",
        "        \n",
        "        # linear function 3\n",
        "        out = self.fc3(out)\n",
        "        out = self.dropout2(out)\n",
        "        # non-linearity 3\n",
        "        out = self.relu3(out)\n",
        "        \n",
        "        #linear function 4 (readout)\n",
        "        out = self.fc4(out)\n",
        "        return out       \n",
        "    "
      ],
      "execution_count": null,
      "outputs": []
    },
    {
      "cell_type": "code",
      "metadata": {
        "id": "pUEniR_MMhvR"
      },
      "source": [
        "#  Instantiate model class\n",
        "input_dim = 3*32*32\n",
        "output_dim = 10\n",
        "hidden_dim1 = 700\n",
        "hidden_dim2 = 1200\n",
        "hidden_dim3 = 512 \n",
        "\n",
        "model = FeedforwardNeuralNetworkModel(input_dim, hidden_dim1, hidden_dim2, hidden_dim3, output_dim)\n",
        "\n",
        "#######################\n",
        "#  USE GPU FOR MODEL  #\n",
        "#######################\n",
        "if torch.cuda.is_available():\n",
        "    model.cuda()\n",
        "    "
      ],
      "execution_count": null,
      "outputs": []
    },
    {
      "cell_type": "code",
      "metadata": {
        "colab": {
          "base_uri": "https://localhost:8080/"
        },
        "id": "KzHuhadoMhvR",
        "outputId": "9558b9a6-f507-4aaf-b9fc-b8b1aa80eafe"
      },
      "source": [
        "summary(model, (1,3*32*32))"
      ],
      "execution_count": null,
      "outputs": [
        {
          "output_type": "stream",
          "text": [
            "----------------------------------------------------------------\n",
            "        Layer (type)               Output Shape         Param #\n",
            "================================================================\n",
            "            Linear-1               [-1, 1, 700]       2,151,100\n",
            "           Dropout-2               [-1, 1, 700]               0\n",
            "         LeakyReLU-3               [-1, 1, 700]               0\n",
            "            Linear-4              [-1, 1, 1200]         841,200\n",
            "         LeakyReLU-5              [-1, 1, 1200]               0\n",
            "            Linear-6               [-1, 1, 512]         614,912\n",
            "           Dropout-7               [-1, 1, 512]               0\n",
            "              ReLU-8               [-1, 1, 512]               0\n",
            "            Linear-9                [-1, 1, 10]           5,130\n",
            "================================================================\n",
            "Total params: 3,612,342\n",
            "Trainable params: 3,612,342\n",
            "Non-trainable params: 0\n",
            "----------------------------------------------------------------\n",
            "Input size (MB): 0.01\n",
            "Forward/backward pass size (MB): 0.05\n",
            "Params size (MB): 13.78\n",
            "Estimated Total Size (MB): 13.84\n",
            "----------------------------------------------------------------\n"
          ],
          "name": "stdout"
        }
      ]
    },
    {
      "cell_type": "code",
      "metadata": {
        "id": "S77MnxQYMhvR"
      },
      "source": [
        "#  Instantiate loss class\n",
        "criterion=nn.CrossEntropyLoss()\n",
        "\n",
        "#  Instantiate optimizer class\n",
        "learning_rate = 0.001\n",
        "LAMBDA = 0.08\n",
        "optimizer = torch.optim.SGD(model.parameters(), lr=learning_rate, weight_decay=LAMBDA, momentum=0.7, nesterov=True)"
      ],
      "execution_count": null,
      "outputs": []
    },
    {
      "cell_type": "markdown",
      "metadata": {
        "id": "zTkSw67oMhvR"
      },
      "source": [
        "#### Train the model"
      ]
    },
    {
      "cell_type": "code",
      "metadata": {
        "colab": {
          "base_uri": "https://localhost:8080/"
        },
        "id": "Vl1UZCdqMhvR",
        "outputId": "d0cfa2f0-e43f-406f-f8bf-78b61d62ab0c"
      },
      "source": [
        "start_time = time.time()\n",
        "minibatch_cost = []\n",
        "epoch_cost = []\n",
        "for epoch in range(num_epochs):\n",
        "    model.train()\n",
        "    for batch_idx, (features, targets) in enumerate(train_loader):\n",
        "        \n",
        "        features = features.view(-1, 3*32*32).to(device)\n",
        "        targets = targets.to(device)    \n",
        "        ### FORWARD AND BACK PROP\n",
        "        outputs = model(features)\n",
        "        \n",
        "        cost = criterion(outputs, targets)\n",
        "        optimizer.zero_grad()\n",
        "        \n",
        "        cost.backward()\n",
        "        minibatch_cost.append(cost)\n",
        "        ### UPDATE MODEL PARAMETERS\n",
        "        optimizer.step()\n",
        "        \n",
        "        ### LOGGING\n",
        "        if not batch_idx % 500:\n",
        "            print ('Epoch: %03d/%03d | Batch %03d/%03d | Cost: %.4f' \n",
        "                   %(epoch+1, num_epochs, batch_idx, \n",
        "                     len(train_loader), cost))\n",
        "       \n",
        "    model.eval()\n",
        "    with torch.no_grad():\n",
        "        cost = compute_loss(model, train_loader)\n",
        "        epoch_cost.append(cost)\n",
        "        print('Epoch: %03d/%03d Train Cost: %.4f' % (\n",
        "                epoch+1, num_epochs, cost))\n",
        "        print('Time elapsed: %.2f min' % ((time.time() - start_time)/60))\n",
        "\n",
        "        \n",
        "model.eval()\n",
        "with torch.no_grad():\n",
        "    print('Total Training Time: %.2f min' % ((time.time() - start_time)/60))\n",
        "\n",
        "    print('Training Accuracy: %.2f' % compute_accuracy(model, train_loader))\n",
        "    print('Test Accuracy: %.2f' % compute_accuracy(model, test_loader))"
      ],
      "execution_count": null,
      "outputs": [
        {
          "output_type": "stream",
          "text": [
            "Epoch: 001/020 | Batch 000/391 | Cost: 11.8700\n",
            "Epoch: 001/020 Train Cost: 1.8370\n",
            "Time elapsed: 0.06 min\n",
            "Epoch: 002/020 | Batch 000/391 | Cost: 1.7952\n",
            "Epoch: 002/020 Train Cost: 1.7462\n",
            "Time elapsed: 0.12 min\n",
            "Epoch: 003/020 | Batch 000/391 | Cost: 1.7676\n",
            "Epoch: 003/020 Train Cost: 1.7176\n",
            "Time elapsed: 0.19 min\n",
            "Epoch: 004/020 | Batch 000/391 | Cost: 1.8069\n",
            "Epoch: 004/020 Train Cost: 1.6548\n",
            "Time elapsed: 0.25 min\n",
            "Epoch: 005/020 | Batch 000/391 | Cost: 1.6702\n",
            "Epoch: 005/020 Train Cost: 1.6344\n",
            "Time elapsed: 0.31 min\n",
            "Epoch: 006/020 | Batch 000/391 | Cost: 1.6754\n",
            "Epoch: 006/020 Train Cost: 1.5675\n",
            "Time elapsed: 0.37 min\n",
            "Epoch: 007/020 | Batch 000/391 | Cost: 1.5975\n",
            "Epoch: 007/020 Train Cost: 1.5823\n",
            "Time elapsed: 0.43 min\n",
            "Epoch: 008/020 | Batch 000/391 | Cost: 1.8013\n",
            "Epoch: 008/020 Train Cost: 1.5739\n",
            "Time elapsed: 0.50 min\n",
            "Epoch: 009/020 | Batch 000/391 | Cost: 1.5976\n",
            "Epoch: 009/020 Train Cost: 1.5251\n",
            "Time elapsed: 0.56 min\n",
            "Epoch: 010/020 | Batch 000/391 | Cost: 1.5160\n",
            "Epoch: 010/020 Train Cost: 1.5507\n",
            "Time elapsed: 0.62 min\n",
            "Epoch: 011/020 | Batch 000/391 | Cost: 1.6213\n",
            "Epoch: 011/020 Train Cost: 1.5138\n",
            "Time elapsed: 0.68 min\n",
            "Epoch: 012/020 | Batch 000/391 | Cost: 1.5521\n",
            "Epoch: 012/020 Train Cost: 1.5280\n",
            "Time elapsed: 0.74 min\n",
            "Epoch: 013/020 | Batch 000/391 | Cost: 1.7173\n",
            "Epoch: 013/020 Train Cost: 1.5157\n",
            "Time elapsed: 0.80 min\n",
            "Epoch: 014/020 | Batch 000/391 | Cost: 1.6766\n",
            "Epoch: 014/020 Train Cost: 1.5023\n",
            "Time elapsed: 0.86 min\n",
            "Epoch: 015/020 | Batch 000/391 | Cost: 1.5167\n",
            "Epoch: 015/020 Train Cost: 1.4515\n",
            "Time elapsed: 0.93 min\n",
            "Epoch: 016/020 | Batch 000/391 | Cost: 1.4738\n",
            "Epoch: 016/020 Train Cost: 1.4840\n",
            "Time elapsed: 0.99 min\n",
            "Epoch: 017/020 | Batch 000/391 | Cost: 1.6143\n",
            "Epoch: 017/020 Train Cost: 1.4525\n",
            "Time elapsed: 1.05 min\n",
            "Epoch: 018/020 | Batch 000/391 | Cost: 1.4678\n",
            "Epoch: 018/020 Train Cost: 1.4647\n",
            "Time elapsed: 1.11 min\n",
            "Epoch: 019/020 | Batch 000/391 | Cost: 1.4641\n",
            "Epoch: 019/020 Train Cost: 1.4705\n",
            "Time elapsed: 1.17 min\n",
            "Epoch: 020/020 | Batch 000/391 | Cost: 1.4987\n",
            "Epoch: 020/020 Train Cost: 1.4341\n",
            "Time elapsed: 1.23 min\n",
            "Total Training Time: 1.23 min\n",
            "Training Accuracy: 49.37\n",
            "Test Accuracy: 47.03\n"
          ],
          "name": "stdout"
        }
      ]
    },
    {
      "cell_type": "code",
      "metadata": {
        "colab": {
          "base_uri": "https://localhost:8080/",
          "height": 350
        },
        "id": "GPd8E7LjMhvS",
        "outputId": "a5375ce3-b3b8-4cbc-e0f8-5286467af636"
      },
      "source": [
        "#Plot the loss curve\n",
        "\n",
        "plt.figure(figsize=(8,5))\n",
        "plt.plot(range(len(epoch_cost)), epoch_cost)\n",
        "plt.xlabel(\"Epoch\")\n",
        "plt.ylabel(\"Cross entropy loss\")\n",
        "plt.title(\"Loss of training\")\n",
        "plt.show()"
      ],
      "execution_count": null,
      "outputs": [
        {
          "output_type": "display_data",
          "data": {
            "image/png": "[encoded data removed]",
            "text/plain": [
              "<Figure size 576x360 with 1 Axes>"
            ]
          },
          "metadata": {
            "tags": []
          }
        }
      ]
    },
    {
      "cell_type": "markdown",
      "metadata": {
        "id": "jbF138UBO9oU"
      },
      "source": [
        "## 4. Adam"
      ]
    },
    {
      "cell_type": "markdown",
      "metadata": {
        "id": "DGc-_qUvMobu"
      },
      "source": [
        "### Model C: 3 Hidden Layers Feedforward Neural Network (ReLU and LeakyReLU Activation functions)"
      ]
    },
    {
      "cell_type": "markdown",
      "metadata": {
        "id": "Oa3I7XznMobu"
      },
      "source": [
        "#### Make dataset iterable"
      ]
    },
    {
      "cell_type": "code",
      "metadata": {
        "colab": {
          "base_uri": "https://localhost:8080/"
        },
        "id": "Za13pbVrMobv",
        "outputId": "4812e856-8ec4-4ac8-a005-e1a4984d0744"
      },
      "source": [
        "batch_size = 128\n",
        "n_iters = 8000\n",
        "num_epochs = n_iters / (len(train_data) / batch_size)\n",
        "num_epochs = int(num_epochs)\n",
        "print(num_epochs)"
      ],
      "execution_count": null,
      "outputs": [
        {
          "output_type": "stream",
          "text": [
            "20\n"
          ],
          "name": "stdout"
        }
      ]
    },
    {
      "cell_type": "code",
      "metadata": {
        "id": "KYWeWzt3Mobv"
      },
      "source": [
        "train_loader = DataLoader(train_dataset, batch_size=batch_size, shuffle=True) # create your dataloader\n",
        "\n",
        "test_loader = DataLoader(test_dataset, batch_size=batch_size,  shuffle=False) # create your dataloader"
      ],
      "execution_count": null,
      "outputs": []
    },
    {
      "cell_type": "markdown",
      "metadata": {
        "id": "ufatJNIHMobv"
      },
      "source": [
        "### Create model class"
      ]
    },
    {
      "cell_type": "code",
      "metadata": {
        "id": "Sg-gIEJdMobv"
      },
      "source": [
        "class FeedforwardNeuralNetworkModel(nn.Module):\n",
        "    def __init__(self, input_size, hidden_size1,hidden_size2,hidden_size3, num_classes):\n",
        "        super(FeedforwardNeuralNetworkModel, self).__init__()\n",
        "        # linear function 1\n",
        "        self.fc1 = nn.Linear(input_dim, hidden_dim1)\n",
        "        self.dropout1 = nn.Dropout(0.2)\n",
        "        # non-linearity 1\n",
        "        self.relu1 = nn.LeakyReLU()\n",
        "        \n",
        "        # linear function 2\n",
        "        self.fc2 = nn.Linear(hidden_dim1, hidden_dim2)\n",
        "        # non-linearity 2\n",
        "        self.relu2 = nn.LeakyReLU()\n",
        "        \n",
        "        # linear function 3\n",
        "        self.fc3 = nn.Linear(hidden_dim2, hidden_dim3)\n",
        "        self.dropout2 = nn.Dropout(0.3)\n",
        "        # non-linearity 3\n",
        "        self.relu3 = nn.ReLU()\n",
        "        \n",
        "        # linear function 4 (readout)\n",
        "        self.fc4 = nn.Linear(hidden_dim3, output_dim)\n",
        "        \n",
        "    def forward(self, x):\n",
        "        # linear function 1\n",
        "        out = self.fc1(x)\n",
        "        out = self.dropout1(out)\n",
        "        # non-linearity 1\n",
        "        out = self.relu1(out)\n",
        "        \n",
        "        # linear function 2\n",
        "        out = self.fc2(out)\n",
        "        # non-linearity 2\n",
        "        out = self.relu2(out)\n",
        "        \n",
        "        # linear function 3\n",
        "        out = self.fc3(out)\n",
        "        out = self.dropout2(out)\n",
        "        # non-linearity 3\n",
        "        out = self.relu3(out)\n",
        "        \n",
        "        #linear function 4 (readout)\n",
        "        out = self.fc4(out)\n",
        "        return out       \n",
        "    "
      ],
      "execution_count": null,
      "outputs": []
    },
    {
      "cell_type": "code",
      "metadata": {
        "id": "nJrgC4ycMobv"
      },
      "source": [
        "#  Instantiate model class\n",
        "input_dim = 3*32*32\n",
        "output_dim = 10\n",
        "hidden_dim1 = 700\n",
        "hidden_dim2 = 1200\n",
        "hidden_dim3 = 512 \n",
        "\n",
        "model = FeedforwardNeuralNetworkModel(input_dim, hidden_dim1, hidden_dim2, hidden_dim3, output_dim)\n",
        "\n",
        "#######################\n",
        "#  USE GPU FOR MODEL  #\n",
        "#######################\n",
        "if torch.cuda.is_available():\n",
        "    model.cuda()\n",
        "    "
      ],
      "execution_count": null,
      "outputs": []
    },
    {
      "cell_type": "code",
      "metadata": {
        "colab": {
          "base_uri": "https://localhost:8080/"
        },
        "id": "LRNs18ajMobv",
        "outputId": "918ac90d-e10d-40b5-98f5-aae2291569f5"
      },
      "source": [
        "summary(model, (1,3*32*32))"
      ],
      "execution_count": null,
      "outputs": [
        {
          "output_type": "stream",
          "text": [
            "----------------------------------------------------------------\n",
            "        Layer (type)               Output Shape         Param #\n",
            "================================================================\n",
            "            Linear-1               [-1, 1, 700]       2,151,100\n",
            "           Dropout-2               [-1, 1, 700]               0\n",
            "         LeakyReLU-3               [-1, 1, 700]               0\n",
            "            Linear-4              [-1, 1, 1200]         841,200\n",
            "         LeakyReLU-5              [-1, 1, 1200]               0\n",
            "            Linear-6               [-1, 1, 512]         614,912\n",
            "           Dropout-7               [-1, 1, 512]               0\n",
            "              ReLU-8               [-1, 1, 512]               0\n",
            "            Linear-9                [-1, 1, 10]           5,130\n",
            "================================================================\n",
            "Total params: 3,612,342\n",
            "Trainable params: 3,612,342\n",
            "Non-trainable params: 0\n",
            "----------------------------------------------------------------\n",
            "Input size (MB): 0.01\n",
            "Forward/backward pass size (MB): 0.05\n",
            "Params size (MB): 13.78\n",
            "Estimated Total Size (MB): 13.84\n",
            "----------------------------------------------------------------\n"
          ],
          "name": "stdout"
        }
      ]
    },
    {
      "cell_type": "code",
      "metadata": {
        "id": "YY-GSFNVMobw"
      },
      "source": [
        "#  Instantiate loss class\n",
        "criterion=nn.CrossEntropyLoss()\n",
        "\n",
        "#  Instantiate optimizer class\n",
        "learning_rate = 0.001\n",
        "LAMBDA = 0.08\n",
        "optimizer = torch.optim.Adam(model.parameters(), lr=learning_rate, weight_decay=LAMBDA)"
      ],
      "execution_count": null,
      "outputs": []
    },
    {
      "cell_type": "markdown",
      "metadata": {
        "id": "jn31JBysMobw"
      },
      "source": [
        "#### Train the model"
      ]
    },
    {
      "cell_type": "code",
      "metadata": {
        "colab": {
          "base_uri": "https://localhost:8080/"
        },
        "id": "lxUKDyo6Mobw",
        "outputId": "5be3091f-89a9-4bc8-fa3a-19f76cad4b46"
      },
      "source": [
        "start_time = time.time()\n",
        "minibatch_cost = []\n",
        "epoch_cost = []\n",
        "for epoch in range(num_epochs):\n",
        "    model.train()\n",
        "    for batch_idx, (features, targets) in enumerate(train_loader):\n",
        "        \n",
        "        features = features.view(-1, 3*32*32).to(device)\n",
        "        targets = targets.to(device)    \n",
        "        ### FORWARD AND BACK PROP\n",
        "        outputs = model(features)\n",
        "        \n",
        "        cost = criterion(outputs, targets)\n",
        "        optimizer.zero_grad()\n",
        "        \n",
        "        cost.backward()\n",
        "        minibatch_cost.append(cost)\n",
        "        ### UPDATE MODEL PARAMETERS\n",
        "        optimizer.step()\n",
        "        \n",
        "        ### LOGGING\n",
        "        if not batch_idx % 500:\n",
        "            print ('Epoch: %03d/%03d | Batch %03d/%03d | Cost: %.4f' \n",
        "                   %(epoch+1, num_epochs, batch_idx, \n",
        "                     len(train_loader), cost))\n",
        "       \n",
        "    model.eval()\n",
        "    with torch.no_grad():\n",
        "        cost = compute_loss(model, train_loader)\n",
        "        epoch_cost.append(cost)\n",
        "        print('Epoch: %03d/%03d Train Cost: %.4f' % (\n",
        "                epoch+1, num_epochs, cost))\n",
        "        print('Time elapsed: %.2f min' % ((time.time() - start_time)/60))\n",
        "\n",
        "        \n",
        "model.eval()\n",
        "with torch.no_grad():\n",
        "    print('Total Training Time: %.2f min' % ((time.time() - start_time)/60))\n",
        "\n",
        "    print('Training Accuracy: %.2f' % compute_accuracy(model, train_loader))\n",
        "    print('Test Accuracy: %.2f' % compute_accuracy(model, test_loader))"
      ],
      "execution_count": null,
      "outputs": [
        {
          "output_type": "stream",
          "text": [
            "Epoch: 001/020 | Batch 000/391 | Cost: 16.2037\n",
            "Epoch: 001/020 Train Cost: 1.9559\n",
            "Time elapsed: 0.07 min\n",
            "Epoch: 002/020 | Batch 000/391 | Cost: 2.0145\n",
            "Epoch: 002/020 Train Cost: 1.9666\n",
            "Time elapsed: 0.13 min\n",
            "Epoch: 003/020 | Batch 000/391 | Cost: 2.0386\n",
            "Epoch: 003/020 Train Cost: 1.9505\n",
            "Time elapsed: 0.20 min\n",
            "Epoch: 004/020 | Batch 000/391 | Cost: 2.0625\n",
            "Epoch: 004/020 Train Cost: 1.8866\n",
            "Time elapsed: 0.27 min\n",
            "Epoch: 005/020 | Batch 000/391 | Cost: 2.0247\n",
            "Epoch: 005/020 Train Cost: 1.9144\n",
            "Time elapsed: 0.33 min\n",
            "Epoch: 006/020 | Batch 000/391 | Cost: 1.9358\n",
            "Epoch: 006/020 Train Cost: 1.8845\n",
            "Time elapsed: 0.40 min\n",
            "Epoch: 007/020 | Batch 000/391 | Cost: 1.9324\n",
            "Epoch: 007/020 Train Cost: 1.8608\n",
            "Time elapsed: 0.46 min\n",
            "Epoch: 008/020 | Batch 000/391 | Cost: 2.0420\n",
            "Epoch: 008/020 Train Cost: 1.9698\n",
            "Time elapsed: 0.53 min\n",
            "Epoch: 009/020 | Batch 000/391 | Cost: 2.1424\n",
            "Epoch: 009/020 Train Cost: 1.9062\n",
            "Time elapsed: 0.59 min\n",
            "Epoch: 010/020 | Batch 000/391 | Cost: 1.9941\n",
            "Epoch: 010/020 Train Cost: 1.8968\n",
            "Time elapsed: 0.66 min\n",
            "Epoch: 011/020 | Batch 000/391 | Cost: 1.9729\n",
            "Epoch: 011/020 Train Cost: 1.8458\n",
            "Time elapsed: 0.72 min\n",
            "Epoch: 012/020 | Batch 000/391 | Cost: 1.9003\n",
            "Epoch: 012/020 Train Cost: 1.9542\n",
            "Time elapsed: 0.79 min\n",
            "Epoch: 013/020 | Batch 000/391 | Cost: 1.9574\n",
            "Epoch: 013/020 Train Cost: 1.9509\n",
            "Time elapsed: 0.86 min\n",
            "Epoch: 014/020 | Batch 000/391 | Cost: 2.0158\n",
            "Epoch: 014/020 Train Cost: 1.9129\n",
            "Time elapsed: 0.92 min\n",
            "Epoch: 015/020 | Batch 000/391 | Cost: 1.8932\n",
            "Epoch: 015/020 Train Cost: 1.8885\n",
            "Time elapsed: 0.99 min\n",
            "Epoch: 016/020 | Batch 000/391 | Cost: 1.8865\n",
            "Epoch: 016/020 Train Cost: 1.9181\n",
            "Time elapsed: 1.05 min\n",
            "Epoch: 017/020 | Batch 000/391 | Cost: 1.9153\n",
            "Epoch: 017/020 Train Cost: 1.9817\n",
            "Time elapsed: 1.12 min\n",
            "Epoch: 018/020 | Batch 000/391 | Cost: 2.0928\n",
            "Epoch: 018/020 Train Cost: 1.9019\n",
            "Time elapsed: 1.18 min\n",
            "Epoch: 019/020 | Batch 000/391 | Cost: 1.9460\n",
            "Epoch: 019/020 Train Cost: 1.9412\n",
            "Time elapsed: 1.25 min\n",
            "Epoch: 020/020 | Batch 000/391 | Cost: 1.9751\n",
            "Epoch: 020/020 Train Cost: 1.8836\n",
            "Time elapsed: 1.32 min\n",
            "Total Training Time: 1.32 min\n",
            "Training Accuracy: 31.72\n",
            "Test Accuracy: 31.33\n"
          ],
          "name": "stdout"
        }
      ]
    },
    {
      "cell_type": "code",
      "metadata": {
        "colab": {
          "base_uri": "https://localhost:8080/",
          "height": 350
        },
        "id": "gn5AqDb4Mobw",
        "outputId": "8fe6aabd-4aed-4acb-b4fc-ad0826066e66"
      },
      "source": [
        "#Plot the loss curve\n",
        "\n",
        "plt.figure(figsize=(8,5))\n",
        "plt.plot(range(len(epoch_cost)), epoch_cost)\n",
        "plt.xlabel(\"Epoch\")\n",
        "plt.ylabel(\"Cross entropy loss\")\n",
        "plt.title(\"Loss of training\")\n",
        "plt.show()"
      ],
      "execution_count": null,
      "outputs": [
        {
          "output_type": "display_data",
          "data": {
            "image/png": "[encoded data removed]",
            "text/plain": [
              "<Figure size 576x360 with 1 Axes>"
            ]
          },
          "metadata": {
            "tags": []
          }
        }
      ]
    },
    {
      "cell_type": "markdown",
      "metadata": {
        "id": "JrEfo7CmO9oW"
      },
      "source": [
        "## 5. Adagrad"
      ]
    },
    {
      "cell_type": "markdown",
      "metadata": {
        "id": "Knt1HN6VNjgD"
      },
      "source": [
        "### Model C: 3 Hidden Layers Feedforward Neural Network (ReLU and LeakyReLU Activation functions)"
      ]
    },
    {
      "cell_type": "markdown",
      "metadata": {
        "id": "FeQeq7t3NjgE"
      },
      "source": [
        "#### Make dataset iterable"
      ]
    },
    {
      "cell_type": "code",
      "metadata": {
        "colab": {
          "base_uri": "https://localhost:8080/"
        },
        "id": "yazIlzkxNjgE",
        "outputId": "68e3d629-2ddc-4b9f-dd30-091c79954648"
      },
      "source": [
        "batch_size = 128\n",
        "n_iters = 8000\n",
        "num_epochs = n_iters / (len(train_data) / batch_size)\n",
        "num_epochs = int(num_epochs)\n",
        "print(num_epochs)"
      ],
      "execution_count": null,
      "outputs": [
        {
          "output_type": "stream",
          "text": [
            "20\n"
          ],
          "name": "stdout"
        }
      ]
    },
    {
      "cell_type": "code",
      "metadata": {
        "id": "OpnfLCcaNjgI"
      },
      "source": [
        "train_loader = DataLoader(train_dataset, batch_size=batch_size, shuffle=True) # create your dataloader\n",
        "\n",
        "test_loader = DataLoader(test_dataset, batch_size=batch_size,  shuffle=False) # create your dataloader"
      ],
      "execution_count": null,
      "outputs": []
    },
    {
      "cell_type": "markdown",
      "metadata": {
        "id": "rfmdJLulNjgI"
      },
      "source": [
        "### Create model class"
      ]
    },
    {
      "cell_type": "code",
      "metadata": {
        "id": "LlVsQyNuNjgI"
      },
      "source": [
        "class FeedforwardNeuralNetworkModel(nn.Module):\n",
        "    def __init__(self, input_size, hidden_size1,hidden_size2,hidden_size3, num_classes):\n",
        "        super(FeedforwardNeuralNetworkModel, self).__init__()\n",
        "        # linear function 1\n",
        "        self.fc1 = nn.Linear(input_dim, hidden_dim1)\n",
        "        self.dropout1 = nn.Dropout(0.2)\n",
        "        # non-linearity 1\n",
        "        self.relu1 = nn.LeakyReLU()\n",
        "        \n",
        "        # linear function 2\n",
        "        self.fc2 = nn.Linear(hidden_dim1, hidden_dim2)\n",
        "        # non-linearity 2\n",
        "        self.relu2 = nn.LeakyReLU()\n",
        "        \n",
        "        # linear function 3\n",
        "        self.fc3 = nn.Linear(hidden_dim2, hidden_dim3)\n",
        "        self.dropout2 = nn.Dropout(0.3)\n",
        "        # non-linearity 3\n",
        "        self.relu3 = nn.ReLU()\n",
        "        \n",
        "        # linear function 4 (readout)\n",
        "        self.fc4 = nn.Linear(hidden_dim3, output_dim)\n",
        "        \n",
        "    def forward(self, x):\n",
        "        # linear function 1\n",
        "        out = self.fc1(x)\n",
        "        out = self.dropout1(out)\n",
        "        # non-linearity 1\n",
        "        out = self.relu1(out)\n",
        "        \n",
        "        # linear function 2\n",
        "        out = self.fc2(out)\n",
        "        # non-linearity 2\n",
        "        out = self.relu2(out)\n",
        "        \n",
        "        # linear function 3\n",
        "        out = self.fc3(out)\n",
        "        out = self.dropout2(out)\n",
        "        # non-linearity 3\n",
        "        out = self.relu3(out)\n",
        "        \n",
        "        #linear function 4 (readout)\n",
        "        out = self.fc4(out)\n",
        "        return out       \n",
        "    "
      ],
      "execution_count": null,
      "outputs": []
    },
    {
      "cell_type": "code",
      "metadata": {
        "id": "zuRIwTikNjgI"
      },
      "source": [
        "#  Instantiate model class\n",
        "input_dim = 3*32*32\n",
        "output_dim = 10\n",
        "hidden_dim1 = 700\n",
        "hidden_dim2 = 1200\n",
        "hidden_dim3 = 512 \n",
        "\n",
        "model = FeedforwardNeuralNetworkModel(input_dim, hidden_dim1, hidden_dim2, hidden_dim3, output_dim)\n",
        "\n",
        "#######################\n",
        "#  USE GPU FOR MODEL  #\n",
        "#######################\n",
        "if torch.cuda.is_available():\n",
        "    model.cuda()\n",
        "    "
      ],
      "execution_count": null,
      "outputs": []
    },
    {
      "cell_type": "code",
      "metadata": {
        "colab": {
          "base_uri": "https://localhost:8080/"
        },
        "id": "2EqbGrd8NjgI",
        "outputId": "de921348-11a2-4eb7-8bb9-10b67419e187"
      },
      "source": [
        "summary(model, (1,3*32*32))"
      ],
      "execution_count": null,
      "outputs": [
        {
          "output_type": "stream",
          "text": [
            "----------------------------------------------------------------\n",
            "        Layer (type)               Output Shape         Param #\n",
            "================================================================\n",
            "            Linear-1               [-1, 1, 700]       2,151,100\n",
            "           Dropout-2               [-1, 1, 700]               0\n",
            "         LeakyReLU-3               [-1, 1, 700]               0\n",
            "            Linear-4              [-1, 1, 1200]         841,200\n",
            "         LeakyReLU-5              [-1, 1, 1200]               0\n",
            "            Linear-6               [-1, 1, 512]         614,912\n",
            "           Dropout-7               [-1, 1, 512]               0\n",
            "              ReLU-8               [-1, 1, 512]               0\n",
            "            Linear-9                [-1, 1, 10]           5,130\n",
            "================================================================\n",
            "Total params: 3,612,342\n",
            "Trainable params: 3,612,342\n",
            "Non-trainable params: 0\n",
            "----------------------------------------------------------------\n",
            "Input size (MB): 0.01\n",
            "Forward/backward pass size (MB): 0.05\n",
            "Params size (MB): 13.78\n",
            "Estimated Total Size (MB): 13.84\n",
            "----------------------------------------------------------------\n"
          ],
          "name": "stdout"
        }
      ]
    },
    {
      "cell_type": "code",
      "metadata": {
        "id": "2417gjCENjgJ"
      },
      "source": [
        "#  Instantiate loss class\n",
        "criterion=nn.CrossEntropyLoss()\n",
        "\n",
        "#  Instantiate optimizer class\n",
        "learning_rate = 0.001\n",
        "LAMBDA = 0.08\n",
        "optimizer = torch.optim.Adagrad(model.parameters(), lr=learning_rate, weight_decay=LAMBDA)"
      ],
      "execution_count": null,
      "outputs": []
    },
    {
      "cell_type": "markdown",
      "metadata": {
        "id": "Xlp6J2TiNjgJ"
      },
      "source": [
        "#### Train the model"
      ]
    },
    {
      "cell_type": "code",
      "metadata": {
        "colab": {
          "base_uri": "https://localhost:8080/"
        },
        "id": "6aNIGbm3NjgJ",
        "outputId": "2a566e5c-3563-4093-cfa8-c5db4929f01d"
      },
      "source": [
        "start_time = time.time()\n",
        "minibatch_cost = []\n",
        "epoch_cost = []\n",
        "for epoch in range(num_epochs):\n",
        "    model.train()\n",
        "    for batch_idx, (features, targets) in enumerate(train_loader):\n",
        "        \n",
        "        features = features.view(-1, 3*32*32).to(device)\n",
        "        targets = targets.to(device)    \n",
        "        ### FORWARD AND BACK PROP\n",
        "        outputs = model(features)\n",
        "        \n",
        "        cost = criterion(outputs, targets)\n",
        "        optimizer.zero_grad()\n",
        "        \n",
        "        cost.backward()\n",
        "        minibatch_cost.append(cost)\n",
        "        ### UPDATE MODEL PARAMETERS\n",
        "        optimizer.step()\n",
        "        \n",
        "        ### LOGGING\n",
        "        if not batch_idx % 500:\n",
        "            print ('Epoch: %03d/%03d | Batch %03d/%03d | Cost: %.4f' \n",
        "                   %(epoch+1, num_epochs, batch_idx, \n",
        "                     len(train_loader), cost))\n",
        "       \n",
        "    model.eval()\n",
        "    with torch.no_grad():\n",
        "        cost = compute_loss(model, train_loader)\n",
        "        epoch_cost.append(cost)\n",
        "        print('Epoch: %03d/%03d Train Cost: %.4f' % (\n",
        "                epoch+1, num_epochs, cost))\n",
        "        print('Time elapsed: %.2f min' % ((time.time() - start_time)/60))\n",
        "\n",
        "        \n",
        "model.eval()\n",
        "with torch.no_grad():\n",
        "    print('Total Training Time: %.2f min' % ((time.time() - start_time)/60))\n",
        "\n",
        "    print('Training Accuracy: %.2f' % compute_accuracy(model, train_loader))\n",
        "    print('Test Accuracy: %.2f' % compute_accuracy(model, test_loader))"
      ],
      "execution_count": null,
      "outputs": [
        {
          "output_type": "stream",
          "text": [
            "Epoch: 001/020 | Batch 000/391 | Cost: 10.2497\n",
            "Epoch: 001/020 Train Cost: 1.8385\n",
            "Time elapsed: 0.06 min\n",
            "Epoch: 002/020 | Batch 000/391 | Cost: 1.8886\n",
            "Epoch: 002/020 Train Cost: 1.7305\n",
            "Time elapsed: 0.12 min\n",
            "Epoch: 003/020 | Batch 000/391 | Cost: 1.8053\n",
            "Epoch: 003/020 Train Cost: 1.6646\n",
            "Time elapsed: 0.19 min\n",
            "Epoch: 004/020 | Batch 000/391 | Cost: 1.6620\n",
            "Epoch: 004/020 Train Cost: 1.6341\n",
            "Time elapsed: 0.25 min\n",
            "Epoch: 005/020 | Batch 000/391 | Cost: 1.6546\n",
            "Epoch: 005/020 Train Cost: 1.6017\n",
            "Time elapsed: 0.31 min\n",
            "Epoch: 006/020 | Batch 000/391 | Cost: 1.7096\n",
            "Epoch: 006/020 Train Cost: 1.5716\n",
            "Time elapsed: 0.37 min\n",
            "Epoch: 007/020 | Batch 000/391 | Cost: 1.6439\n",
            "Epoch: 007/020 Train Cost: 1.5558\n",
            "Time elapsed: 0.43 min\n",
            "Epoch: 008/020 | Batch 000/391 | Cost: 1.4705\n",
            "Epoch: 008/020 Train Cost: 1.5259\n",
            "Time elapsed: 0.49 min\n",
            "Epoch: 009/020 | Batch 000/391 | Cost: 1.5881\n",
            "Epoch: 009/020 Train Cost: 1.5248\n",
            "Time elapsed: 0.55 min\n",
            "Epoch: 010/020 | Batch 000/391 | Cost: 1.7606\n",
            "Epoch: 010/020 Train Cost: 1.5116\n",
            "Time elapsed: 0.62 min\n",
            "Epoch: 011/020 | Batch 000/391 | Cost: 1.6270\n",
            "Epoch: 011/020 Train Cost: 1.4856\n",
            "Time elapsed: 0.68 min\n",
            "Epoch: 012/020 | Batch 000/391 | Cost: 1.6462\n",
            "Epoch: 012/020 Train Cost: 1.4524\n",
            "Time elapsed: 0.74 min\n",
            "Epoch: 013/020 | Batch 000/391 | Cost: 1.5807\n",
            "Epoch: 013/020 Train Cost: 1.4583\n",
            "Time elapsed: 0.80 min\n",
            "Epoch: 014/020 | Batch 000/391 | Cost: 1.6789\n",
            "Epoch: 014/020 Train Cost: 1.4473\n",
            "Time elapsed: 0.86 min\n",
            "Epoch: 015/020 | Batch 000/391 | Cost: 1.4696\n",
            "Epoch: 015/020 Train Cost: 1.4443\n",
            "Time elapsed: 0.92 min\n",
            "Epoch: 016/020 | Batch 000/391 | Cost: 1.5524\n",
            "Epoch: 016/020 Train Cost: 1.4189\n",
            "Time elapsed: 0.99 min\n",
            "Epoch: 017/020 | Batch 000/391 | Cost: 1.5720\n",
            "Epoch: 017/020 Train Cost: 1.4579\n",
            "Time elapsed: 1.05 min\n",
            "Epoch: 018/020 | Batch 000/391 | Cost: 1.5772\n",
            "Epoch: 018/020 Train Cost: 1.4027\n",
            "Time elapsed: 1.11 min\n",
            "Epoch: 019/020 | Batch 000/391 | Cost: 1.4674\n",
            "Epoch: 019/020 Train Cost: 1.3900\n",
            "Time elapsed: 1.17 min\n",
            "Epoch: 020/020 | Batch 000/391 | Cost: 1.5363\n",
            "Epoch: 020/020 Train Cost: 1.3903\n",
            "Time elapsed: 1.23 min\n",
            "Total Training Time: 1.23 min\n",
            "Training Accuracy: 51.30\n",
            "Test Accuracy: 48.30\n"
          ],
          "name": "stdout"
        }
      ]
    },
    {
      "cell_type": "code",
      "metadata": {
        "colab": {
          "base_uri": "https://localhost:8080/",
          "height": 350
        },
        "id": "iaid3JUqNjgK",
        "outputId": "35fbba35-2dc2-40cd-97da-6269c271e6b4"
      },
      "source": [
        "#Plot the loss curve\n",
        "\n",
        "plt.figure(figsize=(8,5))\n",
        "plt.plot(range(len(epoch_cost)), epoch_cost)\n",
        "plt.xlabel(\"Epoch\")\n",
        "plt.ylabel(\"Cross entropy loss\")\n",
        "plt.title(\"Loss of training\")\n",
        "plt.show()"
      ],
      "execution_count": null,
      "outputs": [
        {
          "output_type": "display_data",
          "data": {
            "image/png": "[encoded data removed]",
            "text/plain": [
              "<Figure size 576x360 with 1 Axes>"
            ]
          },
          "metadata": {
            "tags": []
          }
        }
      ]
    },
    {
      "cell_type": "markdown",
      "metadata": {
        "id": "NCvcd-CDO9oa"
      },
      "source": [
        "## 6. Adadelta"
      ]
    },
    {
      "cell_type": "markdown",
      "metadata": {
        "id": "ntULvGKhNoG0"
      },
      "source": [
        "### Model C: 3 Hidden Layers Feedforward Neural Network (ReLU and LeakyReLU Activation functions)"
      ]
    },
    {
      "cell_type": "markdown",
      "metadata": {
        "id": "ai65MswLNoG0"
      },
      "source": [
        "#### Make dataset iterable"
      ]
    },
    {
      "cell_type": "code",
      "metadata": {
        "colab": {
          "base_uri": "https://localhost:8080/"
        },
        "id": "CJjR4gy0NoG1",
        "outputId": "b6f55035-a621-41f0-b019-e0b09c4837b0"
      },
      "source": [
        "batch_size = 128\n",
        "n_iters = 8000\n",
        "num_epochs = n_iters / (len(train_data) / batch_size)\n",
        "num_epochs = int(num_epochs)\n",
        "print(num_epochs)"
      ],
      "execution_count": null,
      "outputs": [
        {
          "output_type": "stream",
          "text": [
            "20\n"
          ],
          "name": "stdout"
        }
      ]
    },
    {
      "cell_type": "code",
      "metadata": {
        "id": "Sk8AlcX-NoG1"
      },
      "source": [
        "train_loader = DataLoader(train_dataset, batch_size=batch_size, shuffle=True) # create your dataloader\n",
        "\n",
        "test_loader = DataLoader(test_dataset, batch_size=batch_size,  shuffle=False) # create your dataloader"
      ],
      "execution_count": null,
      "outputs": []
    },
    {
      "cell_type": "markdown",
      "metadata": {
        "id": "8YhWdMohNoG1"
      },
      "source": [
        "### Create model class"
      ]
    },
    {
      "cell_type": "code",
      "metadata": {
        "id": "pnBM6PqXNoG2"
      },
      "source": [
        "class FeedforwardNeuralNetworkModel(nn.Module):\n",
        "    def __init__(self, input_size, hidden_size1,hidden_size2,hidden_size3, num_classes):\n",
        "        super(FeedforwardNeuralNetworkModel, self).__init__()\n",
        "        # linear function 1\n",
        "        self.fc1 = nn.Linear(input_dim, hidden_dim1)\n",
        "        self.dropout1 = nn.Dropout(0.2)\n",
        "        # non-linearity 1\n",
        "        self.relu1 = nn.LeakyReLU()\n",
        "        \n",
        "        # linear function 2\n",
        "        self.fc2 = nn.Linear(hidden_dim1, hidden_dim2)\n",
        "        # non-linearity 2\n",
        "        self.relu2 = nn.LeakyReLU()\n",
        "        \n",
        "        # linear function 3\n",
        "        self.fc3 = nn.Linear(hidden_dim2, hidden_dim3)\n",
        "        self.dropout2 = nn.Dropout(0.3)\n",
        "        # non-linearity 3\n",
        "        self.relu3 = nn.ReLU()\n",
        "        \n",
        "        # linear function 4 (readout)\n",
        "        self.fc4 = nn.Linear(hidden_dim3, output_dim)\n",
        "        \n",
        "    def forward(self, x):\n",
        "        # linear function 1\n",
        "        out = self.fc1(x)\n",
        "        out = self.dropout1(out)\n",
        "        # non-linearity 1\n",
        "        out = self.relu1(out)\n",
        "        \n",
        "        # linear function 2\n",
        "        out = self.fc2(out)\n",
        "        # non-linearity 2\n",
        "        out = self.relu2(out)\n",
        "        \n",
        "        # linear function 3\n",
        "        out = self.fc3(out)\n",
        "        out = self.dropout2(out)\n",
        "        # non-linearity 3\n",
        "        out = self.relu3(out)\n",
        "        \n",
        "        #linear function 4 (readout)\n",
        "        out = self.fc4(out)\n",
        "        return out       \n",
        "    "
      ],
      "execution_count": null,
      "outputs": []
    },
    {
      "cell_type": "code",
      "metadata": {
        "id": "AwPXCCbRNoG2"
      },
      "source": [
        "#  Instantiate model class\n",
        "input_dim = 3*32*32\n",
        "output_dim = 10\n",
        "hidden_dim1 = 700\n",
        "hidden_dim2 = 1200\n",
        "hidden_dim3 = 512 \n",
        "\n",
        "model = FeedforwardNeuralNetworkModel(input_dim, hidden_dim1, hidden_dim2, hidden_dim3, output_dim)\n",
        "\n",
        "#######################\n",
        "#  USE GPU FOR MODEL  #\n",
        "#######################\n",
        "if torch.cuda.is_available():\n",
        "    model.cuda()\n",
        "    "
      ],
      "execution_count": null,
      "outputs": []
    },
    {
      "cell_type": "code",
      "metadata": {
        "colab": {
          "base_uri": "https://localhost:8080/"
        },
        "id": "-lJzfmtVNoG2",
        "outputId": "a418c987-576e-4705-dffd-9756a10d4b80"
      },
      "source": [
        "summary(model, (1,3*32*32))"
      ],
      "execution_count": null,
      "outputs": [
        {
          "output_type": "stream",
          "text": [
            "----------------------------------------------------------------\n",
            "        Layer (type)               Output Shape         Param #\n",
            "================================================================\n",
            "            Linear-1               [-1, 1, 700]       2,151,100\n",
            "           Dropout-2               [-1, 1, 700]               0\n",
            "         LeakyReLU-3               [-1, 1, 700]               0\n",
            "            Linear-4              [-1, 1, 1200]         841,200\n",
            "         LeakyReLU-5              [-1, 1, 1200]               0\n",
            "            Linear-6               [-1, 1, 512]         614,912\n",
            "           Dropout-7               [-1, 1, 512]               0\n",
            "              ReLU-8               [-1, 1, 512]               0\n",
            "            Linear-9                [-1, 1, 10]           5,130\n",
            "================================================================\n",
            "Total params: 3,612,342\n",
            "Trainable params: 3,612,342\n",
            "Non-trainable params: 0\n",
            "----------------------------------------------------------------\n",
            "Input size (MB): 0.01\n",
            "Forward/backward pass size (MB): 0.05\n",
            "Params size (MB): 13.78\n",
            "Estimated Total Size (MB): 13.84\n",
            "----------------------------------------------------------------\n"
          ],
          "name": "stdout"
        }
      ]
    },
    {
      "cell_type": "code",
      "metadata": {
        "id": "ox-kY0pCNoG2"
      },
      "source": [
        "#  Instantiate loss class\n",
        "criterion=nn.CrossEntropyLoss()\n",
        "\n",
        "#  Instantiate optimizer class\n",
        "learning_rate = 0.001\n",
        "LAMBDA = 0.08\n",
        "optimizer = torch.optim.Adadelta(model.parameters(), lr=learning_rate, weight_decay=LAMBDA)"
      ],
      "execution_count": null,
      "outputs": []
    },
    {
      "cell_type": "markdown",
      "metadata": {
        "id": "HLY5UF73NoG2"
      },
      "source": [
        "#### Train the model"
      ]
    },
    {
      "cell_type": "code",
      "metadata": {
        "colab": {
          "background_save": true,
          "base_uri": "https://localhost:8080/"
        },
        "id": "8B98SASoNoG2",
        "outputId": "dd049e0b-4254-4875-c713-cfec115907ae"
      },
      "source": [
        "start_time = time.time()\n",
        "minibatch_cost = []\n",
        "epoch_cost = []\n",
        "for epoch in range(num_epochs):\n",
        "    model.train()\n",
        "    for batch_idx, (features, targets) in enumerate(train_loader):\n",
        "        \n",
        "        features = features.view(-1, 3*32*32).to(device)\n",
        "        targets = targets.to(device)    \n",
        "        ### FORWARD AND BACK PROP\n",
        "        outputs = model(features)\n",
        "        \n",
        "        cost = criterion(outputs, targets)\n",
        "        optimizer.zero_grad()\n",
        "        \n",
        "        cost.backward()\n",
        "        minibatch_cost.append(cost)\n",
        "        ### UPDATE MODEL PARAMETERS\n",
        "        optimizer.step()\n",
        "        \n",
        "        ### LOGGING\n",
        "        if not batch_idx % 500:\n",
        "            print ('Epoch: %03d/%03d | Batch %03d/%03d | Cost: %.4f' \n",
        "                   %(epoch+1, num_epochs, batch_idx, \n",
        "                     len(train_loader), cost))\n",
        "       \n",
        "    model.eval()\n",
        "    with torch.no_grad():\n",
        "        cost = compute_loss(model, train_loader)\n",
        "        epoch_cost.append(cost)\n",
        "        print('Epoch: %03d/%03d Train Cost: %.4f' % (\n",
        "                epoch+1, num_epochs, cost))\n",
        "        print('Time elapsed: %.2f min' % ((time.time() - start_time)/60))\n",
        "\n",
        "        \n",
        "model.eval()\n",
        "with torch.no_grad():\n",
        "    print('Total Training Time: %.2f min' % ((time.time() - start_time)/60))\n",
        "\n",
        "    print('Training Accuracy: %.2f' % compute_accuracy(model, train_loader))\n",
        "    print('Test Accuracy: %.2f' % compute_accuracy(model, test_loader))"
      ],
      "execution_count": null,
      "outputs": [
        {
          "output_type": "stream",
          "text": [
            "Epoch: 001/020 | Batch 000/391 | Cost: 9.6053\n",
            "Epoch: 001/020 Train Cost: 1.9787\n",
            "Time elapsed: 0.07 min\n",
            "Epoch: 002/020 | Batch 000/391 | Cost: 2.4985\n",
            "Epoch: 002/020 Train Cost: 1.8765\n",
            "Time elapsed: 0.14 min\n",
            "Epoch: 003/020 | Batch 000/391 | Cost: 2.0497\n",
            "Epoch: 003/020 Train Cost: 1.8179\n",
            "Time elapsed: 0.20 min\n",
            "Epoch: 004/020 | Batch 000/391 | Cost: 1.9087\n",
            "Epoch: 004/020 Train Cost: 1.7730\n",
            "Time elapsed: 0.27 min\n",
            "Epoch: 005/020 | Batch 000/391 | Cost: 1.8090\n",
            "Epoch: 005/020 Train Cost: 1.7386\n",
            "Time elapsed: 0.34 min\n",
            "Epoch: 006/020 | Batch 000/391 | Cost: 1.8338\n",
            "Epoch: 006/020 Train Cost: 1.7136\n",
            "Time elapsed: 0.41 min\n",
            "Epoch: 007/020 | Batch 000/391 | Cost: 1.9946\n",
            "Epoch: 007/020 Train Cost: 1.6885\n",
            "Time elapsed: 0.47 min\n",
            "Epoch: 008/020 | Batch 000/391 | Cost: 1.8158\n",
            "Epoch: 008/020 Train Cost: 1.6692\n",
            "Time elapsed: 0.54 min\n",
            "Epoch: 009/020 | Batch 000/391 | Cost: 1.8742\n",
            "Epoch: 009/020 Train Cost: 1.6438\n",
            "Time elapsed: 0.61 min\n",
            "Epoch: 010/020 | Batch 000/391 | Cost: 1.8521\n",
            "Epoch: 010/020 Train Cost: 1.6315\n",
            "Time elapsed: 0.67 min\n",
            "Epoch: 011/020 | Batch 000/391 | Cost: 1.8228\n",
            "Epoch: 011/020 Train Cost: 1.6112\n",
            "Time elapsed: 0.74 min\n",
            "Epoch: 012/020 | Batch 000/391 | Cost: 1.5997\n",
            "Epoch: 012/020 Train Cost: 1.5928\n",
            "Time elapsed: 0.81 min\n",
            "Epoch: 013/020 | Batch 000/391 | Cost: 1.7349\n",
            "Epoch: 013/020 Train Cost: 1.5772\n",
            "Time elapsed: 0.87 min\n",
            "Epoch: 014/020 | Batch 000/391 | Cost: 1.7292\n",
            "Epoch: 014/020 Train Cost: 1.5716\n",
            "Time elapsed: 0.94 min\n",
            "Epoch: 015/020 | Batch 000/391 | Cost: 1.6244\n",
            "Epoch: 015/020 Train Cost: 1.5536\n",
            "Time elapsed: 1.01 min\n",
            "Epoch: 016/020 | Batch 000/391 | Cost: 1.6277\n",
            "Epoch: 016/020 Train Cost: 1.5446\n",
            "Time elapsed: 1.07 min\n",
            "Epoch: 017/020 | Batch 000/391 | Cost: 1.6016\n",
            "Epoch: 017/020 Train Cost: 1.5327\n",
            "Time elapsed: 1.14 min\n",
            "Epoch: 018/020 | Batch 000/391 | Cost: 1.7009\n",
            "Epoch: 018/020 Train Cost: 1.5209\n",
            "Time elapsed: 1.21 min\n",
            "Epoch: 019/020 | Batch 000/391 | Cost: 1.7314\n",
            "Epoch: 019/020 Train Cost: 1.5091\n",
            "Time elapsed: 1.27 min\n",
            "Epoch: 020/020 | Batch 000/391 | Cost: 1.5721\n",
            "Epoch: 020/020 Train Cost: 1.4977\n",
            "Time elapsed: 1.34 min\n",
            "Total Training Time: 1.34 min\n",
            "Training Accuracy: 48.09\n",
            "Test Accuracy: 46.01\n"
          ],
          "name": "stdout"
        }
      ]
    },
    {
      "cell_type": "code",
      "metadata": {
        "colab": {
          "background_save": true
        },
        "id": "bszaw7tHNoG3",
        "outputId": "8b3b113c-7d94-4957-d340-0c0b464586d2"
      },
      "source": [
        "#Plot the loss curve\n",
        "\n",
        "plt.figure(figsize=(8,5))\n",
        "plt.plot(range(len(epoch_cost)), epoch_cost)\n",
        "plt.xlabel(\"Epoch\")\n",
        "plt.ylabel(\"Cross entropy loss\")\n",
        "plt.title(\"Loss of training\")\n",
        "plt.show()"
      ],
      "execution_count": null,
      "outputs": [
        {
          "output_type": "display_data",
          "data": {
            "image/png": "[encoded data removed]",
            "text/plain": [
              "<Figure size 576x360 with 1 Axes>"
            ]
          },
          "metadata": {
            "tags": []
          }
        }
      ]
    },
    {
      "cell_type": "markdown",
      "metadata": {
        "id": "C1l2uSvRO9oc"
      },
      "source": [
        "## 7. Adamax"
      ]
    },
    {
      "cell_type": "markdown",
      "metadata": {
        "id": "yGvrACjRNtoU"
      },
      "source": [
        "### Model C: 3 Hidden Layers Feedforward Neural Network (ReLU and LeakyReLU Activation functions)"
      ]
    },
    {
      "cell_type": "markdown",
      "metadata": {
        "id": "9ojT9bEeNtoU"
      },
      "source": [
        "#### Make dataset iterable"
      ]
    },
    {
      "cell_type": "code",
      "metadata": {
        "colab": {
          "base_uri": "https://localhost:8080/"
        },
        "id": "jBNKa1EuNtoU",
        "outputId": "092b9b78-8d61-4cf8-d786-9654448659cc"
      },
      "source": [
        "batch_size = 128\n",
        "n_iters = 8000\n",
        "num_epochs = n_iters / (len(train_data) / batch_size)\n",
        "num_epochs = int(num_epochs)\n",
        "print(num_epochs)"
      ],
      "execution_count": 156,
      "outputs": [
        {
          "output_type": "stream",
          "text": [
            "20\n"
          ],
          "name": "stdout"
        }
      ]
    },
    {
      "cell_type": "code",
      "metadata": {
        "id": "0dfTybVsNtoV"
      },
      "source": [
        "train_loader = DataLoader(train_dataset, batch_size=batch_size, shuffle=True) # create your dataloader\n",
        "\n",
        "test_loader = DataLoader(test_dataset, batch_size=batch_size,  shuffle=False) # create your dataloader"
      ],
      "execution_count": 157,
      "outputs": []
    },
    {
      "cell_type": "markdown",
      "metadata": {
        "id": "JATk6ybSNtoV"
      },
      "source": [
        "### Create model class"
      ]
    },
    {
      "cell_type": "code",
      "metadata": {
        "id": "hqLNcV3nNtoV"
      },
      "source": [
        "class FeedforwardNeuralNetworkModel(nn.Module):\n",
        "    def __init__(self, input_size, hidden_size1,hidden_size2,hidden_size3, num_classes):\n",
        "        super(FeedforwardNeuralNetworkModel, self).__init__()\n",
        "        # linear function 1\n",
        "        self.fc1 = nn.Linear(input_dim, hidden_dim1)\n",
        "        self.dropout1 = nn.Dropout(0.2)\n",
        "        # non-linearity 1\n",
        "        self.relu1 = nn.LeakyReLU()\n",
        "        \n",
        "        # linear function 2\n",
        "        self.fc2 = nn.Linear(hidden_dim1, hidden_dim2)\n",
        "        # non-linearity 2\n",
        "        self.relu2 = nn.LeakyReLU()\n",
        "        \n",
        "        # linear function 3\n",
        "        self.fc3 = nn.Linear(hidden_dim2, hidden_dim3)\n",
        "        self.dropout2 = nn.Dropout(0.3)\n",
        "        # non-linearity 3\n",
        "        self.relu3 = nn.ReLU()\n",
        "        \n",
        "        # linear function 4 (readout)\n",
        "        self.fc4 = nn.Linear(hidden_dim3, output_dim)\n",
        "        \n",
        "    def forward(self, x):\n",
        "        # linear function 1\n",
        "        out = self.fc1(x)\n",
        "        out = self.dropout1(out)\n",
        "        # non-linearity 1\n",
        "        out = self.relu1(out)\n",
        "        \n",
        "        # linear function 2\n",
        "        out = self.fc2(out)\n",
        "        # non-linearity 2\n",
        "        out = self.relu2(out)\n",
        "        \n",
        "        # linear function 3\n",
        "        out = self.fc3(out)\n",
        "        out = self.dropout2(out)\n",
        "        # non-linearity 3\n",
        "        out = self.relu3(out)\n",
        "        \n",
        "        #linear function 4 (readout)\n",
        "        out = self.fc4(out)\n",
        "        return out       \n",
        "    "
      ],
      "execution_count": 158,
      "outputs": []
    },
    {
      "cell_type": "code",
      "metadata": {
        "id": "WuRe9TjHNtoV"
      },
      "source": [
        "#  Instantiate model class\n",
        "input_dim = 3*32*32\n",
        "output_dim = 10\n",
        "hidden_dim1 = 700\n",
        "hidden_dim2 = 1200\n",
        "hidden_dim3 = 512 \n",
        "\n",
        "model = FeedforwardNeuralNetworkModel(input_dim, hidden_dim1, hidden_dim2, hidden_dim3, output_dim)\n",
        "\n",
        "#######################\n",
        "#  USE GPU FOR MODEL  #\n",
        "#######################\n",
        "if torch.cuda.is_available():\n",
        "    model.cuda()\n",
        "    "
      ],
      "execution_count": 159,
      "outputs": []
    },
    {
      "cell_type": "code",
      "metadata": {
        "colab": {
          "base_uri": "https://localhost:8080/"
        },
        "id": "Wxz3d7peNtoV",
        "outputId": "fb9ac92d-3a45-47cc-9366-08a397418f1a"
      },
      "source": [
        "summary(model, (1,3*32*32))"
      ],
      "execution_count": 160,
      "outputs": [
        {
          "output_type": "stream",
          "text": [
            "----------------------------------------------------------------\n",
            "        Layer (type)               Output Shape         Param #\n",
            "================================================================\n",
            "            Linear-1               [-1, 1, 700]       2,151,100\n",
            "           Dropout-2               [-1, 1, 700]               0\n",
            "         LeakyReLU-3               [-1, 1, 700]               0\n",
            "            Linear-4              [-1, 1, 1200]         841,200\n",
            "         LeakyReLU-5              [-1, 1, 1200]               0\n",
            "            Linear-6               [-1, 1, 512]         614,912\n",
            "           Dropout-7               [-1, 1, 512]               0\n",
            "              ReLU-8               [-1, 1, 512]               0\n",
            "            Linear-9                [-1, 1, 10]           5,130\n",
            "================================================================\n",
            "Total params: 3,612,342\n",
            "Trainable params: 3,612,342\n",
            "Non-trainable params: 0\n",
            "----------------------------------------------------------------\n",
            "Input size (MB): 0.01\n",
            "Forward/backward pass size (MB): 0.05\n",
            "Params size (MB): 13.78\n",
            "Estimated Total Size (MB): 13.84\n",
            "----------------------------------------------------------------\n"
          ],
          "name": "stdout"
        }
      ]
    },
    {
      "cell_type": "code",
      "metadata": {
        "id": "0HdgSKUHNtoV"
      },
      "source": [
        "#  Instantiate loss class\n",
        "criterion=nn.CrossEntropyLoss()\n",
        "\n",
        "#  Instantiate optimizer class\n",
        "learning_rate = 0.001\n",
        "LAMBDA = 0.08\n",
        "optimizer = torch.optim.Adamax(model.parameters(), lr=learning_rate, weight_decay=LAMBDA)"
      ],
      "execution_count": 161,
      "outputs": []
    },
    {
      "cell_type": "markdown",
      "metadata": {
        "id": "ryagQDpjNtoV"
      },
      "source": [
        "#### Train the model"
      ]
    },
    {
      "cell_type": "code",
      "metadata": {
        "id": "GCVmA3ylNtoV",
        "colab": {
          "base_uri": "https://localhost:8080/"
        },
        "outputId": "e2c34932-5961-4641-82a8-94794bda25cf"
      },
      "source": [
        "start_time = time.time()\n",
        "minibatch_cost = []\n",
        "epoch_cost = []\n",
        "for epoch in range(num_epochs):\n",
        "    model.train()\n",
        "    for batch_idx, (features, targets) in enumerate(train_loader):\n",
        "        \n",
        "        features = features.view(-1, 3*32*32).to(device)\n",
        "        targets = targets.to(device)    \n",
        "        ### FORWARD AND BACK PROP\n",
        "        outputs = model(features)\n",
        "        \n",
        "        cost = criterion(outputs, targets)\n",
        "        optimizer.zero_grad()\n",
        "        \n",
        "        cost.backward()\n",
        "        minibatch_cost.append(cost)\n",
        "        ### UPDATE MODEL PARAMETERS\n",
        "        optimizer.step()\n",
        "        \n",
        "        ### LOGGING\n",
        "        if not batch_idx % 500:\n",
        "            print ('Epoch: %03d/%03d | Batch %03d/%03d | Cost: %.4f' \n",
        "                   %(epoch+1, num_epochs, batch_idx, \n",
        "                     len(train_loader), cost))\n",
        "       \n",
        "    model.eval()\n",
        "    with torch.no_grad():\n",
        "        cost = compute_loss(model, train_loader)\n",
        "        epoch_cost.append(cost)\n",
        "        print('Epoch: %03d/%03d Train Cost: %.4f' % (\n",
        "                epoch+1, num_epochs, cost))\n",
        "        print('Time elapsed: %.2f min' % ((time.time() - start_time)/60))\n",
        "\n",
        "        \n",
        "model.eval()\n",
        "with torch.no_grad():\n",
        "    print('Total Training Time: %.2f min' % ((time.time() - start_time)/60))\n",
        "\n",
        "    print('Training Accuracy: %.2f' % compute_accuracy(model, train_loader))\n",
        "    print('Test Accuracy: %.2f' % compute_accuracy(model, test_loader))"
      ],
      "execution_count": 162,
      "outputs": [
        {
          "output_type": "stream",
          "text": [
            "Epoch: 001/020 | Batch 000/391 | Cost: 13.1671\n",
            "Epoch: 001/020 Train Cost: 1.8658\n",
            "Time elapsed: 0.07 min\n",
            "Epoch: 002/020 | Batch 000/391 | Cost: 1.9820\n",
            "Epoch: 002/020 Train Cost: 1.7788\n",
            "Time elapsed: 0.14 min\n",
            "Epoch: 003/020 | Batch 000/391 | Cost: 1.9453\n",
            "Epoch: 003/020 Train Cost: 1.7605\n",
            "Time elapsed: 0.21 min\n",
            "Epoch: 004/020 | Batch 000/391 | Cost: 1.8686\n",
            "Epoch: 004/020 Train Cost: 1.7548\n",
            "Time elapsed: 0.28 min\n",
            "Epoch: 005/020 | Batch 000/391 | Cost: 1.8200\n",
            "Epoch: 005/020 Train Cost: 1.7205\n",
            "Time elapsed: 0.35 min\n",
            "Epoch: 006/020 | Batch 000/391 | Cost: 1.7970\n",
            "Epoch: 006/020 Train Cost: 1.7479\n",
            "Time elapsed: 0.42 min\n",
            "Epoch: 007/020 | Batch 000/391 | Cost: 1.7557\n",
            "Epoch: 007/020 Train Cost: 1.7970\n",
            "Time elapsed: 0.49 min\n",
            "Epoch: 008/020 | Batch 000/391 | Cost: 1.7976\n",
            "Epoch: 008/020 Train Cost: 1.6968\n",
            "Time elapsed: 0.56 min\n",
            "Epoch: 009/020 | Batch 000/391 | Cost: 1.7623\n",
            "Epoch: 009/020 Train Cost: 1.7859\n",
            "Time elapsed: 0.63 min\n",
            "Epoch: 010/020 | Batch 000/391 | Cost: 1.8394\n",
            "Epoch: 010/020 Train Cost: 1.7087\n",
            "Time elapsed: 0.70 min\n",
            "Epoch: 011/020 | Batch 000/391 | Cost: 1.8648\n",
            "Epoch: 011/020 Train Cost: 1.7060\n",
            "Time elapsed: 0.77 min\n",
            "Epoch: 012/020 | Batch 000/391 | Cost: 1.7860\n",
            "Epoch: 012/020 Train Cost: 1.7424\n",
            "Time elapsed: 0.84 min\n",
            "Epoch: 013/020 | Batch 000/391 | Cost: 1.8348\n",
            "Epoch: 013/020 Train Cost: 1.7163\n",
            "Time elapsed: 0.91 min\n",
            "Epoch: 014/020 | Batch 000/391 | Cost: 1.8979\n",
            "Epoch: 014/020 Train Cost: 1.7038\n",
            "Time elapsed: 0.98 min\n",
            "Epoch: 015/020 | Batch 000/391 | Cost: 1.6154\n",
            "Epoch: 015/020 Train Cost: 1.7060\n",
            "Time elapsed: 1.05 min\n",
            "Epoch: 016/020 | Batch 000/391 | Cost: 1.7373\n",
            "Epoch: 016/020 Train Cost: 1.7006\n",
            "Time elapsed: 1.12 min\n",
            "Epoch: 017/020 | Batch 000/391 | Cost: 1.8771\n",
            "Epoch: 017/020 Train Cost: 1.6770\n",
            "Time elapsed: 1.19 min\n",
            "Epoch: 018/020 | Batch 000/391 | Cost: 1.7389\n",
            "Epoch: 018/020 Train Cost: 1.7235\n",
            "Time elapsed: 1.26 min\n",
            "Epoch: 019/020 | Batch 000/391 | Cost: 1.8021\n",
            "Epoch: 019/020 Train Cost: 1.7330\n",
            "Time elapsed: 1.33 min\n",
            "Epoch: 020/020 | Batch 000/391 | Cost: 1.8203\n",
            "Epoch: 020/020 Train Cost: 1.7044\n",
            "Time elapsed: 1.40 min\n",
            "Total Training Time: 1.40 min\n",
            "Training Accuracy: 39.85\n",
            "Test Accuracy: 40.04\n"
          ],
          "name": "stdout"
        }
      ]
    },
    {
      "cell_type": "code",
      "metadata": {
        "id": "qxfmilt_NtoW",
        "colab": {
          "base_uri": "https://localhost:8080/",
          "height": 350
        },
        "outputId": "d2e46986-e348-4c74-fe64-1cc12a626aa8"
      },
      "source": [
        "#Plot the loss curve\n",
        "\n",
        "plt.figure(figsize=(8,5))\n",
        "plt.plot(range(len(epoch_cost)), epoch_cost)\n",
        "plt.xlabel(\"Epoch\")\n",
        "plt.ylabel(\"Cross entropy loss\")\n",
        "plt.title(\"Loss of training\")\n",
        "plt.show()"
      ],
      "execution_count": 163,
      "outputs": [
        {
          "output_type": "display_data",
          "data": {
            "image/png": "[encoded data removed]",
            "text/plain": [
              "<Figure size 576x360 with 1 Axes>"
            ]
          },
          "metadata": {
            "tags": [],
            "needs_background": "light"
          }
        }
      ]
    },
    {
      "cell_type": "markdown",
      "metadata": {
        "id": "a481kCYNO9of"
      },
      "source": [
        "## 8. RMSProp"
      ]
    },
    {
      "cell_type": "markdown",
      "metadata": {
        "id": "OLqkj1FyNyT1"
      },
      "source": [
        "### Model C: 3 Hidden Layers Feedforward Neural Network (ReLU and LeakyReLU Activation functions)"
      ]
    },
    {
      "cell_type": "markdown",
      "metadata": {
        "id": "cbLD_MrnNyT1"
      },
      "source": [
        "#### Make dataset iterable"
      ]
    },
    {
      "cell_type": "code",
      "metadata": {
        "id": "BvOvStx0NyT1",
        "colab": {
          "base_uri": "https://localhost:8080/"
        },
        "outputId": "5c9dbff7-4dc5-48a2-aa9c-3205f349a0ac"
      },
      "source": [
        "batch_size = 128\n",
        "n_iters = 8000\n",
        "num_epochs = n_iters / (len(train_data) / batch_size)\n",
        "num_epochs = int(num_epochs)\n",
        "print(num_epochs)"
      ],
      "execution_count": 191,
      "outputs": [
        {
          "output_type": "stream",
          "text": [
            "20\n"
          ],
          "name": "stdout"
        }
      ]
    },
    {
      "cell_type": "code",
      "metadata": {
        "id": "SnoIj9i5NyT1"
      },
      "source": [
        "train_loader = DataLoader(train_dataset, batch_size=batch_size, shuffle=True) # create your dataloader\n",
        "\n",
        "test_loader = DataLoader(test_dataset, batch_size=batch_size,  shuffle=False) # create your dataloader"
      ],
      "execution_count": 192,
      "outputs": []
    },
    {
      "cell_type": "markdown",
      "metadata": {
        "id": "U04uT6PxNyT2"
      },
      "source": [
        "### Create model class"
      ]
    },
    {
      "cell_type": "code",
      "metadata": {
        "id": "_bHCLTjsNyT2"
      },
      "source": [
        "class FeedforwardNeuralNetworkModel(nn.Module):\n",
        "    def __init__(self, input_size, hidden_size1,hidden_size2,hidden_size3, num_classes):\n",
        "        super(FeedforwardNeuralNetworkModel, self).__init__()\n",
        "        # linear function 1\n",
        "        self.fc1 = nn.Linear(input_dim, hidden_dim1)\n",
        "        self.dropout1 = nn.Dropout(0.2)\n",
        "        # non-linearity 1\n",
        "        self.relu1 = nn.LeakyReLU()\n",
        "        \n",
        "        # linear function 2\n",
        "        self.fc2 = nn.Linear(hidden_dim1, hidden_dim2)\n",
        "        # non-linearity 2\n",
        "        self.relu2 = nn.LeakyReLU()\n",
        "        \n",
        "        # linear function 3\n",
        "        self.fc3 = nn.Linear(hidden_dim2, hidden_dim3)\n",
        "        self.dropout2 = nn.Dropout(0.3)\n",
        "        # non-linearity 3\n",
        "        self.relu3 = nn.ReLU()\n",
        "        \n",
        "        # linear function 4 (readout)\n",
        "        self.fc4 = nn.Linear(hidden_dim3, output_dim)\n",
        "        \n",
        "    def forward(self, x):\n",
        "        # linear function 1\n",
        "        out = self.fc1(x)\n",
        "        out = self.dropout1(out)\n",
        "        # non-linearity 1\n",
        "        out = self.relu1(out)\n",
        "        \n",
        "        # linear function 2\n",
        "        out = self.fc2(out)\n",
        "        # non-linearity 2\n",
        "        out = self.relu2(out)\n",
        "        \n",
        "        # linear function 3\n",
        "        out = self.fc3(out)\n",
        "        out = self.dropout2(out)\n",
        "        # non-linearity 3\n",
        "        out = self.relu3(out)\n",
        "        \n",
        "        #linear function 4 (readout)\n",
        "        out = self.fc4(out)\n",
        "        return out       \n",
        "    "
      ],
      "execution_count": 193,
      "outputs": []
    },
    {
      "cell_type": "code",
      "metadata": {
        "id": "zZhFnkEpNyT2"
      },
      "source": [
        "#  Instantiate model class\n",
        "input_dim = 3*32*32\n",
        "output_dim = 10\n",
        "hidden_dim1 = 700\n",
        "hidden_dim2 = 1200\n",
        "hidden_dim3 = 512 \n",
        "\n",
        "model = FeedforwardNeuralNetworkModel(input_dim, hidden_dim1, hidden_dim2, hidden_dim3, output_dim)\n",
        "\n",
        "#######################\n",
        "#  USE GPU FOR MODEL  #\n",
        "#######################\n",
        "if torch.cuda.is_available():\n",
        "    model.cuda()\n",
        "    "
      ],
      "execution_count": 194,
      "outputs": []
    },
    {
      "cell_type": "code",
      "metadata": {
        "id": "R7qlHdRyNyT2",
        "colab": {
          "base_uri": "https://localhost:8080/"
        },
        "outputId": "28748331-5b88-4982-a461-f10268a27df6"
      },
      "source": [
        "summary(model, (1,3*32*32))"
      ],
      "execution_count": 195,
      "outputs": [
        {
          "output_type": "stream",
          "text": [
            "----------------------------------------------------------------\n",
            "        Layer (type)               Output Shape         Param #\n",
            "================================================================\n",
            "            Linear-1               [-1, 1, 700]       2,151,100\n",
            "           Dropout-2               [-1, 1, 700]               0\n",
            "         LeakyReLU-3               [-1, 1, 700]               0\n",
            "            Linear-4              [-1, 1, 1200]         841,200\n",
            "         LeakyReLU-5              [-1, 1, 1200]               0\n",
            "            Linear-6               [-1, 1, 512]         614,912\n",
            "           Dropout-7               [-1, 1, 512]               0\n",
            "              ReLU-8               [-1, 1, 512]               0\n",
            "            Linear-9                [-1, 1, 10]           5,130\n",
            "================================================================\n",
            "Total params: 3,612,342\n",
            "Trainable params: 3,612,342\n",
            "Non-trainable params: 0\n",
            "----------------------------------------------------------------\n",
            "Input size (MB): 0.01\n",
            "Forward/backward pass size (MB): 0.05\n",
            "Params size (MB): 13.78\n",
            "Estimated Total Size (MB): 13.84\n",
            "----------------------------------------------------------------\n"
          ],
          "name": "stdout"
        }
      ]
    },
    {
      "cell_type": "code",
      "metadata": {
        "id": "EyWbI-RaNyT2"
      },
      "source": [
        "#  Instantiate loss class\n",
        "criterion=nn.CrossEntropyLoss()\n",
        "\n",
        "#  Instantiate optimizer class\n",
        "learning_rate = 0.001\n",
        "LAMBDA = 0.08\n",
        "optimizer = torch.optim.RMSprop(model.parameters(), lr=learning_rate, weight_decay=LAMBDA, momentum=0.5)"
      ],
      "execution_count": 196,
      "outputs": []
    },
    {
      "cell_type": "markdown",
      "metadata": {
        "id": "sDZKttp4NyT2"
      },
      "source": [
        "#### Train the model"
      ]
    },
    {
      "cell_type": "code",
      "metadata": {
        "id": "DxeOGK1cNyT2",
        "colab": {
          "base_uri": "https://localhost:8080/"
        },
        "outputId": "d1f4d59d-b39f-4224-989c-6a0a6bdd8897"
      },
      "source": [
        "start_time = time.time()\n",
        "minibatch_cost = []\n",
        "epoch_cost = []\n",
        "for epoch in range(num_epochs):\n",
        "    model.train()\n",
        "    for batch_idx, (features, targets) in enumerate(train_loader):\n",
        "        \n",
        "        features = features.view(-1, 3*32*32).to(device)\n",
        "        targets = targets.to(device)    \n",
        "        ### FORWARD AND BACK PROP\n",
        "        outputs = model(features)\n",
        "        \n",
        "        cost = criterion(outputs, targets)\n",
        "        optimizer.zero_grad()\n",
        "        \n",
        "        cost.backward()\n",
        "        minibatch_cost.append(cost)\n",
        "        ### UPDATE MODEL PARAMETERS\n",
        "        optimizer.step()\n",
        "        \n",
        "        ### LOGGING\n",
        "        if not batch_idx % 500:\n",
        "            print ('Epoch: %03d/%03d | Batch %03d/%03d | Cost: %.4f' \n",
        "                   %(epoch+1, num_epochs, batch_idx, \n",
        "                     len(train_loader), cost))\n",
        "       \n",
        "    model.eval()\n",
        "    with torch.no_grad():\n",
        "        cost = compute_loss(model, train_loader)\n",
        "        epoch_cost.append(cost)\n",
        "        print('Epoch: %03d/%03d Train Cost: %.4f' % (\n",
        "                epoch+1, num_epochs, cost))\n",
        "        print('Time elapsed: %.2f min' % ((time.time() - start_time)/60))\n",
        "\n",
        "        \n",
        "model.eval()\n",
        "with torch.no_grad():\n",
        "    print('Total Training Time: %.2f min' % ((time.time() - start_time)/60))\n",
        "\n",
        "    print('Training Accuracy: %.2f' % compute_accuracy(model, train_loader))\n",
        "    print('Test Accuracy: %.2f' % compute_accuracy(model, test_loader))"
      ],
      "execution_count": 197,
      "outputs": [
        {
          "output_type": "stream",
          "text": [
            "Epoch: 001/020 | Batch 000/391 | Cost: 11.5253\n",
            "Epoch: 001/020 Train Cost: 2.3085\n",
            "Time elapsed: 0.07 min\n",
            "Epoch: 002/020 | Batch 000/391 | Cost: 2.3029\n",
            "Epoch: 002/020 Train Cost: 2.3089\n",
            "Time elapsed: 0.13 min\n",
            "Epoch: 003/020 | Batch 000/391 | Cost: 2.3051\n",
            "Epoch: 003/020 Train Cost: 2.3087\n",
            "Time elapsed: 0.20 min\n",
            "Epoch: 004/020 | Batch 000/391 | Cost: 2.3043\n",
            "Epoch: 004/020 Train Cost: 2.3085\n",
            "Time elapsed: 0.26 min\n",
            "Epoch: 005/020 | Batch 000/391 | Cost: 2.3016\n",
            "Epoch: 005/020 Train Cost: 2.3088\n",
            "Time elapsed: 0.33 min\n",
            "Epoch: 006/020 | Batch 000/391 | Cost: 2.3052\n",
            "Epoch: 006/020 Train Cost: 2.3093\n",
            "Time elapsed: 0.39 min\n",
            "Epoch: 007/020 | Batch 000/391 | Cost: 2.2998\n",
            "Epoch: 007/020 Train Cost: 2.3086\n",
            "Time elapsed: 0.46 min\n",
            "Epoch: 008/020 | Batch 000/391 | Cost: 2.3038\n",
            "Epoch: 008/020 Train Cost: 2.3086\n",
            "Time elapsed: 0.52 min\n",
            "Epoch: 009/020 | Batch 000/391 | Cost: 2.3022\n",
            "Epoch: 009/020 Train Cost: 2.3105\n",
            "Time elapsed: 0.59 min\n",
            "Epoch: 010/020 | Batch 000/391 | Cost: 2.2973\n",
            "Epoch: 010/020 Train Cost: 3.6219\n",
            "Time elapsed: 0.65 min\n",
            "Epoch: 011/020 | Batch 000/391 | Cost: 3.9627\n",
            "Epoch: 011/020 Train Cost: 2.3089\n",
            "Time elapsed: 0.72 min\n",
            "Epoch: 012/020 | Batch 000/391 | Cost: 2.3037\n",
            "Epoch: 012/020 Train Cost: 2.3087\n",
            "Time elapsed: 0.78 min\n",
            "Epoch: 013/020 | Batch 000/391 | Cost: 2.3049\n",
            "Epoch: 013/020 Train Cost: 2.3086\n",
            "Time elapsed: 0.84 min\n",
            "Epoch: 014/020 | Batch 000/391 | Cost: 2.3024\n",
            "Epoch: 014/020 Train Cost: 285.9438\n",
            "Time elapsed: 0.91 min\n",
            "Epoch: 015/020 | Batch 000/391 | Cost: 541.6327\n",
            "Epoch: 015/020 Train Cost: 2.3086\n",
            "Time elapsed: 0.97 min\n",
            "Epoch: 016/020 | Batch 000/391 | Cost: 2.3003\n",
            "Epoch: 016/020 Train Cost: 2.3087\n",
            "Time elapsed: 1.04 min\n",
            "Epoch: 017/020 | Batch 000/391 | Cost: 2.3022\n",
            "Epoch: 017/020 Train Cost: 2.3086\n",
            "Time elapsed: 1.10 min\n",
            "Epoch: 018/020 | Batch 000/391 | Cost: 2.3032\n",
            "Epoch: 018/020 Train Cost: 2.3085\n",
            "Time elapsed: 1.17 min\n",
            "Epoch: 019/020 | Batch 000/391 | Cost: 2.3028\n",
            "Epoch: 019/020 Train Cost: 99.5646\n",
            "Time elapsed: 1.23 min\n",
            "Epoch: 020/020 | Batch 000/391 | Cost: 121.0443\n",
            "Epoch: 020/020 Train Cost: 2.3094\n",
            "Time elapsed: 1.29 min\n",
            "Total Training Time: 1.29 min\n",
            "Training Accuracy: 10.00\n",
            "Test Accuracy: 10.00\n"
          ],
          "name": "stdout"
        }
      ]
    },
    {
      "cell_type": "code",
      "metadata": {
        "id": "67fE13aENyT2",
        "colab": {
          "base_uri": "https://localhost:8080/",
          "height": 350
        },
        "outputId": "bff8b86f-3706-4d9e-ed07-1d2fa5841598"
      },
      "source": [
        "#Plot the loss curve\n",
        "\n",
        "plt.figure(figsize=(8,5))\n",
        "plt.plot(range(len(epoch_cost)), epoch_cost)\n",
        "plt.xlabel(\"Epoch\")\n",
        "plt.ylabel(\"Cross entropy loss\")\n",
        "plt.title(\"Loss of training\")\n",
        "plt.show()"
      ],
      "execution_count": 198,
      "outputs": [
        {
          "output_type": "display_data",
          "data": {
            "image/png": "[encoded data removed]",
            "text/plain": [
              "<Figure size 576x360 with 1 Axes>"
            ]
          },
          "metadata": {
            "tags": [],
            "needs_background": "light"
          }
        }
      ]
    },
    {
      "cell_type": "markdown",
      "metadata": {
        "id": "PALWpQuHO9oh"
      },
      "source": [
        "## Batch normalization"
      ]
    },
    {
      "cell_type": "markdown",
      "metadata": {
        "id": "f4bmye__Tggb"
      },
      "source": [
        "### Model C: 3 Hidden Layers Feedforward Neural Network (ReLU and LeakyReLU Activation functions)"
      ]
    },
    {
      "cell_type": "markdown",
      "metadata": {
        "id": "fiRWAb-vTggc"
      },
      "source": [
        "#### Make dataset iterable"
      ]
    },
    {
      "cell_type": "code",
      "metadata": {
        "colab": {
          "base_uri": "https://localhost:8080/"
        },
        "id": "CC4bQ_b3Tggc",
        "outputId": "8ec0cd90-cb80-40e0-dbef-17fc8313af0a"
      },
      "source": [
        "batch_size = 128\n",
        "n_iters = 8000\n",
        "num_epochs = n_iters / (len(train_data) / batch_size)\n",
        "num_epochs = int(num_epochs)\n",
        "print(num_epochs)"
      ],
      "execution_count": 15,
      "outputs": [
        {
          "output_type": "stream",
          "text": [
            "20\n"
          ],
          "name": "stdout"
        }
      ]
    },
    {
      "cell_type": "code",
      "metadata": {
        "id": "6iiNTsQtTgge"
      },
      "source": [
        "train_loader = DataLoader(train_dataset, batch_size=batch_size, shuffle=True) # create your dataloader\n",
        "\n",
        "test_loader = DataLoader(test_dataset, batch_size=batch_size,  shuffle=False) # create your dataloader"
      ],
      "execution_count": 16,
      "outputs": []
    },
    {
      "cell_type": "markdown",
      "metadata": {
        "id": "KFTGRKmbTgge"
      },
      "source": [
        "### Create model class"
      ]
    },
    {
      "cell_type": "code",
      "metadata": {
        "id": "V1xblpzaTgge"
      },
      "source": [
        "class FeedforwardNeuralNetworkModel(nn.Module):\n",
        "    def __init__(self, input_size, hidden_size1,hidden_size2,hidden_size3, num_classes):\n",
        "        super(FeedforwardNeuralNetworkModel, self).__init__()\n",
        "        # linear function 1\n",
        "        self.fc1 = nn.Linear(input_dim, hidden_dim1)\n",
        "        \n",
        "        self.dropout1 = nn.Dropout(0.2)\n",
        "        # non-linearity 1\n",
        "        self.relu1 = nn.LeakyReLU()\n",
        "        \n",
        "        # linear function 2\n",
        "        self.fc2 = nn.Linear(hidden_dim1, hidden_dim2)\n",
        "        self.BatchNorm1d1=nn.BatchNorm1d(hidden_dim2)\n",
        "        # non-linearity 2\n",
        "        self.relu2 = nn.LeakyReLU()\n",
        "        \n",
        "        # linear function 3\n",
        "        self.fc3 = nn.Linear(hidden_dim2, hidden_dim3)\n",
        "        self.BatchNorm1d2=nn.BatchNorm1d(hidden_dim3)\n",
        "        self.dropout2 = nn.Dropout(0.3)\n",
        "        # non-linearity 3\n",
        "        self.relu3 = nn.ReLU()\n",
        "        \n",
        "        # linear function 4 (readout)\n",
        "        self.fc4 = nn.Linear(hidden_dim3, output_dim)\n",
        "        \n",
        "    def forward(self, x):\n",
        "        # linear function 1\n",
        "        out = self.fc1(x)\n",
        "        \n",
        "        out = self.dropout1(out)\n",
        "        # non-linearity 1\n",
        "        out = self.relu1(out)\n",
        "        \n",
        "        # linear function 2\n",
        "        out = self.fc2(out)\n",
        "        out = self.BatchNorm1d1(out)\n",
        "        # non-linearity 2\n",
        "        out = self.relu2(out)\n",
        "        \n",
        "        # linear function 3\n",
        "        out = self.fc3(out)\n",
        "        out = self.BatchNorm1d2(out)\n",
        "        out = self.dropout2(out)\n",
        "        # non-linearity 3\n",
        "        out = self.relu3(out)\n",
        "        \n",
        "        #linear function 4 (readout)\n",
        "        out = self.fc4(out)\n",
        "        return out       \n",
        "    "
      ],
      "execution_count": 23,
      "outputs": []
    },
    {
      "cell_type": "code",
      "metadata": {
        "id": "jggSGCEjTgge"
      },
      "source": [
        "#  Instantiate model class\n",
        "input_dim = 3*32*32\n",
        "output_dim = 10\n",
        "hidden_dim1 = 700\n",
        "hidden_dim2 = 1200\n",
        "hidden_dim3 = 512 \n",
        "\n",
        "model = FeedforwardNeuralNetworkModel(input_dim, hidden_dim1, hidden_dim2, hidden_dim3, output_dim)\n",
        "\n",
        "#######################\n",
        "#  USE GPU FOR MODEL  #\n",
        "#######################\n",
        "if torch.cuda.is_available():\n",
        "    model.cuda()\n",
        "    "
      ],
      "execution_count": 24,
      "outputs": []
    },
    {
      "cell_type": "code",
      "metadata": {
        "id": "YY2FOnXfTgge"
      },
      "source": [
        "#summary(model, (1,3*32*32))"
      ],
      "execution_count": 25,
      "outputs": []
    },
    {
      "cell_type": "code",
      "metadata": {
        "id": "F3PdUbvITggf"
      },
      "source": [
        "#  Instantiate loss class\n",
        "criterion=nn.CrossEntropyLoss()\n",
        "\n",
        "#  Instantiate optimizer class\n",
        "learning_rate = 0.001\n",
        "LAMBDA = 0.08\n",
        "optimizer = torch.optim.SGD(model.parameters(), lr=learning_rate, weight_decay=LAMBDA)"
      ],
      "execution_count": 26,
      "outputs": []
    },
    {
      "cell_type": "markdown",
      "metadata": {
        "id": "hUm99delTggf"
      },
      "source": [
        "#### Train the model"
      ]
    },
    {
      "cell_type": "code",
      "metadata": {
        "colab": {
          "base_uri": "https://localhost:8080/"
        },
        "id": "Irbn5-foTggf",
        "outputId": "55f89e57-6f57-4768-c157-50cfebe94b02"
      },
      "source": [
        "start_time = time.time()\n",
        "minibatch_cost = []\n",
        "epoch_cost = []\n",
        "for epoch in range(num_epochs):\n",
        "    model.train()\n",
        "    for batch_idx, (features, targets) in enumerate(train_loader):\n",
        "        \n",
        "        features = features.view(-1, 3*32*32).to(device)\n",
        "        targets = targets.to(device)    \n",
        "        ### FORWARD AND BACK PROP\n",
        "        outputs = model(features)\n",
        "        \n",
        "        cost = criterion(outputs, targets)\n",
        "        optimizer.zero_grad()\n",
        "        \n",
        "        cost.backward()\n",
        "        minibatch_cost.append(cost)\n",
        "        ### UPDATE MODEL PARAMETERS\n",
        "        optimizer.step()\n",
        "        \n",
        "        ### LOGGING\n",
        "        if not batch_idx % 500:\n",
        "            print ('Epoch: %03d/%03d | Batch %03d/%03d | Cost: %.4f' \n",
        "                   %(epoch+1, num_epochs, batch_idx, \n",
        "                     len(train_loader), cost))\n",
        "       \n",
        "    model.eval()\n",
        "    with torch.no_grad():\n",
        "        cost = compute_loss(model, train_loader)\n",
        "        epoch_cost.append(cost)\n",
        "        print('Epoch: %03d/%03d Train Cost: %.4f' % (\n",
        "                epoch+1, num_epochs, cost))\n",
        "        print('Time elapsed: %.2f min' % ((time.time() - start_time)/60))\n",
        "\n",
        "        \n",
        "model.eval()\n",
        "with torch.no_grad():\n",
        "    print('Total Training Time: %.2f min' % ((time.time() - start_time)/60))\n",
        "\n",
        "    print('Training Accuracy: %.2f' % compute_accuracy(model, train_loader))\n",
        "    print('Test Accuracy: %.2f' % compute_accuracy(model, test_loader))"
      ],
      "execution_count": 27,
      "outputs": [
        {
          "output_type": "stream",
          "text": [
            "Epoch: 001/020 | Batch 000/391 | Cost: 2.4250\n",
            "Epoch: 001/020 Train Cost: 1.9226\n",
            "Time elapsed: 0.06 min\n",
            "Epoch: 002/020 | Batch 000/391 | Cost: 1.9087\n",
            "Epoch: 002/020 Train Cost: 1.7964\n",
            "Time elapsed: 0.11 min\n",
            "Epoch: 003/020 | Batch 000/391 | Cost: 1.8437\n",
            "Epoch: 003/020 Train Cost: 1.7324\n",
            "Time elapsed: 0.16 min\n",
            "Epoch: 004/020 | Batch 000/391 | Cost: 1.6889\n",
            "Epoch: 004/020 Train Cost: 1.6851\n",
            "Time elapsed: 0.22 min\n",
            "Epoch: 005/020 | Batch 000/391 | Cost: 1.7001\n",
            "Epoch: 005/020 Train Cost: 1.6436\n",
            "Time elapsed: 0.27 min\n",
            "Epoch: 006/020 | Batch 000/391 | Cost: 1.6540\n",
            "Epoch: 006/020 Train Cost: 1.6192\n",
            "Time elapsed: 0.33 min\n",
            "Epoch: 007/020 | Batch 000/391 | Cost: 1.7415\n",
            "Epoch: 007/020 Train Cost: 1.5918\n",
            "Time elapsed: 0.38 min\n",
            "Epoch: 008/020 | Batch 000/391 | Cost: 1.6408\n",
            "Epoch: 008/020 Train Cost: 1.5723\n",
            "Time elapsed: 0.43 min\n",
            "Epoch: 009/020 | Batch 000/391 | Cost: 1.4983\n",
            "Epoch: 009/020 Train Cost: 1.5554\n",
            "Time elapsed: 0.49 min\n",
            "Epoch: 010/020 | Batch 000/391 | Cost: 1.6025\n",
            "Epoch: 010/020 Train Cost: 1.5373\n",
            "Time elapsed: 0.54 min\n",
            "Epoch: 011/020 | Batch 000/391 | Cost: 1.5599\n",
            "Epoch: 011/020 Train Cost: 1.5169\n",
            "Time elapsed: 0.60 min\n",
            "Epoch: 012/020 | Batch 000/391 | Cost: 1.5950\n",
            "Epoch: 012/020 Train Cost: 1.5140\n",
            "Time elapsed: 0.66 min\n",
            "Epoch: 013/020 | Batch 000/391 | Cost: 1.4346\n",
            "Epoch: 013/020 Train Cost: 1.4886\n",
            "Time elapsed: 0.71 min\n",
            "Epoch: 014/020 | Batch 000/391 | Cost: 1.5466\n",
            "Epoch: 014/020 Train Cost: 1.4764\n",
            "Time elapsed: 0.77 min\n",
            "Epoch: 015/020 | Batch 000/391 | Cost: 1.4064\n",
            "Epoch: 015/020 Train Cost: 1.4569\n",
            "Time elapsed: 0.83 min\n",
            "Epoch: 016/020 | Batch 000/391 | Cost: 1.5613\n",
            "Epoch: 016/020 Train Cost: 1.4523\n",
            "Time elapsed: 0.88 min\n",
            "Epoch: 017/020 | Batch 000/391 | Cost: 1.6233\n",
            "Epoch: 017/020 Train Cost: 1.4381\n",
            "Time elapsed: 0.94 min\n",
            "Epoch: 018/020 | Batch 000/391 | Cost: 1.4905\n",
            "Epoch: 018/020 Train Cost: 1.4320\n",
            "Time elapsed: 1.00 min\n",
            "Epoch: 019/020 | Batch 000/391 | Cost: 1.5393\n",
            "Epoch: 019/020 Train Cost: 1.4208\n",
            "Time elapsed: 1.06 min\n",
            "Epoch: 020/020 | Batch 000/391 | Cost: 1.3421\n",
            "Epoch: 020/020 Train Cost: 1.4049\n",
            "Time elapsed: 1.11 min\n",
            "Total Training Time: 1.11 min\n",
            "Training Accuracy: 52.31\n",
            "Test Accuracy: 49.69\n"
          ],
          "name": "stdout"
        }
      ]
    },
    {
      "cell_type": "code",
      "metadata": {
        "colab": {
          "base_uri": "https://localhost:8080/",
          "height": 350
        },
        "id": "dfZPh9GmTggf",
        "outputId": "9c82f6e2-a0fd-4b62-a1e2-36b325e88b9a"
      },
      "source": [
        "#Plot the loss curve\n",
        "\n",
        "plt.figure(figsize=(8,5))\n",
        "plt.plot(range(len(epoch_cost)), epoch_cost)\n",
        "plt.xlabel(\"Epoch\")\n",
        "plt.ylabel(\"Cross entropy loss\")\n",
        "plt.title(\"Loss of training\")\n",
        "plt.show()"
      ],
      "execution_count": 28,
      "outputs": [
        {
          "output_type": "display_data",
          "data": {
            "image/png": "[encoded data removed]",
            "text/plain": [
              "<Figure size 576x360 with 1 Axes>"
            ]
          },
          "metadata": {
            "tags": [],
            "needs_background": "light"
          }
        }
      ]
    },
    {
      "cell_type": "markdown",
      "metadata": {
        "id": "cpoj7JdA1JDF"
      },
      "source": [
        "## Results of regularizations\n",
        "\n",
        "| Model Name                    | Training Accuracy | Test Accuracy | Training Accuracy(Dropout) | Test Accuracy(Dropout) | \n",
        "|--------------------------------|----------|----------|----------|----------|\n",
        "| Model C |  55.53  |  50.37  |  52.30   |  49.67   |\n",
        "| Model D |  56.00  |  51.00  |   51.79  |  48.03   |"
      ]
    },
    {
      "cell_type": "markdown",
      "metadata": {
        "id": "1nMp9gLc1JDG"
      },
      "source": [
        "## Results of optimizations (Test accuracy)\n",
        "- With dropouts from the regularization part\n",
        "- Best optimizer for each model is bolded\n",
        "\n",
        "| Optimizer                    | Model C |\n",
        "|--------------------------------|----------|\n",
        "| **SGD** |  **48.62**  | \n",
        "| SGD Momentum |  45.91  |\n",
        "| SGD Nesterov |  47.03  | \n",
        "| Adam |  31.33 |\n",
        "| Adagrad |  48.30  |\n",
        "| Adadelta |  46.01  |\n",
        "| Adamax |  40.04  | \n",
        "| RMSProp |  10.00  | \n",
        "\n",
        "\n",
        "### Batch normalozation\n",
        "- With dropouts from the regularization part\n",
        "- We employed the best optimizer for the models from the previous table\n",
        "\n",
        "| Model Name | Optimizer| Training Accuracy | Test Accuracy |\n",
        "|------------|----------|----------|----------|\n",
        "| Model C |  SGD |  52.31  |  49.69  |"
      ]
    }
  ]
}