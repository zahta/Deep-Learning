{
 "cells": [
  {
   "cell_type": "markdown",
   "metadata": {},
   "source": [
    "# Linear Regression in PyTorch\n",
    "By [Zahra Taheri](https://github.com/zata213), August 14, 2020"
   ]
  },
  {
   "cell_type": "code",
   "execution_count": 1,
   "metadata": {},
   "outputs": [],
   "source": [
    "# import libraries\n",
    "\n",
    "import numpy as np\n",
    "import matplotlib.pyplot as plt\n",
    "\n",
    "import torch\n",
    "import torch.nn as nn\n",
    "from torch.autograd import Variable"
   ]
  },
  {
   "cell_type": "code",
   "execution_count": 2,
   "metadata": {},
   "outputs": [
    {
     "data": {
      "image/png": "[encoded data removed]",
      "text/plain": [
       "<Figure size 432x288 with 1 Axes>"
      ]
     },
     "metadata": {
      "needs_background": "light"
     },
     "output_type": "display_data"
    }
   ],
   "source": [
    "np.random.seed(1)\n",
    "n=100\n",
    "x=np.random.randn(n) # A random 1xn array that can be reproduced\n",
    "y=x*np.random.randn(n)\n",
    "\n",
    "colors=np.random.rand(n)\n",
    "plt.plot(np.unique(x),np.poly1d(np.polyfit(x,y,1))(np.unique(x)))\n",
    "\n",
    "plt.scatter(x,y,c=colors,alpha=0.5)\n",
    "plt.show()"
   ]
  },
  {
   "cell_type": "markdown",
   "metadata": {},
   "source": [
    "Let $y=2x+1$. In the following, we model the latter equation."
   ]
  },
  {
   "cell_type": "code",
   "execution_count": 3,
   "metadata": {},
   "outputs": [
    {
     "name": "stdout",
     "output_type": "stream",
     "text": [
      "[ 0.  1.  2.  3.  4.  5.  6.  7.  8.  9. 10.]\n"
     ]
    },
    {
     "data": {
      "text/plain": [
       "(11,)"
      ]
     },
     "execution_count": 3,
     "metadata": {},
     "output_type": "execute_result"
    }
   ],
   "source": [
    "# make a dataset\n",
    "X = [i for i in range(11)]\n",
    "\n",
    "# convert to numpy array\n",
    "X_train = np.array(X, dtype=np.float32)\n",
    "print(X_train)\n",
    "X_train.shape"
   ]
  },
  {
   "cell_type": "markdown",
   "metadata": {},
   "source": [
    "**Important note:** 2D array in required in PyTorch."
   ]
  },
  {
   "cell_type": "code",
   "execution_count": 4,
   "metadata": {},
   "outputs": [
    {
     "data": {
      "text/plain": [
       "(11, 1)"
      ]
     },
     "execution_count": 4,
     "metadata": {},
     "output_type": "execute_result"
    }
   ],
   "source": [
    "# reshape array to 2D\n",
    "X_train = X_train.reshape(-1,1)\n",
    "X_train.shape"
   ]
  },
  {
   "cell_type": "code",
   "execution_count": 5,
   "metadata": {},
   "outputs": [
    {
     "name": "stdout",
     "output_type": "stream",
     "text": [
      "[ 1.  3.  5.  7.  9. 11. 13. 15. 17. 19. 21.]\n"
     ]
    },
    {
     "data": {
      "text/plain": [
       "(11, 1)"
      ]
     },
     "execution_count": 5,
     "metadata": {},
     "output_type": "execute_result"
    }
   ],
   "source": [
    "# make labels\n",
    "y = [2*i+1 for i in X]\n",
    "\n",
    "# convert to numpy array\n",
    "y_train = np.array(y, dtype=np.float32)\n",
    "print(y_train)\n",
    "\n",
    "# reshape array to 2D\n",
    "y_train = y_train.reshape(-1,1)\n",
    "y_train.shape"
   ]
  },
  {
   "cell_type": "markdown",
   "metadata": {},
   "source": [
    "## Linear Regression in PyTorch On CPU"
   ]
  },
  {
   "cell_type": "markdown",
   "metadata": {},
   "source": [
    "### Building a model "
   ]
  },
  {
   "cell_type": "code",
   "execution_count": 6,
   "metadata": {},
   "outputs": [],
   "source": [
    "# create a class\n",
    "class LinearRegressionModel(nn.Module):\n",
    "    def __init__(self, input_size, output_size):\n",
    "        super(LinearRegressionModel, self).__init__() #to inherit every things from nn.Module\n",
    "        self.linear = nn.Linear(input_dim, output_dim)\n",
    "        \n",
    "    def forward(self, x):\n",
    "        y_pred = self.linear(x) # x from y=2x+1\n",
    "        return y_pred        "
   ]
  },
  {
   "cell_type": "markdown",
   "metadata": {},
   "source": [
    "####  Instantiate model class"
   ]
  },
  {
   "cell_type": "code",
   "execution_count": 7,
   "metadata": {},
   "outputs": [],
   "source": [
    "input_dim = 1 #it means that we pass one x to the modeland receive one output label\n",
    "output_dim = 1\n",
    "\n",
    "model = LinearRegressionModel(input_dim, output_dim) #model is an object"
   ]
  },
  {
   "cell_type": "markdown",
   "metadata": {},
   "source": [
    "####  Instantiate loss class"
   ]
  },
  {
   "cell_type": "code",
   "execution_count": 8,
   "metadata": {},
   "outputs": [],
   "source": [
    "criterion=nn.MSELoss()"
   ]
  },
  {
   "cell_type": "markdown",
   "metadata": {},
   "source": [
    "####  Instantiate optimizer class\n",
    "\n",
    "- Simplified equation for updating parameters is $\\theta=\\theta-\\eta\\cdot\\nabla_\\theta$, where $\\theta$ is parameters (our variables, i.e., $\\alpha$ and $\\beta$ in equation $y=\\alpha x+\\beta$), $\\eta$ is learning rate (how fast we want the model to learn), and $\\nabla_\\theta$ is parameters' gradients."
   ]
  },
  {
   "cell_type": "code",
   "execution_count": 9,
   "metadata": {},
   "outputs": [],
   "source": [
    "learning_rate = 0.01\n",
    "\n",
    "optimizer = torch.optim.SGD(model.parameters(),lr=learning_rate)"
   ]
  },
  {
   "cell_type": "markdown",
   "metadata": {},
   "source": [
    "### Train the model"
   ]
  },
  {
   "cell_type": "code",
   "execution_count": 10,
   "metadata": {},
   "outputs": [],
   "source": [
    "epochs=100"
   ]
  },
  {
   "cell_type": "code",
   "execution_count": 11,
   "metadata": {},
   "outputs": [
    {
     "name": "stdout",
     "output_type": "stream",
     "text": [
      "epoch 1, loss 231.965087890625\n",
      "epoch 2, loss 18.931991577148438\n",
      "epoch 3, loss 1.555435061454773\n",
      "epoch 4, loss 0.13795718550682068\n",
      "epoch 5, loss 0.02221420779824257\n",
      "epoch 6, loss 0.012651100754737854\n",
      "epoch 7, loss 0.011749997735023499\n",
      "epoch 8, loss 0.011556759476661682\n",
      "epoch 9, loss 0.011422672308981419\n",
      "epoch 10, loss 0.011294681578874588\n",
      "epoch 11, loss 0.01116853766143322\n",
      "epoch 12, loss 0.011043832637369633\n",
      "epoch 13, loss 0.010920516215264797\n",
      "epoch 14, loss 0.010798565112054348\n",
      "epoch 15, loss 0.010677947662770748\n",
      "epoch 16, loss 0.010558734647929668\n",
      "epoch 17, loss 0.010440859012305737\n",
      "epoch 18, loss 0.0103242676705122\n",
      "epoch 19, loss 0.01020894292742014\n",
      "epoch 20, loss 0.01009493786841631\n",
      "epoch 21, loss 0.009982224553823471\n",
      "epoch 22, loss 0.009870731271803379\n",
      "epoch 23, loss 0.009760525077581406\n",
      "epoch 24, loss 0.00965155754238367\n",
      "epoch 25, loss 0.00954378116875887\n",
      "epoch 26, loss 0.009437196888029575\n",
      "epoch 27, loss 0.009331815876066685\n",
      "epoch 28, loss 0.009227601811289787\n",
      "epoch 29, loss 0.00912456028163433\n",
      "epoch 30, loss 0.009022695943713188\n",
      "epoch 31, loss 0.00892189983278513\n",
      "epoch 32, loss 0.008822280913591385\n",
      "epoch 33, loss 0.008723784238100052\n",
      "epoch 34, loss 0.008626370690762997\n",
      "epoch 35, loss 0.008530045859515667\n",
      "epoch 36, loss 0.008434765972197056\n",
      "epoch 37, loss 0.008340591564774513\n",
      "epoch 38, loss 0.008247452788054943\n",
      "epoch 39, loss 0.008155335672199726\n",
      "epoch 40, loss 0.0080642718821764\n",
      "epoch 41, loss 0.00797421857714653\n",
      "epoch 42, loss 0.007885187864303589\n",
      "epoch 43, loss 0.0077971201390028\n",
      "epoch 44, loss 0.0077100577764213085\n",
      "epoch 45, loss 0.007623953744769096\n",
      "epoch 46, loss 0.007538833189755678\n",
      "epoch 47, loss 0.007454663515090942\n",
      "epoch 48, loss 0.007371407933533192\n",
      "epoch 49, loss 0.007289072498679161\n",
      "epoch 50, loss 0.007207682356238365\n",
      "epoch 51, loss 0.0071271974593400955\n",
      "epoch 52, loss 0.007047602906823158\n",
      "epoch 53, loss 0.006968928966671228\n",
      "epoch 54, loss 0.0068910811096429825\n",
      "epoch 55, loss 0.006814136635512114\n",
      "epoch 56, loss 0.00673808204010129\n",
      "epoch 57, loss 0.0066627757623791695\n",
      "epoch 58, loss 0.0065884157083928585\n",
      "epoch 59, loss 0.006514796521514654\n",
      "epoch 60, loss 0.006442090962082148\n",
      "epoch 61, loss 0.006370111834257841\n",
      "epoch 62, loss 0.006299030967056751\n",
      "epoch 63, loss 0.006228651385754347\n",
      "epoch 64, loss 0.006159122101962566\n",
      "epoch 65, loss 0.006090343464165926\n",
      "epoch 66, loss 0.006022320594638586\n",
      "epoch 67, loss 0.005955102853477001\n",
      "epoch 68, loss 0.005888564512133598\n",
      "epoch 69, loss 0.005822841543704271\n",
      "epoch 70, loss 0.0057578058913350105\n",
      "epoch 71, loss 0.005693490616977215\n",
      "epoch 72, loss 0.005629927385598421\n",
      "epoch 73, loss 0.005567045882344246\n",
      "epoch 74, loss 0.005504894535988569\n",
      "epoch 75, loss 0.005443408153951168\n",
      "epoch 76, loss 0.005382609087973833\n",
      "epoch 77, loss 0.005322504322975874\n",
      "epoch 78, loss 0.005263086408376694\n",
      "epoch 79, loss 0.005204322747886181\n",
      "epoch 80, loss 0.005146161187440157\n",
      "epoch 81, loss 0.0050887190736830235\n",
      "epoch 82, loss 0.005031896289438009\n",
      "epoch 83, loss 0.004975734278559685\n",
      "epoch 84, loss 0.004920147359371185\n",
      "epoch 85, loss 0.004865190479904413\n",
      "epoch 86, loss 0.004810849670320749\n",
      "epoch 87, loss 0.004757140297442675\n",
      "epoch 88, loss 0.004704030696302652\n",
      "epoch 89, loss 0.004651473369449377\n",
      "epoch 90, loss 0.004599530715495348\n",
      "epoch 91, loss 0.004548170138150454\n",
      "epoch 92, loss 0.00449740095064044\n",
      "epoch 93, loss 0.0044471570290625095\n",
      "epoch 94, loss 0.004397528246045113\n",
      "epoch 95, loss 0.004348401445895433\n",
      "epoch 96, loss 0.0042998697608709335\n",
      "epoch 97, loss 0.004251851234585047\n",
      "epoch 98, loss 0.004204369615763426\n",
      "epoch 99, loss 0.0041574398055672646\n",
      "epoch 100, loss 0.004111014306545258\n"
     ]
    }
   ],
   "source": [
    "for epoch in range(epochs):\n",
    "    epoch += 1\n",
    "    # convert numpy array to torch Variable\n",
    "    inputs = Variable(torch.from_numpy(X_train))\n",
    "    labels = Variable(torch.from_numpy(y_train))\n",
    "    \n",
    "    # clear gradients w.r.t. parameters\n",
    "    optimizer.zero_grad()\n",
    "    \n",
    "    # forward to get output\n",
    "    predictions = model(inputs)\n",
    "    \n",
    "    # calculate loss\n",
    "    loss = criterion(predictions, labels)\n",
    "    \n",
    "    # get gradients w.r.t. parameters\n",
    "    loss.backward()\n",
    "    \n",
    "    # update parameters\n",
    "    optimizer.step()\n",
    "    \n",
    "    print('epoch {}, loss {}'.format(epoch, loss.data))\n",
    "    "
   ]
  },
  {
   "cell_type": "code",
   "execution_count": 12,
   "metadata": {},
   "outputs": [
    {
     "data": {
      "text/plain": [
       "array([[ 1.1192706],\n",
       "       [ 3.1020947],\n",
       "       [ 5.0849185],\n",
       "       [ 7.0677423],\n",
       "       [ 9.050567 ],\n",
       "       [11.03339  ],\n",
       "       [13.016214 ],\n",
       "       [14.999038 ],\n",
       "       [16.981863 ],\n",
       "       [18.964685 ],\n",
       "       [20.94751  ]], dtype=float32)"
      ]
     },
     "execution_count": 12,
     "metadata": {},
     "output_type": "execute_result"
    }
   ],
   "source": [
    "predicted = model(Variable(torch.from_numpy(X_train))).data.numpy()\n",
    "predicted"
   ]
  },
  {
   "cell_type": "code",
   "execution_count": 13,
   "metadata": {},
   "outputs": [
    {
     "data": {
      "text/plain": [
       "array([[ 1.],\n",
       "       [ 3.],\n",
       "       [ 5.],\n",
       "       [ 7.],\n",
       "       [ 9.],\n",
       "       [11.],\n",
       "       [13.],\n",
       "       [15.],\n",
       "       [17.],\n",
       "       [19.],\n",
       "       [21.]], dtype=float32)"
      ]
     },
     "execution_count": 13,
     "metadata": {},
     "output_type": "execute_result"
    }
   ],
   "source": [
    "# y = 2x+1\n",
    "y_train"
   ]
  },
  {
   "cell_type": "markdown",
   "metadata": {},
   "source": [
    "### Plot graph"
   ]
  },
  {
   "cell_type": "code",
   "execution_count": 14,
   "metadata": {},
   "outputs": [
    {
     "data": {
      "image/png": "[encoded data removed]",
      "text/plain": [
       "<Figure size 432x288 with 1 Axes>"
      ]
     },
     "metadata": {
      "needs_background": "light"
     },
     "output_type": "display_data"
    }
   ],
   "source": [
    "# clear figure\n",
    "plt.clf()\n",
    "\n",
    "# get predictions\n",
    "predicted = model(Variable(torch.from_numpy(X_train))).data.numpy()\n",
    "\n",
    "# plot true data\n",
    "plt.plot(X_train, y_train, 'go', label='True data', alpha=0.3)\n",
    "\n",
    "# plot predictions\n",
    "plt.plot(X_train, predicted, '--', label='Predictions')\n",
    "\n",
    "# legend and plot\n",
    "plt.legend(loc='best')\n",
    "plt.show()"
   ]
  },
  {
   "cell_type": "markdown",
   "metadata": {},
   "source": [
    "### Save and load the model"
   ]
  },
  {
   "cell_type": "code",
   "execution_count": 15,
   "metadata": {},
   "outputs": [],
   "source": [
    "save_model = False #change it to True if you want to save your model\n",
    "if save_model is True:\n",
    "    torch.save(model.state_dict(), 'linear_reg_model.pkl')#save only parameters, alpha and beta"
   ]
  },
  {
   "cell_type": "code",
   "execution_count": 16,
   "metadata": {},
   "outputs": [],
   "source": [
    "load_model = False #change it to True if you want to load your model\n",
    "if load_model is True:\n",
    "    model.load_state_dict(torch.load('linear_reg_model.pkl'))"
   ]
  },
  {
   "cell_type": "markdown",
   "metadata": {},
   "source": [
    "## Linear Regression From CPU to GPU in PyTorch\n",
    "Building the model, Instantiate the model class, Instantiate the loss class, Instantiate the optimizer class are the same as CPU. Just we should move the model to cuda by the code `model_name.cuda()` and then move the variables to cuda by the code `variable_name.cuda()`."
   ]
  },
  {
   "cell_type": "markdown",
   "metadata": {},
   "source": [
    "### Building a model"
   ]
  },
  {
   "cell_type": "code",
   "execution_count": 17,
   "metadata": {},
   "outputs": [],
   "source": [
    "# create a class\n",
    "class LinearRegressionModel(nn.Module):\n",
    "    def __init__(self, input_size, output_size):\n",
    "        super(LinearRegressionModel, self).__init__() #to inherit every things from nn.Module\n",
    "        self.linear = nn.Linear(input_dim, output_dim)\n",
    "        \n",
    "    def forward(self, x):\n",
    "        y_pred = self.linear(x) # x from y=2x+1\n",
    "        return y_pred        "
   ]
  },
  {
   "cell_type": "markdown",
   "metadata": {},
   "source": [
    "####  Instantiate model class"
   ]
  },
  {
   "cell_type": "code",
   "execution_count": 18,
   "metadata": {},
   "outputs": [],
   "source": [
    "input_dim = 1 #it means that we pass one x to the modeland receive one output label\n",
    "output_dim = 1\n",
    "\n",
    "model = LinearRegressionModel(input_dim, output_dim) #model is an object"
   ]
  },
  {
   "cell_type": "code",
   "execution_count": 19,
   "metadata": {},
   "outputs": [],
   "source": [
    "#########################\n",
    "# use GPU for the model #\n",
    "#########################\n",
    "if torch.cuda.is_available():\n",
    "    model.cuda()"
   ]
  },
  {
   "cell_type": "markdown",
   "metadata": {},
   "source": [
    "####  Instantiate loss class"
   ]
  },
  {
   "cell_type": "code",
   "execution_count": 20,
   "metadata": {},
   "outputs": [],
   "source": [
    "criterion=nn.MSELoss()"
   ]
  },
  {
   "cell_type": "markdown",
   "metadata": {},
   "source": [
    "####  Instantiate optimizer class\n",
    "\n",
    "- Simplified equation for updating parameters is $\\theta=\\theta-\\eta\\cdot\\nabla_\\theta$, where $\\theta$ is parameters (our variables, i.e., $\\alpha$ and $\\beta$ in equation $y=\\alpha x+\\beta$), $\\eta$ is learning rate (how fast we want the model to learn), and $\\nabla_\\theta$ is parameters' gradients."
   ]
  },
  {
   "cell_type": "code",
   "execution_count": 21,
   "metadata": {},
   "outputs": [],
   "source": [
    "learning_rate = 0.01\n",
    "\n",
    "optimizer = torch.optim.SGD(model.parameters(),lr=learning_rate)"
   ]
  },
  {
   "cell_type": "markdown",
   "metadata": {},
   "source": [
    "### Train the model (on GPU)"
   ]
  },
  {
   "cell_type": "code",
   "execution_count": 22,
   "metadata": {},
   "outputs": [],
   "source": [
    "epochs=100"
   ]
  },
  {
   "cell_type": "code",
   "execution_count": 23,
   "metadata": {},
   "outputs": [
    {
     "name": "stdout",
     "output_type": "stream",
     "text": [
      "epoch 1, loss 68.62640380859375\n",
      "epoch 2, loss 5.9003825187683105\n",
      "epoch 3, loss 0.7806392908096313\n",
      "epoch 4, loss 0.35969507694244385\n",
      "epoch 5, loss 0.32205435633659363\n",
      "epoch 6, loss 0.3157155215740204\n",
      "epoch 7, loss 0.3119660019874573\n",
      "epoch 8, loss 0.30846408009529114\n",
      "epoch 9, loss 0.30501824617385864\n",
      "epoch 10, loss 0.301611989736557\n",
      "epoch 11, loss 0.2982439696788788\n",
      "epoch 12, loss 0.2949133813381195\n",
      "epoch 13, loss 0.29162007570266724\n",
      "epoch 14, loss 0.2883637547492981\n",
      "epoch 15, loss 0.28514334559440613\n",
      "epoch 16, loss 0.2819594442844391\n",
      "epoch 17, loss 0.27881085872650146\n",
      "epoch 18, loss 0.2756972312927246\n",
      "epoch 19, loss 0.27261871099472046\n",
      "epoch 20, loss 0.2695744037628174\n",
      "epoch 21, loss 0.2665640115737915\n",
      "epoch 22, loss 0.2635873556137085\n",
      "epoch 23, loss 0.2606441378593445\n",
      "epoch 24, loss 0.2577333152294159\n",
      "epoch 25, loss 0.25485533475875854\n",
      "epoch 26, loss 0.2520093023777008\n",
      "epoch 27, loss 0.24919529259204865\n",
      "epoch 28, loss 0.2464127093553543\n",
      "epoch 29, loss 0.24366074800491333\n",
      "epoch 30, loss 0.2409399002790451\n",
      "epoch 31, loss 0.2382494956254959\n",
      "epoch 32, loss 0.2355889230966568\n",
      "epoch 33, loss 0.23295798897743225\n",
      "epoch 34, loss 0.23035673797130585\n",
      "epoch 35, loss 0.22778454422950745\n",
      "epoch 36, loss 0.22524094581604004\n",
      "epoch 37, loss 0.22272564470767975\n",
      "epoch 38, loss 0.22023829817771912\n",
      "epoch 39, loss 0.21777881681919098\n",
      "epoch 40, loss 0.2153470516204834\n",
      "epoch 41, loss 0.21294213831424713\n",
      "epoch 42, loss 0.21056467294692993\n",
      "epoch 43, loss 0.2082129567861557\n",
      "epoch 44, loss 0.20588801801204681\n",
      "epoch 45, loss 0.20358896255493164\n",
      "epoch 46, loss 0.20131564140319824\n",
      "epoch 47, loss 0.19906750321388245\n",
      "epoch 48, loss 0.19684453308582306\n",
      "epoch 49, loss 0.19464631378650665\n",
      "epoch 50, loss 0.1924726814031601\n",
      "epoch 51, loss 0.19032350182533264\n",
      "epoch 52, loss 0.18819810450077057\n",
      "epoch 53, loss 0.18609662353992462\n",
      "epoch 54, loss 0.18401850759983063\n",
      "epoch 55, loss 0.18196357786655426\n",
      "epoch 56, loss 0.1799316257238388\n",
      "epoch 57, loss 0.17792238295078278\n",
      "epoch 58, loss 0.1759355068206787\n",
      "epoch 59, loss 0.17397072911262512\n",
      "epoch 60, loss 0.172028049826622\n",
      "epoch 61, loss 0.1701069176197052\n",
      "epoch 62, loss 0.16820745170116425\n",
      "epoch 63, loss 0.1663293093442917\n",
      "epoch 64, loss 0.16447173058986664\n",
      "epoch 65, loss 0.1626352220773697\n",
      "epoch 66, loss 0.16081906855106354\n",
      "epoch 67, loss 0.1590232253074646\n",
      "epoch 68, loss 0.15724748373031616\n",
      "epoch 69, loss 0.1554913967847824\n",
      "epoch 70, loss 0.15375517308712006\n",
      "epoch 71, loss 0.152038112282753\n",
      "epoch 72, loss 0.1503402143716812\n",
      "epoch 73, loss 0.14866173267364502\n",
      "epoch 74, loss 0.1470014452934265\n",
      "epoch 75, loss 0.1453598588705063\n",
      "epoch 76, loss 0.1437368094921112\n",
      "epoch 77, loss 0.14213164150714874\n",
      "epoch 78, loss 0.14054444432258606\n",
      "epoch 79, loss 0.13897505402565002\n",
      "epoch 80, loss 0.1374230980873108\n",
      "epoch 81, loss 0.13588856160640717\n",
      "epoch 82, loss 0.1343710869550705\n",
      "epoch 83, loss 0.13287054002285004\n",
      "epoch 84, loss 0.1313868910074234\n",
      "epoch 85, loss 0.12991951406002045\n",
      "epoch 86, loss 0.128468856215477\n",
      "epoch 87, loss 0.1270342916250229\n",
      "epoch 88, loss 0.1256157010793686\n",
      "epoch 89, loss 0.1242130920290947\n",
      "epoch 90, loss 0.1228259727358818\n",
      "epoch 91, loss 0.12145447731018066\n",
      "epoch 92, loss 0.12009802460670471\n",
      "epoch 93, loss 0.11875686049461365\n",
      "epoch 94, loss 0.11743082851171494\n",
      "epoch 95, loss 0.11611966788768768\n",
      "epoch 96, loss 0.11482281237840652\n",
      "epoch 97, loss 0.11354069411754608\n",
      "epoch 98, loss 0.11227276921272278\n",
      "epoch 99, loss 0.11101897060871124\n",
      "epoch 100, loss 0.1097792461514473\n"
     ]
    }
   ],
   "source": [
    "for epoch in range(epochs):\n",
    "    epoch += 1\n",
    "    \n",
    "    # convert numpy array to torch Variable\n",
    "    #########################\n",
    "    # use GPU for the model #\n",
    "    #########################\n",
    "    if torch.cuda.is_available():\n",
    "        inputs = Variable(torch.from_numpy(X_train).cuda())\n",
    "        labels = Variable(torch.from_numpy(y_train).cuda())\n",
    "    else:\n",
    "        inputs = Variable(torch.from_numpy(X_train))\n",
    "        labels = Variable(torch.from_numpy(y_train))\n",
    "    \n",
    "    # clear gradients w.r.t. parameters\n",
    "    optimizer.zero_grad()\n",
    "    \n",
    "    # forward to get output\n",
    "    predictions = model(inputs)\n",
    "    \n",
    "    # calculate loss\n",
    "    loss = criterion(predictions, labels)\n",
    "    \n",
    "    # get gradients w.r.t. parameters\n",
    "    loss.backward()\n",
    "    \n",
    "    # update parameters\n",
    "    optimizer.step()\n",
    "    \n",
    "    print('epoch {}, loss {}'.format(epoch, loss.data))\n",
    "    "
   ]
  }
 ],
 "metadata": {
  "kernelspec": {
   "display_name": "Python 3",
   "language": "python",
   "name": "python3"
  },
  "language_info": {
   "codemirror_mode": {
    "name": "ipython",
    "version": 3
   },
   "file_extension": ".py",
   "mimetype": "text/x-python",
   "name": "python",
   "nbconvert_exporter": "python",
   "pygments_lexer": "ipython3",
   "version": "3.8.5"
  }
 },
 "nbformat": 4,
 "nbformat_minor": 4
}
