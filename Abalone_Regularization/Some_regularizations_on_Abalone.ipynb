{
 "cells": [
  {
   "cell_type": "markdown",
   "metadata": {
    "id": "jZPxydcF51QU"
   },
   "source": [
    "# Some regularizations on [Abalone](http://archive.ics.uci.edu/ml/datasets/Abalone) dataset\n",
    "By [Zahra Taheri](https://github.com/zahta), November 4, 2020"
   ]
  },
  {
   "cell_type": "markdown",
   "metadata": {
    "id": "FgL-7DcU51QV"
   },
   "source": [
    "### Import libraries"
   ]
  },
  {
   "cell_type": "code",
   "execution_count": 1,
   "metadata": {
    "id": "R49_ppPf51QW"
   },
   "outputs": [],
   "source": [
    "#For some basic operations\n",
    "import numpy as np\n",
    "import pandas as pd\n",
    "\n",
    "import torch\n",
    "import torch.nn as nn\n",
    "\n",
    "#For visualizations\n",
    "import matplotlib as mpl\n",
    "import matplotlib.pyplot as plt\n",
    "\n",
    "import seaborn as sns\n",
    "\n",
    "# to make this notebook's output identical at every run\n",
    "#np.random.seed(42)\n",
    "\n",
    "import warnings\n",
    "warnings.filterwarnings('ignore')"
   ]
  },
  {
   "cell_type": "markdown",
   "metadata": {
    "id": "dN5ZRJE151Qa"
   },
   "source": [
    "## Reading the dataset"
   ]
  },
  {
   "cell_type": "code",
   "execution_count": 2,
   "metadata": {
    "colab": {
     "base_uri": "https://localhost:8080/"
    },
    "id": "PVEdHn5t51Qa",
    "outputId": "39aa176a-1ad0-4410-a0a8-83e8d6c2d200"
   },
   "outputs": [
    {
     "data": {
      "text/plain": [
       "(4177, 9)"
      ]
     },
     "execution_count": 2,
     "metadata": {},
     "output_type": "execute_result"
    }
   ],
   "source": [
    "data=pd.read_csv('abalone.csv')\n",
    "data.shape"
   ]
  },
  {
   "cell_type": "code",
   "execution_count": 3,
   "metadata": {
    "colab": {
     "base_uri": "https://localhost:8080/",
     "height": 204
    },
    "id": "c0dNX5QB51Qf",
    "outputId": "2469ed5c-53f2-42eb-f0c9-9eefa51004a8"
   },
   "outputs": [
    {
     "data": {
      "text/html": [
       "<div>\n",
       "<style scoped>\n",
       "    .dataframe tbody tr th:only-of-type {\n",
       "        vertical-align: middle;\n",
       "    }\n",
       "\n",
       "    .dataframe tbody tr th {\n",
       "        vertical-align: top;\n",
       "    }\n",
       "\n",
       "    .dataframe thead th {\n",
       "        text-align: right;\n",
       "    }\n",
       "</style>\n",
       "<table border=\"1\" class=\"dataframe\">\n",
       "  <thead>\n",
       "    <tr style=\"text-align: right;\">\n",
       "      <th></th>\n",
       "      <th>Sex</th>\n",
       "      <th>Length</th>\n",
       "      <th>Diameter</th>\n",
       "      <th>Height</th>\n",
       "      <th>Whole weight</th>\n",
       "      <th>Shucked weight</th>\n",
       "      <th>Viscera weight</th>\n",
       "      <th>Shell weight</th>\n",
       "      <th>Rings</th>\n",
       "    </tr>\n",
       "  </thead>\n",
       "  <tbody>\n",
       "    <tr>\n",
       "      <th>0</th>\n",
       "      <td>M</td>\n",
       "      <td>0.455</td>\n",
       "      <td>0.365</td>\n",
       "      <td>0.095</td>\n",
       "      <td>0.5140</td>\n",
       "      <td>0.2245</td>\n",
       "      <td>0.1010</td>\n",
       "      <td>0.150</td>\n",
       "      <td>15</td>\n",
       "    </tr>\n",
       "    <tr>\n",
       "      <th>1</th>\n",
       "      <td>M</td>\n",
       "      <td>0.350</td>\n",
       "      <td>0.265</td>\n",
       "      <td>0.090</td>\n",
       "      <td>0.2255</td>\n",
       "      <td>0.0995</td>\n",
       "      <td>0.0485</td>\n",
       "      <td>0.070</td>\n",
       "      <td>7</td>\n",
       "    </tr>\n",
       "    <tr>\n",
       "      <th>2</th>\n",
       "      <td>F</td>\n",
       "      <td>0.530</td>\n",
       "      <td>0.420</td>\n",
       "      <td>0.135</td>\n",
       "      <td>0.6770</td>\n",
       "      <td>0.2565</td>\n",
       "      <td>0.1415</td>\n",
       "      <td>0.210</td>\n",
       "      <td>9</td>\n",
       "    </tr>\n",
       "    <tr>\n",
       "      <th>3</th>\n",
       "      <td>M</td>\n",
       "      <td>0.440</td>\n",
       "      <td>0.365</td>\n",
       "      <td>0.125</td>\n",
       "      <td>0.5160</td>\n",
       "      <td>0.2155</td>\n",
       "      <td>0.1140</td>\n",
       "      <td>0.155</td>\n",
       "      <td>10</td>\n",
       "    </tr>\n",
       "    <tr>\n",
       "      <th>4</th>\n",
       "      <td>I</td>\n",
       "      <td>0.330</td>\n",
       "      <td>0.255</td>\n",
       "      <td>0.080</td>\n",
       "      <td>0.2050</td>\n",
       "      <td>0.0895</td>\n",
       "      <td>0.0395</td>\n",
       "      <td>0.055</td>\n",
       "      <td>7</td>\n",
       "    </tr>\n",
       "  </tbody>\n",
       "</table>\n",
       "</div>"
      ],
      "text/plain": [
       "  Sex  Length  Diameter  Height  Whole weight  Shucked weight  Viscera weight  \\\n",
       "0   M   0.455     0.365   0.095        0.5140          0.2245          0.1010   \n",
       "1   M   0.350     0.265   0.090        0.2255          0.0995          0.0485   \n",
       "2   F   0.530     0.420   0.135        0.6770          0.2565          0.1415   \n",
       "3   M   0.440     0.365   0.125        0.5160          0.2155          0.1140   \n",
       "4   I   0.330     0.255   0.080        0.2050          0.0895          0.0395   \n",
       "\n",
       "   Shell weight  Rings  \n",
       "0         0.150     15  \n",
       "1         0.070      7  \n",
       "2         0.210      9  \n",
       "3         0.155     10  \n",
       "4         0.055      7  "
      ]
     },
     "execution_count": 3,
     "metadata": {},
     "output_type": "execute_result"
    }
   ],
   "source": [
    "data.head()"
   ]
  },
  {
   "cell_type": "code",
   "execution_count": 4,
   "metadata": {
    "colab": {
     "base_uri": "https://localhost:8080/"
    },
    "id": "2UzU7SJy51Qj",
    "outputId": "659ccf8d-d4fd-4a38-9345-86c3d9376287"
   },
   "outputs": [
    {
     "name": "stdout",
     "output_type": "stream",
     "text": [
      "<class 'pandas.core.frame.DataFrame'>\n",
      "RangeIndex: 4177 entries, 0 to 4176\n",
      "Data columns (total 9 columns):\n",
      " #   Column          Non-Null Count  Dtype  \n",
      "---  ------          --------------  -----  \n",
      " 0   Sex             4177 non-null   object \n",
      " 1   Length          4177 non-null   float64\n",
      " 2   Diameter        4177 non-null   float64\n",
      " 3   Height          4177 non-null   float64\n",
      " 4   Whole weight    4177 non-null   float64\n",
      " 5   Shucked weight  4177 non-null   float64\n",
      " 6   Viscera weight  4177 non-null   float64\n",
      " 7   Shell weight    4177 non-null   float64\n",
      " 8   Rings           4177 non-null   int64  \n",
      "dtypes: float64(7), int64(1), object(1)\n",
      "memory usage: 293.8+ KB\n"
     ]
    }
   ],
   "source": [
    "data.info()"
   ]
  },
  {
   "cell_type": "markdown",
   "metadata": {
    "id": "Tv0cmysC51Qn"
   },
   "source": [
    "## Descriptive statistics and data visualizations"
   ]
  },
  {
   "cell_type": "code",
   "execution_count": 5,
   "metadata": {
    "colab": {
     "base_uri": "https://localhost:8080/",
     "height": 297
    },
    "id": "O8j8FWS-51Qo",
    "outputId": "288c10bf-12df-4ae7-a87a-89f13be812da"
   },
   "outputs": [
    {
     "data": {
      "text/html": [
       "<div>\n",
       "<style scoped>\n",
       "    .dataframe tbody tr th:only-of-type {\n",
       "        vertical-align: middle;\n",
       "    }\n",
       "\n",
       "    .dataframe tbody tr th {\n",
       "        vertical-align: top;\n",
       "    }\n",
       "\n",
       "    .dataframe thead th {\n",
       "        text-align: right;\n",
       "    }\n",
       "</style>\n",
       "<table border=\"1\" class=\"dataframe\">\n",
       "  <thead>\n",
       "    <tr style=\"text-align: right;\">\n",
       "      <th></th>\n",
       "      <th>Length</th>\n",
       "      <th>Diameter</th>\n",
       "      <th>Height</th>\n",
       "      <th>Whole weight</th>\n",
       "      <th>Shucked weight</th>\n",
       "      <th>Viscera weight</th>\n",
       "      <th>Shell weight</th>\n",
       "      <th>Rings</th>\n",
       "    </tr>\n",
       "  </thead>\n",
       "  <tbody>\n",
       "    <tr>\n",
       "      <th>count</th>\n",
       "      <td>4177.000000</td>\n",
       "      <td>4177.000000</td>\n",
       "      <td>4177.000000</td>\n",
       "      <td>4177.000000</td>\n",
       "      <td>4177.000000</td>\n",
       "      <td>4177.000000</td>\n",
       "      <td>4177.000000</td>\n",
       "      <td>4177.000000</td>\n",
       "    </tr>\n",
       "    <tr>\n",
       "      <th>mean</th>\n",
       "      <td>0.523992</td>\n",
       "      <td>0.407881</td>\n",
       "      <td>0.139516</td>\n",
       "      <td>0.828742</td>\n",
       "      <td>0.359367</td>\n",
       "      <td>0.180594</td>\n",
       "      <td>0.238831</td>\n",
       "      <td>9.933684</td>\n",
       "    </tr>\n",
       "    <tr>\n",
       "      <th>std</th>\n",
       "      <td>0.120093</td>\n",
       "      <td>0.099240</td>\n",
       "      <td>0.041827</td>\n",
       "      <td>0.490389</td>\n",
       "      <td>0.221963</td>\n",
       "      <td>0.109614</td>\n",
       "      <td>0.139203</td>\n",
       "      <td>3.224169</td>\n",
       "    </tr>\n",
       "    <tr>\n",
       "      <th>min</th>\n",
       "      <td>0.075000</td>\n",
       "      <td>0.055000</td>\n",
       "      <td>0.000000</td>\n",
       "      <td>0.002000</td>\n",
       "      <td>0.001000</td>\n",
       "      <td>0.000500</td>\n",
       "      <td>0.001500</td>\n",
       "      <td>1.000000</td>\n",
       "    </tr>\n",
       "    <tr>\n",
       "      <th>25%</th>\n",
       "      <td>0.450000</td>\n",
       "      <td>0.350000</td>\n",
       "      <td>0.115000</td>\n",
       "      <td>0.441500</td>\n",
       "      <td>0.186000</td>\n",
       "      <td>0.093500</td>\n",
       "      <td>0.130000</td>\n",
       "      <td>8.000000</td>\n",
       "    </tr>\n",
       "    <tr>\n",
       "      <th>50%</th>\n",
       "      <td>0.545000</td>\n",
       "      <td>0.425000</td>\n",
       "      <td>0.140000</td>\n",
       "      <td>0.799500</td>\n",
       "      <td>0.336000</td>\n",
       "      <td>0.171000</td>\n",
       "      <td>0.234000</td>\n",
       "      <td>9.000000</td>\n",
       "    </tr>\n",
       "    <tr>\n",
       "      <th>75%</th>\n",
       "      <td>0.615000</td>\n",
       "      <td>0.480000</td>\n",
       "      <td>0.165000</td>\n",
       "      <td>1.153000</td>\n",
       "      <td>0.502000</td>\n",
       "      <td>0.253000</td>\n",
       "      <td>0.329000</td>\n",
       "      <td>11.000000</td>\n",
       "    </tr>\n",
       "    <tr>\n",
       "      <th>max</th>\n",
       "      <td>0.815000</td>\n",
       "      <td>0.650000</td>\n",
       "      <td>1.130000</td>\n",
       "      <td>2.825500</td>\n",
       "      <td>1.488000</td>\n",
       "      <td>0.760000</td>\n",
       "      <td>1.005000</td>\n",
       "      <td>29.000000</td>\n",
       "    </tr>\n",
       "  </tbody>\n",
       "</table>\n",
       "</div>"
      ],
      "text/plain": [
       "            Length     Diameter       Height  Whole weight  Shucked weight  \\\n",
       "count  4177.000000  4177.000000  4177.000000   4177.000000     4177.000000   \n",
       "mean      0.523992     0.407881     0.139516      0.828742        0.359367   \n",
       "std       0.120093     0.099240     0.041827      0.490389        0.221963   \n",
       "min       0.075000     0.055000     0.000000      0.002000        0.001000   \n",
       "25%       0.450000     0.350000     0.115000      0.441500        0.186000   \n",
       "50%       0.545000     0.425000     0.140000      0.799500        0.336000   \n",
       "75%       0.615000     0.480000     0.165000      1.153000        0.502000   \n",
       "max       0.815000     0.650000     1.130000      2.825500        1.488000   \n",
       "\n",
       "       Viscera weight  Shell weight        Rings  \n",
       "count     4177.000000   4177.000000  4177.000000  \n",
       "mean         0.180594      0.238831     9.933684  \n",
       "std          0.109614      0.139203     3.224169  \n",
       "min          0.000500      0.001500     1.000000  \n",
       "25%          0.093500      0.130000     8.000000  \n",
       "50%          0.171000      0.234000     9.000000  \n",
       "75%          0.253000      0.329000    11.000000  \n",
       "max          0.760000      1.005000    29.000000  "
      ]
     },
     "execution_count": 5,
     "metadata": {},
     "output_type": "execute_result"
    }
   ],
   "source": [
    "#Describe the dataset\n",
    "\n",
    "data.describe()"
   ]
  },
  {
   "cell_type": "code",
   "execution_count": 6,
   "metadata": {
    "colab": {
     "base_uri": "https://localhost:8080/"
    },
    "id": "fkG4XDuK51Qs",
    "outputId": "3bd3de61-ac00-49a5-b28d-2a129d3285cc"
   },
   "outputs": [
    {
     "data": {
      "text/plain": [
       "Sex    3\n",
       "dtype: int64"
      ]
     },
     "execution_count": 6,
     "metadata": {},
     "output_type": "execute_result"
    }
   ],
   "source": [
    "#Check the no. of unique items in each categorical column\n",
    "\n",
    "data.select_dtypes('object').nunique()"
   ]
  },
  {
   "cell_type": "code",
   "execution_count": 7,
   "metadata": {
    "colab": {
     "base_uri": "https://localhost:8080/"
    },
    "id": "KsR6fPAy51Qw",
    "outputId": "1e819f85-a294-4b38-ea34-b99cd04a4b5b"
   },
   "outputs": [
    {
     "name": "stdout",
     "output_type": "stream",
     "text": [
      "Sex               0.0\n",
      "Length            0.0\n",
      "Diameter          0.0\n",
      "Height            0.0\n",
      "Whole weight      0.0\n",
      "Shucked weight    0.0\n",
      "Viscera weight    0.0\n",
      "Shell weight      0.0\n",
      "Rings             0.0\n",
      "dtype: float64\n"
     ]
    }
   ],
   "source": [
    "# Percentage of missing data in each column\n",
    "\n",
    "number_of_columns = data.shape[0]\n",
    "percentage_of_missing_data = data.isnull().sum()/number_of_columns\n",
    "print(percentage_of_missing_data)"
   ]
  },
  {
   "cell_type": "code",
   "execution_count": 8,
   "metadata": {
    "colab": {
     "base_uri": "https://localhost:8080/",
     "height": 204
    },
    "id": "z_nrssDG51Q0",
    "outputId": "72b33a3c-06d9-4cd7-bbeb-e81bb17f6c95"
   },
   "outputs": [
    {
     "data": {
      "text/html": [
       "<div>\n",
       "<style scoped>\n",
       "    .dataframe tbody tr th:only-of-type {\n",
       "        vertical-align: middle;\n",
       "    }\n",
       "\n",
       "    .dataframe tbody tr th {\n",
       "        vertical-align: top;\n",
       "    }\n",
       "\n",
       "    .dataframe thead th {\n",
       "        text-align: right;\n",
       "    }\n",
       "</style>\n",
       "<table border=\"1\" class=\"dataframe\">\n",
       "  <thead>\n",
       "    <tr style=\"text-align: right;\">\n",
       "      <th></th>\n",
       "      <th>Sex</th>\n",
       "      <th>Length</th>\n",
       "      <th>Diameter</th>\n",
       "      <th>Height</th>\n",
       "      <th>Whole weight</th>\n",
       "      <th>Shucked weight</th>\n",
       "      <th>Viscera weight</th>\n",
       "      <th>Shell weight</th>\n",
       "      <th>age</th>\n",
       "    </tr>\n",
       "  </thead>\n",
       "  <tbody>\n",
       "    <tr>\n",
       "      <th>0</th>\n",
       "      <td>M</td>\n",
       "      <td>0.455</td>\n",
       "      <td>0.365</td>\n",
       "      <td>0.095</td>\n",
       "      <td>0.5140</td>\n",
       "      <td>0.2245</td>\n",
       "      <td>0.1010</td>\n",
       "      <td>0.150</td>\n",
       "      <td>16.5</td>\n",
       "    </tr>\n",
       "    <tr>\n",
       "      <th>1</th>\n",
       "      <td>M</td>\n",
       "      <td>0.350</td>\n",
       "      <td>0.265</td>\n",
       "      <td>0.090</td>\n",
       "      <td>0.2255</td>\n",
       "      <td>0.0995</td>\n",
       "      <td>0.0485</td>\n",
       "      <td>0.070</td>\n",
       "      <td>8.5</td>\n",
       "    </tr>\n",
       "    <tr>\n",
       "      <th>2</th>\n",
       "      <td>F</td>\n",
       "      <td>0.530</td>\n",
       "      <td>0.420</td>\n",
       "      <td>0.135</td>\n",
       "      <td>0.6770</td>\n",
       "      <td>0.2565</td>\n",
       "      <td>0.1415</td>\n",
       "      <td>0.210</td>\n",
       "      <td>10.5</td>\n",
       "    </tr>\n",
       "    <tr>\n",
       "      <th>3</th>\n",
       "      <td>M</td>\n",
       "      <td>0.440</td>\n",
       "      <td>0.365</td>\n",
       "      <td>0.125</td>\n",
       "      <td>0.5160</td>\n",
       "      <td>0.2155</td>\n",
       "      <td>0.1140</td>\n",
       "      <td>0.155</td>\n",
       "      <td>11.5</td>\n",
       "    </tr>\n",
       "    <tr>\n",
       "      <th>4</th>\n",
       "      <td>I</td>\n",
       "      <td>0.330</td>\n",
       "      <td>0.255</td>\n",
       "      <td>0.080</td>\n",
       "      <td>0.2050</td>\n",
       "      <td>0.0895</td>\n",
       "      <td>0.0395</td>\n",
       "      <td>0.055</td>\n",
       "      <td>8.5</td>\n",
       "    </tr>\n",
       "  </tbody>\n",
       "</table>\n",
       "</div>"
      ],
      "text/plain": [
       "  Sex  Length  Diameter  Height  Whole weight  Shucked weight  Viscera weight  \\\n",
       "0   M   0.455     0.365   0.095        0.5140          0.2245          0.1010   \n",
       "1   M   0.350     0.265   0.090        0.2255          0.0995          0.0485   \n",
       "2   F   0.530     0.420   0.135        0.6770          0.2565          0.1415   \n",
       "3   M   0.440     0.365   0.125        0.5160          0.2155          0.1140   \n",
       "4   I   0.330     0.255   0.080        0.2050          0.0895          0.0395   \n",
       "\n",
       "   Shell weight   age  \n",
       "0         0.150  16.5  \n",
       "1         0.070   8.5  \n",
       "2         0.210  10.5  \n",
       "3         0.155  11.5  \n",
       "4         0.055   8.5  "
      ]
     },
     "execution_count": 8,
     "metadata": {},
     "output_type": "execute_result"
    }
   ],
   "source": [
    "data['age'] = data['Rings']+1.5\n",
    "data.drop('Rings', axis = 1, inplace = True)\n",
    "data.head()"
   ]
  },
  {
   "cell_type": "code",
   "execution_count": 9,
   "metadata": {
    "_cell_guid": "9c122298-471f-4f02-aa14-5d4218385f56",
    "_execution_state": "idle",
    "_uuid": "cc96273ceb750522bc1f48e76599bbe12f384e9d",
    "colab": {
     "base_uri": "https://localhost:8080/",
     "height": 356
    },
    "id": "HWlVIp4u51Q2",
    "outputId": "c04340a6-24ee-470a-f566-81589b31e29f"
   },
   "outputs": [
    {
     "data": {
      "text/plain": [
       "<matplotlib.axes._subplots.AxesSubplot at 0x2a6d1c34850>"
      ]
     },
     "execution_count": 9,
     "metadata": {},
     "output_type": "execute_result"
    },
    {
     "data": {
      "image/png": "[encoded data removed]",
      "text/plain": [
       "<Figure size 432x288 with 2 Axes>"
      ]
     },
     "metadata": {
      "needs_background": "light"
     },
     "output_type": "display_data"
    }
   ],
   "source": [
    "# Correlations\n",
    "\n",
    "sns.heatmap(data.corr(), annot = True)"
   ]
  },
  {
   "cell_type": "code",
   "execution_count": 10,
   "metadata": {
    "colab": {
     "base_uri": "https://localhost:8080/",
     "height": 720
    },
    "id": "S6VFgpfX51Q5",
    "outputId": "9ce2a124-473d-4a54-c7cb-ccc2eeaea723"
   },
   "outputs": [
    {
     "data": {
      "image/png": "[encoded data removed]",
      "text/plain": [
       "<Figure size 1440x1080 with 9 Axes>"
      ]
     },
     "metadata": {
      "needs_background": "light"
     },
     "output_type": "display_data"
    }
   ],
   "source": [
    "data.hist(bins=100, figsize=(20,15), color='purple')\n",
    "\n",
    "plt.show()"
   ]
  },
  {
   "cell_type": "code",
   "execution_count": 11,
   "metadata": {
    "colab": {
     "base_uri": "https://localhost:8080/",
     "height": 359
    },
    "id": "ub9D7dkQqgop",
    "outputId": "df620ae8-6271-4d80-8622-9d7a4d7c1a61"
   },
   "outputs": [
    {
     "data": {
      "text/html": [
       "<div>\n",
       "<style scoped>\n",
       "    .dataframe tbody tr th:only-of-type {\n",
       "        vertical-align: middle;\n",
       "    }\n",
       "\n",
       "    .dataframe tbody tr th {\n",
       "        vertical-align: top;\n",
       "    }\n",
       "\n",
       "    .dataframe thead th {\n",
       "        text-align: right;\n",
       "    }\n",
       "</style>\n",
       "<table border=\"1\" class=\"dataframe\">\n",
       "  <thead>\n",
       "    <tr style=\"text-align: right;\">\n",
       "      <th></th>\n",
       "      <th>Sex</th>\n",
       "    </tr>\n",
       "  </thead>\n",
       "  <tbody>\n",
       "    <tr>\n",
       "      <th>0</th>\n",
       "      <td>M</td>\n",
       "    </tr>\n",
       "    <tr>\n",
       "      <th>1</th>\n",
       "      <td>M</td>\n",
       "    </tr>\n",
       "    <tr>\n",
       "      <th>2</th>\n",
       "      <td>F</td>\n",
       "    </tr>\n",
       "    <tr>\n",
       "      <th>3</th>\n",
       "      <td>M</td>\n",
       "    </tr>\n",
       "    <tr>\n",
       "      <th>4</th>\n",
       "      <td>I</td>\n",
       "    </tr>\n",
       "    <tr>\n",
       "      <th>5</th>\n",
       "      <td>I</td>\n",
       "    </tr>\n",
       "    <tr>\n",
       "      <th>6</th>\n",
       "      <td>F</td>\n",
       "    </tr>\n",
       "    <tr>\n",
       "      <th>7</th>\n",
       "      <td>F</td>\n",
       "    </tr>\n",
       "    <tr>\n",
       "      <th>8</th>\n",
       "      <td>M</td>\n",
       "    </tr>\n",
       "    <tr>\n",
       "      <th>9</th>\n",
       "      <td>F</td>\n",
       "    </tr>\n",
       "  </tbody>\n",
       "</table>\n",
       "</div>"
      ],
      "text/plain": [
       "  Sex\n",
       "0   M\n",
       "1   M\n",
       "2   F\n",
       "3   M\n",
       "4   I\n",
       "5   I\n",
       "6   F\n",
       "7   F\n",
       "8   M\n",
       "9   F"
      ]
     },
     "execution_count": 11,
     "metadata": {},
     "output_type": "execute_result"
    }
   ],
   "source": [
    "#Preprocess the categorical input feature, `Sex`:\n",
    "data_cat = data[[\"Sex\"]]\n",
    "data_cat.head(10)"
   ]
  },
  {
   "cell_type": "code",
   "execution_count": 12,
   "metadata": {
    "id": "l2nvjJU3qgot"
   },
   "outputs": [],
   "source": [
    "data[\"M\"] = np.nan\n",
    "data[\"F\"] = np.nan\n",
    "data[\"I\"] = np.nan\n",
    "columnName='Sex'\n",
    "for i in range (len(data[columnName])):\n",
    "    if data[columnName][i]=='M':\n",
    "        data['M'][i]=1\n",
    "        data['F'][i]=0\n",
    "        data['I'][i]=0\n",
    "    elif data[columnName][i]=='F':\n",
    "        data['M'][i]=0\n",
    "        data['F'][i]=1\n",
    "        data['I'][i]=0\n",
    "    elif data[columnName][i]=='I' :\n",
    "        data['M'][i]=0\n",
    "        data['F'][i]=0\n",
    "        data['I'][i]=1\n",
    "data=data.drop(['Sex'],axis=1)"
   ]
  },
  {
   "cell_type": "code",
   "execution_count": 13,
   "metadata": {
    "colab": {
     "base_uri": "https://localhost:8080/",
     "height": 204
    },
    "id": "TkCPRnCJhfHd",
    "outputId": "bab2f0c6-f16e-4b16-8b12-888d1ce5820e"
   },
   "outputs": [
    {
     "data": {
      "text/html": [
       "<div>\n",
       "<style scoped>\n",
       "    .dataframe tbody tr th:only-of-type {\n",
       "        vertical-align: middle;\n",
       "    }\n",
       "\n",
       "    .dataframe tbody tr th {\n",
       "        vertical-align: top;\n",
       "    }\n",
       "\n",
       "    .dataframe thead th {\n",
       "        text-align: right;\n",
       "    }\n",
       "</style>\n",
       "<table border=\"1\" class=\"dataframe\">\n",
       "  <thead>\n",
       "    <tr style=\"text-align: right;\">\n",
       "      <th></th>\n",
       "      <th>Length</th>\n",
       "      <th>Diameter</th>\n",
       "      <th>Height</th>\n",
       "      <th>Whole weight</th>\n",
       "      <th>Shucked weight</th>\n",
       "      <th>Viscera weight</th>\n",
       "      <th>Shell weight</th>\n",
       "      <th>age</th>\n",
       "      <th>M</th>\n",
       "      <th>F</th>\n",
       "      <th>I</th>\n",
       "    </tr>\n",
       "  </thead>\n",
       "  <tbody>\n",
       "    <tr>\n",
       "      <th>0</th>\n",
       "      <td>0.455</td>\n",
       "      <td>0.365</td>\n",
       "      <td>0.095</td>\n",
       "      <td>0.5140</td>\n",
       "      <td>0.2245</td>\n",
       "      <td>0.1010</td>\n",
       "      <td>0.150</td>\n",
       "      <td>16.5</td>\n",
       "      <td>1.0</td>\n",
       "      <td>0.0</td>\n",
       "      <td>0.0</td>\n",
       "    </tr>\n",
       "    <tr>\n",
       "      <th>1</th>\n",
       "      <td>0.350</td>\n",
       "      <td>0.265</td>\n",
       "      <td>0.090</td>\n",
       "      <td>0.2255</td>\n",
       "      <td>0.0995</td>\n",
       "      <td>0.0485</td>\n",
       "      <td>0.070</td>\n",
       "      <td>8.5</td>\n",
       "      <td>1.0</td>\n",
       "      <td>0.0</td>\n",
       "      <td>0.0</td>\n",
       "    </tr>\n",
       "    <tr>\n",
       "      <th>2</th>\n",
       "      <td>0.530</td>\n",
       "      <td>0.420</td>\n",
       "      <td>0.135</td>\n",
       "      <td>0.6770</td>\n",
       "      <td>0.2565</td>\n",
       "      <td>0.1415</td>\n",
       "      <td>0.210</td>\n",
       "      <td>10.5</td>\n",
       "      <td>0.0</td>\n",
       "      <td>1.0</td>\n",
       "      <td>0.0</td>\n",
       "    </tr>\n",
       "    <tr>\n",
       "      <th>3</th>\n",
       "      <td>0.440</td>\n",
       "      <td>0.365</td>\n",
       "      <td>0.125</td>\n",
       "      <td>0.5160</td>\n",
       "      <td>0.2155</td>\n",
       "      <td>0.1140</td>\n",
       "      <td>0.155</td>\n",
       "      <td>11.5</td>\n",
       "      <td>1.0</td>\n",
       "      <td>0.0</td>\n",
       "      <td>0.0</td>\n",
       "    </tr>\n",
       "    <tr>\n",
       "      <th>4</th>\n",
       "      <td>0.330</td>\n",
       "      <td>0.255</td>\n",
       "      <td>0.080</td>\n",
       "      <td>0.2050</td>\n",
       "      <td>0.0895</td>\n",
       "      <td>0.0395</td>\n",
       "      <td>0.055</td>\n",
       "      <td>8.5</td>\n",
       "      <td>0.0</td>\n",
       "      <td>0.0</td>\n",
       "      <td>1.0</td>\n",
       "    </tr>\n",
       "  </tbody>\n",
       "</table>\n",
       "</div>"
      ],
      "text/plain": [
       "   Length  Diameter  Height  Whole weight  Shucked weight  Viscera weight  \\\n",
       "0   0.455     0.365   0.095        0.5140          0.2245          0.1010   \n",
       "1   0.350     0.265   0.090        0.2255          0.0995          0.0485   \n",
       "2   0.530     0.420   0.135        0.6770          0.2565          0.1415   \n",
       "3   0.440     0.365   0.125        0.5160          0.2155          0.1140   \n",
       "4   0.330     0.255   0.080        0.2050          0.0895          0.0395   \n",
       "\n",
       "   Shell weight   age    M    F    I  \n",
       "0         0.150  16.5  1.0  0.0  0.0  \n",
       "1         0.070   8.5  1.0  0.0  0.0  \n",
       "2         0.210  10.5  0.0  1.0  0.0  \n",
       "3         0.155  11.5  1.0  0.0  0.0  \n",
       "4         0.055   8.5  0.0  0.0  1.0  "
      ]
     },
     "execution_count": 13,
     "metadata": {},
     "output_type": "execute_result"
    }
   ],
   "source": [
    "data.head()"
   ]
  },
  {
   "cell_type": "code",
   "execution_count": 14,
   "metadata": {
    "colab": {
     "base_uri": "https://localhost:8080/"
    },
    "id": "tOHgSyj851Rb",
    "outputId": "06f4c965-d764-4d63-d6d6-c6755510d43f"
   },
   "outputs": [
    {
     "name": "stdout",
     "output_type": "stream",
     "text": [
      "(4177, 10)\n",
      "(4177,)\n"
     ]
    }
   ],
   "source": [
    "from sklearn import preprocessing\n",
    "\n",
    "X=data.drop(['age'],axis=1)\n",
    "y=data['age']\n",
    "X = preprocessing.normalize(X)\n",
    "\n",
    "print(X.shape)\n",
    "print(y.shape)"
   ]
  },
  {
   "cell_type": "code",
   "execution_count": 15,
   "metadata": {
    "colab": {
     "base_uri": "https://localhost:8080/"
    },
    "id": "KIsMjfyt51Rq",
    "outputId": "822794dc-e723-4ffe-ff56-36a83fb4a7c2"
   },
   "outputs": [
    {
     "data": {
      "text/plain": [
       "(2923, 10)"
      ]
     },
     "execution_count": 15,
     "metadata": {},
     "output_type": "execute_result"
    }
   ],
   "source": [
    "from sklearn.model_selection import train_test_split\n",
    "\n",
    "X_train, X_test, y_train, y_test = train_test_split(X, y, test_size=0.3, random_state=0)\n",
    "X_train.shape"
   ]
  },
  {
   "cell_type": "code",
   "execution_count": 16,
   "metadata": {
    "id": "3iPrnK_-51Ry"
   },
   "outputs": [],
   "source": [
    "train_data = X_train\n",
    "test_data = X_test\n",
    "train_labels = y_train.values.reshape(-1,1)\n",
    "test_labels = y_test.values.reshape(-1,1)"
   ]
  },
  {
   "cell_type": "markdown",
   "metadata": {
    "id": "3s5fAfkYxLYp"
   },
   "source": [
    "## Preparation of the dataset for PyTorch"
   ]
  },
  {
   "cell_type": "code",
   "execution_count": 17,
   "metadata": {
    "id": "zjBZmMz7NEo5"
   },
   "outputs": [],
   "source": [
    "device = torch.device('cuda:0' if torch.cuda.is_available() else 'cpu')"
   ]
  },
  {
   "cell_type": "code",
   "execution_count": 18,
   "metadata": {
    "id": "wJ1L0HBAjGxk"
   },
   "outputs": [],
   "source": [
    "from torch.utils.data import TensorDataset, DataLoader\n",
    "\n",
    "tensor_x = torch.tensor(train_data, dtype=torch.float).to(device) # transform to torch tensor\n",
    "tensor_x2 = torch.tensor(test_data, dtype=torch.float).to(device) "
   ]
  },
  {
   "cell_type": "code",
   "execution_count": 19,
   "metadata": {
    "id": "eZCUXWsRjGxt"
   },
   "outputs": [],
   "source": [
    "tensor_y = torch.tensor(train_labels, dtype=torch.float).to(device)\n",
    "tensor_y2 = torch.tensor(test_labels, dtype=torch.float).to(device)"
   ]
  },
  {
   "cell_type": "code",
   "execution_count": 20,
   "metadata": {
    "id": "viaVSWpsGzDM"
   },
   "outputs": [],
   "source": [
    "train_dataset = TensorDataset(tensor_x, tensor_y) # create your dataset\n",
    "test_dataset = TensorDataset(tensor_x2,tensor_y2)"
   ]
  },
  {
   "cell_type": "markdown",
   "metadata": {
    "id": "0Q3zsgW2jGx8"
   },
   "source": [
    "## Building Feedforward Neural Networks with PyTorch"
   ]
  },
  {
   "cell_type": "code",
   "execution_count": 21,
   "metadata": {
    "id": "RERx3KT0HGoT"
   },
   "outputs": [],
   "source": [
    "# import libraries\n",
    "from torch.autograd import Variable\n",
    "from torchsummary import summary"
   ]
  },
  {
   "cell_type": "markdown",
   "metadata": {
    "id": "RyxPfwK0k2Ro"
   },
   "source": [
    "## L2 regularization"
   ]
  },
  {
   "cell_type": "markdown",
   "metadata": {
    "id": "P_xGYFrsjG0R"
   },
   "source": [
    "### Model A: 3 Hidden Layers Feedforward Neural Network"
   ]
  },
  {
   "cell_type": "markdown",
   "metadata": {
    "id": "Eq-gTJ_SjG0v"
   },
   "source": [
    "### Create model class"
   ]
  },
  {
   "cell_type": "code",
   "execution_count": 22,
   "metadata": {
    "colab": {
     "base_uri": "https://localhost:8080/"
    },
    "id": "yEh7DV00HVU9",
    "outputId": "c788a511-f866-4662-dc5c-354eb50c7faf"
   },
   "outputs": [
    {
     "name": "stdout",
     "output_type": "stream",
     "text": [
      "513\n"
     ]
    }
   ],
   "source": [
    "batch_size = 50\n",
    "n_iters = 30000\n",
    "num_epochs = n_iters / (len(train_data) / batch_size)\n",
    "num_epochs = int(num_epochs)\n",
    "print(num_epochs)"
   ]
  },
  {
   "cell_type": "code",
   "execution_count": 23,
   "metadata": {
    "id": "CoH9zZ4sHX4T"
   },
   "outputs": [],
   "source": [
    "train_loader = DataLoader(train_dataset, batch_size=batch_size, shuffle=True) # create your dataloader\n",
    "\n",
    "test_loader = DataLoader(test_dataset, batch_size=batch_size,  shuffle=False)"
   ]
  },
  {
   "cell_type": "code",
   "execution_count": 24,
   "metadata": {
    "id": "pHP-6Gbrt223"
   },
   "outputs": [],
   "source": [
    "class FNN(nn.Module):\n",
    "    def __init__(self, input_dim, hidden_dim1, hidden_dim2, hidden_dim3, output_dim):\n",
    "        super(FNN, self).__init__()\n",
    "        \n",
    "        self.linear1 = nn.Linear(input_dim, hidden_dim1)\n",
    "        self.relu1 = nn.ReLU()\n",
    "        self.linear2 = nn.Linear(hidden_dim1, hidden_dim2)\n",
    "        self.relu2 = nn.ReLU()\n",
    "        self.linear3 = nn.Linear(hidden_dim2, hidden_dim3)\n",
    "        self.relu3 = nn.ReLU()\n",
    "        self.linear4 = nn.Linear(hidden_dim3, output_dim)\n",
    "        #self.relu4 = nn.ReLU()\n",
    "        \n",
    "    def forward(self, x):\n",
    "        out = self.linear1(x)\n",
    "        out = self.relu1(out)\n",
    "        out = self.linear2(out)\n",
    "        out = self.relu2(out)\n",
    "        out = self.linear3(out)\n",
    "        out = self.relu3(out)\n",
    "        out = self.linear4(out)\n",
    "        #out = self.relu4(out)\n",
    "        return out"
   ]
  },
  {
   "cell_type": "code",
   "execution_count": 25,
   "metadata": {
    "id": "hW1TdbRVt225"
   },
   "outputs": [],
   "source": [
    "input_dim = tensor_x.shape[1]\n",
    "output_dim = 1\n",
    "hidden_dim1 = 100\n",
    "hidden_dim2 = 2000\n",
    "hidden_dim3 = 100"
   ]
  },
  {
   "cell_type": "code",
   "execution_count": 26,
   "metadata": {
    "id": "3xR4dZyut227"
   },
   "outputs": [],
   "source": [
    "model = FNN(input_dim, hidden_dim1, hidden_dim2, hidden_dim3, output_dim)\n",
    "\n",
    "#######################\n",
    "#  USE GPU FOR MODEL  #\n",
    "#######################\n",
    "if torch.cuda.is_available():\n",
    "    model.cuda()\n"
   ]
  },
  {
   "cell_type": "code",
   "execution_count": 27,
   "metadata": {
    "colab": {
     "base_uri": "https://localhost:8080/"
    },
    "id": "yZTOUPrkP5JX",
    "outputId": "837e305a-f038-4090-f24e-8849facead9e"
   },
   "outputs": [
    {
     "name": "stdout",
     "output_type": "stream",
     "text": [
      "----------------------------------------------------------------\n",
      "        Layer (type)               Output Shape         Param #\n",
      "================================================================\n",
      "            Linear-1               [-1, 1, 100]           1,100\n",
      "              ReLU-2               [-1, 1, 100]               0\n",
      "            Linear-3              [-1, 1, 2000]         202,000\n",
      "              ReLU-4              [-1, 1, 2000]               0\n",
      "            Linear-5               [-1, 1, 100]         200,100\n",
      "              ReLU-6               [-1, 1, 100]               0\n",
      "            Linear-7                 [-1, 1, 1]             101\n",
      "================================================================\n",
      "Total params: 403,301\n",
      "Trainable params: 403,301\n",
      "Non-trainable params: 0\n",
      "----------------------------------------------------------------\n",
      "Input size (MB): 0.00\n",
      "Forward/backward pass size (MB): 0.03\n",
      "Params size (MB): 1.54\n",
      "Estimated Total Size (MB): 1.57\n",
      "----------------------------------------------------------------\n"
     ]
    }
   ],
   "source": [
    "summary(model, (1,tensor_x.shape[1]))"
   ]
  },
  {
   "cell_type": "code",
   "execution_count": 28,
   "metadata": {
    "id": "irnPkz-DP5Ji"
   },
   "outputs": [],
   "source": [
    "criterion = nn.MSELoss(reduction='sum')\n",
    "\n",
    "learning_rate = 0.00001\n",
    "LAMBDA = 0.08\n",
    "optimizer = torch.optim.SGD(model.parameters(), lr=learning_rate, weight_decay=LAMBDA)"
   ]
  },
  {
   "cell_type": "markdown",
   "metadata": {
    "id": "nVRGbjHok2SR"
   },
   "source": [
    "#### Train the model with L2 regularization"
   ]
  },
  {
   "cell_type": "code",
   "execution_count": 29,
   "metadata": {
    "colab": {
     "base_uri": "https://localhost:8080/"
    },
    "id": "yIiIq8Kek2SS",
    "outputId": "361c2860-96a0-4576-a203-52539b470331"
   },
   "outputs": [
    {
     "name": "stdout",
     "output_type": "stream",
     "text": [
      "Iteration: 500. Training Loss: 260.03369140625. Test Loss: 72.69435119628906\n",
      "Iteration: 1000. Training Loss: 241.53598022460938. Test Loss: 66.18253326416016\n",
      "Iteration: 1500. Training Loss: 402.8658752441406. Test Loss: 56.3712158203125\n",
      "Iteration: 2000. Training Loss: 423.76885986328125. Test Loss: 56.3272590637207\n",
      "Iteration: 2500. Training Loss: 339.4864807128906. Test Loss: 51.958641052246094\n",
      "Iteration: 3000. Training Loss: 384.6557312011719. Test Loss: 49.07441329956055\n",
      "Iteration: 3500. Training Loss: 330.3978576660156. Test Loss: 44.049049377441406\n",
      "Iteration: 4000. Training Loss: 285.7520446777344. Test Loss: 46.82060623168945\n",
      "Iteration: 4500. Training Loss: 216.02593994140625. Test Loss: 40.438194274902344\n",
      "Iteration: 5000. Training Loss: 420.19342041015625. Test Loss: 36.636512756347656\n",
      "Iteration: 5500. Training Loss: 263.13543701171875. Test Loss: 32.156044006347656\n",
      "Iteration: 6000. Training Loss: 315.45477294921875. Test Loss: 28.14944076538086\n",
      "Iteration: 6500. Training Loss: 269.8758850097656. Test Loss: 24.055858612060547\n",
      "Iteration: 7000. Training Loss: 130.4806671142578. Test Loss: 19.474790573120117\n",
      "Iteration: 7500. Training Loss: 171.96905517578125. Test Loss: 19.724193572998047\n",
      "Iteration: 8000. Training Loss: 223.7233428955078. Test Loss: 12.189009666442871\n",
      "Iteration: 8500. Training Loss: 275.6239013671875. Test Loss: 10.713370323181152\n",
      "Iteration: 9000. Training Loss: 247.1184844970703. Test Loss: 12.700384140014648\n",
      "Iteration: 9500. Training Loss: 187.94720458984375. Test Loss: 9.935935020446777\n",
      "Iteration: 10000. Training Loss: 147.0636444091797. Test Loss: 11.787617683410645\n",
      "Iteration: 10500. Training Loss: 142.2556915283203. Test Loss: 9.04719352722168\n",
      "Iteration: 11000. Training Loss: 178.18988037109375. Test Loss: 8.160120010375977\n",
      "Iteration: 11500. Training Loss: 199.31590270996094. Test Loss: 7.934053421020508\n",
      "Iteration: 12000. Training Loss: 215.59664916992188. Test Loss: 8.070687294006348\n",
      "Iteration: 12500. Training Loss: 267.00347900390625. Test Loss: 7.979127407073975\n",
      "Iteration: 13000. Training Loss: 230.02305603027344. Test Loss: 8.06857967376709\n",
      "Iteration: 13500. Training Loss: 119.5992660522461. Test Loss: 9.245552062988281\n",
      "Iteration: 14000. Training Loss: 358.8365173339844. Test Loss: 8.360026359558105\n",
      "Iteration: 14500. Training Loss: 169.3021240234375. Test Loss: 8.615594863891602\n",
      "Iteration: 15000. Training Loss: 267.89129638671875. Test Loss: 8.215487480163574\n",
      "Iteration: 15500. Training Loss: 177.5759735107422. Test Loss: 7.949314117431641\n",
      "Iteration: 16000. Training Loss: 169.6798095703125. Test Loss: 8.44015884399414\n",
      "Iteration: 16500. Training Loss: 293.8076171875. Test Loss: 8.439647674560547\n",
      "Iteration: 17000. Training Loss: 184.76922607421875. Test Loss: 8.836149215698242\n",
      "Iteration: 17500. Training Loss: 236.29124450683594. Test Loss: 8.425053596496582\n",
      "Iteration: 18000. Training Loss: 149.80812072753906. Test Loss: 8.794485092163086\n",
      "Iteration: 18500. Training Loss: 163.2572784423828. Test Loss: 8.689556121826172\n",
      "Iteration: 19000. Training Loss: 288.6087951660156. Test Loss: 8.317688941955566\n",
      "Iteration: 19500. Training Loss: 184.12872314453125. Test Loss: 8.484614372253418\n",
      "Iteration: 20000. Training Loss: 270.6733703613281. Test Loss: 8.499506950378418\n",
      "Iteration: 20500. Training Loss: 231.4037628173828. Test Loss: 8.406243324279785\n",
      "Iteration: 21000. Training Loss: 234.327392578125. Test Loss: 8.41684627532959\n",
      "Iteration: 21500. Training Loss: 199.58206176757812. Test Loss: 10.208612442016602\n",
      "Iteration: 22000. Training Loss: 145.4025421142578. Test Loss: 10.090909004211426\n",
      "Iteration: 22500. Training Loss: 309.8361511230469. Test Loss: 9.508186340332031\n",
      "Iteration: 23000. Training Loss: 166.15234375. Test Loss: 9.569355964660645\n",
      "Iteration: 23500. Training Loss: 245.73248291015625. Test Loss: 9.13688850402832\n",
      "Iteration: 24000. Training Loss: 162.65379333496094. Test Loss: 9.7034273147583\n",
      "Iteration: 24500. Training Loss: 190.6315460205078. Test Loss: 9.33022689819336\n",
      "Iteration: 25000. Training Loss: 178.19534301757812. Test Loss: 8.945610046386719\n",
      "Iteration: 25500. Training Loss: 137.76426696777344. Test Loss: 9.114678382873535\n",
      "Iteration: 26000. Training Loss: 228.30963134765625. Test Loss: 8.897316932678223\n",
      "Iteration: 26500. Training Loss: 119.21038055419922. Test Loss: 9.657513618469238\n",
      "Iteration: 27000. Training Loss: 214.94590759277344. Test Loss: 9.631851196289062\n",
      "Iteration: 27500. Training Loss: 335.2848815917969. Test Loss: 9.087510108947754\n",
      "Iteration: 28000. Training Loss: 256.6237487792969. Test Loss: 9.106192588806152\n",
      "Iteration: 28500. Training Loss: 285.62933349609375. Test Loss: 9.32023811340332\n",
      "Iteration: 29000. Training Loss: 230.52674865722656. Test Loss: 9.108968734741211\n",
      "Iteration: 29500. Training Loss: 143.74417114257812. Test Loss: 11.109333992004395\n",
      "Iteration: 30000. Training Loss: 228.65573120117188. Test Loss: 9.157816886901855\n"
     ]
    }
   ],
   "source": [
    "# Train the model\n",
    "\n",
    "train_loss = []\n",
    "\n",
    "iter = 0\n",
    "for epoch in range(num_epochs):\n",
    "    \n",
    "    '''\n",
    "    One iteration\n",
    "    '''\n",
    "    for i, (X, labels) in enumerate(train_loader):\n",
    "        #######################\n",
    "        #  USE GPU FOR MODEL  #\n",
    "        #######################\n",
    "        if torch.cuda.is_available():\n",
    "            X = Variable(X.cuda())\n",
    "            labels = Variable(labels.cuda())\n",
    "        else:\n",
    "            X = Variable(X)\n",
    "            labels = Variable(labels)\n",
    "        \n",
    "        # Forward pass to get output/logits\n",
    "        outputs = model(X)\n",
    "        \n",
    "        # Clear gradients w.r.t. parameters\n",
    "        optimizer.zero_grad()\n",
    "        \n",
    "        # Calculate Loss:\n",
    "        loss = criterion(outputs, labels)\n",
    "                \n",
    "        '''\n",
    "        Save loss to draw loss curve\n",
    "        '''\n",
    "        train_loss.append(loss)\n",
    "        ''''''\n",
    "\n",
    "        # Getting gradients w.r.t. parameters\n",
    "        loss.backward()\n",
    "        \n",
    "        # Updating parameters\n",
    "        optimizer.step()\n",
    "        ''''''\n",
    "        \n",
    "        iter += 1\n",
    "    \n",
    "        # Testing the model\n",
    "        if iter % 500 == 0:\n",
    "            # Iterate through test dataset\n",
    "            for X, labels in test_loader:\n",
    "                #######################\n",
    "                #  USE GPU FOR MODEL  #\n",
    "                #######################\n",
    "                if torch.cuda.is_available():\n",
    "                    X = Variable(X.cuda())\n",
    "                else:\n",
    "                    X = Variable(X)    \n",
    "                    \n",
    "                # Forward pass only to get logits/output\n",
    "                outputs = model(X)\n",
    "                \n",
    "                # Calculate Loss:\n",
    "                loss_t = criterion(outputs, labels)\n",
    "                \n",
    "            # Print Loss\n",
    "            print('Iteration: {}. Training Loss: {}. Test Loss: {}'.format(iter, loss.data, loss_t.data))\n",
    "            "
   ]
  },
  {
   "cell_type": "code",
   "execution_count": 30,
   "metadata": {
    "colab": {
     "base_uri": "https://localhost:8080/",
     "height": 350
    },
    "id": "cY4Lcwf7P5Jt",
    "outputId": "d9b2d2e2-d9e4-41ef-e023-f5a7c5a770ea"
   },
   "outputs": [
    {
     "data": {
      "image/png": "[encoded data removed]",
      "text/plain": [
       "<Figure size 504x360 with 1 Axes>"
      ]
     },
     "metadata": {
      "needs_background": "light"
     },
     "output_type": "display_data"
    }
   ],
   "source": [
    "#Plot the loss curve\n",
    "\n",
    "plt.figure(figsize=(7,5))\n",
    "plt.plot(range(len(train_loss)), train_loss)\n",
    "plt.xlabel(\"Iteration\")\n",
    "plt.ylabel(\"MSE\")\n",
    "plt.title(\"Loss curve for training\")\n",
    "plt.show()\n"
   ]
  },
  {
   "cell_type": "code",
   "execution_count": 31,
   "metadata": {
    "id": "wQKRuN8ut23C"
   },
   "outputs": [],
   "source": [
    "save_model = True\n",
    "if save_model is True:\n",
    "    torch.save(model.state_dict(), 'abalone_pytorch_A_l2.pkl')# only save parameters"
   ]
  },
  {
   "cell_type": "markdown",
   "metadata": {
    "id": "ZK2nI5fg9t1K"
   },
   "source": [
    "### Model B: 1 Hidden Layers Feedforward Neural Network"
   ]
  },
  {
   "cell_type": "markdown",
   "metadata": {
    "id": "XsZcoY4f9t1P"
   },
   "source": [
    "### Create model class"
   ]
  },
  {
   "cell_type": "code",
   "execution_count": 32,
   "metadata": {
    "colab": {
     "base_uri": "https://localhost:8080/"
    },
    "id": "i4VGDKZm9t1R",
    "outputId": "c27e4e0b-27eb-4770-ec4f-a71d369c5d52"
   },
   "outputs": [
    {
     "name": "stdout",
     "output_type": "stream",
     "text": [
      "513\n"
     ]
    }
   ],
   "source": [
    "batch_size = 50\n",
    "n_iters = 30000\n",
    "num_epochs = n_iters / (len(train_data) / batch_size)\n",
    "num_epochs = int(num_epochs)\n",
    "print(num_epochs)"
   ]
  },
  {
   "cell_type": "code",
   "execution_count": 33,
   "metadata": {
    "id": "LwS_3q6j9t1c"
   },
   "outputs": [],
   "source": [
    "train_loader = DataLoader(train_dataset, batch_size=batch_size, shuffle=True) # create your dataloader\n",
    "\n",
    "test_loader = DataLoader(test_dataset, batch_size=batch_size,  shuffle=False)"
   ]
  },
  {
   "cell_type": "code",
   "execution_count": 34,
   "metadata": {
    "id": "k4LO4zDT9t1e"
   },
   "outputs": [],
   "source": [
    "class FNN(nn.Module):\n",
    "    def __init__(self, input_dim, hidden_dim1, output_dim):\n",
    "        super(FNN, self).__init__()\n",
    "        \n",
    "        self.linear1 = nn.Linear(input_dim, hidden_dim1)\n",
    "        self.relu1 = nn.ReLU()\n",
    "        self.linear4 = nn.Linear(hidden_dim1, output_dim)\n",
    "        \n",
    "    def forward(self, x):\n",
    "        out = self.linear1(x)\n",
    "        out = self.relu1(out)\n",
    "        out = self.linear4(out)\n",
    "        return out"
   ]
  },
  {
   "cell_type": "code",
   "execution_count": 35,
   "metadata": {
    "id": "vXjJVVlZ9t1h"
   },
   "outputs": [],
   "source": [
    "input_dim = tensor_x.shape[1]\n",
    "output_dim = 1\n",
    "hidden_dim1 = 256"
   ]
  },
  {
   "cell_type": "code",
   "execution_count": 36,
   "metadata": {
    "id": "Sqlh3Yuc9t1j"
   },
   "outputs": [],
   "source": [
    "model = FNN(input_dim, hidden_dim1, output_dim)\n",
    "\n",
    "#######################\n",
    "#  USE GPU FOR MODEL  #\n",
    "#######################\n",
    "if torch.cuda.is_available():\n",
    "    model.cuda()\n"
   ]
  },
  {
   "cell_type": "code",
   "execution_count": 37,
   "metadata": {
    "colab": {
     "base_uri": "https://localhost:8080/"
    },
    "id": "jWTxycOP9t1n",
    "outputId": "d1eaa253-7cfc-487d-8fa3-bd52c7eea0bd"
   },
   "outputs": [
    {
     "name": "stdout",
     "output_type": "stream",
     "text": [
      "----------------------------------------------------------------\n",
      "        Layer (type)               Output Shape         Param #\n",
      "================================================================\n",
      "            Linear-1               [-1, 1, 256]           2,816\n",
      "              ReLU-2               [-1, 1, 256]               0\n",
      "            Linear-3                 [-1, 1, 1]             257\n",
      "================================================================\n",
      "Total params: 3,073\n",
      "Trainable params: 3,073\n",
      "Non-trainable params: 0\n",
      "----------------------------------------------------------------\n",
      "Input size (MB): 0.00\n",
      "Forward/backward pass size (MB): 0.00\n",
      "Params size (MB): 0.01\n",
      "Estimated Total Size (MB): 0.02\n",
      "----------------------------------------------------------------\n"
     ]
    }
   ],
   "source": [
    "summary(model, (1,tensor_x.shape[1]))"
   ]
  },
  {
   "cell_type": "code",
   "execution_count": 38,
   "metadata": {
    "id": "u2iXIwZs9t1p"
   },
   "outputs": [],
   "source": [
    "criterion = nn.MSELoss(reduction='sum')\n",
    "\n",
    "learning_rate = 0.0001\n",
    "LAMBDA = 0.05\n",
    "optimizer = torch.optim.SGD(model.parameters(), lr=learning_rate, weight_decay=LAMBDA)"
   ]
  },
  {
   "cell_type": "markdown",
   "metadata": {
    "id": "jGtBA2-A19gp"
   },
   "source": [
    "#### Train the model with L2 regularization"
   ]
  },
  {
   "cell_type": "code",
   "execution_count": 39,
   "metadata": {
    "colab": {
     "base_uri": "https://localhost:8080/"
    },
    "id": "fJP2t8it9t1r",
    "outputId": "d8e81d48-7df7-498b-93d8-d865e7002d9d"
   },
   "outputs": [
    {
     "name": "stdout",
     "output_type": "stream",
     "text": [
      "Iteration: 500. Training Loss: 510.60028076171875. Test Loss: 57.33059310913086\n",
      "Iteration: 1000. Training Loss: 335.172607421875. Test Loss: 49.339866638183594\n",
      "Iteration: 1500. Training Loss: 347.31396484375. Test Loss: 45.637474060058594\n",
      "Iteration: 2000. Training Loss: 307.09991455078125. Test Loss: 43.164581298828125\n",
      "Iteration: 2500. Training Loss: 285.7611083984375. Test Loss: 34.34172821044922\n",
      "Iteration: 3000. Training Loss: 300.32025146484375. Test Loss: 24.95147705078125\n",
      "Iteration: 3500. Training Loss: 319.6099853515625. Test Loss: 21.069137573242188\n",
      "Iteration: 4000. Training Loss: 179.82675170898438. Test Loss: 19.401275634765625\n",
      "Iteration: 4500. Training Loss: 218.1116485595703. Test Loss: 16.577165603637695\n",
      "Iteration: 5000. Training Loss: 141.18942260742188. Test Loss: 12.339792251586914\n",
      "Iteration: 5500. Training Loss: 222.57843017578125. Test Loss: 11.61417293548584\n",
      "Iteration: 6000. Training Loss: 161.34263610839844. Test Loss: 13.738078117370605\n",
      "Iteration: 6500. Training Loss: 175.72445678710938. Test Loss: 13.861258506774902\n",
      "Iteration: 7000. Training Loss: 331.656005859375. Test Loss: 10.305912017822266\n",
      "Iteration: 7500. Training Loss: 245.6376495361328. Test Loss: 10.973029136657715\n",
      "Iteration: 8000. Training Loss: 250.63111877441406. Test Loss: 10.392032623291016\n",
      "Iteration: 8500. Training Loss: 278.02349853515625. Test Loss: 10.846710205078125\n",
      "Iteration: 9000. Training Loss: 250.15591430664062. Test Loss: 8.837637901306152\n",
      "Iteration: 9500. Training Loss: 166.34713745117188. Test Loss: 10.640544891357422\n",
      "Iteration: 10000. Training Loss: 285.23028564453125. Test Loss: 10.344498634338379\n",
      "Iteration: 10500. Training Loss: 398.7581481933594. Test Loss: 9.472804069519043\n",
      "Iteration: 11000. Training Loss: 283.5566101074219. Test Loss: 9.994421005249023\n",
      "Iteration: 11500. Training Loss: 282.9427490234375. Test Loss: 9.053933143615723\n",
      "Iteration: 12000. Training Loss: 227.84912109375. Test Loss: 10.212621688842773\n",
      "Iteration: 12500. Training Loss: 198.25848388671875. Test Loss: 10.208806037902832\n",
      "Iteration: 13000. Training Loss: 202.33126831054688. Test Loss: 8.764504432678223\n",
      "Iteration: 13500. Training Loss: 181.47848510742188. Test Loss: 11.168524742126465\n",
      "Iteration: 14000. Training Loss: 204.69529724121094. Test Loss: 9.742341995239258\n",
      "Iteration: 14500. Training Loss: 223.3017120361328. Test Loss: 9.425579071044922\n",
      "Iteration: 15000. Training Loss: 203.9574737548828. Test Loss: 9.580738067626953\n",
      "Iteration: 15500. Training Loss: 216.74649047851562. Test Loss: 9.424137115478516\n",
      "Iteration: 16000. Training Loss: 286.8667907714844. Test Loss: 9.732924461364746\n",
      "Iteration: 16500. Training Loss: 201.1895294189453. Test Loss: 10.53335189819336\n",
      "Iteration: 17000. Training Loss: 213.02017211914062. Test Loss: 9.592486381530762\n",
      "Iteration: 17500. Training Loss: 273.4826354980469. Test Loss: 10.14846420288086\n",
      "Iteration: 18000. Training Loss: 319.5518798828125. Test Loss: 9.615382194519043\n",
      "Iteration: 18500. Training Loss: 343.83905029296875. Test Loss: 9.871002197265625\n",
      "Iteration: 19000. Training Loss: 157.7879180908203. Test Loss: 9.700448989868164\n",
      "Iteration: 19500. Training Loss: 163.9778289794922. Test Loss: 11.346603393554688\n",
      "Iteration: 20000. Training Loss: 93.2057876586914. Test Loss: 10.852646827697754\n",
      "Iteration: 20500. Training Loss: 125.0975570678711. Test Loss: 9.916171073913574\n",
      "Iteration: 21000. Training Loss: 238.13479614257812. Test Loss: 9.451848983764648\n",
      "Iteration: 21500. Training Loss: 253.659423828125. Test Loss: 10.599123001098633\n",
      "Iteration: 22000. Training Loss: 147.3077392578125. Test Loss: 11.325312614440918\n",
      "Iteration: 22500. Training Loss: 227.20089721679688. Test Loss: 10.205413818359375\n",
      "Iteration: 23000. Training Loss: 277.40521240234375. Test Loss: 9.792747497558594\n",
      "Iteration: 23500. Training Loss: 146.82550048828125. Test Loss: 10.015117645263672\n",
      "Iteration: 24000. Training Loss: 115.90028381347656. Test Loss: 10.362316131591797\n",
      "Iteration: 24500. Training Loss: 147.85916137695312. Test Loss: 10.423711776733398\n",
      "Iteration: 25000. Training Loss: 198.5461883544922. Test Loss: 10.991015434265137\n",
      "Iteration: 25500. Training Loss: 190.94125366210938. Test Loss: 9.599401473999023\n",
      "Iteration: 26000. Training Loss: 266.6675720214844. Test Loss: 10.296808242797852\n",
      "Iteration: 26500. Training Loss: 176.4936981201172. Test Loss: 10.620450973510742\n",
      "Iteration: 27000. Training Loss: 285.68310546875. Test Loss: 10.593599319458008\n",
      "Iteration: 27500. Training Loss: 212.2082977294922. Test Loss: 10.729852676391602\n",
      "Iteration: 28000. Training Loss: 311.8290710449219. Test Loss: 10.676506996154785\n",
      "Iteration: 28500. Training Loss: 109.83231353759766. Test Loss: 10.834867477416992\n",
      "Iteration: 29000. Training Loss: 118.42414093017578. Test Loss: 10.741989135742188\n",
      "Iteration: 29500. Training Loss: 69.66651153564453. Test Loss: 10.71138858795166\n",
      "Iteration: 30000. Training Loss: 253.950439453125. Test Loss: 10.476099967956543\n"
     ]
    }
   ],
   "source": [
    "\n",
    "# Train the model\n",
    "\n",
    "train_loss = []\n",
    "\n",
    "iter = 0\n",
    "for epoch in range(num_epochs):\n",
    "    \n",
    "    '''\n",
    "    One iteration\n",
    "    '''\n",
    "    for i, (X, labels) in enumerate(train_loader):\n",
    "        #######################\n",
    "        #  USE GPU FOR MODEL  #\n",
    "        #######################\n",
    "        if torch.cuda.is_available():\n",
    "            X = Variable(X.cuda())\n",
    "            labels = Variable(labels.cuda())\n",
    "        else:\n",
    "            X = Variable(X)\n",
    "            labels = Variable(labels)\n",
    "        \n",
    "        # Forward pass to get output/logits\n",
    "        outputs = model(X)\n",
    "        \n",
    "        # Clear gradients w.r.t. parameters\n",
    "        optimizer.zero_grad()\n",
    "        \n",
    "        # Calculate Loss:\n",
    "        loss = criterion(outputs, labels)\n",
    "                \n",
    "        '''\n",
    "        Save loss to draw loss curve\n",
    "        '''\n",
    "        train_loss.append(loss)\n",
    "        ''''''\n",
    "\n",
    "        # Getting gradients w.r.t. parameters\n",
    "        loss.backward()\n",
    "        \n",
    "        # Updating parameters\n",
    "        optimizer.step()\n",
    "        ''''''\n",
    "        \n",
    "        iter += 1\n",
    "    \n",
    "        # Testing the model\n",
    "        if iter % 500 == 0:\n",
    "            # Iterate through test dataset\n",
    "            for X, labels in test_loader:\n",
    "                #######################\n",
    "                #  USE GPU FOR MODEL  #\n",
    "                #######################\n",
    "                if torch.cuda.is_available():\n",
    "                    X = Variable(X.cuda())\n",
    "                else:\n",
    "                    X = Variable(X)    \n",
    "                    \n",
    "                # Forward pass only to get logits/output\n",
    "                outputs = model(X)\n",
    "                \n",
    "                # Calculate Loss:\n",
    "                loss_t = criterion(outputs, labels)\n",
    "                \n",
    "            # Print Loss\n",
    "            print('Iteration: {}. Training Loss: {}. Test Loss: {}'.format(iter, loss.data, loss_t.data))\n",
    "            "
   ]
  },
  {
   "cell_type": "code",
   "execution_count": 40,
   "metadata": {
    "colab": {
     "base_uri": "https://localhost:8080/",
     "height": 350
    },
    "id": "GKYx6OZF9t1u",
    "outputId": "d155b3a6-c9a5-4165-91ae-832e0159200c"
   },
   "outputs": [
    {
     "data": {
      "image/png": "[encoded data removed]",
      "text/plain": [
       "<Figure size 504x360 with 1 Axes>"
      ]
     },
     "metadata": {
      "needs_background": "light"
     },
     "output_type": "display_data"
    }
   ],
   "source": [
    "#Plot the loss curve\n",
    "\n",
    "plt.figure(figsize=(7,5))\n",
    "plt.plot(range(len(train_loss)), train_loss)\n",
    "plt.xlabel(\"Iteration\")\n",
    "plt.ylabel(\"MSE\")\n",
    "plt.title(\"Loss curve for training\")\n",
    "plt.show()\n"
   ]
  },
  {
   "cell_type": "code",
   "execution_count": 41,
   "metadata": {
    "id": "iMroGg3p9t1w"
   },
   "outputs": [],
   "source": [
    "save_model = True\n",
    "if save_model is True:\n",
    "    torch.save(model.state_dict(), 'abalone_pytorch_B_l2.pkl')# only save parameters"
   ]
  },
  {
   "cell_type": "markdown",
   "metadata": {
    "id": "9BuhtUmpolQ7"
   },
   "source": [
    "## L1 regularization"
   ]
  },
  {
   "cell_type": "markdown",
   "metadata": {
    "id": "3ol5SIJz8T2e"
   },
   "source": [
    "### Model A: 3 Hidden Layers Feedforward Neural Network"
   ]
  },
  {
   "cell_type": "markdown",
   "metadata": {
    "id": "Il8_iT8w8T21"
   },
   "source": [
    "### Create model class"
   ]
  },
  {
   "cell_type": "code",
   "execution_count": 22,
   "metadata": {
    "colab": {
     "base_uri": "https://localhost:8080/"
    },
    "id": "_SrwAXbj8T24",
    "outputId": "df478e56-3356-4faf-d1b5-3a2f619c0033"
   },
   "outputs": [
    {
     "name": "stdout",
     "output_type": "stream",
     "text": [
      "513\n"
     ]
    }
   ],
   "source": [
    "batch_size = 50\n",
    "n_iters = 30000\n",
    "num_epochs = n_iters / (len(train_data) / batch_size)\n",
    "num_epochs = int(num_epochs)\n",
    "print(num_epochs)"
   ]
  },
  {
   "cell_type": "code",
   "execution_count": 23,
   "metadata": {
    "id": "7oo7QaAe8T3E"
   },
   "outputs": [],
   "source": [
    "train_loader = DataLoader(train_dataset, batch_size=batch_size, shuffle=True) # create your dataloader\n",
    "\n",
    "test_loader = DataLoader(test_dataset, batch_size=batch_size,  shuffle=False)"
   ]
  },
  {
   "cell_type": "code",
   "execution_count": 24,
   "metadata": {
    "id": "wHnsZ2u-8T3H"
   },
   "outputs": [],
   "source": [
    "class FNN(nn.Module):\n",
    "    def __init__(self, input_dim, hidden_dim1, hidden_dim2, hidden_dim3, output_dim):\n",
    "        super(FNN, self).__init__()\n",
    "        \n",
    "        self.linear1 = nn.Linear(input_dim, hidden_dim1)\n",
    "        self.relu1 = nn.ReLU()\n",
    "        self.linear2 = nn.Linear(hidden_dim1, hidden_dim2)\n",
    "        self.relu2 = nn.ReLU()\n",
    "        self.linear3 = nn.Linear(hidden_dim2, hidden_dim3)\n",
    "        self.relu3 = nn.ReLU()\n",
    "        self.linear4 = nn.Linear(hidden_dim3, output_dim)\n",
    "        #self.relu4 = nn.ReLU()\n",
    "        \n",
    "    def forward(self, x):\n",
    "        out = self.linear1(x)\n",
    "        out = self.relu1(out)\n",
    "        out = self.linear2(out)\n",
    "        out = self.relu2(out)\n",
    "        out = self.linear3(out)\n",
    "        out = self.relu3(out)\n",
    "        out = self.linear4(out)\n",
    "        #out = self.relu4(out)\n",
    "        return out"
   ]
  },
  {
   "cell_type": "code",
   "execution_count": 25,
   "metadata": {
    "id": "O87IDHvU8T3J"
   },
   "outputs": [],
   "source": [
    "input_dim = tensor_x.shape[1]\n",
    "output_dim = 1\n",
    "hidden_dim1 = 100\n",
    "hidden_dim2 = 2000\n",
    "hidden_dim3 = 100"
   ]
  },
  {
   "cell_type": "code",
   "execution_count": 26,
   "metadata": {
    "id": "ta5M9jZZ8T3M"
   },
   "outputs": [],
   "source": [
    "model = FNN(input_dim, hidden_dim1, hidden_dim2, hidden_dim3, output_dim)\n",
    "\n",
    "#######################\n",
    "#  USE GPU FOR MODEL  #\n",
    "#######################\n",
    "if torch.cuda.is_available():\n",
    "    model.cuda()\n"
   ]
  },
  {
   "cell_type": "code",
   "execution_count": 27,
   "metadata": {
    "colab": {
     "base_uri": "https://localhost:8080/"
    },
    "id": "rOQVv4De8T3O",
    "outputId": "20713ef2-3f90-4500-8666-c4721aee95ba"
   },
   "outputs": [
    {
     "name": "stdout",
     "output_type": "stream",
     "text": [
      "----------------------------------------------------------------\n",
      "        Layer (type)               Output Shape         Param #\n",
      "================================================================\n",
      "            Linear-1               [-1, 1, 100]           1,100\n",
      "              ReLU-2               [-1, 1, 100]               0\n",
      "            Linear-3              [-1, 1, 2000]         202,000\n",
      "              ReLU-4              [-1, 1, 2000]               0\n",
      "            Linear-5               [-1, 1, 100]         200,100\n",
      "              ReLU-6               [-1, 1, 100]               0\n",
      "            Linear-7                 [-1, 1, 1]             101\n",
      "================================================================\n",
      "Total params: 403,301\n",
      "Trainable params: 403,301\n",
      "Non-trainable params: 0\n",
      "----------------------------------------------------------------\n",
      "Input size (MB): 0.00\n",
      "Forward/backward pass size (MB): 0.03\n",
      "Params size (MB): 1.54\n",
      "Estimated Total Size (MB): 1.57\n",
      "----------------------------------------------------------------\n"
     ]
    }
   ],
   "source": [
    "summary(model, (1,tensor_x.shape[1]))"
   ]
  },
  {
   "cell_type": "code",
   "execution_count": 28,
   "metadata": {
    "id": "bNvdtfn98T3Q"
   },
   "outputs": [],
   "source": [
    "criterion = nn.MSELoss(reduction='sum')\n",
    "\n",
    "learning_rate = 0.00001\n",
    "optimizer = torch.optim.SGD(model.parameters(), lr=learning_rate)"
   ]
  },
  {
   "cell_type": "markdown",
   "metadata": {
    "id": "L1Td9gG98T3U"
   },
   "source": [
    "#### Train the model with L1 regularization"
   ]
  },
  {
   "cell_type": "code",
   "execution_count": 29,
   "metadata": {
    "colab": {
     "base_uri": "https://localhost:8080/"
    },
    "id": "Fb30h1pP8T3U",
    "outputId": "6a11195a-f0a0-407e-94e3-64aa97d8be4c"
   },
   "outputs": [
    {
     "name": "stdout",
     "output_type": "stream",
     "text": [
      "Iteration: 500. Training Loss: 357.2738952636719. Test Loss: 72.23197937011719\n",
      "Iteration: 1000. Training Loss: 275.524658203125. Test Loss: 70.87078094482422\n",
      "Iteration: 1500. Training Loss: 342.8293151855469. Test Loss: 60.927791595458984\n",
      "Iteration: 2000. Training Loss: 258.19439697265625. Test Loss: 59.00916290283203\n",
      "Iteration: 2500. Training Loss: 186.0392303466797. Test Loss: 53.18733596801758\n",
      "Iteration: 3000. Training Loss: 355.26336669921875. Test Loss: 53.080894470214844\n",
      "Iteration: 3500. Training Loss: 226.15162658691406. Test Loss: 49.452720642089844\n",
      "Iteration: 4000. Training Loss: 280.96820068359375. Test Loss: 45.7349853515625\n",
      "Iteration: 4500. Training Loss: 500.5721130371094. Test Loss: 45.0621452331543\n",
      "Iteration: 5000. Training Loss: 162.7928924560547. Test Loss: 41.69554138183594\n",
      "Iteration: 5500. Training Loss: 272.89739990234375. Test Loss: 39.15443801879883\n",
      "Iteration: 6000. Training Loss: 202.59536743164062. Test Loss: 36.26460266113281\n",
      "Iteration: 6500. Training Loss: 387.145263671875. Test Loss: 31.676429748535156\n",
      "Iteration: 7000. Training Loss: 365.19659423828125. Test Loss: 22.74582290649414\n",
      "Iteration: 7500. Training Loss: 209.10955810546875. Test Loss: 20.91501808166504\n",
      "Iteration: 8000. Training Loss: 260.9598693847656. Test Loss: 16.847660064697266\n",
      "Iteration: 8500. Training Loss: 430.9064636230469. Test Loss: 11.766024589538574\n",
      "Iteration: 9000. Training Loss: 265.5237121582031. Test Loss: 12.816829681396484\n",
      "Iteration: 9500. Training Loss: 151.7942657470703. Test Loss: 9.926643371582031\n",
      "Iteration: 10000. Training Loss: 414.02423095703125. Test Loss: 9.339990615844727\n",
      "Iteration: 10500. Training Loss: 260.0980224609375. Test Loss: 9.27619743347168\n",
      "Iteration: 11000. Training Loss: 328.28887939453125. Test Loss: 9.997554779052734\n",
      "Iteration: 11500. Training Loss: 205.84454345703125. Test Loss: 11.139836311340332\n",
      "Iteration: 12000. Training Loss: 148.03369140625. Test Loss: 9.236559867858887\n",
      "Iteration: 12500. Training Loss: 273.8373107910156. Test Loss: 9.79942512512207\n",
      "Iteration: 13000. Training Loss: 177.45396423339844. Test Loss: 11.671902656555176\n",
      "Iteration: 13500. Training Loss: 498.3501892089844. Test Loss: 10.188262939453125\n",
      "Iteration: 14000. Training Loss: 224.00872802734375. Test Loss: 10.462302207946777\n",
      "Iteration: 14500. Training Loss: 280.0263977050781. Test Loss: 9.046642303466797\n",
      "Iteration: 15000. Training Loss: 290.0716247558594. Test Loss: 9.92276382446289\n",
      "Iteration: 15500. Training Loss: 197.60040283203125. Test Loss: 10.208876609802246\n",
      "Iteration: 16000. Training Loss: 163.87547302246094. Test Loss: 10.013530731201172\n",
      "Iteration: 16500. Training Loss: 154.9454803466797. Test Loss: 11.10566520690918\n",
      "Iteration: 17000. Training Loss: 231.95648193359375. Test Loss: 9.995210647583008\n",
      "Iteration: 17500. Training Loss: 165.9143829345703. Test Loss: 9.471866607666016\n",
      "Iteration: 18000. Training Loss: 139.05990600585938. Test Loss: 10.078230857849121\n",
      "Iteration: 18500. Training Loss: 284.7730407714844. Test Loss: 9.915130615234375\n",
      "Iteration: 19000. Training Loss: 412.0570068359375. Test Loss: 9.857970237731934\n",
      "Iteration: 19500. Training Loss: 170.7135772705078. Test Loss: 8.902555465698242\n",
      "Iteration: 20000. Training Loss: 258.65380859375. Test Loss: 8.81369686126709\n",
      "Iteration: 20500. Training Loss: 211.02755737304688. Test Loss: 9.272668838500977\n",
      "Iteration: 21000. Training Loss: 220.557861328125. Test Loss: 8.809139251708984\n",
      "Iteration: 21500. Training Loss: 264.2416076660156. Test Loss: 9.178322792053223\n",
      "Iteration: 22000. Training Loss: 207.4642791748047. Test Loss: 8.92990779876709\n",
      "Iteration: 22500. Training Loss: 292.1126708984375. Test Loss: 8.880095481872559\n",
      "Iteration: 23000. Training Loss: 116.1493911743164. Test Loss: 9.214335441589355\n",
      "Iteration: 23500. Training Loss: 178.6598663330078. Test Loss: 10.988767623901367\n",
      "Iteration: 24000. Training Loss: 145.75205993652344. Test Loss: 9.136953353881836\n",
      "Iteration: 24500. Training Loss: 130.95794677734375. Test Loss: 8.78429126739502\n",
      "Iteration: 25000. Training Loss: 317.82440185546875. Test Loss: 9.026693344116211\n",
      "Iteration: 25500. Training Loss: 250.89907836914062. Test Loss: 9.209736824035645\n",
      "Iteration: 26000. Training Loss: 268.20111083984375. Test Loss: 9.177446365356445\n",
      "Iteration: 26500. Training Loss: 201.3700408935547. Test Loss: 9.074589729309082\n",
      "Iteration: 27000. Training Loss: 159.13104248046875. Test Loss: 9.346654891967773\n",
      "Iteration: 27500. Training Loss: 241.3274383544922. Test Loss: 8.538657188415527\n",
      "Iteration: 28000. Training Loss: 247.9158172607422. Test Loss: 9.626470565795898\n",
      "Iteration: 28500. Training Loss: 185.7008514404297. Test Loss: 9.328941345214844\n",
      "Iteration: 29000. Training Loss: 274.5923156738281. Test Loss: 8.844795227050781\n",
      "Iteration: 29500. Training Loss: 125.6495132446289. Test Loss: 9.468864440917969\n",
      "Iteration: 30000. Training Loss: 236.154541015625. Test Loss: 9.891731262207031\n"
     ]
    }
   ],
   "source": [
    "# Train the model\n",
    "\n",
    "LAMBDA = 0.001\n",
    "train_loss = []\n",
    "\n",
    "iter = 0\n",
    "for epoch in range(num_epochs):\n",
    "    \n",
    "    '''\n",
    "    One iteration\n",
    "    '''\n",
    "    for i, (X, labels) in enumerate(train_loader):\n",
    "        #######################\n",
    "        #  USE GPU FOR MODEL  #\n",
    "        #######################\n",
    "        if torch.cuda.is_available():\n",
    "            X = Variable(X.cuda())\n",
    "            labels = Variable(labels.cuda())\n",
    "        else:\n",
    "            X = Variable(X)\n",
    "            labels = Variable(labels)\n",
    "        \n",
    "        # Forward pass to get output/logits\n",
    "        outputs = model(X)\n",
    "        \n",
    "        # Clear gradients w.r.t. parameters\n",
    "        optimizer.zero_grad()\n",
    "        \n",
    "        # Calculate Loss:\n",
    "        loss = criterion(outputs, labels)\n",
    "        '''\n",
    "        L1 regularization\n",
    "        '''\n",
    "        l1_regularization = torch.tensor(0).long().to(device)\n",
    "        for param in model.parameters():\n",
    "            l1_regularization += torch.norm(param, 1).long().to(device)\n",
    "            \n",
    "        loss += LAMBDA * l1_regularization\n",
    "               \n",
    "        '''\n",
    "        Save loss to draw loss curve\n",
    "        '''\n",
    "        train_loss.append(loss)\n",
    "        ''''''\n",
    "\n",
    "        # Getting gradients w.r.t. parameters\n",
    "        loss.backward()\n",
    "        \n",
    "        # Updating parameters\n",
    "        optimizer.step()\n",
    "        ''''''\n",
    "        \n",
    "        iter += 1\n",
    "    \n",
    "        # Testing the model\n",
    "        if iter % 500 == 0:\n",
    "            # Iterate through test dataset\n",
    "            for X, labels in test_loader:\n",
    "                #######################\n",
    "                #  USE GPU FOR MODEL  #\n",
    "                #######################\n",
    "                if torch.cuda.is_available():\n",
    "                    X = Variable(X.cuda())\n",
    "                else:\n",
    "                    X = Variable(X)    \n",
    "                    \n",
    "                # Forward pass only to get logits/output\n",
    "                outputs = model(X)\n",
    "                \n",
    "                # Calculate Loss:\n",
    "                loss_t = criterion(outputs, labels)\n",
    "                \n",
    "            # Print Loss\n",
    "            print('Iteration: {}. Training Loss: {}. Test Loss: {}'.format(iter, loss.data, loss_t.data))\n",
    "            "
   ]
  },
  {
   "cell_type": "code",
   "execution_count": 30,
   "metadata": {
    "colab": {
     "base_uri": "https://localhost:8080/",
     "height": 350
    },
    "id": "PdXHhwQ58T3X",
    "outputId": "b1e40d73-20d0-4766-ca9a-57df52895037"
   },
   "outputs": [
    {
     "data": {
      "image/png": "[encoded data removed]",
      "text/plain": [
       "<Figure size 504x360 with 1 Axes>"
      ]
     },
     "metadata": {
      "needs_background": "light"
     },
     "output_type": "display_data"
    }
   ],
   "source": [
    "#Plot the loss curve\n",
    "\n",
    "plt.figure(figsize=(7,5))\n",
    "plt.plot(range(len(train_loss)), train_loss)\n",
    "plt.xlabel(\"Iteration\")\n",
    "plt.ylabel(\"MSE\")\n",
    "plt.title(\"Loss curve for training\")\n",
    "plt.show()\n"
   ]
  },
  {
   "cell_type": "code",
   "execution_count": 31,
   "metadata": {
    "id": "K39QTdP58T3Z"
   },
   "outputs": [],
   "source": [
    "save_model = True\n",
    "if save_model is True:\n",
    "    torch.save(model.state_dict(), 'abalone_pytorch_A_l1.pkl')# only save parameters"
   ]
  },
  {
   "cell_type": "markdown",
   "metadata": {
    "id": "7-at7T_48T3b"
   },
   "source": [
    "### Model B: 1 Hidden Layers Feedforward Neural Network"
   ]
  },
  {
   "cell_type": "markdown",
   "metadata": {
    "id": "WMGVoDkC8T3c"
   },
   "source": [
    "### Create model class"
   ]
  },
  {
   "cell_type": "code",
   "execution_count": 32,
   "metadata": {
    "colab": {
     "base_uri": "https://localhost:8080/"
    },
    "id": "zzfHbPIC8T3c",
    "outputId": "ffc8dc4f-77d6-4807-f62a-720c5aca7f85"
   },
   "outputs": [
    {
     "name": "stdout",
     "output_type": "stream",
     "text": [
      "513\n"
     ]
    }
   ],
   "source": [
    "batch_size = 50\n",
    "n_iters = 30000\n",
    "num_epochs = n_iters / (len(train_data) / batch_size)\n",
    "num_epochs = int(num_epochs)\n",
    "print(num_epochs)"
   ]
  },
  {
   "cell_type": "code",
   "execution_count": 33,
   "metadata": {
    "id": "CjM6qbpa8T3e"
   },
   "outputs": [],
   "source": [
    "train_loader = DataLoader(train_dataset, batch_size=batch_size, shuffle=True) # create your dataloader\n",
    "\n",
    "test_loader = DataLoader(test_dataset, batch_size=batch_size,  shuffle=False)"
   ]
  },
  {
   "cell_type": "code",
   "execution_count": 34,
   "metadata": {
    "id": "pUKY9agZ8T3i"
   },
   "outputs": [],
   "source": [
    "class FNN(nn.Module):\n",
    "    def __init__(self, input_dim, hidden_dim1, output_dim):\n",
    "        super(FNN, self).__init__()\n",
    "        \n",
    "        self.linear1 = nn.Linear(input_dim, hidden_dim1)\n",
    "        self.relu1 = nn.ReLU()\n",
    "        self.linear4 = nn.Linear(hidden_dim1, output_dim)\n",
    "        \n",
    "    def forward(self, x):\n",
    "        out = self.linear1(x)\n",
    "        out = self.relu1(out)\n",
    "        out = self.linear4(out)\n",
    "        return out"
   ]
  },
  {
   "cell_type": "code",
   "execution_count": 35,
   "metadata": {
    "id": "HUfofeiB8T3l"
   },
   "outputs": [],
   "source": [
    "input_dim = tensor_x.shape[1]\n",
    "output_dim = 1\n",
    "hidden_dim1 = 256"
   ]
  },
  {
   "cell_type": "code",
   "execution_count": 36,
   "metadata": {
    "id": "vcUXUcil8T3n"
   },
   "outputs": [],
   "source": [
    "model = FNN(input_dim, hidden_dim1, output_dim)\n",
    "\n",
    "#######################\n",
    "#  USE GPU FOR MODEL  #\n",
    "#######################\n",
    "if torch.cuda.is_available():\n",
    "    model.cuda()\n"
   ]
  },
  {
   "cell_type": "code",
   "execution_count": 37,
   "metadata": {
    "colab": {
     "base_uri": "https://localhost:8080/"
    },
    "id": "e0Ju-Rfe8T3p",
    "outputId": "9259d4c0-2686-4c23-b5ad-1311cd37f844"
   },
   "outputs": [
    {
     "name": "stdout",
     "output_type": "stream",
     "text": [
      "----------------------------------------------------------------\n",
      "        Layer (type)               Output Shape         Param #\n",
      "================================================================\n",
      "            Linear-1               [-1, 1, 256]           2,816\n",
      "              ReLU-2               [-1, 1, 256]               0\n",
      "            Linear-3                 [-1, 1, 1]             257\n",
      "================================================================\n",
      "Total params: 3,073\n",
      "Trainable params: 3,073\n",
      "Non-trainable params: 0\n",
      "----------------------------------------------------------------\n",
      "Input size (MB): 0.00\n",
      "Forward/backward pass size (MB): 0.00\n",
      "Params size (MB): 0.01\n",
      "Estimated Total Size (MB): 0.02\n",
      "----------------------------------------------------------------\n"
     ]
    }
   ],
   "source": [
    "summary(model, (1,tensor_x.shape[1]))"
   ]
  },
  {
   "cell_type": "code",
   "execution_count": 38,
   "metadata": {
    "id": "AU_Bi7tZ8T3r"
   },
   "outputs": [],
   "source": [
    "criterion = nn.MSELoss(reduction='sum')\n",
    "\n",
    "learning_rate = 0.0001\n",
    "optimizer = torch.optim.SGD(model.parameters(), lr=learning_rate)"
   ]
  },
  {
   "cell_type": "markdown",
   "metadata": {
    "id": "F7N3w47S9mib"
   },
   "source": [
    "#### Train the model with L1 regularization"
   ]
  },
  {
   "cell_type": "code",
   "execution_count": 39,
   "metadata": {
    "colab": {
     "base_uri": "https://localhost:8080/"
    },
    "id": "bZvLvYYg9mih",
    "outputId": "74a44120-174a-438f-e34d-410003e4c6a8"
   },
   "outputs": [
    {
     "name": "stdout",
     "output_type": "stream",
     "text": [
      "Iteration: 500. Training Loss: 327.45904541015625. Test Loss: 59.05481719970703\n",
      "Iteration: 1000. Training Loss: 310.3953552246094. Test Loss: 54.62976837158203\n",
      "Iteration: 1500. Training Loss: 218.66636657714844. Test Loss: 46.05103302001953\n",
      "Iteration: 2000. Training Loss: 424.985595703125. Test Loss: 40.84159851074219\n",
      "Iteration: 2500. Training Loss: 247.2696075439453. Test Loss: 30.84187889099121\n",
      "Iteration: 3000. Training Loss: 248.66455078125. Test Loss: 27.643802642822266\n",
      "Iteration: 3500. Training Loss: 221.3201141357422. Test Loss: 21.689098358154297\n",
      "Iteration: 4000. Training Loss: 154.83444213867188. Test Loss: 21.040193557739258\n",
      "Iteration: 4500. Training Loss: 238.17587280273438. Test Loss: 14.382950782775879\n",
      "Iteration: 5000. Training Loss: 203.9432830810547. Test Loss: 15.419294357299805\n",
      "Iteration: 5500. Training Loss: 158.75192260742188. Test Loss: 12.947978973388672\n",
      "Iteration: 6000. Training Loss: 255.21701049804688. Test Loss: 10.055028915405273\n",
      "Iteration: 6500. Training Loss: 224.08473205566406. Test Loss: 10.282244682312012\n",
      "Iteration: 7000. Training Loss: 223.92535400390625. Test Loss: 9.981268882751465\n",
      "Iteration: 7500. Training Loss: 263.7132873535156. Test Loss: 9.284296035766602\n",
      "Iteration: 8000. Training Loss: 203.25711059570312. Test Loss: 11.766841888427734\n",
      "Iteration: 8500. Training Loss: 257.4728088378906. Test Loss: 10.23519515991211\n",
      "Iteration: 9000. Training Loss: 168.31399536132812. Test Loss: 9.960572242736816\n",
      "Iteration: 9500. Training Loss: 153.9007568359375. Test Loss: 10.393034934997559\n",
      "Iteration: 10000. Training Loss: 180.68756103515625. Test Loss: 9.695069313049316\n",
      "Iteration: 10500. Training Loss: 174.38214111328125. Test Loss: 10.254989624023438\n",
      "Iteration: 11000. Training Loss: 311.9301452636719. Test Loss: 9.230268478393555\n",
      "Iteration: 11500. Training Loss: 319.8408203125. Test Loss: 8.961172103881836\n",
      "Iteration: 12000. Training Loss: 122.14970397949219. Test Loss: 9.167357444763184\n",
      "Iteration: 12500. Training Loss: 220.29180908203125. Test Loss: 10.992719650268555\n",
      "Iteration: 13000. Training Loss: 213.86984252929688. Test Loss: 9.630783081054688\n",
      "Iteration: 13500. Training Loss: 226.28012084960938. Test Loss: 13.097686767578125\n",
      "Iteration: 14000. Training Loss: 167.46446228027344. Test Loss: 9.727306365966797\n",
      "Iteration: 14500. Training Loss: 239.6858367919922. Test Loss: 9.997293472290039\n",
      "Iteration: 15000. Training Loss: 231.1630401611328. Test Loss: 9.36000919342041\n",
      "Iteration: 15500. Training Loss: 182.5246124267578. Test Loss: 10.588018417358398\n",
      "Iteration: 16000. Training Loss: 215.92738342285156. Test Loss: 10.592599868774414\n",
      "Iteration: 16500. Training Loss: 155.21299743652344. Test Loss: 9.34111213684082\n",
      "Iteration: 17000. Training Loss: 317.0709533691406. Test Loss: 10.479689598083496\n",
      "Iteration: 17500. Training Loss: 162.6544647216797. Test Loss: 10.479324340820312\n",
      "Iteration: 18000. Training Loss: 329.5865783691406. Test Loss: 8.427005767822266\n",
      "Iteration: 18500. Training Loss: 257.42181396484375. Test Loss: 9.666687965393066\n",
      "Iteration: 19000. Training Loss: 189.10133361816406. Test Loss: 9.909217834472656\n",
      "Iteration: 19500. Training Loss: 157.86575317382812. Test Loss: 10.074385643005371\n",
      "Iteration: 20000. Training Loss: 144.38539123535156. Test Loss: 10.11749267578125\n",
      "Iteration: 20500. Training Loss: 194.24795532226562. Test Loss: 10.31355094909668\n",
      "Iteration: 21000. Training Loss: 270.84869384765625. Test Loss: 9.911642074584961\n",
      "Iteration: 21500. Training Loss: 173.6741180419922. Test Loss: 9.91134262084961\n",
      "Iteration: 22000. Training Loss: 210.9077911376953. Test Loss: 10.20095443725586\n",
      "Iteration: 22500. Training Loss: 238.04962158203125. Test Loss: 10.27532958984375\n",
      "Iteration: 23000. Training Loss: 240.33209228515625. Test Loss: 9.813589096069336\n",
      "Iteration: 23500. Training Loss: 252.21534729003906. Test Loss: 10.369236946105957\n",
      "Iteration: 24000. Training Loss: 282.14752197265625. Test Loss: 10.356377601623535\n",
      "Iteration: 24500. Training Loss: 149.52694702148438. Test Loss: 10.165157318115234\n",
      "Iteration: 25000. Training Loss: 116.09012603759766. Test Loss: 11.166885375976562\n",
      "Iteration: 25500. Training Loss: 285.2896728515625. Test Loss: 10.424846649169922\n",
      "Iteration: 26000. Training Loss: 180.90834045410156. Test Loss: 11.243514060974121\n",
      "Iteration: 26500. Training Loss: 198.40545654296875. Test Loss: 11.50051212310791\n",
      "Iteration: 27000. Training Loss: 287.0395812988281. Test Loss: 11.045809745788574\n",
      "Iteration: 27500. Training Loss: 197.74620056152344. Test Loss: 9.843711853027344\n",
      "Iteration: 28000. Training Loss: 173.19583129882812. Test Loss: 10.620688438415527\n",
      "Iteration: 28500. Training Loss: 218.56378173828125. Test Loss: 10.11924934387207\n",
      "Iteration: 29000. Training Loss: 229.37449645996094. Test Loss: 10.854089736938477\n",
      "Iteration: 29500. Training Loss: 112.24530029296875. Test Loss: 11.473969459533691\n",
      "Iteration: 30000. Training Loss: 232.0784912109375. Test Loss: 11.015722274780273\n"
     ]
    }
   ],
   "source": [
    "# Train the model\n",
    "\n",
    "LAMBDA = 0.001\n",
    "train_loss = []\n",
    "\n",
    "iter = 0\n",
    "for epoch in range(num_epochs):\n",
    "    \n",
    "    '''\n",
    "    One iteration\n",
    "    '''\n",
    "    for i, (X, labels) in enumerate(train_loader):\n",
    "        #######################\n",
    "        #  USE GPU FOR MODEL  #\n",
    "        #######################\n",
    "        if torch.cuda.is_available():\n",
    "            X = Variable(X.cuda())\n",
    "            labels = Variable(labels.cuda())\n",
    "        else:\n",
    "            X = Variable(X)\n",
    "            labels = Variable(labels)\n",
    "        \n",
    "        # Forward pass to get output/logits\n",
    "        outputs = model(X)\n",
    "        \n",
    "        # Clear gradients w.r.t. parameters\n",
    "        optimizer.zero_grad()\n",
    "        \n",
    "        # Calculate Loss:\n",
    "        loss = criterion(outputs, labels)\n",
    "        '''\n",
    "        L1 regularization\n",
    "        '''\n",
    "        l1_regularization = torch.tensor(0).long().to(device)\n",
    "        for param in model.parameters():\n",
    "            l1_regularization += torch.norm(param, 1).long().to(device)\n",
    "            \n",
    "        loss += LAMBDA * l1_regularization\n",
    "               \n",
    "        '''\n",
    "        Save loss to draw loss curve\n",
    "        '''\n",
    "        train_loss.append(loss)\n",
    "        ''''''\n",
    "\n",
    "        # Getting gradients w.r.t. parameters\n",
    "        loss.backward()\n",
    "        \n",
    "        # Updating parameters\n",
    "        optimizer.step()\n",
    "        ''''''\n",
    "        \n",
    "        iter += 1\n",
    "    \n",
    "        # Testing the model\n",
    "        if iter % 500 == 0:\n",
    "            # Iterate through test dataset\n",
    "            for X, labels in test_loader:\n",
    "                #######################\n",
    "                #  USE GPU FOR MODEL  #\n",
    "                #######################\n",
    "                if torch.cuda.is_available():\n",
    "                    X = Variable(X.cuda())\n",
    "                else:\n",
    "                    X = Variable(X)    \n",
    "                    \n",
    "                # Forward pass only to get logits/output\n",
    "                outputs = model(X)\n",
    "                \n",
    "                # Calculate Loss:\n",
    "                loss_t = criterion(outputs, labels)\n",
    "                \n",
    "            # Print Loss\n",
    "            print('Iteration: {}. Training Loss: {}. Test Loss: {}'.format(iter, loss.data, loss_t.data))\n",
    "            "
   ]
  },
  {
   "cell_type": "code",
   "execution_count": 40,
   "metadata": {
    "colab": {
     "base_uri": "https://localhost:8080/",
     "height": 350
    },
    "id": "gYcSH2518T3x",
    "outputId": "3600fc69-d6cf-43fa-c350-d9ac94706dac"
   },
   "outputs": [
    {
     "data": {
      "image/png": "[encoded data removed]",
      "text/plain": [
       "<Figure size 504x360 with 1 Axes>"
      ]
     },
     "metadata": {
      "needs_background": "light"
     },
     "output_type": "display_data"
    }
   ],
   "source": [
    "#Plot the loss curve\n",
    "\n",
    "plt.figure(figsize=(7,5))\n",
    "plt.plot(range(len(train_loss)), train_loss)\n",
    "plt.xlabel(\"Iteration\")\n",
    "plt.ylabel(\"MSE\")\n",
    "plt.title(\"Loss curve for training\")\n",
    "plt.show()\n"
   ]
  },
  {
   "cell_type": "code",
   "execution_count": 41,
   "metadata": {
    "id": "LNvgtb3n8T30"
   },
   "outputs": [],
   "source": [
    "save_model = True\n",
    "if save_model is True:\n",
    "    torch.save(model.state_dict(), 'abalone_pytorch_B_l1.pkl')# only save parameters"
   ]
  }
 ],
 "metadata": {
  "accelerator": "GPU",
  "colab": {
   "collapsed_sections": [
    "P_xGYFrsjG0R"
   ],
   "name": "Abalone_FNN_with_PyTorch.ipynb",
   "provenance": [],
   "toc_visible": true
  },
  "kernelspec": {
   "display_name": "Python 3",
   "language": "python",
   "name": "python3"
  },
  "language_info": {
   "codemirror_mode": {
    "name": "ipython",
    "version": 3
   },
   "file_extension": ".py",
   "mimetype": "text/x-python",
   "name": "python",
   "nbconvert_exporter": "python",
   "pygments_lexer": "ipython3",
   "version": "3.8.5"
  }
 },
 "nbformat": 4,
 "nbformat_minor": 4
}
