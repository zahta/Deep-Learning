{
  "nbformat": 4,
  "nbformat_minor": 0,
  "metadata": {
    "kernelspec": {
      "display_name": "Python 3",
      "language": "python",
      "name": "python3"
    },
    "language_info": {
      "codemirror_mode": {
        "name": "ipython",
        "version": 3
      },
      "file_extension": ".py",
      "mimetype": "text/x-python",
      "name": "python",
      "nbconvert_exporter": "python",
      "pygments_lexer": "ipython3",
      "version": "3.8.5"
    },
    "colab": {
      "name": "Getting-Started-with-PyTorch-1.ipynb",
      "provenance": [],
      "collapsed_sections": [],
      "include_colab_link": true
    },
    "accelerator": "GPU"
  },
  "cells": [
    {
      "cell_type": "markdown",
      "metadata": {
        "id": "view-in-github",
        "colab_type": "text"
      },
      "source": [
        "<a href=\"https://colab.research.google.com/github/zahta/Deep_Learning_F20_Assignments/blob/master/Assignments/Assignment_Set_3/Getting_Started_with_PyTorch_1.ipynb\" target=\"_parent\"><img src=\"https://colab.research.google.com/assets/colab-badge.svg\" alt=\"Open In Colab\"/></a>"
      ]
    },
    {
      "cell_type": "markdown",
      "metadata": {
        "id": "odNt1lmfneyP"
      },
      "source": [
        "# Getting Started with PyTorch \n",
        "By [Zahra Taheri](https://github.com/zahta), September 28, 2020"
      ]
    },
    {
      "cell_type": "markdown",
      "metadata": {
        "id": "u_O6dsNy0mRK"
      },
      "source": [
        "### Import libraries"
      ]
    },
    {
      "cell_type": "code",
      "metadata": {
        "id": "Y3VbdIvl0mRN"
      },
      "source": [
        "import numpy as np\n",
        "import torch"
      ],
      "execution_count": 1,
      "outputs": []
    },
    {
      "cell_type": "code",
      "metadata": {
        "id": "KMEYyxfjneyW"
      },
      "source": [
        "A = torch.ones((3,3), dtype=torch.float)\n",
        "B = torch.ones((4,4), dtype=torch.double)\n",
        "C = torch.ones((5,3,4), dtype=torch.short)"
      ],
      "execution_count": 2,
      "outputs": []
    },
    {
      "cell_type": "code",
      "metadata": {
        "id": "PFLVy595neyZ",
        "outputId": "8cabf077-e9aa-4cf3-81dc-7b72c745b913",
        "colab": {
          "base_uri": "https://localhost:8080/",
          "height": 85
        }
      },
      "source": [
        "print('\\n',A.dtype,'\\n',B.dtype,'\\n',C.dtype)"
      ],
      "execution_count": 3,
      "outputs": [
        {
          "output_type": "stream",
          "text": [
            "\n",
            " torch.float32 \n",
            " torch.float64 \n",
            " torch.int16\n"
          ],
          "name": "stdout"
        }
      ]
    },
    {
      "cell_type": "code",
      "metadata": {
        "id": "lfG4gog6neyd",
        "outputId": "ed511519-e308-43da-daf7-09f17d0f3c40",
        "colab": {
          "base_uri": "https://localhost:8080/",
          "height": 85
        }
      },
      "source": [
        "A_a = np.random.rand(3,3)\n",
        "A_t=torch.from_numpy(A_a).float()\n",
        "print(A_t.dtype)\n",
        "A_t"
      ],
      "execution_count": 4,
      "outputs": [
        {
          "output_type": "stream",
          "text": [
            "torch.float32\n"
          ],
          "name": "stdout"
        },
        {
          "output_type": "execute_result",
          "data": {
            "text/plain": [
              "tensor([[0.4548, 0.4933, 0.4516],\n",
              "        [0.8812, 0.6853, 0.2688],\n",
              "        [0.6322, 0.7503, 0.0274]])"
            ]
          },
          "metadata": {
            "tags": []
          },
          "execution_count": 4
        }
      ]
    },
    {
      "cell_type": "code",
      "metadata": {
        "id": "xFkdBf_Wneyg",
        "outputId": "5eb6f5fc-ca35-49bd-be07-563a771c5889",
        "colab": {
          "base_uri": "https://localhost:8080/",
          "height": 102
        }
      },
      "source": [
        "#NumPy seed\n",
        "np.random.seed(42)\n",
        "\n",
        "B_a = np.random.rand(4,4)\n",
        "B_t=torch.from_numpy(B_a).double()\n",
        "print(B_t.dtype)\n",
        "B_t"
      ],
      "execution_count": 5,
      "outputs": [
        {
          "output_type": "stream",
          "text": [
            "torch.float64\n"
          ],
          "name": "stdout"
        },
        {
          "output_type": "execute_result",
          "data": {
            "text/plain": [
              "tensor([[0.3745, 0.9507, 0.7320, 0.5987],\n",
              "        [0.1560, 0.1560, 0.0581, 0.8662],\n",
              "        [0.6011, 0.7081, 0.0206, 0.9699],\n",
              "        [0.8324, 0.2123, 0.1818, 0.1834]], dtype=torch.float64)"
            ]
          },
          "metadata": {
            "tags": []
          },
          "execution_count": 5
        }
      ]
    },
    {
      "cell_type": "code",
      "metadata": {
        "id": "EFfAdI6Qneyl",
        "outputId": "479e7566-cdfc-4483-de29-29680d59eba9",
        "colab": {
          "base_uri": "https://localhost:8080/",
          "height": 357
        }
      },
      "source": [
        "#PyTorch seed\n",
        "torch.manual_seed(42)\n",
        "\n",
        "C_t = torch.randn((5,3,4))\n",
        "print(C_t.dtype)\n",
        "C_sh = C_t.short()\n",
        "C_sh"
      ],
      "execution_count": 6,
      "outputs": [
        {
          "output_type": "stream",
          "text": [
            "torch.float32\n"
          ],
          "name": "stdout"
        },
        {
          "output_type": "execute_result",
          "data": {
            "text/plain": [
              "tensor([[[ 1,  1,  0, -2],\n",
              "         [ 0, -1,  0, -1],\n",
              "         [ 0,  1,  0, -1]],\n",
              "\n",
              "        [[ 0,  0,  0,  0],\n",
              "         [ 1,  0,  0,  0],\n",
              "         [ 0,  1,  0,  1]],\n",
              "\n",
              "        [[ 1,  1,  0,  1],\n",
              "         [ 0,  0,  0,  0],\n",
              "         [-1,  0,  0,  1]],\n",
              "\n",
              "        [[ 0,  0,  0,  0],\n",
              "         [-1,  0,  0,  0],\n",
              "         [ 0,  0,  1,  0]],\n",
              "\n",
              "        [[ 1,  0,  2,  0],\n",
              "         [ 1,  0,  0,  0],\n",
              "         [ 0,  0,  0,  0]]], dtype=torch.int16)"
            ]
          },
          "metadata": {
            "tags": []
          },
          "execution_count": 6
        }
      ]
    },
    {
      "cell_type": "code",
      "metadata": {
        "id": "gmNTh6Qhneyw"
      },
      "source": [
        "with open('.\\data\\double_tensor.t','wb') as f:\n",
        "   torch.save(B_t, f)"
      ],
      "execution_count": 7,
      "outputs": []
    },
    {
      "cell_type": "code",
      "metadata": {
        "id": "l8CNvhrlney4"
      },
      "source": [
        "new_B_t = torch.load('.\\data\\double_tensor.t')"
      ],
      "execution_count": 8,
      "outputs": []
    },
    {
      "cell_type": "code",
      "metadata": {
        "id": "jR1h2mASney7",
        "outputId": "0e0f7905-f8cb-450b-826f-a25b225ef60d",
        "colab": {
          "base_uri": "https://localhost:8080/",
          "height": 85
        }
      },
      "source": [
        "new_B_t"
      ],
      "execution_count": 9,
      "outputs": [
        {
          "output_type": "execute_result",
          "data": {
            "text/plain": [
              "tensor([[0.3745, 0.9507, 0.7320, 0.5987],\n",
              "        [0.1560, 0.1560, 0.0581, 0.8662],\n",
              "        [0.6011, 0.7081, 0.0206, 0.9699],\n",
              "        [0.8324, 0.2123, 0.1818, 0.1834]], dtype=torch.float64)"
            ]
          },
          "metadata": {
            "tags": []
          },
          "execution_count": 9
        }
      ]
    },
    {
      "cell_type": "code",
      "metadata": {
        "id": "QIoPh1GHney-"
      },
      "source": [
        "with open('.\\data\\double_tensor.t','rb') as f:\n",
        "   new_B_t2 = torch.load(f)"
      ],
      "execution_count": 10,
      "outputs": []
    },
    {
      "cell_type": "code",
      "metadata": {
        "id": "NcIStbuLnezA",
        "outputId": "70c0a02d-24e0-4a26-dd9b-61f3276f32ff",
        "colab": {
          "base_uri": "https://localhost:8080/",
          "height": 85
        }
      },
      "source": [
        "new_B_t == new_B_t2"
      ],
      "execution_count": 11,
      "outputs": [
        {
          "output_type": "execute_result",
          "data": {
            "text/plain": [
              "tensor([[True, True, True, True],\n",
              "        [True, True, True, True],\n",
              "        [True, True, True, True],\n",
              "        [True, True, True, True]])"
            ]
          },
          "metadata": {
            "tags": []
          },
          "execution_count": 11
        }
      ]
    },
    {
      "cell_type": "code",
      "metadata": {
        "id": "8omKjHMvnezD"
      },
      "source": [
        "torch.save(A_t, '.\\data\\mytensor.t')"
      ],
      "execution_count": 12,
      "outputs": []
    },
    {
      "cell_type": "code",
      "metadata": {
        "id": "synmbjl8nezH"
      },
      "source": [
        "new_A_t = torch.load('.\\data\\mytensor.t')"
      ],
      "execution_count": 13,
      "outputs": []
    },
    {
      "cell_type": "code",
      "metadata": {
        "id": "gBBiPHVBnezJ",
        "outputId": "8ad4a42b-f649-4ee9-98b1-f0157aabf4d0",
        "colab": {
          "base_uri": "https://localhost:8080/",
          "height": 68
        }
      },
      "source": [
        "new_A_t"
      ],
      "execution_count": 14,
      "outputs": [
        {
          "output_type": "execute_result",
          "data": {
            "text/plain": [
              "tensor([[0.4548, 0.4933, 0.4516],\n",
              "        [0.8812, 0.6853, 0.2688],\n",
              "        [0.6322, 0.7503, 0.0274]])"
            ]
          },
          "metadata": {
            "tags": []
          },
          "execution_count": 14
        }
      ]
    },
    {
      "cell_type": "code",
      "metadata": {
        "id": "kx_cVIBxnezL",
        "outputId": "6c1b32fb-a39d-43a3-d7bd-54da5baa20c1",
        "colab": {
          "base_uri": "https://localhost:8080/",
          "height": 68
        }
      },
      "source": [
        "A_t==new_A_t"
      ],
      "execution_count": 15,
      "outputs": [
        {
          "output_type": "execute_result",
          "data": {
            "text/plain": [
              "tensor([[True, True, True],\n",
              "        [True, True, True],\n",
              "        [True, True, True]])"
            ]
          },
          "metadata": {
            "tags": []
          },
          "execution_count": 15
        }
      ]
    },
    {
      "cell_type": "code",
      "metadata": {
        "id": "GcOAwLX9nezP"
      },
      "source": [
        "torch.save(C_sh[0,1,1], '.\\data\\element.t')"
      ],
      "execution_count": 16,
      "outputs": []
    },
    {
      "cell_type": "code",
      "metadata": {
        "id": "qO-UvZXunezR"
      },
      "source": [
        "e = torch.load('.\\data\\element.t')"
      ],
      "execution_count": 17,
      "outputs": []
    },
    {
      "cell_type": "code",
      "metadata": {
        "id": "1WQSviwenezU",
        "outputId": "6a83bf51-7487-4812-8cc7-705bc183df1d",
        "colab": {
          "base_uri": "https://localhost:8080/",
          "height": 68
        }
      },
      "source": [
        "C_sh[0], e"
      ],
      "execution_count": 18,
      "outputs": [
        {
          "output_type": "execute_result",
          "data": {
            "text/plain": [
              "(tensor([[ 1,  1,  0, -2],\n",
              "         [ 0, -1,  0, -1],\n",
              "         [ 0,  1,  0, -1]], dtype=torch.int16), tensor(-1, dtype=torch.int16))"
            ]
          },
          "metadata": {
            "tags": []
          },
          "execution_count": 18
        }
      ]
    },
    {
      "cell_type": "code",
      "metadata": {
        "id": "fG_iT1m3nezX"
      },
      "source": [
        "import h5py\n",
        "\n",
        "f = h5py.File('.\\data\\double_tensor2.t', 'w')\n",
        "dataset = f.create_dataset('coords', data=B_t)\n",
        "f.close()"
      ],
      "execution_count": 19,
      "outputs": []
    },
    {
      "cell_type": "code",
      "metadata": {
        "id": "DTespTXFneza",
        "outputId": "f67f004f-e8bd-4b8d-d558-4111dbe4db59",
        "colab": {
          "base_uri": "https://localhost:8080/",
          "height": 34
        }
      },
      "source": [
        "f"
      ],
      "execution_count": 20,
      "outputs": [
        {
          "output_type": "execute_result",
          "data": {
            "text/plain": [
              "<Closed HDF5 file>"
            ]
          },
          "metadata": {
            "tags": []
          },
          "execution_count": 20
        }
      ]
    },
    {
      "cell_type": "code",
      "metadata": {
        "id": "ZWZeWXN9nezd",
        "outputId": "d6e60f80-457a-4d67-d1ab-9df6da495078",
        "colab": {
          "base_uri": "https://localhost:8080/",
          "height": 34
        }
      },
      "source": [
        "dataset"
      ],
      "execution_count": 21,
      "outputs": [
        {
          "output_type": "execute_result",
          "data": {
            "text/plain": [
              "<Closed HDF5 dataset>"
            ]
          },
          "metadata": {
            "tags": []
          },
          "execution_count": 21
        }
      ]
    },
    {
      "cell_type": "code",
      "metadata": {
        "id": "XWdVg0_dnezi",
        "outputId": "e1245f8d-e1df-4848-dc20-0becdb62a1ef",
        "colab": {
          "base_uri": "https://localhost:8080/",
          "height": 68
        }
      },
      "source": [
        "f = h5py.File('.\\data\\double_tensor2.t', 'r')\n",
        "dataset = f['coords']\n",
        "some_parts = dataset[-3:]\n",
        "some_parts"
      ],
      "execution_count": 22,
      "outputs": [
        {
          "output_type": "execute_result",
          "data": {
            "text/plain": [
              "array([[0.15601864, 0.15599452, 0.05808361, 0.86617615],\n",
              "       [0.60111501, 0.70807258, 0.02058449, 0.96990985],\n",
              "       [0.83244264, 0.21233911, 0.18182497, 0.18340451]])"
            ]
          },
          "metadata": {
            "tags": []
          },
          "execution_count": 22
        }
      ]
    },
    {
      "cell_type": "code",
      "metadata": {
        "id": "NQr0YQVAnezl",
        "outputId": "497f6578-9a65-44d8-fcf8-bd13ce326094",
        "colab": {
          "base_uri": "https://localhost:8080/",
          "height": 68
        }
      },
      "source": [
        "some_parts_t = torch.from_numpy(some_parts)\n",
        "some_parts_t"
      ],
      "execution_count": 23,
      "outputs": [
        {
          "output_type": "execute_result",
          "data": {
            "text/plain": [
              "tensor([[0.1560, 0.1560, 0.0581, 0.8662],\n",
              "        [0.6011, 0.7081, 0.0206, 0.9699],\n",
              "        [0.8324, 0.2123, 0.1818, 0.1834]], dtype=torch.float64)"
            ]
          },
          "metadata": {
            "tags": []
          },
          "execution_count": 23
        }
      ]
    },
    {
      "cell_type": "code",
      "metadata": {
        "id": "aTbv0u4enezo"
      },
      "source": [
        "f.close()"
      ],
      "execution_count": 24,
      "outputs": []
    },
    {
      "cell_type": "code",
      "metadata": {
        "id": "8UgNTdP6nezr",
        "outputId": "d5f0afb3-89ff-4ff8-be12-eafa0f8f445d",
        "colab": {
          "base_uri": "https://localhost:8080/",
          "height": 85
        }
      },
      "source": [
        "#PyTorch seed\n",
        "torch.manual_seed(42)\n",
        "\n",
        "B = torch.tensor([[1,2,3],[4,5,6],[7,8,9]])\n",
        "print(B.dtype)\n",
        "B"
      ],
      "execution_count": 25,
      "outputs": [
        {
          "output_type": "stream",
          "text": [
            "torch.int64\n"
          ],
          "name": "stdout"
        },
        {
          "output_type": "execute_result",
          "data": {
            "text/plain": [
              "tensor([[1, 2, 3],\n",
              "        [4, 5, 6],\n",
              "        [7, 8, 9]])"
            ]
          },
          "metadata": {
            "tags": []
          },
          "execution_count": 25
        }
      ]
    },
    {
      "cell_type": "code",
      "metadata": {
        "id": "MFhxUNu8nezu",
        "outputId": "e997fae1-aa6e-4aa7-e43d-da75bf549e26",
        "colab": {
          "base_uri": "https://localhost:8080/",
          "height": 85
        }
      },
      "source": [
        "if torch.cuda.is_available():\n",
        "    print(\"I am using GPU!\")\n",
        "    B_gpu = B.cuda()\n",
        "    print(B_gpu)\n",
        "else:\n",
        "    print(\"There exists no GPU!\")"
      ],
      "execution_count": 26,
      "outputs": [
        {
          "output_type": "stream",
          "text": [
            "I am using GPU!\n",
            "tensor([[1, 2, 3],\n",
            "        [4, 5, 6],\n",
            "        [7, 8, 9]], device='cuda:0')\n"
          ],
          "name": "stdout"
        }
      ]
    },
    {
      "cell_type": "code",
      "metadata": {
        "id": "1cZaVuzAnezx",
        "outputId": "9ada5ce5-6fa7-4c05-9958-920b031d8995",
        "colab": {
          "base_uri": "https://localhost:8080/",
          "height": 85
        }
      },
      "source": [
        "if torch.cuda.is_available():\n",
        "    print(\"I am using GPU!\")\n",
        "    B_gpu2 = 3*B.to(device='cuda')\n",
        "    print(B_gpu2)\n",
        "else:\n",
        "    print(\"There exists no GPU!\")"
      ],
      "execution_count": 27,
      "outputs": [
        {
          "output_type": "stream",
          "text": [
            "I am using GPU!\n",
            "tensor([[ 3,  6,  9],\n",
            "        [12, 15, 18],\n",
            "        [21, 24, 27]], device='cuda:0')\n"
          ],
          "name": "stdout"
        }
      ]
    },
    {
      "cell_type": "code",
      "metadata": {
        "id": "DT9ogU8Ynezz",
        "outputId": "6447b35b-cc9f-4fd8-c7d8-4b9ebfb6d279",
        "colab": {
          "base_uri": "https://localhost:8080/",
          "height": 68
        }
      },
      "source": [
        "B"
      ],
      "execution_count": 28,
      "outputs": [
        {
          "output_type": "execute_result",
          "data": {
            "text/plain": [
              "tensor([[1, 2, 3],\n",
              "        [4, 5, 6],\n",
              "        [7, 8, 9]])"
            ]
          },
          "metadata": {
            "tags": []
          },
          "execution_count": 28
        }
      ]
    },
    {
      "cell_type": "code",
      "metadata": {
        "id": "y6EvYUf_nez1",
        "outputId": "b1311fea-0bb3-43fe-f46d-849e706b91a1",
        "colab": {
          "base_uri": "https://localhost:8080/",
          "height": 187
        }
      },
      "source": [
        "B.storage()"
      ],
      "execution_count": 29,
      "outputs": [
        {
          "output_type": "execute_result",
          "data": {
            "text/plain": [
              " 1\n",
              " 2\n",
              " 3\n",
              " 4\n",
              " 5\n",
              " 6\n",
              " 7\n",
              " 8\n",
              " 9\n",
              "[torch.LongStorage of size 9]"
            ]
          },
          "metadata": {
            "tags": []
          },
          "execution_count": 29
        }
      ]
    },
    {
      "cell_type": "code",
      "metadata": {
        "id": "URz9kpx0nez4"
      },
      "source": [
        "B_transpose = B.t()"
      ],
      "execution_count": 30,
      "outputs": []
    },
    {
      "cell_type": "code",
      "metadata": {
        "id": "-4H_rJMmnez8",
        "outputId": "491f1e62-cc6f-4b50-b81c-68b74e9547e7",
        "colab": {
          "base_uri": "https://localhost:8080/",
          "height": 187
        }
      },
      "source": [
        "B_transpose.storage()"
      ],
      "execution_count": 31,
      "outputs": [
        {
          "output_type": "execute_result",
          "data": {
            "text/plain": [
              " 1\n",
              " 2\n",
              " 3\n",
              " 4\n",
              " 5\n",
              " 6\n",
              " 7\n",
              " 8\n",
              " 9\n",
              "[torch.LongStorage of size 9]"
            ]
          },
          "metadata": {
            "tags": []
          },
          "execution_count": 31
        }
      ]
    },
    {
      "cell_type": "code",
      "metadata": {
        "id": "VT2mG-pinez-",
        "outputId": "609f2324-517c-4ab7-c652-420ceb40e384",
        "colab": {
          "base_uri": "https://localhost:8080/",
          "height": 34
        }
      },
      "source": [
        "id(B.storage()) == id(B_transpose.storage())"
      ],
      "execution_count": 32,
      "outputs": [
        {
          "output_type": "execute_result",
          "data": {
            "text/plain": [
              "True"
            ]
          },
          "metadata": {
            "tags": []
          },
          "execution_count": 32
        }
      ]
    },
    {
      "cell_type": "code",
      "metadata": {
        "id": "qOZ_SHVOne0A",
        "outputId": "ac50a14c-c8ae-4a44-8fa4-b29dc89de499",
        "colab": {
          "base_uri": "https://localhost:8080/",
          "height": 68
        }
      },
      "source": [
        "place = B.storage()\n",
        "place[0] = 10\n",
        "B"
      ],
      "execution_count": 33,
      "outputs": [
        {
          "output_type": "execute_result",
          "data": {
            "text/plain": [
              "tensor([[10,  2,  3],\n",
              "        [ 4,  5,  6],\n",
              "        [ 7,  8,  9]])"
            ]
          },
          "metadata": {
            "tags": []
          },
          "execution_count": 33
        }
      ]
    },
    {
      "cell_type": "code",
      "metadata": {
        "id": "BCmdPpSKne0C",
        "outputId": "09deedbf-23ea-4896-c06e-0df203ba7bb8",
        "colab": {
          "base_uri": "https://localhost:8080/",
          "height": 51
        }
      },
      "source": [
        "third_place = B[0,2]\n",
        "print(third_place)\n",
        "third_place.storage_offset()"
      ],
      "execution_count": 34,
      "outputs": [
        {
          "output_type": "stream",
          "text": [
            "tensor(3)\n"
          ],
          "name": "stdout"
        },
        {
          "output_type": "execute_result",
          "data": {
            "text/plain": [
              "2"
            ]
          },
          "metadata": {
            "tags": []
          },
          "execution_count": 34
        }
      ]
    },
    {
      "cell_type": "code",
      "metadata": {
        "id": "RvTwvpdPne0F",
        "outputId": "8711edac-d4e7-47a8-fc04-7e9bd4245b48",
        "colab": {
          "base_uri": "https://localhost:8080/",
          "height": 34
        }
      },
      "source": [
        "B.is_contiguous()"
      ],
      "execution_count": 35,
      "outputs": [
        {
          "output_type": "execute_result",
          "data": {
            "text/plain": [
              "True"
            ]
          },
          "metadata": {
            "tags": []
          },
          "execution_count": 35
        }
      ]
    },
    {
      "cell_type": "code",
      "metadata": {
        "id": "0Pkwq0URne0I",
        "outputId": "a39f91ee-5206-49d8-eee2-5acecb74fb96",
        "colab": {
          "base_uri": "https://localhost:8080/",
          "height": 34
        }
      },
      "source": [
        "B_transpose.is_contiguous()"
      ],
      "execution_count": 36,
      "outputs": [
        {
          "output_type": "execute_result",
          "data": {
            "text/plain": [
              "False"
            ]
          },
          "metadata": {
            "tags": []
          },
          "execution_count": 36
        }
      ]
    },
    {
      "cell_type": "code",
      "metadata": {
        "id": "ybEw9YROne0L",
        "outputId": "da8233b9-718a-44b9-afce-eabc148eb137",
        "colab": {
          "base_uri": "https://localhost:8080/",
          "height": 68
        }
      },
      "source": [
        "B_transpose"
      ],
      "execution_count": 37,
      "outputs": [
        {
          "output_type": "execute_result",
          "data": {
            "text/plain": [
              "tensor([[10,  4,  7],\n",
              "        [ 2,  5,  8],\n",
              "        [ 3,  6,  9]])"
            ]
          },
          "metadata": {
            "tags": []
          },
          "execution_count": 37
        }
      ]
    },
    {
      "cell_type": "code",
      "metadata": {
        "id": "jGkSYGv4ne0P",
        "outputId": "cf4ee546-a03e-4338-a0c2-5c012567e16d",
        "colab": {
          "base_uri": "https://localhost:8080/",
          "height": 68
        }
      },
      "source": [
        "B_transpose_cont = B_transpose.contiguous()\n",
        "B_transpose_cont"
      ],
      "execution_count": 38,
      "outputs": [
        {
          "output_type": "execute_result",
          "data": {
            "text/plain": [
              "tensor([[10,  4,  7],\n",
              "        [ 2,  5,  8],\n",
              "        [ 3,  6,  9]])"
            ]
          },
          "metadata": {
            "tags": []
          },
          "execution_count": 38
        }
      ]
    },
    {
      "cell_type": "code",
      "metadata": {
        "id": "fVvY77rfne0R",
        "outputId": "773c0321-690b-4b6e-9ba9-504a09dcacf6",
        "colab": {
          "base_uri": "https://localhost:8080/",
          "height": 34
        }
      },
      "source": [
        "B_transpose_cont.is_contiguous()"
      ],
      "execution_count": 39,
      "outputs": [
        {
          "output_type": "execute_result",
          "data": {
            "text/plain": [
              "True"
            ]
          },
          "metadata": {
            "tags": []
          },
          "execution_count": 39
        }
      ]
    },
    {
      "cell_type": "code",
      "metadata": {
        "id": "CMJ1k7Nyne0T",
        "outputId": "41912bad-fffb-46d7-b76c-51df8b634fd7",
        "colab": {
          "base_uri": "https://localhost:8080/",
          "height": 34
        }
      },
      "source": [
        "B.stride()"
      ],
      "execution_count": 40,
      "outputs": [
        {
          "output_type": "execute_result",
          "data": {
            "text/plain": [
              "(3, 1)"
            ]
          },
          "metadata": {
            "tags": []
          },
          "execution_count": 40
        }
      ]
    },
    {
      "cell_type": "code",
      "metadata": {
        "id": "pWNGMEHHne0W",
        "outputId": "d6c67322-eed3-4615-bdbd-f09d27f31cb6",
        "colab": {
          "base_uri": "https://localhost:8080/",
          "height": 34
        }
      },
      "source": [
        "B_transpose.stride()"
      ],
      "execution_count": 41,
      "outputs": [
        {
          "output_type": "execute_result",
          "data": {
            "text/plain": [
              "(1, 3)"
            ]
          },
          "metadata": {
            "tags": []
          },
          "execution_count": 41
        }
      ]
    },
    {
      "cell_type": "code",
      "metadata": {
        "id": "LFBzicvine0e",
        "outputId": "d82530d8-d4e9-44de-dcf0-da058a2cac1a",
        "colab": {
          "base_uri": "https://localhost:8080/",
          "height": 68
        }
      },
      "source": [
        "T1 = torch.tensor([[1,2,3],[4,5,6]], dtype=torch.float, requires_grad=True)\n",
        "T2 = torch.ones(2,3)\n",
        "T1_T2 = (T1*T2*3).sum()\n",
        "\n",
        "T1_T2.backward()\n",
        "\n",
        "print(T1_T2)\n",
        "\n",
        "T1.grad"
      ],
      "execution_count": 42,
      "outputs": [
        {
          "output_type": "stream",
          "text": [
            "tensor(63., grad_fn=<SumBackward0>)\n"
          ],
          "name": "stdout"
        },
        {
          "output_type": "execute_result",
          "data": {
            "text/plain": [
              "tensor([[3., 3., 3.],\n",
              "        [3., 3., 3.]])"
            ]
          },
          "metadata": {
            "tags": []
          },
          "execution_count": 42
        }
      ]
    },
    {
      "cell_type": "code",
      "metadata": {
        "id": "t1qB9oNFne0g"
      },
      "source": [
        "T1 = torch.tensor([[1,2,3],[4,5,6]], dtype=torch.float)\n",
        "T2 = torch.ones(2,3)\n",
        "T1_T2 = (T1*T2*3).sum()"
      ],
      "execution_count": 43,
      "outputs": []
    },
    {
      "cell_type": "code",
      "metadata": {
        "id": "IlcRm9wrne0j",
        "outputId": "a780807b-58e8-4c40-cd5b-ce91f35c6920",
        "colab": {
          "base_uri": "https://localhost:8080/",
          "height": 34
        }
      },
      "source": [
        "T1.grad is None"
      ],
      "execution_count": 44,
      "outputs": [
        {
          "output_type": "execute_result",
          "data": {
            "text/plain": [
              "True"
            ]
          },
          "metadata": {
            "tags": []
          },
          "execution_count": 44
        }
      ]
    },
    {
      "cell_type": "code",
      "metadata": {
        "id": "QcwqXxkJnt9d",
        "outputId": "d5d3c5db-0e0a-4f56-90c4-59926118a44e",
        "colab": {
          "base_uri": "https://localhost:8080/",
          "height": 374
        }
      },
      "source": [
        "T1_T2.backward()\n",
        "\n",
        "print(T1_T2)\n",
        "\n",
        "T1.grad"
      ],
      "execution_count": 45,
      "outputs": [
        {
          "output_type": "error",
          "ename": "RuntimeError",
          "evalue": "ignored",
          "traceback": [
            "\u001b[0;31m---------------------------------------------------------------------------\u001b[0m",
            "\u001b[0;31mRuntimeError\u001b[0m                              Traceback (most recent call last)",
            "\u001b[0;32m<ipython-input-45-4273b25723c6>\u001b[0m in \u001b[0;36m<module>\u001b[0;34m()\u001b[0m\n\u001b[0;32m----> 1\u001b[0;31m \u001b[0mT1_T2\u001b[0m\u001b[0;34m.\u001b[0m\u001b[0mbackward\u001b[0m\u001b[0;34m(\u001b[0m\u001b[0;34m)\u001b[0m\u001b[0;34m\u001b[0m\u001b[0;34m\u001b[0m\u001b[0m\n\u001b[0m\u001b[1;32m      2\u001b[0m \u001b[0;34m\u001b[0m\u001b[0m\n\u001b[1;32m      3\u001b[0m \u001b[0mprint\u001b[0m\u001b[0;34m(\u001b[0m\u001b[0mT1_T2\u001b[0m\u001b[0;34m)\u001b[0m\u001b[0;34m\u001b[0m\u001b[0;34m\u001b[0m\u001b[0m\n\u001b[1;32m      4\u001b[0m \u001b[0;34m\u001b[0m\u001b[0m\n\u001b[1;32m      5\u001b[0m \u001b[0mT1\u001b[0m\u001b[0;34m.\u001b[0m\u001b[0mgrad\u001b[0m\u001b[0;34m\u001b[0m\u001b[0;34m\u001b[0m\u001b[0m\n",
            "\u001b[0;32m/usr/local/lib/python3.6/dist-packages/torch/tensor.py\u001b[0m in \u001b[0;36mbackward\u001b[0;34m(self, gradient, retain_graph, create_graph)\u001b[0m\n\u001b[1;32m    183\u001b[0m                 \u001b[0mproducts\u001b[0m\u001b[0;34m.\u001b[0m \u001b[0mDefaults\u001b[0m \u001b[0mto\u001b[0m\u001b[0;31m \u001b[0m\u001b[0;31m`\u001b[0m\u001b[0;31m`\u001b[0m\u001b[0;32mFalse\u001b[0m\u001b[0;31m`\u001b[0m\u001b[0;31m`\u001b[0m\u001b[0;34m.\u001b[0m\u001b[0;34m\u001b[0m\u001b[0;34m\u001b[0m\u001b[0m\n\u001b[1;32m    184\u001b[0m         \"\"\"\n\u001b[0;32m--> 185\u001b[0;31m         \u001b[0mtorch\u001b[0m\u001b[0;34m.\u001b[0m\u001b[0mautograd\u001b[0m\u001b[0;34m.\u001b[0m\u001b[0mbackward\u001b[0m\u001b[0;34m(\u001b[0m\u001b[0mself\u001b[0m\u001b[0;34m,\u001b[0m \u001b[0mgradient\u001b[0m\u001b[0;34m,\u001b[0m \u001b[0mretain_graph\u001b[0m\u001b[0;34m,\u001b[0m \u001b[0mcreate_graph\u001b[0m\u001b[0;34m)\u001b[0m\u001b[0;34m\u001b[0m\u001b[0;34m\u001b[0m\u001b[0m\n\u001b[0m\u001b[1;32m    186\u001b[0m \u001b[0;34m\u001b[0m\u001b[0m\n\u001b[1;32m    187\u001b[0m     \u001b[0;32mdef\u001b[0m \u001b[0mregister_hook\u001b[0m\u001b[0;34m(\u001b[0m\u001b[0mself\u001b[0m\u001b[0;34m,\u001b[0m \u001b[0mhook\u001b[0m\u001b[0;34m)\u001b[0m\u001b[0;34m:\u001b[0m\u001b[0;34m\u001b[0m\u001b[0;34m\u001b[0m\u001b[0m\n",
            "\u001b[0;32m/usr/local/lib/python3.6/dist-packages/torch/autograd/__init__.py\u001b[0m in \u001b[0;36mbackward\u001b[0;34m(tensors, grad_tensors, retain_graph, create_graph, grad_variables)\u001b[0m\n\u001b[1;32m    125\u001b[0m     Variable._execution_engine.run_backward(\n\u001b[1;32m    126\u001b[0m         \u001b[0mtensors\u001b[0m\u001b[0;34m,\u001b[0m \u001b[0mgrad_tensors\u001b[0m\u001b[0;34m,\u001b[0m \u001b[0mretain_graph\u001b[0m\u001b[0;34m,\u001b[0m \u001b[0mcreate_graph\u001b[0m\u001b[0;34m,\u001b[0m\u001b[0;34m\u001b[0m\u001b[0;34m\u001b[0m\u001b[0m\n\u001b[0;32m--> 127\u001b[0;31m         allow_unreachable=True)  # allow_unreachable flag\n\u001b[0m\u001b[1;32m    128\u001b[0m \u001b[0;34m\u001b[0m\u001b[0m\n\u001b[1;32m    129\u001b[0m \u001b[0;34m\u001b[0m\u001b[0m\n",
            "\u001b[0;31mRuntimeError\u001b[0m: element 0 of tensors does not require grad and does not have a grad_fn"
          ]
        }
      ]
    }
  ]
}
