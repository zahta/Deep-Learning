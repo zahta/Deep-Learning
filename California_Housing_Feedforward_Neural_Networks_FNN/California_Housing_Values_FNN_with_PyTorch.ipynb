{
 "cells": [
  {
   "cell_type": "markdown",
   "metadata": {
    "id": "rtA6oRSDt21Q"
   },
   "source": [
    "# Feedforward Neural Network with PyTorch on [California Housing Values](https://github.com/ageron/handson-ml/tree/master/datasets/housing) dataset\n",
    "By [Zahra Taheri](https://github.com/zahta), October 14, 2020"
   ]
  },
  {
   "cell_type": "markdown",
   "metadata": {
    "id": "s8QdNBrpKrFt"
   },
   "source": [
    "### Import libraries"
   ]
  },
  {
   "cell_type": "code",
   "execution_count": 1,
   "metadata": {
    "id": "B42Jsp5iKrFu"
   },
   "outputs": [],
   "source": [
    "#For some basic operations\n",
    "import numpy as np\n",
    "import pandas as pd\n",
    "import torch\n",
    "import torch.nn as nn\n",
    "\n",
    "#For visualizations\n",
    "import matplotlib as mpl\n",
    "import matplotlib.pyplot as plt\n",
    "\n",
    "# to make this notebook's output identical at every run\n",
    "#np.random.seed(42)\n",
    "\n",
    "import warnings\n",
    "warnings.filterwarnings('ignore')"
   ]
  },
  {
   "cell_type": "markdown",
   "metadata": {
    "id": "qnXp31fQKrFx"
   },
   "source": [
    "## Reading the dataset"
   ]
  },
  {
   "cell_type": "code",
   "execution_count": 2,
   "metadata": {
    "colab": {
     "base_uri": "https://localhost:8080/",
     "height": 34
    },
    "id": "UStR-s6iKrFx",
    "outputId": "8acf1035-3d3d-4c1d-c508-4dcec0f14e10"
   },
   "outputs": [
    {
     "data": {
      "text/plain": [
       "(20640, 10)"
      ]
     },
     "execution_count": 2,
     "metadata": {
      "tags": []
     },
     "output_type": "execute_result"
    }
   ],
   "source": [
    "data=pd.read_csv('housing.csv')\n",
    "data.shape"
   ]
  },
  {
   "cell_type": "code",
   "execution_count": 3,
   "metadata": {
    "colab": {
     "base_uri": "https://localhost:8080/",
     "height": 204
    },
    "id": "5WwyH0RuKrF0",
    "outputId": "f3503094-ff5f-4fc6-cb35-ee2bccfcffc4"
   },
   "outputs": [
    {
     "data": {
      "text/html": [
       "<div>\n",
       "<style scoped>\n",
       "    .dataframe tbody tr th:only-of-type {\n",
       "        vertical-align: middle;\n",
       "    }\n",
       "\n",
       "    .dataframe tbody tr th {\n",
       "        vertical-align: top;\n",
       "    }\n",
       "\n",
       "    .dataframe thead th {\n",
       "        text-align: right;\n",
       "    }\n",
       "</style>\n",
       "<table border=\"1\" class=\"dataframe\">\n",
       "  <thead>\n",
       "    <tr style=\"text-align: right;\">\n",
       "      <th></th>\n",
       "      <th>longitude</th>\n",
       "      <th>latitude</th>\n",
       "      <th>housing_median_age</th>\n",
       "      <th>total_rooms</th>\n",
       "      <th>total_bedrooms</th>\n",
       "      <th>population</th>\n",
       "      <th>households</th>\n",
       "      <th>median_income</th>\n",
       "      <th>median_house_value</th>\n",
       "      <th>ocean_proximity</th>\n",
       "    </tr>\n",
       "  </thead>\n",
       "  <tbody>\n",
       "    <tr>\n",
       "      <th>0</th>\n",
       "      <td>-122.23</td>\n",
       "      <td>37.88</td>\n",
       "      <td>41.0</td>\n",
       "      <td>880.0</td>\n",
       "      <td>129.0</td>\n",
       "      <td>322.0</td>\n",
       "      <td>126.0</td>\n",
       "      <td>8.3252</td>\n",
       "      <td>452600.0</td>\n",
       "      <td>NEAR BAY</td>\n",
       "    </tr>\n",
       "    <tr>\n",
       "      <th>1</th>\n",
       "      <td>-122.22</td>\n",
       "      <td>37.86</td>\n",
       "      <td>21.0</td>\n",
       "      <td>7099.0</td>\n",
       "      <td>1106.0</td>\n",
       "      <td>2401.0</td>\n",
       "      <td>1138.0</td>\n",
       "      <td>8.3014</td>\n",
       "      <td>358500.0</td>\n",
       "      <td>NEAR BAY</td>\n",
       "    </tr>\n",
       "    <tr>\n",
       "      <th>2</th>\n",
       "      <td>-122.24</td>\n",
       "      <td>37.85</td>\n",
       "      <td>52.0</td>\n",
       "      <td>1467.0</td>\n",
       "      <td>190.0</td>\n",
       "      <td>496.0</td>\n",
       "      <td>177.0</td>\n",
       "      <td>7.2574</td>\n",
       "      <td>352100.0</td>\n",
       "      <td>NEAR BAY</td>\n",
       "    </tr>\n",
       "    <tr>\n",
       "      <th>3</th>\n",
       "      <td>-122.25</td>\n",
       "      <td>37.85</td>\n",
       "      <td>52.0</td>\n",
       "      <td>1274.0</td>\n",
       "      <td>235.0</td>\n",
       "      <td>558.0</td>\n",
       "      <td>219.0</td>\n",
       "      <td>5.6431</td>\n",
       "      <td>341300.0</td>\n",
       "      <td>NEAR BAY</td>\n",
       "    </tr>\n",
       "    <tr>\n",
       "      <th>4</th>\n",
       "      <td>-122.25</td>\n",
       "      <td>37.85</td>\n",
       "      <td>52.0</td>\n",
       "      <td>1627.0</td>\n",
       "      <td>280.0</td>\n",
       "      <td>565.0</td>\n",
       "      <td>259.0</td>\n",
       "      <td>3.8462</td>\n",
       "      <td>342200.0</td>\n",
       "      <td>NEAR BAY</td>\n",
       "    </tr>\n",
       "  </tbody>\n",
       "</table>\n",
       "</div>"
      ],
      "text/plain": [
       "   longitude  latitude  ...  median_house_value  ocean_proximity\n",
       "0    -122.23     37.88  ...            452600.0         NEAR BAY\n",
       "1    -122.22     37.86  ...            358500.0         NEAR BAY\n",
       "2    -122.24     37.85  ...            352100.0         NEAR BAY\n",
       "3    -122.25     37.85  ...            341300.0         NEAR BAY\n",
       "4    -122.25     37.85  ...            342200.0         NEAR BAY\n",
       "\n",
       "[5 rows x 10 columns]"
      ]
     },
     "execution_count": 3,
     "metadata": {
      "tags": []
     },
     "output_type": "execute_result"
    }
   ],
   "source": [
    "data.head()"
   ]
  },
  {
   "cell_type": "code",
   "execution_count": 4,
   "metadata": {
    "colab": {
     "base_uri": "https://localhost:8080/",
     "height": 306
    },
    "id": "oG5oYVh-KrF2",
    "outputId": "2e211c1c-f51d-4f8d-c40b-f1eb6a917392"
   },
   "outputs": [
    {
     "name": "stdout",
     "output_type": "stream",
     "text": [
      "<class 'pandas.core.frame.DataFrame'>\n",
      "RangeIndex: 20640 entries, 0 to 20639\n",
      "Data columns (total 10 columns):\n",
      " #   Column              Non-Null Count  Dtype  \n",
      "---  ------              --------------  -----  \n",
      " 0   longitude           20640 non-null  float64\n",
      " 1   latitude            20640 non-null  float64\n",
      " 2   housing_median_age  20640 non-null  float64\n",
      " 3   total_rooms         20640 non-null  float64\n",
      " 4   total_bedrooms      20433 non-null  float64\n",
      " 5   population          20640 non-null  float64\n",
      " 6   households          20640 non-null  float64\n",
      " 7   median_income       20640 non-null  float64\n",
      " 8   median_house_value  20640 non-null  float64\n",
      " 9   ocean_proximity     20640 non-null  object \n",
      "dtypes: float64(9), object(1)\n",
      "memory usage: 1.6+ MB\n"
     ]
    }
   ],
   "source": [
    "data.info()"
   ]
  },
  {
   "cell_type": "markdown",
   "metadata": {
    "id": "VFklGZkpKrF5"
   },
   "source": [
    "## Descriptive statistics and data visualizations"
   ]
  },
  {
   "cell_type": "code",
   "execution_count": 5,
   "metadata": {
    "colab": {
     "base_uri": "https://localhost:8080/",
     "height": 297
    },
    "id": "lr6_OWSSKrF5",
    "outputId": "cbe92dce-661d-4046-e190-104e4adcef3c"
   },
   "outputs": [
    {
     "data": {
      "text/html": [
       "<div>\n",
       "<style scoped>\n",
       "    .dataframe tbody tr th:only-of-type {\n",
       "        vertical-align: middle;\n",
       "    }\n",
       "\n",
       "    .dataframe tbody tr th {\n",
       "        vertical-align: top;\n",
       "    }\n",
       "\n",
       "    .dataframe thead th {\n",
       "        text-align: right;\n",
       "    }\n",
       "</style>\n",
       "<table border=\"1\" class=\"dataframe\">\n",
       "  <thead>\n",
       "    <tr style=\"text-align: right;\">\n",
       "      <th></th>\n",
       "      <th>longitude</th>\n",
       "      <th>latitude</th>\n",
       "      <th>housing_median_age</th>\n",
       "      <th>total_rooms</th>\n",
       "      <th>total_bedrooms</th>\n",
       "      <th>population</th>\n",
       "      <th>households</th>\n",
       "      <th>median_income</th>\n",
       "      <th>median_house_value</th>\n",
       "    </tr>\n",
       "  </thead>\n",
       "  <tbody>\n",
       "    <tr>\n",
       "      <th>count</th>\n",
       "      <td>20640.000000</td>\n",
       "      <td>20640.000000</td>\n",
       "      <td>20640.000000</td>\n",
       "      <td>20640.000000</td>\n",
       "      <td>20433.000000</td>\n",
       "      <td>20640.000000</td>\n",
       "      <td>20640.000000</td>\n",
       "      <td>20640.000000</td>\n",
       "      <td>20640.000000</td>\n",
       "    </tr>\n",
       "    <tr>\n",
       "      <th>mean</th>\n",
       "      <td>-119.569704</td>\n",
       "      <td>35.631861</td>\n",
       "      <td>28.639486</td>\n",
       "      <td>2635.763081</td>\n",
       "      <td>537.870553</td>\n",
       "      <td>1425.476744</td>\n",
       "      <td>499.539680</td>\n",
       "      <td>3.870671</td>\n",
       "      <td>206855.816909</td>\n",
       "    </tr>\n",
       "    <tr>\n",
       "      <th>std</th>\n",
       "      <td>2.003532</td>\n",
       "      <td>2.135952</td>\n",
       "      <td>12.585558</td>\n",
       "      <td>2181.615252</td>\n",
       "      <td>421.385070</td>\n",
       "      <td>1132.462122</td>\n",
       "      <td>382.329753</td>\n",
       "      <td>1.899822</td>\n",
       "      <td>115395.615874</td>\n",
       "    </tr>\n",
       "    <tr>\n",
       "      <th>min</th>\n",
       "      <td>-124.350000</td>\n",
       "      <td>32.540000</td>\n",
       "      <td>1.000000</td>\n",
       "      <td>2.000000</td>\n",
       "      <td>1.000000</td>\n",
       "      <td>3.000000</td>\n",
       "      <td>1.000000</td>\n",
       "      <td>0.499900</td>\n",
       "      <td>14999.000000</td>\n",
       "    </tr>\n",
       "    <tr>\n",
       "      <th>25%</th>\n",
       "      <td>-121.800000</td>\n",
       "      <td>33.930000</td>\n",
       "      <td>18.000000</td>\n",
       "      <td>1447.750000</td>\n",
       "      <td>296.000000</td>\n",
       "      <td>787.000000</td>\n",
       "      <td>280.000000</td>\n",
       "      <td>2.563400</td>\n",
       "      <td>119600.000000</td>\n",
       "    </tr>\n",
       "    <tr>\n",
       "      <th>50%</th>\n",
       "      <td>-118.490000</td>\n",
       "      <td>34.260000</td>\n",
       "      <td>29.000000</td>\n",
       "      <td>2127.000000</td>\n",
       "      <td>435.000000</td>\n",
       "      <td>1166.000000</td>\n",
       "      <td>409.000000</td>\n",
       "      <td>3.534800</td>\n",
       "      <td>179700.000000</td>\n",
       "    </tr>\n",
       "    <tr>\n",
       "      <th>75%</th>\n",
       "      <td>-118.010000</td>\n",
       "      <td>37.710000</td>\n",
       "      <td>37.000000</td>\n",
       "      <td>3148.000000</td>\n",
       "      <td>647.000000</td>\n",
       "      <td>1725.000000</td>\n",
       "      <td>605.000000</td>\n",
       "      <td>4.743250</td>\n",
       "      <td>264725.000000</td>\n",
       "    </tr>\n",
       "    <tr>\n",
       "      <th>max</th>\n",
       "      <td>-114.310000</td>\n",
       "      <td>41.950000</td>\n",
       "      <td>52.000000</td>\n",
       "      <td>39320.000000</td>\n",
       "      <td>6445.000000</td>\n",
       "      <td>35682.000000</td>\n",
       "      <td>6082.000000</td>\n",
       "      <td>15.000100</td>\n",
       "      <td>500001.000000</td>\n",
       "    </tr>\n",
       "  </tbody>\n",
       "</table>\n",
       "</div>"
      ],
      "text/plain": [
       "          longitude      latitude  ...  median_income  median_house_value\n",
       "count  20640.000000  20640.000000  ...   20640.000000        20640.000000\n",
       "mean    -119.569704     35.631861  ...       3.870671       206855.816909\n",
       "std        2.003532      2.135952  ...       1.899822       115395.615874\n",
       "min     -124.350000     32.540000  ...       0.499900        14999.000000\n",
       "25%     -121.800000     33.930000  ...       2.563400       119600.000000\n",
       "50%     -118.490000     34.260000  ...       3.534800       179700.000000\n",
       "75%     -118.010000     37.710000  ...       4.743250       264725.000000\n",
       "max     -114.310000     41.950000  ...      15.000100       500001.000000\n",
       "\n",
       "[8 rows x 9 columns]"
      ]
     },
     "execution_count": 5,
     "metadata": {
      "tags": []
     },
     "output_type": "execute_result"
    }
   ],
   "source": [
    "#Describe the dataset\n",
    "\n",
    "data.describe()"
   ]
  },
  {
   "cell_type": "code",
   "execution_count": 6,
   "metadata": {
    "colab": {
     "base_uri": "https://localhost:8080/",
     "height": 51
    },
    "id": "EJsnoJDjKrF8",
    "outputId": "f9765ece-3a6a-4985-9f72-81854f54ad55"
   },
   "outputs": [
    {
     "data": {
      "text/plain": [
       "ocean_proximity    5\n",
       "dtype: int64"
      ]
     },
     "execution_count": 6,
     "metadata": {
      "tags": []
     },
     "output_type": "execute_result"
    }
   ],
   "source": [
    "#Check the no. of unique items in each categorical column\n",
    "\n",
    "data.select_dtypes('object').nunique()"
   ]
  },
  {
   "cell_type": "code",
   "execution_count": 7,
   "metadata": {
    "colab": {
     "base_uri": "https://localhost:8080/",
     "height": 204
    },
    "id": "Ge5rb6BOKrF_",
    "outputId": "5faf5d19-9998-478b-aea5-79a4744d95a3"
   },
   "outputs": [
    {
     "name": "stdout",
     "output_type": "stream",
     "text": [
      "longitude             0.000000\n",
      "latitude              0.000000\n",
      "housing_median_age    0.000000\n",
      "total_rooms           0.000000\n",
      "total_bedrooms        0.010029\n",
      "population            0.000000\n",
      "households            0.000000\n",
      "median_income         0.000000\n",
      "median_house_value    0.000000\n",
      "ocean_proximity       0.000000\n",
      "dtype: float64\n"
     ]
    }
   ],
   "source": [
    "# Percentage of missing data in each column\n",
    "\n",
    "number_of_columns = data.shape[0]\n",
    "percentage_of_missing_data = data.isnull().sum()/number_of_columns\n",
    "print(percentage_of_missing_data)"
   ]
  },
  {
   "cell_type": "code",
   "execution_count": 8,
   "metadata": {
    "colab": {
     "base_uri": "https://localhost:8080/",
     "height": 879
    },
    "id": "FM59-QiAKrGC",
    "outputId": "7e6bfe38-7e7b-4e3b-c03c-ae63c19ef0f0"
   },
   "outputs": [
    {
     "data": {
      "image/png": "[encoded data removed]",
      "text/plain": [
       "<Figure size 1440x1080 with 9 Axes>"
      ]
     },
     "metadata": {
      "needs_background": "light",
      "tags": []
     },
     "output_type": "display_data"
    }
   ],
   "source": [
    "data.hist(bins=100, figsize=(20,15))\n",
    "\n",
    "plt.show()"
   ]
  },
  {
   "cell_type": "code",
   "execution_count": 9,
   "metadata": {
    "colab": {
     "base_uri": "https://localhost:8080/",
     "height": 530
    },
    "id": "1a0K8l4KKrGE",
    "outputId": "d9adf4c9-700f-4550-fc0d-3929ec45be2e"
   },
   "outputs": [
    {
     "data": {
      "text/plain": [
       "<matplotlib.legend.Legend at 0x7fcf6bdc5c18>"
      ]
     },
     "execution_count": 9,
     "metadata": {
      "tags": []
     },
     "output_type": "execute_result"
    },
    {
     "data": {
      "image/png": "[encoded data removed]",
      "text/plain": [
       "<Figure size 720x576 with 2 Axes>"
      ]
     },
     "metadata": {
      "needs_background": "light",
      "tags": []
     },
     "output_type": "display_data"
    }
   ],
   "source": [
    "data.plot(kind=\"scatter\", x=\"longitude\", y=\"latitude\", alpha=0.4,\n",
    "    s=data[\"population\"]/100, label=\"population\", figsize=(10,8),\n",
    "    c=\"median_house_value\", cmap=plt.get_cmap(\"jet\"), colorbar=True,\n",
    "    sharex=False)\n",
    "plt.title('Red is expensive, blue is cheap, larger circles indicate areas with a larger population',\\\n",
    "          fontweight = 20, fontsize = 13)\n",
    "plt.legend()"
   ]
  },
  {
   "cell_type": "code",
   "execution_count": 10,
   "metadata": {
    "colab": {
     "base_uri": "https://localhost:8080/",
     "height": 187
    },
    "id": "Qu5-LhzVKrGH",
    "outputId": "8c086b1e-7b7d-4897-cb26-38b464f52536"
   },
   "outputs": [
    {
     "data": {
      "text/plain": [
       "median_house_value    1.000000\n",
       "median_income         0.688075\n",
       "total_rooms           0.134153\n",
       "housing_median_age    0.105623\n",
       "households            0.065843\n",
       "total_bedrooms        0.049686\n",
       "population           -0.024650\n",
       "longitude            -0.045967\n",
       "latitude             -0.144160\n",
       "Name: median_house_value, dtype: float64"
      ]
     },
     "execution_count": 10,
     "metadata": {
      "tags": []
     },
     "output_type": "execute_result"
    }
   ],
   "source": [
    "corr_matrix = data.corr()\n",
    "corr_matrix[\"median_house_value\"].sort_values(ascending=False)"
   ]
  },
  {
   "cell_type": "markdown",
   "metadata": {
    "id": "XGWXaq-eKrGP"
   },
   "source": [
    "## Data Cleaning and Preparation"
   ]
  },
  {
   "cell_type": "code",
   "execution_count": 13,
   "metadata": {
    "id": "azFFYLs8KrGP"
   },
   "outputs": [],
   "source": [
    "#Fill in missing values with median\n",
    "\n",
    "from sklearn.impute import SimpleImputer\n",
    "imputer = SimpleImputer(strategy=\"median\")"
   ]
  },
  {
   "cell_type": "code",
   "execution_count": 14,
   "metadata": {
    "id": "tUbDUmiKqgnu"
   },
   "outputs": [],
   "source": [
    "#Remove the text attribute because median can only be calculated on numerical attributes:\n",
    "data_num=data.drop(\"ocean_proximity\", axis=1)"
   ]
  },
  {
   "cell_type": "code",
   "execution_count": 15,
   "metadata": {
    "colab": {
     "base_uri": "https://localhost:8080/",
     "height": 51
    },
    "id": "EbX2GWq_KrGV",
    "outputId": "7eb7f6eb-7cbc-470a-b808-d9064dd122a0"
   },
   "outputs": [
    {
     "data": {
      "text/plain": [
       "array([-1.1849e+02,  3.4260e+01,  2.9000e+01,  2.1270e+03,  4.3500e+02,\n",
       "        1.1660e+03,  4.0900e+02,  3.5348e+00,  1.7970e+05])"
      ]
     },
     "execution_count": 15,
     "metadata": {
      "tags": []
     },
     "output_type": "execute_result"
    }
   ],
   "source": [
    "imputer.fit(data_num)\n",
    "imputer.statistics_"
   ]
  },
  {
   "cell_type": "code",
   "execution_count": 16,
   "metadata": {
    "colab": {
     "base_uri": "https://localhost:8080/",
     "height": 204
    },
    "id": "eI4_FUwGKrGX",
    "outputId": "f72f1215-01d1-4a3a-9c4e-94fd31195e4a"
   },
   "outputs": [
    {
     "data": {
      "text/html": [
       "<div>\n",
       "<style scoped>\n",
       "    .dataframe tbody tr th:only-of-type {\n",
       "        vertical-align: middle;\n",
       "    }\n",
       "\n",
       "    .dataframe tbody tr th {\n",
       "        vertical-align: top;\n",
       "    }\n",
       "\n",
       "    .dataframe thead th {\n",
       "        text-align: right;\n",
       "    }\n",
       "</style>\n",
       "<table border=\"1\" class=\"dataframe\">\n",
       "  <thead>\n",
       "    <tr style=\"text-align: right;\">\n",
       "      <th></th>\n",
       "      <th>longitude</th>\n",
       "      <th>latitude</th>\n",
       "      <th>housing_median_age</th>\n",
       "      <th>total_rooms</th>\n",
       "      <th>total_bedrooms</th>\n",
       "      <th>population</th>\n",
       "      <th>households</th>\n",
       "      <th>median_income</th>\n",
       "      <th>median_house_value</th>\n",
       "    </tr>\n",
       "  </thead>\n",
       "  <tbody>\n",
       "    <tr>\n",
       "      <th>0</th>\n",
       "      <td>-122.23</td>\n",
       "      <td>37.88</td>\n",
       "      <td>41.0</td>\n",
       "      <td>880.0</td>\n",
       "      <td>129.0</td>\n",
       "      <td>322.0</td>\n",
       "      <td>126.0</td>\n",
       "      <td>8.3252</td>\n",
       "      <td>452600.0</td>\n",
       "    </tr>\n",
       "    <tr>\n",
       "      <th>1</th>\n",
       "      <td>-122.22</td>\n",
       "      <td>37.86</td>\n",
       "      <td>21.0</td>\n",
       "      <td>7099.0</td>\n",
       "      <td>1106.0</td>\n",
       "      <td>2401.0</td>\n",
       "      <td>1138.0</td>\n",
       "      <td>8.3014</td>\n",
       "      <td>358500.0</td>\n",
       "    </tr>\n",
       "    <tr>\n",
       "      <th>2</th>\n",
       "      <td>-122.24</td>\n",
       "      <td>37.85</td>\n",
       "      <td>52.0</td>\n",
       "      <td>1467.0</td>\n",
       "      <td>190.0</td>\n",
       "      <td>496.0</td>\n",
       "      <td>177.0</td>\n",
       "      <td>7.2574</td>\n",
       "      <td>352100.0</td>\n",
       "    </tr>\n",
       "    <tr>\n",
       "      <th>3</th>\n",
       "      <td>-122.25</td>\n",
       "      <td>37.85</td>\n",
       "      <td>52.0</td>\n",
       "      <td>1274.0</td>\n",
       "      <td>235.0</td>\n",
       "      <td>558.0</td>\n",
       "      <td>219.0</td>\n",
       "      <td>5.6431</td>\n",
       "      <td>341300.0</td>\n",
       "    </tr>\n",
       "    <tr>\n",
       "      <th>4</th>\n",
       "      <td>-122.25</td>\n",
       "      <td>37.85</td>\n",
       "      <td>52.0</td>\n",
       "      <td>1627.0</td>\n",
       "      <td>280.0</td>\n",
       "      <td>565.0</td>\n",
       "      <td>259.0</td>\n",
       "      <td>3.8462</td>\n",
       "      <td>342200.0</td>\n",
       "    </tr>\n",
       "  </tbody>\n",
       "</table>\n",
       "</div>"
      ],
      "text/plain": [
       "   longitude  latitude  ...  median_income  median_house_value\n",
       "0    -122.23     37.88  ...         8.3252            452600.0\n",
       "1    -122.22     37.86  ...         8.3014            358500.0\n",
       "2    -122.24     37.85  ...         7.2574            352100.0\n",
       "3    -122.25     37.85  ...         5.6431            341300.0\n",
       "4    -122.25     37.85  ...         3.8462            342200.0\n",
       "\n",
       "[5 rows x 9 columns]"
      ]
     },
     "execution_count": 16,
     "metadata": {
      "tags": []
     },
     "output_type": "execute_result"
    }
   ],
   "source": [
    "X = imputer.transform(data_num)\n",
    "data_num_clean = pd.DataFrame(X, columns=data_num.columns,index=data_num.index)\n",
    "data_num_clean.head()"
   ]
  },
  {
   "cell_type": "code",
   "execution_count": 17,
   "metadata": {
    "id": "spvY-7i_KrGZ"
   },
   "outputs": [],
   "source": [
    "data_num_clean[\"rooms_per_household\"] = data_num_clean[\"total_rooms\"]/data_num_clean[\"households\"]\n",
    "data_num_clean[\"bedrooms_per_room\"] = data_num_clean[\"total_bedrooms\"]/data_num_clean[\"total_rooms\"]\n",
    "data_num_clean[\"population_per_household\"]=data_num_clean[\"population\"]/data_num_clean[\"households\"]"
   ]
  },
  {
   "cell_type": "code",
   "execution_count": 18,
   "metadata": {
    "id": "ub9D7dkQqgop"
   },
   "outputs": [],
   "source": [
    "#Preprocess the categorical input feature, `ocean_proximity`:\n",
    "data_cat = data[[\"ocean_proximity\"]]"
   ]
  },
  {
   "cell_type": "code",
   "execution_count": 19,
   "metadata": {
    "id": "l2nvjJU3qgot"
   },
   "outputs": [],
   "source": [
    "from sklearn.preprocessing import OrdinalEncoder\n",
    "\n",
    "ordinal_encoder = OrdinalEncoder()\n",
    "data_cat_encoded = ordinal_encoder.fit_transform(data_cat)"
   ]
  },
  {
   "cell_type": "code",
   "execution_count": 21,
   "metadata": {
    "colab": {
     "base_uri": "https://localhost:8080/",
     "height": 224
    },
    "id": "k_arcn0BKrGk",
    "outputId": "53338e34-0d49-496c-a9ae-ad541c34c293"
   },
   "outputs": [
    {
     "data": {
      "text/html": [
       "<div>\n",
       "<style scoped>\n",
       "    .dataframe tbody tr th:only-of-type {\n",
       "        vertical-align: middle;\n",
       "    }\n",
       "\n",
       "    .dataframe tbody tr th {\n",
       "        vertical-align: top;\n",
       "    }\n",
       "\n",
       "    .dataframe thead th {\n",
       "        text-align: right;\n",
       "    }\n",
       "</style>\n",
       "<table border=\"1\" class=\"dataframe\">\n",
       "  <thead>\n",
       "    <tr style=\"text-align: right;\">\n",
       "      <th></th>\n",
       "      <th>longitude</th>\n",
       "      <th>latitude</th>\n",
       "      <th>housing_median_age</th>\n",
       "      <th>total_rooms</th>\n",
       "      <th>total_bedrooms</th>\n",
       "      <th>population</th>\n",
       "      <th>households</th>\n",
       "      <th>median_income</th>\n",
       "      <th>median_house_value</th>\n",
       "      <th>rooms_per_household</th>\n",
       "      <th>bedrooms_per_room</th>\n",
       "      <th>population_per_household</th>\n",
       "      <th>ocean_proximity</th>\n",
       "    </tr>\n",
       "  </thead>\n",
       "  <tbody>\n",
       "    <tr>\n",
       "      <th>0</th>\n",
       "      <td>-122.23</td>\n",
       "      <td>37.88</td>\n",
       "      <td>41.0</td>\n",
       "      <td>880.0</td>\n",
       "      <td>129.0</td>\n",
       "      <td>322.0</td>\n",
       "      <td>126.0</td>\n",
       "      <td>8.3252</td>\n",
       "      <td>452600.0</td>\n",
       "      <td>6.984127</td>\n",
       "      <td>0.146591</td>\n",
       "      <td>2.555556</td>\n",
       "      <td>3.0</td>\n",
       "    </tr>\n",
       "    <tr>\n",
       "      <th>1</th>\n",
       "      <td>-122.22</td>\n",
       "      <td>37.86</td>\n",
       "      <td>21.0</td>\n",
       "      <td>7099.0</td>\n",
       "      <td>1106.0</td>\n",
       "      <td>2401.0</td>\n",
       "      <td>1138.0</td>\n",
       "      <td>8.3014</td>\n",
       "      <td>358500.0</td>\n",
       "      <td>6.238137</td>\n",
       "      <td>0.155797</td>\n",
       "      <td>2.109842</td>\n",
       "      <td>3.0</td>\n",
       "    </tr>\n",
       "    <tr>\n",
       "      <th>2</th>\n",
       "      <td>-122.24</td>\n",
       "      <td>37.85</td>\n",
       "      <td>52.0</td>\n",
       "      <td>1467.0</td>\n",
       "      <td>190.0</td>\n",
       "      <td>496.0</td>\n",
       "      <td>177.0</td>\n",
       "      <td>7.2574</td>\n",
       "      <td>352100.0</td>\n",
       "      <td>8.288136</td>\n",
       "      <td>0.129516</td>\n",
       "      <td>2.802260</td>\n",
       "      <td>3.0</td>\n",
       "    </tr>\n",
       "    <tr>\n",
       "      <th>3</th>\n",
       "      <td>-122.25</td>\n",
       "      <td>37.85</td>\n",
       "      <td>52.0</td>\n",
       "      <td>1274.0</td>\n",
       "      <td>235.0</td>\n",
       "      <td>558.0</td>\n",
       "      <td>219.0</td>\n",
       "      <td>5.6431</td>\n",
       "      <td>341300.0</td>\n",
       "      <td>5.817352</td>\n",
       "      <td>0.184458</td>\n",
       "      <td>2.547945</td>\n",
       "      <td>3.0</td>\n",
       "    </tr>\n",
       "    <tr>\n",
       "      <th>4</th>\n",
       "      <td>-122.25</td>\n",
       "      <td>37.85</td>\n",
       "      <td>52.0</td>\n",
       "      <td>1627.0</td>\n",
       "      <td>280.0</td>\n",
       "      <td>565.0</td>\n",
       "      <td>259.0</td>\n",
       "      <td>3.8462</td>\n",
       "      <td>342200.0</td>\n",
       "      <td>6.281853</td>\n",
       "      <td>0.172096</td>\n",
       "      <td>2.181467</td>\n",
       "      <td>3.0</td>\n",
       "    </tr>\n",
       "  </tbody>\n",
       "</table>\n",
       "</div>"
      ],
      "text/plain": [
       "   longitude  latitude  ...  population_per_household  ocean_proximity\n",
       "0    -122.23     37.88  ...                  2.555556              3.0\n",
       "1    -122.22     37.86  ...                  2.109842              3.0\n",
       "2    -122.24     37.85  ...                  2.802260              3.0\n",
       "3    -122.25     37.85  ...                  2.547945              3.0\n",
       "4    -122.25     37.85  ...                  2.181467              3.0\n",
       "\n",
       "[5 rows x 13 columns]"
      ]
     },
     "execution_count": 21,
     "metadata": {
      "tags": []
     },
     "output_type": "execute_result"
    }
   ],
   "source": [
    "data_num_clean[\"ocean_proximity\"]=data_cat_encoded\n",
    "data_clean=data_num_clean\n",
    "data_clean.head()"
   ]
  },
  {
   "cell_type": "code",
   "execution_count": 22,
   "metadata": {
    "colab": {
     "base_uri": "https://localhost:8080/",
     "height": 439
    },
    "id": "VgeaJU4MKrGn",
    "outputId": "139d8b92-13fd-40f6-ee39-4684bae6c85a"
   },
   "outputs": [
    {
     "data": {
      "text/html": [
       "<div>\n",
       "<style scoped>\n",
       "    .dataframe tbody tr th:only-of-type {\n",
       "        vertical-align: middle;\n",
       "    }\n",
       "\n",
       "    .dataframe tbody tr th {\n",
       "        vertical-align: top;\n",
       "    }\n",
       "\n",
       "    .dataframe thead th {\n",
       "        text-align: right;\n",
       "    }\n",
       "</style>\n",
       "<table border=\"1\" class=\"dataframe\">\n",
       "  <thead>\n",
       "    <tr style=\"text-align: right;\">\n",
       "      <th></th>\n",
       "      <th>longitude</th>\n",
       "      <th>latitude</th>\n",
       "      <th>housing_median_age</th>\n",
       "      <th>total_rooms</th>\n",
       "      <th>total_bedrooms</th>\n",
       "      <th>population</th>\n",
       "      <th>households</th>\n",
       "      <th>median_income</th>\n",
       "      <th>rooms_per_household</th>\n",
       "      <th>bedrooms_per_room</th>\n",
       "      <th>population_per_household</th>\n",
       "      <th>ocean_proximity</th>\n",
       "      <th>median_house_value</th>\n",
       "    </tr>\n",
       "  </thead>\n",
       "  <tbody>\n",
       "    <tr>\n",
       "      <th>0</th>\n",
       "      <td>-122.23</td>\n",
       "      <td>37.88</td>\n",
       "      <td>41.0</td>\n",
       "      <td>880.0</td>\n",
       "      <td>129.0</td>\n",
       "      <td>322.0</td>\n",
       "      <td>126.0</td>\n",
       "      <td>8.3252</td>\n",
       "      <td>6.984127</td>\n",
       "      <td>0.146591</td>\n",
       "      <td>2.555556</td>\n",
       "      <td>3.0</td>\n",
       "      <td>452600.0</td>\n",
       "    </tr>\n",
       "    <tr>\n",
       "      <th>1</th>\n",
       "      <td>-122.22</td>\n",
       "      <td>37.86</td>\n",
       "      <td>21.0</td>\n",
       "      <td>7099.0</td>\n",
       "      <td>1106.0</td>\n",
       "      <td>2401.0</td>\n",
       "      <td>1138.0</td>\n",
       "      <td>8.3014</td>\n",
       "      <td>6.238137</td>\n",
       "      <td>0.155797</td>\n",
       "      <td>2.109842</td>\n",
       "      <td>3.0</td>\n",
       "      <td>358500.0</td>\n",
       "    </tr>\n",
       "    <tr>\n",
       "      <th>2</th>\n",
       "      <td>-122.24</td>\n",
       "      <td>37.85</td>\n",
       "      <td>52.0</td>\n",
       "      <td>1467.0</td>\n",
       "      <td>190.0</td>\n",
       "      <td>496.0</td>\n",
       "      <td>177.0</td>\n",
       "      <td>7.2574</td>\n",
       "      <td>8.288136</td>\n",
       "      <td>0.129516</td>\n",
       "      <td>2.802260</td>\n",
       "      <td>3.0</td>\n",
       "      <td>352100.0</td>\n",
       "    </tr>\n",
       "    <tr>\n",
       "      <th>3</th>\n",
       "      <td>-122.25</td>\n",
       "      <td>37.85</td>\n",
       "      <td>52.0</td>\n",
       "      <td>1274.0</td>\n",
       "      <td>235.0</td>\n",
       "      <td>558.0</td>\n",
       "      <td>219.0</td>\n",
       "      <td>5.6431</td>\n",
       "      <td>5.817352</td>\n",
       "      <td>0.184458</td>\n",
       "      <td>2.547945</td>\n",
       "      <td>3.0</td>\n",
       "      <td>341300.0</td>\n",
       "    </tr>\n",
       "    <tr>\n",
       "      <th>4</th>\n",
       "      <td>-122.25</td>\n",
       "      <td>37.85</td>\n",
       "      <td>52.0</td>\n",
       "      <td>1627.0</td>\n",
       "      <td>280.0</td>\n",
       "      <td>565.0</td>\n",
       "      <td>259.0</td>\n",
       "      <td>3.8462</td>\n",
       "      <td>6.281853</td>\n",
       "      <td>0.172096</td>\n",
       "      <td>2.181467</td>\n",
       "      <td>3.0</td>\n",
       "      <td>342200.0</td>\n",
       "    </tr>\n",
       "    <tr>\n",
       "      <th>...</th>\n",
       "      <td>...</td>\n",
       "      <td>...</td>\n",
       "      <td>...</td>\n",
       "      <td>...</td>\n",
       "      <td>...</td>\n",
       "      <td>...</td>\n",
       "      <td>...</td>\n",
       "      <td>...</td>\n",
       "      <td>...</td>\n",
       "      <td>...</td>\n",
       "      <td>...</td>\n",
       "      <td>...</td>\n",
       "      <td>...</td>\n",
       "    </tr>\n",
       "    <tr>\n",
       "      <th>20635</th>\n",
       "      <td>-121.09</td>\n",
       "      <td>39.48</td>\n",
       "      <td>25.0</td>\n",
       "      <td>1665.0</td>\n",
       "      <td>374.0</td>\n",
       "      <td>845.0</td>\n",
       "      <td>330.0</td>\n",
       "      <td>1.5603</td>\n",
       "      <td>5.045455</td>\n",
       "      <td>0.224625</td>\n",
       "      <td>2.560606</td>\n",
       "      <td>1.0</td>\n",
       "      <td>78100.0</td>\n",
       "    </tr>\n",
       "    <tr>\n",
       "      <th>20636</th>\n",
       "      <td>-121.21</td>\n",
       "      <td>39.49</td>\n",
       "      <td>18.0</td>\n",
       "      <td>697.0</td>\n",
       "      <td>150.0</td>\n",
       "      <td>356.0</td>\n",
       "      <td>114.0</td>\n",
       "      <td>2.5568</td>\n",
       "      <td>6.114035</td>\n",
       "      <td>0.215208</td>\n",
       "      <td>3.122807</td>\n",
       "      <td>1.0</td>\n",
       "      <td>77100.0</td>\n",
       "    </tr>\n",
       "    <tr>\n",
       "      <th>20637</th>\n",
       "      <td>-121.22</td>\n",
       "      <td>39.43</td>\n",
       "      <td>17.0</td>\n",
       "      <td>2254.0</td>\n",
       "      <td>485.0</td>\n",
       "      <td>1007.0</td>\n",
       "      <td>433.0</td>\n",
       "      <td>1.7000</td>\n",
       "      <td>5.205543</td>\n",
       "      <td>0.215173</td>\n",
       "      <td>2.325635</td>\n",
       "      <td>1.0</td>\n",
       "      <td>92300.0</td>\n",
       "    </tr>\n",
       "    <tr>\n",
       "      <th>20638</th>\n",
       "      <td>-121.32</td>\n",
       "      <td>39.43</td>\n",
       "      <td>18.0</td>\n",
       "      <td>1860.0</td>\n",
       "      <td>409.0</td>\n",
       "      <td>741.0</td>\n",
       "      <td>349.0</td>\n",
       "      <td>1.8672</td>\n",
       "      <td>5.329513</td>\n",
       "      <td>0.219892</td>\n",
       "      <td>2.123209</td>\n",
       "      <td>1.0</td>\n",
       "      <td>84700.0</td>\n",
       "    </tr>\n",
       "    <tr>\n",
       "      <th>20639</th>\n",
       "      <td>-121.24</td>\n",
       "      <td>39.37</td>\n",
       "      <td>16.0</td>\n",
       "      <td>2785.0</td>\n",
       "      <td>616.0</td>\n",
       "      <td>1387.0</td>\n",
       "      <td>530.0</td>\n",
       "      <td>2.3886</td>\n",
       "      <td>5.254717</td>\n",
       "      <td>0.221185</td>\n",
       "      <td>2.616981</td>\n",
       "      <td>1.0</td>\n",
       "      <td>89400.0</td>\n",
       "    </tr>\n",
       "  </tbody>\n",
       "</table>\n",
       "<p>20640 rows × 13 columns</p>\n",
       "</div>"
      ],
      "text/plain": [
       "       longitude  latitude  ...  ocean_proximity  median_house_value\n",
       "0        -122.23     37.88  ...              3.0            452600.0\n",
       "1        -122.22     37.86  ...              3.0            358500.0\n",
       "2        -122.24     37.85  ...              3.0            352100.0\n",
       "3        -122.25     37.85  ...              3.0            341300.0\n",
       "4        -122.25     37.85  ...              3.0            342200.0\n",
       "...          ...       ...  ...              ...                 ...\n",
       "20635    -121.09     39.48  ...              1.0             78100.0\n",
       "20636    -121.21     39.49  ...              1.0             77100.0\n",
       "20637    -121.22     39.43  ...              1.0             92300.0\n",
       "20638    -121.32     39.43  ...              1.0             84700.0\n",
       "20639    -121.24     39.37  ...              1.0             89400.0\n",
       "\n",
       "[20640 rows x 13 columns]"
      ]
     },
     "execution_count": 22,
     "metadata": {
      "tags": []
     },
     "output_type": "execute_result"
    }
   ],
   "source": [
    "housing_labels = data_clean[\"median_house_value\"]\n",
    "data_clean = data_clean.drop(\"median_house_value\", axis=1)\n",
    "data_clean[\"median_house_value\"] = housing_labels\n",
    "data_clean"
   ]
  },
  {
   "cell_type": "code",
   "execution_count": 23,
   "metadata": {
    "colab": {
     "base_uri": "https://localhost:8080/",
     "height": 34
    },
    "id": "FGBb8HZWKrGp",
    "outputId": "21ff920b-bfd8-4339-dc02-953c8c2fb888"
   },
   "outputs": [
    {
     "data": {
      "text/plain": [
       "(20640, 13)"
      ]
     },
     "execution_count": 23,
     "metadata": {
      "tags": []
     },
     "output_type": "execute_result"
    }
   ],
   "source": [
    "from sklearn import preprocessing\n",
    "\n",
    "minmax_scale = preprocessing.MinMaxScaler()\n",
    "X_scaled = minmax_scale.fit_transform(data_clean)\n",
    "X_scaled.shape"
   ]
  },
  {
   "cell_type": "code",
   "execution_count": 24,
   "metadata": {
    "colab": {
     "base_uri": "https://localhost:8080/",
     "height": 51
    },
    "id": "tfaXk6JBbiNZ",
    "outputId": "7abfea4e-8674-418d-84f7-c87cdc0010f1"
   },
   "outputs": [
    {
     "name": "stdout",
     "output_type": "stream",
     "text": [
      "(20640, 12)\n",
      "(20640,)\n"
     ]
    }
   ],
   "source": [
    "#Splitting the dependent and independent variables\n",
    "\n",
    "X = X_scaled[:,:-1]\n",
    "y = X_scaled[:,-1]\n",
    "\n",
    "print(X.shape)\n",
    "print(y.shape)"
   ]
  },
  {
   "cell_type": "code",
   "execution_count": 25,
   "metadata": {
    "colab": {
     "base_uri": "https://localhost:8080/",
     "height": 68
    },
    "id": "CLHjid6FY13N",
    "outputId": "a886e59b-c02d-4274-a61c-856a9fb95726"
   },
   "outputs": [
    {
     "name": "stdout",
     "output_type": "stream",
     "text": [
      "(16512, 12)\n",
      "(16512,)\n",
      "(4128, 12)\n"
     ]
    }
   ],
   "source": [
    "#Splitting the dataset into training and test sets\n",
    "\n",
    "from sklearn.model_selection import train_test_split\n",
    "\n",
    "train_data, test_data, train_labels, test_labels = train_test_split(X, y, test_size = 0.2, random_state = 42)\n",
    "\n",
    "print(train_data.shape)\n",
    "print(train_labels.shape)\n",
    "print(test_data.shape)"
   ]
  },
  {
   "cell_type": "code",
   "execution_count": 26,
   "metadata": {
    "id": "BuCeh9XVKrGy"
   },
   "outputs": [],
   "source": [
    "train_data = train_data\n",
    "test_data = test_data\n",
    "train_labels = train_labels.reshape(-1,1)\n",
    "test_labels = test_labels.reshape(-1,1)"
   ]
  },
  {
   "cell_type": "code",
   "execution_count": 27,
   "metadata": {
    "colab": {
     "base_uri": "https://localhost:8080/",
     "height": 136
    },
    "id": "MLGUpsaOKrG0",
    "outputId": "8853e526-c9dd-4218-e1b3-244f03d715c9"
   },
   "outputs": [
    {
     "data": {
      "text/plain": [
       "array([[0.18144461],\n",
       "       [0.75690616],\n",
       "       [0.32494918],\n",
       "       ...,\n",
       "       [0.42701061],\n",
       "       [0.55360803],\n",
       "       [0.63917468]])"
      ]
     },
     "execution_count": 27,
     "metadata": {
      "tags": []
     },
     "output_type": "execute_result"
    }
   ],
   "source": [
    "train_labels"
   ]
  },
  {
   "cell_type": "markdown",
   "metadata": {
    "id": "3s5fAfkYxLYp"
   },
   "source": [
    "## Preparation of the dataset for PyTorch"
   ]
  },
  {
   "cell_type": "code",
   "execution_count": 30,
   "metadata": {
    "id": "wJ1L0HBAjGxk"
   },
   "outputs": [],
   "source": [
    "from torch.utils.data import TensorDataset, DataLoader\n",
    "\n",
    "tensor_x = torch.tensor(train_data, dtype=torch.float).cuda() # transform to torch tensor\n",
    "tensor_x2 = torch.tensor(test_data, dtype=torch.float).cuda() "
   ]
  },
  {
   "cell_type": "code",
   "execution_count": 31,
   "metadata": {
    "id": "eZCUXWsRjGxt"
   },
   "outputs": [],
   "source": [
    "tensor_y = torch.tensor(train_labels, dtype=torch.float).cuda()\n",
    "tensor_y2 = torch.tensor(test_labels, dtype=torch.float).cuda()"
   ]
  },
  {
   "cell_type": "code",
   "execution_count": 32,
   "metadata": {
    "id": "viaVSWpsGzDM"
   },
   "outputs": [],
   "source": [
    "train_dataset = TensorDataset(tensor_x, tensor_y) # create your dataset\n",
    "test_dataset = TensorDataset(tensor_x2,tensor_y2)"
   ]
  },
  {
   "cell_type": "code",
   "execution_count": 33,
   "metadata": {
    "id": "PR0Pw5uNt22n"
   },
   "outputs": [],
   "source": [
    "# Normalizing the data\n",
    "\n",
    "#print(tensor_x,tensor_x2)\n",
    "\n",
    "#mean = torch.mean(tensor_x)\n",
    "#std = torch.std(tensor_x)\n",
    "\n",
    "#tensor_x = (tensor_x - mean) / std\n",
    "#tensor_x2 = (tensor_x2 - mean) / std"
   ]
  },
  {
   "cell_type": "markdown",
   "metadata": {
    "id": "0Q3zsgW2jGx8"
   },
   "source": [
    "## Building Feedforward Neural Networks with PyTorch"
   ]
  },
  {
   "cell_type": "code",
   "execution_count": 34,
   "metadata": {
    "id": "RERx3KT0HGoT"
   },
   "outputs": [],
   "source": [
    "# import libraries\n",
    "\n",
    "import torch\n",
    "import torch.nn as nn\n",
    "from torch.autograd import Variable\n",
    "from torchsummary import summary"
   ]
  },
  {
   "cell_type": "markdown",
   "metadata": {
    "id": "P_xGYFrsjG0R"
   },
   "source": [
    "### Model A: 3 Hidden Layers Feedforward Neural Network"
   ]
  },
  {
   "cell_type": "markdown",
   "metadata": {
    "id": "Eq-gTJ_SjG0v"
   },
   "source": [
    "### Create model class"
   ]
  },
  {
   "cell_type": "code",
   "execution_count": 35,
   "metadata": {
    "colab": {
     "base_uri": "https://localhost:8080/",
     "height": 34
    },
    "id": "yEh7DV00HVU9",
    "outputId": "ba37baf2-d764-4a24-a18e-2d24755caf39"
   },
   "outputs": [
    {
     "name": "stdout",
     "output_type": "stream",
     "text": [
      "77\n"
     ]
    }
   ],
   "source": [
    "batch_size = 128\n",
    "n_iters = 10000\n",
    "num_epochs = n_iters / (len(train_data) / batch_size)\n",
    "num_epochs = int(num_epochs)\n",
    "print(num_epochs)"
   ]
  },
  {
   "cell_type": "code",
   "execution_count": 36,
   "metadata": {
    "id": "CoH9zZ4sHX4T"
   },
   "outputs": [],
   "source": [
    "train_loader = DataLoader(train_dataset, batch_size=batch_size, shuffle=True) # create your dataloader\n",
    "\n",
    "test_loader = DataLoader(test_dataset, batch_size=batch_size,  shuffle=False)"
   ]
  },
  {
   "cell_type": "code",
   "execution_count": 37,
   "metadata": {
    "id": "L_pXroQFt22q"
   },
   "outputs": [],
   "source": [
    "class FNN(nn.Module):\n",
    "    def __init__(self, input_dim, hidden_dim1,hidden_dim2,hidden_dim3, output_dim):\n",
    "        super(FNN, self).__init__()\n",
    "        \n",
    "        self.linear1 = nn.Linear(input_dim, hidden_dim1)\n",
    "        self.linear2 = nn.Linear(hidden_dim1, hidden_dim2)\n",
    "        self.linear3 = nn.Linear(hidden_dim2, hidden_dim3)\n",
    "        self.linear4 = nn.Linear(hidden_dim3, output_dim)\n",
    "        \n",
    "    def forward(self, x):\n",
    "        out = self.linear1(x).clamp(min=0)\n",
    "        out = self.linear2(out).clamp(min=0)\n",
    "        out = self.linear3(out).clamp(min=0)\n",
    "        out = self.linear4(out)\n",
    "        return out"
   ]
  },
  {
   "cell_type": "code",
   "execution_count": 38,
   "metadata": {
    "id": "lTICx4_Gt22t"
   },
   "outputs": [],
   "source": [
    "input_dim = tensor_x.shape[1]\n",
    "output_dim = 1\n",
    "hidden_dim1 = 500\n",
    "hidden_dim2 = 1000\n",
    "hidden_dim3 = 200"
   ]
  },
  {
   "cell_type": "code",
   "execution_count": 39,
   "metadata": {
    "id": "PwaZoNhUt22v"
   },
   "outputs": [],
   "source": [
    "model = FNN(input_dim, hidden_dim1,hidden_dim2,hidden_dim3, output_dim)\n",
    "\n",
    "#######################\n",
    "#  USE GPU FOR MODEL  #\n",
    "#######################\n",
    "if torch.cuda.is_available():\n",
    "    model.cuda()\n"
   ]
  },
  {
   "cell_type": "code",
   "execution_count": 40,
   "metadata": {
    "colab": {
     "base_uri": "https://localhost:8080/",
     "height": 306
    },
    "id": "RDWXkP5iIKF9",
    "outputId": "27a5047a-262b-43c6-f1cf-4c34360d8368"
   },
   "outputs": [
    {
     "name": "stdout",
     "output_type": "stream",
     "text": [
      "----------------------------------------------------------------\n",
      "        Layer (type)               Output Shape         Param #\n",
      "================================================================\n",
      "            Linear-1               [-1, 1, 500]           6,500\n",
      "            Linear-2              [-1, 1, 1000]         501,000\n",
      "            Linear-3               [-1, 1, 200]         200,200\n",
      "            Linear-4                 [-1, 1, 1]             201\n",
      "================================================================\n",
      "Total params: 707,901\n",
      "Trainable params: 707,901\n",
      "Non-trainable params: 0\n",
      "----------------------------------------------------------------\n",
      "Input size (MB): 0.00\n",
      "Forward/backward pass size (MB): 0.01\n",
      "Params size (MB): 2.70\n",
      "Estimated Total Size (MB): 2.71\n",
      "----------------------------------------------------------------\n"
     ]
    }
   ],
   "source": [
    "summary(model, (1,tensor_x.shape[1]))"
   ]
  },
  {
   "cell_type": "code",
   "execution_count": 41,
   "metadata": {
    "id": "KnZxUvFvNJlZ"
   },
   "outputs": [],
   "source": [
    "criterion = nn.MSELoss(reduction='sum')\n",
    "\n",
    "learning_rate = 0.001\n",
    "optimizer = torch.optim.SGD(model.parameters(), lr=learning_rate)"
   ]
  },
  {
   "cell_type": "code",
   "execution_count": 42,
   "metadata": {
    "colab": {
     "base_uri": "https://localhost:8080/",
     "height": 340
    },
    "id": "fHiKX1cdt22x",
    "outputId": "fd236d44-1bf0-4a1c-9da9-226d95a58dc7"
   },
   "outputs": [
    {
     "name": "stdout",
     "output_type": "stream",
     "text": [
      "Iteration: 500. Training Loss: 3.2322542667388916. Test Loss: 0.3689999580383301\n",
      "Iteration: 1000. Training Loss: 2.230991840362549. Test Loss: 0.28060686588287354\n",
      "Iteration: 1500. Training Loss: 2.7168712615966797. Test Loss: 0.2774960398674011\n",
      "Iteration: 2000. Training Loss: 1.9698190689086914. Test Loss: 0.42408788204193115\n",
      "Iteration: 2500. Training Loss: 2.865222454071045. Test Loss: 0.4667242765426636\n",
      "Iteration: 3000. Training Loss: 2.730923652648926. Test Loss: 0.2627788782119751\n",
      "Iteration: 3500. Training Loss: 2.174466609954834. Test Loss: 0.3203355669975281\n",
      "Iteration: 4000. Training Loss: 2.105297565460205. Test Loss: 0.280778706073761\n",
      "Iteration: 4500. Training Loss: 2.5902342796325684. Test Loss: 0.2748432755470276\n",
      "Iteration: 5000. Training Loss: 2.144698143005371. Test Loss: 0.4639221429824829\n",
      "Iteration: 5500. Training Loss: 2.5857996940612793. Test Loss: 0.5262027382850647\n",
      "Iteration: 6000. Training Loss: 3.4844584465026855. Test Loss: 1.0604453086853027\n",
      "Iteration: 6500. Training Loss: 1.5637418031692505. Test Loss: 0.22600719332695007\n",
      "Iteration: 7000. Training Loss: 1.7851853370666504. Test Loss: 0.4942101240158081\n",
      "Iteration: 7500. Training Loss: 1.5748860836029053. Test Loss: 0.29523831605911255\n",
      "Iteration: 8000. Training Loss: 2.3219876289367676. Test Loss: 0.3285246193408966\n",
      "Iteration: 8500. Training Loss: 2.090470314025879. Test Loss: 0.38222330808639526\n",
      "Iteration: 9000. Training Loss: 2.7250442504882812. Test Loss: 0.5260719656944275\n",
      "Iteration: 9500. Training Loss: 2.1094613075256348. Test Loss: 0.3772777318954468\n"
     ]
    }
   ],
   "source": [
    "# Train the model\n",
    "\n",
    "train_loss = []\n",
    "\n",
    "iter = 0\n",
    "for epoch in range(num_epochs):\n",
    "    \n",
    "    '''\n",
    "    One iteration\n",
    "    '''\n",
    "    for i, (X, labels) in enumerate(train_loader):\n",
    "        #######################\n",
    "        #  USE GPU FOR MODEL  #\n",
    "        #######################\n",
    "        if torch.cuda.is_available():\n",
    "            X = Variable(X.cuda())\n",
    "            labels = Variable(labels.cuda())\n",
    "        else:\n",
    "            X = Variable(X)\n",
    "            labels = Variable(labels)\n",
    "        \n",
    "        # Forward pass to get output/logits\n",
    "        outputs = model(X)\n",
    "        \n",
    "        # Clear gradients w.r.t. parameters\n",
    "        optimizer.zero_grad()\n",
    "        \n",
    "        # Calculate Loss:\n",
    "        loss = criterion(outputs, labels)\n",
    "                \n",
    "        '''\n",
    "        Save loss to draw loss curve\n",
    "        '''\n",
    "        train_loss.append(loss)\n",
    "        ''''''\n",
    "\n",
    "        # Getting gradients w.r.t. parameters\n",
    "        loss.backward()\n",
    "        \n",
    "        # Updating parameters\n",
    "        optimizer.step()\n",
    "        ''''''\n",
    "        \n",
    "        iter += 1\n",
    "    \n",
    "        # Testing the model\n",
    "        if iter % 500 == 0:\n",
    "            # Iterate through test dataset\n",
    "            for X, labels in test_loader:\n",
    "                #######################\n",
    "                #  USE GPU FOR MODEL  #\n",
    "                #######################\n",
    "                if torch.cuda.is_available():\n",
    "                    X = Variable(X.cuda())\n",
    "                else:\n",
    "                    X = Variable(X)    \n",
    "                    \n",
    "                # Forward pass only to get logits/output\n",
    "                outputs = model(X)\n",
    "                \n",
    "                # Calculate Loss:\n",
    "                loss_t = criterion(outputs, labels)\n",
    "                \n",
    "            # Print Loss\n",
    "            print('Iteration: {}. Training Loss: {}. Test Loss: {}'.format(iter, loss.data, loss_t.data))\n",
    "            "
   ]
  },
  {
   "cell_type": "code",
   "execution_count": 43,
   "metadata": {
    "colab": {
     "base_uri": "https://localhost:8080/",
     "height": 350
    },
    "id": "Df5NMGbbO7Gd",
    "outputId": "f3f9bad9-1754-42f6-dbce-24d83cb3e3bf"
   },
   "outputs": [
    {
     "data": {
      "image/png": "[encoded data removed]",
      "text/plain": [
       "<Figure size 504x360 with 1 Axes>"
      ]
     },
     "metadata": {
      "needs_background": "light",
      "tags": []
     },
     "output_type": "display_data"
    }
   ],
   "source": [
    "#Plot the loss curve\n",
    "\n",
    "plt.figure(figsize=(7,5))\n",
    "plt.plot(range(len(train_loss)), train_loss)\n",
    "plt.xlabel(\"Iteration\")\n",
    "plt.ylabel(\"MSE\")\n",
    "plt.title(\"Loss curve for training\")\n",
    "plt.show()"
   ]
  },
  {
   "cell_type": "code",
   "execution_count": 44,
   "metadata": {
    "id": "JJcThtEMrtF3"
   },
   "outputs": [],
   "source": [
    "save_model = True\n",
    "if save_model is True:\n",
    "    torch.save(model.state_dict(), 'housing_FNN_pytorch_A.pkl')# only save parameters"
   ]
  },
  {
   "cell_type": "markdown",
   "metadata": {
    "id": "N1RZUje2t222"
   },
   "source": [
    "### Model B: 3 Hidden Layers Feedforward Neural Network (ReLU activation)"
   ]
  },
  {
   "cell_type": "markdown",
   "metadata": {
    "id": "X0gtcPcPt222"
   },
   "source": [
    "### Create model class"
   ]
  },
  {
   "cell_type": "code",
   "execution_count": 45,
   "metadata": {
    "colab": {
     "base_uri": "https://localhost:8080/",
     "height": 34
    },
    "id": "AUE2mWf4Q0nb",
    "outputId": "15df86e9-7057-4cb2-a76a-09f9cda5ecf1"
   },
   "outputs": [
    {
     "name": "stdout",
     "output_type": "stream",
     "text": [
      "20\n"
     ]
    }
   ],
   "source": [
    "batch_size = 16\n",
    "n_iters = 21000\n",
    "num_epochs = n_iters / (len(train_data) / batch_size)\n",
    "num_epochs = int(num_epochs)\n",
    "print(num_epochs)"
   ]
  },
  {
   "cell_type": "code",
   "execution_count": 46,
   "metadata": {
    "id": "1qlG9zPXQ0nv"
   },
   "outputs": [],
   "source": [
    "train_loader = DataLoader(train_dataset, batch_size=batch_size, shuffle=True) # create your dataloader\n",
    "\n",
    "test_loader = DataLoader(test_dataset, batch_size=batch_size,  shuffle=False)"
   ]
  },
  {
   "cell_type": "code",
   "execution_count": 47,
   "metadata": {
    "id": "pHP-6Gbrt223"
   },
   "outputs": [],
   "source": [
    "class FNN(nn.Module):\n",
    "    def __init__(self, input_dim, hidden_dim1,hidden_dim2,hidden_dim3, output_dim):\n",
    "        super(FNN, self).__init__()\n",
    "        \n",
    "        self.linear1 = nn.Linear(input_dim, hidden_dim1)\n",
    "        self.relu1 = nn.ReLU()\n",
    "        self.linear2 = nn.Linear(hidden_dim1, hidden_dim2)\n",
    "        self.relu2 = nn.ReLU()\n",
    "        self.linear3 = nn.Linear(hidden_dim2, hidden_dim3)\n",
    "        self.relu3 = nn.ReLU()\n",
    "        self.linear4 = nn.Linear(hidden_dim3, output_dim)\n",
    "        \n",
    "    def forward(self, x):\n",
    "        out = self.linear1(x)\n",
    "        out = self.relu1(out)\n",
    "        out = self.linear2(out)\n",
    "        out = self.relu2(out)\n",
    "        out = self.linear3(out)\n",
    "        out = self.relu3(out)\n",
    "        out = self.linear4(out)\n",
    "        return out"
   ]
  },
  {
   "cell_type": "code",
   "execution_count": 48,
   "metadata": {
    "id": "hW1TdbRVt225"
   },
   "outputs": [],
   "source": [
    "input_dim = tensor_x.shape[1]\n",
    "output_dim = 1\n",
    "hidden_dim1 = 500\n",
    "hidden_dim2 = 1000\n",
    "hidden_dim3 = 200"
   ]
  },
  {
   "cell_type": "code",
   "execution_count": 49,
   "metadata": {
    "id": "3xR4dZyut227"
   },
   "outputs": [],
   "source": [
    "model = FNN(input_dim, hidden_dim1,hidden_dim2,hidden_dim3, output_dim)\n",
    "\n",
    "#######################\n",
    "#  USE GPU FOR MODEL  #\n",
    "#######################\n",
    "if torch.cuda.is_available():\n",
    "    model.cuda()\n"
   ]
  },
  {
   "cell_type": "code",
   "execution_count": 50,
   "metadata": {
    "colab": {
     "base_uri": "https://localhost:8080/",
     "height": 357
    },
    "id": "yZTOUPrkP5JX",
    "outputId": "a6858d1b-4178-45c4-a426-7eebbf90cc2d"
   },
   "outputs": [
    {
     "name": "stdout",
     "output_type": "stream",
     "text": [
      "----------------------------------------------------------------\n",
      "        Layer (type)               Output Shape         Param #\n",
      "================================================================\n",
      "            Linear-1               [-1, 1, 500]           6,500\n",
      "              ReLU-2               [-1, 1, 500]               0\n",
      "            Linear-3              [-1, 1, 1000]         501,000\n",
      "              ReLU-4              [-1, 1, 1000]               0\n",
      "            Linear-5               [-1, 1, 200]         200,200\n",
      "              ReLU-6               [-1, 1, 200]               0\n",
      "            Linear-7                 [-1, 1, 1]             201\n",
      "================================================================\n",
      "Total params: 707,901\n",
      "Trainable params: 707,901\n",
      "Non-trainable params: 0\n",
      "----------------------------------------------------------------\n",
      "Input size (MB): 0.00\n",
      "Forward/backward pass size (MB): 0.03\n",
      "Params size (MB): 2.70\n",
      "Estimated Total Size (MB): 2.73\n",
      "----------------------------------------------------------------\n"
     ]
    }
   ],
   "source": [
    "summary(model, (1,tensor_x.shape[1]))"
   ]
  },
  {
   "cell_type": "code",
   "execution_count": 51,
   "metadata": {
    "id": "irnPkz-DP5Ji"
   },
   "outputs": [],
   "source": [
    "criterion = nn.MSELoss(reduction='sum')\n",
    "\n",
    "learning_rate = 0.0001\n",
    "optimizer = torch.optim.SGD(model.parameters(), lr=learning_rate)"
   ]
  },
  {
   "cell_type": "code",
   "execution_count": 52,
   "metadata": {
    "colab": {
     "base_uri": "https://localhost:8080/",
     "height": 714
    },
    "id": "ek1bJ9ggP5Jp",
    "outputId": "97c1988b-49af-4a71-da7d-1565ba686d5b"
   },
   "outputs": [
    {
     "name": "stdout",
     "output_type": "stream",
     "text": [
      "Iteration: 500. Training Loss: 0.976995587348938. Test Loss: 1.4703352451324463\n",
      "Iteration: 1000. Training Loss: 0.590218722820282. Test Loss: 1.4042195081710815\n",
      "Iteration: 1500. Training Loss: 1.0419752597808838. Test Loss: 1.3420716524124146\n",
      "Iteration: 2000. Training Loss: 0.6847468614578247. Test Loss: 1.3044798374176025\n",
      "Iteration: 2500. Training Loss: 0.9113125205039978. Test Loss: 1.246578335762024\n",
      "Iteration: 3000. Training Loss: 0.5212317109107971. Test Loss: 1.196395993232727\n",
      "Iteration: 3500. Training Loss: 1.0826783180236816. Test Loss: 1.135572910308838\n",
      "Iteration: 4000. Training Loss: 0.8929678797721863. Test Loss: 1.0886212587356567\n",
      "Iteration: 4500. Training Loss: 0.44212716817855835. Test Loss: 1.0216152667999268\n",
      "Iteration: 5000. Training Loss: 0.6011855602264404. Test Loss: 0.9586695432662964\n",
      "Iteration: 5500. Training Loss: 0.5937200784683228. Test Loss: 0.899177074432373\n",
      "Iteration: 6000. Training Loss: 1.1401714086532593. Test Loss: 0.8258193135261536\n",
      "Iteration: 6500. Training Loss: 1.1491252183914185. Test Loss: 0.7595744132995605\n",
      "Iteration: 7000. Training Loss: 0.6203663349151611. Test Loss: 0.6899628639221191\n",
      "Iteration: 7500. Training Loss: 0.4646795392036438. Test Loss: 0.6194781064987183\n",
      "Iteration: 8000. Training Loss: 0.9719929099082947. Test Loss: 0.5513327121734619\n",
      "Iteration: 8500. Training Loss: 0.5199883580207825. Test Loss: 0.488930881023407\n",
      "Iteration: 9000. Training Loss: 0.40388041734695435. Test Loss: 0.43123912811279297\n",
      "Iteration: 9500. Training Loss: 0.2617798447608948. Test Loss: 0.381931334733963\n",
      "Iteration: 10000. Training Loss: 0.44254136085510254. Test Loss: 0.3361368179321289\n",
      "Iteration: 10500. Training Loss: 0.4091377258300781. Test Loss: 0.3014984428882599\n",
      "Iteration: 11000. Training Loss: 0.13748258352279663. Test Loss: 0.27495747804641724\n",
      "Iteration: 11500. Training Loss: 0.16615363955497742. Test Loss: 0.24855569005012512\n",
      "Iteration: 12000. Training Loss: 0.4897229075431824. Test Loss: 0.23655733466148376\n",
      "Iteration: 12500. Training Loss: 0.1913026124238968. Test Loss: 0.22123180329799652\n",
      "Iteration: 13000. Training Loss: 0.6309084892272949. Test Loss: 0.2054539918899536\n",
      "Iteration: 13500. Training Loss: 0.4976300001144409. Test Loss: 0.20480841398239136\n",
      "Iteration: 14000. Training Loss: 0.19143198430538177. Test Loss: 0.20407366752624512\n",
      "Iteration: 14500. Training Loss: 0.17426079511642456. Test Loss: 0.19423356652259827\n",
      "Iteration: 15000. Training Loss: 0.34665030241012573. Test Loss: 0.1964985728263855\n",
      "Iteration: 15500. Training Loss: 0.3556501269340515. Test Loss: 0.1922180950641632\n",
      "Iteration: 16000. Training Loss: 0.42186063528060913. Test Loss: 0.18620941042900085\n",
      "Iteration: 16500. Training Loss: 0.16353380680084229. Test Loss: 0.19114245474338531\n",
      "Iteration: 17000. Training Loss: 0.28040170669555664. Test Loss: 0.1900903582572937\n",
      "Iteration: 17500. Training Loss: 0.71766597032547. Test Loss: 0.18120089173316956\n",
      "Iteration: 18000. Training Loss: 0.6420358419418335. Test Loss: 0.19022691249847412\n",
      "Iteration: 18500. Training Loss: 0.2944480776786804. Test Loss: 0.17622078955173492\n",
      "Iteration: 19000. Training Loss: 0.24633626639842987. Test Loss: 0.1870235651731491\n",
      "Iteration: 19500. Training Loss: 0.4316083490848541. Test Loss: 0.17691993713378906\n",
      "Iteration: 20000. Training Loss: 0.7826362252235413. Test Loss: 0.18104106187820435\n",
      "Iteration: 20500. Training Loss: 0.18745099008083344. Test Loss: 0.17838531732559204\n"
     ]
    }
   ],
   "source": [
    "# Train the model\n",
    "\n",
    "train_loss = []\n",
    "\n",
    "iter = 0\n",
    "for epoch in range(num_epochs):\n",
    "    \n",
    "    '''\n",
    "    One iteration\n",
    "    '''\n",
    "    for i, (X, labels) in enumerate(train_loader):\n",
    "        #######################\n",
    "        #  USE GPU FOR MODEL  #\n",
    "        #######################\n",
    "        if torch.cuda.is_available():\n",
    "            X = Variable(X.cuda())\n",
    "            labels = Variable(labels.cuda())\n",
    "        else:\n",
    "            X = Variable(X)\n",
    "            labels = Variable(labels)\n",
    "        \n",
    "        # Forward pass to get output/logits\n",
    "        outputs = model(X)\n",
    "        \n",
    "        # Clear gradients w.r.t. parameters\n",
    "        optimizer.zero_grad()\n",
    "        \n",
    "        # Calculate Loss:\n",
    "        loss = criterion(outputs, labels)\n",
    "                \n",
    "        '''\n",
    "        Save loss to draw loss curve\n",
    "        '''\n",
    "        train_loss.append(loss)\n",
    "        ''''''\n",
    "\n",
    "        # Getting gradients w.r.t. parameters\n",
    "        loss.backward()\n",
    "        \n",
    "        # Updating parameters\n",
    "        optimizer.step()\n",
    "        ''''''\n",
    "        \n",
    "        iter += 1\n",
    "    \n",
    "        # Testing the model\n",
    "        if iter % 500 == 0:\n",
    "            # Iterate through test dataset\n",
    "            for X, labels in test_loader:\n",
    "                #######################\n",
    "                #  USE GPU FOR MODEL  #\n",
    "                #######################\n",
    "                if torch.cuda.is_available():\n",
    "                    X = Variable(X.cuda())\n",
    "                else:\n",
    "                    X = Variable(X)    \n",
    "                    \n",
    "                # Forward pass only to get logits/output\n",
    "                outputs = model(X)\n",
    "                \n",
    "                # Calculate Loss:\n",
    "                loss_t = criterion(outputs, labels)\n",
    "                \n",
    "            # Print Loss\n",
    "            print('Iteration: {}. Training Loss: {}. Test Loss: {}'.format(iter, loss.data, loss_t.data))\n",
    "            "
   ]
  },
  {
   "cell_type": "code",
   "execution_count": 53,
   "metadata": {
    "colab": {
     "base_uri": "https://localhost:8080/",
     "height": 350
    },
    "id": "cY4Lcwf7P5Jt",
    "outputId": "cc492bf6-1d62-42fe-e0dc-30987be95e0a"
   },
   "outputs": [
    {
     "data": {
      "image/png": "[encoded data removed]",
      "text/plain": [
       "<Figure size 504x360 with 1 Axes>"
      ]
     },
     "metadata": {
      "needs_background": "light",
      "tags": []
     },
     "output_type": "display_data"
    }
   ],
   "source": [
    "#Plot the loss curve\n",
    "\n",
    "plt.figure(figsize=(7,5))\n",
    "plt.plot(range(len(train_loss)), train_loss)\n",
    "plt.xlabel(\"Iteration\")\n",
    "plt.ylabel(\"MSE\")\n",
    "plt.title(\"Loss curve for training\")\n",
    "plt.show()\n"
   ]
  },
  {
   "cell_type": "code",
   "execution_count": 54,
   "metadata": {
    "id": "wQKRuN8ut23C"
   },
   "outputs": [],
   "source": [
    "save_model = True\n",
    "if save_model is True:\n",
    "    torch.save(model.state_dict(), 'housing_FNN_pytorch_B.pkl')# only save parameters"
   ]
  },
  {
   "cell_type": "markdown",
   "metadata": {
    "id": "tOQfnZq1t23G"
   },
   "source": [
    "### Model C: 3 Hidden Layers Feedforward Neural Network (LeakyReLU activation)"
   ]
  },
  {
   "cell_type": "markdown",
   "metadata": {
    "id": "MEQ783gkt23H"
   },
   "source": [
    "### Create model class"
   ]
  },
  {
   "cell_type": "code",
   "execution_count": 55,
   "metadata": {
    "colab": {
     "base_uri": "https://localhost:8080/",
     "height": 34
    },
    "id": "DOJyf7GeSDlJ",
    "outputId": "b2dac1ee-5cb1-4d17-b6ce-a95f53fa7b66"
   },
   "outputs": [
    {
     "name": "stdout",
     "output_type": "stream",
     "text": [
      "38\n"
     ]
    }
   ],
   "source": [
    "batch_size = 16\n",
    "n_iters = 40000\n",
    "num_epochs = n_iters / (len(train_data) / batch_size)\n",
    "num_epochs = int(num_epochs)\n",
    "print(num_epochs)"
   ]
  },
  {
   "cell_type": "code",
   "execution_count": 56,
   "metadata": {
    "id": "vT9evoJ5SDle"
   },
   "outputs": [],
   "source": [
    "train_loader = DataLoader(train_dataset, batch_size=batch_size, shuffle=True) # create your dataloader\n",
    "\n",
    "test_loader = DataLoader(test_dataset, batch_size=batch_size,  shuffle=False)"
   ]
  },
  {
   "cell_type": "code",
   "execution_count": 57,
   "metadata": {
    "id": "SfrBAAaut23H"
   },
   "outputs": [],
   "source": [
    "class FNN(nn.Module):\n",
    "    def __init__(self, input_dim, hidden_dim1,hidden_dim2,hidden_dim3, output_dim):\n",
    "        super(FNN, self).__init__()\n",
    "        \n",
    "        self.linear1 = nn.Linear(input_dim, hidden_dim1)\n",
    "        self.relu1 = nn.LeakyReLU()\n",
    "        self.linear2 = nn.Linear(hidden_dim1, hidden_dim2)\n",
    "        self.relu2 = nn.LeakyReLU()\n",
    "        self.linear3 = nn.Linear(hidden_dim2, hidden_dim3)\n",
    "        self.relu3 = nn.LeakyReLU()\n",
    "        self.linear4 = nn.Linear(hidden_dim3, output_dim)\n",
    "        \n",
    "    def forward(self, x):\n",
    "        out = self.linear1(x)\n",
    "        out = self.relu1(out)\n",
    "        out = self.linear2(out)\n",
    "        out = self.relu2(out)\n",
    "        out = self.linear3(out)\n",
    "        out = self.relu3(out)\n",
    "        out = self.linear4(out)\n",
    "        return out"
   ]
  },
  {
   "cell_type": "code",
   "execution_count": 58,
   "metadata": {
    "id": "5tJeNfKht23L"
   },
   "outputs": [],
   "source": [
    "input_dim = tensor_x.shape[1]\n",
    "output_dim = 1\n",
    "hidden_dim1 = 500\n",
    "hidden_dim2 = 1000\n",
    "hidden_dim3 = 100"
   ]
  },
  {
   "cell_type": "code",
   "execution_count": 59,
   "metadata": {
    "id": "N3fLjof7t23N"
   },
   "outputs": [],
   "source": [
    "model = FNN(input_dim, hidden_dim1,hidden_dim2,hidden_dim3, output_dim)\n",
    "\n",
    "#######################\n",
    "#  USE GPU FOR MODEL  #\n",
    "#######################\n",
    "if torch.cuda.is_available():\n",
    "    model.cuda()\n"
   ]
  },
  {
   "cell_type": "code",
   "execution_count": 60,
   "metadata": {
    "colab": {
     "base_uri": "https://localhost:8080/",
     "height": 357
    },
    "id": "K375rRgHSSJL",
    "outputId": "d0132882-f68f-444d-fa5b-832a74e40d6d"
   },
   "outputs": [
    {
     "name": "stdout",
     "output_type": "stream",
     "text": [
      "----------------------------------------------------------------\n",
      "        Layer (type)               Output Shape         Param #\n",
      "================================================================\n",
      "            Linear-1               [-1, 1, 500]           6,500\n",
      "         LeakyReLU-2               [-1, 1, 500]               0\n",
      "            Linear-3              [-1, 1, 1000]         501,000\n",
      "         LeakyReLU-4              [-1, 1, 1000]               0\n",
      "            Linear-5               [-1, 1, 100]         100,100\n",
      "         LeakyReLU-6               [-1, 1, 100]               0\n",
      "            Linear-7                 [-1, 1, 1]             101\n",
      "================================================================\n",
      "Total params: 607,701\n",
      "Trainable params: 607,701\n",
      "Non-trainable params: 0\n",
      "----------------------------------------------------------------\n",
      "Input size (MB): 0.00\n",
      "Forward/backward pass size (MB): 0.02\n",
      "Params size (MB): 2.32\n",
      "Estimated Total Size (MB): 2.34\n",
      "----------------------------------------------------------------\n"
     ]
    }
   ],
   "source": [
    "summary(model, (1,tensor_x.shape[1]))"
   ]
  },
  {
   "cell_type": "code",
   "execution_count": 61,
   "metadata": {
    "id": "I2GP_E9ESSJV"
   },
   "outputs": [],
   "source": [
    "criterion = nn.MSELoss(reduction='sum')\n",
    "\n",
    "learning_rate = 0.0001\n",
    "optimizer = torch.optim.SGD(model.parameters(), lr=learning_rate)"
   ]
  },
  {
   "cell_type": "code",
   "execution_count": 62,
   "metadata": {
    "colab": {
     "base_uri": "https://localhost:8080/",
     "height": 1000
    },
    "id": "TTKd4IXFSSJg",
    "outputId": "f40ba32e-8089-4c6e-a460-9a2813a59017"
   },
   "outputs": [
    {
     "name": "stdout",
     "output_type": "stream",
     "text": [
      "Iteration: 500. Training Loss: 1.2371065616607666. Test Loss: 1.4756749868392944\n",
      "Iteration: 1000. Training Loss: 0.6935588717460632. Test Loss: 1.4109476804733276\n",
      "Iteration: 1500. Training Loss: 0.8972057104110718. Test Loss: 1.3445130586624146\n",
      "Iteration: 2000. Training Loss: 1.3363384008407593. Test Loss: 1.2909979820251465\n",
      "Iteration: 2500. Training Loss: 0.6659228801727295. Test Loss: 1.2338151931762695\n",
      "Iteration: 3000. Training Loss: 0.806613564491272. Test Loss: 1.1774530410766602\n",
      "Iteration: 3500. Training Loss: 0.6670856475830078. Test Loss: 1.1273945569992065\n",
      "Iteration: 4000. Training Loss: 0.38364580273628235. Test Loss: 1.060425043106079\n",
      "Iteration: 4500. Training Loss: 0.6632309556007385. Test Loss: 0.9909414649009705\n",
      "Iteration: 5000. Training Loss: 0.43585312366485596. Test Loss: 0.9260097742080688\n",
      "Iteration: 5500. Training Loss: 0.4428751766681671. Test Loss: 0.8561998009681702\n",
      "Iteration: 6000. Training Loss: 0.40414780378341675. Test Loss: 0.7829056978225708\n",
      "Iteration: 6500. Training Loss: 1.0924336910247803. Test Loss: 0.7025631666183472\n",
      "Iteration: 7000. Training Loss: 0.4269275665283203. Test Loss: 0.6262730360031128\n",
      "Iteration: 7500. Training Loss: 0.42106956243515015. Test Loss: 0.5585081577301025\n",
      "Iteration: 8000. Training Loss: 0.5917537808418274. Test Loss: 0.491463840007782\n",
      "Iteration: 8500. Training Loss: 0.9014506340026855. Test Loss: 0.43196555972099304\n",
      "Iteration: 9000. Training Loss: 0.5694032907485962. Test Loss: 0.3842846751213074\n",
      "Iteration: 9500. Training Loss: 0.5280598402023315. Test Loss: 0.3438552916049957\n",
      "Iteration: 10000. Training Loss: 0.19966930150985718. Test Loss: 0.30505985021591187\n",
      "Iteration: 10500. Training Loss: 0.3813304603099823. Test Loss: 0.2747454345226288\n",
      "Iteration: 11000. Training Loss: 0.31990641355514526. Test Loss: 0.2535948157310486\n",
      "Iteration: 11500. Training Loss: 0.6118850708007812. Test Loss: 0.23760634660720825\n",
      "Iteration: 12000. Training Loss: 0.18827973306179047. Test Loss: 0.2206897735595703\n",
      "Iteration: 12500. Training Loss: 0.3479456305503845. Test Loss: 0.21435163915157318\n",
      "Iteration: 13000. Training Loss: 0.39491239190101624. Test Loss: 0.21597614884376526\n",
      "Iteration: 13500. Training Loss: 0.2357165366411209. Test Loss: 0.21863901615142822\n",
      "Iteration: 14000. Training Loss: 0.34320682287216187. Test Loss: 0.19958540797233582\n",
      "Iteration: 14500. Training Loss: 0.7471894025802612. Test Loss: 0.21177932620048523\n",
      "Iteration: 15000. Training Loss: 0.2595679759979248. Test Loss: 0.20240432024002075\n",
      "Iteration: 15500. Training Loss: 0.4503140449523926. Test Loss: 0.19501885771751404\n",
      "Iteration: 16000. Training Loss: 0.6383880972862244. Test Loss: 0.20599383115768433\n",
      "Iteration: 16500. Training Loss: 0.3036462068557739. Test Loss: 0.18435977399349213\n",
      "Iteration: 17000. Training Loss: 0.3435665965080261. Test Loss: 0.20235246419906616\n",
      "Iteration: 17500. Training Loss: 0.179144024848938. Test Loss: 0.1846863329410553\n",
      "Iteration: 18000. Training Loss: 0.3773602247238159. Test Loss: 0.20997624099254608\n",
      "Iteration: 18500. Training Loss: 0.15459775924682617. Test Loss: 0.18650642037391663\n",
      "Iteration: 19000. Training Loss: 0.25531888008117676. Test Loss: 0.19975076615810394\n",
      "Iteration: 19500. Training Loss: 0.12401990592479706. Test Loss: 0.1861470639705658\n",
      "Iteration: 20000. Training Loss: 0.18952664732933044. Test Loss: 0.18945375084877014\n",
      "Iteration: 20500. Training Loss: 0.2202071100473404. Test Loss: 0.18770185112953186\n",
      "Iteration: 21000. Training Loss: 0.252141535282135. Test Loss: 0.18017923831939697\n",
      "Iteration: 21500. Training Loss: 0.3605315685272217. Test Loss: 0.1833457350730896\n",
      "Iteration: 22000. Training Loss: 0.18509441614151. Test Loss: 0.1866450011730194\n",
      "Iteration: 22500. Training Loss: 0.24642407894134521. Test Loss: 0.18067426979541779\n",
      "Iteration: 23000. Training Loss: 0.2076224982738495. Test Loss: 0.1817070096731186\n",
      "Iteration: 23500. Training Loss: 0.5409718751907349. Test Loss: 0.18396902084350586\n",
      "Iteration: 24000. Training Loss: 0.1749648153781891. Test Loss: 0.18544809520244598\n",
      "Iteration: 24500. Training Loss: 0.3986049294471741. Test Loss: 0.20211133360862732\n",
      "Iteration: 25000. Training Loss: 0.1842074990272522. Test Loss: 0.1768542230129242\n",
      "Iteration: 25500. Training Loss: 0.374026894569397. Test Loss: 0.1811155080795288\n",
      "Iteration: 26000. Training Loss: 0.29314929246902466. Test Loss: 0.19111159443855286\n",
      "Iteration: 26500. Training Loss: 0.2622471749782562. Test Loss: 0.17220965027809143\n",
      "Iteration: 27000. Training Loss: 0.273790180683136. Test Loss: 0.17597359418869019\n",
      "Iteration: 27500. Training Loss: 0.19139128923416138. Test Loss: 0.16864272952079773\n",
      "Iteration: 28000. Training Loss: 0.1584896296262741. Test Loss: 0.17326179146766663\n",
      "Iteration: 28500. Training Loss: 0.15879663825035095. Test Loss: 0.19115012884140015\n",
      "Iteration: 29000. Training Loss: 0.35780566930770874. Test Loss: 0.17289702594280243\n",
      "Iteration: 29500. Training Loss: 0.18887662887573242. Test Loss: 0.16521388292312622\n",
      "Iteration: 30000. Training Loss: 0.27014708518981934. Test Loss: 0.16998356580734253\n",
      "Iteration: 30500. Training Loss: 0.41471442580223083. Test Loss: 0.17632293701171875\n",
      "Iteration: 31000. Training Loss: 0.7231040596961975. Test Loss: 0.17483609914779663\n",
      "Iteration: 31500. Training Loss: 0.7397000193595886. Test Loss: 0.17989179491996765\n",
      "Iteration: 32000. Training Loss: 0.39509570598602295. Test Loss: 0.16697096824645996\n",
      "Iteration: 32500. Training Loss: 0.19286185503005981. Test Loss: 0.1743146777153015\n",
      "Iteration: 33000. Training Loss: 0.26279348134994507. Test Loss: 0.1606104075908661\n",
      "Iteration: 33500. Training Loss: 0.27411413192749023. Test Loss: 0.1733981966972351\n",
      "Iteration: 34000. Training Loss: 0.2449817955493927. Test Loss: 0.16643457114696503\n",
      "Iteration: 34500. Training Loss: 0.8661102056503296. Test Loss: 0.16560624539852142\n",
      "Iteration: 35000. Training Loss: 0.42671698331832886. Test Loss: 0.17356114089488983\n",
      "Iteration: 35500. Training Loss: 0.4901479482650757. Test Loss: 0.16760173439979553\n",
      "Iteration: 36000. Training Loss: 0.578220784664154. Test Loss: 0.173226997256279\n",
      "Iteration: 36500. Training Loss: 0.5379360914230347. Test Loss: 0.17336389422416687\n",
      "Iteration: 37000. Training Loss: 0.3742353618144989. Test Loss: 0.17388004064559937\n",
      "Iteration: 37500. Training Loss: 0.4524737000465393. Test Loss: 0.17242573201656342\n",
      "Iteration: 38000. Training Loss: 0.27481091022491455. Test Loss: 0.17021319270133972\n",
      "Iteration: 38500. Training Loss: 0.6864361763000488. Test Loss: 0.16878479719161987\n",
      "Iteration: 39000. Training Loss: 0.2965930104255676. Test Loss: 0.15110579133033752\n"
     ]
    }
   ],
   "source": [
    "# Train the model\n",
    "\n",
    "train_loss = []\n",
    "\n",
    "iter = 0\n",
    "for epoch in range(num_epochs):\n",
    "    \n",
    "    '''\n",
    "    One iteration\n",
    "    '''\n",
    "    for i, (X, labels) in enumerate(train_loader):\n",
    "        #######################\n",
    "        #  USE GPU FOR MODEL  #\n",
    "        #######################\n",
    "        if torch.cuda.is_available():\n",
    "            X = Variable(X.cuda())\n",
    "            labels = Variable(labels.cuda())\n",
    "        else:\n",
    "            X = Variable(X)\n",
    "            labels = Variable(labels)\n",
    "        \n",
    "        # Forward pass to get output/logits\n",
    "        outputs = model(X)\n",
    "        \n",
    "        # Clear gradients w.r.t. parameters\n",
    "        optimizer.zero_grad()\n",
    "        \n",
    "        # Calculate Loss:\n",
    "        loss = criterion(outputs, labels)\n",
    "                \n",
    "        '''\n",
    "        Save loss to draw loss curve\n",
    "        '''\n",
    "        train_loss.append(loss)\n",
    "        ''''''\n",
    "\n",
    "        # Getting gradients w.r.t. parameters\n",
    "        loss.backward()\n",
    "        \n",
    "        # Updating parameters\n",
    "        optimizer.step()\n",
    "        ''''''\n",
    "        \n",
    "        iter += 1\n",
    "    \n",
    "        # Testing the model\n",
    "        if iter % 500 == 0:\n",
    "            # Iterate through test dataset\n",
    "            for X, labels in test_loader:\n",
    "                #######################\n",
    "                #  USE GPU FOR MODEL  #\n",
    "                #######################\n",
    "                if torch.cuda.is_available():\n",
    "                    X = Variable(X.cuda())\n",
    "                else:\n",
    "                    X = Variable(X)    \n",
    "                    \n",
    "                # Forward pass only to get logits/output\n",
    "                outputs = model(X)\n",
    "                \n",
    "                # Calculate Loss:\n",
    "                loss_t = criterion(outputs, labels)\n",
    "                \n",
    "            # Print Loss\n",
    "            print('Iteration: {}. Training Loss: {}. Test Loss: {}'.format(iter, loss.data, loss_t.data))\n",
    "            "
   ]
  },
  {
   "cell_type": "code",
   "execution_count": 63,
   "metadata": {
    "colab": {
     "base_uri": "https://localhost:8080/",
     "height": 350
    },
    "id": "eC9_eOh1SSJk",
    "outputId": "a580471d-6f22-454e-e996-e4e2438f35af"
   },
   "outputs": [
    {
     "data": {
      "image/png": "[encoded data removed]",
      "text/plain": [
       "<Figure size 504x360 with 1 Axes>"
      ]
     },
     "metadata": {
      "needs_background": "light",
      "tags": []
     },
     "output_type": "display_data"
    }
   ],
   "source": [
    "#Plot the loss curve\n",
    "\n",
    "plt.figure(figsize=(7,5))\n",
    "plt.plot(range(len(train_loss)), train_loss)\n",
    "plt.xlabel(\"Iteration\")\n",
    "plt.ylabel(\"MSE\")\n",
    "plt.title(\"Loss curve for training\")\n",
    "plt.show()"
   ]
  },
  {
   "cell_type": "code",
   "execution_count": 64,
   "metadata": {
    "id": "x7nFSZLGt23U"
   },
   "outputs": [],
   "source": [
    "save_model = True\n",
    "if save_model is True:\n",
    "    torch.save(model.state_dict(), 'housing_FNN_pytorch_C.pkl')# only save parameters"
   ]
  },
  {
   "cell_type": "markdown",
   "metadata": {
    "id": "yaZQCztQt23X"
   },
   "source": [
    "### Model D: 5 Hidden Layers Feedforward Neural Network"
   ]
  },
  {
   "cell_type": "markdown",
   "metadata": {
    "id": "fTwN43swt23X"
   },
   "source": [
    "### Create model class"
   ]
  },
  {
   "cell_type": "code",
   "execution_count": 65,
   "metadata": {
    "colab": {
     "base_uri": "https://localhost:8080/",
     "height": 34
    },
    "id": "DwEMBCvRTd2F",
    "outputId": "e4c9c873-c253-4097-ffaa-84d516a6f61f"
   },
   "outputs": [
    {
     "name": "stdout",
     "output_type": "stream",
     "text": [
      "38\n"
     ]
    }
   ],
   "source": [
    "batch_size = 16\n",
    "n_iters = 40000\n",
    "num_epochs = n_iters / (len(train_data) / batch_size)\n",
    "num_epochs = int(num_epochs)\n",
    "print(num_epochs)"
   ]
  },
  {
   "cell_type": "code",
   "execution_count": 66,
   "metadata": {
    "id": "EWAi8OgYTd2W"
   },
   "outputs": [],
   "source": [
    "train_loader = DataLoader(train_dataset, batch_size=batch_size, shuffle=True) # create your dataloader\n",
    "\n",
    "test_loader = DataLoader(test_dataset, batch_size=batch_size,  shuffle=False)"
   ]
  },
  {
   "cell_type": "code",
   "execution_count": 67,
   "metadata": {
    "id": "qiy2bMm3t23Y"
   },
   "outputs": [],
   "source": [
    "class FNN(nn.Module):\n",
    "    def __init__(self, input_dim, hidden_dim1, hidden_dim2, hidden_dim3, hidden_dim4, hidden_dim5, output_dim):\n",
    "        super(FNN, self).__init__()\n",
    "        \n",
    "        self.linear1 = nn.Linear(input_dim, hidden_dim1)\n",
    "        self.relu1 = nn.ReLU()\n",
    "        self.linear2 = nn.Linear(hidden_dim1, hidden_dim2)\n",
    "        self.relu2 = nn.ReLU()\n",
    "        self.linear3 = nn.Linear(hidden_dim2, hidden_dim3)\n",
    "        self.relu3 = nn.ReLU()\n",
    "        self.linear4 = nn.Linear(hidden_dim3, hidden_dim4)\n",
    "        self.relu4 = nn.ReLU()\n",
    "        self.linear5 = nn.Linear(hidden_dim4, hidden_dim5)\n",
    "        self.relu5 = nn.ReLU()\n",
    "        self.linear6 = nn.Linear(hidden_dim5, output_dim)\n",
    "        \n",
    "    def forward(self, x):\n",
    "        out = self.linear1(x)\n",
    "        out = self.relu1(out)\n",
    "        out = self.linear2(out)\n",
    "        out = self.relu2(out)\n",
    "        out = self.linear3(out)\n",
    "        out = self.relu3(out)\n",
    "        out = self.linear4(out)\n",
    "        out = self.relu4(out)\n",
    "        out = self.linear5(out)\n",
    "        out = self.relu5(out)\n",
    "        out = self.linear6(out)\n",
    "        return out\n",
    "    "
   ]
  },
  {
   "cell_type": "code",
   "execution_count": 68,
   "metadata": {
    "id": "klKbbQmat23a"
   },
   "outputs": [],
   "source": [
    "input_dim = tensor_x.shape[1]\n",
    "output_dim = 1\n",
    "hidden_dim1 = 500\n",
    "hidden_dim2 = 1000\n",
    "hidden_dim3 = 200\n",
    "hidden_dim4 = 100\n",
    "hidden_dim5 = 10"
   ]
  },
  {
   "cell_type": "code",
   "execution_count": 69,
   "metadata": {
    "id": "J4arjsYEt23d"
   },
   "outputs": [],
   "source": [
    "model = FNN(input_dim, hidden_dim1,hidden_dim2,hidden_dim3,hidden_dim4,hidden_dim5, output_dim)\n",
    "\n",
    "#######################\n",
    "#  USE GPU FOR MODEL  #\n",
    "#######################\n",
    "if torch.cuda.is_available():\n",
    "    model.cuda()\n"
   ]
  },
  {
   "cell_type": "code",
   "execution_count": 70,
   "metadata": {
    "colab": {
     "base_uri": "https://localhost:8080/",
     "height": 425
    },
    "id": "rP2aQsozT26b",
    "outputId": "1a8dbe21-6b60-4f5f-aa4c-6b2ddbf9265e"
   },
   "outputs": [
    {
     "name": "stdout",
     "output_type": "stream",
     "text": [
      "----------------------------------------------------------------\n",
      "        Layer (type)               Output Shape         Param #\n",
      "================================================================\n",
      "            Linear-1               [-1, 1, 500]           6,500\n",
      "              ReLU-2               [-1, 1, 500]               0\n",
      "            Linear-3              [-1, 1, 1000]         501,000\n",
      "              ReLU-4              [-1, 1, 1000]               0\n",
      "            Linear-5               [-1, 1, 200]         200,200\n",
      "              ReLU-6               [-1, 1, 200]               0\n",
      "            Linear-7               [-1, 1, 100]          20,100\n",
      "              ReLU-8               [-1, 1, 100]               0\n",
      "            Linear-9                [-1, 1, 10]           1,010\n",
      "             ReLU-10                [-1, 1, 10]               0\n",
      "           Linear-11                 [-1, 1, 1]              11\n",
      "================================================================\n",
      "Total params: 728,821\n",
      "Trainable params: 728,821\n",
      "Non-trainable params: 0\n",
      "----------------------------------------------------------------\n",
      "Input size (MB): 0.00\n",
      "Forward/backward pass size (MB): 0.03\n",
      "Params size (MB): 2.78\n",
      "Estimated Total Size (MB): 2.81\n",
      "----------------------------------------------------------------\n"
     ]
    }
   ],
   "source": [
    "summary(model, (1,tensor_x.shape[1]))"
   ]
  },
  {
   "cell_type": "code",
   "execution_count": 71,
   "metadata": {
    "id": "Th-9PisLT26t"
   },
   "outputs": [],
   "source": [
    "criterion = nn.MSELoss(reduction='sum')\n",
    "\n",
    "learning_rate = 0.001\n",
    "optimizer = torch.optim.SGD(model.parameters(), lr=learning_rate)"
   ]
  },
  {
   "cell_type": "code",
   "execution_count": 72,
   "metadata": {
    "colab": {
     "base_uri": "https://localhost:8080/",
     "height": 1000
    },
    "id": "g2QuNnVYT260",
    "outputId": "9dde0352-9b38-4ab3-93e4-3db32e64d297"
   },
   "outputs": [
    {
     "name": "stdout",
     "output_type": "stream",
     "text": [
      "Iteration: 500. Training Loss: 0.9887386560440063. Test Loss: 1.500828742980957\n",
      "Iteration: 1000. Training Loss: 1.0244048833847046. Test Loss: 1.483139157295227\n",
      "Iteration: 1500. Training Loss: 0.7902580499649048. Test Loss: 1.4552035331726074\n",
      "Iteration: 2000. Training Loss: 1.106745958328247. Test Loss: 1.3982053995132446\n",
      "Iteration: 2500. Training Loss: 0.7531806230545044. Test Loss: 1.2448413372039795\n",
      "Iteration: 3000. Training Loss: 0.4115296006202698. Test Loss: 0.833008885383606\n",
      "Iteration: 3500. Training Loss: 0.48819711804389954. Test Loss: 0.28706875443458557\n",
      "Iteration: 4000. Training Loss: 0.3457321524620056. Test Loss: 0.1883053332567215\n",
      "Iteration: 4500. Training Loss: 0.18850202858448029. Test Loss: 0.14362406730651855\n",
      "Iteration: 5000. Training Loss: 0.3562203645706177. Test Loss: 0.16822116076946259\n",
      "Iteration: 5500. Training Loss: 0.5992488861083984. Test Loss: 0.22454920411109924\n",
      "Iteration: 6000. Training Loss: 0.4018903374671936. Test Loss: 0.1464638113975525\n",
      "Iteration: 6500. Training Loss: 0.45410260558128357. Test Loss: 0.1888534277677536\n",
      "Iteration: 7000. Training Loss: 0.17020510137081146. Test Loss: 0.12703536450862885\n",
      "Iteration: 7500. Training Loss: 0.31231489777565. Test Loss: 0.1592208743095398\n",
      "Iteration: 8000. Training Loss: 0.21227748692035675. Test Loss: 0.12990468740463257\n",
      "Iteration: 8500. Training Loss: 0.42491304874420166. Test Loss: 0.15749810636043549\n",
      "Iteration: 9000. Training Loss: 0.40912115573883057. Test Loss: 0.20755259692668915\n",
      "Iteration: 9500. Training Loss: 0.09283281117677689. Test Loss: 0.13692164421081543\n",
      "Iteration: 10000. Training Loss: 0.18457505106925964. Test Loss: 0.16588768362998962\n",
      "Iteration: 10500. Training Loss: 0.284807950258255. Test Loss: 0.14131630957126617\n",
      "Iteration: 11000. Training Loss: 0.37804198265075684. Test Loss: 0.13710366189479828\n",
      "Iteration: 11500. Training Loss: 0.17760398983955383. Test Loss: 0.1775367707014084\n",
      "Iteration: 12000. Training Loss: 0.293343722820282. Test Loss: 0.16632789373397827\n",
      "Iteration: 12500. Training Loss: 0.21994656324386597. Test Loss: 0.1302018165588379\n",
      "Iteration: 13000. Training Loss: 0.6340066194534302. Test Loss: 0.19164642691612244\n",
      "Iteration: 13500. Training Loss: 0.2768443822860718. Test Loss: 0.16171011328697205\n",
      "Iteration: 14000. Training Loss: 0.626866340637207. Test Loss: 0.25181686878204346\n",
      "Iteration: 14500. Training Loss: 0.17556831240653992. Test Loss: 0.13094305992126465\n",
      "Iteration: 15000. Training Loss: 0.21619585156440735. Test Loss: 0.12087392807006836\n",
      "Iteration: 15500. Training Loss: 0.1437375545501709. Test Loss: 0.14381709694862366\n",
      "Iteration: 16000. Training Loss: 0.48652568459510803. Test Loss: 0.1485057920217514\n",
      "Iteration: 16500. Training Loss: 0.15343017876148224. Test Loss: 0.12780924141407013\n",
      "Iteration: 17000. Training Loss: 0.23130527138710022. Test Loss: 0.13312682509422302\n",
      "Iteration: 17500. Training Loss: 0.4482003450393677. Test Loss: 0.17912203073501587\n",
      "Iteration: 18000. Training Loss: 0.2639612555503845. Test Loss: 0.12431744486093521\n",
      "Iteration: 18500. Training Loss: 0.31159287691116333. Test Loss: 0.12205944210290909\n",
      "Iteration: 19000. Training Loss: 0.22875753045082092. Test Loss: 0.12104111909866333\n",
      "Iteration: 19500. Training Loss: 0.3624991774559021. Test Loss: 0.15968739986419678\n",
      "Iteration: 20000. Training Loss: 0.29623115062713623. Test Loss: 0.1674422323703766\n",
      "Iteration: 20500. Training Loss: 0.27736896276474. Test Loss: 0.11727548390626907\n",
      "Iteration: 21000. Training Loss: 1.0156968832015991. Test Loss: 0.2717844843864441\n",
      "Iteration: 21500. Training Loss: 0.305367112159729. Test Loss: 0.1506199687719345\n",
      "Iteration: 22000. Training Loss: 0.258715957403183. Test Loss: 0.1296357661485672\n",
      "Iteration: 22500. Training Loss: 0.1146804690361023. Test Loss: 0.13472053408622742\n",
      "Iteration: 23000. Training Loss: 0.321745365858078. Test Loss: 0.1510356366634369\n",
      "Iteration: 23500. Training Loss: 0.3093889653682709. Test Loss: 0.11940553784370422\n",
      "Iteration: 24000. Training Loss: 0.06693459302186966. Test Loss: 0.12412069737911224\n",
      "Iteration: 24500. Training Loss: 0.20407353341579437. Test Loss: 0.12623901665210724\n",
      "Iteration: 25000. Training Loss: 0.2739820182323456. Test Loss: 0.16772949695587158\n",
      "Iteration: 25500. Training Loss: 0.14715951681137085. Test Loss: 0.11118941009044647\n",
      "Iteration: 26000. Training Loss: 0.13622340559959412. Test Loss: 0.14299920201301575\n",
      "Iteration: 26500. Training Loss: 0.28681349754333496. Test Loss: 0.14954090118408203\n",
      "Iteration: 27000. Training Loss: 0.1623169481754303. Test Loss: 0.12274918705224991\n",
      "Iteration: 27500. Training Loss: 0.1924287974834442. Test Loss: 0.10848146677017212\n",
      "Iteration: 28000. Training Loss: 0.3383556306362152. Test Loss: 0.13383199274539948\n",
      "Iteration: 28500. Training Loss: 0.32121652364730835. Test Loss: 0.13805429637432098\n",
      "Iteration: 29000. Training Loss: 0.4274095892906189. Test Loss: 0.1269785314798355\n",
      "Iteration: 29500. Training Loss: 0.1891808658838272. Test Loss: 0.1134122908115387\n",
      "Iteration: 30000. Training Loss: 0.08160833269357681. Test Loss: 0.11211739480495453\n",
      "Iteration: 30500. Training Loss: 0.299013614654541. Test Loss: 0.11066356301307678\n",
      "Iteration: 31000. Training Loss: 0.14140020310878754. Test Loss: 0.1312602460384369\n",
      "Iteration: 31500. Training Loss: 0.14164644479751587. Test Loss: 0.10773488879203796\n",
      "Iteration: 32000. Training Loss: 0.05729471147060394. Test Loss: 0.11251115798950195\n",
      "Iteration: 32500. Training Loss: 0.3767881691455841. Test Loss: 0.1593663990497589\n",
      "Iteration: 33000. Training Loss: 0.13040177524089813. Test Loss: 0.13197317719459534\n",
      "Iteration: 33500. Training Loss: 0.49506479501724243. Test Loss: 0.12570104002952576\n",
      "Iteration: 34000. Training Loss: 0.11143636703491211. Test Loss: 0.11806218326091766\n",
      "Iteration: 34500. Training Loss: 0.23787465691566467. Test Loss: 0.14226342737674713\n",
      "Iteration: 35000. Training Loss: 0.18284666538238525. Test Loss: 0.11176657676696777\n",
      "Iteration: 35500. Training Loss: 0.5396915674209595. Test Loss: 0.17189352214336395\n",
      "Iteration: 36000. Training Loss: 0.20333227515220642. Test Loss: 0.10836509615182877\n",
      "Iteration: 36500. Training Loss: 0.12095722556114197. Test Loss: 0.1362658143043518\n",
      "Iteration: 37000. Training Loss: 0.17551061511039734. Test Loss: 0.13173659145832062\n",
      "Iteration: 37500. Training Loss: 0.10139399766921997. Test Loss: 0.12111473083496094\n",
      "Iteration: 38000. Training Loss: 0.2133978307247162. Test Loss: 0.12107470631599426\n",
      "Iteration: 38500. Training Loss: 0.09502915292978287. Test Loss: 0.11986593902111053\n",
      "Iteration: 39000. Training Loss: 0.12514248490333557. Test Loss: 0.1249137818813324\n"
     ]
    }
   ],
   "source": [
    "# Train the model\n",
    "\n",
    "train_loss = []\n",
    "\n",
    "iter = 0\n",
    "for epoch in range(num_epochs):\n",
    "    \n",
    "    '''\n",
    "    One iteration\n",
    "    '''\n",
    "    for i, (X, labels) in enumerate(train_loader):\n",
    "        #######################\n",
    "        #  USE GPU FOR MODEL  #\n",
    "        #######################\n",
    "        if torch.cuda.is_available():\n",
    "            X = Variable(X.cuda())\n",
    "            labels = Variable(labels.cuda())\n",
    "        else:\n",
    "            X = Variable(X)\n",
    "            labels = Variable(labels)\n",
    "        \n",
    "        # Forward pass to get output/logits\n",
    "        outputs = model(X)\n",
    "        \n",
    "        # Clear gradients w.r.t. parameters\n",
    "        optimizer.zero_grad()\n",
    "        \n",
    "        # Calculate Loss:\n",
    "        loss = criterion(outputs, labels)\n",
    "                \n",
    "        '''\n",
    "        Save loss to draw loss curve\n",
    "        '''\n",
    "        train_loss.append(loss)\n",
    "        ''''''\n",
    "\n",
    "        # Getting gradients w.r.t. parameters\n",
    "        loss.backward()\n",
    "        \n",
    "        # Updating parameters\n",
    "        optimizer.step()\n",
    "        ''''''\n",
    "        \n",
    "        iter += 1\n",
    "    \n",
    "        # Testing the model\n",
    "        if iter % 500 == 0:\n",
    "            # Iterate through test dataset\n",
    "            for X, labels in test_loader:\n",
    "                #######################\n",
    "                #  USE GPU FOR MODEL  #\n",
    "                #######################\n",
    "                if torch.cuda.is_available():\n",
    "                    X = Variable(X.cuda())\n",
    "                else:\n",
    "                    X = Variable(X)    \n",
    "                    \n",
    "                # Forward pass only to get logits/output\n",
    "                outputs = model(X)\n",
    "                \n",
    "                # Calculate Loss:\n",
    "                loss_t = criterion(outputs, labels)\n",
    "                \n",
    "            # Print Loss\n",
    "            print('Iteration: {}. Training Loss: {}. Test Loss: {}'.format(iter, loss.data, loss_t.data))\n",
    "            "
   ]
  },
  {
   "cell_type": "code",
   "execution_count": 73,
   "metadata": {
    "colab": {
     "base_uri": "https://localhost:8080/",
     "height": 350
    },
    "id": "up97TX9gT262",
    "outputId": "581e1ee6-a759-45c4-ea83-24fba7398de3"
   },
   "outputs": [
    {
     "data": {
      "image/png": "[encoded data removed]",
      "text/plain": [
       "<Figure size 504x360 with 1 Axes>"
      ]
     },
     "metadata": {
      "needs_background": "light",
      "tags": []
     },
     "output_type": "display_data"
    }
   ],
   "source": [
    "#Plot the loss curve\n",
    "\n",
    "plt.figure(figsize=(7,5))\n",
    "plt.plot(range(len(train_loss)), train_loss)\n",
    "plt.xlabel(\"Iteration\")\n",
    "plt.ylabel(\"MSE\")\n",
    "plt.title(\"Loss curve for training\")\n",
    "plt.show()"
   ]
  },
  {
   "cell_type": "code",
   "execution_count": 74,
   "metadata": {
    "id": "mvpN8VHYt23l"
   },
   "outputs": [],
   "source": [
    "save_model = True\n",
    "if save_model is True:\n",
    "    torch.save(model.state_dict(), 'housing_FNN_pytorch_D.pkl')# only save parameters"
   ]
  }
 ],
 "metadata": {
  "accelerator": "GPU",
  "colab": {
   "collapsed_sections": [
    "P_xGYFrsjG0R",
    "N1RZUje2t222",
    "tOQfnZq1t23G",
    "yaZQCztQt23X"
   ],
   "name": "California_Housing_Values_FNN_with_PyTorch.ipynb",
   "provenance": []
  },
  "kernelspec": {
   "display_name": "Python 3",
   "language": "python",
   "name": "python3"
  },
  "language_info": {
   "codemirror_mode": {
    "name": "ipython",
    "version": 3
   },
   "file_extension": ".py",
   "mimetype": "text/x-python",
   "name": "python",
   "nbconvert_exporter": "python",
   "pygments_lexer": "ipython3",
   "version": "3.8.5"
  }
 },
 "nbformat": 4,
 "nbformat_minor": 4
}
