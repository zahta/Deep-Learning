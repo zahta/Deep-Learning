{
 "cells": [
  {
   "cell_type": "markdown",
   "metadata": {},
   "source": [
    "# Feedforward Neural Network with PyTorch on [Fashion-MNIST](https://github.com/zalandoresearch/fashion-mnist)\n",
    "By [Zahra Taheri](https://github.com/zahta), October 6, 2020"
   ]
  },
  {
   "cell_type": "markdown",
   "metadata": {
    "colab_type": "text",
    "id": "u_O6dsNy0mRK"
   },
   "source": [
    "### Import libraries"
   ]
  },
  {
   "cell_type": "code",
   "execution_count": 1,
   "metadata": {
    "colab": {},
    "colab_type": "code",
    "id": "Y3VbdIvl0mRN"
   },
   "outputs": [],
   "source": [
    "import numpy as np\n",
    "import pandas as pd\n",
    "\n",
    "import matplotlib as mpl\n",
    "import matplotlib.pyplot as plt\n",
    "\n",
    "import os"
   ]
  },
  {
   "cell_type": "code",
   "execution_count": 2,
   "metadata": {},
   "outputs": [
    {
     "name": "stdout",
     "output_type": "stream",
     "text": [
      "C:\\Users\\Zahra\\github\\Deep_Learning_F20_Assignments\\Assignments\\Assignment_Set_2\\Fashion-MNIST files\\Fashion-MNIST\n"
     ]
    }
   ],
   "source": [
    "#Define path to the directory\n",
    "\n",
    "path = os.getcwd()\n",
    "\n",
    "mypath = path+\"\\Fashion-MNIST\"\n",
    "\n",
    "os.chdir(mypath)\n",
    "\n",
    "print(os.getcwd())"
   ]
  },
  {
   "cell_type": "markdown",
   "metadata": {
    "colab_type": "text",
    "id": "q-GvNeGE0mRY"
   },
   "source": [
    "## Loading Fashion-MNIST into NumPy arrays"
   ]
  },
  {
   "cell_type": "code",
   "execution_count": 3,
   "metadata": {
    "colab": {},
    "colab_type": "code",
    "id": "Rx3IlP5i0mR2"
   },
   "outputs": [],
   "source": [
    "from mlxtend.data import loadlocal_mnist\n",
    "\n",
    "#load train_data and train_labels\n",
    "train_data, train_labels= loadlocal_mnist(\n",
    "        images_path='train-images-idx3-ubyte', \n",
    "        labels_path='train-labels-idx1-ubyte')\n",
    " \n",
    "#load test_data and test_labels\n",
    "test_data, test_labels= loadlocal_mnist(\n",
    "        images_path='t10k-images-idx3-ubyte', \n",
    "        labels_path='t10k-labels-idx1-ubyte')"
   ]
  },
  {
   "cell_type": "code",
   "execution_count": 4,
   "metadata": {
    "colab": {
     "base_uri": "https://localhost:8080/",
     "height": 51
    },
    "colab_type": "code",
    "id": "6JD5-QX00mSM",
    "outputId": "813e3529-9ac7-4d43-b8e9-ac96500c6bb4"
   },
   "outputs": [
    {
     "name": "stdout",
     "output_type": "stream",
     "text": [
      "(60000, 784)\n",
      "(60000,)\n"
     ]
    }
   ],
   "source": [
    "print(train_data.shape)   # 28*28=784\n",
    "print(train_labels.shape)"
   ]
  },
  {
   "cell_type": "code",
   "execution_count": 5,
   "metadata": {
    "colab": {
     "base_uri": "https://localhost:8080/",
     "height": 248
    },
    "colab_type": "code",
    "id": "7C9kffTe0mSW",
    "outputId": "85319504-8a4a-40ae-f9be-d80e476b0634"
   },
   "outputs": [
    {
     "data": {
      "image/png": "[encoded data removed]",
      "text/plain": [
       "<Figure size 432x288 with 1 Axes>"
      ]
     },
     "metadata": {
      "needs_background": "light"
     },
     "output_type": "display_data"
    }
   ],
   "source": [
    "some_digit = train_data[11000]\n",
    "some_digit_image = some_digit.reshape(28, 28)\n",
    "plt.imshow(some_digit_image, cmap = mpl.cm.binary)\n",
    "plt.axis(\"off\")\n",
    "plt.show()"
   ]
  },
  {
   "cell_type": "markdown",
   "metadata": {
    "colab_type": "text",
    "id": "_KAFsK2q0mSg"
   },
   "source": [
    "## Preparation of the dataset"
   ]
  },
  {
   "cell_type": "code",
   "execution_count": 6,
   "metadata": {
    "colab": {},
    "colab_type": "code",
    "id": "pXqqxCUu0mTM"
   },
   "outputs": [],
   "source": [
    "# Data standardization\n",
    "#from sklearn.preprocessing import StandardScaler\n",
    "\n",
    "#scaler = StandardScaler()\n",
    "#train_data = scaler.fit_transform(train_data)\n",
    "#test_data= scaler.transform(test_data)"
   ]
  },
  {
   "cell_type": "code",
   "execution_count": 7,
   "metadata": {},
   "outputs": [],
   "source": [
    "train_data= train_data.reshape((train_data.shape[0],28,28))\n",
    "test_data= test_data.reshape((test_data.shape[0],28,28))"
   ]
  },
  {
   "cell_type": "code",
   "execution_count": 8,
   "metadata": {},
   "outputs": [],
   "source": [
    "import torch\n",
    "import numpy as np\n",
    "from torch.utils.data import TensorDataset, DataLoader\n",
    "\n",
    "tensor_x = torch.Tensor(train_data) # transform to torch tensor\n",
    "tensor_y = torch.Tensor(train_labels)\n",
    "tensor_y = tensor_y.type(torch.LongTensor)\n",
    "\n",
    "train_dataset = TensorDataset(tensor_x,tensor_y) # create your dataset\n",
    "train_loader = DataLoader(train_dataset, batch_size=100, shuffle=True) # create your dataloader"
   ]
  },
  {
   "cell_type": "code",
   "execution_count": 9,
   "metadata": {},
   "outputs": [],
   "source": [
    "tensor_x2 = torch.Tensor(test_data) # transform to torch tensor\n",
    "tensor_y2 = torch.Tensor(test_labels)\n",
    "tensor_y2 = tensor_y2.type(torch.LongTensor)\n",
    "\n",
    "test_dataset = TensorDataset(tensor_x2,tensor_y2) # create your test dataset\n",
    "test_loader = DataLoader(test_dataset, batch_size=100,  shuffle=False) # create your dataloader"
   ]
  },
  {
   "cell_type": "code",
   "execution_count": 10,
   "metadata": {},
   "outputs": [
    {
     "data": {
      "text/plain": [
       "tensor([9, 0, 0,  ..., 3, 0, 5])"
      ]
     },
     "execution_count": 10,
     "metadata": {},
     "output_type": "execute_result"
    }
   ],
   "source": [
    "tensor_y"
   ]
  },
  {
   "cell_type": "markdown",
   "metadata": {},
   "source": [
    "## Building Feedforward Neural Networks with PyTorch"
   ]
  },
  {
   "cell_type": "markdown",
   "metadata": {},
   "source": [
    "### Model A: 1 hidden layer (ReLU activation)"
   ]
  },
  {
   "cell_type": "markdown",
   "metadata": {},
   "source": [
    "#### Steps\n",
    "- Step 1: Load dataset\n",
    "- Step 2: Make dataset iterable\n",
    "- Step 3: Create model class\n",
    "- Step 4: Instantiate model class\n",
    "- Step 5: Instantiate loss class\n",
    "- Step 6: Instantiate optimizer class\n",
    "- Step 7: Train the model\n"
   ]
  },
  {
   "cell_type": "code",
   "execution_count": 11,
   "metadata": {},
   "outputs": [],
   "source": [
    "# import libraries\n",
    "import torch\n",
    "import torch.nn as nn\n",
    "\n",
    "from torch.autograd import Variable\n",
    "from torchsummary import summary"
   ]
  },
  {
   "cell_type": "code",
   "execution_count": 12,
   "metadata": {},
   "outputs": [
    {
     "data": {
      "text/plain": [
       "5"
      ]
     },
     "execution_count": 12,
     "metadata": {},
     "output_type": "execute_result"
    }
   ],
   "source": [
    "batch_size = 100\n",
    "n_iters = 3000\n",
    "num_epochs = n_iters / (len(train_dataset) / batch_size)\n",
    "num_epochs = int(num_epochs)\n",
    "num_epochs"
   ]
  },
  {
   "cell_type": "markdown",
   "metadata": {},
   "source": [
    "#### Create model class"
   ]
  },
  {
   "cell_type": "code",
   "execution_count": 13,
   "metadata": {},
   "outputs": [],
   "source": [
    "class FeedforwardNeuralNetworkModel(nn.Module):\n",
    "    def __init__(self, input_size, hidden_size, num_classes):\n",
    "        super(FeedforwardNeuralNetworkModel, self).__init__()\n",
    "        # linear function\n",
    "        self.fc1 = nn.Linear(input_dim, hidden_dim)\n",
    "        # non-linearity\n",
    "        self.relu = nn.ReLU()\n",
    "        # linear function\n",
    "        self.fc2 = nn.Linear(hidden_dim, output_dim)\n",
    "        \n",
    "    def forward(self, x):\n",
    "        # linear function\n",
    "        out = self.fc1(x)\n",
    "        # non-linearity\n",
    "        out = self.relu(out)\n",
    "        #linear function\n",
    "        out = self.fc2(out)\n",
    "        return out       \n",
    "    "
   ]
  },
  {
   "cell_type": "code",
   "execution_count": 14,
   "metadata": {},
   "outputs": [],
   "source": [
    "#  Instantiate model class\n",
    "input_dim = 28*28\n",
    "output_dim = 10\n",
    "hidden_dim = 100 \n",
    "\n",
    "model = FeedforwardNeuralNetworkModel(input_dim, hidden_dim, output_dim)\n",
    "\n",
    "#######################\n",
    "#  USE GPU FOR MODEL  #\n",
    "#######################\n",
    "if torch.cuda.is_available():\n",
    "    model.cuda()\n",
    "    "
   ]
  },
  {
   "cell_type": "code",
   "execution_count": 15,
   "metadata": {},
   "outputs": [
    {
     "name": "stdout",
     "output_type": "stream",
     "text": [
      "----------------------------------------------------------------\n",
      "        Layer (type)               Output Shape         Param #\n",
      "================================================================\n",
      "            Linear-1               [-1, 1, 100]          78,500\n",
      "              ReLU-2               [-1, 1, 100]               0\n",
      "            Linear-3                [-1, 1, 10]           1,010\n",
      "================================================================\n",
      "Total params: 79,510\n",
      "Trainable params: 79,510\n",
      "Non-trainable params: 0\n",
      "----------------------------------------------------------------\n",
      "Input size (MB): 0.00\n",
      "Forward/backward pass size (MB): 0.00\n",
      "Params size (MB): 0.30\n",
      "Estimated Total Size (MB): 0.31\n",
      "----------------------------------------------------------------\n"
     ]
    }
   ],
   "source": [
    "summary(model, (1,28*28))"
   ]
  },
  {
   "cell_type": "code",
   "execution_count": 16,
   "metadata": {},
   "outputs": [],
   "source": [
    "#  Instantiate loss class\n",
    "criterion=nn.CrossEntropyLoss()\n",
    "\n",
    "#  Instantiate optimizer class\n",
    "learning_rate = 0.001\n",
    "optimizer = torch.optim.SGD(model.parameters(), lr=learning_rate)"
   ]
  },
  {
   "cell_type": "code",
   "execution_count": 17,
   "metadata": {},
   "outputs": [
    {
     "name": "stdout",
     "output_type": "stream",
     "text": [
      "Iteration: 500. Loss: 0.6571899652481079. Accuracy: 73\n",
      "Iteration: 1000. Loss: 0.7530586123466492. Accuracy: 79\n",
      "Iteration: 1500. Loss: 0.4286539554595947. Accuracy: 81\n",
      "Iteration: 2000. Loss: 0.44833213090896606. Accuracy: 81\n",
      "Iteration: 2500. Loss: 0.506173849105835. Accuracy: 81\n",
      "Iteration: 3000. Loss: 0.5495560169219971. Accuracy: 83\n"
     ]
    }
   ],
   "source": [
    "# Train the model\n",
    "\n",
    "train_loss = []\n",
    "train_accuracy = []\n",
    "\n",
    "iter = 0\n",
    "for epoch in range(num_epochs):\n",
    "    \n",
    "    '''\n",
    "    One iteration\n",
    "    '''\n",
    "    # Calculate Accuracy         \n",
    "    correct_1 = 0\n",
    "    total_1 = 0\n",
    "    for i, (images, labels) in enumerate(train_loader):\n",
    "        #######################\n",
    "        #  USE GPU FOR MODEL  #\n",
    "        #######################\n",
    "        if torch.cuda.is_available():\n",
    "            images = Variable(images.view(-1, 28*28).cuda())\n",
    "            labels = Variable(labels.cuda())\n",
    "        else:\n",
    "            images = Variable(images.view(-1, 28*28))\n",
    "            labels = Variable(labels)\n",
    "        \n",
    "        # Forward pass to get output/logits\n",
    "        outputs = model(images)\n",
    "        \n",
    "        '''\n",
    "        Save accuracy to draw accuracy curve\n",
    "        '''\n",
    "        # Get predictions from the maximum value\n",
    "        _, predicted = torch.max(outputs.data, 1)\n",
    "                \n",
    "        # Total number of labels\n",
    "        total_1 += labels.size(0)\n",
    "           \n",
    "        #######################\n",
    "        #  USE GPU FOR MODEL  #\n",
    "        #######################\n",
    "        # Total correct predictions\n",
    "        if torch.cuda.is_available():\n",
    "                    correct_1 += (predicted.cpu() == labels.cpu()).sum() # because .sum() function does not work on GPU\n",
    "        else:                \n",
    "                    correct_1 += (predicted == labels).sum()\n",
    "            \n",
    "        accuracy = 100 * correct_1 // total_1\n",
    "        train_accuracy.append(accuracy)\n",
    "        ''''''\n",
    "        \n",
    "        \n",
    "        # Clear gradients w.r.t. parameters\n",
    "        optimizer.zero_grad()\n",
    "        \n",
    "        # Calculate Loss: softmax --> cross entropy loss\n",
    "        loss = criterion(outputs, labels)\n",
    "        \n",
    "        \n",
    "        '''\n",
    "        Save loss to draw accuracy curve\n",
    "        '''\n",
    "        train_loss.append(loss)\n",
    "        ''''''\n",
    "        \n",
    "        \n",
    "        # Getting gradients w.r.t. parameters\n",
    "        loss.backward()\n",
    "        \n",
    "        # Updating parameters\n",
    "        optimizer.step()\n",
    "        ''''''\n",
    "        \n",
    "        iter += 1\n",
    "    \n",
    "        # Testing the model\n",
    "        if iter % 500 == 0:\n",
    "            # Calculate Accuracy         \n",
    "            correct = 0\n",
    "            total = 0\n",
    "            # Iterate through test dataset\n",
    "            for images, labels in test_loader:\n",
    "                #######################\n",
    "                #  USE GPU FOR MODEL  #\n",
    "                #######################\n",
    "                if torch.cuda.is_available():\n",
    "                    images = Variable(images.view(-1, 28*28).cuda())\n",
    "                else:\n",
    "                    images = Variable(images.view(-1, 28*28))    \n",
    "                    \n",
    "                # Forward pass only to get logits/output\n",
    "                outputs = model(images)\n",
    "                \n",
    "                # Get predictions from the maximum value\n",
    "                _, predicted = torch.max(outputs.data, 1)\n",
    "                \n",
    "                # Total number of labels\n",
    "                total += labels.size(0)\n",
    "           \n",
    "                #######################\n",
    "                #  USE GPU FOR MODEL  #\n",
    "                #######################\n",
    "                # Total correct predictions\n",
    "                if torch.cuda.is_available():\n",
    "                    correct += (predicted.cpu() == labels.cpu()).sum() # because .sum() function does not work on GPU\n",
    "                else:                \n",
    "                    correct += (predicted == labels).sum()\n",
    "            \n",
    "            accuracy = 100 * correct // total\n",
    "            \n",
    "            # Print Loss\n",
    "            print('Iteration: {}. Loss: {}. Accuracy: {}'.format(iter, loss.data, accuracy))\n",
    "            "
   ]
  },
  {
   "cell_type": "code",
   "execution_count": 18,
   "metadata": {},
   "outputs": [
    {
     "data": {
      "image/png": "[encoded data removed]",
      "text/plain": [
       "<Figure size 576x360 with 1 Axes>"
      ]
     },
     "metadata": {
      "needs_background": "light"
     },
     "output_type": "display_data"
    },
    {
     "data": {
      "image/png": "[encoded data removed]",
      "text/plain": [
       "<Figure size 576x360 with 1 Axes>"
      ]
     },
     "metadata": {
      "needs_background": "light"
     },
     "output_type": "display_data"
    }
   ],
   "source": [
    "#Plots the loss and accuracy curves\n",
    "\n",
    "plt.figure(figsize=(8,5))\n",
    "plt.plot(range(len(train_loss)), train_loss)\n",
    "plt.xlabel(\"Iteration\")\n",
    "plt.ylabel(\"Cross entropy loss\")\n",
    "plt.title(\"Loss curve for training\")\n",
    "plt.show()\n",
    "\n",
    "plt.figure(figsize=(8,5))\n",
    "plt.plot(range(len(train_accuracy)), train_accuracy, c='r')\n",
    "plt.xlabel(\"Iteration\")\n",
    "plt.ylabel(\"Accuracy\")\n",
    "plt.title(\"Accuracy curve for training\")\n",
    "plt.show()"
   ]
  },
  {
   "cell_type": "markdown",
   "metadata": {},
   "source": [
    "### Model B: 1 Hidden Layer Feedforward Neural Network (Tanh Activation)\n",
    "Just create model class is different from Model A."
   ]
  },
  {
   "cell_type": "code",
   "execution_count": 19,
   "metadata": {},
   "outputs": [
    {
     "data": {
      "text/plain": [
       "5"
      ]
     },
     "execution_count": 19,
     "metadata": {},
     "output_type": "execute_result"
    }
   ],
   "source": [
    "batch_size = 100\n",
    "n_iters = 3000\n",
    "num_epochs = n_iters / (len(train_dataset) / batch_size)\n",
    "num_epochs = int(num_epochs)\n",
    "num_epochs"
   ]
  },
  {
   "cell_type": "markdown",
   "metadata": {},
   "source": [
    "#### Create model class"
   ]
  },
  {
   "cell_type": "code",
   "execution_count": 20,
   "metadata": {},
   "outputs": [],
   "source": [
    "class FeedforwardNeuralNetworkModel(nn.Module):\n",
    "    def __init__(self, input_size, hidden_size, num_classes):\n",
    "        super(FeedforwardNeuralNetworkModel, self).__init__()\n",
    "        # linear function\n",
    "        self.fc1 = nn.Linear(input_dim, hidden_dim)\n",
    "        # non-linearity\n",
    "        self.tanh = nn.Tanh()\n",
    "        # linear function\n",
    "        self.fc2 = nn.Linear(hidden_dim, output_dim)\n",
    "        \n",
    "    def forward(self, x):\n",
    "        # linear function\n",
    "        out = self.fc1(x)\n",
    "        # non-linearity\n",
    "        out = self.tanh(out)\n",
    "        #linear function\n",
    "        out = self.fc2(out)\n",
    "        return out       \n",
    "    "
   ]
  },
  {
   "cell_type": "code",
   "execution_count": 21,
   "metadata": {},
   "outputs": [],
   "source": [
    "#  Instantiate model class\n",
    "input_dim = 28*28\n",
    "output_dim = 10\n",
    "hidden_dim = 100 \n",
    "\n",
    "model = FeedforwardNeuralNetworkModel(input_dim, hidden_dim, output_dim)\n",
    "\n",
    "#######################\n",
    "#  USE GPU FOR MODEL  #\n",
    "#######################\n",
    "if torch.cuda.is_available():\n",
    "    model.cuda()\n",
    "    "
   ]
  },
  {
   "cell_type": "code",
   "execution_count": 22,
   "metadata": {},
   "outputs": [
    {
     "name": "stdout",
     "output_type": "stream",
     "text": [
      "----------------------------------------------------------------\n",
      "        Layer (type)               Output Shape         Param #\n",
      "================================================================\n",
      "            Linear-1               [-1, 1, 100]          78,500\n",
      "              Tanh-2               [-1, 1, 100]               0\n",
      "            Linear-3                [-1, 1, 10]           1,010\n",
      "================================================================\n",
      "Total params: 79,510\n",
      "Trainable params: 79,510\n",
      "Non-trainable params: 0\n",
      "----------------------------------------------------------------\n",
      "Input size (MB): 0.00\n",
      "Forward/backward pass size (MB): 0.00\n",
      "Params size (MB): 0.30\n",
      "Estimated Total Size (MB): 0.31\n",
      "----------------------------------------------------------------\n"
     ]
    }
   ],
   "source": [
    "summary(model, (1,28*28))"
   ]
  },
  {
   "cell_type": "code",
   "execution_count": 23,
   "metadata": {},
   "outputs": [],
   "source": [
    "#  Instantiate loss class\n",
    "criterion=nn.CrossEntropyLoss()\n",
    "\n",
    "#  Instantiate optimizer class\n",
    "learning_rate = 0.001\n",
    "optimizer = torch.optim.SGD(model.parameters(), lr=learning_rate)"
   ]
  },
  {
   "cell_type": "code",
   "execution_count": 24,
   "metadata": {},
   "outputs": [
    {
     "name": "stdout",
     "output_type": "stream",
     "text": [
      "Iteration: 500. Loss: 0.8784054517745972. Accuracy: 71\n",
      "Iteration: 1000. Loss: 0.826201319694519. Accuracy: 75\n",
      "Iteration: 1500. Loss: 0.7593299746513367. Accuracy: 76\n",
      "Iteration: 2000. Loss: 0.6753838062286377. Accuracy: 78\n",
      "Iteration: 2500. Loss: 0.5091896057128906. Accuracy: 79\n",
      "Iteration: 3000. Loss: 0.5716516971588135. Accuracy: 79\n"
     ]
    }
   ],
   "source": [
    "# Train the model\n",
    "\n",
    "train_loss = []\n",
    "train_accuracy = []\n",
    "\n",
    "iter = 0\n",
    "for epoch in range(num_epochs):\n",
    "    \n",
    "    '''\n",
    "    One iteration\n",
    "    '''\n",
    "    # Calculate Accuracy         \n",
    "    correct_1 = 0\n",
    "    total_1 = 0\n",
    "    for i, (images, labels) in enumerate(train_loader):\n",
    "        #######################\n",
    "        #  USE GPU FOR MODEL  #\n",
    "        #######################\n",
    "        if torch.cuda.is_available():\n",
    "            images = Variable(images.view(-1, 28*28).cuda())\n",
    "            labels = Variable(labels.cuda())\n",
    "        else:\n",
    "            images = Variable(images.view(-1, 28*28))\n",
    "            labels = Variable(labels)\n",
    "        \n",
    "        # Forward pass to get output/logits\n",
    "        outputs = model(images)\n",
    "        \n",
    "        '''\n",
    "        Save accuracy to draw accuracy curve\n",
    "        '''\n",
    "        # Get predictions from the maximum value\n",
    "        _, predicted = torch.max(outputs.data, 1)\n",
    "                \n",
    "        # Total number of labels\n",
    "        total_1 += labels.size(0)\n",
    "           \n",
    "        #######################\n",
    "        #  USE GPU FOR MODEL  #\n",
    "        #######################\n",
    "        # Total correct predictions\n",
    "        if torch.cuda.is_available():\n",
    "                    correct_1 += (predicted.cpu() == labels.cpu()).sum() # because .sum() function does not work on GPU\n",
    "        else:                \n",
    "                    correct_1 += (predicted == labels).sum()\n",
    "            \n",
    "        accuracy = 100 * correct_1 // total_1\n",
    "        train_accuracy.append(accuracy)\n",
    "        ''''''\n",
    "        \n",
    "        \n",
    "        # Clear gradients w.r.t. parameters\n",
    "        optimizer.zero_grad()\n",
    "        \n",
    "        # Calculate Loss: softmax --> cross entropy loss\n",
    "        loss = criterion(outputs, labels)\n",
    "        \n",
    "        \n",
    "        '''\n",
    "        Save loss to draw accuracy curve\n",
    "        '''\n",
    "        train_loss.append(loss)\n",
    "        ''''''\n",
    "        \n",
    "        \n",
    "        # Getting gradients w.r.t. parameters\n",
    "        loss.backward()\n",
    "        \n",
    "        # Updating parameters\n",
    "        optimizer.step()\n",
    "        ''''''\n",
    "        \n",
    "        iter += 1\n",
    "    \n",
    "        # Testing the model\n",
    "        if iter % 500 == 0:\n",
    "            # Calculate Accuracy         \n",
    "            correct = 0\n",
    "            total = 0\n",
    "            # Iterate through test dataset\n",
    "            for images, labels in test_loader:\n",
    "                #######################\n",
    "                #  USE GPU FOR MODEL  #\n",
    "                #######################\n",
    "                if torch.cuda.is_available():\n",
    "                    images = Variable(images.view(-1, 28*28).cuda())\n",
    "                else:\n",
    "                    images = Variable(images.view(-1, 28*28))    \n",
    "                    \n",
    "                # Forward pass only to get logits/output\n",
    "                outputs = model(images)\n",
    "                \n",
    "                # Get predictions from the maximum value\n",
    "                _, predicted = torch.max(outputs.data, 1)\n",
    "                \n",
    "                # Total number of labels\n",
    "                total += labels.size(0)\n",
    "           \n",
    "                #######################\n",
    "                #  USE GPU FOR MODEL  #\n",
    "                #######################\n",
    "                # Total correct predictions\n",
    "                if torch.cuda.is_available():\n",
    "                    correct += (predicted.cpu() == labels.cpu()).sum() # because .sum() function does not work on GPU\n",
    "                else:                \n",
    "                    correct += (predicted == labels).sum()\n",
    "            \n",
    "            accuracy = 100 * correct // total\n",
    "            \n",
    "            # Print Loss\n",
    "            print('Iteration: {}. Loss: {}. Accuracy: {}'.format(iter, loss.data, accuracy))\n",
    "            "
   ]
  },
  {
   "cell_type": "code",
   "execution_count": 25,
   "metadata": {},
   "outputs": [
    {
     "data": {
      "image/png": "[encoded data removed]",
      "text/plain": [
       "<Figure size 576x360 with 1 Axes>"
      ]
     },
     "metadata": {
      "needs_background": "light"
     },
     "output_type": "display_data"
    },
    {
     "data": {
      "image/png": "[encoded data removed]",
      "text/plain": [
       "<Figure size 576x360 with 1 Axes>"
      ]
     },
     "metadata": {
      "needs_background": "light"
     },
     "output_type": "display_data"
    }
   ],
   "source": [
    "#Plots the loss and accuracy curves\n",
    "\n",
    "plt.figure(figsize=(8,5))\n",
    "plt.plot(range(len(train_loss)), train_loss)\n",
    "plt.xlabel(\"Iteration\")\n",
    "plt.ylabel(\"Cross entropy loss\")\n",
    "plt.title(\"Loss curve for training\")\n",
    "plt.show()\n",
    "\n",
    "plt.figure(figsize=(8,5))\n",
    "plt.plot(range(len(train_accuracy)), train_accuracy, c='r')\n",
    "plt.xlabel(\"Iteration\")\n",
    "plt.ylabel(\"Accuracy\")\n",
    "plt.title(\"Accuracy curve for training\")\n",
    "plt.show()"
   ]
  },
  {
   "cell_type": "markdown",
   "metadata": {},
   "source": [
    "### Model C: 2 Hidden Layers Feedforward Neural Network (ReLU Activation)"
   ]
  },
  {
   "cell_type": "markdown",
   "metadata": {},
   "source": [
    "### Create model class"
   ]
  },
  {
   "cell_type": "code",
   "execution_count": 26,
   "metadata": {},
   "outputs": [],
   "source": [
    "class FeedforwardNeuralNetworkModel(nn.Module):\n",
    "    def __init__(self, input_size, hidden_size, num_classes):\n",
    "        super(FeedforwardNeuralNetworkModel, self).__init__()\n",
    "        # linear function 1: \n",
    "        self.fc1 = nn.Linear(input_dim, hidden_dim)\n",
    "        # non-linearity 1\n",
    "        self.relu1 = nn.ReLU()\n",
    "        \n",
    "        # linear function 2:\n",
    "        self.fc2 = nn.Linear(hidden_dim, hidden_dim)\n",
    "        # non-linearity 2\n",
    "        self.relu2 = nn.ReLU()\n",
    "        \n",
    "        # linear function (readout)\n",
    "        self.fc3 = nn.Linear(hidden_dim, output_dim)\n",
    "        \n",
    "    def forward(self, x):\n",
    "        # linear function 1\n",
    "        out = self.fc1(x)\n",
    "        # non-linearity 1\n",
    "        out = self.relu1(out)\n",
    "        \n",
    "        # linear function 2\n",
    "        out = self.fc2(out)\n",
    "        # non-linearity 2\n",
    "        out = self.relu2(out)\n",
    "        \n",
    "        #linear function 3 (readout)\n",
    "        out = self.fc3(out)\n",
    "        return out       \n",
    "    "
   ]
  },
  {
   "cell_type": "code",
   "execution_count": 27,
   "metadata": {},
   "outputs": [],
   "source": [
    "#  Instantiate model class\n",
    "input_dim = 28*28\n",
    "output_dim = 10\n",
    "hidden_dim = 100 \n",
    "\n",
    "model = FeedforwardNeuralNetworkModel(input_dim, hidden_dim, output_dim)\n",
    "\n",
    "#######################\n",
    "#  USE GPU FOR MODEL  #\n",
    "#######################\n",
    "if torch.cuda.is_available():\n",
    "    model.cuda()\n",
    "    "
   ]
  },
  {
   "cell_type": "code",
   "execution_count": 28,
   "metadata": {},
   "outputs": [
    {
     "name": "stdout",
     "output_type": "stream",
     "text": [
      "----------------------------------------------------------------\n",
      "        Layer (type)               Output Shape         Param #\n",
      "================================================================\n",
      "            Linear-1               [-1, 1, 100]          78,500\n",
      "              ReLU-2               [-1, 1, 100]               0\n",
      "            Linear-3               [-1, 1, 100]          10,100\n",
      "              ReLU-4               [-1, 1, 100]               0\n",
      "            Linear-5                [-1, 1, 10]           1,010\n",
      "================================================================\n",
      "Total params: 89,610\n",
      "Trainable params: 89,610\n",
      "Non-trainable params: 0\n",
      "----------------------------------------------------------------\n",
      "Input size (MB): 0.00\n",
      "Forward/backward pass size (MB): 0.00\n",
      "Params size (MB): 0.34\n",
      "Estimated Total Size (MB): 0.35\n",
      "----------------------------------------------------------------\n"
     ]
    }
   ],
   "source": [
    "summary(model, (1,28*28))"
   ]
  },
  {
   "cell_type": "code",
   "execution_count": 29,
   "metadata": {},
   "outputs": [],
   "source": [
    "#  Instantiate loss class\n",
    "criterion=nn.CrossEntropyLoss()\n",
    "\n",
    "#  Instantiate optimizer class\n",
    "learning_rate = 0.001\n",
    "optimizer = torch.optim.SGD(model.parameters(), lr=learning_rate)"
   ]
  },
  {
   "cell_type": "code",
   "execution_count": 30,
   "metadata": {},
   "outputs": [
    {
     "name": "stdout",
     "output_type": "stream",
     "text": [
      "Iteration: 500. Loss: 0.6204278469085693. Accuracy: 78\n",
      "Iteration: 1000. Loss: 0.4554538428783417. Accuracy: 81\n",
      "Iteration: 1500. Loss: 0.44468700885772705. Accuracy: 81\n",
      "Iteration: 2000. Loss: 0.373912513256073. Accuracy: 83\n",
      "Iteration: 2500. Loss: 0.28977420926094055. Accuracy: 83\n",
      "Iteration: 3000. Loss: 0.460571825504303. Accuracy: 84\n"
     ]
    }
   ],
   "source": [
    "# Train the model\n",
    "\n",
    "train_loss = []\n",
    "train_accuracy = []\n",
    "\n",
    "iter = 0\n",
    "for epoch in range(num_epochs):\n",
    "    \n",
    "    '''\n",
    "    One iteration\n",
    "    '''\n",
    "    # Calculate Accuracy         \n",
    "    correct_1 = 0\n",
    "    total_1 = 0\n",
    "    for i, (images, labels) in enumerate(train_loader):\n",
    "        #######################\n",
    "        #  USE GPU FOR MODEL  #\n",
    "        #######################\n",
    "        if torch.cuda.is_available():\n",
    "            images = Variable(images.view(-1, 28*28).cuda())\n",
    "            labels = Variable(labels.cuda())\n",
    "        else:\n",
    "            images = Variable(images.view(-1, 28*28))\n",
    "            labels = Variable(labels)\n",
    "        \n",
    "        # Forward pass to get output/logits\n",
    "        outputs = model(images)\n",
    "        \n",
    "        '''\n",
    "        Save accuracy to draw accuracy curve\n",
    "        '''\n",
    "        # Get predictions from the maximum value\n",
    "        _, predicted = torch.max(outputs.data, 1)\n",
    "                \n",
    "        # Total number of labels\n",
    "        total_1 += labels.size(0)\n",
    "           \n",
    "        #######################\n",
    "        #  USE GPU FOR MODEL  #\n",
    "        #######################\n",
    "        # Total correct predictions\n",
    "        if torch.cuda.is_available():\n",
    "                    correct_1 += (predicted.cpu() == labels.cpu()).sum() # because .sum() function does not work on GPU\n",
    "        else:                \n",
    "                    correct_1 += (predicted == labels).sum()\n",
    "            \n",
    "        accuracy = 100 * correct_1 // total_1\n",
    "        train_accuracy.append(accuracy)\n",
    "        ''''''\n",
    "        \n",
    "        \n",
    "        # Clear gradients w.r.t. parameters\n",
    "        optimizer.zero_grad()\n",
    "        \n",
    "        # Calculate Loss: softmax --> cross entropy loss\n",
    "        loss = criterion(outputs, labels)\n",
    "        \n",
    "        \n",
    "        '''\n",
    "        Save loss to draw accuracy curve\n",
    "        '''\n",
    "        train_loss.append(loss)\n",
    "        ''''''\n",
    "        \n",
    "        \n",
    "        # Getting gradients w.r.t. parameters\n",
    "        loss.backward()\n",
    "        \n",
    "        # Updating parameters\n",
    "        optimizer.step()\n",
    "        ''''''\n",
    "        \n",
    "        iter += 1\n",
    "    \n",
    "        # Testing the model\n",
    "        if iter % 500 == 0:\n",
    "            # Calculate Accuracy         \n",
    "            correct = 0\n",
    "            total = 0\n",
    "            # Iterate through test dataset\n",
    "            for images, labels in test_loader:\n",
    "                #######################\n",
    "                #  USE GPU FOR MODEL  #\n",
    "                #######################\n",
    "                if torch.cuda.is_available():\n",
    "                    images = Variable(images.view(-1, 28*28).cuda())\n",
    "                else:\n",
    "                    images = Variable(images.view(-1, 28*28))    \n",
    "                    \n",
    "                # Forward pass only to get logits/output\n",
    "                outputs = model(images)\n",
    "                \n",
    "                # Get predictions from the maximum value\n",
    "                _, predicted = torch.max(outputs.data, 1)\n",
    "                \n",
    "                # Total number of labels\n",
    "                total += labels.size(0)\n",
    "           \n",
    "                #######################\n",
    "                #  USE GPU FOR MODEL  #\n",
    "                #######################\n",
    "                # Total correct predictions\n",
    "                if torch.cuda.is_available():\n",
    "                    correct += (predicted.cpu() == labels.cpu()).sum() # because .sum() function does not work on GPU\n",
    "                else:                \n",
    "                    correct += (predicted == labels).sum()\n",
    "            \n",
    "            accuracy = 100 * correct // total\n",
    "            \n",
    "            # Print Loss\n",
    "            print('Iteration: {}. Loss: {}. Accuracy: {}'.format(iter, loss.data, accuracy))\n",
    "            "
   ]
  },
  {
   "cell_type": "code",
   "execution_count": 31,
   "metadata": {},
   "outputs": [
    {
     "data": {
      "image/png": "[encoded data removed]",
      "text/plain": [
       "<Figure size 576x360 with 1 Axes>"
      ]
     },
     "metadata": {
      "needs_background": "light"
     },
     "output_type": "display_data"
    },
    {
     "data": {
      "image/png": "[encoded data removed]",
      "text/plain": [
       "<Figure size 576x360 with 1 Axes>"
      ]
     },
     "metadata": {
      "needs_background": "light"
     },
     "output_type": "display_data"
    }
   ],
   "source": [
    "#Plots the loss and accuracy curves\n",
    "\n",
    "plt.figure(figsize=(8,5))\n",
    "plt.plot(range(len(train_loss)), train_loss)\n",
    "plt.xlabel(\"Iteration\")\n",
    "plt.ylabel(\"Cross entropy loss\")\n",
    "plt.title(\"Loss curve for training\")\n",
    "plt.show()\n",
    "\n",
    "plt.figure(figsize=(8,5))\n",
    "plt.plot(range(len(train_accuracy)), train_accuracy, c='r')\n",
    "plt.xlabel(\"Iteration\")\n",
    "plt.ylabel(\"Accuracy\")\n",
    "plt.title(\"Accuracy curve for training\")\n",
    "plt.show()"
   ]
  },
  {
   "cell_type": "markdown",
   "metadata": {},
   "source": [
    "### Model D: 3 Hidden Layers Feedforward Neural Network (ReLU Activation)"
   ]
  },
  {
   "cell_type": "markdown",
   "metadata": {},
   "source": [
    "#### Create model class"
   ]
  },
  {
   "cell_type": "code",
   "execution_count": 32,
   "metadata": {},
   "outputs": [],
   "source": [
    "class FeedforwardNeuralNetworkModel(nn.Module):\n",
    "    def __init__(self, input_size, hidden_size, num_classes):\n",
    "        super(FeedforwardNeuralNetworkModel, self).__init__()\n",
    "        # linear function 1: \n",
    "        self.fc1 = nn.Linear(input_dim, hidden_dim)\n",
    "        # non-linearity 1\n",
    "        self.relu1 = nn.ReLU()\n",
    "        \n",
    "        # linear function 2: \n",
    "        self.fc2 = nn.Linear(hidden_dim, hidden_dim)\n",
    "        # non-linearity 2\n",
    "        self.relu2 = nn.ReLU()\n",
    "        \n",
    "        # linear function 3: \n",
    "        self.fc3 = nn.Linear(hidden_dim, hidden_dim)\n",
    "        # non-linearity 3\n",
    "        self.relu3 = nn.ReLU()\n",
    "        \n",
    "        # linear function 4 (readout)\n",
    "        self.fc4 = nn.Linear(hidden_dim, output_dim)\n",
    "        \n",
    "    def forward(self, x):\n",
    "        # linear function 1\n",
    "        out = self.fc1(x)\n",
    "        # non-linearity 1\n",
    "        out = self.relu1(out)\n",
    "        \n",
    "        # linear function 2\n",
    "        out = self.fc2(out)\n",
    "        # non-linearity 2\n",
    "        out = self.relu2(out)\n",
    "        \n",
    "        # linear function 3\n",
    "        out = self.fc3(out)\n",
    "        # non-linearity 3\n",
    "        out = self.relu3(out)\n",
    "        \n",
    "        #linear function 4 (readout)\n",
    "        out = self.fc4(out)\n",
    "        return out       \n",
    "    "
   ]
  },
  {
   "cell_type": "code",
   "execution_count": 33,
   "metadata": {},
   "outputs": [],
   "source": [
    "#  Instantiate model class\n",
    "input_dim = 28*28\n",
    "output_dim = 10\n",
    "hidden_dim = 100 \n",
    "\n",
    "model = FeedforwardNeuralNetworkModel(input_dim, hidden_dim, output_dim)\n",
    "\n",
    "#######################\n",
    "#  USE GPU FOR MODEL  #\n",
    "#######################\n",
    "if torch.cuda.is_available():\n",
    "    model.cuda()\n",
    "    "
   ]
  },
  {
   "cell_type": "code",
   "execution_count": 34,
   "metadata": {},
   "outputs": [
    {
     "name": "stdout",
     "output_type": "stream",
     "text": [
      "----------------------------------------------------------------\n",
      "        Layer (type)               Output Shape         Param #\n",
      "================================================================\n",
      "            Linear-1               [-1, 1, 100]          78,500\n",
      "              ReLU-2               [-1, 1, 100]               0\n",
      "            Linear-3               [-1, 1, 100]          10,100\n",
      "              ReLU-4               [-1, 1, 100]               0\n",
      "            Linear-5               [-1, 1, 100]          10,100\n",
      "              ReLU-6               [-1, 1, 100]               0\n",
      "            Linear-7                [-1, 1, 10]           1,010\n",
      "================================================================\n",
      "Total params: 99,710\n",
      "Trainable params: 99,710\n",
      "Non-trainable params: 0\n",
      "----------------------------------------------------------------\n",
      "Input size (MB): 0.00\n",
      "Forward/backward pass size (MB): 0.00\n",
      "Params size (MB): 0.38\n",
      "Estimated Total Size (MB): 0.39\n",
      "----------------------------------------------------------------\n"
     ]
    }
   ],
   "source": [
    "summary(model, (1,28*28))"
   ]
  },
  {
   "cell_type": "code",
   "execution_count": 35,
   "metadata": {},
   "outputs": [],
   "source": [
    "#  Instantiate loss class\n",
    "criterion=nn.CrossEntropyLoss()\n",
    "\n",
    "#  Instantiate optimizer class\n",
    "learning_rate = 0.001\n",
    "optimizer = torch.optim.SGD(model.parameters(), lr=learning_rate)"
   ]
  },
  {
   "cell_type": "code",
   "execution_count": 36,
   "metadata": {},
   "outputs": [
    {
     "name": "stdout",
     "output_type": "stream",
     "text": [
      "Iteration: 500. Loss: 0.4537968933582306. Accuracy: 80\n",
      "Iteration: 1000. Loss: 0.3462185561656952. Accuracy: 82\n",
      "Iteration: 1500. Loss: 0.38188427686691284. Accuracy: 83\n",
      "Iteration: 2000. Loss: 0.5052550435066223. Accuracy: 84\n",
      "Iteration: 2500. Loss: 0.3503841459751129. Accuracy: 84\n",
      "Iteration: 3000. Loss: 0.4283829927444458. Accuracy: 84\n"
     ]
    }
   ],
   "source": [
    "# Train the model\n",
    "\n",
    "train_loss = []\n",
    "train_accuracy = []\n",
    "\n",
    "iter = 0\n",
    "for epoch in range(num_epochs):\n",
    "    \n",
    "    '''\n",
    "    One iteration\n",
    "    '''\n",
    "    # Calculate Accuracy         \n",
    "    correct_1 = 0\n",
    "    total_1 = 0\n",
    "    for i, (images, labels) in enumerate(train_loader):\n",
    "        #######################\n",
    "        #  USE GPU FOR MODEL  #\n",
    "        #######################\n",
    "        if torch.cuda.is_available():\n",
    "            images = Variable(images.view(-1, 28*28).cuda())\n",
    "            labels = Variable(labels.cuda())\n",
    "        else:\n",
    "            images = Variable(images.view(-1, 28*28))\n",
    "            labels = Variable(labels)\n",
    "        \n",
    "        # Forward pass to get output/logits\n",
    "        outputs = model(images)\n",
    "        \n",
    "        '''\n",
    "        Save accuracy to draw accuracy curve\n",
    "        '''\n",
    "        # Get predictions from the maximum value\n",
    "        _, predicted = torch.max(outputs.data, 1)\n",
    "                \n",
    "        # Total number of labels\n",
    "        total_1 += labels.size(0)\n",
    "           \n",
    "        #######################\n",
    "        #  USE GPU FOR MODEL  #\n",
    "        #######################\n",
    "        # Total correct predictions\n",
    "        if torch.cuda.is_available():\n",
    "                    correct_1 += (predicted.cpu() == labels.cpu()).sum() # because .sum() function does not work on GPU\n",
    "        else:                \n",
    "                    correct_1 += (predicted == labels).sum()\n",
    "            \n",
    "        accuracy = 100 * correct_1 // total_1\n",
    "        train_accuracy.append(accuracy)\n",
    "        ''''''\n",
    "        \n",
    "        \n",
    "        # Clear gradients w.r.t. parameters\n",
    "        optimizer.zero_grad()\n",
    "        \n",
    "        # Calculate Loss: softmax --> cross entropy loss\n",
    "        loss = criterion(outputs, labels)\n",
    "        \n",
    "        \n",
    "        '''\n",
    "        Save loss to draw accuracy curve\n",
    "        '''\n",
    "        train_loss.append(loss)\n",
    "        ''''''\n",
    "        \n",
    "        \n",
    "        # Getting gradients w.r.t. parameters\n",
    "        loss.backward()\n",
    "        \n",
    "        # Updating parameters\n",
    "        optimizer.step()\n",
    "        ''''''\n",
    "        \n",
    "        iter += 1\n",
    "    \n",
    "        # Testing the model\n",
    "        if iter % 500 == 0:\n",
    "            # Calculate Accuracy         \n",
    "            correct = 0\n",
    "            total = 0\n",
    "            # Iterate through test dataset\n",
    "            for images, labels in test_loader:\n",
    "                #######################\n",
    "                #  USE GPU FOR MODEL  #\n",
    "                #######################\n",
    "                if torch.cuda.is_available():\n",
    "                    images = Variable(images.view(-1, 28*28).cuda())\n",
    "                else:\n",
    "                    images = Variable(images.view(-1, 28*28))    \n",
    "                    \n",
    "                # Forward pass only to get logits/output\n",
    "                outputs = model(images)\n",
    "                \n",
    "                # Get predictions from the maximum value\n",
    "                _, predicted = torch.max(outputs.data, 1)\n",
    "                \n",
    "                # Total number of labels\n",
    "                total += labels.size(0)\n",
    "           \n",
    "                #######################\n",
    "                #  USE GPU FOR MODEL  #\n",
    "                #######################\n",
    "                # Total correct predictions\n",
    "                if torch.cuda.is_available():\n",
    "                    correct += (predicted.cpu() == labels.cpu()).sum() # because .sum() function does not work on GPU\n",
    "                else:                \n",
    "                    correct += (predicted == labels).sum()\n",
    "            \n",
    "            accuracy = 100 * correct // total\n",
    "            \n",
    "            # Print Loss\n",
    "            print('Iteration: {}. Loss: {}. Accuracy: {}'.format(iter, loss.data, accuracy))\n",
    "            "
   ]
  },
  {
   "cell_type": "code",
   "execution_count": 37,
   "metadata": {},
   "outputs": [
    {
     "data": {
      "image/png": "[encoded data removed]",
      "text/plain": [
       "<Figure size 576x360 with 1 Axes>"
      ]
     },
     "metadata": {
      "needs_background": "light"
     },
     "output_type": "display_data"
    },
    {
     "data": {
      "image/png": "[encoded data removed]",
      "text/plain": [
       "<Figure size 576x360 with 1 Axes>"
      ]
     },
     "metadata": {
      "needs_background": "light"
     },
     "output_type": "display_data"
    }
   ],
   "source": [
    "#Plots the loss and accuracy curves\n",
    "\n",
    "plt.figure(figsize=(8,5))\n",
    "plt.plot(range(len(train_loss)), train_loss)\n",
    "plt.xlabel(\"Iteration\")\n",
    "plt.ylabel(\"Cross entropy loss\")\n",
    "plt.title(\"Loss curve for training\")\n",
    "plt.show()\n",
    "\n",
    "plt.figure(figsize=(8,5))\n",
    "plt.plot(range(len(train_accuracy)), train_accuracy, c='r')\n",
    "plt.xlabel(\"Iteration\")\n",
    "plt.ylabel(\"Accuracy\")\n",
    "plt.title(\"Accuracy curve for training\")\n",
    "plt.show()"
   ]
  },
  {
   "cell_type": "code",
   "execution_count": 38,
   "metadata": {},
   "outputs": [],
   "source": [
    "save_model = True\n",
    "if save_model is True:\n",
    "    torch.save(model.state_dict(), path+\"\\\\FNN_pytorch_relu3_fashion-mnist.pkl\")# only save parameters"
   ]
  },
  {
   "cell_type": "markdown",
   "metadata": {},
   "source": [
    "### Model E: 5 Hidden Layers Feedforward Neural Network"
   ]
  },
  {
   "cell_type": "code",
   "execution_count": 39,
   "metadata": {},
   "outputs": [],
   "source": [
    "input_dim = 28*28\n",
    "output_dim = 10\n",
    "hidden_dim1 = 100 \n",
    "hidden_dim2 = 100 \n",
    "hidden_dim3 = 200 \n",
    "hidden_dim4 = 300 \n",
    "hidden_dim5 = 100 "
   ]
  },
  {
   "cell_type": "markdown",
   "metadata": {},
   "source": [
    "#### Create model class"
   ]
  },
  {
   "cell_type": "code",
   "execution_count": 40,
   "metadata": {},
   "outputs": [],
   "source": [
    "class FNNModel(nn.Module):\n",
    "    def __init__(self, input_dim, hidden_dim1, hidden_dim2, hidden_dim3, hidden_dim4, hidden_dim5, output_dim):\n",
    "        \n",
    "        super(FNNModel, self).__init__()\n",
    "        \n",
    "        self.f1 = nn.Linear(input_dim,hidden_dim1)\n",
    "        self.relu1 = nn.ReLU()\n",
    "        \n",
    "        self.f2 = nn.Linear(hidden_dim1,hidden_dim2)\n",
    "        self.relu2 = nn.ReLU()\n",
    "        \n",
    "        self.f3 = nn.Linear(hidden_dim2,hidden_dim3)\n",
    "        self.sigmoid = nn.Tanh()\n",
    "        \n",
    "        self.f4 = nn.Linear(hidden_dim3,hidden_dim4)\n",
    "        self.relu3 = nn.ReLU()\n",
    "        \n",
    "        self.f5 = nn.Linear(hidden_dim4,hidden_dim5)\n",
    "        self.relu4 = nn.ReLU()\n",
    "        \n",
    "        self.f6 = nn.Linear(hidden_dim5,output_dim)\n",
    "        \n",
    "    def forward(self, x):\n",
    "        out = self.f1(x)\n",
    "        out = self.relu1(out)\n",
    "\n",
    "        out = self.f2(out)\n",
    "        out = self.relu2(out)\n",
    "        \n",
    "        out = self.f3(out)\n",
    "        out = self.sigmoid(out)\n",
    "        \n",
    "        out = self.f4(out)\n",
    "        out = self.relu3(out)\n",
    "        \n",
    "        out = self.f5(out)\n",
    "        out = self.relu4(out)\n",
    "        \n",
    "        out = self.f6(out)\n",
    "        \n",
    "        return out       \n",
    "    "
   ]
  },
  {
   "cell_type": "code",
   "execution_count": 41,
   "metadata": {},
   "outputs": [],
   "source": [
    "model = FNNModel(input_dim, hidden_dim1, hidden_dim2, hidden_dim3, hidden_dim4, hidden_dim5, output_dim)\n",
    "\n",
    "#######################\n",
    "#  USE GPU FOR MODEL  #\n",
    "#######################\n",
    "if torch.cuda.is_available():\n",
    "    model.cuda()"
   ]
  },
  {
   "cell_type": "code",
   "execution_count": 42,
   "metadata": {},
   "outputs": [
    {
     "name": "stdout",
     "output_type": "stream",
     "text": [
      "----------------------------------------------------------------\n",
      "        Layer (type)               Output Shape         Param #\n",
      "================================================================\n",
      "            Linear-1               [-1, 1, 100]          78,500\n",
      "              ReLU-2               [-1, 1, 100]               0\n",
      "            Linear-3               [-1, 1, 100]          10,100\n",
      "              ReLU-4               [-1, 1, 100]               0\n",
      "            Linear-5               [-1, 1, 200]          20,200\n",
      "              Tanh-6               [-1, 1, 200]               0\n",
      "            Linear-7               [-1, 1, 300]          60,300\n",
      "              ReLU-8               [-1, 1, 300]               0\n",
      "            Linear-9               [-1, 1, 100]          30,100\n",
      "             ReLU-10               [-1, 1, 100]               0\n",
      "           Linear-11                [-1, 1, 10]           1,010\n",
      "================================================================\n",
      "Total params: 200,210\n",
      "Trainable params: 200,210\n",
      "Non-trainable params: 0\n",
      "----------------------------------------------------------------\n",
      "Input size (MB): 0.00\n",
      "Forward/backward pass size (MB): 0.01\n",
      "Params size (MB): 0.76\n",
      "Estimated Total Size (MB): 0.78\n",
      "----------------------------------------------------------------\n"
     ]
    }
   ],
   "source": [
    "summary(model, (1,28*28))"
   ]
  },
  {
   "cell_type": "code",
   "execution_count": 43,
   "metadata": {},
   "outputs": [
    {
     "data": {
      "text/plain": [
       "10"
      ]
     },
     "execution_count": 43,
     "metadata": {},
     "output_type": "execute_result"
    }
   ],
   "source": [
    "batch_size = 64\n",
    "n_iters = 9400\n",
    "num_epochs = n_iters / (len(train_dataset) / batch_size)\n",
    "num_epochs = int(num_epochs)\n",
    "num_epochs"
   ]
  },
  {
   "cell_type": "code",
   "execution_count": 44,
   "metadata": {},
   "outputs": [],
   "source": [
    "criterion = nn.CrossEntropyLoss()\n",
    "\n",
    "learning_rate = 0.01\n",
    "\n",
    "optimizer = torch.optim.SGD(model.parameters(), lr=learning_rate)"
   ]
  },
  {
   "cell_type": "code",
   "execution_count": 45,
   "metadata": {},
   "outputs": [
    {
     "name": "stdout",
     "output_type": "stream",
     "text": [
      "Iteration: 500. Loss: 0.5365772843360901. Accuracy: 77\n",
      "Iteration: 1000. Loss: 0.4396742284297943. Accuracy: 81\n",
      "Iteration: 1500. Loss: 0.5066227316856384. Accuracy: 82\n",
      "Iteration: 2000. Loss: 0.4180179834365845. Accuracy: 84\n",
      "Iteration: 2500. Loss: 0.3749265670776367. Accuracy: 83\n",
      "Iteration: 3000. Loss: 0.4152218997478485. Accuracy: 84\n",
      "Iteration: 3500. Loss: 0.45451289415359497. Accuracy: 85\n",
      "Iteration: 4000. Loss: 0.32602858543395996. Accuracy: 85\n",
      "Iteration: 4500. Loss: 0.42606377601623535. Accuracy: 84\n",
      "Iteration: 5000. Loss: 0.24764001369476318. Accuracy: 85\n",
      "Iteration: 5500. Loss: 0.25058433413505554. Accuracy: 85\n",
      "Iteration: 6000. Loss: 0.3025541603565216. Accuracy: 86\n"
     ]
    }
   ],
   "source": [
    "# Train the model\n",
    "\n",
    "train_loss = []\n",
    "train_accuracy = []\n",
    "\n",
    "iter = 0\n",
    "for epoch in range(num_epochs):\n",
    "    \n",
    "    '''\n",
    "    One iteration\n",
    "    '''\n",
    "    # Calculate Accuracy         \n",
    "    correct_1 = 0\n",
    "    total_1 = 0\n",
    "    for i, (images, labels) in enumerate(train_loader):\n",
    "        #######################\n",
    "        #  USE GPU FOR MODEL  #\n",
    "        #######################\n",
    "        if torch.cuda.is_available():\n",
    "            images = Variable(images.view(-1, 28*28).cuda())\n",
    "            labels = Variable(labels.cuda())\n",
    "        else:\n",
    "            images = Variable(images.view(-1, 28*28))\n",
    "            labels = Variable(labels)\n",
    "        \n",
    "        # Forward pass to get output/logits\n",
    "        outputs = model(images)\n",
    "        \n",
    "        '''\n",
    "        Save accuracy to draw accuracy curve\n",
    "        '''\n",
    "        # Get predictions from the maximum value\n",
    "        _, predicted = torch.max(outputs.data, 1)\n",
    "                \n",
    "        # Total number of labels\n",
    "        total_1 += labels.size(0)\n",
    "           \n",
    "        #######################\n",
    "        #  USE GPU FOR MODEL  #\n",
    "        #######################\n",
    "        # Total correct predictions\n",
    "        if torch.cuda.is_available():\n",
    "                    correct_1 += (predicted.cpu() == labels.cpu()).sum() # because .sum() function does not work on GPU\n",
    "        else:                \n",
    "                    correct_1 += (predicted == labels).sum()\n",
    "            \n",
    "        accuracy = 100 * correct_1 // total_1\n",
    "        train_accuracy.append(accuracy)\n",
    "        ''''''\n",
    "        \n",
    "        \n",
    "        # Clear gradients w.r.t. parameters\n",
    "        optimizer.zero_grad()\n",
    "        \n",
    "        # Calculate Loss: softmax --> cross entropy loss\n",
    "        loss = criterion(outputs, labels)\n",
    "        \n",
    "        \n",
    "        '''\n",
    "        Save loss to draw accuracy curve\n",
    "        '''\n",
    "        train_loss.append(loss)\n",
    "        ''''''\n",
    "        \n",
    "        \n",
    "        # Getting gradients w.r.t. parameters\n",
    "        loss.backward()\n",
    "        \n",
    "        # Updating parameters\n",
    "        optimizer.step()\n",
    "        ''''''\n",
    "        \n",
    "        iter += 1\n",
    "    \n",
    "        # Testing the model\n",
    "        if iter % 500 == 0:\n",
    "            # Calculate Accuracy         \n",
    "            correct = 0\n",
    "            total = 0\n",
    "            # Iterate through test dataset\n",
    "            for images, labels in test_loader:\n",
    "                #######################\n",
    "                #  USE GPU FOR MODEL  #\n",
    "                #######################\n",
    "                if torch.cuda.is_available():\n",
    "                    images = Variable(images.view(-1, 28*28).cuda())\n",
    "                else:\n",
    "                    images = Variable(images.view(-1, 28*28))    \n",
    "                    \n",
    "                # Forward pass only to get logits/output\n",
    "                outputs = model(images)\n",
    "                \n",
    "                # Get predictions from the maximum value\n",
    "                _, predicted = torch.max(outputs.data, 1)\n",
    "                \n",
    "                # Total number of labels\n",
    "                total += labels.size(0)\n",
    "           \n",
    "                #######################\n",
    "                #  USE GPU FOR MODEL  #\n",
    "                #######################\n",
    "                # Total correct predictions\n",
    "                if torch.cuda.is_available():\n",
    "                    correct += (predicted.cpu() == labels.cpu()).sum() # because .sum() function does not work on GPU\n",
    "                else:                \n",
    "                    correct += (predicted == labels).sum()\n",
    "            \n",
    "            accuracy = 100 * correct // total\n",
    "            \n",
    "            # Print Loss\n",
    "            print('Iteration: {}. Loss: {}. Accuracy: {}'.format(iter, loss.data, accuracy))\n",
    "            "
   ]
  },
  {
   "cell_type": "code",
   "execution_count": 46,
   "metadata": {},
   "outputs": [
    {
     "data": {
      "image/png": "[encoded data removed]",
      "text/plain": [
       "<Figure size 576x360 with 1 Axes>"
      ]
     },
     "metadata": {
      "needs_background": "light"
     },
     "output_type": "display_data"
    },
    {
     "data": {
      "image/png": "[encoded data removed]",
      "text/plain": [
       "<Figure size 576x360 with 1 Axes>"
      ]
     },
     "metadata": {
      "needs_background": "light"
     },
     "output_type": "display_data"
    }
   ],
   "source": [
    "#Plots the loss and accuracy curves\n",
    "\n",
    "plt.figure(figsize=(8,5))\n",
    "plt.plot(range(len(train_loss)), train_loss)\n",
    "plt.xlabel(\"Iteration\")\n",
    "plt.ylabel(\"Cross entropy loss\")\n",
    "plt.title(\"Loss curve for training\")\n",
    "plt.show()\n",
    "\n",
    "plt.figure(figsize=(8,5))\n",
    "plt.plot(range(len(train_accuracy)), train_accuracy, c='r')\n",
    "plt.xlabel(\"Iteration\")\n",
    "plt.ylabel(\"Accuracy\")\n",
    "plt.title(\"Accuracy curve for training\")\n",
    "plt.show()"
   ]
  },
  {
   "cell_type": "code",
   "execution_count": 47,
   "metadata": {},
   "outputs": [],
   "source": [
    "save_model = True\n",
    "if save_model is True:\n",
    "    torch.save(model.state_dict(), path+\"\\\\FNN_pytorch_6_layer_fashion-mnist.pkl\")# only save parameters"
   ]
  },
  {
   "cell_type": "markdown",
   "metadata": {},
   "source": [
    "### Model F: 3 Hidden Layers Feedforward Neural Network"
   ]
  },
  {
   "cell_type": "code",
   "execution_count": 48,
   "metadata": {},
   "outputs": [],
   "source": [
    "input_dim = 28*28\n",
    "output_dim = 10\n",
    "hidden_dim1 = 256\n",
    "hidden_dim2 = 128 "
   ]
  },
  {
   "cell_type": "markdown",
   "metadata": {},
   "source": [
    "#### Create model class"
   ]
  },
  {
   "cell_type": "code",
   "execution_count": 49,
   "metadata": {},
   "outputs": [],
   "source": [
    "class FNNModel(nn.Module):\n",
    "    def __init__(self, input_dim, hidden_dim1, hidden_dim2, output_dim):\n",
    "        \n",
    "        super(FNNModel, self).__init__()\n",
    "        \n",
    "        self.f1 = nn.Linear(input_dim,hidden_dim1)\n",
    "        self.relu1 = nn.ReLU()\n",
    "        \n",
    "        self.f2 = nn.Linear(hidden_dim1,hidden_dim2)\n",
    "        self.relu2 = nn.ReLU()\n",
    "        \n",
    "        self.f3 = nn.Linear(hidden_dim2,output_dim)\n",
    "        \n",
    "    def forward(self, x):\n",
    "        out = self.f1(x)\n",
    "        out = self.relu1(out)\n",
    "\n",
    "        out = self.f2(out)\n",
    "        out = self.relu2(out)\n",
    "        \n",
    "        out = self.f3(out)\n",
    "        \n",
    "        return out       \n",
    "    "
   ]
  },
  {
   "cell_type": "code",
   "execution_count": 50,
   "metadata": {},
   "outputs": [],
   "source": [
    "model = FNNModel(input_dim, hidden_dim1, hidden_dim2, output_dim)\n",
    "\n",
    "#######################\n",
    "#  USE GPU FOR MODEL  #\n",
    "#######################\n",
    "if torch.cuda.is_available():\n",
    "    model.cuda()"
   ]
  },
  {
   "cell_type": "code",
   "execution_count": 51,
   "metadata": {},
   "outputs": [
    {
     "name": "stdout",
     "output_type": "stream",
     "text": [
      "----------------------------------------------------------------\n",
      "        Layer (type)               Output Shape         Param #\n",
      "================================================================\n",
      "            Linear-1               [-1, 1, 256]         200,960\n",
      "              ReLU-2               [-1, 1, 256]               0\n",
      "            Linear-3               [-1, 1, 128]          32,896\n",
      "              ReLU-4               [-1, 1, 128]               0\n",
      "            Linear-5                [-1, 1, 10]           1,290\n",
      "================================================================\n",
      "Total params: 235,146\n",
      "Trainable params: 235,146\n",
      "Non-trainable params: 0\n",
      "----------------------------------------------------------------\n",
      "Input size (MB): 0.00\n",
      "Forward/backward pass size (MB): 0.01\n",
      "Params size (MB): 0.90\n",
      "Estimated Total Size (MB): 0.91\n",
      "----------------------------------------------------------------\n"
     ]
    }
   ],
   "source": [
    "summary(model, (1,28*28))"
   ]
  },
  {
   "cell_type": "code",
   "execution_count": 52,
   "metadata": {},
   "outputs": [
    {
     "data": {
      "text/plain": [
       "20"
      ]
     },
     "execution_count": 52,
     "metadata": {},
     "output_type": "execute_result"
    }
   ],
   "source": [
    "batch_size = 128\n",
    "n_iters = 9400\n",
    "num_epochs = n_iters / (len(train_dataset) / batch_size)\n",
    "num_epochs = int(num_epochs)\n",
    "num_epochs"
   ]
  },
  {
   "cell_type": "code",
   "execution_count": 53,
   "metadata": {},
   "outputs": [],
   "source": [
    "criterion = nn.CrossEntropyLoss()\n",
    "\n",
    "learning_rate = 0.001\n",
    "\n",
    "optimizer = torch.optim.SGD(model.parameters(), lr=learning_rate)"
   ]
  },
  {
   "cell_type": "code",
   "execution_count": 54,
   "metadata": {},
   "outputs": [
    {
     "name": "stdout",
     "output_type": "stream",
     "text": [
      "Iteration: 500. Loss: 0.5645390748977661. Accuracy: 79\n",
      "Iteration: 1000. Loss: 0.4668310284614563. Accuracy: 82\n",
      "Iteration: 1500. Loss: 0.39096441864967346. Accuracy: 84\n",
      "Iteration: 2000. Loss: 0.3926777243614197. Accuracy: 83\n",
      "Iteration: 2500. Loss: 0.46455544233322144. Accuracy: 82\n",
      "Iteration: 3000. Loss: 0.4901559054851532. Accuracy: 84\n",
      "Iteration: 3500. Loss: 0.4949910640716553. Accuracy: 84\n",
      "Iteration: 4000. Loss: 0.45636385679244995. Accuracy: 84\n",
      "Iteration: 4500. Loss: 0.1953154355287552. Accuracy: 85\n",
      "Iteration: 5000. Loss: 0.4408266544342041. Accuracy: 85\n",
      "Iteration: 5500. Loss: 0.2603989541530609. Accuracy: 86\n",
      "Iteration: 6000. Loss: 0.32693302631378174. Accuracy: 86\n",
      "Iteration: 6500. Loss: 0.42321231961250305. Accuracy: 86\n",
      "Iteration: 7000. Loss: 0.3262878656387329. Accuracy: 86\n",
      "Iteration: 7500. Loss: 0.37363025546073914. Accuracy: 85\n",
      "Iteration: 8000. Loss: 0.206478551030159. Accuracy: 86\n",
      "Iteration: 8500. Loss: 0.34604400396347046. Accuracy: 86\n",
      "Iteration: 9000. Loss: 0.2378949224948883. Accuracy: 86\n",
      "Iteration: 9500. Loss: 0.28345608711242676. Accuracy: 87\n",
      "Iteration: 10000. Loss: 0.2744821310043335. Accuracy: 86\n",
      "Iteration: 10500. Loss: 0.23234140872955322. Accuracy: 86\n",
      "Iteration: 11000. Loss: 0.24716214835643768. Accuracy: 86\n",
      "Iteration: 11500. Loss: 0.3012205958366394. Accuracy: 87\n",
      "Iteration: 12000. Loss: 0.14430226385593414. Accuracy: 86\n"
     ]
    }
   ],
   "source": [
    "# Train the model\n",
    "\n",
    "train_loss = []\n",
    "train_accuracy = []\n",
    "\n",
    "iter = 0\n",
    "for epoch in range(num_epochs):\n",
    "    \n",
    "    '''\n",
    "    One iteration\n",
    "    '''\n",
    "    # Calculate Accuracy         \n",
    "    correct_1 = 0\n",
    "    total_1 = 0\n",
    "    for i, (images, labels) in enumerate(train_loader):\n",
    "        #######################\n",
    "        #  USE GPU FOR MODEL  #\n",
    "        #######################\n",
    "        if torch.cuda.is_available():\n",
    "            images = Variable(images.view(-1, 28*28).cuda())\n",
    "            labels = Variable(labels.cuda())\n",
    "        else:\n",
    "            images = Variable(images.view(-1, 28*28))\n",
    "            labels = Variable(labels)\n",
    "        \n",
    "        # Forward pass to get output/logits\n",
    "        outputs = model(images)\n",
    "        \n",
    "        '''\n",
    "        Save accuracy to draw accuracy curve\n",
    "        '''\n",
    "        # Get predictions from the maximum value\n",
    "        _, predicted = torch.max(outputs.data, 1)\n",
    "                \n",
    "        # Total number of labels\n",
    "        total_1 += labels.size(0)\n",
    "           \n",
    "        #######################\n",
    "        #  USE GPU FOR MODEL  #\n",
    "        #######################\n",
    "        # Total correct predictions\n",
    "        if torch.cuda.is_available():\n",
    "                    correct_1 += (predicted.cpu() == labels.cpu()).sum() # because .sum() function does not work on GPU\n",
    "        else:                \n",
    "                    correct_1 += (predicted == labels).sum()\n",
    "            \n",
    "        accuracy = 100 * correct_1 // total_1\n",
    "        train_accuracy.append(accuracy)\n",
    "        ''''''\n",
    "        \n",
    "        \n",
    "        # Clear gradients w.r.t. parameters\n",
    "        optimizer.zero_grad()\n",
    "        \n",
    "        # Calculate Loss: softmax --> cross entropy loss\n",
    "        loss = criterion(outputs, labels)\n",
    "        \n",
    "        \n",
    "        '''\n",
    "        Save loss to draw accuracy curve\n",
    "        '''\n",
    "        train_loss.append(loss)\n",
    "        ''''''\n",
    "        \n",
    "        \n",
    "        # Getting gradients w.r.t. parameters\n",
    "        loss.backward()\n",
    "        \n",
    "        # Updating parameters\n",
    "        optimizer.step()\n",
    "        ''''''\n",
    "        \n",
    "        iter += 1\n",
    "    \n",
    "        # Testing the model\n",
    "        if iter % 500 == 0:\n",
    "            # Calculate Accuracy         \n",
    "            correct = 0\n",
    "            total = 0\n",
    "            # Iterate through test dataset\n",
    "            for images, labels in test_loader:\n",
    "                #######################\n",
    "                #  USE GPU FOR MODEL  #\n",
    "                #######################\n",
    "                if torch.cuda.is_available():\n",
    "                    images = Variable(images.view(-1, 28*28).cuda())\n",
    "                else:\n",
    "                    images = Variable(images.view(-1, 28*28))    \n",
    "                    \n",
    "                # Forward pass only to get logits/output\n",
    "                outputs = model(images)\n",
    "                \n",
    "                # Get predictions from the maximum value\n",
    "                _, predicted = torch.max(outputs.data, 1)\n",
    "                \n",
    "                # Total number of labels\n",
    "                total += labels.size(0)\n",
    "           \n",
    "                #######################\n",
    "                #  USE GPU FOR MODEL  #\n",
    "                #######################\n",
    "                # Total correct predictions\n",
    "                if torch.cuda.is_available():\n",
    "                    correct += (predicted.cpu() == labels.cpu()).sum() # because .sum() function does not work on GPU\n",
    "                else:                \n",
    "                    correct += (predicted == labels).sum()\n",
    "            \n",
    "            accuracy = 100 * correct // total\n",
    "            \n",
    "            # Print Loss\n",
    "            print('Iteration: {}. Loss: {}. Accuracy: {}'.format(iter, loss.data, accuracy))\n",
    "            "
   ]
  },
  {
   "cell_type": "code",
   "execution_count": 55,
   "metadata": {},
   "outputs": [
    {
     "data": {
      "image/png": "[encoded data removed]",
      "text/plain": [
       "<Figure size 576x360 with 1 Axes>"
      ]
     },
     "metadata": {
      "needs_background": "light"
     },
     "output_type": "display_data"
    },
    {
     "data": {
      "image/png": "[encoded data removed]",
      "text/plain": [
       "<Figure size 576x360 with 1 Axes>"
      ]
     },
     "metadata": {
      "needs_background": "light"
     },
     "output_type": "display_data"
    }
   ],
   "source": [
    "#Plots the loss and accuracy curves\n",
    "\n",
    "plt.figure(figsize=(8,5))\n",
    "plt.plot(range(len(train_loss)), train_loss)\n",
    "plt.xlabel(\"Iteration\")\n",
    "plt.ylabel(\"Cross entropy loss\")\n",
    "plt.title(\"Loss curve for training\")\n",
    "plt.show()\n",
    "\n",
    "plt.figure(figsize=(8,5))\n",
    "plt.plot(range(len(train_accuracy)), train_accuracy, c='r')\n",
    "plt.xlabel(\"Iteration\")\n",
    "plt.ylabel(\"Accuracy\")\n",
    "plt.title(\"Accuracy curve for training\")\n",
    "plt.show()"
   ]
  },
  {
   "cell_type": "code",
   "execution_count": 56,
   "metadata": {},
   "outputs": [],
   "source": [
    "save_model = True\n",
    "if save_model is True:\n",
    "    torch.save(model.state_dict(), path+\"\\\\FNN_pytorch_6_layer_fashion-mnist.pkl\")# only save parameters"
   ]
  }
 ],
 "metadata": {
  "kernelspec": {
   "display_name": "Python 3",
   "language": "python",
   "name": "python3"
  },
  "language_info": {
   "codemirror_mode": {
    "name": "ipython",
    "version": 3
   },
   "file_extension": ".py",
   "mimetype": "text/x-python",
   "name": "python",
   "nbconvert_exporter": "python",
   "pygments_lexer": "ipython3",
   "version": "3.8.5"
  }
 },
 "nbformat": 4,
 "nbformat_minor": 4
}
