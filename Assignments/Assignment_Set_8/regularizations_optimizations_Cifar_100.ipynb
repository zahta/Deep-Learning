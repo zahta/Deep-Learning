{
  "nbformat": 4,
  "nbformat_minor": 0,
  "metadata": {
    "accelerator": "GPU",
    "colab": {
      "name": "regularizations_optimizations_Cifar_100.ipynb",
      "provenance": [],
      "collapsed_sections": []
    },
    "kernelspec": {
      "display_name": "Python 3",
      "language": "python",
      "name": "python3"
    },
    "language_info": {
      "codemirror_mode": {
        "name": "ipython",
        "version": 3
      },
      "file_extension": ".py",
      "mimetype": "text/x-python",
      "name": "python",
      "nbconvert_exporter": "python",
      "pygments_lexer": "ipython3",
      "version": "3.8.5"
    }
  },
  "cells": [
    {
      "cell_type": "markdown",
      "metadata": {
        "id": "zaZjtMXttkrB"
      },
      "source": [
        "# Some regularizations and optimization algorithms on [CIFAR-100](https://www.cs.toronto.edu/~kriz/cifar.html) dataset\n",
        "By [Zahra Taheri](https://github.com/zahta), November 27, 2020"
      ]
    },
    {
      "cell_type": "markdown",
      "metadata": {
        "id": "nAP9kgMzcB-6"
      },
      "source": [
        "### Preperation for Google colab"
      ]
    },
    {
      "cell_type": "code",
      "metadata": {
        "colab": {
          "base_uri": "https://localhost:8080/"
        },
        "id": "IwPpfl5z0mQT",
        "outputId": "e4f0ac53-c42c-48d9-d595-108fbe6af18f"
      },
      "source": [
        "from google.colab import drive\n",
        "drive.mount('/content/drive')"
      ],
      "execution_count": 1,
      "outputs": [
        {
          "output_type": "stream",
          "text": [
            "Mounted at /content/drive\n"
          ],
          "name": "stdout"
        }
      ]
    },
    {
      "cell_type": "code",
      "metadata": {
        "id": "Zg41tyStjIBj",
        "colab": {
          "base_uri": "https://localhost:8080/"
        },
        "outputId": "83faf52b-9bb6-4844-e3c5-e10aa1f75067"
      },
      "source": [
        "#unzip dataset files from google drive to content folder in colab\n",
        "\n",
        "import os\n",
        "\n",
        "if os.path.exists(\"/content/cifar-100-python/\")==False:\n",
        "    print(\"unzip files!\")\n",
        "    !unzip -q \"/content/drive/My Drive/cifar-100.zip\""
      ],
      "execution_count": 2,
      "outputs": [
        {
          "output_type": "stream",
          "text": [
            "unzip files!\n"
          ],
          "name": "stdout"
        }
      ]
    },
    {
      "cell_type": "markdown",
      "metadata": {
        "id": "9wRIHBpJcB_E"
      },
      "source": [
        "### Import libraries"
      ]
    },
    {
      "cell_type": "code",
      "metadata": {
        "id": "9TnhxlXYcB_E"
      },
      "source": [
        "import numpy as np\n",
        "import pandas as pd\n",
        "import time\n",
        "import torch\n",
        "import torch.nn as nn\n",
        "import torch.nn.functional as F\n",
        "from torch.autograd import Variable\n",
        "from torchsummary import summary\n",
        "\n",
        "import matplotlib as mpl\n",
        "import matplotlib.pyplot as plt\n",
        "\n",
        "import os\n",
        "\n",
        "import warnings\n",
        "warnings.filterwarnings('ignore')\n",
        "\n",
        "# Set the seeds to ensure reproducibility\n",
        "np.random.seed(1)\n",
        "torch.manual_seed(1)\n",
        "\n",
        "import pickle"
      ],
      "execution_count": 3,
      "outputs": []
    },
    {
      "cell_type": "markdown",
      "metadata": {
        "id": "IsTi1vYzcB_H"
      },
      "source": [
        "## Loading CIFAR-100"
      ]
    },
    {
      "cell_type": "code",
      "metadata": {
        "id": "Pax-TndOcB_I"
      },
      "source": [
        "def get_proper_images(raw):\n",
        "    raw_float = np.array(raw, dtype=float) \n",
        "    images = raw_float.reshape([-1, 3, 32, 32])\n",
        "    images = images.transpose([0, 2, 3, 1])\n",
        "    return images.astype(int)\n",
        "\n",
        "#def onehot_labels(labels):\n",
        "#    return np.eye(100)[labels]\n",
        "\n",
        "def unpickle(file):\n",
        "    with open(file, 'rb') as fo:\n",
        "        dict = pickle.load(fo, encoding='bytes')\n",
        "    return dict"
      ],
      "execution_count": 4,
      "outputs": []
    },
    {
      "cell_type": "code",
      "metadata": {
        "id": "rp5LwuVrcB_M"
      },
      "source": [
        "train_data=get_proper_images(unpickle('cifar-100-python/train')[b'data'])\n",
        "#train_labels=onehot_labels(unpickle('cifar-100-python/train')[b'fine_labels'])\n",
        "train_labels=unpickle('cifar-100-python/train')[b'fine_labels']\n",
        "test_data=get_proper_images(unpickle('cifar-100-python/test')[b'data'])\n",
        "#test_labels=onehot_labels(unpickle('cifar-100-python/test')[b'fine_labels'])\n",
        "test_labels=unpickle('cifar-100-python/test')[b'fine_labels']"
      ],
      "execution_count": 5,
      "outputs": []
    },
    {
      "cell_type": "code",
      "metadata": {
        "colab": {
          "base_uri": "https://localhost:8080/",
          "height": 252
        },
        "id": "rFWROaojcB_P",
        "outputId": "1d038f47-de03-4920-ee71-f090badb5b9c"
      },
      "source": [
        "# display some random training images in a grid\n",
        "num_plot = 5\n",
        "f, ax = plt.subplots(num_plot, num_plot)\n",
        "for m in range(num_plot):\n",
        "    for n in range(num_plot):\n",
        "        idx = np.random.randint(0, train_data.shape[0])\n",
        "        ax[m, n].imshow(train_data[idx])\n",
        "        ax[m, n].get_xaxis().set_visible(False)\n",
        "        ax[m, n].get_yaxis().set_visible(False)\n",
        "f.subplots_adjust(hspace=0.1)\n",
        "f.subplots_adjust(wspace=0)\n",
        "plt.show()"
      ],
      "execution_count": 6,
      "outputs": [
        {
          "output_type": "display_data",
          "data": {
            "image/png": "[encoded data removed]",
            "text/plain": [
              "<Figure size 432x288 with 25 Axes>"
            ]
          },
          "metadata": {
            "tags": [],
            "needs_background": "light"
          }
        }
      ]
    },
    {
      "cell_type": "markdown",
      "metadata": {
        "id": "3s5fAfkYxLYp"
      },
      "source": [
        "## Preparation of the dataset"
      ]
    },
    {
      "cell_type": "code",
      "metadata": {
        "id": "moLtLylF--pn"
      },
      "source": [
        "#some_digit = train_data[0]\n",
        "#some_digit_image = some_digit\n",
        "#plt.imshow(some_digit_image, cmap = matplotlib.cm.binary)\n",
        "#plt.axis(\"off\")\n",
        "#plt.show()"
      ],
      "execution_count": 7,
      "outputs": []
    },
    {
      "cell_type": "code",
      "metadata": {
        "id": "TkPRXKZ68ps2"
      },
      "source": [
        "#nsamples, a,b,c = train_data.shape\n",
        "#print(train_data.shape)\n",
        "#X_train= train_data.reshape((nsamples,a*b*c))\n",
        "#nsamples2, a2,b2,c2 = test_data.shape\n",
        "#X_test= test_data.reshape((nsamples2,a2*b2*c2))\n",
        "\n",
        "\n",
        "#from sklearn import preprocessing\n",
        "\n",
        "#scale = preprocessing.MinMaxScaler()\n",
        "#X_train = scale.fit_transform(X_train)\n",
        "#X_test = scale.fit_transform(X_test)\n",
        "#print(X_train.shape)\n",
        "\n",
        "#train_data= X_train.reshape((nsamples, a,b,c))\n",
        "#test_data= X_test.reshape((nsamples2, a2,b2,c2))\n",
        "#print(train_data.shape)"
      ],
      "execution_count": 8,
      "outputs": []
    },
    {
      "cell_type": "code",
      "metadata": {
        "id": "wJ1L0HBAjGxk"
      },
      "source": [
        "import torch\n",
        "import numpy as np\n",
        "from torch.utils.data import TensorDataset, DataLoader\n",
        "\n",
        "tensor_x = torch.Tensor(train_data) # transform to torch tensor\n",
        "tensor_y = torch.Tensor(train_labels)\n",
        "tensor_y = tensor_y.type(torch.LongTensor)\n",
        "\n",
        "train_dataset = TensorDataset(tensor_x,tensor_y) # create your dataset"
      ],
      "execution_count": 9,
      "outputs": []
    },
    {
      "cell_type": "code",
      "metadata": {
        "id": "eZCUXWsRjGxt"
      },
      "source": [
        "tensor_x2 = torch.Tensor(test_data) # transform to torch tensor\n",
        "tensor_y2 = torch.Tensor(test_labels)\n",
        "tensor_y2 = tensor_y2.type(torch.LongTensor)\n",
        "\n",
        "test_dataset = TensorDataset(tensor_x2,tensor_y2) # create your datset"
      ],
      "execution_count": 10,
      "outputs": []
    },
    {
      "cell_type": "code",
      "metadata": {
        "colab": {
          "base_uri": "https://localhost:8080/"
        },
        "id": "ynRkeVJyjGx0",
        "outputId": "df0661c8-1301-4943-93c4-167b08272035"
      },
      "source": [
        "tensor_y"
      ],
      "execution_count": 11,
      "outputs": [
        {
          "output_type": "execute_result",
          "data": {
            "text/plain": [
              "tensor([19, 29,  0,  ...,  3,  7, 73])"
            ]
          },
          "metadata": {
            "tags": []
          },
          "execution_count": 11
        }
      ]
    },
    {
      "cell_type": "markdown",
      "metadata": {
        "id": "0Q3zsgW2jGx8"
      },
      "source": [
        "## Building Feedforward Neural Networks with PyTorch"
      ]
    },
    {
      "cell_type": "code",
      "metadata": {
        "id": "zjBZmMz7NEo5"
      },
      "source": [
        "device = torch.device('cuda:0' if torch.cuda.is_available() else 'cpu')"
      ],
      "execution_count": 12,
      "outputs": []
    },
    {
      "cell_type": "code",
      "metadata": {
        "id": "6WkguwSb1JCh"
      },
      "source": [
        "def compute_accuracy(net, data_loader):\n",
        "    correct_pred, num_examples = 0, 0\n",
        "    with torch.no_grad():\n",
        "        for features, targets in data_loader:\n",
        "            features = features.view(-1, 3*32*32).to(device)\n",
        "            targets = targets.to(device)\n",
        "            outputs = net.forward(features)\n",
        "            predicted_labels = torch.argmax(outputs, 1)\n",
        "            num_examples += targets.size(0)\n",
        "            correct_pred += (predicted_labels == targets).sum()\n",
        "        return correct_pred.float()/num_examples * 100        \n",
        "            \n",
        "            \n",
        "\n",
        "def compute_loss(net, data_loader):\n",
        "    curr_loss = 0.\n",
        "    with torch.no_grad():\n",
        "        for cnt, (features, targets) in enumerate(data_loader):\n",
        "            features = features.view(-1, 3*32*32).to(device)\n",
        "            targets = targets.to(device)\n",
        "            outputs = net.forward(features)\n",
        "            loss = criterion(outputs, targets)\n",
        "            curr_loss += loss\n",
        "        return float(curr_loss)/cnt"
      ],
      "execution_count": 13,
      "outputs": []
    },
    {
      "cell_type": "markdown",
      "metadata": {
        "id": "3p2Us_9CNEpO"
      },
      "source": [
        "## Regularizations (Ensemble Methods)"
      ]
    },
    {
      "cell_type": "markdown",
      "metadata": {
        "id": "tloDyTk81JCh"
      },
      "source": [
        "- [Ensembles: the only (almost) free Lunch in Machine Learning](https://towardsdatascience.com/ensembles-the-almost-free-lunch-in-machine-learning-91af7ebe5090)\n",
        "    - Build optimal ensembles of neural networks with PyTorch and NumPy\n",
        "    \n",
        "    \n",
        "- [Bagging and Dropout Learning](https://jrodthoughts.medium.com/bagging-and-dropout-learning-ae484023b0da)"
      ]
    },
    {
      "cell_type": "markdown",
      "metadata": {
        "id": "C9UvWqB41JCh"
      },
      "source": [
        "### Dropout: Ensemble Method Interpretation\n",
        "**Reference:** [Regularization by Sebastian Raschka](https://sebastianraschka.com/pdf/lecture-notes/stat479ss19/L10_regularization_slides.pdf)\n",
        "\n",
        "- In DL, we typically don't do regular ensembling (majority vote over a large number of networks, bagging, etc.) because it is very expensive to fit neural nets.\n",
        "- However, we know that the squared error for a prediction by a randomly selected model is larger than the squared error using an ensemble prediction (here, average over class probabilities).\n",
        "- Now, in dropout, we have a different model for each minibatch. \n",
        "- Via the minibatch iterations, we essentially sample over $M=2^h$ models, where h is the number of hidden units.\n",
        "- Restriction is that we have weight sharing over these models, which can be seen as a form of regularization.\n",
        "- During \"inference\" we can then average over all these models (but this is very expensive). \n",
        "- However, using the last model after training and scaling the predictions by a factor 1/(1-p) approximates the geometric mean and is much cheaper (actually, it's exactly the geometric mean if we have a linear model).\n",
        "\n",
        "### Dropout: More Practical Tips\n",
        "\n",
        "- Don't use Dropout if your model does not overfit .\n",
        "- However, in that case above, it is then recommended to increase the capacity to make it overfit, and then use dropout to be able to use a larger capacity model (but make it not overfit).\n",
        "\n"
      ]
    },
    {
      "cell_type": "markdown",
      "metadata": {
        "id": "P_xGYFrsjG0R"
      },
      "source": [
        "### Model A: 3 Hidden Layers Feedforward Neural Network"
      ]
    },
    {
      "cell_type": "markdown",
      "metadata": {
        "id": "3hkihmCtjG0S"
      },
      "source": [
        "#### Make dataset iterable"
      ]
    },
    {
      "cell_type": "code",
      "metadata": {
        "colab": {
          "base_uri": "https://localhost:8080/"
        },
        "id": "vAKel6fnjG0X",
        "outputId": "d59e6cb6-8e24-43ef-9d99-866aa2a8749c"
      },
      "source": [
        "batch_size = 128\n",
        "n_iters = 15000\n",
        "num_epochs = n_iters / (len(train_data) / batch_size)\n",
        "num_epochs = int(num_epochs)\n",
        "print(num_epochs)"
      ],
      "execution_count": 19,
      "outputs": [
        {
          "output_type": "stream",
          "text": [
            "38\n"
          ],
          "name": "stdout"
        }
      ]
    },
    {
      "cell_type": "code",
      "metadata": {
        "id": "OrkSXyTYjG0d"
      },
      "source": [
        "train_loader = DataLoader(train_dataset, batch_size=batch_size, shuffle=True) # create your dataloader\n",
        "\n",
        "test_loader = DataLoader(test_dataset, batch_size=batch_size,  shuffle=False) # create your dataloader"
      ],
      "execution_count": 20,
      "outputs": []
    },
    {
      "cell_type": "markdown",
      "metadata": {
        "id": "Eq-gTJ_SjG0v"
      },
      "source": [
        "### Create model class"
      ]
    },
    {
      "cell_type": "code",
      "metadata": {
        "id": "Dm2oqxA8jG0y"
      },
      "source": [
        "class FeedforwardNeuralNetworkModel(nn.Module):\n",
        "    def __init__(self, input_size, hidden_size1,hidden_size2,hidden_size3, num_classes):\n",
        "        super(FeedforwardNeuralNetworkModel, self).__init__()\n",
        "        # linear function 1\n",
        "        self.fc1 = nn.Linear(input_dim, hidden_dim1)\n",
        "        # non-linearity 1\n",
        "        self.relu1 = nn.ReLU()\n",
        "        \n",
        "        # linear function 2\n",
        "        self.fc2 = nn.Linear(hidden_dim1, hidden_dim2)\n",
        "        self.dropout1 = nn.Dropout(0.25)\n",
        "        # non-linearity 2\n",
        "        self.relu2 = nn.ReLU()\n",
        "        \n",
        "        # linear function 3\n",
        "        self.fc3 = nn.Linear(hidden_dim2, hidden_dim3)\n",
        "        # non-linearity 3\n",
        "        self.relu3 = nn.ReLU()\n",
        "        \n",
        "        # linear function 4 (readout)\n",
        "        self.fc4 = nn.Linear(hidden_dim3, output_dim)\n",
        "        \n",
        "    def forward(self, x):\n",
        "        # linear function 1\n",
        "        out = self.fc1(x)\n",
        "        # non-linearity 1\n",
        "        out = self.relu1(out)\n",
        "        \n",
        "        # linear function 2\n",
        "        out = self.fc2(out)\n",
        "        out = self.dropout1(out)\n",
        "        # non-linearity 2\n",
        "        out = self.relu2(out)\n",
        "        \n",
        "        # linear function 3\n",
        "        out = self.fc3(out)\n",
        "        # non-linearity 3\n",
        "        out = self.relu3(out)\n",
        "        \n",
        "        #linear function 4 (readout)\n",
        "        out = self.fc4(out)\n",
        "        return out       \n",
        "    "
      ],
      "execution_count": 21,
      "outputs": []
    },
    {
      "cell_type": "code",
      "metadata": {
        "id": "F3PSVkvdjG1A"
      },
      "source": [
        "#  Instantiate model class\n",
        "input_dim = 3*32*32\n",
        "output_dim = 100\n",
        "hidden_dim1 = 1700\n",
        "hidden_dim2 = 1500\n",
        "hidden_dim3 = 512 \n",
        "\n",
        "model = FeedforwardNeuralNetworkModel(input_dim, hidden_dim1, hidden_dim2, hidden_dim3, output_dim)\n",
        "\n",
        "#######################\n",
        "#  USE GPU FOR MODEL  #\n",
        "#######################\n",
        "if torch.cuda.is_available():\n",
        "    model.cuda()\n",
        "    "
      ],
      "execution_count": 22,
      "outputs": []
    },
    {
      "cell_type": "code",
      "metadata": {
        "colab": {
          "base_uri": "https://localhost:8080/"
        },
        "id": "q1jMDHfzRSvg",
        "outputId": "a2d5bf15-1c66-4c0f-f946-8d1e6ee0220c"
      },
      "source": [
        "summary(model, (1,3*32*32))"
      ],
      "execution_count": 23,
      "outputs": [
        {
          "output_type": "stream",
          "text": [
            "----------------------------------------------------------------\n",
            "        Layer (type)               Output Shape         Param #\n",
            "================================================================\n",
            "            Linear-1              [-1, 1, 1700]       5,224,100\n",
            "              ReLU-2              [-1, 1, 1700]               0\n",
            "            Linear-3              [-1, 1, 1500]       2,551,500\n",
            "           Dropout-4              [-1, 1, 1500]               0\n",
            "              ReLU-5              [-1, 1, 1500]               0\n",
            "            Linear-6               [-1, 1, 512]         768,512\n",
            "              ReLU-7               [-1, 1, 512]               0\n",
            "            Linear-8               [-1, 1, 100]          51,300\n",
            "================================================================\n",
            "Total params: 8,595,412\n",
            "Trainable params: 8,595,412\n",
            "Non-trainable params: 0\n",
            "----------------------------------------------------------------\n",
            "Input size (MB): 0.01\n",
            "Forward/backward pass size (MB): 0.07\n",
            "Params size (MB): 32.79\n",
            "Estimated Total Size (MB): 32.87\n",
            "----------------------------------------------------------------\n"
          ],
          "name": "stdout"
        }
      ]
    },
    {
      "cell_type": "code",
      "metadata": {
        "id": "TAik2damjG1I"
      },
      "source": [
        "#  Instantiate loss class\n",
        "criterion=nn.CrossEntropyLoss()\n",
        "\n",
        "#  Instantiate optimizer class\n",
        "learning_rate = 0.001\n",
        "LAMBDA = 0.05\n",
        "optimizer = torch.optim.SGD(model.parameters(), lr=learning_rate, weight_decay=LAMBDA)"
      ],
      "execution_count": 24,
      "outputs": []
    },
    {
      "cell_type": "markdown",
      "metadata": {
        "id": "BNczts6hNEp7"
      },
      "source": [
        "#### Train the model"
      ]
    },
    {
      "cell_type": "code",
      "metadata": {
        "id": "0_hlsyDz1JCi",
        "colab": {
          "base_uri": "https://localhost:8080/"
        },
        "outputId": "dad03496-1602-45a4-af26-29735de5db5c"
      },
      "source": [
        "start_time = time.time()\n",
        "minibatch_cost = []\n",
        "epoch_cost = []\n",
        "for epoch in range(num_epochs):\n",
        "    model.train()\n",
        "    for batch_idx, (features, targets) in enumerate(train_loader):\n",
        "        \n",
        "        features = features.view(-1, 3*32*32).to(device)\n",
        "        targets = targets.to(device)    \n",
        "        ### FORWARD AND BACK PROP\n",
        "        outputs = model(features)\n",
        "        \n",
        "        cost = criterion(outputs, targets)\n",
        "        optimizer.zero_grad()\n",
        "        \n",
        "        cost.backward()\n",
        "        minibatch_cost.append(cost)\n",
        "        ### UPDATE MODEL PARAMETERS\n",
        "        optimizer.step()\n",
        "        \n",
        "        ### LOGGING\n",
        "        if not batch_idx % 500:\n",
        "            print ('Epoch: %03d/%03d | Batch %03d/%03d | Cost: %.4f' \n",
        "                   %(epoch+1, num_epochs, batch_idx, \n",
        "                     len(train_loader), cost))\n",
        "       \n",
        "    model.eval()\n",
        "    with torch.no_grad():\n",
        "        cost = compute_loss(model, train_loader)\n",
        "        epoch_cost.append(cost)\n",
        "        print('Epoch: %03d/%03d Train Cost: %.4f' % (\n",
        "                epoch+1, num_epochs, cost))\n",
        "        print('Time elapsed: %.2f min' % ((time.time() - start_time)/60))\n",
        "\n",
        "        \n",
        "model.eval()\n",
        "with torch.no_grad():\n",
        "    print('Total Training Time: %.2f min' % ((time.time() - start_time)/60))\n",
        "\n",
        "    print('Training Accuracy: %.2f' % compute_accuracy(model, train_loader))\n",
        "    print('Test Accuracy: %.2f' % compute_accuracy(model, test_loader))"
      ],
      "execution_count": 25,
      "outputs": [
        {
          "output_type": "stream",
          "text": [
            "Epoch: 001/038 | Batch 000/391 | Cost: 14.1746\n",
            "Epoch: 001/038 Train Cost: 4.0465\n",
            "Time elapsed: 0.06 min\n",
            "Epoch: 002/038 | Batch 000/391 | Cost: 4.1413\n",
            "Epoch: 002/038 Train Cost: 3.8332\n",
            "Time elapsed: 0.11 min\n",
            "Epoch: 003/038 | Batch 000/391 | Cost: 3.9738\n",
            "Epoch: 003/038 Train Cost: 3.6763\n",
            "Time elapsed: 0.16 min\n",
            "Epoch: 004/038 | Batch 000/391 | Cost: 3.6634\n",
            "Epoch: 004/038 Train Cost: 3.5693\n",
            "Time elapsed: 0.22 min\n",
            "Epoch: 005/038 | Batch 000/391 | Cost: 3.7430\n",
            "Epoch: 005/038 Train Cost: 3.4829\n",
            "Time elapsed: 0.27 min\n",
            "Epoch: 006/038 | Batch 000/391 | Cost: 3.5597\n",
            "Epoch: 006/038 Train Cost: 3.4047\n",
            "Time elapsed: 0.32 min\n",
            "Epoch: 007/038 | Batch 000/391 | Cost: 3.3894\n",
            "Epoch: 007/038 Train Cost: 3.3594\n",
            "Time elapsed: 0.38 min\n",
            "Epoch: 008/038 | Batch 000/391 | Cost: 3.3766\n",
            "Epoch: 008/038 Train Cost: 3.3496\n",
            "Time elapsed: 0.43 min\n",
            "Epoch: 009/038 | Batch 000/391 | Cost: 3.3913\n",
            "Epoch: 009/038 Train Cost: 3.2744\n",
            "Time elapsed: 0.49 min\n",
            "Epoch: 010/038 | Batch 000/391 | Cost: 3.2534\n",
            "Epoch: 010/038 Train Cost: 3.2283\n",
            "Time elapsed: 0.54 min\n",
            "Epoch: 011/038 | Batch 000/391 | Cost: 3.2287\n",
            "Epoch: 011/038 Train Cost: 3.1803\n",
            "Time elapsed: 0.59 min\n",
            "Epoch: 012/038 | Batch 000/391 | Cost: 3.2713\n",
            "Epoch: 012/038 Train Cost: 3.1478\n",
            "Time elapsed: 0.65 min\n",
            "Epoch: 013/038 | Batch 000/391 | Cost: 3.0569\n",
            "Epoch: 013/038 Train Cost: 3.1346\n",
            "Time elapsed: 0.70 min\n",
            "Epoch: 014/038 | Batch 000/391 | Cost: 3.2897\n",
            "Epoch: 014/038 Train Cost: 3.0778\n",
            "Time elapsed: 0.75 min\n",
            "Epoch: 015/038 | Batch 000/391 | Cost: 3.4860\n",
            "Epoch: 015/038 Train Cost: 3.0674\n",
            "Time elapsed: 0.81 min\n",
            "Epoch: 016/038 | Batch 000/391 | Cost: 3.2037\n",
            "Epoch: 016/038 Train Cost: 3.0699\n",
            "Time elapsed: 0.86 min\n",
            "Epoch: 017/038 | Batch 000/391 | Cost: 3.1889\n",
            "Epoch: 017/038 Train Cost: 3.0671\n",
            "Time elapsed: 0.91 min\n",
            "Epoch: 018/038 | Batch 000/391 | Cost: 3.1615\n",
            "Epoch: 018/038 Train Cost: 2.9932\n",
            "Time elapsed: 0.97 min\n",
            "Epoch: 019/038 | Batch 000/391 | Cost: 3.2175\n",
            "Epoch: 019/038 Train Cost: 2.9666\n",
            "Time elapsed: 1.02 min\n",
            "Epoch: 020/038 | Batch 000/391 | Cost: 3.3060\n",
            "Epoch: 020/038 Train Cost: 2.9643\n",
            "Time elapsed: 1.08 min\n",
            "Epoch: 021/038 | Batch 000/391 | Cost: 3.0970\n",
            "Epoch: 021/038 Train Cost: 2.9513\n",
            "Time elapsed: 1.13 min\n",
            "Epoch: 022/038 | Batch 000/391 | Cost: 3.0192\n",
            "Epoch: 022/038 Train Cost: 2.9230\n",
            "Time elapsed: 1.18 min\n",
            "Epoch: 023/038 | Batch 000/391 | Cost: 2.8048\n",
            "Epoch: 023/038 Train Cost: 2.9055\n",
            "Time elapsed: 1.24 min\n",
            "Epoch: 024/038 | Batch 000/391 | Cost: 2.7454\n",
            "Epoch: 024/038 Train Cost: 2.8992\n",
            "Time elapsed: 1.29 min\n",
            "Epoch: 025/038 | Batch 000/391 | Cost: 2.9044\n",
            "Epoch: 025/038 Train Cost: 2.9292\n",
            "Time elapsed: 1.35 min\n",
            "Epoch: 026/038 | Batch 000/391 | Cost: 3.0727\n",
            "Epoch: 026/038 Train Cost: 2.8687\n",
            "Time elapsed: 1.40 min\n",
            "Epoch: 027/038 | Batch 000/391 | Cost: 3.0951\n",
            "Epoch: 027/038 Train Cost: 2.8612\n",
            "Time elapsed: 1.46 min\n",
            "Epoch: 028/038 | Batch 000/391 | Cost: 2.9204\n",
            "Epoch: 028/038 Train Cost: 2.8345\n",
            "Time elapsed: 1.51 min\n",
            "Epoch: 029/038 | Batch 000/391 | Cost: 2.9021\n",
            "Epoch: 029/038 Train Cost: 2.8484\n",
            "Time elapsed: 1.56 min\n",
            "Epoch: 030/038 | Batch 000/391 | Cost: 3.0400\n",
            "Epoch: 030/038 Train Cost: 2.8485\n",
            "Time elapsed: 1.62 min\n",
            "Epoch: 031/038 | Batch 000/391 | Cost: 2.7954\n",
            "Epoch: 031/038 Train Cost: 2.8252\n",
            "Time elapsed: 1.67 min\n",
            "Epoch: 032/038 | Batch 000/391 | Cost: 2.8996\n",
            "Epoch: 032/038 Train Cost: 2.8191\n",
            "Time elapsed: 1.72 min\n",
            "Epoch: 033/038 | Batch 000/391 | Cost: 2.8993\n",
            "Epoch: 033/038 Train Cost: 2.8019\n",
            "Time elapsed: 1.78 min\n",
            "Epoch: 034/038 | Batch 000/391 | Cost: 2.9794\n",
            "Epoch: 034/038 Train Cost: 2.7791\n",
            "Time elapsed: 1.83 min\n",
            "Epoch: 035/038 | Batch 000/391 | Cost: 2.7157\n",
            "Epoch: 035/038 Train Cost: 2.8043\n",
            "Time elapsed: 1.88 min\n",
            "Epoch: 036/038 | Batch 000/391 | Cost: 3.0150\n",
            "Epoch: 036/038 Train Cost: 2.7802\n",
            "Time elapsed: 1.94 min\n",
            "Epoch: 037/038 | Batch 000/391 | Cost: 2.8213\n",
            "Epoch: 037/038 Train Cost: 2.7783\n",
            "Time elapsed: 1.99 min\n",
            "Epoch: 038/038 | Batch 000/391 | Cost: 2.7777\n",
            "Epoch: 038/038 Train Cost: 2.7685\n",
            "Time elapsed: 2.04 min\n",
            "Total Training Time: 2.04 min\n",
            "Training Accuracy: 32.77\n",
            "Test Accuracy: 25.46\n"
          ],
          "name": "stdout"
        }
      ]
    },
    {
      "cell_type": "code",
      "metadata": {
        "id": "ZId0EZvqNEp-",
        "colab": {
          "base_uri": "https://localhost:8080/",
          "height": 350
        },
        "outputId": "da09ca2d-3707-4a5b-b330-850bf2e03965"
      },
      "source": [
        "#Plot the loss curve\n",
        "\n",
        "plt.figure(figsize=(8,5))\n",
        "plt.plot(range(len(epoch_cost)), epoch_cost)\n",
        "plt.xlabel(\"Epoch\")\n",
        "plt.ylabel(\"Cross entropy loss\")\n",
        "plt.title(\"Loss of training\")\n",
        "plt.show()"
      ],
      "execution_count": 27,
      "outputs": [
        {
          "output_type": "display_data",
          "data": {
            "image/png": "[encoded data removed]",
            "text/plain": [
              "<Figure size 576x360 with 1 Axes>"
            ]
          },
          "metadata": {
            "tags": [],
            "needs_background": "light"
          }
        }
      ]
    },
    {
      "cell_type": "markdown",
      "metadata": {
        "id": "bKnTxM5ZjG2K"
      },
      "source": [
        "### Model B: 7 Hidden Layers Feedforward Neural Network"
      ]
    },
    {
      "cell_type": "markdown",
      "metadata": {
        "id": "CP7xDfIIpgB1"
      },
      "source": [
        "#### Make dataset iterable"
      ]
    },
    {
      "cell_type": "code",
      "metadata": {
        "colab": {
          "base_uri": "https://localhost:8080/"
        },
        "id": "7p3qMYU9pgB5",
        "outputId": "4b47178f-e3b0-47c9-b6a7-0d9a49a20ea5"
      },
      "source": [
        "batch_size = 128\n",
        "n_iters = 30000\n",
        "num_epochs = n_iters / (len(train_data) / batch_size)\n",
        "num_epochs = int(num_epochs)\n",
        "print(num_epochs)"
      ],
      "execution_count": 28,
      "outputs": [
        {
          "output_type": "stream",
          "text": [
            "76\n"
          ],
          "name": "stdout"
        }
      ]
    },
    {
      "cell_type": "code",
      "metadata": {
        "id": "cG5tXmXYpgCE"
      },
      "source": [
        "train_loader = DataLoader(train_dataset, batch_size=batch_size, shuffle=True) # create your dataloader\n",
        "\n",
        "test_loader = DataLoader(test_dataset, batch_size=batch_size,  shuffle=False) # create your dataloader"
      ],
      "execution_count": 29,
      "outputs": []
    },
    {
      "cell_type": "markdown",
      "metadata": {
        "id": "SIleXb2ajG3A"
      },
      "source": [
        "### Create model class"
      ]
    },
    {
      "cell_type": "code",
      "metadata": {
        "id": "NzHZrtSDjG3B"
      },
      "source": [
        "class FeedforwardNeuralNetworkModel(nn.Module):\n",
        "    def __init__(self, input_size, hidden_size1,hidden_size2,hidden_size3,hidden_size4,hidden_size5,hidden_size6,hidden_size7, num_classes):\n",
        "        super(FeedforwardNeuralNetworkModel, self).__init__()\n",
        "        # linear function 1\n",
        "        self.fc1 = nn.Linear(input_dim, hidden_dim1)\n",
        "        # non-linearity 1\n",
        "        self.relu1 = nn.ReLU()\n",
        "        \n",
        "        # linear function 2\n",
        "        self.fc2 = nn.Linear(hidden_dim1, hidden_dim2)\n",
        "        # non-linearity 2\n",
        "        self.relu2 = nn.ReLU()\n",
        "        self.dropout1 = nn.Dropout(0.3)\n",
        "        \n",
        "        # linear function 3\n",
        "        self.fc3 = nn.Linear(hidden_dim2, hidden_dim3)\n",
        "        # non-linearity 3\n",
        "        self.relu3 = nn.ReLU()\n",
        "        \n",
        "        # linear function 4\n",
        "        self.fc4 = nn.Linear(hidden_dim3, hidden_dim4)\n",
        "        self.dropout2 = nn.Dropout(0.25)\n",
        "        # non-linearity 4\n",
        "        self.relu4 = nn.ReLU()\n",
        "        \n",
        "        # linear function 5\n",
        "        self.fc5 = nn.Linear(hidden_dim4, hidden_dim5)\n",
        "        # non-linearity 5\n",
        "        self.relu5 = nn.ReLU()\n",
        "\n",
        "        # linear function 6\n",
        "        self.fc6 = nn.Linear(hidden_dim5, hidden_dim6)\n",
        "        # non-linearity 6\n",
        "        self.relu6 = nn.ReLU()\n",
        "        \n",
        "        # linear function 7\n",
        "        self.fc7 = nn.Linear(hidden_dim6, hidden_dim7)\n",
        "        # non-linearity 7\n",
        "        self.relu7 = nn.ReLU()\n",
        "        \n",
        "        # linear function 8 (readout)\n",
        "        self.fc8 = nn.Linear(hidden_dim7, output_dim)\n",
        "        \n",
        "    def forward(self, x):\n",
        "        # linear function 1\n",
        "        out = self.fc1(x)\n",
        "        # non-linearity 1\n",
        "        out = self.relu1(out)\n",
        "        \n",
        "        # linear function 2\n",
        "        out = self.fc2(out)\n",
        "        # non-linearity 2\n",
        "        out = self.relu2(out)\n",
        "        out = self.dropout1(out)\n",
        "        \n",
        "        # linear function 3\n",
        "        out = self.fc3(out)\n",
        "        # non-linearity 3\n",
        "        out = self.relu3(out)\n",
        "        \n",
        "        # linear function 4\n",
        "        out = self.fc4(out)\n",
        "        out = self.dropout2(out)\n",
        "        # non-linearity 4\n",
        "        out = self.relu4(out)\n",
        "        \n",
        "        # linear function 5\n",
        "        out = self.fc5(out)\n",
        "        # non-linearity 5\n",
        "        out = self.relu5(out)\n",
        "\n",
        "        # linear function 6\n",
        "        out = self.fc6(out)\n",
        "        # non-linearity 6\n",
        "        out = self.relu6(out)\n",
        "        \n",
        "        # linear function 7\n",
        "        out = self.fc7(out)\n",
        "        # non-linearity 7\n",
        "        out = self.relu7(out)\n",
        "        \n",
        "        #linear function 8 (readout)\n",
        "        out = self.fc8(out)\n",
        "        return out       \n",
        "    "
      ],
      "execution_count": 30,
      "outputs": []
    },
    {
      "cell_type": "code",
      "metadata": {
        "id": "CRiF5DtbjG3P"
      },
      "source": [
        "#  Instantiate model class\n",
        "input_dim = 3*32*32\n",
        "output_dim = 100\n",
        "hidden_dim1 = 1700\n",
        "hidden_dim2 = 1500\n",
        "hidden_dim3 = 1024\n",
        "hidden_dim4 = 512\n",
        "hidden_dim5 = 200\n",
        "hidden_dim6 = 200\n",
        "hidden_dim7 = 200\n",
        "\n",
        "model = FeedforwardNeuralNetworkModel(input_dim, hidden_dim1, hidden_dim2, hidden_dim3, hidden_dim4, hidden_dim5, hidden_dim6, hidden_dim7, output_dim)\n",
        "\n",
        "#######################\n",
        "#  USE GPU FOR MODEL  #\n",
        "#######################\n",
        "if torch.cuda.is_available():\n",
        "    model.cuda()\n",
        "    "
      ],
      "execution_count": 31,
      "outputs": []
    },
    {
      "cell_type": "code",
      "metadata": {
        "colab": {
          "base_uri": "https://localhost:8080/"
        },
        "id": "FphIh-g8Ra6p",
        "outputId": "8b94b0c2-00c7-4dc3-9dfb-0fe3f82504b9"
      },
      "source": [
        "summary(model, (1,3*32*32))"
      ],
      "execution_count": 32,
      "outputs": [
        {
          "output_type": "stream",
          "text": [
            "----------------------------------------------------------------\n",
            "        Layer (type)               Output Shape         Param #\n",
            "================================================================\n",
            "            Linear-1              [-1, 1, 1700]       5,224,100\n",
            "              ReLU-2              [-1, 1, 1700]               0\n",
            "            Linear-3              [-1, 1, 1500]       2,551,500\n",
            "              ReLU-4              [-1, 1, 1500]               0\n",
            "           Dropout-5              [-1, 1, 1500]               0\n",
            "            Linear-6              [-1, 1, 1024]       1,537,024\n",
            "              ReLU-7              [-1, 1, 1024]               0\n",
            "            Linear-8               [-1, 1, 512]         524,800\n",
            "           Dropout-9               [-1, 1, 512]               0\n",
            "             ReLU-10               [-1, 1, 512]               0\n",
            "           Linear-11               [-1, 1, 200]         102,600\n",
            "             ReLU-12               [-1, 1, 200]               0\n",
            "           Linear-13               [-1, 1, 200]          40,200\n",
            "             ReLU-14               [-1, 1, 200]               0\n",
            "           Linear-15               [-1, 1, 200]          40,200\n",
            "             ReLU-16               [-1, 1, 200]               0\n",
            "           Linear-17               [-1, 1, 100]          20,100\n",
            "================================================================\n",
            "Total params: 10,040,524\n",
            "Trainable params: 10,040,524\n",
            "Non-trainable params: 0\n",
            "----------------------------------------------------------------\n",
            "Input size (MB): 0.01\n",
            "Forward/backward pass size (MB): 0.10\n",
            "Params size (MB): 38.30\n",
            "Estimated Total Size (MB): 38.41\n",
            "----------------------------------------------------------------\n"
          ],
          "name": "stdout"
        }
      ]
    },
    {
      "cell_type": "code",
      "metadata": {
        "id": "WLP_mT3fjG3U"
      },
      "source": [
        "#  Instantiate loss class\n",
        "criterion=nn.CrossEntropyLoss()\n",
        "\n",
        "#  Instantiate optimizer class\n",
        "learning_rate = 0.01\n",
        "LAMBDA = 0.001\n",
        "optimizer = torch.optim.SGD(model.parameters(), lr=learning_rate, weight_decay=LAMBDA, momentum=0.9)"
      ],
      "execution_count": 33,
      "outputs": []
    },
    {
      "cell_type": "markdown",
      "metadata": {
        "id": "0JYZLZznLogi"
      },
      "source": [
        "#### Train the model"
      ]
    },
    {
      "cell_type": "code",
      "metadata": {
        "colab": {
          "base_uri": "https://localhost:8080/"
        },
        "id": "tQoyOvKYLogi",
        "outputId": "6e382bc4-5787-49f7-92d2-8b4e4e22f532"
      },
      "source": [
        "start_time = time.time()\n",
        "minibatch_cost = []\n",
        "epoch_cost = []\n",
        "for epoch in range(num_epochs):\n",
        "    model.train()\n",
        "    for batch_idx, (features, targets) in enumerate(train_loader):\n",
        "        \n",
        "        features = features.view(-1, 3*32*32).to(device)\n",
        "        targets = targets.to(device)    \n",
        "        ### FORWARD AND BACK PROP\n",
        "        outputs = model(features)\n",
        "        \n",
        "        cost = criterion(outputs, targets)\n",
        "        optimizer.zero_grad()\n",
        "        \n",
        "        cost.backward()\n",
        "        minibatch_cost.append(cost)\n",
        "        ### UPDATE MODEL PARAMETERS\n",
        "        optimizer.step()\n",
        "        \n",
        "        ### LOGGING\n",
        "        if not batch_idx % 500:\n",
        "            print ('Epoch: %03d/%03d | Batch %03d/%03d | Cost: %.4f' \n",
        "                   %(epoch+1, num_epochs, batch_idx, \n",
        "                     len(train_loader), cost))\n",
        "       \n",
        "    model.eval()\n",
        "    with torch.no_grad():\n",
        "        cost = compute_loss(model, train_loader)\n",
        "        epoch_cost.append(cost)\n",
        "        print('Epoch: %03d/%03d Train Cost: %.4f' % (\n",
        "                epoch+1, num_epochs, cost))\n",
        "        print('Time elapsed: %.2f min' % ((time.time() - start_time)/60))\n",
        "\n",
        "        \n",
        "model.eval()\n",
        "with torch.no_grad():\n",
        "    print('Total Training Time: %.2f min' % ((time.time() - start_time)/60))\n",
        "\n",
        "    print('Training Accuracy: %.2f' % compute_accuracy(model, train_loader))\n",
        "    print('Test Accuracy: %.2f' % compute_accuracy(model, test_loader))"
      ],
      "execution_count": 34,
      "outputs": [
        {
          "output_type": "stream",
          "text": [
            "Epoch: 001/076 | Batch 000/391 | Cost: 4.6445\n",
            "Epoch: 001/076 Train Cost: 4.0749\n",
            "Time elapsed: 0.07 min\n",
            "Epoch: 002/076 | Batch 000/391 | Cost: 4.0183\n",
            "Epoch: 002/076 Train Cost: 3.9491\n",
            "Time elapsed: 0.14 min\n",
            "Epoch: 003/076 | Batch 000/391 | Cost: 3.9197\n",
            "Epoch: 003/076 Train Cost: 3.8546\n",
            "Time elapsed: 0.20 min\n",
            "Epoch: 004/076 | Batch 000/391 | Cost: 3.8693\n",
            "Epoch: 004/076 Train Cost: 3.8028\n",
            "Time elapsed: 0.27 min\n",
            "Epoch: 005/076 | Batch 000/391 | Cost: 3.8342\n",
            "Epoch: 005/076 Train Cost: 3.7165\n",
            "Time elapsed: 0.34 min\n",
            "Epoch: 006/076 | Batch 000/391 | Cost: 3.7591\n",
            "Epoch: 006/076 Train Cost: 3.6347\n",
            "Time elapsed: 0.40 min\n",
            "Epoch: 007/076 | Batch 000/391 | Cost: 3.7256\n",
            "Epoch: 007/076 Train Cost: 3.5721\n",
            "Time elapsed: 0.47 min\n",
            "Epoch: 008/076 | Batch 000/391 | Cost: 3.5291\n",
            "Epoch: 008/076 Train Cost: 3.5494\n",
            "Time elapsed: 0.54 min\n",
            "Epoch: 009/076 | Batch 000/391 | Cost: 3.3573\n",
            "Epoch: 009/076 Train Cost: 3.4778\n",
            "Time elapsed: 0.61 min\n",
            "Epoch: 010/076 | Batch 000/391 | Cost: 3.5537\n",
            "Epoch: 010/076 Train Cost: 3.5194\n",
            "Time elapsed: 0.67 min\n",
            "Epoch: 011/076 | Batch 000/391 | Cost: 3.5115\n",
            "Epoch: 011/076 Train Cost: 3.4336\n",
            "Time elapsed: 0.74 min\n",
            "Epoch: 012/076 | Batch 000/391 | Cost: 3.3244\n",
            "Epoch: 012/076 Train Cost: 3.4338\n",
            "Time elapsed: 0.81 min\n",
            "Epoch: 013/076 | Batch 000/391 | Cost: 3.3051\n",
            "Epoch: 013/076 Train Cost: 3.3310\n",
            "Time elapsed: 0.87 min\n",
            "Epoch: 014/076 | Batch 000/391 | Cost: 3.2719\n",
            "Epoch: 014/076 Train Cost: 3.3116\n",
            "Time elapsed: 0.94 min\n",
            "Epoch: 015/076 | Batch 000/391 | Cost: 3.1992\n",
            "Epoch: 015/076 Train Cost: 3.3667\n",
            "Time elapsed: 1.01 min\n",
            "Epoch: 016/076 | Batch 000/391 | Cost: 3.4997\n",
            "Epoch: 016/076 Train Cost: 3.2441\n",
            "Time elapsed: 1.07 min\n",
            "Epoch: 017/076 | Batch 000/391 | Cost: 3.4395\n",
            "Epoch: 017/076 Train Cost: 3.1600\n",
            "Time elapsed: 1.14 min\n",
            "Epoch: 018/076 | Batch 000/391 | Cost: 3.2802\n",
            "Epoch: 018/076 Train Cost: 3.1569\n",
            "Time elapsed: 1.21 min\n",
            "Epoch: 019/076 | Batch 000/391 | Cost: 3.1372\n",
            "Epoch: 019/076 Train Cost: 3.1278\n",
            "Time elapsed: 1.27 min\n",
            "Epoch: 020/076 | Batch 000/391 | Cost: 3.1297\n",
            "Epoch: 020/076 Train Cost: 3.1686\n",
            "Time elapsed: 1.34 min\n",
            "Epoch: 021/076 | Batch 000/391 | Cost: 3.1305\n",
            "Epoch: 021/076 Train Cost: 3.1262\n",
            "Time elapsed: 1.41 min\n",
            "Epoch: 022/076 | Batch 000/391 | Cost: 3.0253\n",
            "Epoch: 022/076 Train Cost: 3.0514\n",
            "Time elapsed: 1.47 min\n",
            "Epoch: 023/076 | Batch 000/391 | Cost: 3.0074\n",
            "Epoch: 023/076 Train Cost: 3.1647\n",
            "Time elapsed: 1.54 min\n",
            "Epoch: 024/076 | Batch 000/391 | Cost: 2.9963\n",
            "Epoch: 024/076 Train Cost: 3.0737\n",
            "Time elapsed: 1.60 min\n",
            "Epoch: 025/076 | Batch 000/391 | Cost: 3.0876\n",
            "Epoch: 025/076 Train Cost: 3.0084\n",
            "Time elapsed: 1.67 min\n",
            "Epoch: 026/076 | Batch 000/391 | Cost: 3.0382\n",
            "Epoch: 026/076 Train Cost: 3.0135\n",
            "Time elapsed: 1.73 min\n",
            "Epoch: 027/076 | Batch 000/391 | Cost: 3.1846\n",
            "Epoch: 027/076 Train Cost: 3.0578\n",
            "Time elapsed: 1.80 min\n",
            "Epoch: 028/076 | Batch 000/391 | Cost: 3.1170\n",
            "Epoch: 028/076 Train Cost: 2.9813\n",
            "Time elapsed: 1.87 min\n",
            "Epoch: 029/076 | Batch 000/391 | Cost: 3.1342\n",
            "Epoch: 029/076 Train Cost: 3.0398\n",
            "Time elapsed: 1.93 min\n",
            "Epoch: 030/076 | Batch 000/391 | Cost: 3.1588\n",
            "Epoch: 030/076 Train Cost: 2.9182\n",
            "Time elapsed: 2.00 min\n",
            "Epoch: 031/076 | Batch 000/391 | Cost: 2.8462\n",
            "Epoch: 031/076 Train Cost: 2.8845\n",
            "Time elapsed: 2.06 min\n",
            "Epoch: 032/076 | Batch 000/391 | Cost: 2.9952\n",
            "Epoch: 032/076 Train Cost: 2.8358\n",
            "Time elapsed: 2.13 min\n",
            "Epoch: 033/076 | Batch 000/391 | Cost: 2.8431\n",
            "Epoch: 033/076 Train Cost: 2.8846\n",
            "Time elapsed: 2.19 min\n",
            "Epoch: 034/076 | Batch 000/391 | Cost: 2.8914\n",
            "Epoch: 034/076 Train Cost: 2.8774\n",
            "Time elapsed: 2.26 min\n",
            "Epoch: 035/076 | Batch 000/391 | Cost: 2.9876\n",
            "Epoch: 035/076 Train Cost: 2.8126\n",
            "Time elapsed: 2.32 min\n",
            "Epoch: 036/076 | Batch 000/391 | Cost: 2.4591\n",
            "Epoch: 036/076 Train Cost: 2.8842\n",
            "Time elapsed: 2.39 min\n",
            "Epoch: 037/076 | Batch 000/391 | Cost: 2.9393\n",
            "Epoch: 037/076 Train Cost: 2.8624\n",
            "Time elapsed: 2.45 min\n",
            "Epoch: 038/076 | Batch 000/391 | Cost: 3.1733\n",
            "Epoch: 038/076 Train Cost: 2.7810\n",
            "Time elapsed: 2.52 min\n",
            "Epoch: 039/076 | Batch 000/391 | Cost: 2.7220\n",
            "Epoch: 039/076 Train Cost: 2.7413\n",
            "Time elapsed: 2.59 min\n",
            "Epoch: 040/076 | Batch 000/391 | Cost: 2.8117\n",
            "Epoch: 040/076 Train Cost: 2.7871\n",
            "Time elapsed: 2.65 min\n",
            "Epoch: 041/076 | Batch 000/391 | Cost: 2.8261\n",
            "Epoch: 041/076 Train Cost: 2.7136\n",
            "Time elapsed: 2.72 min\n",
            "Epoch: 042/076 | Batch 000/391 | Cost: 2.9988\n",
            "Epoch: 042/076 Train Cost: 2.7119\n",
            "Time elapsed: 2.78 min\n",
            "Epoch: 043/076 | Batch 000/391 | Cost: 2.6520\n",
            "Epoch: 043/076 Train Cost: 2.6601\n",
            "Time elapsed: 2.85 min\n",
            "Epoch: 044/076 | Batch 000/391 | Cost: 2.6112\n",
            "Epoch: 044/076 Train Cost: 2.6453\n",
            "Time elapsed: 2.92 min\n",
            "Epoch: 045/076 | Batch 000/391 | Cost: 2.5401\n",
            "Epoch: 045/076 Train Cost: 2.6558\n",
            "Time elapsed: 2.98 min\n",
            "Epoch: 046/076 | Batch 000/391 | Cost: 2.8634\n",
            "Epoch: 046/076 Train Cost: 2.7171\n",
            "Time elapsed: 3.05 min\n",
            "Epoch: 047/076 | Batch 000/391 | Cost: 2.7711\n",
            "Epoch: 047/076 Train Cost: 2.5169\n",
            "Time elapsed: 3.11 min\n",
            "Epoch: 048/076 | Batch 000/391 | Cost: 2.5676\n",
            "Epoch: 048/076 Train Cost: 2.5912\n",
            "Time elapsed: 3.18 min\n",
            "Epoch: 049/076 | Batch 000/391 | Cost: 2.8477\n",
            "Epoch: 049/076 Train Cost: 2.5717\n",
            "Time elapsed: 3.24 min\n",
            "Epoch: 050/076 | Batch 000/391 | Cost: 2.3600\n",
            "Epoch: 050/076 Train Cost: 2.5330\n",
            "Time elapsed: 3.31 min\n",
            "Epoch: 051/076 | Batch 000/391 | Cost: 2.6193\n",
            "Epoch: 051/076 Train Cost: 2.4994\n",
            "Time elapsed: 3.37 min\n",
            "Epoch: 052/076 | Batch 000/391 | Cost: 2.6459\n",
            "Epoch: 052/076 Train Cost: 2.4573\n",
            "Time elapsed: 3.44 min\n",
            "Epoch: 053/076 | Batch 000/391 | Cost: 2.5932\n",
            "Epoch: 053/076 Train Cost: 2.4472\n",
            "Time elapsed: 3.51 min\n",
            "Epoch: 054/076 | Batch 000/391 | Cost: 2.4500\n",
            "Epoch: 054/076 Train Cost: 2.4068\n",
            "Time elapsed: 3.57 min\n",
            "Epoch: 055/076 | Batch 000/391 | Cost: 2.3430\n",
            "Epoch: 055/076 Train Cost: 2.4163\n",
            "Time elapsed: 3.64 min\n",
            "Epoch: 056/076 | Batch 000/391 | Cost: 2.4520\n",
            "Epoch: 056/076 Train Cost: 2.4099\n",
            "Time elapsed: 3.70 min\n",
            "Epoch: 057/076 | Batch 000/391 | Cost: 2.5282\n",
            "Epoch: 057/076 Train Cost: 2.3818\n",
            "Time elapsed: 3.77 min\n",
            "Epoch: 058/076 | Batch 000/391 | Cost: 2.6366\n",
            "Epoch: 058/076 Train Cost: 2.3921\n",
            "Time elapsed: 3.83 min\n",
            "Epoch: 059/076 | Batch 000/391 | Cost: 2.7364\n",
            "Epoch: 059/076 Train Cost: 2.3688\n",
            "Time elapsed: 3.90 min\n",
            "Epoch: 060/076 | Batch 000/391 | Cost: 2.5065\n",
            "Epoch: 060/076 Train Cost: 2.3756\n",
            "Time elapsed: 3.96 min\n",
            "Epoch: 061/076 | Batch 000/391 | Cost: 2.5983\n",
            "Epoch: 061/076 Train Cost: 2.3418\n",
            "Time elapsed: 4.03 min\n",
            "Epoch: 062/076 | Batch 000/391 | Cost: 2.3644\n",
            "Epoch: 062/076 Train Cost: 2.3026\n",
            "Time elapsed: 4.09 min\n",
            "Epoch: 063/076 | Batch 000/391 | Cost: 2.3382\n",
            "Epoch: 063/076 Train Cost: 2.3133\n",
            "Time elapsed: 4.16 min\n",
            "Epoch: 064/076 | Batch 000/391 | Cost: 2.4548\n",
            "Epoch: 064/076 Train Cost: 2.3053\n",
            "Time elapsed: 4.23 min\n",
            "Epoch: 065/076 | Batch 000/391 | Cost: 2.8069\n",
            "Epoch: 065/076 Train Cost: 2.2958\n",
            "Time elapsed: 4.29 min\n",
            "Epoch: 066/076 | Batch 000/391 | Cost: 2.5774\n",
            "Epoch: 066/076 Train Cost: 2.2813\n",
            "Time elapsed: 4.36 min\n",
            "Epoch: 067/076 | Batch 000/391 | Cost: 2.3179\n",
            "Epoch: 067/076 Train Cost: 2.2409\n",
            "Time elapsed: 4.42 min\n",
            "Epoch: 068/076 | Batch 000/391 | Cost: 2.3375\n",
            "Epoch: 068/076 Train Cost: 2.2274\n",
            "Time elapsed: 4.49 min\n",
            "Epoch: 069/076 | Batch 000/391 | Cost: 2.3168\n",
            "Epoch: 069/076 Train Cost: 2.2588\n",
            "Time elapsed: 4.55 min\n",
            "Epoch: 070/076 | Batch 000/391 | Cost: 2.5996\n",
            "Epoch: 070/076 Train Cost: 2.2463\n",
            "Time elapsed: 4.62 min\n",
            "Epoch: 071/076 | Batch 000/391 | Cost: 2.4427\n",
            "Epoch: 071/076 Train Cost: 2.1743\n",
            "Time elapsed: 4.69 min\n",
            "Epoch: 072/076 | Batch 000/391 | Cost: 2.3955\n",
            "Epoch: 072/076 Train Cost: 2.1744\n",
            "Time elapsed: 4.75 min\n",
            "Epoch: 073/076 | Batch 000/391 | Cost: 2.3171\n",
            "Epoch: 073/076 Train Cost: 2.2248\n",
            "Time elapsed: 4.82 min\n",
            "Epoch: 074/076 | Batch 000/391 | Cost: 2.8675\n",
            "Epoch: 074/076 Train Cost: 2.2165\n",
            "Time elapsed: 4.88 min\n",
            "Epoch: 075/076 | Batch 000/391 | Cost: 2.7037\n",
            "Epoch: 075/076 Train Cost: 2.3662\n",
            "Time elapsed: 4.95 min\n",
            "Epoch: 076/076 | Batch 000/391 | Cost: 2.5789\n",
            "Epoch: 076/076 Train Cost: 2.2498\n",
            "Time elapsed: 5.01 min\n",
            "Total Training Time: 5.01 min\n",
            "Training Accuracy: 41.59\n",
            "Test Accuracy: 23.65\n"
          ],
          "name": "stdout"
        }
      ]
    },
    {
      "cell_type": "code",
      "metadata": {
        "colab": {
          "base_uri": "https://localhost:8080/",
          "height": 350
        },
        "id": "-ngFyj1dLogj",
        "outputId": "ed156e50-052f-4663-9586-267b1e6b7d63"
      },
      "source": [
        "#Plot the loss curve\n",
        "\n",
        "plt.figure(figsize=(8,5))\n",
        "plt.plot(range(len(epoch_cost)), epoch_cost)\n",
        "plt.xlabel(\"Epoch\")\n",
        "plt.ylabel(\"Cross entropy loss\")\n",
        "plt.title(\"Loss of training\")\n",
        "plt.show()"
      ],
      "execution_count": 35,
      "outputs": [
        {
          "output_type": "display_data",
          "data": {
            "image/png": "[encoded data removed]",
            "text/plain": [
              "<Figure size 576x360 with 1 Axes>"
            ]
          },
          "metadata": {
            "tags": [],
            "needs_background": "light"
          }
        }
      ]
    },
    {
      "cell_type": "markdown",
      "metadata": {
        "id": "zI7P2o5cNErL"
      },
      "source": [
        "## **Optimization:** Different optimizers and batch normalization"
      ]
    },
    {
      "cell_type": "markdown",
      "metadata": {
        "id": "hPJd1fysO9oN"
      },
      "source": [
        "## 1. SGD"
      ]
    },
    {
      "cell_type": "markdown",
      "metadata": {
        "id": "Fm8jALrBybKz"
      },
      "source": [
        "### Model A: 3 Hidden Layers Feedforward Neural Network"
      ]
    },
    {
      "cell_type": "markdown",
      "metadata": {
        "id": "lz3o7sY_ybKz"
      },
      "source": [
        "#### Make dataset iterable"
      ]
    },
    {
      "cell_type": "code",
      "metadata": {
        "colab": {
          "base_uri": "https://localhost:8080/"
        },
        "id": "WiBrARrwybK0",
        "outputId": "67a0b93f-dc13-4732-bbb3-1dee7ebe08c4"
      },
      "source": [
        "batch_size = 128\n",
        "n_iters = 15000\n",
        "num_epochs = n_iters / (len(train_data) / batch_size)\n",
        "num_epochs = int(num_epochs)\n",
        "print(num_epochs)"
      ],
      "execution_count": 36,
      "outputs": [
        {
          "output_type": "stream",
          "text": [
            "38\n"
          ],
          "name": "stdout"
        }
      ]
    },
    {
      "cell_type": "code",
      "metadata": {
        "id": "SZqk2l-GybK2"
      },
      "source": [
        "train_loader = DataLoader(train_dataset, batch_size=batch_size, shuffle=True) # create your dataloader\n",
        "\n",
        "test_loader = DataLoader(test_dataset, batch_size=batch_size,  shuffle=False) # create your dataloader"
      ],
      "execution_count": 37,
      "outputs": []
    },
    {
      "cell_type": "markdown",
      "metadata": {
        "id": "xx8d7crxybK3"
      },
      "source": [
        "### Create model class"
      ]
    },
    {
      "cell_type": "code",
      "metadata": {
        "id": "dO7iXmw0ybK3"
      },
      "source": [
        "class FeedforwardNeuralNetworkModel(nn.Module):\n",
        "    def __init__(self, input_size, hidden_size1,hidden_size2,hidden_size3, num_classes):\n",
        "        super(FeedforwardNeuralNetworkModel, self).__init__()\n",
        "        # linear function 1\n",
        "        self.fc1 = nn.Linear(input_dim, hidden_dim1)\n",
        "        # non-linearity 1\n",
        "        self.relu1 = nn.ReLU()\n",
        "        \n",
        "        # linear function 2\n",
        "        self.fc2 = nn.Linear(hidden_dim1, hidden_dim2)\n",
        "        self.dropout1 = nn.Dropout(0.25)\n",
        "        # non-linearity 2\n",
        "        self.relu2 = nn.ReLU()\n",
        "        \n",
        "        # linear function 3\n",
        "        self.fc3 = nn.Linear(hidden_dim2, hidden_dim3)\n",
        "        # non-linearity 3\n",
        "        self.relu3 = nn.ReLU()\n",
        "        \n",
        "        # linear function 4 (readout)\n",
        "        self.fc4 = nn.Linear(hidden_dim3, output_dim)\n",
        "        \n",
        "    def forward(self, x):\n",
        "        # linear function 1\n",
        "        out = self.fc1(x)\n",
        "        # non-linearity 1\n",
        "        out = self.relu1(out)\n",
        "        \n",
        "        # linear function 2\n",
        "        out = self.fc2(out)\n",
        "        out = self.dropout1(out)\n",
        "        # non-linearity 2\n",
        "        out = self.relu2(out)\n",
        "        \n",
        "        # linear function 3\n",
        "        out = self.fc3(out)\n",
        "        # non-linearity 3\n",
        "        out = self.relu3(out)\n",
        "        \n",
        "        #linear function 4 (readout)\n",
        "        out = self.fc4(out)\n",
        "        return out       \n",
        "    "
      ],
      "execution_count": 38,
      "outputs": []
    },
    {
      "cell_type": "code",
      "metadata": {
        "id": "3mHzN__XybK3"
      },
      "source": [
        "#  Instantiate model class\n",
        "input_dim = 3*32*32\n",
        "output_dim = 100\n",
        "hidden_dim1 = 1700\n",
        "hidden_dim2 = 1500\n",
        "hidden_dim3 = 512 \n",
        "\n",
        "model = FeedforwardNeuralNetworkModel(input_dim, hidden_dim1, hidden_dim2, hidden_dim3, output_dim)\n",
        "\n",
        "#######################\n",
        "#  USE GPU FOR MODEL  #\n",
        "#######################\n",
        "if torch.cuda.is_available():\n",
        "    model.cuda()\n",
        "    "
      ],
      "execution_count": 39,
      "outputs": []
    },
    {
      "cell_type": "code",
      "metadata": {
        "colab": {
          "base_uri": "https://localhost:8080/"
        },
        "id": "0pApRPoaybK3",
        "outputId": "a53dbbcf-505b-44e9-beca-6d45a0819369"
      },
      "source": [
        "summary(model, (1,3*32*32))"
      ],
      "execution_count": 40,
      "outputs": [
        {
          "output_type": "stream",
          "text": [
            "----------------------------------------------------------------\n",
            "        Layer (type)               Output Shape         Param #\n",
            "================================================================\n",
            "            Linear-1              [-1, 1, 1700]       5,224,100\n",
            "              ReLU-2              [-1, 1, 1700]               0\n",
            "            Linear-3              [-1, 1, 1500]       2,551,500\n",
            "           Dropout-4              [-1, 1, 1500]               0\n",
            "              ReLU-5              [-1, 1, 1500]               0\n",
            "            Linear-6               [-1, 1, 512]         768,512\n",
            "              ReLU-7               [-1, 1, 512]               0\n",
            "            Linear-8               [-1, 1, 100]          51,300\n",
            "================================================================\n",
            "Total params: 8,595,412\n",
            "Trainable params: 8,595,412\n",
            "Non-trainable params: 0\n",
            "----------------------------------------------------------------\n",
            "Input size (MB): 0.01\n",
            "Forward/backward pass size (MB): 0.07\n",
            "Params size (MB): 32.79\n",
            "Estimated Total Size (MB): 32.87\n",
            "----------------------------------------------------------------\n"
          ],
          "name": "stdout"
        }
      ]
    },
    {
      "cell_type": "code",
      "metadata": {
        "id": "FB4zGC5sybK3"
      },
      "source": [
        "#  Instantiate loss class\n",
        "criterion=nn.CrossEntropyLoss()\n",
        "\n",
        "#  Instantiate optimizer class\n",
        "learning_rate = 0.001\n",
        "LAMBDA = 0.05\n",
        "optimizer = torch.optim.SGD(model.parameters(), lr=learning_rate, weight_decay=LAMBDA)"
      ],
      "execution_count": 41,
      "outputs": []
    },
    {
      "cell_type": "markdown",
      "metadata": {
        "id": "-fKFE11VybK3"
      },
      "source": [
        "#### Train the model"
      ]
    },
    {
      "cell_type": "code",
      "metadata": {
        "colab": {
          "base_uri": "https://localhost:8080/"
        },
        "id": "zJof4yVmybK4",
        "outputId": "3e1ca801-3115-4c76-8e5f-52c671d3cfff"
      },
      "source": [
        "start_time = time.time()\n",
        "minibatch_cost = []\n",
        "epoch_cost = []\n",
        "for epoch in range(num_epochs):\n",
        "    model.train()\n",
        "    for batch_idx, (features, targets) in enumerate(train_loader):\n",
        "        \n",
        "        features = features.view(-1, 3*32*32).to(device)\n",
        "        targets = targets.to(device)    \n",
        "        ### FORWARD AND BACK PROP\n",
        "        outputs = model(features)\n",
        "        \n",
        "        cost = criterion(outputs, targets)\n",
        "        optimizer.zero_grad()\n",
        "        \n",
        "        cost.backward()\n",
        "        minibatch_cost.append(cost)\n",
        "        ### UPDATE MODEL PARAMETERS\n",
        "        optimizer.step()\n",
        "        \n",
        "        ### LOGGING\n",
        "        if not batch_idx % 500:\n",
        "            print ('Epoch: %03d/%03d | Batch %03d/%03d | Cost: %.4f' \n",
        "                   %(epoch+1, num_epochs, batch_idx, \n",
        "                     len(train_loader), cost))\n",
        "       \n",
        "    model.eval()\n",
        "    with torch.no_grad():\n",
        "        cost = compute_loss(model, train_loader)\n",
        "        epoch_cost.append(cost)\n",
        "        print('Epoch: %03d/%03d Train Cost: %.4f' % (\n",
        "                epoch+1, num_epochs, cost))\n",
        "        print('Time elapsed: %.2f min' % ((time.time() - start_time)/60))\n",
        "\n",
        "        \n",
        "model.eval()\n",
        "with torch.no_grad():\n",
        "    print('Total Training Time: %.2f min' % ((time.time() - start_time)/60))\n",
        "\n",
        "    print('Training Accuracy: %.2f' % compute_accuracy(model, train_loader))\n",
        "    print('Test Accuracy: %.2f' % compute_accuracy(model, test_loader))"
      ],
      "execution_count": 42,
      "outputs": [
        {
          "output_type": "stream",
          "text": [
            "Epoch: 001/038 | Batch 000/391 | Cost: 13.7689\n",
            "Epoch: 001/038 Train Cost: 4.0378\n",
            "Time elapsed: 0.06 min\n",
            "Epoch: 002/038 | Batch 000/391 | Cost: 4.2482\n",
            "Epoch: 002/038 Train Cost: 3.8061\n",
            "Time elapsed: 0.12 min\n",
            "Epoch: 003/038 | Batch 000/391 | Cost: 3.9102\n",
            "Epoch: 003/038 Train Cost: 3.6903\n",
            "Time elapsed: 0.17 min\n",
            "Epoch: 004/038 | Batch 000/391 | Cost: 3.9137\n",
            "Epoch: 004/038 Train Cost: 3.5607\n",
            "Time elapsed: 0.22 min\n",
            "Epoch: 005/038 | Batch 000/391 | Cost: 3.7692\n",
            "Epoch: 005/038 Train Cost: 3.4847\n",
            "Time elapsed: 0.28 min\n",
            "Epoch: 006/038 | Batch 000/391 | Cost: 3.4171\n",
            "Epoch: 006/038 Train Cost: 3.4129\n",
            "Time elapsed: 0.33 min\n",
            "Epoch: 007/038 | Batch 000/391 | Cost: 3.4775\n",
            "Epoch: 007/038 Train Cost: 3.3480\n",
            "Time elapsed: 0.39 min\n",
            "Epoch: 008/038 | Batch 000/391 | Cost: 3.1426\n",
            "Epoch: 008/038 Train Cost: 3.3268\n",
            "Time elapsed: 0.44 min\n",
            "Epoch: 009/038 | Batch 000/391 | Cost: 3.3849\n",
            "Epoch: 009/038 Train Cost: 3.2754\n",
            "Time elapsed: 0.49 min\n",
            "Epoch: 010/038 | Batch 000/391 | Cost: 3.4790\n",
            "Epoch: 010/038 Train Cost: 3.2201\n",
            "Time elapsed: 0.55 min\n",
            "Epoch: 011/038 | Batch 000/391 | Cost: 3.1279\n",
            "Epoch: 011/038 Train Cost: 3.1747\n",
            "Time elapsed: 0.60 min\n",
            "Epoch: 012/038 | Batch 000/391 | Cost: 3.4256\n",
            "Epoch: 012/038 Train Cost: 3.1816\n",
            "Time elapsed: 0.65 min\n",
            "Epoch: 013/038 | Batch 000/391 | Cost: 3.1827\n",
            "Epoch: 013/038 Train Cost: 3.1508\n",
            "Time elapsed: 0.71 min\n",
            "Epoch: 014/038 | Batch 000/391 | Cost: 3.2389\n",
            "Epoch: 014/038 Train Cost: 3.0613\n",
            "Time elapsed: 0.76 min\n",
            "Epoch: 015/038 | Batch 000/391 | Cost: 3.0271\n",
            "Epoch: 015/038 Train Cost: 3.0616\n",
            "Time elapsed: 0.82 min\n",
            "Epoch: 016/038 | Batch 000/391 | Cost: 3.0579\n",
            "Epoch: 016/038 Train Cost: 3.0378\n",
            "Time elapsed: 0.87 min\n",
            "Epoch: 017/038 | Batch 000/391 | Cost: 3.2242\n",
            "Epoch: 017/038 Train Cost: 3.0168\n",
            "Time elapsed: 0.92 min\n",
            "Epoch: 018/038 | Batch 000/391 | Cost: 3.1954\n",
            "Epoch: 018/038 Train Cost: 2.9704\n",
            "Time elapsed: 0.98 min\n",
            "Epoch: 019/038 | Batch 000/391 | Cost: 2.8645\n",
            "Epoch: 019/038 Train Cost: 3.0041\n",
            "Time elapsed: 1.03 min\n",
            "Epoch: 020/038 | Batch 000/391 | Cost: 3.0435\n",
            "Epoch: 020/038 Train Cost: 2.9388\n",
            "Time elapsed: 1.08 min\n",
            "Epoch: 021/038 | Batch 000/391 | Cost: 2.9429\n",
            "Epoch: 021/038 Train Cost: 2.9479\n",
            "Time elapsed: 1.14 min\n",
            "Epoch: 022/038 | Batch 000/391 | Cost: 3.0463\n",
            "Epoch: 022/038 Train Cost: 2.9043\n",
            "Time elapsed: 1.19 min\n",
            "Epoch: 023/038 | Batch 000/391 | Cost: 2.7725\n",
            "Epoch: 023/038 Train Cost: 2.8970\n",
            "Time elapsed: 1.25 min\n",
            "Epoch: 024/038 | Batch 000/391 | Cost: 3.0202\n",
            "Epoch: 024/038 Train Cost: 2.8903\n",
            "Time elapsed: 1.30 min\n",
            "Epoch: 025/038 | Batch 000/391 | Cost: 2.9152\n",
            "Epoch: 025/038 Train Cost: 2.8516\n",
            "Time elapsed: 1.35 min\n",
            "Epoch: 026/038 | Batch 000/391 | Cost: 2.7687\n",
            "Epoch: 026/038 Train Cost: 2.8751\n",
            "Time elapsed: 1.41 min\n",
            "Epoch: 027/038 | Batch 000/391 | Cost: 2.8611\n",
            "Epoch: 027/038 Train Cost: 2.8643\n",
            "Time elapsed: 1.46 min\n",
            "Epoch: 028/038 | Batch 000/391 | Cost: 2.9744\n",
            "Epoch: 028/038 Train Cost: 2.8478\n",
            "Time elapsed: 1.51 min\n",
            "Epoch: 029/038 | Batch 000/391 | Cost: 3.1975\n",
            "Epoch: 029/038 Train Cost: 2.8313\n",
            "Time elapsed: 1.57 min\n",
            "Epoch: 030/038 | Batch 000/391 | Cost: 3.1385\n",
            "Epoch: 030/038 Train Cost: 2.8040\n",
            "Time elapsed: 1.62 min\n",
            "Epoch: 031/038 | Batch 000/391 | Cost: 2.7940\n",
            "Epoch: 031/038 Train Cost: 2.8098\n",
            "Time elapsed: 1.67 min\n",
            "Epoch: 032/038 | Batch 000/391 | Cost: 2.8397\n",
            "Epoch: 032/038 Train Cost: 2.7881\n",
            "Time elapsed: 1.72 min\n",
            "Epoch: 033/038 | Batch 000/391 | Cost: 2.8438\n",
            "Epoch: 033/038 Train Cost: 2.7771\n",
            "Time elapsed: 1.78 min\n",
            "Epoch: 034/038 | Batch 000/391 | Cost: 2.7527\n",
            "Epoch: 034/038 Train Cost: 2.7856\n",
            "Time elapsed: 1.83 min\n",
            "Epoch: 035/038 | Batch 000/391 | Cost: 2.6847\n",
            "Epoch: 035/038 Train Cost: 2.7796\n",
            "Time elapsed: 1.88 min\n",
            "Epoch: 036/038 | Batch 000/391 | Cost: 2.8269\n",
            "Epoch: 036/038 Train Cost: 2.7986\n",
            "Time elapsed: 1.94 min\n",
            "Epoch: 037/038 | Batch 000/391 | Cost: 2.9031\n",
            "Epoch: 037/038 Train Cost: 2.7431\n",
            "Time elapsed: 1.99 min\n",
            "Epoch: 038/038 | Batch 000/391 | Cost: 2.8491\n",
            "Epoch: 038/038 Train Cost: 2.8060\n",
            "Time elapsed: 2.04 min\n",
            "Total Training Time: 2.04 min\n",
            "Training Accuracy: 31.63\n",
            "Test Accuracy: 24.73\n"
          ],
          "name": "stdout"
        }
      ]
    },
    {
      "cell_type": "code",
      "metadata": {
        "colab": {
          "base_uri": "https://localhost:8080/",
          "height": 350
        },
        "id": "qB_7JTfrybK4",
        "outputId": "90b730ea-aede-4b09-8c58-06f8406c4831"
      },
      "source": [
        "#Plot the loss curve\n",
        "\n",
        "plt.figure(figsize=(8,5))\n",
        "plt.plot(range(len(epoch_cost)), epoch_cost)\n",
        "plt.xlabel(\"Epoch\")\n",
        "plt.ylabel(\"Cross entropy loss\")\n",
        "plt.title(\"Loss of training\")\n",
        "plt.show()"
      ],
      "execution_count": 43,
      "outputs": [
        {
          "output_type": "display_data",
          "data": {
            "image/png": "[encoded data removed]",
            "text/plain": [
              "<Figure size 576x360 with 1 Axes>"
            ]
          },
          "metadata": {
            "tags": [],
            "needs_background": "light"
          }
        }
      ]
    },
    {
      "cell_type": "markdown",
      "metadata": {
        "id": "uIFxFNUnO9oO"
      },
      "source": [
        "## 2. SGD Momentum"
      ]
    },
    {
      "cell_type": "markdown",
      "metadata": {
        "id": "ZoS2Zm11yhAS"
      },
      "source": [
        "### Model A: 3 Hidden Layers Feedforward Neural Network"
      ]
    },
    {
      "cell_type": "markdown",
      "metadata": {
        "id": "moS_FA8WyhAS"
      },
      "source": [
        "#### Make dataset iterable"
      ]
    },
    {
      "cell_type": "code",
      "metadata": {
        "colab": {
          "base_uri": "https://localhost:8080/"
        },
        "id": "LYHR7GVDyhAS",
        "outputId": "80cc331a-7d4a-427f-f112-ac8ee9a62c20"
      },
      "source": [
        "batch_size = 128\n",
        "n_iters = 15000\n",
        "num_epochs = n_iters / (len(train_data) / batch_size)\n",
        "num_epochs = int(num_epochs)\n",
        "print(num_epochs)"
      ],
      "execution_count": 44,
      "outputs": [
        {
          "output_type": "stream",
          "text": [
            "38\n"
          ],
          "name": "stdout"
        }
      ]
    },
    {
      "cell_type": "code",
      "metadata": {
        "id": "aWcJd7ymyhAT"
      },
      "source": [
        "train_loader = DataLoader(train_dataset, batch_size=batch_size, shuffle=True) # create your dataloader\n",
        "\n",
        "test_loader = DataLoader(test_dataset, batch_size=batch_size,  shuffle=False) # create your dataloader"
      ],
      "execution_count": 45,
      "outputs": []
    },
    {
      "cell_type": "markdown",
      "metadata": {
        "id": "nNoSnHp_yhAT"
      },
      "source": [
        "### Create model class"
      ]
    },
    {
      "cell_type": "code",
      "metadata": {
        "id": "mkpBW0RSyhAT"
      },
      "source": [
        "class FeedforwardNeuralNetworkModel(nn.Module):\n",
        "    def __init__(self, input_size, hidden_size1,hidden_size2,hidden_size3, num_classes):\n",
        "        super(FeedforwardNeuralNetworkModel, self).__init__()\n",
        "        # linear function 1\n",
        "        self.fc1 = nn.Linear(input_dim, hidden_dim1)\n",
        "        # non-linearity 1\n",
        "        self.relu1 = nn.ReLU()\n",
        "        \n",
        "        # linear function 2\n",
        "        self.fc2 = nn.Linear(hidden_dim1, hidden_dim2)\n",
        "        self.dropout1 = nn.Dropout(0.25)\n",
        "        # non-linearity 2\n",
        "        self.relu2 = nn.ReLU()\n",
        "        \n",
        "        # linear function 3\n",
        "        self.fc3 = nn.Linear(hidden_dim2, hidden_dim3)\n",
        "        # non-linearity 3\n",
        "        self.relu3 = nn.ReLU()\n",
        "        \n",
        "        # linear function 4 (readout)\n",
        "        self.fc4 = nn.Linear(hidden_dim3, output_dim)\n",
        "        \n",
        "    def forward(self, x):\n",
        "        # linear function 1\n",
        "        out = self.fc1(x)\n",
        "        # non-linearity 1\n",
        "        out = self.relu1(out)\n",
        "        \n",
        "        # linear function 2\n",
        "        out = self.fc2(out)\n",
        "        out = self.dropout1(out)\n",
        "        # non-linearity 2\n",
        "        out = self.relu2(out)\n",
        "        \n",
        "        # linear function 3\n",
        "        out = self.fc3(out)\n",
        "        # non-linearity 3\n",
        "        out = self.relu3(out)\n",
        "        \n",
        "        #linear function 4 (readout)\n",
        "        out = self.fc4(out)\n",
        "        return out       \n",
        "    "
      ],
      "execution_count": 46,
      "outputs": []
    },
    {
      "cell_type": "code",
      "metadata": {
        "id": "s1foc3C9yhAX"
      },
      "source": [
        "#  Instantiate model class\n",
        "input_dim = 3*32*32\n",
        "output_dim = 100\n",
        "hidden_dim1 = 1700\n",
        "hidden_dim2 = 1500\n",
        "hidden_dim3 = 512 \n",
        "\n",
        "model = FeedforwardNeuralNetworkModel(input_dim, hidden_dim1, hidden_dim2, hidden_dim3, output_dim)\n",
        "\n",
        "#######################\n",
        "#  USE GPU FOR MODEL  #\n",
        "#######################\n",
        "if torch.cuda.is_available():\n",
        "    model.cuda()\n",
        "    "
      ],
      "execution_count": 47,
      "outputs": []
    },
    {
      "cell_type": "code",
      "metadata": {
        "colab": {
          "base_uri": "https://localhost:8080/"
        },
        "id": "N1EpsTlByhAY",
        "outputId": "c9fb6a14-053b-4691-c460-651b51e2b5cc"
      },
      "source": [
        "summary(model, (1,3*32*32))"
      ],
      "execution_count": 48,
      "outputs": [
        {
          "output_type": "stream",
          "text": [
            "----------------------------------------------------------------\n",
            "        Layer (type)               Output Shape         Param #\n",
            "================================================================\n",
            "            Linear-1              [-1, 1, 1700]       5,224,100\n",
            "              ReLU-2              [-1, 1, 1700]               0\n",
            "            Linear-3              [-1, 1, 1500]       2,551,500\n",
            "           Dropout-4              [-1, 1, 1500]               0\n",
            "              ReLU-5              [-1, 1, 1500]               0\n",
            "            Linear-6               [-1, 1, 512]         768,512\n",
            "              ReLU-7               [-1, 1, 512]               0\n",
            "            Linear-8               [-1, 1, 100]          51,300\n",
            "================================================================\n",
            "Total params: 8,595,412\n",
            "Trainable params: 8,595,412\n",
            "Non-trainable params: 0\n",
            "----------------------------------------------------------------\n",
            "Input size (MB): 0.01\n",
            "Forward/backward pass size (MB): 0.07\n",
            "Params size (MB): 32.79\n",
            "Estimated Total Size (MB): 32.87\n",
            "----------------------------------------------------------------\n"
          ],
          "name": "stdout"
        }
      ]
    },
    {
      "cell_type": "code",
      "metadata": {
        "id": "PZNDvGwsyhAY"
      },
      "source": [
        "#  Instantiate loss class\n",
        "criterion=nn.CrossEntropyLoss()\n",
        "\n",
        "#  Instantiate optimizer class\n",
        "learning_rate = 0.001\n",
        "LAMBDA = 0.05\n",
        "optimizer = torch.optim.SGD(model.parameters(), lr=learning_rate, weight_decay=LAMBDA, momentum=0.7)"
      ],
      "execution_count": 49,
      "outputs": []
    },
    {
      "cell_type": "markdown",
      "metadata": {
        "id": "EQ_RZr-YyhAY"
      },
      "source": [
        "#### Train the model"
      ]
    },
    {
      "cell_type": "code",
      "metadata": {
        "colab": {
          "base_uri": "https://localhost:8080/"
        },
        "id": "pwZb3DcmyhAY",
        "outputId": "ac35486a-f7b2-4405-c225-53d46d1de2b2"
      },
      "source": [
        "start_time = time.time()\n",
        "minibatch_cost = []\n",
        "epoch_cost = []\n",
        "for epoch in range(num_epochs):\n",
        "    model.train()\n",
        "    for batch_idx, (features, targets) in enumerate(train_loader):\n",
        "        \n",
        "        features = features.view(-1, 3*32*32).to(device)\n",
        "        targets = targets.to(device)    \n",
        "        ### FORWARD AND BACK PROP\n",
        "        outputs = model(features)\n",
        "        \n",
        "        cost = criterion(outputs, targets)\n",
        "        optimizer.zero_grad()\n",
        "        \n",
        "        cost.backward()\n",
        "        minibatch_cost.append(cost)\n",
        "        ### UPDATE MODEL PARAMETERS\n",
        "        optimizer.step()\n",
        "        \n",
        "        ### LOGGING\n",
        "        if not batch_idx % 500:\n",
        "            print ('Epoch: %03d/%03d | Batch %03d/%03d | Cost: %.4f' \n",
        "                   %(epoch+1, num_epochs, batch_idx, \n",
        "                     len(train_loader), cost))\n",
        "       \n",
        "    model.eval()\n",
        "    with torch.no_grad():\n",
        "        cost = compute_loss(model, train_loader)\n",
        "        epoch_cost.append(cost)\n",
        "        print('Epoch: %03d/%03d Train Cost: %.4f' % (\n",
        "                epoch+1, num_epochs, cost))\n",
        "        print('Time elapsed: %.2f min' % ((time.time() - start_time)/60))\n",
        "\n",
        "        \n",
        "model.eval()\n",
        "with torch.no_grad():\n",
        "    print('Total Training Time: %.2f min' % ((time.time() - start_time)/60))\n",
        "\n",
        "    print('Training Accuracy: %.2f' % compute_accuracy(model, train_loader))\n",
        "    print('Test Accuracy: %.2f' % compute_accuracy(model, test_loader))"
      ],
      "execution_count": 50,
      "outputs": [
        {
          "output_type": "stream",
          "text": [
            "Epoch: 001/038 | Batch 000/391 | Cost: 16.6517\n",
            "Epoch: 001/038 Train Cost: 3.9562\n",
            "Time elapsed: 0.06 min\n",
            "Epoch: 002/038 | Batch 000/391 | Cost: 4.0139\n",
            "Epoch: 002/038 Train Cost: 3.6939\n",
            "Time elapsed: 0.11 min\n",
            "Epoch: 003/038 | Batch 000/391 | Cost: 3.6749\n",
            "Epoch: 003/038 Train Cost: 3.5791\n",
            "Time elapsed: 0.16 min\n",
            "Epoch: 004/038 | Batch 000/391 | Cost: 3.7340\n",
            "Epoch: 004/038 Train Cost: 3.4706\n",
            "Time elapsed: 0.22 min\n",
            "Epoch: 005/038 | Batch 000/391 | Cost: 3.5089\n",
            "Epoch: 005/038 Train Cost: 3.3743\n",
            "Time elapsed: 0.27 min\n",
            "Epoch: 006/038 | Batch 000/391 | Cost: 3.4683\n",
            "Epoch: 006/038 Train Cost: 3.3306\n",
            "Time elapsed: 0.33 min\n",
            "Epoch: 007/038 | Batch 000/391 | Cost: 3.3415\n",
            "Epoch: 007/038 Train Cost: 3.2823\n",
            "Time elapsed: 0.38 min\n",
            "Epoch: 008/038 | Batch 000/391 | Cost: 3.2504\n",
            "Epoch: 008/038 Train Cost: 3.2187\n",
            "Time elapsed: 0.44 min\n",
            "Epoch: 009/038 | Batch 000/391 | Cost: 3.3491\n",
            "Epoch: 009/038 Train Cost: 3.1923\n",
            "Time elapsed: 0.49 min\n",
            "Epoch: 010/038 | Batch 000/391 | Cost: 3.2195\n",
            "Epoch: 010/038 Train Cost: 3.2078\n",
            "Time elapsed: 0.54 min\n",
            "Epoch: 011/038 | Batch 000/391 | Cost: 3.3004\n",
            "Epoch: 011/038 Train Cost: 3.1385\n",
            "Time elapsed: 0.60 min\n",
            "Epoch: 012/038 | Batch 000/391 | Cost: 3.2096\n",
            "Epoch: 012/038 Train Cost: 3.1064\n",
            "Time elapsed: 0.65 min\n",
            "Epoch: 013/038 | Batch 000/391 | Cost: 3.2115\n",
            "Epoch: 013/038 Train Cost: 3.0921\n",
            "Time elapsed: 0.71 min\n",
            "Epoch: 014/038 | Batch 000/391 | Cost: 3.1688\n",
            "Epoch: 014/038 Train Cost: 3.0866\n",
            "Time elapsed: 0.76 min\n",
            "Epoch: 015/038 | Batch 000/391 | Cost: 3.2889\n",
            "Epoch: 015/038 Train Cost: 3.0483\n",
            "Time elapsed: 0.82 min\n",
            "Epoch: 016/038 | Batch 000/391 | Cost: 2.9654\n",
            "Epoch: 016/038 Train Cost: 3.0555\n",
            "Time elapsed: 0.87 min\n",
            "Epoch: 017/038 | Batch 000/391 | Cost: 2.9799\n",
            "Epoch: 017/038 Train Cost: 3.0293\n",
            "Time elapsed: 0.92 min\n",
            "Epoch: 018/038 | Batch 000/391 | Cost: 3.0354\n",
            "Epoch: 018/038 Train Cost: 3.0380\n",
            "Time elapsed: 0.98 min\n",
            "Epoch: 019/038 | Batch 000/391 | Cost: 3.1923\n",
            "Epoch: 019/038 Train Cost: 3.0097\n",
            "Time elapsed: 1.03 min\n",
            "Epoch: 020/038 | Batch 000/391 | Cost: 2.9877\n",
            "Epoch: 020/038 Train Cost: 3.0132\n",
            "Time elapsed: 1.09 min\n",
            "Epoch: 021/038 | Batch 000/391 | Cost: 3.2612\n",
            "Epoch: 021/038 Train Cost: 2.9870\n",
            "Time elapsed: 1.14 min\n",
            "Epoch: 022/038 | Batch 000/391 | Cost: 2.9832\n",
            "Epoch: 022/038 Train Cost: 2.9723\n",
            "Time elapsed: 1.19 min\n",
            "Epoch: 023/038 | Batch 000/391 | Cost: 2.9588\n",
            "Epoch: 023/038 Train Cost: 2.9676\n",
            "Time elapsed: 1.25 min\n",
            "Epoch: 024/038 | Batch 000/391 | Cost: 2.9155\n",
            "Epoch: 024/038 Train Cost: 2.9541\n",
            "Time elapsed: 1.30 min\n",
            "Epoch: 025/038 | Batch 000/391 | Cost: 2.8541\n",
            "Epoch: 025/038 Train Cost: 2.9618\n",
            "Time elapsed: 1.35 min\n",
            "Epoch: 026/038 | Batch 000/391 | Cost: 3.1392\n",
            "Epoch: 026/038 Train Cost: 2.9452\n",
            "Time elapsed: 1.41 min\n",
            "Epoch: 027/038 | Batch 000/391 | Cost: 2.8681\n",
            "Epoch: 027/038 Train Cost: 2.9627\n",
            "Time elapsed: 1.46 min\n",
            "Epoch: 028/038 | Batch 000/391 | Cost: 2.9888\n",
            "Epoch: 028/038 Train Cost: 2.9438\n",
            "Time elapsed: 1.52 min\n",
            "Epoch: 029/038 | Batch 000/391 | Cost: 2.9158\n",
            "Epoch: 029/038 Train Cost: 2.9778\n",
            "Time elapsed: 1.57 min\n",
            "Epoch: 030/038 | Batch 000/391 | Cost: 2.8327\n",
            "Epoch: 030/038 Train Cost: 2.9282\n",
            "Time elapsed: 1.62 min\n",
            "Epoch: 031/038 | Batch 000/391 | Cost: 2.7204\n",
            "Epoch: 031/038 Train Cost: 2.9174\n",
            "Time elapsed: 1.68 min\n",
            "Epoch: 032/038 | Batch 000/391 | Cost: 3.1881\n",
            "Epoch: 032/038 Train Cost: 2.9001\n",
            "Time elapsed: 1.73 min\n",
            "Epoch: 033/038 | Batch 000/391 | Cost: 3.0580\n",
            "Epoch: 033/038 Train Cost: 2.8957\n",
            "Time elapsed: 1.78 min\n",
            "Epoch: 034/038 | Batch 000/391 | Cost: 3.0687\n",
            "Epoch: 034/038 Train Cost: 2.9261\n",
            "Time elapsed: 1.84 min\n",
            "Epoch: 035/038 | Batch 000/391 | Cost: 2.7760\n",
            "Epoch: 035/038 Train Cost: 2.9056\n",
            "Time elapsed: 1.89 min\n",
            "Epoch: 036/038 | Batch 000/391 | Cost: 3.0225\n",
            "Epoch: 036/038 Train Cost: 2.9147\n",
            "Time elapsed: 1.94 min\n",
            "Epoch: 037/038 | Batch 000/391 | Cost: 2.9151\n",
            "Epoch: 038/038 Train Cost: 2.9027\n",
            "Time elapsed: 2.05 min\n",
            "Total Training Time: 2.05 min\n",
            "Training Accuracy: 28.96\n",
            "Test Accuracy: 24.99\n"
          ],
          "name": "stdout"
        }
      ]
    },
    {
      "cell_type": "code",
      "metadata": {
        "colab": {
          "base_uri": "https://localhost:8080/",
          "height": 350
        },
        "id": "_hbBjleUyhAZ",
        "outputId": "2d068ee2-096e-4f06-f66b-7af1eacf3f4a"
      },
      "source": [
        "#Plot the loss curve\n",
        "\n",
        "plt.figure(figsize=(8,5))\n",
        "plt.plot(range(len(epoch_cost)), epoch_cost)\n",
        "plt.xlabel(\"Epoch\")\n",
        "plt.ylabel(\"Cross entropy loss\")\n",
        "plt.title(\"Loss of training\")\n",
        "plt.show()"
      ],
      "execution_count": 51,
      "outputs": [
        {
          "output_type": "display_data",
          "data": {
            "image/png": "[encoded data removed]",
            "text/plain": [
              "<Figure size 576x360 with 1 Axes>"
            ]
          },
          "metadata": {
            "tags": [],
            "needs_background": "light"
          }
        }
      ]
    },
    {
      "cell_type": "markdown",
      "metadata": {
        "id": "Dn5NcDKsO9oQ"
      },
      "source": [
        "## 3. SGD Nesterov"
      ]
    },
    {
      "cell_type": "markdown",
      "metadata": {
        "id": "g33-lv1wymm3"
      },
      "source": [
        "### Model A: 3 Hidden Layers Feedforward Neural Network"
      ]
    },
    {
      "cell_type": "markdown",
      "metadata": {
        "id": "08okgKwhymm3"
      },
      "source": [
        "#### Make dataset iterable"
      ]
    },
    {
      "cell_type": "code",
      "metadata": {
        "colab": {
          "base_uri": "https://localhost:8080/"
        },
        "id": "KeD6DQBAymm3",
        "outputId": "03029f07-cbe0-4f5f-af59-158f8733fc2d"
      },
      "source": [
        "batch_size = 128\n",
        "n_iters = 15000\n",
        "num_epochs = n_iters / (len(train_data) / batch_size)\n",
        "num_epochs = int(num_epochs)\n",
        "print(num_epochs)"
      ],
      "execution_count": 52,
      "outputs": [
        {
          "output_type": "stream",
          "text": [
            "38\n"
          ],
          "name": "stdout"
        }
      ]
    },
    {
      "cell_type": "code",
      "metadata": {
        "id": "dZklyotrymm4"
      },
      "source": [
        "train_loader = DataLoader(train_dataset, batch_size=batch_size, shuffle=True) # create your dataloader\n",
        "\n",
        "test_loader = DataLoader(test_dataset, batch_size=batch_size,  shuffle=False) # create your dataloader"
      ],
      "execution_count": 53,
      "outputs": []
    },
    {
      "cell_type": "markdown",
      "metadata": {
        "id": "w77wf6KRymm4"
      },
      "source": [
        "### Create model class"
      ]
    },
    {
      "cell_type": "code",
      "metadata": {
        "id": "f0xTjmLhymm4"
      },
      "source": [
        "class FeedforwardNeuralNetworkModel(nn.Module):\n",
        "    def __init__(self, input_size, hidden_size1,hidden_size2,hidden_size3, num_classes):\n",
        "        super(FeedforwardNeuralNetworkModel, self).__init__()\n",
        "        # linear function 1\n",
        "        self.fc1 = nn.Linear(input_dim, hidden_dim1)\n",
        "        # non-linearity 1\n",
        "        self.relu1 = nn.ReLU()\n",
        "        \n",
        "        # linear function 2\n",
        "        self.fc2 = nn.Linear(hidden_dim1, hidden_dim2)\n",
        "        self.dropout1 = nn.Dropout(0.25)\n",
        "        # non-linearity 2\n",
        "        self.relu2 = nn.ReLU()\n",
        "        \n",
        "        # linear function 3\n",
        "        self.fc3 = nn.Linear(hidden_dim2, hidden_dim3)\n",
        "        # non-linearity 3\n",
        "        self.relu3 = nn.ReLU()\n",
        "        \n",
        "        # linear function 4 (readout)\n",
        "        self.fc4 = nn.Linear(hidden_dim3, output_dim)\n",
        "        \n",
        "    def forward(self, x):\n",
        "        # linear function 1\n",
        "        out = self.fc1(x)\n",
        "        # non-linearity 1\n",
        "        out = self.relu1(out)\n",
        "        \n",
        "        # linear function 2\n",
        "        out = self.fc2(out)\n",
        "        out = self.dropout1(out)\n",
        "        # non-linearity 2\n",
        "        out = self.relu2(out)\n",
        "        \n",
        "        # linear function 3\n",
        "        out = self.fc3(out)\n",
        "        # non-linearity 3\n",
        "        out = self.relu3(out)\n",
        "        \n",
        "        #linear function 4 (readout)\n",
        "        out = self.fc4(out)\n",
        "        return out       \n",
        "    "
      ],
      "execution_count": 54,
      "outputs": []
    },
    {
      "cell_type": "code",
      "metadata": {
        "id": "FDhMp1rbymm4"
      },
      "source": [
        "#  Instantiate model class\n",
        "input_dim = 3*32*32\n",
        "output_dim = 100\n",
        "hidden_dim1 = 1700\n",
        "hidden_dim2 = 1500\n",
        "hidden_dim3 = 512 \n",
        "\n",
        "model = FeedforwardNeuralNetworkModel(input_dim, hidden_dim1, hidden_dim2, hidden_dim3, output_dim)\n",
        "\n",
        "#######################\n",
        "#  USE GPU FOR MODEL  #\n",
        "#######################\n",
        "if torch.cuda.is_available():\n",
        "    model.cuda()\n",
        "    "
      ],
      "execution_count": 55,
      "outputs": []
    },
    {
      "cell_type": "code",
      "metadata": {
        "colab": {
          "base_uri": "https://localhost:8080/"
        },
        "id": "y3-AB7aYymm4",
        "outputId": "89dd7dee-8b5a-4535-9822-30e745d5c9f7"
      },
      "source": [
        "summary(model, (1,3*32*32))"
      ],
      "execution_count": 56,
      "outputs": [
        {
          "output_type": "stream",
          "text": [
            "----------------------------------------------------------------\n",
            "        Layer (type)               Output Shape         Param #\n",
            "================================================================\n",
            "            Linear-1              [-1, 1, 1700]       5,224,100\n",
            "              ReLU-2              [-1, 1, 1700]               0\n",
            "            Linear-3              [-1, 1, 1500]       2,551,500\n",
            "           Dropout-4              [-1, 1, 1500]               0\n",
            "              ReLU-5              [-1, 1, 1500]               0\n",
            "            Linear-6               [-1, 1, 512]         768,512\n",
            "              ReLU-7               [-1, 1, 512]               0\n",
            "            Linear-8               [-1, 1, 100]          51,300\n",
            "================================================================\n",
            "Total params: 8,595,412\n",
            "Trainable params: 8,595,412\n",
            "Non-trainable params: 0\n",
            "----------------------------------------------------------------\n",
            "Input size (MB): 0.01\n",
            "Forward/backward pass size (MB): 0.07\n",
            "Params size (MB): 32.79\n",
            "Estimated Total Size (MB): 32.87\n",
            "----------------------------------------------------------------\n"
          ],
          "name": "stdout"
        }
      ]
    },
    {
      "cell_type": "code",
      "metadata": {
        "id": "xaDiJA-Iymm5"
      },
      "source": [
        "#  Instantiate loss class\n",
        "criterion=nn.CrossEntropyLoss()\n",
        "\n",
        "#  Instantiate optimizer class\n",
        "learning_rate = 0.001\n",
        "LAMBDA = 0.05\n",
        "optimizer = torch.optim.SGD(model.parameters(), lr=learning_rate, weight_decay=LAMBDA, momentum=0.7, nesterov=True)"
      ],
      "execution_count": 57,
      "outputs": []
    },
    {
      "cell_type": "markdown",
      "metadata": {
        "id": "RjO0i-Mqymm5"
      },
      "source": [
        "#### Train the model"
      ]
    },
    {
      "cell_type": "code",
      "metadata": {
        "colab": {
          "base_uri": "https://localhost:8080/"
        },
        "id": "NVxnyyCLymm5",
        "outputId": "0523bac5-b4d4-4e02-81e3-5465f123352c"
      },
      "source": [
        "start_time = time.time()\n",
        "minibatch_cost = []\n",
        "epoch_cost = []\n",
        "for epoch in range(num_epochs):\n",
        "    model.train()\n",
        "    for batch_idx, (features, targets) in enumerate(train_loader):\n",
        "        \n",
        "        features = features.view(-1, 3*32*32).to(device)\n",
        "        targets = targets.to(device)    \n",
        "        ### FORWARD AND BACK PROP\n",
        "        outputs = model(features)\n",
        "        \n",
        "        cost = criterion(outputs, targets)\n",
        "        optimizer.zero_grad()\n",
        "        \n",
        "        cost.backward()\n",
        "        minibatch_cost.append(cost)\n",
        "        ### UPDATE MODEL PARAMETERS\n",
        "        optimizer.step()\n",
        "        \n",
        "        ### LOGGING\n",
        "        if not batch_idx % 500:\n",
        "            print ('Epoch: %03d/%03d | Batch %03d/%03d | Cost: %.4f' \n",
        "                   %(epoch+1, num_epochs, batch_idx, \n",
        "                     len(train_loader), cost))\n",
        "       \n",
        "    model.eval()\n",
        "    with torch.no_grad():\n",
        "        cost = compute_loss(model, train_loader)\n",
        "        epoch_cost.append(cost)\n",
        "        print('Epoch: %03d/%03d Train Cost: %.4f' % (\n",
        "                epoch+1, num_epochs, cost))\n",
        "        print('Time elapsed: %.2f min' % ((time.time() - start_time)/60))\n",
        "\n",
        "        \n",
        "model.eval()\n",
        "with torch.no_grad():\n",
        "    print('Total Training Time: %.2f min' % ((time.time() - start_time)/60))\n",
        "\n",
        "    print('Training Accuracy: %.2f' % compute_accuracy(model, train_loader))\n",
        "    print('Test Accuracy: %.2f' % compute_accuracy(model, test_loader))"
      ],
      "execution_count": 58,
      "outputs": [
        {
          "output_type": "stream",
          "text": [
            "Epoch: 001/038 | Batch 000/391 | Cost: 14.5611\n",
            "Epoch: 001/038 Train Cost: 3.9451\n",
            "Time elapsed: 0.06 min\n",
            "Epoch: 002/038 | Batch 000/391 | Cost: 3.7783\n",
            "Epoch: 002/038 Train Cost: 3.7199\n",
            "Time elapsed: 0.11 min\n",
            "Epoch: 003/038 | Batch 000/391 | Cost: 3.8315\n",
            "Epoch: 003/038 Train Cost: 3.5830\n",
            "Time elapsed: 0.16 min\n",
            "Epoch: 004/038 | Batch 000/391 | Cost: 3.7070\n",
            "Epoch: 004/038 Train Cost: 3.5725\n",
            "Time elapsed: 0.22 min\n",
            "Epoch: 005/038 | Batch 000/391 | Cost: 3.6637\n",
            "Epoch: 005/038 Train Cost: 3.3851\n",
            "Time elapsed: 0.27 min\n",
            "Epoch: 006/038 | Batch 000/391 | Cost: 3.4773\n",
            "Epoch: 006/038 Train Cost: 3.2991\n",
            "Time elapsed: 0.33 min\n",
            "Epoch: 007/038 | Batch 000/391 | Cost: 3.1701\n",
            "Epoch: 007/038 Train Cost: 3.2767\n",
            "Time elapsed: 0.38 min\n",
            "Epoch: 008/038 | Batch 000/391 | Cost: 3.4196\n",
            "Epoch: 009/038 Train Cost: 3.2746\n",
            "Time elapsed: 0.49 min\n",
            "Epoch: 010/038 | Batch 000/391 | Cost: 3.3842\n",
            "Epoch: 010/038 Train Cost: 3.1647\n",
            "Time elapsed: 0.54 min\n",
            "Epoch: 011/038 | Batch 000/391 | Cost: 3.0789\n",
            "Epoch: 011/038 Train Cost: 3.2076\n",
            "Time elapsed: 0.60 min\n",
            "Epoch: 012/038 | Batch 000/391 | Cost: 3.1286\n",
            "Epoch: 012/038 Train Cost: 3.1197\n",
            "Time elapsed: 0.65 min\n",
            "Epoch: 013/038 | Batch 000/391 | Cost: 3.3159\n",
            "Epoch: 013/038 Train Cost: 3.0878\n",
            "Time elapsed: 0.70 min\n",
            "Epoch: 014/038 | Batch 000/391 | Cost: 3.1207\n",
            "Epoch: 014/038 Train Cost: 3.0699\n",
            "Time elapsed: 0.76 min\n",
            "Epoch: 015/038 | Batch 000/391 | Cost: 3.1652\n",
            "Epoch: 015/038 Train Cost: 3.0762\n",
            "Time elapsed: 0.81 min\n",
            "Epoch: 016/038 | Batch 000/391 | Cost: 3.3239\n",
            "Epoch: 016/038 Train Cost: 3.0643\n",
            "Time elapsed: 0.87 min\n",
            "Epoch: 017/038 | Batch 000/391 | Cost: 3.0803\n",
            "Epoch: 017/038 Train Cost: 3.0743\n",
            "Time elapsed: 0.92 min\n",
            "Epoch: 018/038 | Batch 000/391 | Cost: 3.1880\n",
            "Epoch: 018/038 Train Cost: 3.0356\n",
            "Time elapsed: 0.98 min\n",
            "Epoch: 019/038 | Batch 000/391 | Cost: 2.8136\n",
            "Epoch: 019/038 Train Cost: 3.0388\n",
            "Time elapsed: 1.03 min\n",
            "Epoch: 020/038 | Batch 000/391 | Cost: 2.9308\n",
            "Epoch: 020/038 Train Cost: 2.9965\n",
            "Time elapsed: 1.08 min\n",
            "Epoch: 021/038 | Batch 000/391 | Cost: 3.1268\n",
            "Epoch: 021/038 Train Cost: 2.9738\n",
            "Time elapsed: 1.14 min\n",
            "Epoch: 022/038 | Batch 000/391 | Cost: 3.1501\n",
            "Epoch: 022/038 Train Cost: 2.9820\n",
            "Time elapsed: 1.19 min\n",
            "Epoch: 023/038 | Batch 000/391 | Cost: 3.1345\n",
            "Epoch: 023/038 Train Cost: 3.0034\n",
            "Time elapsed: 1.25 min\n",
            "Epoch: 024/038 | Batch 000/391 | Cost: 2.8931\n",
            "Epoch: 024/038 Train Cost: 2.9639\n",
            "Time elapsed: 1.30 min\n",
            "Epoch: 025/038 | Batch 000/391 | Cost: 2.9729\n",
            "Epoch: 025/038 Train Cost: 2.9611\n",
            "Time elapsed: 1.35 min\n",
            "Epoch: 026/038 | Batch 000/391 | Cost: 2.9755\n",
            "Epoch: 026/038 Train Cost: 2.9449\n",
            "Time elapsed: 1.41 min\n",
            "Epoch: 027/038 | Batch 000/391 | Cost: 2.9399\n",
            "Epoch: 027/038 Train Cost: 2.9897\n",
            "Time elapsed: 1.46 min\n",
            "Epoch: 028/038 | Batch 000/391 | Cost: 3.1232\n",
            "Epoch: 028/038 Train Cost: 2.9369\n",
            "Time elapsed: 1.52 min\n",
            "Epoch: 029/038 | Batch 000/391 | Cost: 2.8651\n",
            "Epoch: 029/038 Train Cost: 2.9503\n",
            "Time elapsed: 1.57 min\n",
            "Epoch: 030/038 | Batch 000/391 | Cost: 3.0326\n",
            "Epoch: 030/038 Train Cost: 3.0116\n",
            "Time elapsed: 1.62 min\n",
            "Epoch: 031/038 | Batch 000/391 | Cost: 2.9464\n",
            "Epoch: 031/038 Train Cost: 2.9581\n",
            "Time elapsed: 1.68 min\n",
            "Epoch: 032/038 | Batch 000/391 | Cost: 3.0896\n",
            "Epoch: 032/038 Train Cost: 2.9332\n",
            "Time elapsed: 1.73 min\n",
            "Epoch: 033/038 | Batch 000/391 | Cost: 2.8148\n",
            "Epoch: 033/038 Train Cost: 2.9622\n",
            "Time elapsed: 1.78 min\n",
            "Epoch: 034/038 | Batch 000/391 | Cost: 3.1641\n",
            "Epoch: 034/038 Train Cost: 2.9419\n",
            "Time elapsed: 1.84 min\n",
            "Epoch: 035/038 | Batch 000/391 | Cost: 2.9434\n",
            "Epoch: 035/038 Train Cost: 2.8739\n",
            "Time elapsed: 1.89 min\n",
            "Epoch: 036/038 | Batch 000/391 | Cost: 2.7029\n",
            "Epoch: 036/038 Train Cost: 2.8791\n",
            "Time elapsed: 1.95 min\n",
            "Epoch: 037/038 | Batch 000/391 | Cost: 3.1702\n",
            "Epoch: 037/038 Train Cost: 2.8940\n",
            "Time elapsed: 2.00 min\n",
            "Epoch: 038/038 | Batch 000/391 | Cost: 2.8530\n",
            "Epoch: 038/038 Train Cost: 2.9189\n",
            "Time elapsed: 2.05 min\n",
            "Total Training Time: 2.05 min\n",
            "Training Accuracy: 28.04\n",
            "Test Accuracy: 24.84\n"
          ],
          "name": "stdout"
        }
      ]
    },
    {
      "cell_type": "code",
      "metadata": {
        "colab": {
          "base_uri": "https://localhost:8080/",
          "height": 350
        },
        "id": "kq_EwYQEymm5",
        "outputId": "cdba0172-87b7-4e4b-c6ff-076761b81f87"
      },
      "source": [
        "#Plot the loss curve\n",
        "\n",
        "plt.figure(figsize=(8,5))\n",
        "plt.plot(range(len(epoch_cost)), epoch_cost)\n",
        "plt.xlabel(\"Epoch\")\n",
        "plt.ylabel(\"Cross entropy loss\")\n",
        "plt.title(\"Loss of training\")\n",
        "plt.show()"
      ],
      "execution_count": 59,
      "outputs": [
        {
          "output_type": "display_data",
          "data": {
            "image/png": "[encoded data removed]",
            "text/plain": [
              "<Figure size 576x360 with 1 Axes>"
            ]
          },
          "metadata": {
            "tags": [],
            "needs_background": "light"
          }
        }
      ]
    },
    {
      "cell_type": "markdown",
      "metadata": {
        "id": "jbF138UBO9oU"
      },
      "source": [
        "## 4. Adam"
      ]
    },
    {
      "cell_type": "markdown",
      "metadata": {
        "id": "s2BxiY-4ysXs"
      },
      "source": [
        "### Model A: 3 Hidden Layers Feedforward Neural Network"
      ]
    },
    {
      "cell_type": "markdown",
      "metadata": {
        "id": "2hWpvEapysXs"
      },
      "source": [
        "#### Make dataset iterable"
      ]
    },
    {
      "cell_type": "code",
      "metadata": {
        "colab": {
          "base_uri": "https://localhost:8080/"
        },
        "id": "TipUtSVAysXs",
        "outputId": "da28fb66-a4d3-406a-cb08-ffdafde5fe7c"
      },
      "source": [
        "batch_size = 128\n",
        "n_iters = 15000\n",
        "num_epochs = n_iters / (len(train_data) / batch_size)\n",
        "num_epochs = int(num_epochs)\n",
        "print(num_epochs)"
      ],
      "execution_count": 60,
      "outputs": [
        {
          "output_type": "stream",
          "text": [
            "38\n"
          ],
          "name": "stdout"
        }
      ]
    },
    {
      "cell_type": "code",
      "metadata": {
        "id": "Osz6CdGaysXt"
      },
      "source": [
        "train_loader = DataLoader(train_dataset, batch_size=batch_size, shuffle=True) # create your dataloader\n",
        "\n",
        "test_loader = DataLoader(test_dataset, batch_size=batch_size,  shuffle=False) # create your dataloader"
      ],
      "execution_count": 61,
      "outputs": []
    },
    {
      "cell_type": "markdown",
      "metadata": {
        "id": "nVuE69irysXt"
      },
      "source": [
        "### Create model class"
      ]
    },
    {
      "cell_type": "code",
      "metadata": {
        "id": "O1GDAHbZysXt"
      },
      "source": [
        "class FeedforwardNeuralNetworkModel(nn.Module):\n",
        "    def __init__(self, input_size, hidden_size1,hidden_size2,hidden_size3, num_classes):\n",
        "        super(FeedforwardNeuralNetworkModel, self).__init__()\n",
        "        # linear function 1\n",
        "        self.fc1 = nn.Linear(input_dim, hidden_dim1)\n",
        "        # non-linearity 1\n",
        "        self.relu1 = nn.ReLU()\n",
        "        \n",
        "        # linear function 2\n",
        "        self.fc2 = nn.Linear(hidden_dim1, hidden_dim2)\n",
        "        self.dropout1 = nn.Dropout(0.25)\n",
        "        # non-linearity 2\n",
        "        self.relu2 = nn.ReLU()\n",
        "        \n",
        "        # linear function 3\n",
        "        self.fc3 = nn.Linear(hidden_dim2, hidden_dim3)\n",
        "        # non-linearity 3\n",
        "        self.relu3 = nn.ReLU()\n",
        "        \n",
        "        # linear function 4 (readout)\n",
        "        self.fc4 = nn.Linear(hidden_dim3, output_dim)\n",
        "        \n",
        "    def forward(self, x):\n",
        "        # linear function 1\n",
        "        out = self.fc1(x)\n",
        "        # non-linearity 1\n",
        "        out = self.relu1(out)\n",
        "        \n",
        "        # linear function 2\n",
        "        out = self.fc2(out)\n",
        "        out = self.dropout1(out)\n",
        "        # non-linearity 2\n",
        "        out = self.relu2(out)\n",
        "        \n",
        "        # linear function 3\n",
        "        out = self.fc3(out)\n",
        "        # non-linearity 3\n",
        "        out = self.relu3(out)\n",
        "        \n",
        "        #linear function 4 (readout)\n",
        "        out = self.fc4(out)\n",
        "        return out       \n",
        "    "
      ],
      "execution_count": 62,
      "outputs": []
    },
    {
      "cell_type": "code",
      "metadata": {
        "id": "6NU-yW7MysXt"
      },
      "source": [
        "#  Instantiate model class\n",
        "input_dim = 3*32*32\n",
        "output_dim = 100\n",
        "hidden_dim1 = 1700\n",
        "hidden_dim2 = 1500\n",
        "hidden_dim3 = 512 \n",
        "\n",
        "model = FeedforwardNeuralNetworkModel(input_dim, hidden_dim1, hidden_dim2, hidden_dim3, output_dim)\n",
        "\n",
        "#######################\n",
        "#  USE GPU FOR MODEL  #\n",
        "#######################\n",
        "if torch.cuda.is_available():\n",
        "    model.cuda()\n",
        "    "
      ],
      "execution_count": 63,
      "outputs": []
    },
    {
      "cell_type": "code",
      "metadata": {
        "colab": {
          "base_uri": "https://localhost:8080/"
        },
        "id": "A4kGcuWBysXt",
        "outputId": "fbdd9427-760e-4686-c862-bc36dfe55b82"
      },
      "source": [
        "summary(model, (1,3*32*32))"
      ],
      "execution_count": 64,
      "outputs": [
        {
          "output_type": "stream",
          "text": [
            "----------------------------------------------------------------\n",
            "        Layer (type)               Output Shape         Param #\n",
            "================================================================\n",
            "            Linear-1              [-1, 1, 1700]       5,224,100\n",
            "              ReLU-2              [-1, 1, 1700]               0\n",
            "            Linear-3              [-1, 1, 1500]       2,551,500\n",
            "           Dropout-4              [-1, 1, 1500]               0\n",
            "              ReLU-5              [-1, 1, 1500]               0\n",
            "            Linear-6               [-1, 1, 512]         768,512\n",
            "              ReLU-7               [-1, 1, 512]               0\n",
            "            Linear-8               [-1, 1, 100]          51,300\n",
            "================================================================\n",
            "Total params: 8,595,412\n",
            "Trainable params: 8,595,412\n",
            "Non-trainable params: 0\n",
            "----------------------------------------------------------------\n",
            "Input size (MB): 0.01\n",
            "Forward/backward pass size (MB): 0.07\n",
            "Params size (MB): 32.79\n",
            "Estimated Total Size (MB): 32.87\n",
            "----------------------------------------------------------------\n"
          ],
          "name": "stdout"
        }
      ]
    },
    {
      "cell_type": "code",
      "metadata": {
        "id": "zh9SpqHGysXt"
      },
      "source": [
        "#  Instantiate loss class\n",
        "criterion=nn.CrossEntropyLoss()\n",
        "\n",
        "#  Instantiate optimizer class\n",
        "learning_rate = 0.001\n",
        "LAMBDA = 0.05\n",
        "optimizer = torch.optim.Adam(model.parameters(), lr=learning_rate, weight_decay=LAMBDA)"
      ],
      "execution_count": 65,
      "outputs": []
    },
    {
      "cell_type": "markdown",
      "metadata": {
        "id": "WJAAVVz3ysXt"
      },
      "source": [
        "#### Train the model"
      ]
    },
    {
      "cell_type": "code",
      "metadata": {
        "colab": {
          "base_uri": "https://localhost:8080/"
        },
        "id": "aygTANHbysXt",
        "outputId": "bc273161-21e4-4a14-acb6-e5d2803cb608"
      },
      "source": [
        "start_time = time.time()\n",
        "minibatch_cost = []\n",
        "epoch_cost = []\n",
        "for epoch in range(num_epochs):\n",
        "    model.train()\n",
        "    for batch_idx, (features, targets) in enumerate(train_loader):\n",
        "        \n",
        "        features = features.view(-1, 3*32*32).to(device)\n",
        "        targets = targets.to(device)    \n",
        "        ### FORWARD AND BACK PROP\n",
        "        outputs = model(features)\n",
        "        \n",
        "        cost = criterion(outputs, targets)\n",
        "        optimizer.zero_grad()\n",
        "        \n",
        "        cost.backward()\n",
        "        minibatch_cost.append(cost)\n",
        "        ### UPDATE MODEL PARAMETERS\n",
        "        optimizer.step()\n",
        "        \n",
        "        ### LOGGING\n",
        "        if not batch_idx % 500:\n",
        "            print ('Epoch: %03d/%03d | Batch %03d/%03d | Cost: %.4f' \n",
        "                   %(epoch+1, num_epochs, batch_idx, \n",
        "                     len(train_loader), cost))\n",
        "       \n",
        "    model.eval()\n",
        "    with torch.no_grad():\n",
        "        cost = compute_loss(model, train_loader)\n",
        "        epoch_cost.append(cost)\n",
        "        print('Epoch: %03d/%03d Train Cost: %.4f' % (\n",
        "                epoch+1, num_epochs, cost))\n",
        "        print('Time elapsed: %.2f min' % ((time.time() - start_time)/60))\n",
        "\n",
        "        \n",
        "model.eval()\n",
        "with torch.no_grad():\n",
        "    print('Total Training Time: %.2f min' % ((time.time() - start_time)/60))\n",
        "\n",
        "    print('Training Accuracy: %.2f' % compute_accuracy(model, train_loader))\n",
        "    print('Test Accuracy: %.2f' % compute_accuracy(model, test_loader))"
      ],
      "execution_count": 66,
      "outputs": [
        {
          "output_type": "stream",
          "text": [
            "Epoch: 001/038 | Batch 000/391 | Cost: 16.9464\n",
            "Epoch: 001/038 Train Cost: 4.0610\n",
            "Time elapsed: 0.06 min\n",
            "Epoch: 002/038 | Batch 000/391 | Cost: 4.1508\n",
            "Epoch: 002/038 Train Cost: 3.9226\n",
            "Time elapsed: 0.12 min\n",
            "Epoch: 003/038 | Batch 000/391 | Cost: 3.7570\n",
            "Epoch: 003/038 Train Cost: 3.7770\n",
            "Time elapsed: 0.18 min\n",
            "Epoch: 004/038 | Batch 000/391 | Cost: 3.7635\n",
            "Epoch: 004/038 Train Cost: 3.9357\n",
            "Time elapsed: 0.24 min\n",
            "Epoch: 005/038 | Batch 000/391 | Cost: 4.0919\n",
            "Epoch: 005/038 Train Cost: 3.9157\n",
            "Time elapsed: 0.30 min\n",
            "Epoch: 006/038 | Batch 000/391 | Cost: 3.9263\n",
            "Epoch: 006/038 Train Cost: 3.7438\n",
            "Time elapsed: 0.36 min\n",
            "Epoch: 007/038 | Batch 000/391 | Cost: 3.7532\n",
            "Epoch: 007/038 Train Cost: 3.7856\n",
            "Time elapsed: 0.42 min\n",
            "Epoch: 008/038 | Batch 000/391 | Cost: 3.6658\n",
            "Epoch: 008/038 Train Cost: 3.6877\n",
            "Time elapsed: 0.48 min\n",
            "Epoch: 009/038 | Batch 000/391 | Cost: 3.6607\n",
            "Epoch: 009/038 Train Cost: 3.6825\n",
            "Time elapsed: 0.54 min\n",
            "Epoch: 010/038 | Batch 000/391 | Cost: 3.7043\n",
            "Epoch: 010/038 Train Cost: 3.7297\n",
            "Time elapsed: 0.60 min\n",
            "Epoch: 011/038 | Batch 000/391 | Cost: 3.8605\n",
            "Epoch: 011/038 Train Cost: 3.5919\n",
            "Time elapsed: 0.66 min\n",
            "Epoch: 012/038 | Batch 000/391 | Cost: 3.8051\n",
            "Epoch: 012/038 Train Cost: 3.5722\n",
            "Time elapsed: 0.72 min\n",
            "Epoch: 013/038 | Batch 000/391 | Cost: 3.6602\n",
            "Epoch: 013/038 Train Cost: 3.5899\n",
            "Time elapsed: 0.78 min\n",
            "Epoch: 014/038 | Batch 000/391 | Cost: 3.7029\n",
            "Epoch: 014/038 Train Cost: 3.6855\n",
            "Time elapsed: 0.84 min\n",
            "Epoch: 015/038 | Batch 000/391 | Cost: 3.6266\n",
            "Epoch: 015/038 Train Cost: 3.6365\n",
            "Time elapsed: 0.90 min\n",
            "Epoch: 016/038 | Batch 000/391 | Cost: 3.7281\n",
            "Epoch: 016/038 Train Cost: 3.7745\n",
            "Time elapsed: 0.96 min\n",
            "Epoch: 017/038 | Batch 000/391 | Cost: 3.8368\n",
            "Epoch: 017/038 Train Cost: 3.6355\n",
            "Time elapsed: 1.02 min\n",
            "Epoch: 018/038 | Batch 000/391 | Cost: 3.7947\n",
            "Epoch: 018/038 Train Cost: 3.6416\n",
            "Time elapsed: 1.08 min\n",
            "Epoch: 019/038 | Batch 000/391 | Cost: 3.6937\n",
            "Epoch: 019/038 Train Cost: 3.7362\n",
            "Time elapsed: 1.14 min\n",
            "Epoch: 020/038 | Batch 000/391 | Cost: 3.8220\n",
            "Epoch: 020/038 Train Cost: 3.6028\n",
            "Time elapsed: 1.20 min\n",
            "Epoch: 021/038 | Batch 000/391 | Cost: 3.7447\n",
            "Epoch: 021/038 Train Cost: 3.6193\n",
            "Time elapsed: 1.26 min\n",
            "Epoch: 022/038 | Batch 000/391 | Cost: 3.8676\n",
            "Epoch: 022/038 Train Cost: 3.6556\n",
            "Time elapsed: 1.32 min\n",
            "Epoch: 023/038 | Batch 000/391 | Cost: 3.5741\n",
            "Epoch: 023/038 Train Cost: 3.7562\n",
            "Time elapsed: 1.38 min\n",
            "Epoch: 024/038 | Batch 000/391 | Cost: 3.3971\n",
            "Epoch: 024/038 Train Cost: 3.6775\n",
            "Time elapsed: 1.44 min\n",
            "Epoch: 025/038 | Batch 000/391 | Cost: 3.8295\n",
            "Epoch: 025/038 Train Cost: 3.7904\n",
            "Time elapsed: 1.50 min\n",
            "Epoch: 026/038 | Batch 000/391 | Cost: 3.8770\n",
            "Epoch: 026/038 Train Cost: 3.7246\n",
            "Time elapsed: 1.56 min\n",
            "Epoch: 027/038 | Batch 000/391 | Cost: 3.7256\n",
            "Epoch: 027/038 Train Cost: 3.6450\n",
            "Time elapsed: 1.62 min\n",
            "Epoch: 028/038 | Batch 000/391 | Cost: 3.9139\n",
            "Epoch: 028/038 Train Cost: 3.6598\n",
            "Time elapsed: 1.68 min\n",
            "Epoch: 029/038 | Batch 000/391 | Cost: 3.6834\n",
            "Epoch: 029/038 Train Cost: 3.7077\n",
            "Time elapsed: 1.74 min\n",
            "Epoch: 030/038 | Batch 000/391 | Cost: 3.7211\n",
            "Epoch: 030/038 Train Cost: 3.6302\n",
            "Time elapsed: 1.80 min\n",
            "Epoch: 031/038 | Batch 000/391 | Cost: 3.6913\n",
            "Epoch: 031/038 Train Cost: 3.7259\n",
            "Time elapsed: 1.86 min\n",
            "Epoch: 032/038 | Batch 000/391 | Cost: 3.7745\n",
            "Epoch: 032/038 Train Cost: 3.5914\n",
            "Time elapsed: 1.92 min\n",
            "Epoch: 033/038 | Batch 000/391 | Cost: 3.7196\n",
            "Epoch: 033/038 Train Cost: 3.6310\n",
            "Time elapsed: 1.98 min\n",
            "Epoch: 034/038 | Batch 000/391 | Cost: 3.6180\n",
            "Epoch: 034/038 Train Cost: 3.6516\n",
            "Time elapsed: 2.04 min\n",
            "Epoch: 035/038 | Batch 000/391 | Cost: 3.6137\n",
            "Epoch: 035/038 Train Cost: 3.6189\n",
            "Time elapsed: 2.10 min\n",
            "Epoch: 036/038 | Batch 000/391 | Cost: 3.7948\n",
            "Epoch: 036/038 Train Cost: 3.6631\n",
            "Time elapsed: 2.16 min\n",
            "Epoch: 037/038 | Batch 000/391 | Cost: 3.5824\n",
            "Epoch: 037/038 Train Cost: 3.7221\n",
            "Time elapsed: 2.21 min\n",
            "Epoch: 038/038 | Batch 000/391 | Cost: 3.8054\n",
            "Epoch: 038/038 Train Cost: 3.6297\n",
            "Time elapsed: 2.27 min\n",
            "Total Training Time: 2.27 min\n",
            "Training Accuracy: 14.32\n",
            "Test Accuracy: 13.55\n"
          ],
          "name": "stdout"
        }
      ]
    },
    {
      "cell_type": "code",
      "metadata": {
        "colab": {
          "base_uri": "https://localhost:8080/",
          "height": 350
        },
        "id": "7Cdqa6n-ysXt",
        "outputId": "949ed7b4-02e2-4d83-838f-550e57d99466"
      },
      "source": [
        "#Plot the loss curve\n",
        "\n",
        "plt.figure(figsize=(8,5))\n",
        "plt.plot(range(len(epoch_cost)), epoch_cost)\n",
        "plt.xlabel(\"Epoch\")\n",
        "plt.ylabel(\"Cross entropy loss\")\n",
        "plt.title(\"Loss of training\")\n",
        "plt.show()"
      ],
      "execution_count": 67,
      "outputs": [
        {
          "output_type": "display_data",
          "data": {
            "image/png": "[encoded data removed]",
            "text/plain": [
              "<Figure size 576x360 with 1 Axes>"
            ]
          },
          "metadata": {
            "tags": [],
            "needs_background": "light"
          }
        }
      ]
    },
    {
      "cell_type": "markdown",
      "metadata": {
        "id": "JrEfo7CmO9oW"
      },
      "source": [
        "## 5. Adagrad"
      ]
    },
    {
      "cell_type": "markdown",
      "metadata": {
        "id": "_Evx_cd0yw_6"
      },
      "source": [
        "### Model A: 3 Hidden Layers Feedforward Neural Network"
      ]
    },
    {
      "cell_type": "markdown",
      "metadata": {
        "id": "Zp3qcJukyw_6"
      },
      "source": [
        "#### Make dataset iterable"
      ]
    },
    {
      "cell_type": "code",
      "metadata": {
        "colab": {
          "base_uri": "https://localhost:8080/"
        },
        "id": "D728zm13yw_7",
        "outputId": "2c2c45df-bdd2-4801-d2d8-5969dc8f00d8"
      },
      "source": [
        "batch_size = 128\n",
        "n_iters = 15000\n",
        "num_epochs = n_iters / (len(train_data) / batch_size)\n",
        "num_epochs = int(num_epochs)\n",
        "print(num_epochs)"
      ],
      "execution_count": 68,
      "outputs": [
        {
          "output_type": "stream",
          "text": [
            "38\n"
          ],
          "name": "stdout"
        }
      ]
    },
    {
      "cell_type": "code",
      "metadata": {
        "id": "jL07BZJByw_7"
      },
      "source": [
        "train_loader = DataLoader(train_dataset, batch_size=batch_size, shuffle=True) # create your dataloader\n",
        "\n",
        "test_loader = DataLoader(test_dataset, batch_size=batch_size,  shuffle=False) # create your dataloader"
      ],
      "execution_count": 69,
      "outputs": []
    },
    {
      "cell_type": "markdown",
      "metadata": {
        "id": "ShEZ1REIyw_7"
      },
      "source": [
        "### Create model class"
      ]
    },
    {
      "cell_type": "code",
      "metadata": {
        "id": "qRE6Jlgmyw_7"
      },
      "source": [
        "class FeedforwardNeuralNetworkModel(nn.Module):\n",
        "    def __init__(self, input_size, hidden_size1,hidden_size2,hidden_size3, num_classes):\n",
        "        super(FeedforwardNeuralNetworkModel, self).__init__()\n",
        "        # linear function 1\n",
        "        self.fc1 = nn.Linear(input_dim, hidden_dim1)\n",
        "        # non-linearity 1\n",
        "        self.relu1 = nn.ReLU()\n",
        "        \n",
        "        # linear function 2\n",
        "        self.fc2 = nn.Linear(hidden_dim1, hidden_dim2)\n",
        "        self.dropout1 = nn.Dropout(0.25)\n",
        "        # non-linearity 2\n",
        "        self.relu2 = nn.ReLU()\n",
        "        \n",
        "        # linear function 3\n",
        "        self.fc3 = nn.Linear(hidden_dim2, hidden_dim3)\n",
        "        # non-linearity 3\n",
        "        self.relu3 = nn.ReLU()\n",
        "        \n",
        "        # linear function 4 (readout)\n",
        "        self.fc4 = nn.Linear(hidden_dim3, output_dim)\n",
        "        \n",
        "    def forward(self, x):\n",
        "        # linear function 1\n",
        "        out = self.fc1(x)\n",
        "        # non-linearity 1\n",
        "        out = self.relu1(out)\n",
        "        \n",
        "        # linear function 2\n",
        "        out = self.fc2(out)\n",
        "        out = self.dropout1(out)\n",
        "        # non-linearity 2\n",
        "        out = self.relu2(out)\n",
        "        \n",
        "        # linear function 3\n",
        "        out = self.fc3(out)\n",
        "        # non-linearity 3\n",
        "        out = self.relu3(out)\n",
        "        \n",
        "        #linear function 4 (readout)\n",
        "        out = self.fc4(out)\n",
        "        return out       \n",
        "    "
      ],
      "execution_count": 70,
      "outputs": []
    },
    {
      "cell_type": "code",
      "metadata": {
        "id": "1SyLj3BPyw_7"
      },
      "source": [
        "#  Instantiate model class\n",
        "input_dim = 3*32*32\n",
        "output_dim = 100\n",
        "hidden_dim1 = 1700\n",
        "hidden_dim2 = 1500\n",
        "hidden_dim3 = 512 \n",
        "\n",
        "model = FeedforwardNeuralNetworkModel(input_dim, hidden_dim1, hidden_dim2, hidden_dim3, output_dim)\n",
        "\n",
        "#######################\n",
        "#  USE GPU FOR MODEL  #\n",
        "#######################\n",
        "if torch.cuda.is_available():\n",
        "    model.cuda()\n",
        "    "
      ],
      "execution_count": 71,
      "outputs": []
    },
    {
      "cell_type": "code",
      "metadata": {
        "colab": {
          "base_uri": "https://localhost:8080/"
        },
        "id": "MCR1ZZS2yw_7",
        "outputId": "4b526d9c-a857-4fd9-f99b-9de5daa22589"
      },
      "source": [
        "summary(model, (1,3*32*32))"
      ],
      "execution_count": 72,
      "outputs": [
        {
          "output_type": "stream",
          "text": [
            "----------------------------------------------------------------\n",
            "        Layer (type)               Output Shape         Param #\n",
            "================================================================\n",
            "            Linear-1              [-1, 1, 1700]       5,224,100\n",
            "              ReLU-2              [-1, 1, 1700]               0\n",
            "            Linear-3              [-1, 1, 1500]       2,551,500\n",
            "           Dropout-4              [-1, 1, 1500]               0\n",
            "              ReLU-5              [-1, 1, 1500]               0\n",
            "            Linear-6               [-1, 1, 512]         768,512\n",
            "              ReLU-7               [-1, 1, 512]               0\n",
            "            Linear-8               [-1, 1, 100]          51,300\n",
            "================================================================\n",
            "Total params: 8,595,412\n",
            "Trainable params: 8,595,412\n",
            "Non-trainable params: 0\n",
            "----------------------------------------------------------------\n",
            "Input size (MB): 0.01\n",
            "Forward/backward pass size (MB): 0.07\n",
            "Params size (MB): 32.79\n",
            "Estimated Total Size (MB): 32.87\n",
            "----------------------------------------------------------------\n"
          ],
          "name": "stdout"
        }
      ]
    },
    {
      "cell_type": "code",
      "metadata": {
        "id": "8zM5wMo4yw_8"
      },
      "source": [
        "#  Instantiate loss class\n",
        "criterion=nn.CrossEntropyLoss()\n",
        "\n",
        "#  Instantiate optimizer class\n",
        "learning_rate = 0.001\n",
        "LAMBDA = 0.05\n",
        "optimizer = torch.optim.Adagrad(model.parameters(), lr=learning_rate, weight_decay=LAMBDA)"
      ],
      "execution_count": 73,
      "outputs": []
    },
    {
      "cell_type": "markdown",
      "metadata": {
        "id": "SBF-G__Hyw_8"
      },
      "source": [
        "#### Train the model"
      ]
    },
    {
      "cell_type": "code",
      "metadata": {
        "colab": {
          "base_uri": "https://localhost:8080/"
        },
        "id": "6JVQi_LYyw_8",
        "outputId": "afc0aec5-9d94-44cb-8b44-39532afc2824"
      },
      "source": [
        "start_time = time.time()\n",
        "minibatch_cost = []\n",
        "epoch_cost = []\n",
        "for epoch in range(num_epochs):\n",
        "    model.train()\n",
        "    for batch_idx, (features, targets) in enumerate(train_loader):\n",
        "        \n",
        "        features = features.view(-1, 3*32*32).to(device)\n",
        "        targets = targets.to(device)    \n",
        "        ### FORWARD AND BACK PROP\n",
        "        outputs = model(features)\n",
        "        \n",
        "        cost = criterion(outputs, targets)\n",
        "        optimizer.zero_grad()\n",
        "        \n",
        "        cost.backward()\n",
        "        minibatch_cost.append(cost)\n",
        "        ### UPDATE MODEL PARAMETERS\n",
        "        optimizer.step()\n",
        "        \n",
        "        ### LOGGING\n",
        "        if not batch_idx % 500:\n",
        "            print ('Epoch: %03d/%03d | Batch %03d/%03d | Cost: %.4f' \n",
        "                   %(epoch+1, num_epochs, batch_idx, \n",
        "                     len(train_loader), cost))\n",
        "       \n",
        "    model.eval()\n",
        "    with torch.no_grad():\n",
        "        cost = compute_loss(model, train_loader)\n",
        "        epoch_cost.append(cost)\n",
        "        print('Epoch: %03d/%03d Train Cost: %.4f' % (\n",
        "                epoch+1, num_epochs, cost))\n",
        "        print('Time elapsed: %.2f min' % ((time.time() - start_time)/60))\n",
        "\n",
        "        \n",
        "model.eval()\n",
        "with torch.no_grad():\n",
        "    print('Total Training Time: %.2f min' % ((time.time() - start_time)/60))\n",
        "\n",
        "    print('Training Accuracy: %.2f' % compute_accuracy(model, train_loader))\n",
        "    print('Test Accuracy: %.2f' % compute_accuracy(model, test_loader))"
      ],
      "execution_count": 74,
      "outputs": [
        {
          "output_type": "stream",
          "text": [
            "Epoch: 001/038 | Batch 000/391 | Cost: 16.8851\n",
            "Epoch: 001/038 Train Cost: 3.8758\n",
            "Time elapsed: 0.06 min\n",
            "Epoch: 002/038 | Batch 000/391 | Cost: 3.9337\n",
            "Epoch: 002/038 Train Cost: 3.6548\n",
            "Time elapsed: 0.11 min\n",
            "Epoch: 003/038 | Batch 000/391 | Cost: 3.7643\n",
            "Epoch: 003/038 Train Cost: 3.5489\n",
            "Time elapsed: 0.17 min\n",
            "Epoch: 004/038 | Batch 000/391 | Cost: 3.6567\n",
            "Epoch: 004/038 Train Cost: 3.4674\n",
            "Time elapsed: 0.22 min\n",
            "Epoch: 005/038 | Batch 000/391 | Cost: 3.6218\n",
            "Epoch: 005/038 Train Cost: 3.4116\n",
            "Time elapsed: 0.28 min\n",
            "Epoch: 006/038 | Batch 000/391 | Cost: 3.3058\n",
            "Epoch: 006/038 Train Cost: 3.3321\n",
            "Time elapsed: 0.33 min\n",
            "Epoch: 007/038 | Batch 000/391 | Cost: 3.4308\n",
            "Epoch: 007/038 Train Cost: 3.3141\n",
            "Time elapsed: 0.39 min\n",
            "Epoch: 008/038 | Batch 000/391 | Cost: 3.6466\n",
            "Epoch: 008/038 Train Cost: 3.2595\n",
            "Time elapsed: 0.44 min\n",
            "Epoch: 009/038 | Batch 000/391 | Cost: 3.3831\n",
            "Epoch: 009/038 Train Cost: 3.2456\n",
            "Time elapsed: 0.49 min\n",
            "Epoch: 010/038 | Batch 000/391 | Cost: 3.1596\n",
            "Epoch: 010/038 Train Cost: 3.1757\n",
            "Time elapsed: 0.55 min\n",
            "Epoch: 011/038 | Batch 000/391 | Cost: 3.3973\n",
            "Epoch: 011/038 Train Cost: 3.1583\n",
            "Time elapsed: 0.60 min\n",
            "Epoch: 012/038 | Batch 000/391 | Cost: 3.1645\n",
            "Epoch: 012/038 Train Cost: 3.1381\n",
            "Time elapsed: 0.66 min\n",
            "Epoch: 013/038 | Batch 000/391 | Cost: 2.9732\n",
            "Epoch: 013/038 Train Cost: 3.1280\n",
            "Time elapsed: 0.71 min\n",
            "Epoch: 014/038 | Batch 000/391 | Cost: 3.3617\n",
            "Epoch: 014/038 Train Cost: 3.0802\n",
            "Time elapsed: 0.76 min\n",
            "Epoch: 015/038 | Batch 000/391 | Cost: 3.1839\n",
            "Epoch: 015/038 Train Cost: 3.0687\n",
            "Time elapsed: 0.82 min\n",
            "Epoch: 016/038 | Batch 000/391 | Cost: 3.1197\n",
            "Epoch: 016/038 Train Cost: 3.0417\n",
            "Time elapsed: 0.87 min\n",
            "Epoch: 017/038 | Batch 000/391 | Cost: 3.0830\n",
            "Epoch: 017/038 Train Cost: 3.0540\n",
            "Time elapsed: 0.93 min\n",
            "Epoch: 018/038 | Batch 000/391 | Cost: 3.2531\n",
            "Epoch: 018/038 Train Cost: 3.0642\n",
            "Time elapsed: 0.98 min\n",
            "Epoch: 019/038 | Batch 000/391 | Cost: 3.4750\n",
            "Epoch: 019/038 Train Cost: 2.9858\n",
            "Time elapsed: 1.04 min\n",
            "Epoch: 020/038 | Batch 000/391 | Cost: 3.0560\n",
            "Epoch: 020/038 Train Cost: 2.9693\n",
            "Time elapsed: 1.09 min\n",
            "Epoch: 021/038 | Batch 000/391 | Cost: 3.2811\n",
            "Epoch: 021/038 Train Cost: 2.9694\n",
            "Time elapsed: 1.14 min\n",
            "Epoch: 022/038 | Batch 000/391 | Cost: 3.1410\n",
            "Epoch: 022/038 Train Cost: 2.9636\n",
            "Time elapsed: 1.20 min\n",
            "Epoch: 023/038 | Batch 000/391 | Cost: 2.8551\n",
            "Epoch: 023/038 Train Cost: 2.9394\n",
            "Time elapsed: 1.25 min\n",
            "Epoch: 024/038 | Batch 000/391 | Cost: 3.0577\n",
            "Epoch: 024/038 Train Cost: 2.9345\n",
            "Time elapsed: 1.31 min\n",
            "Epoch: 025/038 | Batch 000/391 | Cost: 2.7539\n",
            "Epoch: 025/038 Train Cost: 2.9166\n",
            "Time elapsed: 1.36 min\n",
            "Epoch: 026/038 | Batch 000/391 | Cost: 2.8486\n",
            "Epoch: 026/038 Train Cost: 2.9161\n",
            "Time elapsed: 1.41 min\n",
            "Epoch: 027/038 | Batch 000/391 | Cost: 3.0064\n",
            "Epoch: 027/038 Train Cost: 2.8998\n",
            "Time elapsed: 1.47 min\n",
            "Epoch: 028/038 | Batch 000/391 | Cost: 2.7330\n",
            "Epoch: 028/038 Train Cost: 2.9078\n",
            "Time elapsed: 1.52 min\n",
            "Epoch: 029/038 | Batch 000/391 | Cost: 3.0471\n",
            "Epoch: 029/038 Train Cost: 2.8761\n",
            "Time elapsed: 1.58 min\n",
            "Epoch: 030/038 | Batch 000/391 | Cost: 3.0490\n",
            "Epoch: 030/038 Train Cost: 2.8654\n",
            "Time elapsed: 1.63 min\n",
            "Epoch: 031/038 | Batch 000/391 | Cost: 3.1680\n",
            "Epoch: 031/038 Train Cost: 2.8512\n",
            "Time elapsed: 1.68 min\n",
            "Epoch: 032/038 | Batch 000/391 | Cost: 2.8463\n",
            "Epoch: 032/038 Train Cost: 2.8495\n",
            "Time elapsed: 1.74 min\n",
            "Epoch: 033/038 | Batch 000/391 | Cost: 2.7195\n",
            "Epoch: 033/038 Train Cost: 2.8476\n",
            "Time elapsed: 1.79 min\n",
            "Epoch: 034/038 | Batch 000/391 | Cost: 2.7133\n",
            "Epoch: 034/038 Train Cost: 2.8259\n",
            "Time elapsed: 1.84 min\n",
            "Epoch: 035/038 | Batch 000/391 | Cost: 2.8560\n",
            "Epoch: 035/038 Train Cost: 2.8161\n",
            "Time elapsed: 1.89 min\n",
            "Epoch: 036/038 | Batch 000/391 | Cost: 2.8513\n",
            "Epoch: 036/038 Train Cost: 2.8115\n",
            "Time elapsed: 1.95 min\n",
            "Epoch: 037/038 | Batch 000/391 | Cost: 2.9797\n",
            "Epoch: 037/038 Train Cost: 2.8040\n",
            "Time elapsed: 2.00 min\n",
            "Epoch: 038/038 | Batch 000/391 | Cost: 3.0373\n",
            "Epoch: 038/038 Train Cost: 2.7898\n",
            "Time elapsed: 2.05 min\n",
            "Total Training Time: 2.05 min\n",
            "Training Accuracy: 32.34\n",
            "Test Accuracy: 26.32\n"
          ],
          "name": "stdout"
        }
      ]
    },
    {
      "cell_type": "code",
      "metadata": {
        "colab": {
          "base_uri": "https://localhost:8080/",
          "height": 350
        },
        "id": "_eKqcj8Syw_8",
        "outputId": "9dea9565-cbb8-4291-854e-e1f11e371e5e"
      },
      "source": [
        "#Plot the loss curve\n",
        "\n",
        "plt.figure(figsize=(8,5))\n",
        "plt.plot(range(len(epoch_cost)), epoch_cost)\n",
        "plt.xlabel(\"Epoch\")\n",
        "plt.ylabel(\"Cross entropy loss\")\n",
        "plt.title(\"Loss of training\")\n",
        "plt.show()"
      ],
      "execution_count": 75,
      "outputs": [
        {
          "output_type": "display_data",
          "data": {
            "image/png": "[encoded data removed]",
            "text/plain": [
              "<Figure size 576x360 with 1 Axes>"
            ]
          },
          "metadata": {
            "tags": [],
            "needs_background": "light"
          }
        }
      ]
    },
    {
      "cell_type": "markdown",
      "metadata": {
        "id": "NCvcd-CDO9oa"
      },
      "source": [
        "## 6. Adadelta"
      ]
    },
    {
      "cell_type": "markdown",
      "metadata": {
        "id": "XDHdLdtLy4HP"
      },
      "source": [
        "### Model A: 3 Hidden Layers Feedforward Neural Network"
      ]
    },
    {
      "cell_type": "markdown",
      "metadata": {
        "id": "zoHDqt-Yy4HP"
      },
      "source": [
        "#### Make dataset iterable"
      ]
    },
    {
      "cell_type": "code",
      "metadata": {
        "colab": {
          "base_uri": "https://localhost:8080/"
        },
        "id": "KEyG-YZby4HP",
        "outputId": "83da9b3f-cf3f-483e-a2a3-ab6e1236fd59"
      },
      "source": [
        "batch_size = 128\n",
        "n_iters = 15000\n",
        "num_epochs = n_iters / (len(train_data) / batch_size)\n",
        "num_epochs = int(num_epochs)\n",
        "print(num_epochs)"
      ],
      "execution_count": 76,
      "outputs": [
        {
          "output_type": "stream",
          "text": [
            "38\n"
          ],
          "name": "stdout"
        }
      ]
    },
    {
      "cell_type": "code",
      "metadata": {
        "id": "qEySOpEEy4HP"
      },
      "source": [
        "train_loader = DataLoader(train_dataset, batch_size=batch_size, shuffle=True) # create your dataloader\n",
        "\n",
        "test_loader = DataLoader(test_dataset, batch_size=batch_size,  shuffle=False) # create your dataloader"
      ],
      "execution_count": 77,
      "outputs": []
    },
    {
      "cell_type": "markdown",
      "metadata": {
        "id": "L1rkpMrgy4HP"
      },
      "source": [
        "### Create model class"
      ]
    },
    {
      "cell_type": "code",
      "metadata": {
        "id": "tXvF7i9Cy4HP"
      },
      "source": [
        "class FeedforwardNeuralNetworkModel(nn.Module):\n",
        "    def __init__(self, input_size, hidden_size1,hidden_size2,hidden_size3, num_classes):\n",
        "        super(FeedforwardNeuralNetworkModel, self).__init__()\n",
        "        # linear function 1\n",
        "        self.fc1 = nn.Linear(input_dim, hidden_dim1)\n",
        "        # non-linearity 1\n",
        "        self.relu1 = nn.ReLU()\n",
        "        \n",
        "        # linear function 2\n",
        "        self.fc2 = nn.Linear(hidden_dim1, hidden_dim2)\n",
        "        self.dropout1 = nn.Dropout(0.25)\n",
        "        # non-linearity 2\n",
        "        self.relu2 = nn.ReLU()\n",
        "        \n",
        "        # linear function 3\n",
        "        self.fc3 = nn.Linear(hidden_dim2, hidden_dim3)\n",
        "        # non-linearity 3\n",
        "        self.relu3 = nn.ReLU()\n",
        "        \n",
        "        # linear function 4 (readout)\n",
        "        self.fc4 = nn.Linear(hidden_dim3, output_dim)\n",
        "        \n",
        "    def forward(self, x):\n",
        "        # linear function 1\n",
        "        out = self.fc1(x)\n",
        "        # non-linearity 1\n",
        "        out = self.relu1(out)\n",
        "        \n",
        "        # linear function 2\n",
        "        out = self.fc2(out)\n",
        "        out = self.dropout1(out)\n",
        "        # non-linearity 2\n",
        "        out = self.relu2(out)\n",
        "        \n",
        "        # linear function 3\n",
        "        out = self.fc3(out)\n",
        "        # non-linearity 3\n",
        "        out = self.relu3(out)\n",
        "        \n",
        "        #linear function 4 (readout)\n",
        "        out = self.fc4(out)\n",
        "        return out       \n",
        "    "
      ],
      "execution_count": 78,
      "outputs": []
    },
    {
      "cell_type": "code",
      "metadata": {
        "id": "m-GXnnS8y4HP"
      },
      "source": [
        "#  Instantiate model class\n",
        "input_dim = 3*32*32\n",
        "output_dim = 100\n",
        "hidden_dim1 = 1700\n",
        "hidden_dim2 = 1500\n",
        "hidden_dim3 = 512 \n",
        "\n",
        "model = FeedforwardNeuralNetworkModel(input_dim, hidden_dim1, hidden_dim2, hidden_dim3, output_dim)\n",
        "\n",
        "#######################\n",
        "#  USE GPU FOR MODEL  #\n",
        "#######################\n",
        "if torch.cuda.is_available():\n",
        "    model.cuda()\n",
        "    "
      ],
      "execution_count": 79,
      "outputs": []
    },
    {
      "cell_type": "code",
      "metadata": {
        "colab": {
          "base_uri": "https://localhost:8080/"
        },
        "id": "HACh1bTxy4HQ",
        "outputId": "e4c8dfea-ae20-454f-f2ae-88d200c3677d"
      },
      "source": [
        "summary(model, (1,3*32*32))"
      ],
      "execution_count": 80,
      "outputs": [
        {
          "output_type": "stream",
          "text": [
            "----------------------------------------------------------------\n",
            "        Layer (type)               Output Shape         Param #\n",
            "================================================================\n",
            "            Linear-1              [-1, 1, 1700]       5,224,100\n",
            "              ReLU-2              [-1, 1, 1700]               0\n",
            "            Linear-3              [-1, 1, 1500]       2,551,500\n",
            "           Dropout-4              [-1, 1, 1500]               0\n",
            "              ReLU-5              [-1, 1, 1500]               0\n",
            "            Linear-6               [-1, 1, 512]         768,512\n",
            "              ReLU-7               [-1, 1, 512]               0\n",
            "            Linear-8               [-1, 1, 100]          51,300\n",
            "================================================================\n",
            "Total params: 8,595,412\n",
            "Trainable params: 8,595,412\n",
            "Non-trainable params: 0\n",
            "----------------------------------------------------------------\n",
            "Input size (MB): 0.01\n",
            "Forward/backward pass size (MB): 0.07\n",
            "Params size (MB): 32.79\n",
            "Estimated Total Size (MB): 32.87\n",
            "----------------------------------------------------------------\n"
          ],
          "name": "stdout"
        }
      ]
    },
    {
      "cell_type": "code",
      "metadata": {
        "id": "T9NnNP-Wy4HQ"
      },
      "source": [
        "#  Instantiate loss class\n",
        "criterion=nn.CrossEntropyLoss()\n",
        "\n",
        "#  Instantiate optimizer class\n",
        "learning_rate = 0.001\n",
        "LAMBDA = 0.05\n",
        "optimizer = torch.optim.Adadelta(model.parameters(), lr=learning_rate, weight_decay=LAMBDA)"
      ],
      "execution_count": 81,
      "outputs": []
    },
    {
      "cell_type": "markdown",
      "metadata": {
        "id": "TmH4VwN9y4HQ"
      },
      "source": [
        "#### Train the model"
      ]
    },
    {
      "cell_type": "code",
      "metadata": {
        "colab": {
          "base_uri": "https://localhost:8080/"
        },
        "id": "WXxJMIAQy4HQ",
        "outputId": "5dc417c9-d651-4a6b-f2b6-6dd3765ccde6"
      },
      "source": [
        "start_time = time.time()\n",
        "minibatch_cost = []\n",
        "epoch_cost = []\n",
        "for epoch in range(num_epochs):\n",
        "    model.train()\n",
        "    for batch_idx, (features, targets) in enumerate(train_loader):\n",
        "        \n",
        "        features = features.view(-1, 3*32*32).to(device)\n",
        "        targets = targets.to(device)    \n",
        "        ### FORWARD AND BACK PROP\n",
        "        outputs = model(features)\n",
        "        \n",
        "        cost = criterion(outputs, targets)\n",
        "        optimizer.zero_grad()\n",
        "        \n",
        "        cost.backward()\n",
        "        minibatch_cost.append(cost)\n",
        "        ### UPDATE MODEL PARAMETERS\n",
        "        optimizer.step()\n",
        "        \n",
        "        ### LOGGING\n",
        "        if not batch_idx % 500:\n",
        "            print ('Epoch: %03d/%03d | Batch %03d/%03d | Cost: %.4f' \n",
        "                   %(epoch+1, num_epochs, batch_idx, \n",
        "                     len(train_loader), cost))\n",
        "       \n",
        "    model.eval()\n",
        "    with torch.no_grad():\n",
        "        cost = compute_loss(model, train_loader)\n",
        "        epoch_cost.append(cost)\n",
        "        print('Epoch: %03d/%03d Train Cost: %.4f' % (\n",
        "                epoch+1, num_epochs, cost))\n",
        "        print('Time elapsed: %.2f min' % ((time.time() - start_time)/60))\n",
        "\n",
        "        \n",
        "model.eval()\n",
        "with torch.no_grad():\n",
        "    print('Total Training Time: %.2f min' % ((time.time() - start_time)/60))\n",
        "\n",
        "    print('Training Accuracy: %.2f' % compute_accuracy(model, train_loader))\n",
        "    print('Test Accuracy: %.2f' % compute_accuracy(model, test_loader))"
      ],
      "execution_count": 82,
      "outputs": [
        {
          "output_type": "stream",
          "text": [
            "Epoch: 001/038 | Batch 000/391 | Cost: 13.5763\n",
            "Epoch: 001/038 Train Cost: 4.4366\n",
            "Time elapsed: 0.07 min\n",
            "Epoch: 002/038 | Batch 000/391 | Cost: 4.5941\n",
            "Epoch: 002/038 Train Cost: 4.2138\n",
            "Time elapsed: 0.13 min\n",
            "Epoch: 003/038 | Batch 000/391 | Cost: 4.3617\n",
            "Epoch: 003/038 Train Cost: 4.0700\n",
            "Time elapsed: 0.20 min\n",
            "Epoch: 004/038 | Batch 000/391 | Cost: 4.1138\n",
            "Epoch: 004/038 Train Cost: 3.9675\n",
            "Time elapsed: 0.27 min\n",
            "Epoch: 005/038 | Batch 000/391 | Cost: 4.1618\n",
            "Epoch: 005/038 Train Cost: 3.8843\n",
            "Time elapsed: 0.33 min\n",
            "Epoch: 006/038 | Batch 000/391 | Cost: 4.0130\n",
            "Epoch: 006/038 Train Cost: 3.8126\n",
            "Time elapsed: 0.40 min\n",
            "Epoch: 007/038 | Batch 000/391 | Cost: 3.9460\n",
            "Epoch: 007/038 Train Cost: 3.7538\n",
            "Time elapsed: 0.46 min\n",
            "Epoch: 008/038 | Batch 000/391 | Cost: 3.8674\n",
            "Epoch: 008/038 Train Cost: 3.7052\n",
            "Time elapsed: 0.53 min\n",
            "Epoch: 009/038 | Batch 000/391 | Cost: 3.9243\n",
            "Epoch: 009/038 Train Cost: 3.6570\n",
            "Time elapsed: 0.59 min\n",
            "Epoch: 010/038 | Batch 000/391 | Cost: 4.0201\n",
            "Epoch: 010/038 Train Cost: 3.6123\n",
            "Time elapsed: 0.66 min\n",
            "Epoch: 011/038 | Batch 000/391 | Cost: 3.8233\n",
            "Epoch: 011/038 Train Cost: 3.5718\n",
            "Time elapsed: 0.73 min\n",
            "Epoch: 012/038 | Batch 000/391 | Cost: 3.6884\n",
            "Epoch: 012/038 Train Cost: 3.5330\n",
            "Time elapsed: 0.79 min\n",
            "Epoch: 013/038 | Batch 000/391 | Cost: 3.6845\n",
            "Epoch: 013/038 Train Cost: 3.5006\n",
            "Time elapsed: 0.86 min\n",
            "Epoch: 014/038 | Batch 000/391 | Cost: 3.5155\n",
            "Epoch: 014/038 Train Cost: 3.4675\n",
            "Time elapsed: 0.93 min\n",
            "Epoch: 015/038 | Batch 000/391 | Cost: 3.8074\n",
            "Epoch: 015/038 Train Cost: 3.4335\n",
            "Time elapsed: 0.99 min\n",
            "Epoch: 016/038 | Batch 000/391 | Cost: 3.5904\n",
            "Epoch: 016/038 Train Cost: 3.4038\n",
            "Time elapsed: 1.06 min\n",
            "Epoch: 017/038 | Batch 000/391 | Cost: 3.7140\n",
            "Epoch: 017/038 Train Cost: 3.3753\n",
            "Time elapsed: 1.12 min\n",
            "Epoch: 018/038 | Batch 000/391 | Cost: 3.5443\n",
            "Epoch: 018/038 Train Cost: 3.3501\n",
            "Time elapsed: 1.19 min\n",
            "Epoch: 019/038 | Batch 000/391 | Cost: 3.6514\n",
            "Epoch: 019/038 Train Cost: 3.3258\n",
            "Time elapsed: 1.26 min\n",
            "Epoch: 020/038 | Batch 000/391 | Cost: 3.3969\n",
            "Epoch: 020/038 Train Cost: 3.3024\n",
            "Time elapsed: 1.32 min\n",
            "Epoch: 021/038 | Batch 000/391 | Cost: 3.5601\n",
            "Epoch: 021/038 Train Cost: 3.2747\n",
            "Time elapsed: 1.39 min\n",
            "Epoch: 022/038 | Batch 000/391 | Cost: 3.3869\n",
            "Epoch: 022/038 Train Cost: 3.2495\n",
            "Time elapsed: 1.45 min\n",
            "Epoch: 023/038 | Batch 000/391 | Cost: 3.3023\n",
            "Epoch: 023/038 Train Cost: 3.2338\n",
            "Time elapsed: 1.52 min\n",
            "Epoch: 024/038 | Batch 000/391 | Cost: 3.5733\n",
            "Epoch: 024/038 Train Cost: 3.2087\n",
            "Time elapsed: 1.59 min\n",
            "Epoch: 025/038 | Batch 000/391 | Cost: 3.3481\n",
            "Epoch: 025/038 Train Cost: 3.1877\n",
            "Time elapsed: 1.65 min\n",
            "Epoch: 026/038 | Batch 000/391 | Cost: 3.6331\n",
            "Epoch: 026/038 Train Cost: 3.1701\n",
            "Time elapsed: 1.72 min\n",
            "Epoch: 027/038 | Batch 000/391 | Cost: 3.3336\n",
            "Epoch: 027/038 Train Cost: 3.1484\n",
            "Time elapsed: 1.78 min\n",
            "Epoch: 028/038 | Batch 000/391 | Cost: 3.1875\n",
            "Epoch: 028/038 Train Cost: 3.1280\n",
            "Time elapsed: 1.85 min\n",
            "Epoch: 029/038 | Batch 000/391 | Cost: 3.4060\n",
            "Epoch: 029/038 Train Cost: 3.1046\n",
            "Time elapsed: 1.92 min\n",
            "Epoch: 030/038 | Batch 000/391 | Cost: 3.1726\n",
            "Epoch: 030/038 Train Cost: 3.0932\n",
            "Time elapsed: 1.98 min\n",
            "Epoch: 031/038 | Batch 000/391 | Cost: 3.0741\n",
            "Epoch: 031/038 Train Cost: 3.0741\n",
            "Time elapsed: 2.05 min\n",
            "Epoch: 032/038 | Batch 000/391 | Cost: 3.0855\n",
            "Epoch: 032/038 Train Cost: 3.0514\n",
            "Time elapsed: 2.11 min\n",
            "Epoch: 033/038 | Batch 000/391 | Cost: 3.2039\n",
            "Epoch: 033/038 Train Cost: 3.0442\n",
            "Time elapsed: 2.18 min\n",
            "Epoch: 034/038 | Batch 000/391 | Cost: 3.1460\n",
            "Epoch: 034/038 Train Cost: 3.0218\n",
            "Time elapsed: 2.25 min\n",
            "Epoch: 035/038 | Batch 000/391 | Cost: 3.1382\n",
            "Epoch: 035/038 Train Cost: 3.0036\n",
            "Time elapsed: 2.31 min\n",
            "Epoch: 036/038 | Batch 000/391 | Cost: 3.0878\n",
            "Epoch: 036/038 Train Cost: 2.9887\n",
            "Time elapsed: 2.38 min\n",
            "Epoch: 037/038 | Batch 000/391 | Cost: 2.9020\n",
            "Epoch: 037/038 Train Cost: 2.9763\n",
            "Time elapsed: 2.44 min\n",
            "Epoch: 038/038 | Batch 000/391 | Cost: 3.1508\n",
            "Epoch: 038/038 Train Cost: 2.9596\n",
            "Time elapsed: 2.51 min\n",
            "Total Training Time: 2.51 min\n",
            "Training Accuracy: 30.34\n",
            "Test Accuracy: 21.43\n"
          ],
          "name": "stdout"
        }
      ]
    },
    {
      "cell_type": "code",
      "metadata": {
        "colab": {
          "base_uri": "https://localhost:8080/",
          "height": 350
        },
        "id": "emobJ5B4y4HQ",
        "outputId": "32016f45-fac4-46be-aa6c-f5e6bcee473a"
      },
      "source": [
        "#Plot the loss curve\n",
        "\n",
        "plt.figure(figsize=(8,5))\n",
        "plt.plot(range(len(epoch_cost)), epoch_cost)\n",
        "plt.xlabel(\"Epoch\")\n",
        "plt.ylabel(\"Cross entropy loss\")\n",
        "plt.title(\"Loss of training\")\n",
        "plt.show()"
      ],
      "execution_count": 83,
      "outputs": [
        {
          "output_type": "display_data",
          "data": {
            "image/png": "[encoded data removed]",
            "text/plain": [
              "<Figure size 576x360 with 1 Axes>"
            ]
          },
          "metadata": {
            "tags": [],
            "needs_background": "light"
          }
        }
      ]
    },
    {
      "cell_type": "markdown",
      "metadata": {
        "id": "C1l2uSvRO9oc"
      },
      "source": [
        "## 7. Adamax"
      ]
    },
    {
      "cell_type": "markdown",
      "metadata": {
        "id": "tnFml6gczALv"
      },
      "source": [
        "### Model A: 3 Hidden Layers Feedforward Neural Network"
      ]
    },
    {
      "cell_type": "markdown",
      "metadata": {
        "id": "GwI2KIV0zALv"
      },
      "source": [
        "#### Make dataset iterable"
      ]
    },
    {
      "cell_type": "code",
      "metadata": {
        "colab": {
          "base_uri": "https://localhost:8080/"
        },
        "id": "MmqXRlyfzALw",
        "outputId": "caeaadaf-409c-4bb3-9042-1722f4566c8d"
      },
      "source": [
        "batch_size = 128\n",
        "n_iters = 15000\n",
        "num_epochs = n_iters / (len(train_data) / batch_size)\n",
        "num_epochs = int(num_epochs)\n",
        "print(num_epochs)"
      ],
      "execution_count": 84,
      "outputs": [
        {
          "output_type": "stream",
          "text": [
            "38\n"
          ],
          "name": "stdout"
        }
      ]
    },
    {
      "cell_type": "code",
      "metadata": {
        "id": "3Uz_9DkXzALw"
      },
      "source": [
        "train_loader = DataLoader(train_dataset, batch_size=batch_size, shuffle=True) # create your dataloader\n",
        "\n",
        "test_loader = DataLoader(test_dataset, batch_size=batch_size,  shuffle=False) # create your dataloader"
      ],
      "execution_count": 85,
      "outputs": []
    },
    {
      "cell_type": "markdown",
      "metadata": {
        "id": "Y91KZmj6zALw"
      },
      "source": [
        "### Create model class"
      ]
    },
    {
      "cell_type": "code",
      "metadata": {
        "id": "zuVlR5GKzALw"
      },
      "source": [
        "class FeedforwardNeuralNetworkModel(nn.Module):\n",
        "    def __init__(self, input_size, hidden_size1,hidden_size2,hidden_size3, num_classes):\n",
        "        super(FeedforwardNeuralNetworkModel, self).__init__()\n",
        "        # linear function 1\n",
        "        self.fc1 = nn.Linear(input_dim, hidden_dim1)\n",
        "        # non-linearity 1\n",
        "        self.relu1 = nn.ReLU()\n",
        "        \n",
        "        # linear function 2\n",
        "        self.fc2 = nn.Linear(hidden_dim1, hidden_dim2)\n",
        "        self.dropout1 = nn.Dropout(0.25)\n",
        "        # non-linearity 2\n",
        "        self.relu2 = nn.ReLU()\n",
        "        \n",
        "        # linear function 3\n",
        "        self.fc3 = nn.Linear(hidden_dim2, hidden_dim3)\n",
        "        # non-linearity 3\n",
        "        self.relu3 = nn.ReLU()\n",
        "        \n",
        "        # linear function 4 (readout)\n",
        "        self.fc4 = nn.Linear(hidden_dim3, output_dim)\n",
        "        \n",
        "    def forward(self, x):\n",
        "        # linear function 1\n",
        "        out = self.fc1(x)\n",
        "        # non-linearity 1\n",
        "        out = self.relu1(out)\n",
        "        \n",
        "        # linear function 2\n",
        "        out = self.fc2(out)\n",
        "        out = self.dropout1(out)\n",
        "        # non-linearity 2\n",
        "        out = self.relu2(out)\n",
        "        \n",
        "        # linear function 3\n",
        "        out = self.fc3(out)\n",
        "        # non-linearity 3\n",
        "        out = self.relu3(out)\n",
        "        \n",
        "        #linear function 4 (readout)\n",
        "        out = self.fc4(out)\n",
        "        return out       \n",
        "    "
      ],
      "execution_count": 86,
      "outputs": []
    },
    {
      "cell_type": "code",
      "metadata": {
        "id": "oHEqvwCGzALw"
      },
      "source": [
        "#  Instantiate model class\n",
        "input_dim = 3*32*32\n",
        "output_dim = 100\n",
        "hidden_dim1 = 1700\n",
        "hidden_dim2 = 1500\n",
        "hidden_dim3 = 512 \n",
        "\n",
        "model = FeedforwardNeuralNetworkModel(input_dim, hidden_dim1, hidden_dim2, hidden_dim3, output_dim)\n",
        "\n",
        "#######################\n",
        "#  USE GPU FOR MODEL  #\n",
        "#######################\n",
        "if torch.cuda.is_available():\n",
        "    model.cuda()\n",
        "    "
      ],
      "execution_count": 87,
      "outputs": []
    },
    {
      "cell_type": "code",
      "metadata": {
        "colab": {
          "base_uri": "https://localhost:8080/"
        },
        "id": "9Fs9n8oozALw",
        "outputId": "20f446ac-882e-45da-a5ff-fbfe9972f1cc"
      },
      "source": [
        "summary(model, (1,3*32*32))"
      ],
      "execution_count": 88,
      "outputs": [
        {
          "output_type": "stream",
          "text": [
            "----------------------------------------------------------------\n",
            "        Layer (type)               Output Shape         Param #\n",
            "================================================================\n",
            "            Linear-1              [-1, 1, 1700]       5,224,100\n",
            "              ReLU-2              [-1, 1, 1700]               0\n",
            "            Linear-3              [-1, 1, 1500]       2,551,500\n",
            "           Dropout-4              [-1, 1, 1500]               0\n",
            "              ReLU-5              [-1, 1, 1500]               0\n",
            "            Linear-6               [-1, 1, 512]         768,512\n",
            "              ReLU-7               [-1, 1, 512]               0\n",
            "            Linear-8               [-1, 1, 100]          51,300\n",
            "================================================================\n",
            "Total params: 8,595,412\n",
            "Trainable params: 8,595,412\n",
            "Non-trainable params: 0\n",
            "----------------------------------------------------------------\n",
            "Input size (MB): 0.01\n",
            "Forward/backward pass size (MB): 0.07\n",
            "Params size (MB): 32.79\n",
            "Estimated Total Size (MB): 32.87\n",
            "----------------------------------------------------------------\n"
          ],
          "name": "stdout"
        }
      ]
    },
    {
      "cell_type": "code",
      "metadata": {
        "id": "YRhHPcNMzALx"
      },
      "source": [
        "#  Instantiate loss class\n",
        "criterion=nn.CrossEntropyLoss()\n",
        "\n",
        "#  Instantiate optimizer class\n",
        "learning_rate = 0.001\n",
        "LAMBDA = 0.05\n",
        "optimizer = torch.optim.Adamax(model.parameters(), lr=learning_rate, weight_decay=LAMBDA)"
      ],
      "execution_count": 89,
      "outputs": []
    },
    {
      "cell_type": "markdown",
      "metadata": {
        "id": "8hjWuGDCzALx"
      },
      "source": [
        "#### Train the model"
      ]
    },
    {
      "cell_type": "code",
      "metadata": {
        "colab": {
          "base_uri": "https://localhost:8080/"
        },
        "id": "kiBBcR4hzALx",
        "outputId": "fe44b8cc-9bc3-41d9-899d-0e5250185671"
      },
      "source": [
        "start_time = time.time()\n",
        "minibatch_cost = []\n",
        "epoch_cost = []\n",
        "for epoch in range(num_epochs):\n",
        "    model.train()\n",
        "    for batch_idx, (features, targets) in enumerate(train_loader):\n",
        "        \n",
        "        features = features.view(-1, 3*32*32).to(device)\n",
        "        targets = targets.to(device)    \n",
        "        ### FORWARD AND BACK PROP\n",
        "        outputs = model(features)\n",
        "        \n",
        "        cost = criterion(outputs, targets)\n",
        "        optimizer.zero_grad()\n",
        "        \n",
        "        cost.backward()\n",
        "        minibatch_cost.append(cost)\n",
        "        ### UPDATE MODEL PARAMETERS\n",
        "        optimizer.step()\n",
        "        \n",
        "        ### LOGGING\n",
        "        if not batch_idx % 500:\n",
        "            print ('Epoch: %03d/%03d | Batch %03d/%03d | Cost: %.4f' \n",
        "                   %(epoch+1, num_epochs, batch_idx, \n",
        "                     len(train_loader), cost))\n",
        "       \n",
        "    model.eval()\n",
        "    with torch.no_grad():\n",
        "        cost = compute_loss(model, train_loader)\n",
        "        epoch_cost.append(cost)\n",
        "        print('Epoch: %03d/%03d Train Cost: %.4f' % (\n",
        "                epoch+1, num_epochs, cost))\n",
        "        print('Time elapsed: %.2f min' % ((time.time() - start_time)/60))\n",
        "\n",
        "        \n",
        "model.eval()\n",
        "with torch.no_grad():\n",
        "    print('Total Training Time: %.2f min' % ((time.time() - start_time)/60))\n",
        "\n",
        "    print('Training Accuracy: %.2f' % compute_accuracy(model, train_loader))\n",
        "    print('Test Accuracy: %.2f' % compute_accuracy(model, test_loader))"
      ],
      "execution_count": 90,
      "outputs": [
        {
          "output_type": "stream",
          "text": [
            "Epoch: 001/038 | Batch 000/391 | Cost: 14.7671\n",
            "Epoch: 001/038 Train Cost: 3.9878\n",
            "Time elapsed: 0.07 min\n",
            "Epoch: 002/038 | Batch 000/391 | Cost: 3.9649\n",
            "Epoch: 002/038 Train Cost: 3.7693\n",
            "Time elapsed: 0.13 min\n",
            "Epoch: 003/038 | Batch 000/391 | Cost: 3.7591\n",
            "Epoch: 003/038 Train Cost: 3.6697\n",
            "Time elapsed: 0.19 min\n",
            "Epoch: 004/038 | Batch 000/391 | Cost: 3.6502\n",
            "Epoch: 004/038 Train Cost: 3.6175\n",
            "Time elapsed: 0.25 min\n",
            "Epoch: 005/038 | Batch 000/391 | Cost: 3.4472\n",
            "Epoch: 005/038 Train Cost: 3.4960\n",
            "Time elapsed: 0.32 min\n",
            "Epoch: 006/038 | Batch 000/391 | Cost: 3.4866\n",
            "Epoch: 006/038 Train Cost: 3.4415\n",
            "Time elapsed: 0.38 min\n",
            "Epoch: 007/038 | Batch 000/391 | Cost: 3.2969\n",
            "Epoch: 007/038 Train Cost: 3.4896\n",
            "Time elapsed: 0.44 min\n",
            "Epoch: 008/038 | Batch 000/391 | Cost: 3.5404\n",
            "Epoch: 008/038 Train Cost: 3.4174\n",
            "Time elapsed: 0.50 min\n",
            "Epoch: 009/038 | Batch 000/391 | Cost: 3.4541\n",
            "Epoch: 009/038 Train Cost: 3.3813\n",
            "Time elapsed: 0.57 min\n",
            "Epoch: 010/038 | Batch 000/391 | Cost: 3.2052\n",
            "Epoch: 010/038 Train Cost: 3.3658\n",
            "Time elapsed: 0.63 min\n",
            "Epoch: 011/038 | Batch 000/391 | Cost: 3.2447\n",
            "Epoch: 011/038 Train Cost: 3.3588\n",
            "Time elapsed: 0.69 min\n",
            "Epoch: 012/038 | Batch 000/391 | Cost: 3.2789\n",
            "Epoch: 012/038 Train Cost: 3.3270\n",
            "Time elapsed: 0.75 min\n",
            "Epoch: 013/038 | Batch 000/391 | Cost: 3.5080\n",
            "Epoch: 013/038 Train Cost: 3.3000\n",
            "Time elapsed: 0.81 min\n",
            "Epoch: 014/038 | Batch 000/391 | Cost: 3.1391\n",
            "Epoch: 014/038 Train Cost: 3.3271\n",
            "Time elapsed: 0.88 min\n",
            "Epoch: 015/038 | Batch 000/391 | Cost: 3.3673\n",
            "Epoch: 015/038 Train Cost: 3.2662\n",
            "Time elapsed: 0.94 min\n",
            "Epoch: 016/038 | Batch 000/391 | Cost: 3.3591\n",
            "Epoch: 016/038 Train Cost: 3.3079\n",
            "Time elapsed: 1.00 min\n",
            "Epoch: 017/038 | Batch 000/391 | Cost: 3.3776\n",
            "Epoch: 017/038 Train Cost: 3.2603\n",
            "Time elapsed: 1.06 min\n",
            "Epoch: 018/038 | Batch 000/391 | Cost: 3.4602\n",
            "Epoch: 018/038 Train Cost: 3.2645\n",
            "Time elapsed: 1.12 min\n",
            "Epoch: 019/038 | Batch 000/391 | Cost: 3.1996\n",
            "Epoch: 019/038 Train Cost: 3.2654\n",
            "Time elapsed: 1.19 min\n",
            "Epoch: 020/038 | Batch 000/391 | Cost: 3.5068\n",
            "Epoch: 020/038 Train Cost: 3.2512\n",
            "Time elapsed: 1.25 min\n",
            "Epoch: 021/038 | Batch 000/391 | Cost: 3.3194\n",
            "Epoch: 021/038 Train Cost: 3.2410\n",
            "Time elapsed: 1.31 min\n",
            "Epoch: 022/038 | Batch 000/391 | Cost: 3.5710\n",
            "Epoch: 022/038 Train Cost: 3.2689\n",
            "Time elapsed: 1.37 min\n",
            "Epoch: 023/038 | Batch 000/391 | Cost: 3.2861\n",
            "Epoch: 023/038 Train Cost: 3.2271\n",
            "Time elapsed: 1.43 min\n",
            "Epoch: 024/038 | Batch 000/391 | Cost: 3.1483\n",
            "Epoch: 024/038 Train Cost: 3.2781\n",
            "Time elapsed: 1.50 min\n",
            "Epoch: 025/038 | Batch 000/391 | Cost: 3.3119\n",
            "Epoch: 025/038 Train Cost: 3.2393\n",
            "Time elapsed: 1.56 min\n",
            "Epoch: 026/038 | Batch 000/391 | Cost: 3.3395\n",
            "Epoch: 026/038 Train Cost: 3.1999\n",
            "Time elapsed: 1.62 min\n",
            "Epoch: 027/038 | Batch 000/391 | Cost: 3.0868\n",
            "Epoch: 027/038 Train Cost: 3.2317\n",
            "Time elapsed: 1.68 min\n",
            "Epoch: 028/038 | Batch 000/391 | Cost: 3.2997\n",
            "Epoch: 028/038 Train Cost: 3.2122\n",
            "Time elapsed: 1.75 min\n",
            "Epoch: 029/038 | Batch 000/391 | Cost: 3.2148\n",
            "Epoch: 029/038 Train Cost: 3.2310\n",
            "Time elapsed: 1.81 min\n",
            "Epoch: 030/038 | Batch 000/391 | Cost: 3.1489\n",
            "Epoch: 030/038 Train Cost: 3.2248\n",
            "Time elapsed: 1.87 min\n",
            "Epoch: 031/038 | Batch 000/391 | Cost: 3.2752\n",
            "Epoch: 031/038 Train Cost: 3.2158\n",
            "Time elapsed: 1.93 min\n",
            "Epoch: 032/038 | Batch 000/391 | Cost: 3.1820\n",
            "Epoch: 032/038 Train Cost: 3.2039\n",
            "Time elapsed: 1.99 min\n",
            "Epoch: 033/038 | Batch 000/391 | Cost: 3.1060\n",
            "Epoch: 033/038 Train Cost: 3.2018\n",
            "Time elapsed: 2.06 min\n",
            "Epoch: 034/038 | Batch 000/391 | Cost: 3.2695\n",
            "Epoch: 034/038 Train Cost: 3.2262\n",
            "Time elapsed: 2.12 min\n",
            "Epoch: 035/038 | Batch 000/391 | Cost: 3.1667\n",
            "Epoch: 035/038 Train Cost: 3.2313\n",
            "Time elapsed: 2.18 min\n",
            "Epoch: 036/038 | Batch 000/391 | Cost: 3.3511\n",
            "Epoch: 036/038 Train Cost: 3.2182\n",
            "Time elapsed: 2.24 min\n",
            "Epoch: 037/038 | Batch 000/391 | Cost: 3.3177\n",
            "Epoch: 037/038 Train Cost: 3.2025\n",
            "Time elapsed: 2.30 min\n",
            "Epoch: 038/038 | Batch 000/391 | Cost: 2.9597\n",
            "Epoch: 038/038 Train Cost: 3.1996\n",
            "Time elapsed: 2.36 min\n",
            "Total Training Time: 2.36 min\n",
            "Training Accuracy: 22.35\n",
            "Test Accuracy: 20.89\n"
          ],
          "name": "stdout"
        }
      ]
    },
    {
      "cell_type": "code",
      "metadata": {
        "colab": {
          "base_uri": "https://localhost:8080/",
          "height": 350
        },
        "id": "jEn4sYIHzALx",
        "outputId": "0d989f89-ab82-4f28-c6d6-afa392bfaa38"
      },
      "source": [
        "#Plot the loss curve\n",
        "\n",
        "plt.figure(figsize=(8,5))\n",
        "plt.plot(range(len(epoch_cost)), epoch_cost)\n",
        "plt.xlabel(\"Epoch\")\n",
        "plt.ylabel(\"Cross entropy loss\")\n",
        "plt.title(\"Loss of training\")\n",
        "plt.show()"
      ],
      "execution_count": 91,
      "outputs": [
        {
          "output_type": "display_data",
          "data": {
            "image/png": "[encoded data removed]",
            "text/plain": [
              "<Figure size 576x360 with 1 Axes>"
            ]
          },
          "metadata": {
            "tags": [],
            "needs_background": "light"
          }
        }
      ]
    },
    {
      "cell_type": "markdown",
      "metadata": {
        "id": "a481kCYNO9of"
      },
      "source": [
        "## 8. RMSProp"
      ]
    },
    {
      "cell_type": "markdown",
      "metadata": {
        "id": "WnrmgS0mzEXc"
      },
      "source": [
        "### Model A: 3 Hidden Layers Feedforward Neural Network"
      ]
    },
    {
      "cell_type": "markdown",
      "metadata": {
        "id": "qU1JcpHBzEXd"
      },
      "source": [
        "#### Make dataset iterable"
      ]
    },
    {
      "cell_type": "code",
      "metadata": {
        "colab": {
          "base_uri": "https://localhost:8080/"
        },
        "id": "dMicE9jHzEXd",
        "outputId": "9a4f57f9-c7a8-44f0-8f24-9af547596569"
      },
      "source": [
        "batch_size = 128\n",
        "n_iters = 15000\n",
        "num_epochs = n_iters / (len(train_data) / batch_size)\n",
        "num_epochs = int(num_epochs)\n",
        "print(num_epochs)"
      ],
      "execution_count": 106,
      "outputs": [
        {
          "output_type": "stream",
          "text": [
            "38\n"
          ],
          "name": "stdout"
        }
      ]
    },
    {
      "cell_type": "code",
      "metadata": {
        "id": "xDaaxMDQzEXd"
      },
      "source": [
        "train_loader = DataLoader(train_dataset, batch_size=batch_size, shuffle=True) # create your dataloader\n",
        "\n",
        "test_loader = DataLoader(test_dataset, batch_size=batch_size,  shuffle=False) # create your dataloader"
      ],
      "execution_count": 107,
      "outputs": []
    },
    {
      "cell_type": "markdown",
      "metadata": {
        "id": "ZWdO4gIEzEXd"
      },
      "source": [
        "### Create model class"
      ]
    },
    {
      "cell_type": "code",
      "metadata": {
        "id": "EWiW_dpYzEXd"
      },
      "source": [
        "class FeedforwardNeuralNetworkModel(nn.Module):\n",
        "    def __init__(self, input_size, hidden_size1,hidden_size2,hidden_size3, num_classes):\n",
        "        super(FeedforwardNeuralNetworkModel, self).__init__()\n",
        "        # linear function 1\n",
        "        self.fc1 = nn.Linear(input_dim, hidden_dim1)\n",
        "        # non-linearity 1\n",
        "        self.relu1 = nn.ReLU()\n",
        "        \n",
        "        # linear function 2\n",
        "        self.fc2 = nn.Linear(hidden_dim1, hidden_dim2)\n",
        "        self.dropout1 = nn.Dropout(0.25)\n",
        "        # non-linearity 2\n",
        "        self.relu2 = nn.ReLU()\n",
        "        \n",
        "        # linear function 3\n",
        "        self.fc3 = nn.Linear(hidden_dim2, hidden_dim3)\n",
        "        # non-linearity 3\n",
        "        self.relu3 = nn.ReLU()\n",
        "        \n",
        "        # linear function 4 (readout)\n",
        "        self.fc4 = nn.Linear(hidden_dim3, output_dim)\n",
        "        \n",
        "    def forward(self, x):\n",
        "        # linear function 1\n",
        "        out = self.fc1(x)\n",
        "        # non-linearity 1\n",
        "        out = self.relu1(out)\n",
        "        \n",
        "        # linear function 2\n",
        "        out = self.fc2(out)\n",
        "        out = self.dropout1(out)\n",
        "        # non-linearity 2\n",
        "        out = self.relu2(out)\n",
        "        \n",
        "        # linear function 3\n",
        "        out = self.fc3(out)\n",
        "        # non-linearity 3\n",
        "        out = self.relu3(out)\n",
        "        \n",
        "        #linear function 4 (readout)\n",
        "        out = self.fc4(out)\n",
        "        return out       \n",
        "    "
      ],
      "execution_count": 124,
      "outputs": []
    },
    {
      "cell_type": "code",
      "metadata": {
        "id": "LvhUNtKEzEXd"
      },
      "source": [
        "#  Instantiate model class\n",
        "input_dim = 3*32*32\n",
        "output_dim = 100\n",
        "hidden_dim1 = 1700\n",
        "hidden_dim2 = 1500\n",
        "hidden_dim3 = 512 \n",
        "\n",
        "model = FeedforwardNeuralNetworkModel(input_dim, hidden_dim1, hidden_dim2, hidden_dim3, output_dim)\n",
        "\n",
        "#######################\n",
        "#  USE GPU FOR MODEL  #\n",
        "#######################\n",
        "if torch.cuda.is_available():\n",
        "    model.cuda()\n",
        "    "
      ],
      "execution_count": 125,
      "outputs": []
    },
    {
      "cell_type": "code",
      "metadata": {
        "colab": {
          "base_uri": "https://localhost:8080/"
        },
        "id": "vHxPGXaVzEXd",
        "outputId": "e83a3bc3-1f60-4ead-97a9-f3d009f47121"
      },
      "source": [
        "summary(model, (1,3*32*32))"
      ],
      "execution_count": 126,
      "outputs": [
        {
          "output_type": "stream",
          "text": [
            "----------------------------------------------------------------\n",
            "        Layer (type)               Output Shape         Param #\n",
            "================================================================\n",
            "            Linear-1              [-1, 1, 1700]       5,224,100\n",
            "              ReLU-2              [-1, 1, 1700]               0\n",
            "            Linear-3              [-1, 1, 1500]       2,551,500\n",
            "           Dropout-4              [-1, 1, 1500]               0\n",
            "              ReLU-5              [-1, 1, 1500]               0\n",
            "            Linear-6               [-1, 1, 512]         768,512\n",
            "              ReLU-7               [-1, 1, 512]               0\n",
            "            Linear-8               [-1, 1, 100]          51,300\n",
            "================================================================\n",
            "Total params: 8,595,412\n",
            "Trainable params: 8,595,412\n",
            "Non-trainable params: 0\n",
            "----------------------------------------------------------------\n",
            "Input size (MB): 0.01\n",
            "Forward/backward pass size (MB): 0.07\n",
            "Params size (MB): 32.79\n",
            "Estimated Total Size (MB): 32.87\n",
            "----------------------------------------------------------------\n"
          ],
          "name": "stdout"
        }
      ]
    },
    {
      "cell_type": "code",
      "metadata": {
        "id": "OMv93pHTzEXh"
      },
      "source": [
        "#  Instantiate loss class\n",
        "criterion=nn.CrossEntropyLoss()\n",
        "\n",
        "#  Instantiate optimizer class\n",
        "learning_rate = 0.001\n",
        "LAMBDA = 0.05\n",
        "optimizer = torch.optim.RMSprop(model.parameters(), lr=learning_rate, weight_decay=LAMBDA)"
      ],
      "execution_count": 127,
      "outputs": []
    },
    {
      "cell_type": "markdown",
      "metadata": {
        "id": "0hTOJ5crzEXh"
      },
      "source": [
        "#### Train the model"
      ]
    },
    {
      "cell_type": "code",
      "metadata": {
        "colab": {
          "base_uri": "https://localhost:8080/"
        },
        "id": "lq_Ar50RzEXi",
        "outputId": "759f6d21-3258-4667-d6a2-e8200d1e0f72"
      },
      "source": [
        "start_time = time.time()\n",
        "minibatch_cost = []\n",
        "epoch_cost = []\n",
        "for epoch in range(num_epochs):\n",
        "    model.train()\n",
        "    for batch_idx, (features, targets) in enumerate(train_loader):\n",
        "        \n",
        "        features = features.view(-1, 3*32*32).to(device)\n",
        "        targets = targets.to(device)    \n",
        "        ### FORWARD AND BACK PROP\n",
        "        outputs = model(features)\n",
        "        \n",
        "        cost = criterion(outputs, targets)\n",
        "        optimizer.zero_grad()\n",
        "        \n",
        "        cost.backward()\n",
        "        minibatch_cost.append(cost)\n",
        "        ### UPDATE MODEL PARAMETERS\n",
        "        optimizer.step()\n",
        "        \n",
        "        ### LOGGING\n",
        "        if not batch_idx % 500:\n",
        "            print ('Epoch: %03d/%03d | Batch %03d/%03d | Cost: %.4f' \n",
        "                   %(epoch+1, num_epochs, batch_idx, \n",
        "                     len(train_loader), cost))\n",
        "       \n",
        "    model.eval()\n",
        "    with torch.no_grad():\n",
        "        cost = compute_loss(model, train_loader)\n",
        "        epoch_cost.append(cost)\n",
        "        print('Epoch: %03d/%03d Train Cost: %.4f' % (\n",
        "                epoch+1, num_epochs, cost))\n",
        "        print('Time elapsed: %.2f min' % ((time.time() - start_time)/60))\n",
        "\n",
        "        \n",
        "model.eval()\n",
        "with torch.no_grad():\n",
        "    print('Total Training Time: %.2f min' % ((time.time() - start_time)/60))\n",
        "\n",
        "    print('Training Accuracy: %.2f' % compute_accuracy(model, train_loader))\n",
        "    print('Test Accuracy: %.2f' % compute_accuracy(model, test_loader))"
      ],
      "execution_count": 128,
      "outputs": [
        {
          "output_type": "stream",
          "text": [
            "Epoch: 001/038 | Batch 000/391 | Cost: 20.3039\n",
            "Epoch: 001/038 Train Cost: 4.8628\n",
            "Time elapsed: 0.06 min\n",
            "Epoch: 002/038 | Batch 000/391 | Cost: 4.9749\n",
            "Epoch: 002/038 Train Cost: 4.5238\n",
            "Time elapsed: 0.11 min\n",
            "Epoch: 003/038 | Batch 000/391 | Cost: 4.5236\n",
            "Epoch: 003/038 Train Cost: 4.5463\n",
            "Time elapsed: 0.17 min\n",
            "Epoch: 004/038 | Batch 000/391 | Cost: 4.5736\n",
            "Epoch: 004/038 Train Cost: 4.5774\n",
            "Time elapsed: 0.22 min\n",
            "Epoch: 005/038 | Batch 000/391 | Cost: 4.5674\n",
            "Epoch: 005/038 Train Cost: 4.6149\n",
            "Time elapsed: 0.28 min\n",
            "Epoch: 006/038 | Batch 000/391 | Cost: 4.6028\n",
            "Epoch: 006/038 Train Cost: 37.1871\n",
            "Time elapsed: 0.33 min\n",
            "Epoch: 007/038 | Batch 000/391 | Cost: 36.9046\n",
            "Epoch: 007/038 Train Cost: 4.6170\n",
            "Time elapsed: 0.39 min\n",
            "Epoch: 008/038 | Batch 000/391 | Cost: 4.6065\n",
            "Epoch: 008/038 Train Cost: 4.6170\n",
            "Time elapsed: 0.44 min\n",
            "Epoch: 009/038 | Batch 000/391 | Cost: 4.6052\n",
            "Epoch: 009/038 Train Cost: 4.6170\n",
            "Time elapsed: 0.49 min\n",
            "Epoch: 010/038 | Batch 000/391 | Cost: 4.6067\n",
            "Epoch: 010/038 Train Cost: 4.6251\n",
            "Time elapsed: 0.55 min\n",
            "Epoch: 011/038 | Batch 000/391 | Cost: 4.5968\n",
            "Epoch: 011/038 Train Cost: 4.6171\n",
            "Time elapsed: 0.60 min\n",
            "Epoch: 012/038 | Batch 000/391 | Cost: 4.6054\n",
            "Epoch: 012/038 Train Cost: 4.6169\n",
            "Time elapsed: 0.66 min\n",
            "Epoch: 013/038 | Batch 000/391 | Cost: 4.6052\n",
            "Epoch: 013/038 Train Cost: 4.6164\n",
            "Time elapsed: 0.71 min\n",
            "Epoch: 014/038 | Batch 000/391 | Cost: 4.6061\n",
            "Epoch: 014/038 Train Cost: 4.6170\n",
            "Time elapsed: 0.76 min\n",
            "Epoch: 015/038 | Batch 000/391 | Cost: 4.6048\n",
            "Epoch: 015/038 Train Cost: 4.6170\n",
            "Time elapsed: 0.82 min\n",
            "Epoch: 016/038 | Batch 000/391 | Cost: 4.6052\n",
            "Epoch: 016/038 Train Cost: 4.6170\n",
            "Time elapsed: 0.87 min\n",
            "Epoch: 017/038 | Batch 000/391 | Cost: 4.6048\n",
            "Epoch: 017/038 Train Cost: 4.6170\n",
            "Time elapsed: 0.92 min\n",
            "Epoch: 018/038 | Batch 000/391 | Cost: 4.6052\n",
            "Epoch: 018/038 Train Cost: 4.6170\n",
            "Time elapsed: 0.98 min\n",
            "Epoch: 019/038 | Batch 000/391 | Cost: 4.6051\n",
            "Epoch: 019/038 Train Cost: 4.6170\n",
            "Time elapsed: 1.03 min\n",
            "Epoch: 020/038 | Batch 000/391 | Cost: 4.6053\n",
            "Epoch: 020/038 Train Cost: 4.6170\n",
            "Time elapsed: 1.08 min\n",
            "Epoch: 021/038 | Batch 000/391 | Cost: 4.6057\n",
            "Epoch: 021/038 Train Cost: 4.6114\n",
            "Time elapsed: 1.14 min\n",
            "Epoch: 022/038 | Batch 000/391 | Cost: 4.5931\n",
            "Epoch: 022/038 Train Cost: 4.6170\n",
            "Time elapsed: 1.19 min\n",
            "Epoch: 023/038 | Batch 000/391 | Cost: 4.6053\n",
            "Epoch: 023/038 Train Cost: 4.6170\n",
            "Time elapsed: 1.25 min\n",
            "Epoch: 024/038 | Batch 000/391 | Cost: 4.6058\n",
            "Epoch: 024/038 Train Cost: 4.6170\n",
            "Time elapsed: 1.30 min\n",
            "Epoch: 025/038 | Batch 000/391 | Cost: 4.6055\n",
            "Epoch: 025/038 Train Cost: 4.6170\n",
            "Time elapsed: 1.35 min\n",
            "Epoch: 026/038 | Batch 000/391 | Cost: 4.6051\n",
            "Epoch: 026/038 Train Cost: 4.6170\n",
            "Time elapsed: 1.41 min\n",
            "Epoch: 027/038 | Batch 000/391 | Cost: 4.6048\n",
            "Epoch: 027/038 Train Cost: 4.6170\n",
            "Time elapsed: 1.46 min\n",
            "Epoch: 028/038 | Batch 000/391 | Cost: 4.6053\n",
            "Epoch: 028/038 Train Cost: 4.6170\n",
            "Time elapsed: 1.52 min\n",
            "Epoch: 029/038 | Batch 000/391 | Cost: 4.6060\n",
            "Epoch: 029/038 Train Cost: 4.6170\n",
            "Time elapsed: 1.57 min\n",
            "Epoch: 030/038 | Batch 000/391 | Cost: 4.6051\n",
            "Epoch: 030/038 Train Cost: 4.6170\n",
            "Time elapsed: 1.63 min\n",
            "Epoch: 031/038 | Batch 000/391 | Cost: 4.6049\n",
            "Epoch: 031/038 Train Cost: 4.6170\n",
            "Time elapsed: 1.68 min\n",
            "Epoch: 032/038 | Batch 000/391 | Cost: 4.6049\n",
            "Epoch: 032/038 Train Cost: 4.6170\n",
            "Time elapsed: 1.74 min\n",
            "Epoch: 033/038 | Batch 000/391 | Cost: 4.6047\n",
            "Epoch: 033/038 Train Cost: 4.6170\n",
            "Time elapsed: 1.79 min\n",
            "Epoch: 034/038 | Batch 000/391 | Cost: 4.6055\n",
            "Epoch: 034/038 Train Cost: 4.6170\n",
            "Time elapsed: 1.84 min\n",
            "Epoch: 035/038 | Batch 000/391 | Cost: 4.6054\n",
            "Epoch: 035/038 Train Cost: 4.6170\n",
            "Time elapsed: 1.90 min\n",
            "Epoch: 036/038 | Batch 000/391 | Cost: 4.6049\n",
            "Epoch: 036/038 Train Cost: 4.6170\n",
            "Time elapsed: 1.95 min\n",
            "Epoch: 037/038 | Batch 000/391 | Cost: 4.6055\n",
            "Epoch: 037/038 Train Cost: 4.6170\n",
            "Time elapsed: 2.01 min\n",
            "Epoch: 038/038 | Batch 000/391 | Cost: 4.6054\n",
            "Epoch: 038/038 Train Cost: 4.6170\n",
            "Time elapsed: 2.06 min\n",
            "Total Training Time: 2.06 min\n",
            "Training Accuracy: 1.00\n",
            "Test Accuracy: 1.00\n"
          ],
          "name": "stdout"
        }
      ]
    },
    {
      "cell_type": "code",
      "metadata": {
        "colab": {
          "base_uri": "https://localhost:8080/",
          "height": 350
        },
        "id": "Fz_xz7ruzEXi",
        "outputId": "2bae0413-7650-4108-c67a-0ea831863237"
      },
      "source": [
        "#Plot the loss curve\n",
        "\n",
        "plt.figure(figsize=(8,5))\n",
        "plt.plot(range(len(epoch_cost)), epoch_cost)\n",
        "plt.xlabel(\"Epoch\")\n",
        "plt.ylabel(\"Cross entropy loss\")\n",
        "plt.title(\"Loss of training\")\n",
        "plt.show()"
      ],
      "execution_count": 129,
      "outputs": [
        {
          "output_type": "display_data",
          "data": {
            "image/png": "[encoded data removed]",
            "text/plain": [
              "<Figure size 576x360 with 1 Axes>"
            ]
          },
          "metadata": {
            "tags": [],
            "needs_background": "light"
          }
        }
      ]
    },
    {
      "cell_type": "markdown",
      "metadata": {
        "id": "PALWpQuHO9oh"
      },
      "source": [
        "## Batch normalization"
      ]
    },
    {
      "cell_type": "markdown",
      "metadata": {
        "id": "ZPIhAhpr1c9k"
      },
      "source": [
        "### Model A: 3 Hidden Layers Feedforward Neural Network"
      ]
    },
    {
      "cell_type": "markdown",
      "metadata": {
        "id": "QOLzR-LA1c9k"
      },
      "source": [
        "#### Make dataset iterable"
      ]
    },
    {
      "cell_type": "code",
      "metadata": {
        "colab": {
          "base_uri": "https://localhost:8080/"
        },
        "id": "Pg2-gh2l1c9l",
        "outputId": "3f66f37f-622b-494c-f390-d56103b2506d"
      },
      "source": [
        "batch_size = 128\n",
        "n_iters = 15000\n",
        "num_epochs = n_iters / (len(train_data) / batch_size)\n",
        "num_epochs = int(num_epochs)\n",
        "print(num_epochs)"
      ],
      "execution_count": 155,
      "outputs": [
        {
          "output_type": "stream",
          "text": [
            "38\n"
          ],
          "name": "stdout"
        }
      ]
    },
    {
      "cell_type": "code",
      "metadata": {
        "id": "81S72_p41c9m"
      },
      "source": [
        "train_loader = DataLoader(train_dataset, batch_size=batch_size, shuffle=True) # create your dataloader\n",
        "\n",
        "test_loader = DataLoader(test_dataset, batch_size=batch_size,  shuffle=False) # create your dataloader"
      ],
      "execution_count": 156,
      "outputs": []
    },
    {
      "cell_type": "markdown",
      "metadata": {
        "id": "e-5ko0Ob1c9m"
      },
      "source": [
        "### Create model class"
      ]
    },
    {
      "cell_type": "code",
      "metadata": {
        "id": "0-1qLd3c1c9m"
      },
      "source": [
        "class FeedforwardNeuralNetworkModel(nn.Module):\n",
        "    def __init__(self, input_size, hidden_size1,hidden_size2,hidden_size3, num_classes):\n",
        "        super(FeedforwardNeuralNetworkModel, self).__init__()\n",
        "        # linear function 1\n",
        "        self.fc1 = nn.Linear(input_dim, hidden_dim1)\n",
        "        # non-linearity 1\n",
        "        self.relu1 = nn.ReLU()\n",
        "        \n",
        "        # linear function 2\n",
        "        self.fc2 = nn.Linear(hidden_dim1, hidden_dim2)\n",
        "        self.dropout1 = nn.Dropout(0.25)\n",
        "        # non-linearity 2\n",
        "        self.relu2 = nn.ReLU()\n",
        "        \n",
        "        # linear function 3\n",
        "        self.fc3 = nn.Linear(hidden_dim2, hidden_dim3)\n",
        "        self.BatchNorm1d2=nn.BatchNorm1d(hidden_dim3)\n",
        "        # non-linearity 3\n",
        "        self.relu3 = nn.ReLU()\n",
        "        \n",
        "        # linear function 4 (readout)\n",
        "        self.fc4 = nn.Linear(hidden_dim3, output_dim)\n",
        "        \n",
        "    def forward(self, x):\n",
        "        # linear function 1\n",
        "        out = self.fc1(x)\n",
        "        #out = self.BatchNorm1d1(out)\n",
        "        # non-linearity 1\n",
        "        out = self.relu1(out)\n",
        "        \n",
        "        # linear function 2\n",
        "        out = self.fc2(out)\n",
        "        out = self.dropout1(out)\n",
        "        # non-linearity 2\n",
        "        out = self.relu2(out)\n",
        "        \n",
        "        # linear function 3\n",
        "        out = self.fc3(out)\n",
        "        out = self.BatchNorm1d2(out)\n",
        "        # non-linearity 3\n",
        "        out = self.relu3(out)\n",
        "        \n",
        "        #linear function 4 (readout)\n",
        "        out = self.fc4(out)\n",
        "        return out       \n",
        "    "
      ],
      "execution_count": 157,
      "outputs": []
    },
    {
      "cell_type": "code",
      "metadata": {
        "id": "6LfvvHk31c9m"
      },
      "source": [
        "#  Instantiate model class\n",
        "input_dim = 3*32*32\n",
        "output_dim = 100\n",
        "hidden_dim1 = 1700\n",
        "hidden_dim2 = 1500\n",
        "hidden_dim3 = 512 \n",
        "\n",
        "model = FeedforwardNeuralNetworkModel(input_dim, hidden_dim1, hidden_dim2, hidden_dim3, output_dim)\n",
        "\n",
        "#######################\n",
        "#  USE GPU FOR MODEL  #\n",
        "#######################\n",
        "if torch.cuda.is_available():\n",
        "    model.cuda()\n",
        "    "
      ],
      "execution_count": 158,
      "outputs": []
    },
    {
      "cell_type": "code",
      "metadata": {
        "id": "80GfQr951c9m"
      },
      "source": [
        "#summary(model, (1,3*32*32))"
      ],
      "execution_count": 159,
      "outputs": []
    },
    {
      "cell_type": "code",
      "metadata": {
        "id": "E2Eq1Hnf1c9n"
      },
      "source": [
        "#  Instantiate loss class\n",
        "criterion=nn.CrossEntropyLoss()\n",
        "\n",
        "#  Instantiate optimizer class\n",
        "learning_rate = 0.001\n",
        "LAMBDA = 0.05\n",
        "optimizer = torch.optim.Adagrad(model.parameters(), lr=learning_rate, weight_decay=LAMBDA)"
      ],
      "execution_count": 160,
      "outputs": []
    },
    {
      "cell_type": "markdown",
      "metadata": {
        "id": "_XODVxAp1c9n"
      },
      "source": [
        "#### Train the model"
      ]
    },
    {
      "cell_type": "code",
      "metadata": {
        "colab": {
          "base_uri": "https://localhost:8080/"
        },
        "id": "39zd5gRL1c9n",
        "outputId": "5f7ab82a-a76e-4eed-c7d7-6c61f2e2e330"
      },
      "source": [
        "start_time = time.time()\n",
        "minibatch_cost = []\n",
        "epoch_cost = []\n",
        "for epoch in range(num_epochs):\n",
        "    model.train()\n",
        "    for batch_idx, (features, targets) in enumerate(train_loader):\n",
        "        \n",
        "        features = features.view(-1, 3*32*32).to(device)\n",
        "        targets = targets.to(device)    \n",
        "        ### FORWARD AND BACK PROP\n",
        "        outputs = model(features)\n",
        "        \n",
        "        cost = criterion(outputs, targets)\n",
        "        optimizer.zero_grad()\n",
        "        \n",
        "        cost.backward()\n",
        "        minibatch_cost.append(cost)\n",
        "        ### UPDATE MODEL PARAMETERS\n",
        "        optimizer.step()\n",
        "        \n",
        "        ### LOGGING\n",
        "        if not batch_idx % 500:\n",
        "            print ('Epoch: %03d/%03d | Batch %03d/%03d | Cost: %.4f' \n",
        "                   %(epoch+1, num_epochs, batch_idx, \n",
        "                     len(train_loader), cost))\n",
        "       \n",
        "    model.eval()\n",
        "    with torch.no_grad():\n",
        "        cost = compute_loss(model, train_loader)\n",
        "        epoch_cost.append(cost)\n",
        "        print('Epoch: %03d/%03d Train Cost: %.4f' % (\n",
        "                epoch+1, num_epochs, cost))\n",
        "        print('Time elapsed: %.2f min' % ((time.time() - start_time)/60))\n",
        "\n",
        "        \n",
        "model.eval()\n",
        "with torch.no_grad():\n",
        "    print('Total Training Time: %.2f min' % ((time.time() - start_time)/60))\n",
        "\n",
        "    print('Training Accuracy: %.2f' % compute_accuracy(model, train_loader))\n",
        "    print('Test Accuracy: %.2f' % compute_accuracy(model, test_loader))"
      ],
      "execution_count": 161,
      "outputs": [
        {
          "output_type": "stream",
          "text": [
            "Epoch: 001/038 | Batch 000/391 | Cost: 4.7132\n",
            "Epoch: 001/038 Train Cost: 3.8215\n",
            "Time elapsed: 0.06 min\n",
            "Epoch: 002/038 | Batch 000/391 | Cost: 3.7977\n",
            "Epoch: 002/038 Train Cost: 3.6491\n",
            "Time elapsed: 0.12 min\n",
            "Epoch: 003/038 | Batch 000/391 | Cost: 3.6444\n",
            "Epoch: 003/038 Train Cost: 3.5827\n",
            "Time elapsed: 0.18 min\n",
            "Epoch: 004/038 | Batch 000/391 | Cost: 3.5176\n",
            "Epoch: 004/038 Train Cost: 3.5511\n",
            "Time elapsed: 0.23 min\n",
            "Epoch: 005/038 | Batch 000/391 | Cost: 3.4911\n",
            "Epoch: 005/038 Train Cost: 3.4233\n",
            "Time elapsed: 0.29 min\n",
            "Epoch: 006/038 | Batch 000/391 | Cost: 3.5826\n",
            "Epoch: 006/038 Train Cost: 3.4298\n",
            "Time elapsed: 0.35 min\n",
            "Epoch: 007/038 | Batch 000/391 | Cost: 3.4737\n",
            "Epoch: 007/038 Train Cost: 3.3630\n",
            "Time elapsed: 0.41 min\n",
            "Epoch: 008/038 | Batch 000/391 | Cost: 3.5014\n",
            "Epoch: 008/038 Train Cost: 3.3208\n",
            "Time elapsed: 0.46 min\n",
            "Epoch: 009/038 | Batch 000/391 | Cost: 3.3330\n",
            "Epoch: 009/038 Train Cost: 3.2306\n",
            "Time elapsed: 0.52 min\n",
            "Epoch: 010/038 | Batch 000/391 | Cost: 3.1237\n",
            "Epoch: 010/038 Train Cost: 3.2324\n",
            "Time elapsed: 0.58 min\n",
            "Epoch: 011/038 | Batch 000/391 | Cost: 3.2565\n",
            "Epoch: 011/038 Train Cost: 3.1771\n",
            "Time elapsed: 0.64 min\n",
            "Epoch: 012/038 | Batch 000/391 | Cost: 3.0719\n",
            "Epoch: 012/038 Train Cost: 3.1776\n",
            "Time elapsed: 0.69 min\n",
            "Epoch: 013/038 | Batch 000/391 | Cost: 3.1212\n",
            "Epoch: 013/038 Train Cost: 3.1987\n",
            "Time elapsed: 0.75 min\n",
            "Epoch: 014/038 | Batch 000/391 | Cost: 3.1721\n",
            "Epoch: 014/038 Train Cost: 3.0732\n",
            "Time elapsed: 0.81 min\n",
            "Epoch: 015/038 | Batch 000/391 | Cost: 2.9964\n",
            "Epoch: 015/038 Train Cost: 3.0424\n",
            "Time elapsed: 0.87 min\n",
            "Epoch: 016/038 | Batch 000/391 | Cost: 3.0545\n",
            "Epoch: 016/038 Train Cost: 3.0076\n",
            "Time elapsed: 0.92 min\n",
            "Epoch: 017/038 | Batch 000/391 | Cost: 2.9372\n",
            "Epoch: 017/038 Train Cost: 3.0596\n",
            "Time elapsed: 0.98 min\n",
            "Epoch: 018/038 | Batch 000/391 | Cost: 3.1214\n",
            "Epoch: 018/038 Train Cost: 2.9713\n",
            "Time elapsed: 1.03 min\n",
            "Epoch: 019/038 | Batch 000/391 | Cost: 2.9110\n",
            "Epoch: 019/038 Train Cost: 2.9700\n",
            "Time elapsed: 1.09 min\n",
            "Epoch: 020/038 | Batch 000/391 | Cost: 2.9178\n",
            "Epoch: 020/038 Train Cost: 2.9149\n",
            "Time elapsed: 1.15 min\n",
            "Epoch: 021/038 | Batch 000/391 | Cost: 2.7064\n",
            "Epoch: 021/038 Train Cost: 2.8847\n",
            "Time elapsed: 1.20 min\n",
            "Epoch: 022/038 | Batch 000/391 | Cost: 2.8553\n",
            "Epoch: 022/038 Train Cost: 2.8696\n",
            "Time elapsed: 1.26 min\n",
            "Epoch: 023/038 | Batch 000/391 | Cost: 2.8638\n",
            "Epoch: 023/038 Train Cost: 2.8335\n",
            "Time elapsed: 1.32 min\n",
            "Epoch: 024/038 | Batch 000/391 | Cost: 2.8550\n",
            "Epoch: 024/038 Train Cost: 2.8615\n",
            "Time elapsed: 1.37 min\n",
            "Epoch: 025/038 | Batch 000/391 | Cost: 2.9174\n",
            "Epoch: 025/038 Train Cost: 2.8213\n",
            "Time elapsed: 1.43 min\n",
            "Epoch: 026/038 | Batch 000/391 | Cost: 2.9036\n",
            "Epoch: 026/038 Train Cost: 2.7402\n",
            "Time elapsed: 1.49 min\n",
            "Epoch: 027/038 | Batch 000/391 | Cost: 2.8737\n",
            "Epoch: 027/038 Train Cost: 2.7636\n",
            "Time elapsed: 1.54 min\n",
            "Epoch: 028/038 | Batch 000/391 | Cost: 2.7760\n",
            "Epoch: 028/038 Train Cost: 2.7799\n",
            "Time elapsed: 1.60 min\n",
            "Epoch: 029/038 | Batch 000/391 | Cost: 2.7828\n",
            "Epoch: 029/038 Train Cost: 2.6978\n",
            "Time elapsed: 1.65 min\n",
            "Epoch: 030/038 | Batch 000/391 | Cost: 2.4745\n",
            "Epoch: 030/038 Train Cost: 2.6627\n",
            "Time elapsed: 1.71 min\n",
            "Epoch: 031/038 | Batch 000/391 | Cost: 2.7855\n",
            "Epoch: 031/038 Train Cost: 2.6620\n",
            "Time elapsed: 1.77 min\n",
            "Epoch: 032/038 | Batch 000/391 | Cost: 2.7448\n",
            "Epoch: 032/038 Train Cost: 2.6032\n",
            "Time elapsed: 1.82 min\n",
            "Epoch: 033/038 | Batch 000/391 | Cost: 2.7192\n",
            "Epoch: 033/038 Train Cost: 2.6650\n",
            "Time elapsed: 1.88 min\n",
            "Epoch: 034/038 | Batch 000/391 | Cost: 2.6686\n",
            "Epoch: 034/038 Train Cost: 2.5915\n",
            "Time elapsed: 1.93 min\n",
            "Epoch: 035/038 | Batch 000/391 | Cost: 2.7596\n",
            "Epoch: 035/038 Train Cost: 2.5862\n",
            "Time elapsed: 1.99 min\n",
            "Epoch: 036/038 | Batch 000/391 | Cost: 2.6537\n",
            "Epoch: 036/038 Train Cost: 2.5436\n",
            "Time elapsed: 2.04 min\n",
            "Epoch: 037/038 | Batch 000/391 | Cost: 2.4618\n",
            "Epoch: 037/038 Train Cost: 2.5815\n",
            "Time elapsed: 2.10 min\n",
            "Epoch: 038/038 | Batch 000/391 | Cost: 2.3350\n",
            "Epoch: 038/038 Train Cost: 2.5697\n",
            "Time elapsed: 2.15 min\n",
            "Total Training Time: 2.15 min\n",
            "Training Accuracy: 45.19\n",
            "Test Accuracy: 27.56\n"
          ],
          "name": "stdout"
        }
      ]
    },
    {
      "cell_type": "code",
      "metadata": {
        "colab": {
          "base_uri": "https://localhost:8080/",
          "height": 350
        },
        "id": "H3_eChwe1c9n",
        "outputId": "a8a3811d-bed4-4447-d8e0-ae415a58e3bd"
      },
      "source": [
        "#Plot the loss curve\n",
        "\n",
        "plt.figure(figsize=(8,5))\n",
        "plt.plot(range(len(epoch_cost)), epoch_cost)\n",
        "plt.xlabel(\"Epoch\")\n",
        "plt.ylabel(\"Cross entropy loss\")\n",
        "plt.title(\"Loss of training\")\n",
        "plt.show()"
      ],
      "execution_count": 162,
      "outputs": [
        {
          "output_type": "display_data",
          "data": {
            "image/png": "[encoded data removed]",
            "text/plain": [
              "<Figure size 576x360 with 1 Axes>"
            ]
          },
          "metadata": {
            "tags": [],
            "needs_background": "light"
          }
        }
      ]
    },
    {
      "cell_type": "markdown",
      "metadata": {
        "id": "cpoj7JdA1JDF"
      },
      "source": [
        "## Results of regularizations\n",
        "\n",
        "| Model Name                    | Training Accuracy | Test Accuracy | Training Accuracy(Dropout) | Test Accuracy(Dropout) | \n",
        "|--------------------------------|----------|----------|----------|----------|\n",
        "| Model A |  36.18  |  26.17  |  32.77   |  25.46  |\n",
        "| Model B |  57.33  |  21.97  |  41.59   |  23.65   |"
      ]
    },
    {
      "cell_type": "markdown",
      "metadata": {
        "id": "1nMp9gLc1JDG"
      },
      "source": [
        "## Results of optimizations (Test accuracy)\n",
        "- With dropouts from the regularization part\n",
        "- Best optimizer for each model is bolded\n",
        "\n",
        "| Optimizer                    | Model A | \n",
        "|--------------------------------|----------|\n",
        "| SGD |  24.73  | \n",
        "| SGD Momentum |  24.99  |\n",
        "| SGD Nesterov |  24.84  |\n",
        "| Adam |  13.55  | \n",
        "| **Adagrad** |  **26.32**  |\n",
        "| Adadelta |  21.43  |\n",
        "| Adamax |  20.89  |\n",
        "| RMSProp |  1.00  |\n",
        "\n",
        "\n",
        "### Batch normalization\n",
        "- With dropouts from the regularization part\n",
        "- We employed the best optimizer for the model from the previous table\n",
        "\n",
        "| Model Name | Optimizer| Training Accuracy | Test Accuracy |\n",
        "|------------|----------|----------|----------|\n",
        "| Model A |  Adagrad  |  45.19  |  27.56  |\n"
      ]
    }
  ]
}