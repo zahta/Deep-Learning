{
 "cells": [
  {
   "cell_type": "markdown",
   "metadata": {
    "id": "rtA6oRSDt21Q"
   },
   "source": [
    "# Some regularizations and optimization algorithms on [California Housing Values](https://github.com/ageron/handson-ml/tree/master/datasets/housing) dataset\n",
    "By [Zahra Taheri](https://github.com/zahta), November 26, 2020"
   ]
  },
  {
   "cell_type": "markdown",
   "metadata": {
    "id": "s8QdNBrpKrFt"
   },
   "source": [
    "### Import libraries"
   ]
  },
  {
   "cell_type": "code",
   "execution_count": 1,
   "metadata": {
    "id": "B42Jsp5iKrFu"
   },
   "outputs": [
    {
     "data": {
      "text/plain": [
       "<torch._C.Generator at 0x131a0c256d0>"
      ]
     },
     "execution_count": 1,
     "metadata": {},
     "output_type": "execute_result"
    }
   ],
   "source": [
    "import numpy as np\n",
    "import pandas as pd\n",
    "import time\n",
    "import torch\n",
    "import torch.nn as nn\n",
    "import torch.nn.functional as F\n",
    "from torch.autograd import Variable\n",
    "from torchsummary import summary\n",
    "\n",
    "import matplotlib as mpl\n",
    "import matplotlib.pyplot as plt\n",
    "import seaborn as sns\n",
    "import os\n",
    "\n",
    "import warnings\n",
    "warnings.filterwarnings('ignore')\n",
    "\n",
    "# Set the seeds to ensure reproducibility\n",
    "np.random.seed(1)\n",
    "torch.manual_seed(1)"
   ]
  },
  {
   "cell_type": "markdown",
   "metadata": {
    "id": "qnXp31fQKrFx"
   },
   "source": [
    "## Reading the dataset"
   ]
  },
  {
   "cell_type": "code",
   "execution_count": 2,
   "metadata": {
    "colab": {
     "base_uri": "https://localhost:8080/"
    },
    "id": "UStR-s6iKrFx",
    "outputId": "66f31e0d-22bc-4e7e-f78c-9cc252f8f64c"
   },
   "outputs": [
    {
     "data": {
      "text/plain": [
       "(20640, 10)"
      ]
     },
     "execution_count": 2,
     "metadata": {},
     "output_type": "execute_result"
    }
   ],
   "source": [
    "data=pd.read_csv('housing.csv')\n",
    "data.shape"
   ]
  },
  {
   "cell_type": "code",
   "execution_count": 3,
   "metadata": {
    "colab": {
     "base_uri": "https://localhost:8080/",
     "height": 224
    },
    "id": "5WwyH0RuKrF0",
    "outputId": "67232796-a0a3-4cff-efe1-ea22459ce7aa"
   },
   "outputs": [
    {
     "data": {
      "text/html": [
       "<div>\n",
       "<style scoped>\n",
       "    .dataframe tbody tr th:only-of-type {\n",
       "        vertical-align: middle;\n",
       "    }\n",
       "\n",
       "    .dataframe tbody tr th {\n",
       "        vertical-align: top;\n",
       "    }\n",
       "\n",
       "    .dataframe thead th {\n",
       "        text-align: right;\n",
       "    }\n",
       "</style>\n",
       "<table border=\"1\" class=\"dataframe\">\n",
       "  <thead>\n",
       "    <tr style=\"text-align: right;\">\n",
       "      <th></th>\n",
       "      <th>longitude</th>\n",
       "      <th>latitude</th>\n",
       "      <th>housing_median_age</th>\n",
       "      <th>total_rooms</th>\n",
       "      <th>total_bedrooms</th>\n",
       "      <th>population</th>\n",
       "      <th>households</th>\n",
       "      <th>median_income</th>\n",
       "      <th>median_house_value</th>\n",
       "      <th>ocean_proximity</th>\n",
       "    </tr>\n",
       "  </thead>\n",
       "  <tbody>\n",
       "    <tr>\n",
       "      <th>0</th>\n",
       "      <td>-122.23</td>\n",
       "      <td>37.88</td>\n",
       "      <td>41.0</td>\n",
       "      <td>880.0</td>\n",
       "      <td>129.0</td>\n",
       "      <td>322.0</td>\n",
       "      <td>126.0</td>\n",
       "      <td>8.3252</td>\n",
       "      <td>452600.0</td>\n",
       "      <td>NEAR BAY</td>\n",
       "    </tr>\n",
       "    <tr>\n",
       "      <th>1</th>\n",
       "      <td>-122.22</td>\n",
       "      <td>37.86</td>\n",
       "      <td>21.0</td>\n",
       "      <td>7099.0</td>\n",
       "      <td>1106.0</td>\n",
       "      <td>2401.0</td>\n",
       "      <td>1138.0</td>\n",
       "      <td>8.3014</td>\n",
       "      <td>358500.0</td>\n",
       "      <td>NEAR BAY</td>\n",
       "    </tr>\n",
       "    <tr>\n",
       "      <th>2</th>\n",
       "      <td>-122.24</td>\n",
       "      <td>37.85</td>\n",
       "      <td>52.0</td>\n",
       "      <td>1467.0</td>\n",
       "      <td>190.0</td>\n",
       "      <td>496.0</td>\n",
       "      <td>177.0</td>\n",
       "      <td>7.2574</td>\n",
       "      <td>352100.0</td>\n",
       "      <td>NEAR BAY</td>\n",
       "    </tr>\n",
       "    <tr>\n",
       "      <th>3</th>\n",
       "      <td>-122.25</td>\n",
       "      <td>37.85</td>\n",
       "      <td>52.0</td>\n",
       "      <td>1274.0</td>\n",
       "      <td>235.0</td>\n",
       "      <td>558.0</td>\n",
       "      <td>219.0</td>\n",
       "      <td>5.6431</td>\n",
       "      <td>341300.0</td>\n",
       "      <td>NEAR BAY</td>\n",
       "    </tr>\n",
       "    <tr>\n",
       "      <th>4</th>\n",
       "      <td>-122.25</td>\n",
       "      <td>37.85</td>\n",
       "      <td>52.0</td>\n",
       "      <td>1627.0</td>\n",
       "      <td>280.0</td>\n",
       "      <td>565.0</td>\n",
       "      <td>259.0</td>\n",
       "      <td>3.8462</td>\n",
       "      <td>342200.0</td>\n",
       "      <td>NEAR BAY</td>\n",
       "    </tr>\n",
       "  </tbody>\n",
       "</table>\n",
       "</div>"
      ],
      "text/plain": [
       "   longitude  latitude  housing_median_age  total_rooms  total_bedrooms  \\\n",
       "0    -122.23     37.88                41.0        880.0           129.0   \n",
       "1    -122.22     37.86                21.0       7099.0          1106.0   \n",
       "2    -122.24     37.85                52.0       1467.0           190.0   \n",
       "3    -122.25     37.85                52.0       1274.0           235.0   \n",
       "4    -122.25     37.85                52.0       1627.0           280.0   \n",
       "\n",
       "   population  households  median_income  median_house_value ocean_proximity  \n",
       "0       322.0       126.0         8.3252            452600.0        NEAR BAY  \n",
       "1      2401.0      1138.0         8.3014            358500.0        NEAR BAY  \n",
       "2       496.0       177.0         7.2574            352100.0        NEAR BAY  \n",
       "3       558.0       219.0         5.6431            341300.0        NEAR BAY  \n",
       "4       565.0       259.0         3.8462            342200.0        NEAR BAY  "
      ]
     },
     "execution_count": 3,
     "metadata": {},
     "output_type": "execute_result"
    }
   ],
   "source": [
    "data.head()"
   ]
  },
  {
   "cell_type": "code",
   "execution_count": 4,
   "metadata": {
    "colab": {
     "base_uri": "https://localhost:8080/"
    },
    "id": "oG5oYVh-KrF2",
    "outputId": "e6238e1b-427a-4929-f048-cdd3f7e8e0a0"
   },
   "outputs": [
    {
     "name": "stdout",
     "output_type": "stream",
     "text": [
      "<class 'pandas.core.frame.DataFrame'>\n",
      "RangeIndex: 20640 entries, 0 to 20639\n",
      "Data columns (total 10 columns):\n",
      " #   Column              Non-Null Count  Dtype  \n",
      "---  ------              --------------  -----  \n",
      " 0   longitude           20640 non-null  float64\n",
      " 1   latitude            20640 non-null  float64\n",
      " 2   housing_median_age  20640 non-null  float64\n",
      " 3   total_rooms         20640 non-null  float64\n",
      " 4   total_bedrooms      20433 non-null  float64\n",
      " 5   population          20640 non-null  float64\n",
      " 6   households          20640 non-null  float64\n",
      " 7   median_income       20640 non-null  float64\n",
      " 8   median_house_value  20640 non-null  float64\n",
      " 9   ocean_proximity     20640 non-null  object \n",
      "dtypes: float64(9), object(1)\n",
      "memory usage: 1.6+ MB\n"
     ]
    }
   ],
   "source": [
    "data.info()"
   ]
  },
  {
   "cell_type": "markdown",
   "metadata": {
    "id": "VFklGZkpKrF5"
   },
   "source": [
    "## Descriptive statistics and data visualizations"
   ]
  },
  {
   "cell_type": "code",
   "execution_count": 5,
   "metadata": {
    "colab": {
     "base_uri": "https://localhost:8080/",
     "height": 317
    },
    "id": "lr6_OWSSKrF5",
    "outputId": "59ce9e2f-c847-47c0-8c2d-101fc4b24040"
   },
   "outputs": [
    {
     "data": {
      "text/html": [
       "<div>\n",
       "<style scoped>\n",
       "    .dataframe tbody tr th:only-of-type {\n",
       "        vertical-align: middle;\n",
       "    }\n",
       "\n",
       "    .dataframe tbody tr th {\n",
       "        vertical-align: top;\n",
       "    }\n",
       "\n",
       "    .dataframe thead th {\n",
       "        text-align: right;\n",
       "    }\n",
       "</style>\n",
       "<table border=\"1\" class=\"dataframe\">\n",
       "  <thead>\n",
       "    <tr style=\"text-align: right;\">\n",
       "      <th></th>\n",
       "      <th>longitude</th>\n",
       "      <th>latitude</th>\n",
       "      <th>housing_median_age</th>\n",
       "      <th>total_rooms</th>\n",
       "      <th>total_bedrooms</th>\n",
       "      <th>population</th>\n",
       "      <th>households</th>\n",
       "      <th>median_income</th>\n",
       "      <th>median_house_value</th>\n",
       "    </tr>\n",
       "  </thead>\n",
       "  <tbody>\n",
       "    <tr>\n",
       "      <th>count</th>\n",
       "      <td>20640.000000</td>\n",
       "      <td>20640.000000</td>\n",
       "      <td>20640.000000</td>\n",
       "      <td>20640.000000</td>\n",
       "      <td>20433.000000</td>\n",
       "      <td>20640.000000</td>\n",
       "      <td>20640.000000</td>\n",
       "      <td>20640.000000</td>\n",
       "      <td>20640.000000</td>\n",
       "    </tr>\n",
       "    <tr>\n",
       "      <th>mean</th>\n",
       "      <td>-119.569704</td>\n",
       "      <td>35.631861</td>\n",
       "      <td>28.639486</td>\n",
       "      <td>2635.763081</td>\n",
       "      <td>537.870553</td>\n",
       "      <td>1425.476744</td>\n",
       "      <td>499.539680</td>\n",
       "      <td>3.870671</td>\n",
       "      <td>206855.816909</td>\n",
       "    </tr>\n",
       "    <tr>\n",
       "      <th>std</th>\n",
       "      <td>2.003532</td>\n",
       "      <td>2.135952</td>\n",
       "      <td>12.585558</td>\n",
       "      <td>2181.615252</td>\n",
       "      <td>421.385070</td>\n",
       "      <td>1132.462122</td>\n",
       "      <td>382.329753</td>\n",
       "      <td>1.899822</td>\n",
       "      <td>115395.615874</td>\n",
       "    </tr>\n",
       "    <tr>\n",
       "      <th>min</th>\n",
       "      <td>-124.350000</td>\n",
       "      <td>32.540000</td>\n",
       "      <td>1.000000</td>\n",
       "      <td>2.000000</td>\n",
       "      <td>1.000000</td>\n",
       "      <td>3.000000</td>\n",
       "      <td>1.000000</td>\n",
       "      <td>0.499900</td>\n",
       "      <td>14999.000000</td>\n",
       "    </tr>\n",
       "    <tr>\n",
       "      <th>25%</th>\n",
       "      <td>-121.800000</td>\n",
       "      <td>33.930000</td>\n",
       "      <td>18.000000</td>\n",
       "      <td>1447.750000</td>\n",
       "      <td>296.000000</td>\n",
       "      <td>787.000000</td>\n",
       "      <td>280.000000</td>\n",
       "      <td>2.563400</td>\n",
       "      <td>119600.000000</td>\n",
       "    </tr>\n",
       "    <tr>\n",
       "      <th>50%</th>\n",
       "      <td>-118.490000</td>\n",
       "      <td>34.260000</td>\n",
       "      <td>29.000000</td>\n",
       "      <td>2127.000000</td>\n",
       "      <td>435.000000</td>\n",
       "      <td>1166.000000</td>\n",
       "      <td>409.000000</td>\n",
       "      <td>3.534800</td>\n",
       "      <td>179700.000000</td>\n",
       "    </tr>\n",
       "    <tr>\n",
       "      <th>75%</th>\n",
       "      <td>-118.010000</td>\n",
       "      <td>37.710000</td>\n",
       "      <td>37.000000</td>\n",
       "      <td>3148.000000</td>\n",
       "      <td>647.000000</td>\n",
       "      <td>1725.000000</td>\n",
       "      <td>605.000000</td>\n",
       "      <td>4.743250</td>\n",
       "      <td>264725.000000</td>\n",
       "    </tr>\n",
       "    <tr>\n",
       "      <th>max</th>\n",
       "      <td>-114.310000</td>\n",
       "      <td>41.950000</td>\n",
       "      <td>52.000000</td>\n",
       "      <td>39320.000000</td>\n",
       "      <td>6445.000000</td>\n",
       "      <td>35682.000000</td>\n",
       "      <td>6082.000000</td>\n",
       "      <td>15.000100</td>\n",
       "      <td>500001.000000</td>\n",
       "    </tr>\n",
       "  </tbody>\n",
       "</table>\n",
       "</div>"
      ],
      "text/plain": [
       "          longitude      latitude  housing_median_age   total_rooms  \\\n",
       "count  20640.000000  20640.000000        20640.000000  20640.000000   \n",
       "mean    -119.569704     35.631861           28.639486   2635.763081   \n",
       "std        2.003532      2.135952           12.585558   2181.615252   \n",
       "min     -124.350000     32.540000            1.000000      2.000000   \n",
       "25%     -121.800000     33.930000           18.000000   1447.750000   \n",
       "50%     -118.490000     34.260000           29.000000   2127.000000   \n",
       "75%     -118.010000     37.710000           37.000000   3148.000000   \n",
       "max     -114.310000     41.950000           52.000000  39320.000000   \n",
       "\n",
       "       total_bedrooms    population    households  median_income  \\\n",
       "count    20433.000000  20640.000000  20640.000000   20640.000000   \n",
       "mean       537.870553   1425.476744    499.539680       3.870671   \n",
       "std        421.385070   1132.462122    382.329753       1.899822   \n",
       "min          1.000000      3.000000      1.000000       0.499900   \n",
       "25%        296.000000    787.000000    280.000000       2.563400   \n",
       "50%        435.000000   1166.000000    409.000000       3.534800   \n",
       "75%        647.000000   1725.000000    605.000000       4.743250   \n",
       "max       6445.000000  35682.000000   6082.000000      15.000100   \n",
       "\n",
       "       median_house_value  \n",
       "count        20640.000000  \n",
       "mean        206855.816909  \n",
       "std         115395.615874  \n",
       "min          14999.000000  \n",
       "25%         119600.000000  \n",
       "50%         179700.000000  \n",
       "75%         264725.000000  \n",
       "max         500001.000000  "
      ]
     },
     "execution_count": 5,
     "metadata": {},
     "output_type": "execute_result"
    }
   ],
   "source": [
    "#Describe the dataset\n",
    "\n",
    "data.describe()"
   ]
  },
  {
   "cell_type": "code",
   "execution_count": 6,
   "metadata": {
    "colab": {
     "base_uri": "https://localhost:8080/"
    },
    "id": "EJsnoJDjKrF8",
    "outputId": "75bf6479-29cc-44c4-b196-59b850814385"
   },
   "outputs": [
    {
     "data": {
      "text/plain": [
       "ocean_proximity    5\n",
       "dtype: int64"
      ]
     },
     "execution_count": 6,
     "metadata": {},
     "output_type": "execute_result"
    }
   ],
   "source": [
    "#Check the no. of unique items in each categorical column\n",
    "\n",
    "data.select_dtypes('object').nunique()"
   ]
  },
  {
   "cell_type": "code",
   "execution_count": 7,
   "metadata": {
    "colab": {
     "base_uri": "https://localhost:8080/"
    },
    "id": "Ge5rb6BOKrF_",
    "outputId": "b71c3c3d-c0c3-4df9-ad89-12d16ec77441"
   },
   "outputs": [
    {
     "name": "stdout",
     "output_type": "stream",
     "text": [
      "longitude             0.000000\n",
      "latitude              0.000000\n",
      "housing_median_age    0.000000\n",
      "total_rooms           0.000000\n",
      "total_bedrooms        0.010029\n",
      "population            0.000000\n",
      "households            0.000000\n",
      "median_income         0.000000\n",
      "median_house_value    0.000000\n",
      "ocean_proximity       0.000000\n",
      "dtype: float64\n"
     ]
    }
   ],
   "source": [
    "# Percentage of missing data in each column\n",
    "\n",
    "number_of_columns = data.shape[0]\n",
    "percentage_of_missing_data = data.isnull().sum()/number_of_columns\n",
    "print(percentage_of_missing_data)"
   ]
  },
  {
   "cell_type": "code",
   "execution_count": 8,
   "metadata": {
    "colab": {
     "base_uri": "https://localhost:8080/",
     "height": 714
    },
    "id": "FM59-QiAKrGC",
    "outputId": "5c1225f3-81ae-47e7-ca82-24afc84e1281"
   },
   "outputs": [
    {
     "data": {
      "image/png": "[encoded data removed]",
      "text/plain": [
       "<Figure size 1440x1080 with 9 Axes>"
      ]
     },
     "metadata": {
      "needs_background": "light"
     },
     "output_type": "display_data"
    }
   ],
   "source": [
    "data.hist(bins=100, figsize=(20,15))\n",
    "\n",
    "plt.show()"
   ]
  },
  {
   "cell_type": "code",
   "execution_count": 9,
   "metadata": {
    "colab": {
     "base_uri": "https://localhost:8080/",
     "height": 530
    },
    "id": "1a0K8l4KKrGE",
    "outputId": "ea8a4a70-4e8c-4e59-ce06-57ddeaf1d73a"
   },
   "outputs": [
    {
     "data": {
      "text/plain": [
       "<matplotlib.legend.Legend at 0x1319d901490>"
      ]
     },
     "execution_count": 9,
     "metadata": {},
     "output_type": "execute_result"
    },
    {
     "data": {
      "image/png": "[encoded data removed]",
      "text/plain": [
       "<Figure size 720x576 with 2 Axes>"
      ]
     },
     "metadata": {
      "needs_background": "light"
     },
     "output_type": "display_data"
    }
   ],
   "source": [
    "data.plot(kind=\"scatter\", x=\"longitude\", y=\"latitude\", alpha=0.4,\n",
    "    s=data[\"population\"]/100, label=\"population\", figsize=(10,8),\n",
    "    c=\"median_house_value\", cmap=plt.get_cmap(\"jet\"), colorbar=True,\n",
    "    sharex=False)\n",
    "plt.title('Red is expensive, blue is cheap, larger circles indicate areas with a larger population',\\\n",
    "          fontweight = 20, fontsize = 13)\n",
    "plt.legend()"
   ]
  },
  {
   "cell_type": "code",
   "execution_count": 10,
   "metadata": {
    "colab": {
     "base_uri": "https://localhost:8080/"
    },
    "id": "Qu5-LhzVKrGH",
    "outputId": "2fc29099-0cf2-4226-df9f-96d90131ba93"
   },
   "outputs": [
    {
     "data": {
      "text/plain": [
       "median_house_value    1.000000\n",
       "median_income         0.688075\n",
       "total_rooms           0.134153\n",
       "housing_median_age    0.105623\n",
       "households            0.065843\n",
       "total_bedrooms        0.049686\n",
       "population           -0.024650\n",
       "longitude            -0.045967\n",
       "latitude             -0.144160\n",
       "Name: median_house_value, dtype: float64"
      ]
     },
     "execution_count": 10,
     "metadata": {},
     "output_type": "execute_result"
    }
   ],
   "source": [
    "corr_matrix = data.corr()\n",
    "corr_matrix[\"median_house_value\"].sort_values(ascending=False)"
   ]
  },
  {
   "cell_type": "markdown",
   "metadata": {
    "id": "XGWXaq-eKrGP"
   },
   "source": [
    "## Data Cleaning and Preparation"
   ]
  },
  {
   "cell_type": "code",
   "execution_count": 11,
   "metadata": {
    "id": "azFFYLs8KrGP"
   },
   "outputs": [],
   "source": [
    "#Fill in missing values with median\n",
    "\n",
    "from sklearn.impute import SimpleImputer\n",
    "imputer = SimpleImputer(strategy=\"median\")"
   ]
  },
  {
   "cell_type": "code",
   "execution_count": 12,
   "metadata": {
    "id": "tUbDUmiKqgnu"
   },
   "outputs": [],
   "source": [
    "#Remove the text attribute because median can only be calculated on numerical attributes:\n",
    "data_num=data.drop(\"ocean_proximity\", axis=1)"
   ]
  },
  {
   "cell_type": "code",
   "execution_count": 13,
   "metadata": {
    "colab": {
     "base_uri": "https://localhost:8080/"
    },
    "id": "EbX2GWq_KrGV",
    "outputId": "fc940b7e-7840-411d-c859-25d62a6f882e"
   },
   "outputs": [
    {
     "data": {
      "text/plain": [
       "array([-1.1849e+02,  3.4260e+01,  2.9000e+01,  2.1270e+03,  4.3500e+02,\n",
       "        1.1660e+03,  4.0900e+02,  3.5348e+00,  1.7970e+05])"
      ]
     },
     "execution_count": 13,
     "metadata": {},
     "output_type": "execute_result"
    }
   ],
   "source": [
    "imputer.fit(data_num)\n",
    "imputer.statistics_"
   ]
  },
  {
   "cell_type": "code",
   "execution_count": 14,
   "metadata": {
    "colab": {
     "base_uri": "https://localhost:8080/",
     "height": 224
    },
    "id": "eI4_FUwGKrGX",
    "outputId": "ca2ed634-9a91-4457-f721-87ad820d2dc6"
   },
   "outputs": [
    {
     "data": {
      "text/html": [
       "<div>\n",
       "<style scoped>\n",
       "    .dataframe tbody tr th:only-of-type {\n",
       "        vertical-align: middle;\n",
       "    }\n",
       "\n",
       "    .dataframe tbody tr th {\n",
       "        vertical-align: top;\n",
       "    }\n",
       "\n",
       "    .dataframe thead th {\n",
       "        text-align: right;\n",
       "    }\n",
       "</style>\n",
       "<table border=\"1\" class=\"dataframe\">\n",
       "  <thead>\n",
       "    <tr style=\"text-align: right;\">\n",
       "      <th></th>\n",
       "      <th>longitude</th>\n",
       "      <th>latitude</th>\n",
       "      <th>housing_median_age</th>\n",
       "      <th>total_rooms</th>\n",
       "      <th>total_bedrooms</th>\n",
       "      <th>population</th>\n",
       "      <th>households</th>\n",
       "      <th>median_income</th>\n",
       "      <th>median_house_value</th>\n",
       "    </tr>\n",
       "  </thead>\n",
       "  <tbody>\n",
       "    <tr>\n",
       "      <th>0</th>\n",
       "      <td>-122.23</td>\n",
       "      <td>37.88</td>\n",
       "      <td>41.0</td>\n",
       "      <td>880.0</td>\n",
       "      <td>129.0</td>\n",
       "      <td>322.0</td>\n",
       "      <td>126.0</td>\n",
       "      <td>8.3252</td>\n",
       "      <td>452600.0</td>\n",
       "    </tr>\n",
       "    <tr>\n",
       "      <th>1</th>\n",
       "      <td>-122.22</td>\n",
       "      <td>37.86</td>\n",
       "      <td>21.0</td>\n",
       "      <td>7099.0</td>\n",
       "      <td>1106.0</td>\n",
       "      <td>2401.0</td>\n",
       "      <td>1138.0</td>\n",
       "      <td>8.3014</td>\n",
       "      <td>358500.0</td>\n",
       "    </tr>\n",
       "    <tr>\n",
       "      <th>2</th>\n",
       "      <td>-122.24</td>\n",
       "      <td>37.85</td>\n",
       "      <td>52.0</td>\n",
       "      <td>1467.0</td>\n",
       "      <td>190.0</td>\n",
       "      <td>496.0</td>\n",
       "      <td>177.0</td>\n",
       "      <td>7.2574</td>\n",
       "      <td>352100.0</td>\n",
       "    </tr>\n",
       "    <tr>\n",
       "      <th>3</th>\n",
       "      <td>-122.25</td>\n",
       "      <td>37.85</td>\n",
       "      <td>52.0</td>\n",
       "      <td>1274.0</td>\n",
       "      <td>235.0</td>\n",
       "      <td>558.0</td>\n",
       "      <td>219.0</td>\n",
       "      <td>5.6431</td>\n",
       "      <td>341300.0</td>\n",
       "    </tr>\n",
       "    <tr>\n",
       "      <th>4</th>\n",
       "      <td>-122.25</td>\n",
       "      <td>37.85</td>\n",
       "      <td>52.0</td>\n",
       "      <td>1627.0</td>\n",
       "      <td>280.0</td>\n",
       "      <td>565.0</td>\n",
       "      <td>259.0</td>\n",
       "      <td>3.8462</td>\n",
       "      <td>342200.0</td>\n",
       "    </tr>\n",
       "  </tbody>\n",
       "</table>\n",
       "</div>"
      ],
      "text/plain": [
       "   longitude  latitude  housing_median_age  total_rooms  total_bedrooms  \\\n",
       "0    -122.23     37.88                41.0        880.0           129.0   \n",
       "1    -122.22     37.86                21.0       7099.0          1106.0   \n",
       "2    -122.24     37.85                52.0       1467.0           190.0   \n",
       "3    -122.25     37.85                52.0       1274.0           235.0   \n",
       "4    -122.25     37.85                52.0       1627.0           280.0   \n",
       "\n",
       "   population  households  median_income  median_house_value  \n",
       "0       322.0       126.0         8.3252            452600.0  \n",
       "1      2401.0      1138.0         8.3014            358500.0  \n",
       "2       496.0       177.0         7.2574            352100.0  \n",
       "3       558.0       219.0         5.6431            341300.0  \n",
       "4       565.0       259.0         3.8462            342200.0  "
      ]
     },
     "execution_count": 14,
     "metadata": {},
     "output_type": "execute_result"
    }
   ],
   "source": [
    "X = imputer.transform(data_num)\n",
    "data_num_clean = pd.DataFrame(X, columns=data_num.columns,index=data_num.index)\n",
    "data_num_clean.head()"
   ]
  },
  {
   "cell_type": "code",
   "execution_count": 15,
   "metadata": {
    "id": "spvY-7i_KrGZ"
   },
   "outputs": [],
   "source": [
    "data_num_clean[\"rooms_per_household\"] = data_num_clean[\"total_rooms\"]/data_num_clean[\"households\"]\n",
    "data_num_clean[\"bedrooms_per_room\"] = data_num_clean[\"total_bedrooms\"]/data_num_clean[\"total_rooms\"]\n",
    "data_num_clean[\"population_per_household\"]=data_num_clean[\"population\"]/data_num_clean[\"households\"]"
   ]
  },
  {
   "cell_type": "code",
   "execution_count": 16,
   "metadata": {
    "id": "ub9D7dkQqgop"
   },
   "outputs": [],
   "source": [
    "#Preprocess the categorical input feature, `ocean_proximity`:\n",
    "data_cat = data[[\"ocean_proximity\"]]"
   ]
  },
  {
   "cell_type": "code",
   "execution_count": 17,
   "metadata": {
    "id": "l2nvjJU3qgot"
   },
   "outputs": [],
   "source": [
    "from sklearn.preprocessing import OrdinalEncoder\n",
    "\n",
    "ordinal_encoder = OrdinalEncoder()\n",
    "data_cat_encoded = ordinal_encoder.fit_transform(data_cat)"
   ]
  },
  {
   "cell_type": "code",
   "execution_count": 18,
   "metadata": {
    "colab": {
     "base_uri": "https://localhost:8080/",
     "height": 224
    },
    "id": "k_arcn0BKrGk",
    "outputId": "ab4aacc8-e1b3-4f4d-ebf0-e081a227d7e5"
   },
   "outputs": [
    {
     "data": {
      "text/html": [
       "<div>\n",
       "<style scoped>\n",
       "    .dataframe tbody tr th:only-of-type {\n",
       "        vertical-align: middle;\n",
       "    }\n",
       "\n",
       "    .dataframe tbody tr th {\n",
       "        vertical-align: top;\n",
       "    }\n",
       "\n",
       "    .dataframe thead th {\n",
       "        text-align: right;\n",
       "    }\n",
       "</style>\n",
       "<table border=\"1\" class=\"dataframe\">\n",
       "  <thead>\n",
       "    <tr style=\"text-align: right;\">\n",
       "      <th></th>\n",
       "      <th>longitude</th>\n",
       "      <th>latitude</th>\n",
       "      <th>housing_median_age</th>\n",
       "      <th>total_rooms</th>\n",
       "      <th>total_bedrooms</th>\n",
       "      <th>population</th>\n",
       "      <th>households</th>\n",
       "      <th>median_income</th>\n",
       "      <th>median_house_value</th>\n",
       "      <th>rooms_per_household</th>\n",
       "      <th>bedrooms_per_room</th>\n",
       "      <th>population_per_household</th>\n",
       "      <th>ocean_proximity</th>\n",
       "    </tr>\n",
       "  </thead>\n",
       "  <tbody>\n",
       "    <tr>\n",
       "      <th>0</th>\n",
       "      <td>-122.23</td>\n",
       "      <td>37.88</td>\n",
       "      <td>41.0</td>\n",
       "      <td>880.0</td>\n",
       "      <td>129.0</td>\n",
       "      <td>322.0</td>\n",
       "      <td>126.0</td>\n",
       "      <td>8.3252</td>\n",
       "      <td>452600.0</td>\n",
       "      <td>6.984127</td>\n",
       "      <td>0.146591</td>\n",
       "      <td>2.555556</td>\n",
       "      <td>3.0</td>\n",
       "    </tr>\n",
       "    <tr>\n",
       "      <th>1</th>\n",
       "      <td>-122.22</td>\n",
       "      <td>37.86</td>\n",
       "      <td>21.0</td>\n",
       "      <td>7099.0</td>\n",
       "      <td>1106.0</td>\n",
       "      <td>2401.0</td>\n",
       "      <td>1138.0</td>\n",
       "      <td>8.3014</td>\n",
       "      <td>358500.0</td>\n",
       "      <td>6.238137</td>\n",
       "      <td>0.155797</td>\n",
       "      <td>2.109842</td>\n",
       "      <td>3.0</td>\n",
       "    </tr>\n",
       "    <tr>\n",
       "      <th>2</th>\n",
       "      <td>-122.24</td>\n",
       "      <td>37.85</td>\n",
       "      <td>52.0</td>\n",
       "      <td>1467.0</td>\n",
       "      <td>190.0</td>\n",
       "      <td>496.0</td>\n",
       "      <td>177.0</td>\n",
       "      <td>7.2574</td>\n",
       "      <td>352100.0</td>\n",
       "      <td>8.288136</td>\n",
       "      <td>0.129516</td>\n",
       "      <td>2.802260</td>\n",
       "      <td>3.0</td>\n",
       "    </tr>\n",
       "    <tr>\n",
       "      <th>3</th>\n",
       "      <td>-122.25</td>\n",
       "      <td>37.85</td>\n",
       "      <td>52.0</td>\n",
       "      <td>1274.0</td>\n",
       "      <td>235.0</td>\n",
       "      <td>558.0</td>\n",
       "      <td>219.0</td>\n",
       "      <td>5.6431</td>\n",
       "      <td>341300.0</td>\n",
       "      <td>5.817352</td>\n",
       "      <td>0.184458</td>\n",
       "      <td>2.547945</td>\n",
       "      <td>3.0</td>\n",
       "    </tr>\n",
       "    <tr>\n",
       "      <th>4</th>\n",
       "      <td>-122.25</td>\n",
       "      <td>37.85</td>\n",
       "      <td>52.0</td>\n",
       "      <td>1627.0</td>\n",
       "      <td>280.0</td>\n",
       "      <td>565.0</td>\n",
       "      <td>259.0</td>\n",
       "      <td>3.8462</td>\n",
       "      <td>342200.0</td>\n",
       "      <td>6.281853</td>\n",
       "      <td>0.172096</td>\n",
       "      <td>2.181467</td>\n",
       "      <td>3.0</td>\n",
       "    </tr>\n",
       "  </tbody>\n",
       "</table>\n",
       "</div>"
      ],
      "text/plain": [
       "   longitude  latitude  housing_median_age  total_rooms  total_bedrooms  \\\n",
       "0    -122.23     37.88                41.0        880.0           129.0   \n",
       "1    -122.22     37.86                21.0       7099.0          1106.0   \n",
       "2    -122.24     37.85                52.0       1467.0           190.0   \n",
       "3    -122.25     37.85                52.0       1274.0           235.0   \n",
       "4    -122.25     37.85                52.0       1627.0           280.0   \n",
       "\n",
       "   population  households  median_income  median_house_value  \\\n",
       "0       322.0       126.0         8.3252            452600.0   \n",
       "1      2401.0      1138.0         8.3014            358500.0   \n",
       "2       496.0       177.0         7.2574            352100.0   \n",
       "3       558.0       219.0         5.6431            341300.0   \n",
       "4       565.0       259.0         3.8462            342200.0   \n",
       "\n",
       "   rooms_per_household  bedrooms_per_room  population_per_household  \\\n",
       "0             6.984127           0.146591                  2.555556   \n",
       "1             6.238137           0.155797                  2.109842   \n",
       "2             8.288136           0.129516                  2.802260   \n",
       "3             5.817352           0.184458                  2.547945   \n",
       "4             6.281853           0.172096                  2.181467   \n",
       "\n",
       "   ocean_proximity  \n",
       "0              3.0  \n",
       "1              3.0  \n",
       "2              3.0  \n",
       "3              3.0  \n",
       "4              3.0  "
      ]
     },
     "execution_count": 18,
     "metadata": {},
     "output_type": "execute_result"
    }
   ],
   "source": [
    "data_num_clean[\"ocean_proximity\"]=data_cat_encoded\n",
    "data_clean=data_num_clean\n",
    "data_clean.head()"
   ]
  },
  {
   "cell_type": "code",
   "execution_count": 19,
   "metadata": {
    "colab": {
     "base_uri": "https://localhost:8080/",
     "height": 439
    },
    "id": "VgeaJU4MKrGn",
    "outputId": "554ab486-0fbc-412d-eeb1-e9390a640099"
   },
   "outputs": [
    {
     "data": {
      "text/html": [
       "<div>\n",
       "<style scoped>\n",
       "    .dataframe tbody tr th:only-of-type {\n",
       "        vertical-align: middle;\n",
       "    }\n",
       "\n",
       "    .dataframe tbody tr th {\n",
       "        vertical-align: top;\n",
       "    }\n",
       "\n",
       "    .dataframe thead th {\n",
       "        text-align: right;\n",
       "    }\n",
       "</style>\n",
       "<table border=\"1\" class=\"dataframe\">\n",
       "  <thead>\n",
       "    <tr style=\"text-align: right;\">\n",
       "      <th></th>\n",
       "      <th>longitude</th>\n",
       "      <th>latitude</th>\n",
       "      <th>housing_median_age</th>\n",
       "      <th>total_rooms</th>\n",
       "      <th>total_bedrooms</th>\n",
       "      <th>population</th>\n",
       "      <th>households</th>\n",
       "      <th>median_income</th>\n",
       "      <th>rooms_per_household</th>\n",
       "      <th>bedrooms_per_room</th>\n",
       "      <th>population_per_household</th>\n",
       "      <th>ocean_proximity</th>\n",
       "      <th>median_house_value</th>\n",
       "    </tr>\n",
       "  </thead>\n",
       "  <tbody>\n",
       "    <tr>\n",
       "      <th>0</th>\n",
       "      <td>-122.23</td>\n",
       "      <td>37.88</td>\n",
       "      <td>41.0</td>\n",
       "      <td>880.0</td>\n",
       "      <td>129.0</td>\n",
       "      <td>322.0</td>\n",
       "      <td>126.0</td>\n",
       "      <td>8.3252</td>\n",
       "      <td>6.984127</td>\n",
       "      <td>0.146591</td>\n",
       "      <td>2.555556</td>\n",
       "      <td>3.0</td>\n",
       "      <td>452600.0</td>\n",
       "    </tr>\n",
       "    <tr>\n",
       "      <th>1</th>\n",
       "      <td>-122.22</td>\n",
       "      <td>37.86</td>\n",
       "      <td>21.0</td>\n",
       "      <td>7099.0</td>\n",
       "      <td>1106.0</td>\n",
       "      <td>2401.0</td>\n",
       "      <td>1138.0</td>\n",
       "      <td>8.3014</td>\n",
       "      <td>6.238137</td>\n",
       "      <td>0.155797</td>\n",
       "      <td>2.109842</td>\n",
       "      <td>3.0</td>\n",
       "      <td>358500.0</td>\n",
       "    </tr>\n",
       "    <tr>\n",
       "      <th>2</th>\n",
       "      <td>-122.24</td>\n",
       "      <td>37.85</td>\n",
       "      <td>52.0</td>\n",
       "      <td>1467.0</td>\n",
       "      <td>190.0</td>\n",
       "      <td>496.0</td>\n",
       "      <td>177.0</td>\n",
       "      <td>7.2574</td>\n",
       "      <td>8.288136</td>\n",
       "      <td>0.129516</td>\n",
       "      <td>2.802260</td>\n",
       "      <td>3.0</td>\n",
       "      <td>352100.0</td>\n",
       "    </tr>\n",
       "    <tr>\n",
       "      <th>3</th>\n",
       "      <td>-122.25</td>\n",
       "      <td>37.85</td>\n",
       "      <td>52.0</td>\n",
       "      <td>1274.0</td>\n",
       "      <td>235.0</td>\n",
       "      <td>558.0</td>\n",
       "      <td>219.0</td>\n",
       "      <td>5.6431</td>\n",
       "      <td>5.817352</td>\n",
       "      <td>0.184458</td>\n",
       "      <td>2.547945</td>\n",
       "      <td>3.0</td>\n",
       "      <td>341300.0</td>\n",
       "    </tr>\n",
       "    <tr>\n",
       "      <th>4</th>\n",
       "      <td>-122.25</td>\n",
       "      <td>37.85</td>\n",
       "      <td>52.0</td>\n",
       "      <td>1627.0</td>\n",
       "      <td>280.0</td>\n",
       "      <td>565.0</td>\n",
       "      <td>259.0</td>\n",
       "      <td>3.8462</td>\n",
       "      <td>6.281853</td>\n",
       "      <td>0.172096</td>\n",
       "      <td>2.181467</td>\n",
       "      <td>3.0</td>\n",
       "      <td>342200.0</td>\n",
       "    </tr>\n",
       "    <tr>\n",
       "      <th>...</th>\n",
       "      <td>...</td>\n",
       "      <td>...</td>\n",
       "      <td>...</td>\n",
       "      <td>...</td>\n",
       "      <td>...</td>\n",
       "      <td>...</td>\n",
       "      <td>...</td>\n",
       "      <td>...</td>\n",
       "      <td>...</td>\n",
       "      <td>...</td>\n",
       "      <td>...</td>\n",
       "      <td>...</td>\n",
       "      <td>...</td>\n",
       "    </tr>\n",
       "    <tr>\n",
       "      <th>20635</th>\n",
       "      <td>-121.09</td>\n",
       "      <td>39.48</td>\n",
       "      <td>25.0</td>\n",
       "      <td>1665.0</td>\n",
       "      <td>374.0</td>\n",
       "      <td>845.0</td>\n",
       "      <td>330.0</td>\n",
       "      <td>1.5603</td>\n",
       "      <td>5.045455</td>\n",
       "      <td>0.224625</td>\n",
       "      <td>2.560606</td>\n",
       "      <td>1.0</td>\n",
       "      <td>78100.0</td>\n",
       "    </tr>\n",
       "    <tr>\n",
       "      <th>20636</th>\n",
       "      <td>-121.21</td>\n",
       "      <td>39.49</td>\n",
       "      <td>18.0</td>\n",
       "      <td>697.0</td>\n",
       "      <td>150.0</td>\n",
       "      <td>356.0</td>\n",
       "      <td>114.0</td>\n",
       "      <td>2.5568</td>\n",
       "      <td>6.114035</td>\n",
       "      <td>0.215208</td>\n",
       "      <td>3.122807</td>\n",
       "      <td>1.0</td>\n",
       "      <td>77100.0</td>\n",
       "    </tr>\n",
       "    <tr>\n",
       "      <th>20637</th>\n",
       "      <td>-121.22</td>\n",
       "      <td>39.43</td>\n",
       "      <td>17.0</td>\n",
       "      <td>2254.0</td>\n",
       "      <td>485.0</td>\n",
       "      <td>1007.0</td>\n",
       "      <td>433.0</td>\n",
       "      <td>1.7000</td>\n",
       "      <td>5.205543</td>\n",
       "      <td>0.215173</td>\n",
       "      <td>2.325635</td>\n",
       "      <td>1.0</td>\n",
       "      <td>92300.0</td>\n",
       "    </tr>\n",
       "    <tr>\n",
       "      <th>20638</th>\n",
       "      <td>-121.32</td>\n",
       "      <td>39.43</td>\n",
       "      <td>18.0</td>\n",
       "      <td>1860.0</td>\n",
       "      <td>409.0</td>\n",
       "      <td>741.0</td>\n",
       "      <td>349.0</td>\n",
       "      <td>1.8672</td>\n",
       "      <td>5.329513</td>\n",
       "      <td>0.219892</td>\n",
       "      <td>2.123209</td>\n",
       "      <td>1.0</td>\n",
       "      <td>84700.0</td>\n",
       "    </tr>\n",
       "    <tr>\n",
       "      <th>20639</th>\n",
       "      <td>-121.24</td>\n",
       "      <td>39.37</td>\n",
       "      <td>16.0</td>\n",
       "      <td>2785.0</td>\n",
       "      <td>616.0</td>\n",
       "      <td>1387.0</td>\n",
       "      <td>530.0</td>\n",
       "      <td>2.3886</td>\n",
       "      <td>5.254717</td>\n",
       "      <td>0.221185</td>\n",
       "      <td>2.616981</td>\n",
       "      <td>1.0</td>\n",
       "      <td>89400.0</td>\n",
       "    </tr>\n",
       "  </tbody>\n",
       "</table>\n",
       "<p>20640 rows × 13 columns</p>\n",
       "</div>"
      ],
      "text/plain": [
       "       longitude  latitude  housing_median_age  total_rooms  total_bedrooms  \\\n",
       "0        -122.23     37.88                41.0        880.0           129.0   \n",
       "1        -122.22     37.86                21.0       7099.0          1106.0   \n",
       "2        -122.24     37.85                52.0       1467.0           190.0   \n",
       "3        -122.25     37.85                52.0       1274.0           235.0   \n",
       "4        -122.25     37.85                52.0       1627.0           280.0   \n",
       "...          ...       ...                 ...          ...             ...   \n",
       "20635    -121.09     39.48                25.0       1665.0           374.0   \n",
       "20636    -121.21     39.49                18.0        697.0           150.0   \n",
       "20637    -121.22     39.43                17.0       2254.0           485.0   \n",
       "20638    -121.32     39.43                18.0       1860.0           409.0   \n",
       "20639    -121.24     39.37                16.0       2785.0           616.0   \n",
       "\n",
       "       population  households  median_income  rooms_per_household  \\\n",
       "0           322.0       126.0         8.3252             6.984127   \n",
       "1          2401.0      1138.0         8.3014             6.238137   \n",
       "2           496.0       177.0         7.2574             8.288136   \n",
       "3           558.0       219.0         5.6431             5.817352   \n",
       "4           565.0       259.0         3.8462             6.281853   \n",
       "...           ...         ...            ...                  ...   \n",
       "20635       845.0       330.0         1.5603             5.045455   \n",
       "20636       356.0       114.0         2.5568             6.114035   \n",
       "20637      1007.0       433.0         1.7000             5.205543   \n",
       "20638       741.0       349.0         1.8672             5.329513   \n",
       "20639      1387.0       530.0         2.3886             5.254717   \n",
       "\n",
       "       bedrooms_per_room  population_per_household  ocean_proximity  \\\n",
       "0               0.146591                  2.555556              3.0   \n",
       "1               0.155797                  2.109842              3.0   \n",
       "2               0.129516                  2.802260              3.0   \n",
       "3               0.184458                  2.547945              3.0   \n",
       "4               0.172096                  2.181467              3.0   \n",
       "...                  ...                       ...              ...   \n",
       "20635           0.224625                  2.560606              1.0   \n",
       "20636           0.215208                  3.122807              1.0   \n",
       "20637           0.215173                  2.325635              1.0   \n",
       "20638           0.219892                  2.123209              1.0   \n",
       "20639           0.221185                  2.616981              1.0   \n",
       "\n",
       "       median_house_value  \n",
       "0                452600.0  \n",
       "1                358500.0  \n",
       "2                352100.0  \n",
       "3                341300.0  \n",
       "4                342200.0  \n",
       "...                   ...  \n",
       "20635             78100.0  \n",
       "20636             77100.0  \n",
       "20637             92300.0  \n",
       "20638             84700.0  \n",
       "20639             89400.0  \n",
       "\n",
       "[20640 rows x 13 columns]"
      ]
     },
     "execution_count": 19,
     "metadata": {},
     "output_type": "execute_result"
    }
   ],
   "source": [
    "housing_labels = data_clean[\"median_house_value\"]\n",
    "data_clean = data_clean.drop(\"median_house_value\", axis=1)\n",
    "data_clean[\"median_house_value\"] = housing_labels\n",
    "data_clean"
   ]
  },
  {
   "cell_type": "code",
   "execution_count": 20,
   "metadata": {
    "colab": {
     "base_uri": "https://localhost:8080/"
    },
    "id": "FGBb8HZWKrGp",
    "outputId": "e188f811-e8df-4058-bd5d-44703a7994c2"
   },
   "outputs": [
    {
     "data": {
      "text/plain": [
       "(20640, 13)"
      ]
     },
     "execution_count": 20,
     "metadata": {},
     "output_type": "execute_result"
    }
   ],
   "source": [
    "from sklearn import preprocessing\n",
    "\n",
    "minmax_scale = preprocessing.MinMaxScaler()\n",
    "X_scaled = minmax_scale.fit_transform(data_clean)\n",
    "X_scaled.shape"
   ]
  },
  {
   "cell_type": "code",
   "execution_count": 21,
   "metadata": {
    "colab": {
     "base_uri": "https://localhost:8080/"
    },
    "id": "tfaXk6JBbiNZ",
    "outputId": "21a10f6d-0d28-42ee-8efd-39aa6268eb74"
   },
   "outputs": [
    {
     "name": "stdout",
     "output_type": "stream",
     "text": [
      "(20640, 12)\n",
      "(20640,)\n"
     ]
    }
   ],
   "source": [
    "#Splitting the dependent and independent variables\n",
    "\n",
    "X = X_scaled[:,:-1]\n",
    "y = X_scaled[:,-1]\n",
    "\n",
    "print(X.shape)\n",
    "print(y.shape)"
   ]
  },
  {
   "cell_type": "code",
   "execution_count": 22,
   "metadata": {
    "colab": {
     "base_uri": "https://localhost:8080/"
    },
    "id": "CLHjid6FY13N",
    "outputId": "c2849d69-8de7-44c7-8230-64b3598022cf"
   },
   "outputs": [
    {
     "name": "stdout",
     "output_type": "stream",
     "text": [
      "(16512, 12)\n",
      "(16512,)\n",
      "(4128, 12)\n"
     ]
    }
   ],
   "source": [
    "#Splitting the dataset into training and test sets\n",
    "\n",
    "from sklearn.model_selection import train_test_split\n",
    "\n",
    "train_data, test_data, train_labels, test_labels = train_test_split(X, y, test_size = 0.2, random_state = 42)\n",
    "\n",
    "print(train_data.shape)\n",
    "print(train_labels.shape)\n",
    "print(test_data.shape)"
   ]
  },
  {
   "cell_type": "code",
   "execution_count": 23,
   "metadata": {
    "id": "BuCeh9XVKrGy"
   },
   "outputs": [],
   "source": [
    "train_data = train_data\n",
    "test_data = test_data\n",
    "train_labels = train_labels.reshape(-1,1)\n",
    "test_labels = test_labels.reshape(-1,1)"
   ]
  },
  {
   "cell_type": "code",
   "execution_count": 24,
   "metadata": {
    "colab": {
     "base_uri": "https://localhost:8080/"
    },
    "id": "MLGUpsaOKrG0",
    "outputId": "4dfa144d-1ffc-4f67-881f-c65860eec4a6"
   },
   "outputs": [
    {
     "data": {
      "text/plain": [
       "array([[0.18144461],\n",
       "       [0.75690616],\n",
       "       [0.32494918],\n",
       "       ...,\n",
       "       [0.42701061],\n",
       "       [0.55360803],\n",
       "       [0.63917468]])"
      ]
     },
     "execution_count": 24,
     "metadata": {},
     "output_type": "execute_result"
    }
   ],
   "source": [
    "train_labels"
   ]
  },
  {
   "cell_type": "markdown",
   "metadata": {
    "id": "3s5fAfkYxLYp"
   },
   "source": [
    "## Preparation of the dataset for PyTorch"
   ]
  },
  {
   "cell_type": "code",
   "execution_count": 25,
   "metadata": {
    "id": "zjBZmMz7NEo5"
   },
   "outputs": [],
   "source": [
    "device = torch.device('cuda:0' if torch.cuda.is_available() else 'cpu')"
   ]
  },
  {
   "cell_type": "code",
   "execution_count": 26,
   "metadata": {
    "id": "wJ1L0HBAjGxk"
   },
   "outputs": [],
   "source": [
    "from torch.utils.data import TensorDataset, DataLoader\n",
    "\n",
    "tensor_x = torch.tensor(train_data, dtype=torch.float).to(device) # transform to torch tensor\n",
    "tensor_x2 = torch.tensor(test_data, dtype=torch.float).to(device) "
   ]
  },
  {
   "cell_type": "code",
   "execution_count": 27,
   "metadata": {
    "id": "eZCUXWsRjGxt"
   },
   "outputs": [],
   "source": [
    "tensor_y = torch.tensor(train_labels, dtype=torch.float).to(device)\n",
    "tensor_y2 = torch.tensor(test_labels, dtype=torch.float).to(device)"
   ]
  },
  {
   "cell_type": "code",
   "execution_count": 28,
   "metadata": {
    "id": "viaVSWpsGzDM"
   },
   "outputs": [],
   "source": [
    "train_dataset = TensorDataset(tensor_x, tensor_y) # create your dataset\n",
    "test_dataset = TensorDataset(tensor_x2,tensor_y2)"
   ]
  },
  {
   "cell_type": "code",
   "execution_count": 29,
   "metadata": {
    "id": "PR0Pw5uNt22n"
   },
   "outputs": [],
   "source": [
    "# Normalizing the data\n",
    "\n",
    "#print(tensor_x,tensor_x2)\n",
    "\n",
    "#mean = torch.mean(tensor_x)\n",
    "#std = torch.std(tensor_x)\n",
    "\n",
    "#tensor_x = (tensor_x - mean) / std\n",
    "#tensor_x2 = (tensor_x2 - mean) / std"
   ]
  },
  {
   "cell_type": "markdown",
   "metadata": {
    "id": "0Q3zsgW2jGx8"
   },
   "source": [
    "## Building Feedforward Neural Networks with PyTorch"
   ]
  },
  {
   "cell_type": "code",
   "execution_count": 30,
   "metadata": {
    "id": "aR6T38SlO9oL"
   },
   "outputs": [],
   "source": [
    "def compute_loss(net, data_loader):\n",
    "    curr_loss = 0.\n",
    "    with torch.no_grad():\n",
    "        for cnt, (features, targets) in enumerate(data_loader):\n",
    "            features = features.to(device)\n",
    "            targets = targets.to(device)\n",
    "            outputs = net.forward(features)\n",
    "            loss = criterion(outputs, targets)\n",
    "            curr_loss += loss\n",
    "        return float(curr_loss)/cnt"
   ]
  },
  {
   "cell_type": "markdown",
   "metadata": {
    "id": "3p2Us_9CNEpO"
   },
   "source": [
    "## Regularizations (Ensemble Methods)"
   ]
  },
  {
   "cell_type": "markdown",
   "metadata": {
    "id": "eIqYJTB7O9oL"
   },
   "source": [
    "- [Ensembles: the only (almost) free Lunch in Machine Learning](https://towardsdatascience.com/ensembles-the-almost-free-lunch-in-machine-learning-91af7ebe5090)\n",
    "    - Build optimal ensembles of neural networks with PyTorch and NumPy\n",
    "    \n",
    "    \n",
    "- [Bagging and Dropout Learning](https://jrodthoughts.medium.com/bagging-and-dropout-learning-ae484023b0da)"
   ]
  },
  {
   "cell_type": "markdown",
   "metadata": {
    "id": "DrPPRc_EO9oL"
   },
   "source": [
    "### Dropout: Ensemble Method Interpretation\n",
    "**Reference:** [Regularization by Sebastian Raschka](https://sebastianraschka.com/pdf/lecture-notes/stat479ss19/L10_regularization_slides.pdf)\n",
    "\n",
    "- In DL, we typically don't do regular ensembling (majority vote over a large number of networks, bagging, etc.) because it is very expensive to fit neural nets.\n",
    "- However, we know that the squared error for a prediction by a randomly selected model is larger than the squared error using an ensemble prediction (here, average over class probabilities).\n",
    "- Now, in dropout, we have a different model for each minibatch. \n",
    "- Via the minibatch iterations, we essentially sample over $M=2^h$ models, where h is the number of hidden units.\n",
    "- Restriction is that we have weight sharing over these models, which can be seen as a form of regularization.\n",
    "- During \"inference\" we can then average over all these models (but this is very expensive). \n",
    "- However, using the last model after training and scaling the predictions by a factor 1/(1-p) approximates the geometric mean and is much cheaper (actually, it's exactly the geometric mean if we have a linear model).\n",
    "\n",
    "### Dropout: More Practical Tips\n",
    "\n",
    "- Don't use Dropout if your model does not overfit .\n",
    "- However, in that case above, it is then recommended to increase the capacity to make it overfit, and then use dropout to be able to use a larger capacity model (but make it not overfit).\n",
    "\n"
   ]
  },
  {
   "cell_type": "markdown",
   "metadata": {
    "id": "N1RZUje2t222"
   },
   "source": [
    "### Model B: 3 Hidden Layers Feedforward Neural Network (ReLU activation)"
   ]
  },
  {
   "cell_type": "markdown",
   "metadata": {
    "id": "X0gtcPcPt222"
   },
   "source": [
    "### Create model class"
   ]
  },
  {
   "cell_type": "code",
   "execution_count": 110,
   "metadata": {
    "colab": {
     "base_uri": "https://localhost:8080/"
    },
    "id": "AUE2mWf4Q0nb",
    "outputId": "0ba1f258-0e69-42ff-a6a1-b51a0db12245"
   },
   "outputs": [
    {
     "name": "stdout",
     "output_type": "stream",
     "text": [
      "20\n"
     ]
    }
   ],
   "source": [
    "batch_size = 16\n",
    "n_iters = 21000\n",
    "num_epochs = n_iters / (len(train_data) / batch_size)\n",
    "num_epochs = int(num_epochs)\n",
    "print(num_epochs)"
   ]
  },
  {
   "cell_type": "code",
   "execution_count": 111,
   "metadata": {
    "id": "1qlG9zPXQ0nv"
   },
   "outputs": [],
   "source": [
    "train_loader = DataLoader(train_dataset, batch_size=batch_size, shuffle=True) # create your dataloader\n",
    "\n",
    "test_loader = DataLoader(test_dataset, batch_size=batch_size,  shuffle=False)"
   ]
  },
  {
   "cell_type": "code",
   "execution_count": 112,
   "metadata": {
    "id": "pHP-6Gbrt223"
   },
   "outputs": [],
   "source": [
    "class FNN(nn.Module):\n",
    "    def __init__(self, input_dim, hidden_dim1,hidden_dim2,hidden_dim3, output_dim):\n",
    "        super(FNN, self).__init__()\n",
    "        self.linear1 = nn.Linear(input_dim, hidden_dim1)\n",
    "        self.relu1 = nn.ReLU()\n",
    "        self.linear2 = nn.Linear(hidden_dim1, hidden_dim2)\n",
    "        self.dropout1 = nn.Dropout(0.35)\n",
    "        self.relu2 = nn.ReLU()\n",
    "        self.linear3 = nn.Linear(hidden_dim2, hidden_dim3)\n",
    "        self.relu3 = nn.ReLU()\n",
    "        self.linear4 = nn.Linear(hidden_dim3, output_dim)\n",
    "        \n",
    "    def forward(self, x):\n",
    "        out = self.linear1(x)\n",
    "        out = self.relu1(out)\n",
    "        out = self.linear2(out)\n",
    "        out = self.dropout1(out)\n",
    "        out = self.relu2(out)\n",
    "        out = self.linear3(out)\n",
    "        out = self.relu3(out)\n",
    "        out = self.linear4(out)\n",
    "        return out"
   ]
  },
  {
   "cell_type": "code",
   "execution_count": 113,
   "metadata": {
    "id": "hW1TdbRVt225"
   },
   "outputs": [],
   "source": [
    "input_dim = tensor_x.shape[1]\n",
    "output_dim = 1\n",
    "hidden_dim1 = 500\n",
    "hidden_dim2 = 1000\n",
    "hidden_dim3 = 200"
   ]
  },
  {
   "cell_type": "code",
   "execution_count": 114,
   "metadata": {
    "id": "3xR4dZyut227"
   },
   "outputs": [],
   "source": [
    "model = FNN(input_dim, hidden_dim1,hidden_dim2,hidden_dim3, output_dim)\n",
    "\n",
    "#######################\n",
    "#  USE GPU FOR MODEL  #\n",
    "#######################\n",
    "if torch.cuda.is_available():\n",
    "    model.cuda()\n"
   ]
  },
  {
   "cell_type": "code",
   "execution_count": 115,
   "metadata": {
    "colab": {
     "base_uri": "https://localhost:8080/"
    },
    "id": "yZTOUPrkP5JX",
    "outputId": "5622f46a-f26c-4500-8388-e35ca4a2e6b1"
   },
   "outputs": [
    {
     "name": "stdout",
     "output_type": "stream",
     "text": [
      "----------------------------------------------------------------\n",
      "        Layer (type)               Output Shape         Param #\n",
      "================================================================\n",
      "            Linear-1               [-1, 1, 500]           6,500\n",
      "              ReLU-2               [-1, 1, 500]               0\n",
      "            Linear-3              [-1, 1, 1000]         501,000\n",
      "           Dropout-4              [-1, 1, 1000]               0\n",
      "              ReLU-5              [-1, 1, 1000]               0\n",
      "            Linear-6               [-1, 1, 200]         200,200\n",
      "              ReLU-7               [-1, 1, 200]               0\n",
      "            Linear-8                 [-1, 1, 1]             201\n",
      "================================================================\n",
      "Total params: 707,901\n",
      "Trainable params: 707,901\n",
      "Non-trainable params: 0\n",
      "----------------------------------------------------------------\n",
      "Input size (MB): 0.00\n",
      "Forward/backward pass size (MB): 0.03\n",
      "Params size (MB): 2.70\n",
      "Estimated Total Size (MB): 2.73\n",
      "----------------------------------------------------------------\n"
     ]
    }
   ],
   "source": [
    "summary(model, (1,tensor_x.shape[1]))"
   ]
  },
  {
   "cell_type": "code",
   "execution_count": 116,
   "metadata": {
    "id": "irnPkz-DP5Ji"
   },
   "outputs": [],
   "source": [
    "criterion = nn.MSELoss(reduction='sum')\n",
    "\n",
    "learning_rate = 0.0001\n",
    "optimizer = torch.optim.SGD(model.parameters(), lr=learning_rate)"
   ]
  },
  {
   "cell_type": "markdown",
   "metadata": {
    "id": "nVRGbjHok2SR"
   },
   "source": [
    "#### Train the model"
   ]
  },
  {
   "cell_type": "code",
   "execution_count": 117,
   "metadata": {
    "colab": {
     "base_uri": "https://localhost:8080/"
    },
    "id": "yIiIq8Kek2SS",
    "outputId": "780a6639-986b-4c9f-9556-7978d8f45755"
   },
   "outputs": [
    {
     "name": "stdout",
     "output_type": "stream",
     "text": [
      "Epoch: 001/020 | Batch 000/1032 | Loss: 2.8670\n",
      "Epoch: 001/020 | Batch 1000/1032 | Loss: 0.6851\n",
      "Epoch: 001/020 Train Loss: 0.8594\n",
      "Time elapsed: 0.12 min\n",
      "Epoch: 002/020 | Batch 000/1032 | Loss: 0.7729\n",
      "Epoch: 002/020 | Batch 1000/1032 | Loss: 1.1948\n",
      "Epoch: 002/020 Train Loss: 0.8206\n",
      "Time elapsed: 0.23 min\n",
      "Epoch: 003/020 | Batch 000/1032 | Loss: 0.5166\n",
      "Epoch: 003/020 | Batch 1000/1032 | Loss: 0.5068\n",
      "Epoch: 003/020 Train Loss: 0.7771\n",
      "Time elapsed: 0.35 min\n",
      "Epoch: 004/020 | Batch 000/1032 | Loss: 0.5927\n",
      "Epoch: 004/020 | Batch 1000/1032 | Loss: 0.9110\n",
      "Epoch: 004/020 Train Loss: 0.7277\n",
      "Time elapsed: 0.46 min\n",
      "Epoch: 005/020 | Batch 000/1032 | Loss: 1.1776\n",
      "Epoch: 005/020 | Batch 1000/1032 | Loss: 0.9773\n",
      "Epoch: 005/020 Train Loss: 0.6726\n",
      "Time elapsed: 0.58 min\n",
      "Epoch: 006/020 | Batch 000/1032 | Loss: 0.4409\n",
      "Epoch: 006/020 | Batch 1000/1032 | Loss: 0.5002\n",
      "Epoch: 006/020 Train Loss: 0.6160\n",
      "Time elapsed: 0.70 min\n",
      "Epoch: 007/020 | Batch 000/1032 | Loss: 0.8373\n",
      "Epoch: 007/020 | Batch 1000/1032 | Loss: 0.4718\n",
      "Epoch: 007/020 Train Loss: 0.5564\n",
      "Time elapsed: 0.82 min\n",
      "Epoch: 008/020 | Batch 000/1032 | Loss: 0.3356\n",
      "Epoch: 008/020 | Batch 1000/1032 | Loss: 0.3524\n",
      "Epoch: 008/020 Train Loss: 0.5013\n",
      "Time elapsed: 0.95 min\n",
      "Epoch: 009/020 | Batch 000/1032 | Loss: 0.7825\n",
      "Epoch: 009/020 | Batch 1000/1032 | Loss: 0.5020\n",
      "Epoch: 009/020 Train Loss: 0.4542\n",
      "Time elapsed: 1.09 min\n",
      "Epoch: 010/020 | Batch 000/1032 | Loss: 0.4741\n",
      "Epoch: 010/020 | Batch 1000/1032 | Loss: 0.1414\n",
      "Epoch: 010/020 Train Loss: 0.4171\n",
      "Time elapsed: 1.25 min\n",
      "Epoch: 011/020 | Batch 000/1032 | Loss: 0.2187\n",
      "Epoch: 011/020 | Batch 1000/1032 | Loss: 0.2957\n",
      "Epoch: 011/020 Train Loss: 0.3926\n",
      "Time elapsed: 1.41 min\n",
      "Epoch: 012/020 | Batch 000/1032 | Loss: 0.1262\n",
      "Epoch: 012/020 | Batch 1000/1032 | Loss: 0.4056\n",
      "Epoch: 012/020 Train Loss: 0.3756\n",
      "Time elapsed: 1.57 min\n",
      "Epoch: 013/020 | Batch 000/1032 | Loss: 0.8458\n",
      "Epoch: 013/020 | Batch 1000/1032 | Loss: 1.1033\n",
      "Epoch: 013/020 Train Loss: 0.3652\n",
      "Time elapsed: 1.74 min\n",
      "Epoch: 014/020 | Batch 000/1032 | Loss: 0.7214\n",
      "Epoch: 014/020 | Batch 1000/1032 | Loss: 0.9504\n",
      "Epoch: 014/020 Train Loss: 0.3589\n",
      "Time elapsed: 1.89 min\n",
      "Epoch: 015/020 | Batch 000/1032 | Loss: 0.0889\n",
      "Epoch: 015/020 | Batch 1000/1032 | Loss: 0.1840\n",
      "Epoch: 015/020 Train Loss: 0.3549\n",
      "Time elapsed: 2.04 min\n",
      "Epoch: 016/020 | Batch 000/1032 | Loss: 0.7130\n",
      "Epoch: 016/020 | Batch 1000/1032 | Loss: 0.1439\n",
      "Epoch: 016/020 Train Loss: 0.3535\n",
      "Time elapsed: 2.19 min\n",
      "Epoch: 017/020 | Batch 000/1032 | Loss: 0.1220\n",
      "Epoch: 017/020 | Batch 1000/1032 | Loss: 1.9779\n",
      "Epoch: 017/020 Train Loss: 0.3485\n",
      "Time elapsed: 2.35 min\n",
      "Epoch: 018/020 | Batch 000/1032 | Loss: 0.4548\n",
      "Epoch: 018/020 | Batch 1000/1032 | Loss: 0.2904\n",
      "Epoch: 018/020 Train Loss: 0.3458\n",
      "Time elapsed: 2.51 min\n",
      "Epoch: 019/020 | Batch 000/1032 | Loss: 0.2565\n",
      "Epoch: 019/020 | Batch 1000/1032 | Loss: 0.3771\n",
      "Epoch: 019/020 Train Loss: 0.3442\n",
      "Time elapsed: 2.66 min\n",
      "Epoch: 020/020 | Batch 000/1032 | Loss: 0.7155\n",
      "Epoch: 020/020 | Batch 1000/1032 | Loss: 0.3005\n",
      "Epoch: 020/020 Train Loss: 0.3421\n",
      "Time elapsed: 2.82 min\n",
      "Total Training Time: 2.82 min\n",
      "Training Loss: 0.34\n",
      "Test Loss: 0.35\n"
     ]
    }
   ],
   "source": [
    "start_time = time.time()\n",
    "minibatch_cost = []\n",
    "epoch_cost = []\n",
    "for epoch in range(num_epochs):\n",
    "    model.train()\n",
    "    for batch_idx, (features, targets) in enumerate(train_loader):\n",
    "        \n",
    "        features = features.to(device)\n",
    "            \n",
    "        ### FORWARD AND BACK PROP\n",
    "        outputs = model(features)\n",
    "        \n",
    "        cost = criterion(outputs, targets)\n",
    "        optimizer.zero_grad()\n",
    "        \n",
    "        cost.backward()\n",
    "        minibatch_cost.append(cost)\n",
    "        ### UPDATE MODEL PARAMETERS\n",
    "        optimizer.step()\n",
    "        \n",
    "        ### LOGGING\n",
    "        if not batch_idx % 1000:\n",
    "            print ('Epoch: %03d/%03d | Batch %03d/%03d | Loss: %.4f' \n",
    "                   %(epoch+1, num_epochs, batch_idx, \n",
    "                     len(train_loader), cost))\n",
    "       \n",
    "    model.eval()\n",
    "    with torch.no_grad():\n",
    "        cost = compute_loss(model, train_loader)\n",
    "        epoch_cost.append(cost)\n",
    "        print('Epoch: %03d/%03d Train Loss: %.4f' % (\n",
    "                epoch+1, num_epochs, cost))\n",
    "        print('Time elapsed: %.2f min' % ((time.time() - start_time)/60))\n",
    "\n",
    "        \n",
    "model.eval()\n",
    "with torch.no_grad():\n",
    "    print('Total Training Time: %.2f min' % ((time.time() - start_time)/60))\n",
    "\n",
    "    print('Training Loss: %.2f' % compute_loss(model, train_loader))\n",
    "    print('Test Loss: %.2f' % compute_loss(model, test_loader))"
   ]
  },
  {
   "cell_type": "code",
   "execution_count": 118,
   "metadata": {
    "colab": {
     "base_uri": "https://localhost:8080/",
     "height": 350
    },
    "id": "6-k1FlbuV7h0",
    "outputId": "2d7af77d-5abb-4cce-fbaa-84722540dfac"
   },
   "outputs": [
    {
     "data": {
      "image/png": "[encoded data removed]",
      "text/plain": [
       "<Figure size 576x360 with 1 Axes>"
      ]
     },
     "metadata": {
      "needs_background": "light"
     },
     "output_type": "display_data"
    }
   ],
   "source": [
    "#Plot the loss curve\n",
    "\n",
    "plt.figure(figsize=(8,5))\n",
    "plt.plot(range(len(epoch_cost)), epoch_cost)\n",
    "plt.xlabel(\"Epoch\")\n",
    "plt.ylabel(\"Cross entropy loss\")\n",
    "plt.title(\"Loss of training\")\n",
    "plt.show()"
   ]
  },
  {
   "cell_type": "markdown",
   "metadata": {
    "id": "tOQfnZq1t23G"
   },
   "source": [
    "### Model C: 3 Hidden Layers Feedforward Neural Network (LeakyReLU activation)"
   ]
  },
  {
   "cell_type": "markdown",
   "metadata": {
    "id": "MEQ783gkt23H"
   },
   "source": [
    "### Create model class"
   ]
  },
  {
   "cell_type": "code",
   "execution_count": 127,
   "metadata": {
    "colab": {
     "base_uri": "https://localhost:8080/"
    },
    "id": "DOJyf7GeSDlJ",
    "outputId": "af0c3c4b-f2ee-45b6-fd74-06d6b6fecb25"
   },
   "outputs": [
    {
     "name": "stdout",
     "output_type": "stream",
     "text": [
      "38\n"
     ]
    }
   ],
   "source": [
    "batch_size = 16\n",
    "n_iters = 40000\n",
    "num_epochs = n_iters / (len(train_data) / batch_size)\n",
    "num_epochs = int(num_epochs)\n",
    "print(num_epochs)"
   ]
  },
  {
   "cell_type": "code",
   "execution_count": 128,
   "metadata": {
    "id": "vT9evoJ5SDle"
   },
   "outputs": [],
   "source": [
    "train_loader = DataLoader(train_dataset, batch_size=batch_size, shuffle=True) # create your dataloader\n",
    "\n",
    "test_loader = DataLoader(test_dataset, batch_size=batch_size,  shuffle=False)"
   ]
  },
  {
   "cell_type": "code",
   "execution_count": 129,
   "metadata": {
    "id": "SfrBAAaut23H"
   },
   "outputs": [],
   "source": [
    "class FNN(nn.Module):\n",
    "    def __init__(self, input_dim, hidden_dim1,hidden_dim2,hidden_dim3, output_dim):\n",
    "        super(FNN, self).__init__()\n",
    "        \n",
    "        self.linear1 = nn.Linear(input_dim, hidden_dim1)\n",
    "        self.relu1 = nn.LeakyReLU()\n",
    "        self.linear2 = nn.Linear(hidden_dim1, hidden_dim2)\n",
    "        self.dropout1 = nn.Dropout(0.35)\n",
    "        self.relu2 = nn.LeakyReLU()\n",
    "        self.linear3 = nn.Linear(hidden_dim2, hidden_dim3)\n",
    "        self.relu3 = nn.LeakyReLU()\n",
    "        self.linear4 = nn.Linear(hidden_dim3, output_dim)\n",
    "        \n",
    "    def forward(self, x):\n",
    "        out = self.linear1(x)\n",
    "        out = self.relu1(out)\n",
    "        out = self.linear2(out)\n",
    "        out = self.dropout1(out)\n",
    "        out = self.relu2(out)\n",
    "        out = self.linear3(out)\n",
    "        out = self.relu3(out)\n",
    "        out = self.linear4(out)\n",
    "        return out"
   ]
  },
  {
   "cell_type": "code",
   "execution_count": 130,
   "metadata": {
    "id": "5tJeNfKht23L"
   },
   "outputs": [],
   "source": [
    "input_dim = tensor_x.shape[1]\n",
    "output_dim = 1\n",
    "hidden_dim1 = 500\n",
    "hidden_dim2 = 1000\n",
    "hidden_dim3 = 100"
   ]
  },
  {
   "cell_type": "code",
   "execution_count": 131,
   "metadata": {
    "id": "N3fLjof7t23N"
   },
   "outputs": [],
   "source": [
    "model = FNN(input_dim, hidden_dim1,hidden_dim2,hidden_dim3, output_dim)\n",
    "\n",
    "#######################\n",
    "#  USE GPU FOR MODEL  #\n",
    "#######################\n",
    "if torch.cuda.is_available():\n",
    "    model.cuda()\n"
   ]
  },
  {
   "cell_type": "code",
   "execution_count": 132,
   "metadata": {
    "colab": {
     "base_uri": "https://localhost:8080/"
    },
    "id": "K375rRgHSSJL",
    "outputId": "27f1787a-13f5-4886-bc60-d8ce291ba7d5"
   },
   "outputs": [
    {
     "name": "stdout",
     "output_type": "stream",
     "text": [
      "----------------------------------------------------------------\n",
      "        Layer (type)               Output Shape         Param #\n",
      "================================================================\n",
      "            Linear-1               [-1, 1, 500]           6,500\n",
      "         LeakyReLU-2               [-1, 1, 500]               0\n",
      "            Linear-3              [-1, 1, 1000]         501,000\n",
      "           Dropout-4              [-1, 1, 1000]               0\n",
      "         LeakyReLU-5              [-1, 1, 1000]               0\n",
      "            Linear-6               [-1, 1, 100]         100,100\n",
      "         LeakyReLU-7               [-1, 1, 100]               0\n",
      "            Linear-8                 [-1, 1, 1]             101\n",
      "================================================================\n",
      "Total params: 607,701\n",
      "Trainable params: 607,701\n",
      "Non-trainable params: 0\n",
      "----------------------------------------------------------------\n",
      "Input size (MB): 0.00\n",
      "Forward/backward pass size (MB): 0.03\n",
      "Params size (MB): 2.32\n",
      "Estimated Total Size (MB): 2.35\n",
      "----------------------------------------------------------------\n"
     ]
    }
   ],
   "source": [
    "summary(model, (1,tensor_x.shape[1]))"
   ]
  },
  {
   "cell_type": "code",
   "execution_count": 133,
   "metadata": {
    "id": "I2GP_E9ESSJV"
   },
   "outputs": [],
   "source": [
    "criterion = nn.MSELoss(reduction='sum')\n",
    "\n",
    "learning_rate = 0.0001\n",
    "LAMBDA = 0.08\n",
    "optimizer = torch.optim.SGD(model.parameters(), lr=learning_rate, weight_decay=LAMBDA)"
   ]
  },
  {
   "cell_type": "markdown",
   "metadata": {
    "id": "nVRGbjHok2SR"
   },
   "source": [
    "#### Train the model"
   ]
  },
  {
   "cell_type": "code",
   "execution_count": 134,
   "metadata": {
    "colab": {
     "base_uri": "https://localhost:8080/"
    },
    "id": "yIiIq8Kek2SS",
    "outputId": "780a6639-986b-4c9f-9556-7978d8f45755"
   },
   "outputs": [
    {
     "name": "stdout",
     "output_type": "stream",
     "text": [
      "Epoch: 001/038 | Batch 000/1032 | Loss: 4.2848\n",
      "Epoch: 001/038 | Batch 1000/1032 | Loss: 1.0356\n",
      "Epoch: 001/038 Train Loss: 0.8557\n",
      "Time elapsed: 0.14 min\n",
      "Epoch: 002/038 | Batch 000/1032 | Loss: 0.9568\n",
      "Epoch: 002/038 | Batch 1000/1032 | Loss: 1.1189\n",
      "Epoch: 002/038 Train Loss: 0.8269\n",
      "Time elapsed: 0.27 min\n",
      "Epoch: 003/038 | Batch 000/1032 | Loss: 0.5307\n",
      "Epoch: 003/038 | Batch 1000/1032 | Loss: 0.9702\n",
      "Epoch: 003/038 Train Loss: 0.7959\n",
      "Time elapsed: 0.41 min\n",
      "Epoch: 004/038 | Batch 000/1032 | Loss: 0.4369\n",
      "Epoch: 004/038 | Batch 1000/1032 | Loss: 0.5265\n",
      "Epoch: 004/038 Train Loss: 0.7639\n",
      "Time elapsed: 0.54 min\n",
      "Epoch: 005/038 | Batch 000/1032 | Loss: 0.6899\n",
      "Epoch: 005/038 | Batch 1000/1032 | Loss: 0.5823\n",
      "Epoch: 005/038 Train Loss: 0.7303\n",
      "Time elapsed: 0.68 min\n",
      "Epoch: 006/038 | Batch 000/1032 | Loss: 0.8769\n",
      "Epoch: 006/038 | Batch 1000/1032 | Loss: 0.5204\n",
      "Epoch: 006/038 Train Loss: 0.6920\n",
      "Time elapsed: 0.82 min\n",
      "Epoch: 007/038 | Batch 000/1032 | Loss: 0.6923\n",
      "Epoch: 007/038 | Batch 1000/1032 | Loss: 0.4363\n",
      "Epoch: 007/038 Train Loss: 0.6491\n",
      "Time elapsed: 0.96 min\n",
      "Epoch: 008/038 | Batch 000/1032 | Loss: 0.6858\n",
      "Epoch: 008/038 | Batch 1000/1032 | Loss: 0.5069\n",
      "Epoch: 008/038 Train Loss: 0.6046\n",
      "Time elapsed: 1.10 min\n",
      "Epoch: 009/038 | Batch 000/1032 | Loss: 0.7230\n",
      "Epoch: 009/038 | Batch 1000/1032 | Loss: 0.1970\n",
      "Epoch: 009/038 Train Loss: 0.5605\n",
      "Time elapsed: 1.25 min\n",
      "Epoch: 010/038 | Batch 000/1032 | Loss: 0.3288\n",
      "Epoch: 010/038 | Batch 1000/1032 | Loss: 0.4076\n",
      "Epoch: 010/038 Train Loss: 0.5193\n",
      "Time elapsed: 1.39 min\n",
      "Epoch: 011/038 | Batch 000/1032 | Loss: 1.0464\n",
      "Epoch: 011/038 | Batch 1000/1032 | Loss: 0.6959\n",
      "Epoch: 011/038 Train Loss: 0.4825\n",
      "Time elapsed: 1.54 min\n",
      "Epoch: 012/038 | Batch 000/1032 | Loss: 1.0512\n",
      "Epoch: 012/038 | Batch 1000/1032 | Loss: 0.3246\n",
      "Epoch: 012/038 Train Loss: 0.4500\n",
      "Time elapsed: 1.69 min\n",
      "Epoch: 013/038 | Batch 000/1032 | Loss: 0.7396\n",
      "Epoch: 013/038 | Batch 1000/1032 | Loss: 0.6119\n",
      "Epoch: 013/038 Train Loss: 0.4245\n",
      "Time elapsed: 1.84 min\n",
      "Epoch: 014/038 | Batch 000/1032 | Loss: 0.4633\n",
      "Epoch: 014/038 | Batch 1000/1032 | Loss: 0.2830\n",
      "Epoch: 014/038 Train Loss: 0.4050\n",
      "Time elapsed: 2.02 min\n",
      "Epoch: 015/038 | Batch 000/1032 | Loss: 0.8420\n",
      "Epoch: 015/038 | Batch 1000/1032 | Loss: 0.5935\n",
      "Epoch: 015/038 Train Loss: 0.3906\n",
      "Time elapsed: 2.18 min\n",
      "Epoch: 016/038 | Batch 000/1032 | Loss: 0.3761\n",
      "Epoch: 016/038 | Batch 1000/1032 | Loss: 0.2979\n",
      "Epoch: 016/038 Train Loss: 0.3801\n",
      "Time elapsed: 2.33 min\n",
      "Epoch: 017/038 | Batch 000/1032 | Loss: 0.2387\n",
      "Epoch: 017/038 | Batch 1000/1032 | Loss: 0.3432\n",
      "Epoch: 017/038 Train Loss: 0.3725\n",
      "Time elapsed: 2.52 min\n",
      "Epoch: 018/038 | Batch 000/1032 | Loss: 0.7742\n",
      "Epoch: 018/038 | Batch 1000/1032 | Loss: 0.3314\n",
      "Epoch: 018/038 Train Loss: 0.3671\n",
      "Time elapsed: 2.69 min\n",
      "Epoch: 019/038 | Batch 000/1032 | Loss: 1.4529\n",
      "Epoch: 019/038 | Batch 1000/1032 | Loss: 0.1833\n",
      "Epoch: 019/038 Train Loss: 0.3633\n",
      "Time elapsed: 2.84 min\n",
      "Epoch: 020/038 | Batch 000/1032 | Loss: 0.2622\n",
      "Epoch: 020/038 | Batch 1000/1032 | Loss: 0.3610\n",
      "Epoch: 020/038 Train Loss: 0.3597\n",
      "Time elapsed: 2.98 min\n",
      "Epoch: 021/038 | Batch 000/1032 | Loss: 0.1072\n",
      "Epoch: 021/038 | Batch 1000/1032 | Loss: 0.2727\n",
      "Epoch: 021/038 Train Loss: 0.3571\n",
      "Time elapsed: 3.12 min\n",
      "Epoch: 022/038 | Batch 000/1032 | Loss: 0.2974\n",
      "Epoch: 022/038 | Batch 1000/1032 | Loss: 0.8228\n",
      "Epoch: 022/038 Train Loss: 0.3548\n",
      "Time elapsed: 3.26 min\n",
      "Epoch: 023/038 | Batch 000/1032 | Loss: 0.1594\n",
      "Epoch: 023/038 | Batch 1000/1032 | Loss: 0.4946\n",
      "Epoch: 023/038 Train Loss: 0.3527\n",
      "Time elapsed: 3.40 min\n",
      "Epoch: 024/038 | Batch 000/1032 | Loss: 0.6057\n",
      "Epoch: 024/038 | Batch 1000/1032 | Loss: 0.4702\n",
      "Epoch: 024/038 Train Loss: 0.3513\n",
      "Time elapsed: 3.53 min\n",
      "Epoch: 025/038 | Batch 000/1032 | Loss: 0.2399\n",
      "Epoch: 025/038 | Batch 1000/1032 | Loss: 0.4178\n",
      "Epoch: 025/038 Train Loss: 0.3497\n",
      "Time elapsed: 3.67 min\n",
      "Epoch: 026/038 | Batch 000/1032 | Loss: 0.0992\n",
      "Epoch: 026/038 | Batch 1000/1032 | Loss: 0.2837\n",
      "Epoch: 026/038 Train Loss: 0.3486\n",
      "Time elapsed: 3.81 min\n",
      "Epoch: 027/038 | Batch 000/1032 | Loss: 0.2847\n",
      "Epoch: 027/038 | Batch 1000/1032 | Loss: 0.2647\n",
      "Epoch: 027/038 Train Loss: 0.3468\n",
      "Time elapsed: 3.94 min\n",
      "Epoch: 028/038 | Batch 000/1032 | Loss: 0.2270\n",
      "Epoch: 028/038 | Batch 1000/1032 | Loss: 0.3068\n",
      "Epoch: 028/038 Train Loss: 0.3461\n",
      "Time elapsed: 4.08 min\n",
      "Epoch: 029/038 | Batch 000/1032 | Loss: 0.4499\n",
      "Epoch: 029/038 | Batch 1000/1032 | Loss: 0.1839\n",
      "Epoch: 029/038 Train Loss: 0.3445\n",
      "Time elapsed: 4.23 min\n",
      "Epoch: 030/038 | Batch 000/1032 | Loss: 0.4502\n",
      "Epoch: 030/038 | Batch 1000/1032 | Loss: 0.1804\n",
      "Epoch: 030/038 Train Loss: 0.3437\n",
      "Time elapsed: 4.37 min\n",
      "Epoch: 031/038 | Batch 000/1032 | Loss: 0.3855\n",
      "Epoch: 031/038 | Batch 1000/1032 | Loss: 0.1816\n",
      "Epoch: 031/038 Train Loss: 0.3432\n",
      "Time elapsed: 4.52 min\n",
      "Epoch: 032/038 | Batch 000/1032 | Loss: 0.3516\n",
      "Epoch: 032/038 | Batch 1000/1032 | Loss: 0.3125\n",
      "Epoch: 032/038 Train Loss: 0.3423\n",
      "Time elapsed: 4.68 min\n",
      "Epoch: 033/038 | Batch 000/1032 | Loss: 0.7541\n",
      "Epoch: 033/038 | Batch 1000/1032 | Loss: 0.4179\n",
      "Epoch: 033/038 Train Loss: 0.3414\n",
      "Time elapsed: 4.83 min\n",
      "Epoch: 034/038 | Batch 000/1032 | Loss: 0.5978\n",
      "Epoch: 034/038 | Batch 1000/1032 | Loss: 0.2018\n",
      "Epoch: 034/038 Train Loss: 0.3406\n",
      "Time elapsed: 5.00 min\n",
      "Epoch: 035/038 | Batch 000/1032 | Loss: 0.2700\n",
      "Epoch: 035/038 | Batch 1000/1032 | Loss: 0.1169\n",
      "Epoch: 035/038 Train Loss: 0.3396\n",
      "Time elapsed: 5.16 min\n",
      "Epoch: 036/038 | Batch 000/1032 | Loss: 0.2154\n",
      "Epoch: 036/038 | Batch 1000/1032 | Loss: 0.3219\n",
      "Epoch: 036/038 Train Loss: 0.3397\n",
      "Time elapsed: 5.30 min\n",
      "Epoch: 037/038 | Batch 000/1032 | Loss: 0.1491\n",
      "Epoch: 037/038 | Batch 1000/1032 | Loss: 0.1675\n",
      "Epoch: 037/038 Train Loss: 0.3382\n",
      "Time elapsed: 5.46 min\n",
      "Epoch: 038/038 | Batch 000/1032 | Loss: 0.2033\n",
      "Epoch: 038/038 | Batch 1000/1032 | Loss: 0.5344\n",
      "Epoch: 038/038 Train Loss: 0.3375\n",
      "Time elapsed: 5.60 min\n",
      "Total Training Time: 5.60 min\n",
      "Training Loss: 0.34\n",
      "Test Loss: 0.35\n"
     ]
    }
   ],
   "source": [
    "start_time = time.time()\n",
    "minibatch_cost = []\n",
    "epoch_cost = []\n",
    "for epoch in range(num_epochs):\n",
    "    model.train()\n",
    "    for batch_idx, (features, targets) in enumerate(train_loader):\n",
    "        \n",
    "        features = features.to(device)\n",
    "            \n",
    "        ### FORWARD AND BACK PROP\n",
    "        outputs = model(features)\n",
    "        \n",
    "        cost = criterion(outputs, targets)\n",
    "        optimizer.zero_grad()\n",
    "        \n",
    "        cost.backward()\n",
    "        minibatch_cost.append(cost)\n",
    "        ### UPDATE MODEL PARAMETERS\n",
    "        optimizer.step()\n",
    "        \n",
    "        ### LOGGING\n",
    "        if not batch_idx % 1000:\n",
    "            print ('Epoch: %03d/%03d | Batch %03d/%03d | Loss: %.4f' \n",
    "                   %(epoch+1, num_epochs, batch_idx, \n",
    "                     len(train_loader), cost))\n",
    "       \n",
    "    model.eval()\n",
    "    with torch.no_grad():\n",
    "        cost = compute_loss(model, train_loader)\n",
    "        epoch_cost.append(cost)\n",
    "        print('Epoch: %03d/%03d Train Loss: %.4f' % (\n",
    "                epoch+1, num_epochs, cost))\n",
    "        print('Time elapsed: %.2f min' % ((time.time() - start_time)/60))\n",
    "\n",
    "        \n",
    "model.eval()\n",
    "with torch.no_grad():\n",
    "    print('Total Training Time: %.2f min' % ((time.time() - start_time)/60))\n",
    "\n",
    "    print('Training Loss: %.2f' % compute_loss(model, train_loader))\n",
    "    print('Test Loss: %.2f' % compute_loss(model, test_loader))"
   ]
  },
  {
   "cell_type": "code",
   "execution_count": 135,
   "metadata": {
    "colab": {
     "base_uri": "https://localhost:8080/",
     "height": 350
    },
    "id": "6-k1FlbuV7h0",
    "outputId": "2d7af77d-5abb-4cce-fbaa-84722540dfac"
   },
   "outputs": [
    {
     "data": {
      "image/png": "[encoded data removed]",
      "text/plain": [
       "<Figure size 576x360 with 1 Axes>"
      ]
     },
     "metadata": {
      "needs_background": "light"
     },
     "output_type": "display_data"
    }
   ],
   "source": [
    "#Plot the loss curve\n",
    "\n",
    "plt.figure(figsize=(8,5))\n",
    "plt.plot(range(len(epoch_cost)), epoch_cost)\n",
    "plt.xlabel(\"Epoch\")\n",
    "plt.ylabel(\"Cross entropy loss\")\n",
    "plt.title(\"Loss of training\")\n",
    "plt.show()"
   ]
  },
  {
   "cell_type": "markdown",
   "metadata": {
    "id": "yaZQCztQt23X"
   },
   "source": [
    "### Model D: 5 Hidden Layers Feedforward Neural Network"
   ]
  },
  {
   "cell_type": "markdown",
   "metadata": {
    "id": "fTwN43swt23X"
   },
   "source": [
    "### Create model class"
   ]
  },
  {
   "cell_type": "code",
   "execution_count": 144,
   "metadata": {
    "colab": {
     "base_uri": "https://localhost:8080/"
    },
    "id": "DwEMBCvRTd2F",
    "outputId": "acd814ff-dd85-4914-a16f-d3b75e5b7ddb"
   },
   "outputs": [
    {
     "name": "stdout",
     "output_type": "stream",
     "text": [
      "38\n"
     ]
    }
   ],
   "source": [
    "batch_size = 16\n",
    "n_iters = 40000\n",
    "num_epochs = n_iters / (len(train_data) / batch_size)\n",
    "num_epochs = int(num_epochs)\n",
    "print(num_epochs)"
   ]
  },
  {
   "cell_type": "code",
   "execution_count": 145,
   "metadata": {
    "id": "EWAi8OgYTd2W"
   },
   "outputs": [],
   "source": [
    "train_loader = DataLoader(train_dataset, batch_size=batch_size, shuffle=True) # create your dataloader\n",
    "\n",
    "test_loader = DataLoader(test_dataset, batch_size=batch_size,  shuffle=False)"
   ]
  },
  {
   "cell_type": "code",
   "execution_count": 146,
   "metadata": {
    "id": "qiy2bMm3t23Y"
   },
   "outputs": [],
   "source": [
    "class FNN(nn.Module):\n",
    "    def __init__(self, input_dim, hidden_dim1, hidden_dim2, hidden_dim3, hidden_dim4, hidden_dim5, output_dim):\n",
    "        super(FNN, self).__init__()\n",
    "        \n",
    "        self.linear1 = nn.Linear(input_dim, hidden_dim1)\n",
    "        self.relu1 = nn.ReLU()\n",
    "        self.linear2 = nn.Linear(hidden_dim1, hidden_dim2)\n",
    "        self.dropout1 = nn.Dropout(0.35)\n",
    "        self.relu2 = nn.ReLU()\n",
    "        self.linear3 = nn.Linear(hidden_dim2, hidden_dim3)\n",
    "        self.relu3 = nn.ReLU()\n",
    "        self.linear4 = nn.Linear(hidden_dim3, hidden_dim4)\n",
    "        self.dropout2 = nn.Dropout(0.4)\n",
    "        self.relu4 = nn.ReLU()\n",
    "        self.linear5 = nn.Linear(hidden_dim4, hidden_dim5)\n",
    "        self.relu5 = nn.ReLU()\n",
    "        self.linear6 = nn.Linear(hidden_dim5, output_dim)\n",
    "        \n",
    "    def forward(self, x):\n",
    "        out = self.linear1(x)\n",
    "        out = self.relu1(out)\n",
    "        out = self.linear2(out)\n",
    "        out = self.dropout1(out)\n",
    "        out = self.relu2(out)\n",
    "        out = self.linear3(out)\n",
    "        out = self.relu3(out)\n",
    "        out = self.linear4(out)\n",
    "        out = self.dropout2(out)\n",
    "        out = self.relu4(out)\n",
    "        out = self.linear5(out)\n",
    "        out = self.relu5(out)\n",
    "        out = self.linear6(out)\n",
    "        return out\n",
    "    "
   ]
  },
  {
   "cell_type": "code",
   "execution_count": 147,
   "metadata": {
    "id": "klKbbQmat23a"
   },
   "outputs": [],
   "source": [
    "input_dim = tensor_x.shape[1]\n",
    "output_dim = 1\n",
    "hidden_dim1 = 500\n",
    "hidden_dim2 = 1000\n",
    "hidden_dim3 = 200\n",
    "hidden_dim4 = 100\n",
    "hidden_dim5 = 10"
   ]
  },
  {
   "cell_type": "code",
   "execution_count": 148,
   "metadata": {
    "id": "J4arjsYEt23d"
   },
   "outputs": [],
   "source": [
    "model = FNN(input_dim, hidden_dim1,hidden_dim2,hidden_dim3,hidden_dim4,hidden_dim5, output_dim)\n",
    "\n",
    "#######################\n",
    "#  USE GPU FOR MODEL  #\n",
    "#######################\n",
    "if torch.cuda.is_available():\n",
    "    model.cuda()\n"
   ]
  },
  {
   "cell_type": "code",
   "execution_count": 149,
   "metadata": {
    "colab": {
     "base_uri": "https://localhost:8080/"
    },
    "id": "rP2aQsozT26b",
    "outputId": "a191d5f5-6f7e-4971-8e68-52454d91e6aa"
   },
   "outputs": [
    {
     "name": "stdout",
     "output_type": "stream",
     "text": [
      "----------------------------------------------------------------\n",
      "        Layer (type)               Output Shape         Param #\n",
      "================================================================\n",
      "            Linear-1               [-1, 1, 500]           6,500\n",
      "              ReLU-2               [-1, 1, 500]               0\n",
      "            Linear-3              [-1, 1, 1000]         501,000\n",
      "           Dropout-4              [-1, 1, 1000]               0\n",
      "              ReLU-5              [-1, 1, 1000]               0\n",
      "            Linear-6               [-1, 1, 200]         200,200\n",
      "              ReLU-7               [-1, 1, 200]               0\n",
      "            Linear-8               [-1, 1, 100]          20,100\n",
      "           Dropout-9               [-1, 1, 100]               0\n",
      "             ReLU-10               [-1, 1, 100]               0\n",
      "           Linear-11                [-1, 1, 10]           1,010\n",
      "             ReLU-12                [-1, 1, 10]               0\n",
      "           Linear-13                 [-1, 1, 1]              11\n",
      "================================================================\n",
      "Total params: 728,821\n",
      "Trainable params: 728,821\n",
      "Non-trainable params: 0\n",
      "----------------------------------------------------------------\n",
      "Input size (MB): 0.00\n",
      "Forward/backward pass size (MB): 0.04\n",
      "Params size (MB): 2.78\n",
      "Estimated Total Size (MB): 2.82\n",
      "----------------------------------------------------------------\n"
     ]
    }
   ],
   "source": [
    "summary(model, (1,tensor_x.shape[1]))"
   ]
  },
  {
   "cell_type": "code",
   "execution_count": 150,
   "metadata": {
    "id": "Th-9PisLT26t"
   },
   "outputs": [],
   "source": [
    "criterion = nn.MSELoss(reduction='sum')\n",
    "\n",
    "learning_rate = 0.001\n",
    "LAMBDA = 0.001\n",
    "optimizer = torch.optim.SGD(model.parameters(), lr=learning_rate, weight_decay=LAMBDA)"
   ]
  },
  {
   "cell_type": "markdown",
   "metadata": {
    "id": "nVRGbjHok2SR"
   },
   "source": [
    "#### Train the model"
   ]
  },
  {
   "cell_type": "code",
   "execution_count": 151,
   "metadata": {
    "colab": {
     "base_uri": "https://localhost:8080/"
    },
    "id": "yIiIq8Kek2SS",
    "outputId": "780a6639-986b-4c9f-9556-7978d8f45755"
   },
   "outputs": [
    {
     "name": "stdout",
     "output_type": "stream",
     "text": [
      "Epoch: 001/038 | Batch 000/1032 | Loss: 1.2100\n",
      "Epoch: 001/038 | Batch 1000/1032 | Loss: 0.6147\n",
      "Epoch: 001/038 Train Loss: 0.9071\n",
      "Time elapsed: 0.17 min\n",
      "Epoch: 002/038 | Batch 000/1032 | Loss: 0.4168\n",
      "Epoch: 002/038 | Batch 1000/1032 | Loss: 0.8889\n",
      "Epoch: 002/038 Train Loss: 0.8978\n",
      "Time elapsed: 0.34 min\n",
      "Epoch: 003/038 | Batch 000/1032 | Loss: 0.8744\n",
      "Epoch: 003/038 | Batch 1000/1032 | Loss: 0.3216\n",
      "Epoch: 003/038 Train Loss: 0.8509\n",
      "Time elapsed: 0.50 min\n",
      "Epoch: 004/038 | Batch 000/1032 | Loss: 0.8203\n",
      "Epoch: 004/038 | Batch 1000/1032 | Loss: 0.8723\n",
      "Epoch: 004/038 Train Loss: 0.6370\n",
      "Time elapsed: 0.66 min\n",
      "Epoch: 005/038 | Batch 000/1032 | Loss: 0.7869\n",
      "Epoch: 005/038 | Batch 1000/1032 | Loss: 0.2395\n",
      "Epoch: 005/038 Train Loss: 0.3657\n",
      "Time elapsed: 0.82 min\n",
      "Epoch: 006/038 | Batch 000/1032 | Loss: 0.4101\n",
      "Epoch: 006/038 | Batch 1000/1032 | Loss: 0.1918\n",
      "Epoch: 006/038 Train Loss: 0.3342\n",
      "Time elapsed: 0.99 min\n",
      "Epoch: 007/038 | Batch 000/1032 | Loss: 0.2746\n",
      "Epoch: 007/038 | Batch 1000/1032 | Loss: 0.2267\n",
      "Epoch: 007/038 Train Loss: 0.3196\n",
      "Time elapsed: 1.15 min\n",
      "Epoch: 008/038 | Batch 000/1032 | Loss: 0.6348\n",
      "Epoch: 008/038 | Batch 1000/1032 | Loss: 0.4077\n",
      "Epoch: 008/038 Train Loss: 0.3139\n",
      "Time elapsed: 1.31 min\n",
      "Epoch: 009/038 | Batch 000/1032 | Loss: 0.1382\n",
      "Epoch: 009/038 | Batch 1000/1032 | Loss: 0.1981\n",
      "Epoch: 009/038 Train Loss: 0.3077\n",
      "Time elapsed: 1.48 min\n",
      "Epoch: 010/038 | Batch 000/1032 | Loss: 0.5745\n",
      "Epoch: 010/038 | Batch 1000/1032 | Loss: 0.1803\n",
      "Epoch: 010/038 Train Loss: 0.3053\n",
      "Time elapsed: 1.64 min\n",
      "Epoch: 011/038 | Batch 000/1032 | Loss: 0.3156\n",
      "Epoch: 011/038 | Batch 1000/1032 | Loss: 0.2241\n",
      "Epoch: 011/038 Train Loss: 0.2945\n",
      "Time elapsed: 1.81 min\n",
      "Epoch: 012/038 | Batch 000/1032 | Loss: 0.1918\n",
      "Epoch: 012/038 | Batch 1000/1032 | Loss: 0.2124\n",
      "Epoch: 012/038 Train Loss: 0.2909\n",
      "Time elapsed: 1.98 min\n",
      "Epoch: 013/038 | Batch 000/1032 | Loss: 0.3493\n",
      "Epoch: 013/038 | Batch 1000/1032 | Loss: 0.0836\n",
      "Epoch: 013/038 Train Loss: 0.2878\n",
      "Time elapsed: 2.16 min\n",
      "Epoch: 014/038 | Batch 000/1032 | Loss: 0.4641\n",
      "Epoch: 014/038 | Batch 1000/1032 | Loss: 0.9126\n",
      "Epoch: 014/038 Train Loss: 0.2849\n",
      "Time elapsed: 2.42 min\n",
      "Epoch: 015/038 | Batch 000/1032 | Loss: 0.5674\n",
      "Epoch: 015/038 | Batch 1000/1032 | Loss: 0.2297\n",
      "Epoch: 015/038 Train Loss: 0.2829\n",
      "Time elapsed: 2.66 min\n",
      "Epoch: 016/038 | Batch 000/1032 | Loss: 0.2210\n",
      "Epoch: 016/038 | Batch 1000/1032 | Loss: 0.5782\n",
      "Epoch: 016/038 Train Loss: 0.2853\n",
      "Time elapsed: 2.90 min\n",
      "Epoch: 017/038 | Batch 000/1032 | Loss: 0.3751\n",
      "Epoch: 017/038 | Batch 1000/1032 | Loss: 0.4644\n",
      "Epoch: 017/038 Train Loss: 0.2770\n",
      "Time elapsed: 3.15 min\n",
      "Epoch: 018/038 | Batch 000/1032 | Loss: 0.3762\n",
      "Epoch: 018/038 | Batch 1000/1032 | Loss: 0.1284\n",
      "Epoch: 018/038 Train Loss: 0.2811\n",
      "Time elapsed: 3.38 min\n",
      "Epoch: 019/038 | Batch 000/1032 | Loss: 0.3851\n",
      "Epoch: 019/038 | Batch 1000/1032 | Loss: 0.1413\n",
      "Epoch: 019/038 Train Loss: 0.2855\n",
      "Time elapsed: 3.62 min\n",
      "Epoch: 020/038 | Batch 000/1032 | Loss: 0.5008\n",
      "Epoch: 020/038 | Batch 1000/1032 | Loss: 0.2907\n",
      "Epoch: 020/038 Train Loss: 0.2731\n",
      "Time elapsed: 3.86 min\n",
      "Epoch: 021/038 | Batch 000/1032 | Loss: 0.1475\n",
      "Epoch: 021/038 | Batch 1000/1032 | Loss: 0.3072\n",
      "Epoch: 021/038 Train Loss: 0.2719\n",
      "Time elapsed: 4.10 min\n",
      "Epoch: 022/038 | Batch 000/1032 | Loss: 0.2238\n",
      "Epoch: 022/038 | Batch 1000/1032 | Loss: 0.6390\n",
      "Epoch: 022/038 Train Loss: 0.2690\n",
      "Time elapsed: 4.33 min\n",
      "Epoch: 023/038 | Batch 000/1032 | Loss: 0.6463\n",
      "Epoch: 023/038 | Batch 1000/1032 | Loss: 0.3388\n",
      "Epoch: 023/038 Train Loss: 0.2847\n",
      "Time elapsed: 4.57 min\n",
      "Epoch: 024/038 | Batch 000/1032 | Loss: 0.1804\n",
      "Epoch: 024/038 | Batch 1000/1032 | Loss: 0.1494\n",
      "Epoch: 024/038 Train Loss: 0.2647\n",
      "Time elapsed: 4.81 min\n",
      "Epoch: 025/038 | Batch 000/1032 | Loss: 0.1485\n",
      "Epoch: 025/038 | Batch 1000/1032 | Loss: 0.3462\n",
      "Epoch: 025/038 Train Loss: 0.2694\n",
      "Time elapsed: 5.05 min\n",
      "Epoch: 026/038 | Batch 000/1032 | Loss: 0.4725\n",
      "Epoch: 026/038 | Batch 1000/1032 | Loss: 0.3470\n",
      "Epoch: 026/038 Train Loss: 0.2690\n",
      "Time elapsed: 5.29 min\n",
      "Epoch: 027/038 | Batch 000/1032 | Loss: 0.3056\n",
      "Epoch: 027/038 | Batch 1000/1032 | Loss: 0.2982\n",
      "Epoch: 027/038 Train Loss: 0.2639\n",
      "Time elapsed: 5.53 min\n",
      "Epoch: 028/038 | Batch 000/1032 | Loss: 0.1900\n",
      "Epoch: 028/038 | Batch 1000/1032 | Loss: 0.1573\n",
      "Epoch: 028/038 Train Loss: 0.2604\n",
      "Time elapsed: 5.77 min\n",
      "Epoch: 029/038 | Batch 000/1032 | Loss: 0.2890\n",
      "Epoch: 029/038 | Batch 1000/1032 | Loss: 0.2652\n",
      "Epoch: 029/038 Train Loss: 0.2650\n",
      "Time elapsed: 6.01 min\n",
      "Epoch: 030/038 | Batch 000/1032 | Loss: 0.2299\n",
      "Epoch: 030/038 | Batch 1000/1032 | Loss: 0.0817\n",
      "Epoch: 030/038 Train Loss: 0.2571\n",
      "Time elapsed: 6.25 min\n",
      "Epoch: 031/038 | Batch 000/1032 | Loss: 0.0963\n",
      "Epoch: 031/038 | Batch 1000/1032 | Loss: 0.1327\n",
      "Epoch: 031/038 Train Loss: 0.2596\n",
      "Time elapsed: 6.49 min\n",
      "Epoch: 032/038 | Batch 000/1032 | Loss: 0.7255\n",
      "Epoch: 032/038 | Batch 1000/1032 | Loss: 0.0830\n",
      "Epoch: 032/038 Train Loss: 0.2547\n",
      "Time elapsed: 6.73 min\n",
      "Epoch: 033/038 | Batch 000/1032 | Loss: 0.4047\n",
      "Epoch: 033/038 | Batch 1000/1032 | Loss: 0.9454\n",
      "Epoch: 033/038 Train Loss: 0.2558\n",
      "Time elapsed: 6.97 min\n",
      "Epoch: 034/038 | Batch 000/1032 | Loss: 0.2768\n",
      "Epoch: 034/038 | Batch 1000/1032 | Loss: 0.3734\n",
      "Epoch: 034/038 Train Loss: 0.2529\n",
      "Time elapsed: 7.22 min\n",
      "Epoch: 035/038 | Batch 000/1032 | Loss: 0.0990\n",
      "Epoch: 035/038 | Batch 1000/1032 | Loss: 0.2492\n",
      "Epoch: 035/038 Train Loss: 0.2519\n",
      "Time elapsed: 7.46 min\n",
      "Epoch: 036/038 | Batch 000/1032 | Loss: 0.3566\n",
      "Epoch: 036/038 | Batch 1000/1032 | Loss: 0.2261\n",
      "Epoch: 036/038 Train Loss: 0.2654\n",
      "Time elapsed: 7.70 min\n",
      "Epoch: 037/038 | Batch 000/1032 | Loss: 0.1334\n",
      "Epoch: 037/038 | Batch 1000/1032 | Loss: 0.2821\n",
      "Epoch: 037/038 Train Loss: 0.2501\n",
      "Time elapsed: 7.94 min\n",
      "Epoch: 038/038 | Batch 000/1032 | Loss: 0.2856\n",
      "Epoch: 038/038 | Batch 1000/1032 | Loss: 0.1333\n",
      "Epoch: 038/038 Train Loss: 0.2503\n",
      "Time elapsed: 8.18 min\n",
      "Total Training Time: 8.18 min\n",
      "Training Loss: 0.25\n",
      "Test Loss: 0.28\n"
     ]
    }
   ],
   "source": [
    "start_time = time.time()\n",
    "minibatch_cost = []\n",
    "epoch_cost = []\n",
    "for epoch in range(num_epochs):\n",
    "    model.train()\n",
    "    for batch_idx, (features, targets) in enumerate(train_loader):\n",
    "        \n",
    "        features = features.to(device)\n",
    "            \n",
    "        ### FORWARD AND BACK PROP\n",
    "        outputs = model(features)\n",
    "        \n",
    "        cost = criterion(outputs, targets)\n",
    "        optimizer.zero_grad()\n",
    "        \n",
    "        cost.backward()\n",
    "        minibatch_cost.append(cost)\n",
    "        ### UPDATE MODEL PARAMETERS\n",
    "        optimizer.step()\n",
    "        \n",
    "        ### LOGGING\n",
    "        if not batch_idx % 1000:\n",
    "            print ('Epoch: %03d/%03d | Batch %03d/%03d | Loss: %.4f' \n",
    "                   %(epoch+1, num_epochs, batch_idx, \n",
    "                     len(train_loader), cost))\n",
    "       \n",
    "    model.eval()\n",
    "    with torch.no_grad():\n",
    "        cost = compute_loss(model, train_loader)\n",
    "        epoch_cost.append(cost)\n",
    "        print('Epoch: %03d/%03d Train Loss: %.4f' % (\n",
    "                epoch+1, num_epochs, cost))\n",
    "        print('Time elapsed: %.2f min' % ((time.time() - start_time)/60))\n",
    "\n",
    "        \n",
    "model.eval()\n",
    "with torch.no_grad():\n",
    "    print('Total Training Time: %.2f min' % ((time.time() - start_time)/60))\n",
    "\n",
    "    print('Training Loss: %.2f' % compute_loss(model, train_loader))\n",
    "    print('Test Loss: %.2f' % compute_loss(model, test_loader))"
   ]
  },
  {
   "cell_type": "code",
   "execution_count": 153,
   "metadata": {
    "colab": {
     "base_uri": "https://localhost:8080/",
     "height": 350
    },
    "id": "6-k1FlbuV7h0",
    "outputId": "2d7af77d-5abb-4cce-fbaa-84722540dfac"
   },
   "outputs": [
    {
     "data": {
      "image/png": "[encoded data removed]",
      "text/plain": [
       "<Figure size 576x360 with 1 Axes>"
      ]
     },
     "metadata": {
      "needs_background": "light"
     },
     "output_type": "display_data"
    }
   ],
   "source": [
    "#Plot the loss curve\n",
    "\n",
    "plt.figure(figsize=(8,5))\n",
    "plt.plot(range(len(epoch_cost)), epoch_cost)\n",
    "plt.xlabel(\"Epoch\")\n",
    "plt.ylabel(\"Cross entropy loss\")\n",
    "plt.title(\"Loss of training\")\n",
    "plt.show()"
   ]
  },
  {
   "cell_type": "markdown",
   "metadata": {
    "id": "zI7P2o5cNErL"
   },
   "source": [
    "## **Optimization:** Different optimizers and batch normalization"
   ]
  },
  {
   "cell_type": "markdown",
   "metadata": {
    "id": "hPJd1fysO9oN"
   },
   "source": [
    "## 1. SGD"
   ]
  },
  {
   "cell_type": "markdown",
   "metadata": {
    "id": "N1RZUje2t222"
   },
   "source": [
    "### Model B: 3 Hidden Layers Feedforward Neural Network (ReLU activation)"
   ]
  },
  {
   "cell_type": "markdown",
   "metadata": {
    "id": "X0gtcPcPt222"
   },
   "source": [
    "### Create model class"
   ]
  },
  {
   "cell_type": "code",
   "execution_count": 31,
   "metadata": {
    "colab": {
     "base_uri": "https://localhost:8080/"
    },
    "id": "AUE2mWf4Q0nb",
    "outputId": "0ba1f258-0e69-42ff-a6a1-b51a0db12245"
   },
   "outputs": [
    {
     "name": "stdout",
     "output_type": "stream",
     "text": [
      "20\n"
     ]
    }
   ],
   "source": [
    "batch_size = 16\n",
    "n_iters = 21000\n",
    "num_epochs = n_iters / (len(train_data) / batch_size)\n",
    "num_epochs = int(num_epochs)\n",
    "print(num_epochs)"
   ]
  },
  {
   "cell_type": "code",
   "execution_count": 32,
   "metadata": {
    "id": "1qlG9zPXQ0nv"
   },
   "outputs": [],
   "source": [
    "train_loader = DataLoader(train_dataset, batch_size=batch_size, shuffle=True) # create your dataloader\n",
    "\n",
    "test_loader = DataLoader(test_dataset, batch_size=batch_size,  shuffle=False)"
   ]
  },
  {
   "cell_type": "code",
   "execution_count": 33,
   "metadata": {
    "id": "pHP-6Gbrt223"
   },
   "outputs": [],
   "source": [
    "class FNN(nn.Module):\n",
    "    def __init__(self, input_dim, hidden_dim1,hidden_dim2,hidden_dim3, output_dim):\n",
    "        super(FNN, self).__init__()\n",
    "        self.linear1 = nn.Linear(input_dim, hidden_dim1)\n",
    "        self.relu1 = nn.ReLU()\n",
    "        self.linear2 = nn.Linear(hidden_dim1, hidden_dim2)\n",
    "        self.dropout1 = nn.Dropout(0.35)\n",
    "        self.relu2 = nn.ReLU()\n",
    "        self.linear3 = nn.Linear(hidden_dim2, hidden_dim3)\n",
    "        self.relu3 = nn.ReLU()\n",
    "        self.linear4 = nn.Linear(hidden_dim3, output_dim)\n",
    "        \n",
    "    def forward(self, x):\n",
    "        out = self.linear1(x)\n",
    "        out = self.relu1(out)\n",
    "        out = self.linear2(out)\n",
    "        out = self.dropout1(out)\n",
    "        out = self.relu2(out)\n",
    "        out = self.linear3(out)\n",
    "        out = self.relu3(out)\n",
    "        out = self.linear4(out)\n",
    "        return out"
   ]
  },
  {
   "cell_type": "code",
   "execution_count": 34,
   "metadata": {
    "id": "hW1TdbRVt225"
   },
   "outputs": [],
   "source": [
    "input_dim = tensor_x.shape[1]\n",
    "output_dim = 1\n",
    "hidden_dim1 = 500\n",
    "hidden_dim2 = 1000\n",
    "hidden_dim3 = 200"
   ]
  },
  {
   "cell_type": "code",
   "execution_count": 35,
   "metadata": {
    "id": "3xR4dZyut227"
   },
   "outputs": [],
   "source": [
    "model = FNN(input_dim, hidden_dim1,hidden_dim2,hidden_dim3, output_dim)\n",
    "\n",
    "#######################\n",
    "#  USE GPU FOR MODEL  #\n",
    "#######################\n",
    "if torch.cuda.is_available():\n",
    "    model.cuda()\n"
   ]
  },
  {
   "cell_type": "code",
   "execution_count": 36,
   "metadata": {
    "colab": {
     "base_uri": "https://localhost:8080/"
    },
    "id": "yZTOUPrkP5JX",
    "outputId": "5622f46a-f26c-4500-8388-e35ca4a2e6b1"
   },
   "outputs": [
    {
     "name": "stdout",
     "output_type": "stream",
     "text": [
      "----------------------------------------------------------------\n",
      "        Layer (type)               Output Shape         Param #\n",
      "================================================================\n",
      "            Linear-1               [-1, 1, 500]           6,500\n",
      "              ReLU-2               [-1, 1, 500]               0\n",
      "            Linear-3              [-1, 1, 1000]         501,000\n",
      "           Dropout-4              [-1, 1, 1000]               0\n",
      "              ReLU-5              [-1, 1, 1000]               0\n",
      "            Linear-6               [-1, 1, 200]         200,200\n",
      "              ReLU-7               [-1, 1, 200]               0\n",
      "            Linear-8                 [-1, 1, 1]             201\n",
      "================================================================\n",
      "Total params: 707,901\n",
      "Trainable params: 707,901\n",
      "Non-trainable params: 0\n",
      "----------------------------------------------------------------\n",
      "Input size (MB): 0.00\n",
      "Forward/backward pass size (MB): 0.03\n",
      "Params size (MB): 2.70\n",
      "Estimated Total Size (MB): 2.73\n",
      "----------------------------------------------------------------\n"
     ]
    }
   ],
   "source": [
    "summary(model, (1,tensor_x.shape[1]))"
   ]
  },
  {
   "cell_type": "code",
   "execution_count": 37,
   "metadata": {
    "id": "irnPkz-DP5Ji"
   },
   "outputs": [],
   "source": [
    "criterion = nn.MSELoss(reduction='sum')\n",
    "\n",
    "learning_rate = 0.0001\n",
    "optimizer = torch.optim.SGD(model.parameters(), lr=learning_rate)"
   ]
  },
  {
   "cell_type": "markdown",
   "metadata": {
    "id": "nVRGbjHok2SR"
   },
   "source": [
    "#### Train the model"
   ]
  },
  {
   "cell_type": "code",
   "execution_count": 38,
   "metadata": {
    "colab": {
     "base_uri": "https://localhost:8080/"
    },
    "id": "yIiIq8Kek2SS",
    "outputId": "780a6639-986b-4c9f-9556-7978d8f45755"
   },
   "outputs": [
    {
     "name": "stdout",
     "output_type": "stream",
     "text": [
      "Epoch: 001/020 | Batch 000/1032 | Loss: 6.4782\n",
      "Epoch: 001/020 | Batch 1000/1032 | Loss: 1.1225\n",
      "Epoch: 001/020 Train Loss: 0.8286\n",
      "Time elapsed: 0.11 min\n",
      "Epoch: 002/020 | Batch 000/1032 | Loss: 0.5235\n",
      "Epoch: 002/020 | Batch 1000/1032 | Loss: 0.6322\n",
      "Epoch: 002/020 Train Loss: 0.7760\n",
      "Time elapsed: 0.23 min\n",
      "Epoch: 003/020 | Batch 000/1032 | Loss: 0.7812\n",
      "Epoch: 003/020 | Batch 1000/1032 | Loss: 0.3524\n",
      "Epoch: 003/020 Train Loss: 0.7216\n",
      "Time elapsed: 0.34 min\n",
      "Epoch: 004/020 | Batch 000/1032 | Loss: 0.4779\n",
      "Epoch: 004/020 | Batch 1000/1032 | Loss: 0.8093\n",
      "Epoch: 004/020 Train Loss: 0.6638\n",
      "Time elapsed: 0.47 min\n",
      "Epoch: 005/020 | Batch 000/1032 | Loss: 1.1290\n",
      "Epoch: 005/020 | Batch 1000/1032 | Loss: 0.9608\n",
      "Epoch: 005/020 Train Loss: 0.6031\n",
      "Time elapsed: 0.66 min\n",
      "Epoch: 006/020 | Batch 000/1032 | Loss: 0.2253\n",
      "Epoch: 006/020 | Batch 1000/1032 | Loss: 0.3445\n",
      "Epoch: 006/020 Train Loss: 0.5417\n",
      "Time elapsed: 0.83 min\n",
      "Epoch: 007/020 | Batch 000/1032 | Loss: 0.2193\n",
      "Epoch: 007/020 | Batch 1000/1032 | Loss: 0.1557\n",
      "Epoch: 007/020 Train Loss: 0.4850\n",
      "Time elapsed: 0.96 min\n",
      "Epoch: 008/020 | Batch 000/1032 | Loss: 0.4815\n",
      "Epoch: 008/020 | Batch 1000/1032 | Loss: 0.3963\n",
      "Epoch: 008/020 Train Loss: 0.4391\n",
      "Time elapsed: 1.08 min\n",
      "Epoch: 009/020 | Batch 000/1032 | Loss: 0.4623\n",
      "Epoch: 009/020 | Batch 1000/1032 | Loss: 0.3277\n",
      "Epoch: 009/020 Train Loss: 0.4056\n",
      "Time elapsed: 1.21 min\n",
      "Epoch: 010/020 | Batch 000/1032 | Loss: 0.2302\n",
      "Epoch: 010/020 | Batch 1000/1032 | Loss: 0.1266\n",
      "Epoch: 010/020 Train Loss: 0.3843\n",
      "Time elapsed: 1.34 min\n",
      "Epoch: 011/020 | Batch 000/1032 | Loss: 0.2519\n",
      "Epoch: 011/020 | Batch 1000/1032 | Loss: 0.2163\n",
      "Epoch: 011/020 Train Loss: 0.3702\n",
      "Time elapsed: 1.46 min\n",
      "Epoch: 012/020 | Batch 000/1032 | Loss: 0.1196\n",
      "Epoch: 012/020 | Batch 1000/1032 | Loss: 0.3789\n",
      "Epoch: 012/020 Train Loss: 0.3622\n",
      "Time elapsed: 1.61 min\n",
      "Epoch: 013/020 | Batch 000/1032 | Loss: 0.1493\n",
      "Epoch: 013/020 | Batch 1000/1032 | Loss: 0.3192\n",
      "Epoch: 013/020 Train Loss: 0.3578\n",
      "Time elapsed: 1.76 min\n",
      "Epoch: 014/020 | Batch 000/1032 | Loss: 0.6607\n",
      "Epoch: 014/020 | Batch 1000/1032 | Loss: 0.5615\n",
      "Epoch: 014/020 Train Loss: 0.3569\n",
      "Time elapsed: 1.91 min\n",
      "Epoch: 015/020 | Batch 000/1032 | Loss: 0.2688\n",
      "Epoch: 015/020 | Batch 1000/1032 | Loss: 0.5433\n",
      "Epoch: 015/020 Train Loss: 0.3508\n",
      "Time elapsed: 2.03 min\n",
      "Epoch: 016/020 | Batch 000/1032 | Loss: 0.5288\n",
      "Epoch: 016/020 | Batch 1000/1032 | Loss: 0.4729\n",
      "Epoch: 016/020 Train Loss: 0.3486\n",
      "Time elapsed: 2.15 min\n",
      "Epoch: 017/020 | Batch 000/1032 | Loss: 0.3855\n",
      "Epoch: 017/020 | Batch 1000/1032 | Loss: 0.3215\n",
      "Epoch: 017/020 Train Loss: 0.3469\n",
      "Time elapsed: 2.27 min\n",
      "Epoch: 018/020 | Batch 000/1032 | Loss: 0.5630\n",
      "Epoch: 018/020 | Batch 1000/1032 | Loss: 0.3812\n",
      "Epoch: 018/020 Train Loss: 0.3444\n",
      "Time elapsed: 2.39 min\n",
      "Epoch: 019/020 | Batch 000/1032 | Loss: 0.2950\n",
      "Epoch: 019/020 | Batch 1000/1032 | Loss: 0.1622\n",
      "Epoch: 019/020 Train Loss: 0.3449\n",
      "Time elapsed: 2.50 min\n",
      "Epoch: 020/020 | Batch 000/1032 | Loss: 0.4185\n",
      "Epoch: 020/020 | Batch 1000/1032 | Loss: 0.5576\n",
      "Epoch: 020/020 Train Loss: 0.3407\n",
      "Time elapsed: 2.62 min\n",
      "Total Training Time: 2.62 min\n",
      "Training Loss: 0.34\n",
      "Test Loss: 0.35\n"
     ]
    }
   ],
   "source": [
    "start_time = time.time()\n",
    "minibatch_cost = []\n",
    "epoch_cost = []\n",
    "for epoch in range(num_epochs):\n",
    "    model.train()\n",
    "    for batch_idx, (features, targets) in enumerate(train_loader):\n",
    "        \n",
    "        features = features.to(device)\n",
    "            \n",
    "        ### FORWARD AND BACK PROP\n",
    "        outputs = model(features)\n",
    "        \n",
    "        cost = criterion(outputs, targets)\n",
    "        optimizer.zero_grad()\n",
    "        \n",
    "        cost.backward()\n",
    "        minibatch_cost.append(cost)\n",
    "        ### UPDATE MODEL PARAMETERS\n",
    "        optimizer.step()\n",
    "        \n",
    "        ### LOGGING\n",
    "        if not batch_idx % 1000:\n",
    "            print ('Epoch: %03d/%03d | Batch %03d/%03d | Loss: %.4f' \n",
    "                   %(epoch+1, num_epochs, batch_idx, \n",
    "                     len(train_loader), cost))\n",
    "       \n",
    "    model.eval()\n",
    "    with torch.no_grad():\n",
    "        cost = compute_loss(model, train_loader)\n",
    "        epoch_cost.append(cost)\n",
    "        print('Epoch: %03d/%03d Train Loss: %.4f' % (\n",
    "                epoch+1, num_epochs, cost))\n",
    "        print('Time elapsed: %.2f min' % ((time.time() - start_time)/60))\n",
    "\n",
    "        \n",
    "model.eval()\n",
    "with torch.no_grad():\n",
    "    print('Total Training Time: %.2f min' % ((time.time() - start_time)/60))\n",
    "\n",
    "    print('Training Loss: %.2f' % compute_loss(model, train_loader))\n",
    "    print('Test Loss: %.2f' % compute_loss(model, test_loader))"
   ]
  },
  {
   "cell_type": "code",
   "execution_count": 39,
   "metadata": {
    "colab": {
     "base_uri": "https://localhost:8080/",
     "height": 350
    },
    "id": "6-k1FlbuV7h0",
    "outputId": "2d7af77d-5abb-4cce-fbaa-84722540dfac"
   },
   "outputs": [
    {
     "data": {
      "image/png": "[encoded data removed]",
      "text/plain": [
       "<Figure size 576x360 with 1 Axes>"
      ]
     },
     "metadata": {
      "needs_background": "light"
     },
     "output_type": "display_data"
    }
   ],
   "source": [
    "#Plot the loss curve\n",
    "\n",
    "plt.figure(figsize=(8,5))\n",
    "plt.plot(range(len(epoch_cost)), epoch_cost)\n",
    "plt.xlabel(\"Epoch\")\n",
    "plt.ylabel(\"Cross entropy loss\")\n",
    "plt.title(\"Loss of training\")\n",
    "plt.show()"
   ]
  },
  {
   "cell_type": "markdown",
   "metadata": {
    "id": "uIFxFNUnO9oO"
   },
   "source": [
    "## 2. SGD Momentum"
   ]
  },
  {
   "cell_type": "markdown",
   "metadata": {
    "id": "N1RZUje2t222"
   },
   "source": [
    "### Model B: 3 Hidden Layers Feedforward Neural Network (ReLU activation)"
   ]
  },
  {
   "cell_type": "markdown",
   "metadata": {
    "id": "X0gtcPcPt222"
   },
   "source": [
    "### Create model class"
   ]
  },
  {
   "cell_type": "code",
   "execution_count": 40,
   "metadata": {
    "colab": {
     "base_uri": "https://localhost:8080/"
    },
    "id": "AUE2mWf4Q0nb",
    "outputId": "0ba1f258-0e69-42ff-a6a1-b51a0db12245"
   },
   "outputs": [
    {
     "name": "stdout",
     "output_type": "stream",
     "text": [
      "20\n"
     ]
    }
   ],
   "source": [
    "batch_size = 16\n",
    "n_iters = 21000\n",
    "num_epochs = n_iters / (len(train_data) / batch_size)\n",
    "num_epochs = int(num_epochs)\n",
    "print(num_epochs)"
   ]
  },
  {
   "cell_type": "code",
   "execution_count": 41,
   "metadata": {
    "id": "1qlG9zPXQ0nv"
   },
   "outputs": [],
   "source": [
    "train_loader = DataLoader(train_dataset, batch_size=batch_size, shuffle=True) # create your dataloader\n",
    "\n",
    "test_loader = DataLoader(test_dataset, batch_size=batch_size,  shuffle=False)"
   ]
  },
  {
   "cell_type": "code",
   "execution_count": 42,
   "metadata": {
    "id": "pHP-6Gbrt223"
   },
   "outputs": [],
   "source": [
    "class FNN(nn.Module):\n",
    "    def __init__(self, input_dim, hidden_dim1,hidden_dim2,hidden_dim3, output_dim):\n",
    "        super(FNN, self).__init__()\n",
    "        self.linear1 = nn.Linear(input_dim, hidden_dim1)\n",
    "        self.relu1 = nn.ReLU()\n",
    "        self.linear2 = nn.Linear(hidden_dim1, hidden_dim2)\n",
    "        self.dropout1 = nn.Dropout(0.35)\n",
    "        self.relu2 = nn.ReLU()\n",
    "        self.linear3 = nn.Linear(hidden_dim2, hidden_dim3)\n",
    "        self.relu3 = nn.ReLU()\n",
    "        self.linear4 = nn.Linear(hidden_dim3, output_dim)\n",
    "        \n",
    "    def forward(self, x):\n",
    "        out = self.linear1(x)\n",
    "        out = self.relu1(out)\n",
    "        out = self.linear2(out)\n",
    "        out = self.dropout1(out)\n",
    "        out = self.relu2(out)\n",
    "        out = self.linear3(out)\n",
    "        out = self.relu3(out)\n",
    "        out = self.linear4(out)\n",
    "        return out"
   ]
  },
  {
   "cell_type": "code",
   "execution_count": 43,
   "metadata": {
    "id": "hW1TdbRVt225"
   },
   "outputs": [],
   "source": [
    "input_dim = tensor_x.shape[1]\n",
    "output_dim = 1\n",
    "hidden_dim1 = 500\n",
    "hidden_dim2 = 1000\n",
    "hidden_dim3 = 200"
   ]
  },
  {
   "cell_type": "code",
   "execution_count": 44,
   "metadata": {
    "id": "3xR4dZyut227"
   },
   "outputs": [],
   "source": [
    "model = FNN(input_dim, hidden_dim1,hidden_dim2,hidden_dim3, output_dim)\n",
    "\n",
    "#######################\n",
    "#  USE GPU FOR MODEL  #\n",
    "#######################\n",
    "if torch.cuda.is_available():\n",
    "    model.cuda()\n"
   ]
  },
  {
   "cell_type": "code",
   "execution_count": 45,
   "metadata": {
    "colab": {
     "base_uri": "https://localhost:8080/"
    },
    "id": "yZTOUPrkP5JX",
    "outputId": "5622f46a-f26c-4500-8388-e35ca4a2e6b1"
   },
   "outputs": [
    {
     "name": "stdout",
     "output_type": "stream",
     "text": [
      "----------------------------------------------------------------\n",
      "        Layer (type)               Output Shape         Param #\n",
      "================================================================\n",
      "            Linear-1               [-1, 1, 500]           6,500\n",
      "              ReLU-2               [-1, 1, 500]               0\n",
      "            Linear-3              [-1, 1, 1000]         501,000\n",
      "           Dropout-4              [-1, 1, 1000]               0\n",
      "              ReLU-5              [-1, 1, 1000]               0\n",
      "            Linear-6               [-1, 1, 200]         200,200\n",
      "              ReLU-7               [-1, 1, 200]               0\n",
      "            Linear-8                 [-1, 1, 1]             201\n",
      "================================================================\n",
      "Total params: 707,901\n",
      "Trainable params: 707,901\n",
      "Non-trainable params: 0\n",
      "----------------------------------------------------------------\n",
      "Input size (MB): 0.00\n",
      "Forward/backward pass size (MB): 0.03\n",
      "Params size (MB): 2.70\n",
      "Estimated Total Size (MB): 2.73\n",
      "----------------------------------------------------------------\n"
     ]
    }
   ],
   "source": [
    "summary(model, (1,tensor_x.shape[1]))"
   ]
  },
  {
   "cell_type": "code",
   "execution_count": 46,
   "metadata": {
    "id": "irnPkz-DP5Ji"
   },
   "outputs": [],
   "source": [
    "criterion = nn.MSELoss(reduction='sum')\n",
    "\n",
    "learning_rate = 0.0001\n",
    "optimizer = torch.optim.SGD(model.parameters(), lr=learning_rate, momentum=0.8)"
   ]
  },
  {
   "cell_type": "markdown",
   "metadata": {
    "id": "nVRGbjHok2SR"
   },
   "source": [
    "#### Train the model"
   ]
  },
  {
   "cell_type": "code",
   "execution_count": 47,
   "metadata": {
    "colab": {
     "base_uri": "https://localhost:8080/"
    },
    "id": "yIiIq8Kek2SS",
    "outputId": "780a6639-986b-4c9f-9556-7978d8f45755"
   },
   "outputs": [
    {
     "name": "stdout",
     "output_type": "stream",
     "text": [
      "Epoch: 001/020 | Batch 000/1032 | Loss: 3.3514\n",
      "Epoch: 001/020 | Batch 1000/1032 | Loss: 1.2336\n",
      "Epoch: 001/020 Train Loss: 0.6749\n",
      "Time elapsed: 0.15 min\n",
      "Epoch: 002/020 | Batch 000/1032 | Loss: 0.4212\n",
      "Epoch: 002/020 | Batch 1000/1032 | Loss: 0.2696\n",
      "Epoch: 002/020 Train Loss: 0.4080\n",
      "Time elapsed: 0.31 min\n",
      "Epoch: 003/020 | Batch 000/1032 | Loss: 0.5459\n",
      "Epoch: 003/020 | Batch 1000/1032 | Loss: 0.2501\n",
      "Epoch: 003/020 Train Loss: 0.3490\n",
      "Time elapsed: 0.47 min\n",
      "Epoch: 004/020 | Batch 000/1032 | Loss: 0.2940\n",
      "Epoch: 004/020 | Batch 1000/1032 | Loss: 0.2054\n",
      "Epoch: 004/020 Train Loss: 0.3416\n",
      "Time elapsed: 0.64 min\n",
      "Epoch: 005/020 | Batch 000/1032 | Loss: 0.3223\n",
      "Epoch: 005/020 | Batch 1000/1032 | Loss: 0.1523\n",
      "Epoch: 005/020 Train Loss: 0.3294\n",
      "Time elapsed: 0.81 min\n",
      "Epoch: 006/020 | Batch 000/1032 | Loss: 0.5993\n",
      "Epoch: 006/020 | Batch 1000/1032 | Loss: 0.4206\n",
      "Epoch: 006/020 Train Loss: 0.3238\n",
      "Time elapsed: 0.98 min\n",
      "Epoch: 007/020 | Batch 000/1032 | Loss: 1.0208\n",
      "Epoch: 007/020 | Batch 1000/1032 | Loss: 0.3121\n",
      "Epoch: 007/020 Train Loss: 0.3191\n",
      "Time elapsed: 1.15 min\n",
      "Epoch: 008/020 | Batch 000/1032 | Loss: 0.1335\n",
      "Epoch: 008/020 | Batch 1000/1032 | Loss: 0.2133\n",
      "Epoch: 008/020 Train Loss: 0.3155\n",
      "Time elapsed: 1.32 min\n",
      "Epoch: 009/020 | Batch 000/1032 | Loss: 0.3807\n",
      "Epoch: 009/020 | Batch 1000/1032 | Loss: 0.2238\n",
      "Epoch: 009/020 Train Loss: 0.3140\n",
      "Time elapsed: 1.49 min\n",
      "Epoch: 010/020 | Batch 000/1032 | Loss: 0.0851\n",
      "Epoch: 010/020 | Batch 1000/1032 | Loss: 0.2868\n",
      "Epoch: 010/020 Train Loss: 0.3094\n",
      "Time elapsed: 1.67 min\n",
      "Epoch: 011/020 | Batch 000/1032 | Loss: 0.0859\n",
      "Epoch: 011/020 | Batch 1000/1032 | Loss: 0.3071\n",
      "Epoch: 011/020 Train Loss: 0.3044\n",
      "Time elapsed: 1.88 min\n",
      "Epoch: 012/020 | Batch 000/1032 | Loss: 0.5163\n",
      "Epoch: 012/020 | Batch 1000/1032 | Loss: 0.1101\n",
      "Epoch: 012/020 Train Loss: 0.3029\n",
      "Time elapsed: 2.06 min\n",
      "Epoch: 013/020 | Batch 000/1032 | Loss: 0.2242\n",
      "Epoch: 013/020 | Batch 1000/1032 | Loss: 0.5374\n",
      "Epoch: 013/020 Train Loss: 0.3001\n",
      "Time elapsed: 2.21 min\n",
      "Epoch: 014/020 | Batch 000/1032 | Loss: 0.3267\n",
      "Epoch: 014/020 | Batch 1000/1032 | Loss: 0.2404\n",
      "Epoch: 014/020 Train Loss: 0.2991\n",
      "Time elapsed: 2.37 min\n",
      "Epoch: 015/020 | Batch 000/1032 | Loss: 0.1541\n",
      "Epoch: 015/020 | Batch 1000/1032 | Loss: 0.1196\n",
      "Epoch: 015/020 Train Loss: 0.2958\n",
      "Time elapsed: 2.53 min\n",
      "Epoch: 016/020 | Batch 000/1032 | Loss: 0.0442\n",
      "Epoch: 016/020 | Batch 1000/1032 | Loss: 0.1558\n",
      "Epoch: 016/020 Train Loss: 0.2958\n",
      "Time elapsed: 2.69 min\n",
      "Epoch: 017/020 | Batch 000/1032 | Loss: 0.5530\n",
      "Epoch: 017/020 | Batch 1000/1032 | Loss: 0.0934\n",
      "Epoch: 017/020 Train Loss: 0.2999\n",
      "Time elapsed: 2.85 min\n",
      "Epoch: 018/020 | Batch 000/1032 | Loss: 0.5593\n",
      "Epoch: 018/020 | Batch 1000/1032 | Loss: 0.2672\n",
      "Epoch: 018/020 Train Loss: 0.2912\n",
      "Time elapsed: 3.01 min\n",
      "Epoch: 019/020 | Batch 000/1032 | Loss: 0.1544\n",
      "Epoch: 019/020 | Batch 1000/1032 | Loss: 0.2491\n",
      "Epoch: 019/020 Train Loss: 0.2896\n",
      "Time elapsed: 3.18 min\n",
      "Epoch: 020/020 | Batch 000/1032 | Loss: 0.1588\n",
      "Epoch: 020/020 | Batch 1000/1032 | Loss: 0.0840\n",
      "Epoch: 020/020 Train Loss: 0.2901\n",
      "Time elapsed: 3.34 min\n",
      "Total Training Time: 3.34 min\n",
      "Training Loss: 0.29\n",
      "Test Loss: 0.31\n"
     ]
    }
   ],
   "source": [
    "start_time = time.time()\n",
    "minibatch_cost = []\n",
    "epoch_cost = []\n",
    "for epoch in range(num_epochs):\n",
    "    model.train()\n",
    "    for batch_idx, (features, targets) in enumerate(train_loader):\n",
    "        \n",
    "        features = features.to(device)\n",
    "            \n",
    "        ### FORWARD AND BACK PROP\n",
    "        outputs = model(features)\n",
    "        \n",
    "        cost = criterion(outputs, targets)\n",
    "        optimizer.zero_grad()\n",
    "        \n",
    "        cost.backward()\n",
    "        minibatch_cost.append(cost)\n",
    "        ### UPDATE MODEL PARAMETERS\n",
    "        optimizer.step()\n",
    "        \n",
    "        ### LOGGING\n",
    "        if not batch_idx % 1000:\n",
    "            print ('Epoch: %03d/%03d | Batch %03d/%03d | Loss: %.4f' \n",
    "                   %(epoch+1, num_epochs, batch_idx, \n",
    "                     len(train_loader), cost))\n",
    "       \n",
    "    model.eval()\n",
    "    with torch.no_grad():\n",
    "        cost = compute_loss(model, train_loader)\n",
    "        epoch_cost.append(cost)\n",
    "        print('Epoch: %03d/%03d Train Loss: %.4f' % (\n",
    "                epoch+1, num_epochs, cost))\n",
    "        print('Time elapsed: %.2f min' % ((time.time() - start_time)/60))\n",
    "\n",
    "        \n",
    "model.eval()\n",
    "with torch.no_grad():\n",
    "    print('Total Training Time: %.2f min' % ((time.time() - start_time)/60))\n",
    "\n",
    "    print('Training Loss: %.2f' % compute_loss(model, train_loader))\n",
    "    print('Test Loss: %.2f' % compute_loss(model, test_loader))"
   ]
  },
  {
   "cell_type": "code",
   "execution_count": 48,
   "metadata": {
    "colab": {
     "base_uri": "https://localhost:8080/",
     "height": 350
    },
    "id": "6-k1FlbuV7h0",
    "outputId": "2d7af77d-5abb-4cce-fbaa-84722540dfac"
   },
   "outputs": [
    {
     "data": {
      "image/png": "[encoded data removed]",
      "text/plain": [
       "<Figure size 576x360 with 1 Axes>"
      ]
     },
     "metadata": {
      "needs_background": "light"
     },
     "output_type": "display_data"
    }
   ],
   "source": [
    "#Plot the loss curve\n",
    "\n",
    "plt.figure(figsize=(8,5))\n",
    "plt.plot(range(len(epoch_cost)), epoch_cost)\n",
    "plt.xlabel(\"Epoch\")\n",
    "plt.ylabel(\"Cross entropy loss\")\n",
    "plt.title(\"Loss of training\")\n",
    "plt.show()"
   ]
  },
  {
   "cell_type": "markdown",
   "metadata": {
    "id": "Dn5NcDKsO9oQ"
   },
   "source": [
    "## 3. SGD Nesterov"
   ]
  },
  {
   "cell_type": "markdown",
   "metadata": {
    "id": "N1RZUje2t222"
   },
   "source": [
    "### Model B: 3 Hidden Layers Feedforward Neural Network (ReLU activation)"
   ]
  },
  {
   "cell_type": "markdown",
   "metadata": {
    "id": "X0gtcPcPt222"
   },
   "source": [
    "### Create model class"
   ]
  },
  {
   "cell_type": "code",
   "execution_count": 49,
   "metadata": {
    "colab": {
     "base_uri": "https://localhost:8080/"
    },
    "id": "AUE2mWf4Q0nb",
    "outputId": "0ba1f258-0e69-42ff-a6a1-b51a0db12245"
   },
   "outputs": [
    {
     "name": "stdout",
     "output_type": "stream",
     "text": [
      "20\n"
     ]
    }
   ],
   "source": [
    "batch_size = 16\n",
    "n_iters = 21000\n",
    "num_epochs = n_iters / (len(train_data) / batch_size)\n",
    "num_epochs = int(num_epochs)\n",
    "print(num_epochs)"
   ]
  },
  {
   "cell_type": "code",
   "execution_count": 50,
   "metadata": {
    "id": "1qlG9zPXQ0nv"
   },
   "outputs": [],
   "source": [
    "train_loader = DataLoader(train_dataset, batch_size=batch_size, shuffle=True) # create your dataloader\n",
    "\n",
    "test_loader = DataLoader(test_dataset, batch_size=batch_size,  shuffle=False)"
   ]
  },
  {
   "cell_type": "code",
   "execution_count": 51,
   "metadata": {
    "id": "pHP-6Gbrt223"
   },
   "outputs": [],
   "source": [
    "class FNN(nn.Module):\n",
    "    def __init__(self, input_dim, hidden_dim1,hidden_dim2,hidden_dim3, output_dim):\n",
    "        super(FNN, self).__init__()\n",
    "        self.linear1 = nn.Linear(input_dim, hidden_dim1)\n",
    "        self.relu1 = nn.ReLU()\n",
    "        self.linear2 = nn.Linear(hidden_dim1, hidden_dim2)\n",
    "        self.dropout1 = nn.Dropout(0.35)\n",
    "        self.relu2 = nn.ReLU()\n",
    "        self.linear3 = nn.Linear(hidden_dim2, hidden_dim3)\n",
    "        self.relu3 = nn.ReLU()\n",
    "        self.linear4 = nn.Linear(hidden_dim3, output_dim)\n",
    "        \n",
    "    def forward(self, x):\n",
    "        out = self.linear1(x)\n",
    "        out = self.relu1(out)\n",
    "        out = self.linear2(out)\n",
    "        out = self.dropout1(out)\n",
    "        out = self.relu2(out)\n",
    "        out = self.linear3(out)\n",
    "        out = self.relu3(out)\n",
    "        out = self.linear4(out)\n",
    "        return out"
   ]
  },
  {
   "cell_type": "code",
   "execution_count": 52,
   "metadata": {
    "id": "hW1TdbRVt225"
   },
   "outputs": [],
   "source": [
    "input_dim = tensor_x.shape[1]\n",
    "output_dim = 1\n",
    "hidden_dim1 = 500\n",
    "hidden_dim2 = 1000\n",
    "hidden_dim3 = 200"
   ]
  },
  {
   "cell_type": "code",
   "execution_count": 53,
   "metadata": {
    "id": "3xR4dZyut227"
   },
   "outputs": [],
   "source": [
    "model = FNN(input_dim, hidden_dim1,hidden_dim2,hidden_dim3, output_dim)\n",
    "\n",
    "#######################\n",
    "#  USE GPU FOR MODEL  #\n",
    "#######################\n",
    "if torch.cuda.is_available():\n",
    "    model.cuda()\n"
   ]
  },
  {
   "cell_type": "code",
   "execution_count": 54,
   "metadata": {
    "colab": {
     "base_uri": "https://localhost:8080/"
    },
    "id": "yZTOUPrkP5JX",
    "outputId": "5622f46a-f26c-4500-8388-e35ca4a2e6b1"
   },
   "outputs": [
    {
     "name": "stdout",
     "output_type": "stream",
     "text": [
      "----------------------------------------------------------------\n",
      "        Layer (type)               Output Shape         Param #\n",
      "================================================================\n",
      "            Linear-1               [-1, 1, 500]           6,500\n",
      "              ReLU-2               [-1, 1, 500]               0\n",
      "            Linear-3              [-1, 1, 1000]         501,000\n",
      "           Dropout-4              [-1, 1, 1000]               0\n",
      "              ReLU-5              [-1, 1, 1000]               0\n",
      "            Linear-6               [-1, 1, 200]         200,200\n",
      "              ReLU-7               [-1, 1, 200]               0\n",
      "            Linear-8                 [-1, 1, 1]             201\n",
      "================================================================\n",
      "Total params: 707,901\n",
      "Trainable params: 707,901\n",
      "Non-trainable params: 0\n",
      "----------------------------------------------------------------\n",
      "Input size (MB): 0.00\n",
      "Forward/backward pass size (MB): 0.03\n",
      "Params size (MB): 2.70\n",
      "Estimated Total Size (MB): 2.73\n",
      "----------------------------------------------------------------\n"
     ]
    }
   ],
   "source": [
    "summary(model, (1,tensor_x.shape[1]))"
   ]
  },
  {
   "cell_type": "code",
   "execution_count": 55,
   "metadata": {
    "id": "irnPkz-DP5Ji"
   },
   "outputs": [],
   "source": [
    "criterion = nn.MSELoss(reduction='sum')\n",
    "\n",
    "learning_rate = 0.0001\n",
    "optimizer = torch.optim.SGD(model.parameters(), lr=learning_rate, momentum=0.7, nesterov=True)"
   ]
  },
  {
   "cell_type": "markdown",
   "metadata": {
    "id": "nVRGbjHok2SR"
   },
   "source": [
    "#### Train the model"
   ]
  },
  {
   "cell_type": "code",
   "execution_count": 56,
   "metadata": {
    "colab": {
     "base_uri": "https://localhost:8080/"
    },
    "id": "yIiIq8Kek2SS",
    "outputId": "780a6639-986b-4c9f-9556-7978d8f45755"
   },
   "outputs": [
    {
     "name": "stdout",
     "output_type": "stream",
     "text": [
      "Epoch: 001/020 | Batch 000/1032 | Loss: 2.8984\n",
      "Epoch: 001/020 | Batch 1000/1032 | Loss: 0.2925\n",
      "Epoch: 001/020 Train Loss: 0.7641\n",
      "Time elapsed: 0.19 min\n",
      "Epoch: 002/020 | Batch 000/1032 | Loss: 0.6939\n",
      "Epoch: 002/020 | Batch 1000/1032 | Loss: 0.8079\n",
      "Epoch: 002/020 Train Loss: 0.5912\n",
      "Time elapsed: 0.42 min\n",
      "Epoch: 003/020 | Batch 000/1032 | Loss: 0.5546\n",
      "Epoch: 003/020 | Batch 1000/1032 | Loss: 0.4145\n",
      "Epoch: 003/020 Train Loss: 0.4304\n",
      "Time elapsed: 0.67 min\n",
      "Epoch: 004/020 | Batch 000/1032 | Loss: 0.6051\n",
      "Epoch: 004/020 | Batch 1000/1032 | Loss: 0.2426\n",
      "Epoch: 004/020 Train Loss: 0.3626\n",
      "Time elapsed: 0.92 min\n",
      "Epoch: 005/020 | Batch 000/1032 | Loss: 0.3949\n",
      "Epoch: 005/020 | Batch 1000/1032 | Loss: 0.1462\n",
      "Epoch: 005/020 Train Loss: 0.3453\n",
      "Time elapsed: 1.16 min\n",
      "Epoch: 006/020 | Batch 000/1032 | Loss: 0.2308\n",
      "Epoch: 006/020 | Batch 1000/1032 | Loss: 0.1099\n",
      "Epoch: 006/020 Train Loss: 0.3390\n",
      "Time elapsed: 1.43 min\n",
      "Epoch: 007/020 | Batch 000/1032 | Loss: 0.1840\n",
      "Epoch: 007/020 | Batch 1000/1032 | Loss: 0.0915\n",
      "Epoch: 007/020 Train Loss: 0.3346\n",
      "Time elapsed: 1.69 min\n",
      "Epoch: 008/020 | Batch 000/1032 | Loss: 0.4158\n",
      "Epoch: 008/020 | Batch 1000/1032 | Loss: 0.4931\n",
      "Epoch: 008/020 Train Loss: 0.3329\n",
      "Time elapsed: 1.97 min\n",
      "Epoch: 009/020 | Batch 000/1032 | Loss: 0.4147\n",
      "Epoch: 009/020 | Batch 1000/1032 | Loss: 0.8188\n",
      "Epoch: 009/020 Train Loss: 0.3237\n",
      "Time elapsed: 2.23 min\n",
      "Epoch: 010/020 | Batch 000/1032 | Loss: 0.2249\n",
      "Epoch: 010/020 | Batch 1000/1032 | Loss: 0.1401\n",
      "Epoch: 010/020 Train Loss: 0.3203\n",
      "Time elapsed: 2.48 min\n",
      "Epoch: 011/020 | Batch 000/1032 | Loss: 0.3411\n",
      "Epoch: 011/020 | Batch 1000/1032 | Loss: 0.3080\n",
      "Epoch: 011/020 Train Loss: 0.3177\n",
      "Time elapsed: 2.69 min\n",
      "Epoch: 012/020 | Batch 000/1032 | Loss: 0.2533\n",
      "Epoch: 012/020 | Batch 1000/1032 | Loss: 0.2223\n",
      "Epoch: 012/020 Train Loss: 0.3162\n",
      "Time elapsed: 2.93 min\n",
      "Epoch: 013/020 | Batch 000/1032 | Loss: 0.4494\n",
      "Epoch: 013/020 | Batch 1000/1032 | Loss: 0.7056\n",
      "Epoch: 013/020 Train Loss: 0.3143\n",
      "Time elapsed: 3.19 min\n",
      "Epoch: 014/020 | Batch 000/1032 | Loss: 0.4527\n",
      "Epoch: 014/020 | Batch 1000/1032 | Loss: 0.4171\n",
      "Epoch: 014/020 Train Loss: 0.3123\n",
      "Time elapsed: 3.46 min\n",
      "Epoch: 015/020 | Batch 000/1032 | Loss: 0.2008\n",
      "Epoch: 015/020 | Batch 1000/1032 | Loss: 0.1083\n",
      "Epoch: 015/020 Train Loss: 0.3085\n",
      "Time elapsed: 3.75 min\n",
      "Epoch: 016/020 | Batch 000/1032 | Loss: 0.5737\n",
      "Epoch: 016/020 | Batch 1000/1032 | Loss: 0.3199\n",
      "Epoch: 016/020 Train Loss: 0.3051\n",
      "Time elapsed: 3.99 min\n",
      "Epoch: 017/020 | Batch 000/1032 | Loss: 0.5246\n",
      "Epoch: 017/020 | Batch 1000/1032 | Loss: 0.1804\n",
      "Epoch: 017/020 Train Loss: 0.3059\n",
      "Time elapsed: 4.22 min\n",
      "Epoch: 018/020 | Batch 000/1032 | Loss: 0.1455\n",
      "Epoch: 018/020 | Batch 1000/1032 | Loss: 0.1169\n",
      "Epoch: 018/020 Train Loss: 0.3018\n",
      "Time elapsed: 4.48 min\n",
      "Epoch: 019/020 | Batch 000/1032 | Loss: 0.1799\n",
      "Epoch: 019/020 | Batch 1000/1032 | Loss: 0.3504\n",
      "Epoch: 019/020 Train Loss: 0.3003\n",
      "Time elapsed: 4.73 min\n",
      "Epoch: 020/020 | Batch 000/1032 | Loss: 0.2772\n",
      "Epoch: 020/020 | Batch 1000/1032 | Loss: 0.1306\n",
      "Epoch: 020/020 Train Loss: 0.2987\n",
      "Time elapsed: 4.97 min\n",
      "Total Training Time: 4.97 min\n",
      "Training Loss: 0.30\n",
      "Test Loss: 0.31\n"
     ]
    }
   ],
   "source": [
    "start_time = time.time()\n",
    "minibatch_cost = []\n",
    "epoch_cost = []\n",
    "for epoch in range(num_epochs):\n",
    "    model.train()\n",
    "    for batch_idx, (features, targets) in enumerate(train_loader):\n",
    "        \n",
    "        features = features.to(device)\n",
    "            \n",
    "        ### FORWARD AND BACK PROP\n",
    "        outputs = model(features)\n",
    "        \n",
    "        cost = criterion(outputs, targets)\n",
    "        optimizer.zero_grad()\n",
    "        \n",
    "        cost.backward()\n",
    "        minibatch_cost.append(cost)\n",
    "        ### UPDATE MODEL PARAMETERS\n",
    "        optimizer.step()\n",
    "        \n",
    "        ### LOGGING\n",
    "        if not batch_idx % 1000:\n",
    "            print ('Epoch: %03d/%03d | Batch %03d/%03d | Loss: %.4f' \n",
    "                   %(epoch+1, num_epochs, batch_idx, \n",
    "                     len(train_loader), cost))\n",
    "       \n",
    "    model.eval()\n",
    "    with torch.no_grad():\n",
    "        cost = compute_loss(model, train_loader)\n",
    "        epoch_cost.append(cost)\n",
    "        print('Epoch: %03d/%03d Train Loss: %.4f' % (\n",
    "                epoch+1, num_epochs, cost))\n",
    "        print('Time elapsed: %.2f min' % ((time.time() - start_time)/60))\n",
    "\n",
    "        \n",
    "model.eval()\n",
    "with torch.no_grad():\n",
    "    print('Total Training Time: %.2f min' % ((time.time() - start_time)/60))\n",
    "\n",
    "    print('Training Loss: %.2f' % compute_loss(model, train_loader))\n",
    "    print('Test Loss: %.2f' % compute_loss(model, test_loader))"
   ]
  },
  {
   "cell_type": "code",
   "execution_count": 57,
   "metadata": {
    "colab": {
     "base_uri": "https://localhost:8080/",
     "height": 350
    },
    "id": "6-k1FlbuV7h0",
    "outputId": "2d7af77d-5abb-4cce-fbaa-84722540dfac"
   },
   "outputs": [
    {
     "data": {
      "image/png": "[encoded data removed]",
      "text/plain": [
       "<Figure size 576x360 with 1 Axes>"
      ]
     },
     "metadata": {
      "needs_background": "light"
     },
     "output_type": "display_data"
    }
   ],
   "source": [
    "#Plot the loss curve\n",
    "\n",
    "plt.figure(figsize=(8,5))\n",
    "plt.plot(range(len(epoch_cost)), epoch_cost)\n",
    "plt.xlabel(\"Epoch\")\n",
    "plt.ylabel(\"Cross entropy loss\")\n",
    "plt.title(\"Loss of training\")\n",
    "plt.show()"
   ]
  },
  {
   "cell_type": "markdown",
   "metadata": {
    "id": "jbF138UBO9oU"
   },
   "source": [
    "## 4. Adam"
   ]
  },
  {
   "cell_type": "markdown",
   "metadata": {
    "id": "N1RZUje2t222"
   },
   "source": [
    "### Model B: 3 Hidden Layers Feedforward Neural Network (ReLU activation)"
   ]
  },
  {
   "cell_type": "markdown",
   "metadata": {
    "id": "X0gtcPcPt222"
   },
   "source": [
    "### Create model class"
   ]
  },
  {
   "cell_type": "code",
   "execution_count": 58,
   "metadata": {
    "colab": {
     "base_uri": "https://localhost:8080/"
    },
    "id": "AUE2mWf4Q0nb",
    "outputId": "0ba1f258-0e69-42ff-a6a1-b51a0db12245"
   },
   "outputs": [
    {
     "name": "stdout",
     "output_type": "stream",
     "text": [
      "20\n"
     ]
    }
   ],
   "source": [
    "batch_size = 16\n",
    "n_iters = 21000\n",
    "num_epochs = n_iters / (len(train_data) / batch_size)\n",
    "num_epochs = int(num_epochs)\n",
    "print(num_epochs)"
   ]
  },
  {
   "cell_type": "code",
   "execution_count": 59,
   "metadata": {
    "id": "1qlG9zPXQ0nv"
   },
   "outputs": [],
   "source": [
    "train_loader = DataLoader(train_dataset, batch_size=batch_size, shuffle=True) # create your dataloader\n",
    "\n",
    "test_loader = DataLoader(test_dataset, batch_size=batch_size,  shuffle=False)"
   ]
  },
  {
   "cell_type": "code",
   "execution_count": 60,
   "metadata": {
    "id": "pHP-6Gbrt223"
   },
   "outputs": [],
   "source": [
    "class FNN(nn.Module):\n",
    "    def __init__(self, input_dim, hidden_dim1,hidden_dim2,hidden_dim3, output_dim):\n",
    "        super(FNN, self).__init__()\n",
    "        self.linear1 = nn.Linear(input_dim, hidden_dim1)\n",
    "        self.relu1 = nn.ReLU()\n",
    "        self.linear2 = nn.Linear(hidden_dim1, hidden_dim2)\n",
    "        self.dropout1 = nn.Dropout(0.35)\n",
    "        self.relu2 = nn.ReLU()\n",
    "        self.linear3 = nn.Linear(hidden_dim2, hidden_dim3)\n",
    "        self.relu3 = nn.ReLU()\n",
    "        self.linear4 = nn.Linear(hidden_dim3, output_dim)\n",
    "        \n",
    "    def forward(self, x):\n",
    "        out = self.linear1(x)\n",
    "        out = self.relu1(out)\n",
    "        out = self.linear2(out)\n",
    "        out = self.dropout1(out)\n",
    "        out = self.relu2(out)\n",
    "        out = self.linear3(out)\n",
    "        out = self.relu3(out)\n",
    "        out = self.linear4(out)\n",
    "        return out"
   ]
  },
  {
   "cell_type": "code",
   "execution_count": 61,
   "metadata": {
    "id": "hW1TdbRVt225"
   },
   "outputs": [],
   "source": [
    "input_dim = tensor_x.shape[1]\n",
    "output_dim = 1\n",
    "hidden_dim1 = 500\n",
    "hidden_dim2 = 1000\n",
    "hidden_dim3 = 200"
   ]
  },
  {
   "cell_type": "code",
   "execution_count": 62,
   "metadata": {
    "id": "3xR4dZyut227"
   },
   "outputs": [],
   "source": [
    "model = FNN(input_dim, hidden_dim1,hidden_dim2,hidden_dim3, output_dim)\n",
    "\n",
    "#######################\n",
    "#  USE GPU FOR MODEL  #\n",
    "#######################\n",
    "if torch.cuda.is_available():\n",
    "    model.cuda()\n"
   ]
  },
  {
   "cell_type": "code",
   "execution_count": 63,
   "metadata": {
    "colab": {
     "base_uri": "https://localhost:8080/"
    },
    "id": "yZTOUPrkP5JX",
    "outputId": "5622f46a-f26c-4500-8388-e35ca4a2e6b1"
   },
   "outputs": [
    {
     "name": "stdout",
     "output_type": "stream",
     "text": [
      "----------------------------------------------------------------\n",
      "        Layer (type)               Output Shape         Param #\n",
      "================================================================\n",
      "            Linear-1               [-1, 1, 500]           6,500\n",
      "              ReLU-2               [-1, 1, 500]               0\n",
      "            Linear-3              [-1, 1, 1000]         501,000\n",
      "           Dropout-4              [-1, 1, 1000]               0\n",
      "              ReLU-5              [-1, 1, 1000]               0\n",
      "            Linear-6               [-1, 1, 200]         200,200\n",
      "              ReLU-7               [-1, 1, 200]               0\n",
      "            Linear-8                 [-1, 1, 1]             201\n",
      "================================================================\n",
      "Total params: 707,901\n",
      "Trainable params: 707,901\n",
      "Non-trainable params: 0\n",
      "----------------------------------------------------------------\n",
      "Input size (MB): 0.00\n",
      "Forward/backward pass size (MB): 0.03\n",
      "Params size (MB): 2.70\n",
      "Estimated Total Size (MB): 2.73\n",
      "----------------------------------------------------------------\n"
     ]
    }
   ],
   "source": [
    "summary(model, (1,tensor_x.shape[1]))"
   ]
  },
  {
   "cell_type": "code",
   "execution_count": 64,
   "metadata": {
    "id": "irnPkz-DP5Ji"
   },
   "outputs": [],
   "source": [
    "criterion = nn.MSELoss(reduction='sum')\n",
    "\n",
    "learning_rate = 0.0001\n",
    "optimizer = torch.optim.Adam(model.parameters(), lr=learning_rate)"
   ]
  },
  {
   "cell_type": "markdown",
   "metadata": {
    "id": "nVRGbjHok2SR"
   },
   "source": [
    "#### Train the model"
   ]
  },
  {
   "cell_type": "code",
   "execution_count": 65,
   "metadata": {
    "colab": {
     "base_uri": "https://localhost:8080/"
    },
    "id": "yIiIq8Kek2SS",
    "outputId": "780a6639-986b-4c9f-9556-7978d8f45755"
   },
   "outputs": [
    {
     "name": "stdout",
     "output_type": "stream",
     "text": [
      "Epoch: 001/020 | Batch 000/1032 | Loss: 4.6069\n",
      "Epoch: 001/020 | Batch 1000/1032 | Loss: 0.0770\n",
      "Epoch: 001/020 Train Loss: 0.3160\n",
      "Time elapsed: 0.27 min\n",
      "Epoch: 002/020 | Batch 000/1032 | Loss: 0.1132\n",
      "Epoch: 002/020 | Batch 1000/1032 | Loss: 0.3955\n",
      "Epoch: 002/020 Train Loss: 0.2976\n",
      "Time elapsed: 0.58 min\n",
      "Epoch: 003/020 | Batch 000/1032 | Loss: 0.4828\n",
      "Epoch: 003/020 | Batch 1000/1032 | Loss: 0.2019\n",
      "Epoch: 003/020 Train Loss: 0.2691\n",
      "Time elapsed: 0.91 min\n",
      "Epoch: 004/020 | Batch 000/1032 | Loss: 0.3740\n",
      "Epoch: 004/020 | Batch 1000/1032 | Loss: 0.2678\n",
      "Epoch: 004/020 Train Loss: 0.2813\n",
      "Time elapsed: 1.25 min\n",
      "Epoch: 005/020 | Batch 000/1032 | Loss: 0.2356\n",
      "Epoch: 005/020 | Batch 1000/1032 | Loss: 0.0635\n",
      "Epoch: 005/020 Train Loss: 0.2606\n",
      "Time elapsed: 1.61 min\n",
      "Epoch: 006/020 | Batch 000/1032 | Loss: 0.7365\n",
      "Epoch: 006/020 | Batch 1000/1032 | Loss: 0.3318\n",
      "Epoch: 006/020 Train Loss: 0.2443\n",
      "Time elapsed: 1.98 min\n",
      "Epoch: 007/020 | Batch 000/1032 | Loss: 0.6334\n",
      "Epoch: 007/020 | Batch 1000/1032 | Loss: 0.3321\n",
      "Epoch: 007/020 Train Loss: 0.2578\n",
      "Time elapsed: 2.36 min\n",
      "Epoch: 008/020 | Batch 000/1032 | Loss: 0.2123\n",
      "Epoch: 008/020 | Batch 1000/1032 | Loss: 0.2129\n",
      "Epoch: 008/020 Train Loss: 0.2379\n",
      "Time elapsed: 2.74 min\n",
      "Epoch: 009/020 | Batch 000/1032 | Loss: 0.1563\n",
      "Epoch: 009/020 | Batch 1000/1032 | Loss: 0.4032\n",
      "Epoch: 009/020 Train Loss: 0.2358\n",
      "Time elapsed: 3.11 min\n",
      "Epoch: 010/020 | Batch 000/1032 | Loss: 0.5797\n",
      "Epoch: 010/020 | Batch 1000/1032 | Loss: 0.1251\n",
      "Epoch: 010/020 Train Loss: 0.2296\n",
      "Time elapsed: 3.47 min\n",
      "Epoch: 011/020 | Batch 000/1032 | Loss: 0.1966\n",
      "Epoch: 011/020 | Batch 1000/1032 | Loss: 0.1824\n",
      "Epoch: 011/020 Train Loss: 0.2354\n",
      "Time elapsed: 3.83 min\n",
      "Epoch: 012/020 | Batch 000/1032 | Loss: 0.2999\n",
      "Epoch: 012/020 | Batch 1000/1032 | Loss: 0.2806\n",
      "Epoch: 012/020 Train Loss: 0.2245\n",
      "Time elapsed: 4.21 min\n",
      "Epoch: 013/020 | Batch 000/1032 | Loss: 0.0718\n",
      "Epoch: 013/020 | Batch 1000/1032 | Loss: 0.1085\n",
      "Epoch: 013/020 Train Loss: 0.2274\n",
      "Time elapsed: 4.61 min\n",
      "Epoch: 014/020 | Batch 000/1032 | Loss: 0.1954\n",
      "Epoch: 014/020 | Batch 1000/1032 | Loss: 0.1944\n",
      "Epoch: 014/020 Train Loss: 0.2288\n",
      "Time elapsed: 4.99 min\n",
      "Epoch: 015/020 | Batch 000/1032 | Loss: 0.0565\n",
      "Epoch: 015/020 | Batch 1000/1032 | Loss: 0.3582\n",
      "Epoch: 015/020 Train Loss: 0.2289\n",
      "Time elapsed: 5.37 min\n",
      "Epoch: 016/020 | Batch 000/1032 | Loss: 0.1431\n",
      "Epoch: 016/020 | Batch 1000/1032 | Loss: 0.1569\n",
      "Epoch: 016/020 Train Loss: 0.2180\n",
      "Time elapsed: 5.74 min\n",
      "Epoch: 017/020 | Batch 000/1032 | Loss: 0.1579\n",
      "Epoch: 017/020 | Batch 1000/1032 | Loss: 0.2172\n",
      "Epoch: 017/020 Train Loss: 0.2587\n",
      "Time elapsed: 6.08 min\n",
      "Epoch: 018/020 | Batch 000/1032 | Loss: 0.2786\n",
      "Epoch: 018/020 | Batch 1000/1032 | Loss: 0.1750\n",
      "Epoch: 018/020 Train Loss: 0.2239\n",
      "Time elapsed: 6.47 min\n",
      "Epoch: 019/020 | Batch 000/1032 | Loss: 0.1246\n",
      "Epoch: 019/020 | Batch 1000/1032 | Loss: 0.0310\n",
      "Epoch: 019/020 Train Loss: 0.2179\n",
      "Time elapsed: 6.85 min\n",
      "Epoch: 020/020 | Batch 000/1032 | Loss: 0.2621\n",
      "Epoch: 020/020 | Batch 1000/1032 | Loss: 0.2020\n",
      "Epoch: 020/020 Train Loss: 0.2157\n",
      "Time elapsed: 7.20 min\n",
      "Total Training Time: 7.20 min\n",
      "Training Loss: 0.22\n",
      "Test Loss: 0.26\n"
     ]
    }
   ],
   "source": [
    "start_time = time.time()\n",
    "minibatch_cost = []\n",
    "epoch_cost = []\n",
    "for epoch in range(num_epochs):\n",
    "    model.train()\n",
    "    for batch_idx, (features, targets) in enumerate(train_loader):\n",
    "        \n",
    "        features = features.to(device)\n",
    "            \n",
    "        ### FORWARD AND BACK PROP\n",
    "        outputs = model(features)\n",
    "        \n",
    "        cost = criterion(outputs, targets)\n",
    "        optimizer.zero_grad()\n",
    "        \n",
    "        cost.backward()\n",
    "        minibatch_cost.append(cost)\n",
    "        ### UPDATE MODEL PARAMETERS\n",
    "        optimizer.step()\n",
    "        \n",
    "        ### LOGGING\n",
    "        if not batch_idx % 1000:\n",
    "            print ('Epoch: %03d/%03d | Batch %03d/%03d | Loss: %.4f' \n",
    "                   %(epoch+1, num_epochs, batch_idx, \n",
    "                     len(train_loader), cost))\n",
    "       \n",
    "    model.eval()\n",
    "    with torch.no_grad():\n",
    "        cost = compute_loss(model, train_loader)\n",
    "        epoch_cost.append(cost)\n",
    "        print('Epoch: %03d/%03d Train Loss: %.4f' % (\n",
    "                epoch+1, num_epochs, cost))\n",
    "        print('Time elapsed: %.2f min' % ((time.time() - start_time)/60))\n",
    "\n",
    "        \n",
    "model.eval()\n",
    "with torch.no_grad():\n",
    "    print('Total Training Time: %.2f min' % ((time.time() - start_time)/60))\n",
    "\n",
    "    print('Training Loss: %.2f' % compute_loss(model, train_loader))\n",
    "    print('Test Loss: %.2f' % compute_loss(model, test_loader))"
   ]
  },
  {
   "cell_type": "code",
   "execution_count": 66,
   "metadata": {
    "colab": {
     "base_uri": "https://localhost:8080/",
     "height": 350
    },
    "id": "6-k1FlbuV7h0",
    "outputId": "2d7af77d-5abb-4cce-fbaa-84722540dfac"
   },
   "outputs": [
    {
     "data": {
      "image/png": "[encoded data removed]",
      "text/plain": [
       "<Figure size 576x360 with 1 Axes>"
      ]
     },
     "metadata": {
      "needs_background": "light"
     },
     "output_type": "display_data"
    }
   ],
   "source": [
    "#Plot the loss curve\n",
    "\n",
    "plt.figure(figsize=(8,5))\n",
    "plt.plot(range(len(epoch_cost)), epoch_cost)\n",
    "plt.xlabel(\"Epoch\")\n",
    "plt.ylabel(\"Cross entropy loss\")\n",
    "plt.title(\"Loss of training\")\n",
    "plt.show()"
   ]
  },
  {
   "cell_type": "markdown",
   "metadata": {
    "id": "JrEfo7CmO9oW"
   },
   "source": [
    "## 5. Adagrad"
   ]
  },
  {
   "cell_type": "markdown",
   "metadata": {
    "id": "N1RZUje2t222"
   },
   "source": [
    "### Model B: 3 Hidden Layers Feedforward Neural Network (ReLU activation)"
   ]
  },
  {
   "cell_type": "markdown",
   "metadata": {
    "id": "X0gtcPcPt222"
   },
   "source": [
    "### Create model class"
   ]
  },
  {
   "cell_type": "code",
   "execution_count": 67,
   "metadata": {
    "colab": {
     "base_uri": "https://localhost:8080/"
    },
    "id": "AUE2mWf4Q0nb",
    "outputId": "0ba1f258-0e69-42ff-a6a1-b51a0db12245"
   },
   "outputs": [
    {
     "name": "stdout",
     "output_type": "stream",
     "text": [
      "20\n"
     ]
    }
   ],
   "source": [
    "batch_size = 16\n",
    "n_iters = 21000\n",
    "num_epochs = n_iters / (len(train_data) / batch_size)\n",
    "num_epochs = int(num_epochs)\n",
    "print(num_epochs)"
   ]
  },
  {
   "cell_type": "code",
   "execution_count": 68,
   "metadata": {
    "id": "1qlG9zPXQ0nv"
   },
   "outputs": [],
   "source": [
    "train_loader = DataLoader(train_dataset, batch_size=batch_size, shuffle=True) # create your dataloader\n",
    "\n",
    "test_loader = DataLoader(test_dataset, batch_size=batch_size,  shuffle=False)"
   ]
  },
  {
   "cell_type": "code",
   "execution_count": 69,
   "metadata": {
    "id": "pHP-6Gbrt223"
   },
   "outputs": [],
   "source": [
    "class FNN(nn.Module):\n",
    "    def __init__(self, input_dim, hidden_dim1,hidden_dim2,hidden_dim3, output_dim):\n",
    "        super(FNN, self).__init__()\n",
    "        self.linear1 = nn.Linear(input_dim, hidden_dim1)\n",
    "        self.relu1 = nn.ReLU()\n",
    "        self.linear2 = nn.Linear(hidden_dim1, hidden_dim2)\n",
    "        self.dropout1 = nn.Dropout(0.35)\n",
    "        self.relu2 = nn.ReLU()\n",
    "        self.linear3 = nn.Linear(hidden_dim2, hidden_dim3)\n",
    "        self.relu3 = nn.ReLU()\n",
    "        self.linear4 = nn.Linear(hidden_dim3, output_dim)\n",
    "        \n",
    "    def forward(self, x):\n",
    "        out = self.linear1(x)\n",
    "        out = self.relu1(out)\n",
    "        out = self.linear2(out)\n",
    "        out = self.dropout1(out)\n",
    "        out = self.relu2(out)\n",
    "        out = self.linear3(out)\n",
    "        out = self.relu3(out)\n",
    "        out = self.linear4(out)\n",
    "        return out"
   ]
  },
  {
   "cell_type": "code",
   "execution_count": 70,
   "metadata": {
    "id": "hW1TdbRVt225"
   },
   "outputs": [],
   "source": [
    "input_dim = tensor_x.shape[1]\n",
    "output_dim = 1\n",
    "hidden_dim1 = 500\n",
    "hidden_dim2 = 1000\n",
    "hidden_dim3 = 200"
   ]
  },
  {
   "cell_type": "code",
   "execution_count": 71,
   "metadata": {
    "id": "3xR4dZyut227"
   },
   "outputs": [],
   "source": [
    "model = FNN(input_dim, hidden_dim1,hidden_dim2,hidden_dim3, output_dim)\n",
    "\n",
    "#######################\n",
    "#  USE GPU FOR MODEL  #\n",
    "#######################\n",
    "if torch.cuda.is_available():\n",
    "    model.cuda()\n"
   ]
  },
  {
   "cell_type": "code",
   "execution_count": 72,
   "metadata": {
    "colab": {
     "base_uri": "https://localhost:8080/"
    },
    "id": "yZTOUPrkP5JX",
    "outputId": "5622f46a-f26c-4500-8388-e35ca4a2e6b1"
   },
   "outputs": [
    {
     "name": "stdout",
     "output_type": "stream",
     "text": [
      "----------------------------------------------------------------\n",
      "        Layer (type)               Output Shape         Param #\n",
      "================================================================\n",
      "            Linear-1               [-1, 1, 500]           6,500\n",
      "              ReLU-2               [-1, 1, 500]               0\n",
      "            Linear-3              [-1, 1, 1000]         501,000\n",
      "           Dropout-4              [-1, 1, 1000]               0\n",
      "              ReLU-5              [-1, 1, 1000]               0\n",
      "            Linear-6               [-1, 1, 200]         200,200\n",
      "              ReLU-7               [-1, 1, 200]               0\n",
      "            Linear-8                 [-1, 1, 1]             201\n",
      "================================================================\n",
      "Total params: 707,901\n",
      "Trainable params: 707,901\n",
      "Non-trainable params: 0\n",
      "----------------------------------------------------------------\n",
      "Input size (MB): 0.00\n",
      "Forward/backward pass size (MB): 0.03\n",
      "Params size (MB): 2.70\n",
      "Estimated Total Size (MB): 2.73\n",
      "----------------------------------------------------------------\n"
     ]
    }
   ],
   "source": [
    "summary(model, (1,tensor_x.shape[1]))"
   ]
  },
  {
   "cell_type": "code",
   "execution_count": 73,
   "metadata": {
    "id": "irnPkz-DP5Ji"
   },
   "outputs": [],
   "source": [
    "criterion = nn.MSELoss(reduction='sum')\n",
    "\n",
    "learning_rate = 0.0001\n",
    "optimizer = torch.optim.Adagrad(model.parameters(), lr=learning_rate)"
   ]
  },
  {
   "cell_type": "markdown",
   "metadata": {
    "id": "nVRGbjHok2SR"
   },
   "source": [
    "#### Train the model"
   ]
  },
  {
   "cell_type": "code",
   "execution_count": 74,
   "metadata": {
    "colab": {
     "base_uri": "https://localhost:8080/"
    },
    "id": "yIiIq8Kek2SS",
    "outputId": "780a6639-986b-4c9f-9556-7978d8f45755"
   },
   "outputs": [
    {
     "name": "stdout",
     "output_type": "stream",
     "text": [
      "Epoch: 001/020 | Batch 000/1032 | Loss: 3.3246\n",
      "Epoch: 001/020 | Batch 1000/1032 | Loss: 0.7844\n",
      "Epoch: 001/020 Train Loss: 0.5765\n",
      "Time elapsed: 0.20 min\n",
      "Epoch: 002/020 | Batch 000/1032 | Loss: 0.6188\n",
      "Epoch: 002/020 | Batch 1000/1032 | Loss: 0.9644\n",
      "Epoch: 002/020 Train Loss: 0.4286\n",
      "Time elapsed: 0.41 min\n",
      "Epoch: 003/020 | Batch 000/1032 | Loss: 0.2784\n",
      "Epoch: 003/020 | Batch 1000/1032 | Loss: 0.2539\n",
      "Epoch: 003/020 Train Loss: 0.3788\n",
      "Time elapsed: 0.60 min\n",
      "Epoch: 004/020 | Batch 000/1032 | Loss: 0.2456\n",
      "Epoch: 004/020 | Batch 1000/1032 | Loss: 0.2595\n",
      "Epoch: 004/020 Train Loss: 0.3580\n",
      "Time elapsed: 0.81 min\n",
      "Epoch: 005/020 | Batch 000/1032 | Loss: 0.2098\n",
      "Epoch: 005/020 | Batch 1000/1032 | Loss: 0.6353\n",
      "Epoch: 005/020 Train Loss: 0.3497\n",
      "Time elapsed: 1.04 min\n",
      "Epoch: 006/020 | Batch 000/1032 | Loss: 0.3242\n",
      "Epoch: 006/020 | Batch 1000/1032 | Loss: 0.2614\n",
      "Epoch: 006/020 Train Loss: 0.3449\n",
      "Time elapsed: 1.24 min\n",
      "Epoch: 007/020 | Batch 000/1032 | Loss: 0.3848\n",
      "Epoch: 007/020 | Batch 1000/1032 | Loss: 0.4626\n",
      "Epoch: 007/020 Train Loss: 0.3422\n",
      "Time elapsed: 1.44 min\n",
      "Epoch: 008/020 | Batch 000/1032 | Loss: 0.2867\n",
      "Epoch: 008/020 | Batch 1000/1032 | Loss: 0.4142\n",
      "Epoch: 008/020 Train Loss: 0.3386\n",
      "Time elapsed: 1.66 min\n",
      "Epoch: 009/020 | Batch 000/1032 | Loss: 0.3113\n",
      "Epoch: 009/020 | Batch 1000/1032 | Loss: 0.5772\n",
      "Epoch: 009/020 Train Loss: 0.3371\n",
      "Time elapsed: 1.87 min\n",
      "Epoch: 010/020 | Batch 000/1032 | Loss: 0.6958\n",
      "Epoch: 010/020 | Batch 1000/1032 | Loss: 1.0461\n",
      "Epoch: 010/020 Train Loss: 0.3334\n",
      "Time elapsed: 2.09 min\n",
      "Epoch: 011/020 | Batch 000/1032 | Loss: 0.3843\n",
      "Epoch: 011/020 | Batch 1000/1032 | Loss: 0.1227\n",
      "Epoch: 011/020 Train Loss: 0.3318\n",
      "Time elapsed: 2.30 min\n",
      "Epoch: 012/020 | Batch 000/1032 | Loss: 0.2054\n",
      "Epoch: 012/020 | Batch 1000/1032 | Loss: 0.3123\n",
      "Epoch: 012/020 Train Loss: 0.3308\n",
      "Time elapsed: 2.50 min\n",
      "Epoch: 013/020 | Batch 000/1032 | Loss: 0.1999\n",
      "Epoch: 013/020 | Batch 1000/1032 | Loss: 0.2604\n",
      "Epoch: 013/020 Train Loss: 0.3282\n",
      "Time elapsed: 2.73 min\n",
      "Epoch: 014/020 | Batch 000/1032 | Loss: 0.0952\n",
      "Epoch: 014/020 | Batch 1000/1032 | Loss: 0.5077\n",
      "Epoch: 014/020 Train Loss: 0.3266\n",
      "Time elapsed: 2.95 min\n",
      "Epoch: 015/020 | Batch 000/1032 | Loss: 0.3245\n",
      "Epoch: 015/020 | Batch 1000/1032 | Loss: 0.5483\n",
      "Epoch: 015/020 Train Loss: 0.3252\n",
      "Time elapsed: 3.18 min\n",
      "Epoch: 016/020 | Batch 000/1032 | Loss: 0.2647\n",
      "Epoch: 016/020 | Batch 1000/1032 | Loss: 0.2560\n",
      "Epoch: 016/020 Train Loss: 0.3247\n",
      "Time elapsed: 3.42 min\n",
      "Epoch: 017/020 | Batch 000/1032 | Loss: 0.1179\n",
      "Epoch: 017/020 | Batch 1000/1032 | Loss: 0.2029\n",
      "Epoch: 017/020 Train Loss: 0.3237\n",
      "Time elapsed: 3.65 min\n",
      "Epoch: 018/020 | Batch 000/1032 | Loss: 0.1329\n",
      "Epoch: 018/020 | Batch 1000/1032 | Loss: 0.2627\n",
      "Epoch: 018/020 Train Loss: 0.3228\n",
      "Time elapsed: 3.87 min\n",
      "Epoch: 019/020 | Batch 000/1032 | Loss: 0.1857\n",
      "Epoch: 019/020 | Batch 1000/1032 | Loss: 0.0953\n",
      "Epoch: 019/020 Train Loss: 0.3217\n",
      "Time elapsed: 4.09 min\n",
      "Epoch: 020/020 | Batch 000/1032 | Loss: 0.4495\n",
      "Epoch: 020/020 | Batch 1000/1032 | Loss: 0.2421\n",
      "Epoch: 020/020 Train Loss: 0.3202\n",
      "Time elapsed: 4.31 min\n",
      "Total Training Time: 4.31 min\n",
      "Training Loss: 0.32\n",
      "Test Loss: 0.33\n"
     ]
    }
   ],
   "source": [
    "start_time = time.time()\n",
    "minibatch_cost = []\n",
    "epoch_cost = []\n",
    "for epoch in range(num_epochs):\n",
    "    model.train()\n",
    "    for batch_idx, (features, targets) in enumerate(train_loader):\n",
    "        \n",
    "        features = features.to(device)\n",
    "            \n",
    "        ### FORWARD AND BACK PROP\n",
    "        outputs = model(features)\n",
    "        \n",
    "        cost = criterion(outputs, targets)\n",
    "        optimizer.zero_grad()\n",
    "        \n",
    "        cost.backward()\n",
    "        minibatch_cost.append(cost)\n",
    "        ### UPDATE MODEL PARAMETERS\n",
    "        optimizer.step()\n",
    "        \n",
    "        ### LOGGING\n",
    "        if not batch_idx % 1000:\n",
    "            print ('Epoch: %03d/%03d | Batch %03d/%03d | Loss: %.4f' \n",
    "                   %(epoch+1, num_epochs, batch_idx, \n",
    "                     len(train_loader), cost))\n",
    "       \n",
    "    model.eval()\n",
    "    with torch.no_grad():\n",
    "        cost = compute_loss(model, train_loader)\n",
    "        epoch_cost.append(cost)\n",
    "        print('Epoch: %03d/%03d Train Loss: %.4f' % (\n",
    "                epoch+1, num_epochs, cost))\n",
    "        print('Time elapsed: %.2f min' % ((time.time() - start_time)/60))\n",
    "\n",
    "        \n",
    "model.eval()\n",
    "with torch.no_grad():\n",
    "    print('Total Training Time: %.2f min' % ((time.time() - start_time)/60))\n",
    "\n",
    "    print('Training Loss: %.2f' % compute_loss(model, train_loader))\n",
    "    print('Test Loss: %.2f' % compute_loss(model, test_loader))"
   ]
  },
  {
   "cell_type": "code",
   "execution_count": 75,
   "metadata": {
    "colab": {
     "base_uri": "https://localhost:8080/",
     "height": 350
    },
    "id": "6-k1FlbuV7h0",
    "outputId": "2d7af77d-5abb-4cce-fbaa-84722540dfac"
   },
   "outputs": [
    {
     "data": {
      "image/png": "[encoded data removed]",
      "text/plain": [
       "<Figure size 576x360 with 1 Axes>"
      ]
     },
     "metadata": {
      "needs_background": "light"
     },
     "output_type": "display_data"
    }
   ],
   "source": [
    "#Plot the loss curve\n",
    "\n",
    "plt.figure(figsize=(8,5))\n",
    "plt.plot(range(len(epoch_cost)), epoch_cost)\n",
    "plt.xlabel(\"Epoch\")\n",
    "plt.ylabel(\"Cross entropy loss\")\n",
    "plt.title(\"Loss of training\")\n",
    "plt.show()"
   ]
  },
  {
   "cell_type": "markdown",
   "metadata": {
    "id": "NCvcd-CDO9oa"
   },
   "source": [
    "## 6. Adadelta"
   ]
  },
  {
   "cell_type": "markdown",
   "metadata": {
    "id": "N1RZUje2t222"
   },
   "source": [
    "### Model B: 3 Hidden Layers Feedforward Neural Network (ReLU activation)"
   ]
  },
  {
   "cell_type": "markdown",
   "metadata": {
    "id": "X0gtcPcPt222"
   },
   "source": [
    "### Create model class"
   ]
  },
  {
   "cell_type": "code",
   "execution_count": 76,
   "metadata": {
    "colab": {
     "base_uri": "https://localhost:8080/"
    },
    "id": "AUE2mWf4Q0nb",
    "outputId": "0ba1f258-0e69-42ff-a6a1-b51a0db12245"
   },
   "outputs": [
    {
     "name": "stdout",
     "output_type": "stream",
     "text": [
      "20\n"
     ]
    }
   ],
   "source": [
    "batch_size = 16\n",
    "n_iters = 21000\n",
    "num_epochs = n_iters / (len(train_data) / batch_size)\n",
    "num_epochs = int(num_epochs)\n",
    "print(num_epochs)"
   ]
  },
  {
   "cell_type": "code",
   "execution_count": 77,
   "metadata": {
    "id": "1qlG9zPXQ0nv"
   },
   "outputs": [],
   "source": [
    "train_loader = DataLoader(train_dataset, batch_size=batch_size, shuffle=True) # create your dataloader\n",
    "\n",
    "test_loader = DataLoader(test_dataset, batch_size=batch_size,  shuffle=False)"
   ]
  },
  {
   "cell_type": "code",
   "execution_count": 78,
   "metadata": {
    "id": "pHP-6Gbrt223"
   },
   "outputs": [],
   "source": [
    "class FNN(nn.Module):\n",
    "    def __init__(self, input_dim, hidden_dim1,hidden_dim2,hidden_dim3, output_dim):\n",
    "        super(FNN, self).__init__()\n",
    "        self.linear1 = nn.Linear(input_dim, hidden_dim1)\n",
    "        self.relu1 = nn.ReLU()\n",
    "        self.linear2 = nn.Linear(hidden_dim1, hidden_dim2)\n",
    "        self.dropout1 = nn.Dropout(0.35)\n",
    "        self.relu2 = nn.ReLU()\n",
    "        self.linear3 = nn.Linear(hidden_dim2, hidden_dim3)\n",
    "        self.relu3 = nn.ReLU()\n",
    "        self.linear4 = nn.Linear(hidden_dim3, output_dim)\n",
    "        \n",
    "    def forward(self, x):\n",
    "        out = self.linear1(x)\n",
    "        out = self.relu1(out)\n",
    "        out = self.linear2(out)\n",
    "        out = self.dropout1(out)\n",
    "        out = self.relu2(out)\n",
    "        out = self.linear3(out)\n",
    "        out = self.relu3(out)\n",
    "        out = self.linear4(out)\n",
    "        return out"
   ]
  },
  {
   "cell_type": "code",
   "execution_count": 79,
   "metadata": {
    "id": "hW1TdbRVt225"
   },
   "outputs": [],
   "source": [
    "input_dim = tensor_x.shape[1]\n",
    "output_dim = 1\n",
    "hidden_dim1 = 500\n",
    "hidden_dim2 = 1000\n",
    "hidden_dim3 = 200"
   ]
  },
  {
   "cell_type": "code",
   "execution_count": 80,
   "metadata": {
    "id": "3xR4dZyut227"
   },
   "outputs": [],
   "source": [
    "model = FNN(input_dim, hidden_dim1,hidden_dim2,hidden_dim3, output_dim)\n",
    "\n",
    "#######################\n",
    "#  USE GPU FOR MODEL  #\n",
    "#######################\n",
    "if torch.cuda.is_available():\n",
    "    model.cuda()\n"
   ]
  },
  {
   "cell_type": "code",
   "execution_count": 81,
   "metadata": {
    "colab": {
     "base_uri": "https://localhost:8080/"
    },
    "id": "yZTOUPrkP5JX",
    "outputId": "5622f46a-f26c-4500-8388-e35ca4a2e6b1"
   },
   "outputs": [
    {
     "name": "stdout",
     "output_type": "stream",
     "text": [
      "----------------------------------------------------------------\n",
      "        Layer (type)               Output Shape         Param #\n",
      "================================================================\n",
      "            Linear-1               [-1, 1, 500]           6,500\n",
      "              ReLU-2               [-1, 1, 500]               0\n",
      "            Linear-3              [-1, 1, 1000]         501,000\n",
      "           Dropout-4              [-1, 1, 1000]               0\n",
      "              ReLU-5              [-1, 1, 1000]               0\n",
      "            Linear-6               [-1, 1, 200]         200,200\n",
      "              ReLU-7               [-1, 1, 200]               0\n",
      "            Linear-8                 [-1, 1, 1]             201\n",
      "================================================================\n",
      "Total params: 707,901\n",
      "Trainable params: 707,901\n",
      "Non-trainable params: 0\n",
      "----------------------------------------------------------------\n",
      "Input size (MB): 0.00\n",
      "Forward/backward pass size (MB): 0.03\n",
      "Params size (MB): 2.70\n",
      "Estimated Total Size (MB): 2.73\n",
      "----------------------------------------------------------------\n"
     ]
    }
   ],
   "source": [
    "summary(model, (1,tensor_x.shape[1]))"
   ]
  },
  {
   "cell_type": "code",
   "execution_count": 82,
   "metadata": {
    "id": "irnPkz-DP5Ji"
   },
   "outputs": [],
   "source": [
    "criterion = nn.MSELoss(reduction='sum')\n",
    "\n",
    "learning_rate = 0.0001\n",
    "optimizer = torch.optim.Adadelta(model.parameters(), lr=learning_rate)"
   ]
  },
  {
   "cell_type": "markdown",
   "metadata": {
    "id": "nVRGbjHok2SR"
   },
   "source": [
    "#### Train the model"
   ]
  },
  {
   "cell_type": "code",
   "execution_count": 83,
   "metadata": {
    "colab": {
     "base_uri": "https://localhost:8080/"
    },
    "id": "yIiIq8Kek2SS",
    "outputId": "780a6639-986b-4c9f-9556-7978d8f45755"
   },
   "outputs": [
    {
     "name": "stdout",
     "output_type": "stream",
     "text": [
      "Epoch: 001/020 | Batch 000/1032 | Loss: 2.3211\n",
      "Epoch: 001/020 | Batch 1000/1032 | Loss: 2.0171\n",
      "Epoch: 001/020 Train Loss: 2.0566\n",
      "Time elapsed: 0.26 min\n",
      "Epoch: 002/020 | Batch 000/1032 | Loss: 1.5027\n",
      "Epoch: 002/020 | Batch 1000/1032 | Loss: 1.5708\n",
      "Epoch: 002/020 Train Loss: 1.4384\n",
      "Time elapsed: 0.54 min\n",
      "Epoch: 003/020 | Batch 000/1032 | Loss: 2.1479\n",
      "Epoch: 003/020 | Batch 1000/1032 | Loss: 1.5693\n",
      "Epoch: 003/020 Train Loss: 1.1021\n",
      "Time elapsed: 0.83 min\n",
      "Epoch: 004/020 | Batch 000/1032 | Loss: 1.0766\n",
      "Epoch: 004/020 | Batch 1000/1032 | Loss: 0.8708\n",
      "Epoch: 004/020 Train Loss: 0.9429\n",
      "Time elapsed: 1.09 min\n",
      "Epoch: 005/020 | Batch 000/1032 | Loss: 0.5891\n",
      "Epoch: 005/020 | Batch 1000/1032 | Loss: 1.0148\n",
      "Epoch: 005/020 Train Loss: 0.8777\n",
      "Time elapsed: 1.35 min\n",
      "Epoch: 006/020 | Batch 000/1032 | Loss: 0.5960\n",
      "Epoch: 006/020 | Batch 1000/1032 | Loss: 1.4631\n",
      "Epoch: 006/020 Train Loss: 0.8530\n",
      "Time elapsed: 1.61 min\n",
      "Epoch: 007/020 | Batch 000/1032 | Loss: 0.4974\n",
      "Epoch: 007/020 | Batch 1000/1032 | Loss: 0.5024\n",
      "Epoch: 007/020 Train Loss: 0.8406\n",
      "Time elapsed: 1.87 min\n",
      "Epoch: 008/020 | Batch 000/1032 | Loss: 0.9886\n",
      "Epoch: 008/020 | Batch 1000/1032 | Loss: 0.7533\n",
      "Epoch: 008/020 Train Loss: 0.8309\n",
      "Time elapsed: 2.13 min\n",
      "Epoch: 009/020 | Batch 000/1032 | Loss: 0.5424\n",
      "Epoch: 009/020 | Batch 1000/1032 | Loss: 1.0753\n",
      "Epoch: 009/020 Train Loss: 0.8215\n",
      "Time elapsed: 2.41 min\n",
      "Epoch: 010/020 | Batch 000/1032 | Loss: 0.5365\n",
      "Epoch: 010/020 | Batch 1000/1032 | Loss: 0.6394\n",
      "Epoch: 010/020 Train Loss: 0.8122\n",
      "Time elapsed: 2.68 min\n",
      "Epoch: 011/020 | Batch 000/1032 | Loss: 0.6102\n",
      "Epoch: 011/020 | Batch 1000/1032 | Loss: 0.7977\n",
      "Epoch: 011/020 Train Loss: 0.8028\n",
      "Time elapsed: 2.94 min\n",
      "Epoch: 012/020 | Batch 000/1032 | Loss: 0.9320\n",
      "Epoch: 012/020 | Batch 1000/1032 | Loss: 0.5074\n",
      "Epoch: 012/020 Train Loss: 0.7934\n",
      "Time elapsed: 3.20 min\n",
      "Epoch: 013/020 | Batch 000/1032 | Loss: 0.6039\n",
      "Epoch: 013/020 | Batch 1000/1032 | Loss: 0.9628\n",
      "Epoch: 013/020 Train Loss: 0.7840\n",
      "Time elapsed: 3.46 min\n",
      "Epoch: 014/020 | Batch 000/1032 | Loss: 0.9896\n",
      "Epoch: 014/020 | Batch 1000/1032 | Loss: 0.8660\n",
      "Epoch: 014/020 Train Loss: 0.7745\n",
      "Time elapsed: 3.73 min\n",
      "Epoch: 015/020 | Batch 000/1032 | Loss: 0.7213\n",
      "Epoch: 015/020 | Batch 1000/1032 | Loss: 0.8510\n",
      "Epoch: 015/020 Train Loss: 0.7651\n",
      "Time elapsed: 3.98 min\n",
      "Epoch: 016/020 | Batch 000/1032 | Loss: 0.5668\n",
      "Epoch: 016/020 | Batch 1000/1032 | Loss: 1.0290\n",
      "Epoch: 016/020 Train Loss: 0.7555\n",
      "Time elapsed: 4.22 min\n",
      "Epoch: 017/020 | Batch 000/1032 | Loss: 0.4895\n",
      "Epoch: 017/020 | Batch 1000/1032 | Loss: 0.2144\n",
      "Epoch: 017/020 Train Loss: 0.7457\n",
      "Time elapsed: 4.46 min\n",
      "Epoch: 018/020 | Batch 000/1032 | Loss: 1.5289\n",
      "Epoch: 018/020 | Batch 1000/1032 | Loss: 0.4918\n",
      "Epoch: 018/020 Train Loss: 0.7360\n",
      "Time elapsed: 4.69 min\n",
      "Epoch: 019/020 | Batch 000/1032 | Loss: 0.8255\n",
      "Epoch: 019/020 | Batch 1000/1032 | Loss: 0.8137\n",
      "Epoch: 019/020 Train Loss: 0.7258\n",
      "Time elapsed: 4.92 min\n",
      "Epoch: 020/020 | Batch 000/1032 | Loss: 0.6089\n",
      "Epoch: 020/020 | Batch 1000/1032 | Loss: 0.6177\n",
      "Epoch: 020/020 Train Loss: 0.7155\n",
      "Time elapsed: 5.16 min\n",
      "Total Training Time: 5.16 min\n",
      "Training Loss: 0.72\n",
      "Test Loss: 0.70\n"
     ]
    }
   ],
   "source": [
    "start_time = time.time()\n",
    "minibatch_cost = []\n",
    "epoch_cost = []\n",
    "for epoch in range(num_epochs):\n",
    "    model.train()\n",
    "    for batch_idx, (features, targets) in enumerate(train_loader):\n",
    "        \n",
    "        features = features.to(device)\n",
    "            \n",
    "        ### FORWARD AND BACK PROP\n",
    "        outputs = model(features)\n",
    "        \n",
    "        cost = criterion(outputs, targets)\n",
    "        optimizer.zero_grad()\n",
    "        \n",
    "        cost.backward()\n",
    "        minibatch_cost.append(cost)\n",
    "        ### UPDATE MODEL PARAMETERS\n",
    "        optimizer.step()\n",
    "        \n",
    "        ### LOGGING\n",
    "        if not batch_idx % 1000:\n",
    "            print ('Epoch: %03d/%03d | Batch %03d/%03d | Loss: %.4f' \n",
    "                   %(epoch+1, num_epochs, batch_idx, \n",
    "                     len(train_loader), cost))\n",
    "       \n",
    "    model.eval()\n",
    "    with torch.no_grad():\n",
    "        cost = compute_loss(model, train_loader)\n",
    "        epoch_cost.append(cost)\n",
    "        print('Epoch: %03d/%03d Train Loss: %.4f' % (\n",
    "                epoch+1, num_epochs, cost))\n",
    "        print('Time elapsed: %.2f min' % ((time.time() - start_time)/60))\n",
    "\n",
    "        \n",
    "model.eval()\n",
    "with torch.no_grad():\n",
    "    print('Total Training Time: %.2f min' % ((time.time() - start_time)/60))\n",
    "\n",
    "    print('Training Loss: %.2f' % compute_loss(model, train_loader))\n",
    "    print('Test Loss: %.2f' % compute_loss(model, test_loader))"
   ]
  },
  {
   "cell_type": "code",
   "execution_count": 84,
   "metadata": {
    "colab": {
     "base_uri": "https://localhost:8080/",
     "height": 350
    },
    "id": "6-k1FlbuV7h0",
    "outputId": "2d7af77d-5abb-4cce-fbaa-84722540dfac"
   },
   "outputs": [
    {
     "data": {
      "image/png": "[encoded data removed]",
      "text/plain": [
       "<Figure size 576x360 with 1 Axes>"
      ]
     },
     "metadata": {
      "needs_background": "light"
     },
     "output_type": "display_data"
    }
   ],
   "source": [
    "#Plot the loss curve\n",
    "\n",
    "plt.figure(figsize=(8,5))\n",
    "plt.plot(range(len(epoch_cost)), epoch_cost)\n",
    "plt.xlabel(\"Epoch\")\n",
    "plt.ylabel(\"Cross entropy loss\")\n",
    "plt.title(\"Loss of training\")\n",
    "plt.show()"
   ]
  },
  {
   "cell_type": "markdown",
   "metadata": {
    "id": "C1l2uSvRO9oc"
   },
   "source": [
    "## 7. Adamax"
   ]
  },
  {
   "cell_type": "markdown",
   "metadata": {
    "id": "N1RZUje2t222"
   },
   "source": [
    "### Model B: 3 Hidden Layers Feedforward Neural Network (ReLU activation)"
   ]
  },
  {
   "cell_type": "markdown",
   "metadata": {
    "id": "X0gtcPcPt222"
   },
   "source": [
    "### Create model class"
   ]
  },
  {
   "cell_type": "code",
   "execution_count": 85,
   "metadata": {
    "colab": {
     "base_uri": "https://localhost:8080/"
    },
    "id": "AUE2mWf4Q0nb",
    "outputId": "0ba1f258-0e69-42ff-a6a1-b51a0db12245"
   },
   "outputs": [
    {
     "name": "stdout",
     "output_type": "stream",
     "text": [
      "20\n"
     ]
    }
   ],
   "source": [
    "batch_size = 16\n",
    "n_iters = 21000\n",
    "num_epochs = n_iters / (len(train_data) / batch_size)\n",
    "num_epochs = int(num_epochs)\n",
    "print(num_epochs)"
   ]
  },
  {
   "cell_type": "code",
   "execution_count": 86,
   "metadata": {
    "id": "1qlG9zPXQ0nv"
   },
   "outputs": [],
   "source": [
    "train_loader = DataLoader(train_dataset, batch_size=batch_size, shuffle=True) # create your dataloader\n",
    "\n",
    "test_loader = DataLoader(test_dataset, batch_size=batch_size,  shuffle=False)"
   ]
  },
  {
   "cell_type": "code",
   "execution_count": 87,
   "metadata": {
    "id": "pHP-6Gbrt223"
   },
   "outputs": [],
   "source": [
    "class FNN(nn.Module):\n",
    "    def __init__(self, input_dim, hidden_dim1,hidden_dim2,hidden_dim3, output_dim):\n",
    "        super(FNN, self).__init__()\n",
    "        self.linear1 = nn.Linear(input_dim, hidden_dim1)\n",
    "        self.relu1 = nn.ReLU()\n",
    "        self.linear2 = nn.Linear(hidden_dim1, hidden_dim2)\n",
    "        self.dropout1 = nn.Dropout(0.35)\n",
    "        self.relu2 = nn.ReLU()\n",
    "        self.linear3 = nn.Linear(hidden_dim2, hidden_dim3)\n",
    "        self.relu3 = nn.ReLU()\n",
    "        self.linear4 = nn.Linear(hidden_dim3, output_dim)\n",
    "        \n",
    "    def forward(self, x):\n",
    "        out = self.linear1(x)\n",
    "        out = self.relu1(out)\n",
    "        out = self.linear2(out)\n",
    "        out = self.dropout1(out)\n",
    "        out = self.relu2(out)\n",
    "        out = self.linear3(out)\n",
    "        out = self.relu3(out)\n",
    "        out = self.linear4(out)\n",
    "        return out"
   ]
  },
  {
   "cell_type": "code",
   "execution_count": 88,
   "metadata": {
    "id": "hW1TdbRVt225"
   },
   "outputs": [],
   "source": [
    "input_dim = tensor_x.shape[1]\n",
    "output_dim = 1\n",
    "hidden_dim1 = 500\n",
    "hidden_dim2 = 1000\n",
    "hidden_dim3 = 200"
   ]
  },
  {
   "cell_type": "code",
   "execution_count": 89,
   "metadata": {
    "id": "3xR4dZyut227"
   },
   "outputs": [],
   "source": [
    "model = FNN(input_dim, hidden_dim1,hidden_dim2,hidden_dim3, output_dim)\n",
    "\n",
    "#######################\n",
    "#  USE GPU FOR MODEL  #\n",
    "#######################\n",
    "if torch.cuda.is_available():\n",
    "    model.cuda()\n"
   ]
  },
  {
   "cell_type": "code",
   "execution_count": 90,
   "metadata": {
    "colab": {
     "base_uri": "https://localhost:8080/"
    },
    "id": "yZTOUPrkP5JX",
    "outputId": "5622f46a-f26c-4500-8388-e35ca4a2e6b1"
   },
   "outputs": [
    {
     "name": "stdout",
     "output_type": "stream",
     "text": [
      "----------------------------------------------------------------\n",
      "        Layer (type)               Output Shape         Param #\n",
      "================================================================\n",
      "            Linear-1               [-1, 1, 500]           6,500\n",
      "              ReLU-2               [-1, 1, 500]               0\n",
      "            Linear-3              [-1, 1, 1000]         501,000\n",
      "           Dropout-4              [-1, 1, 1000]               0\n",
      "              ReLU-5              [-1, 1, 1000]               0\n",
      "            Linear-6               [-1, 1, 200]         200,200\n",
      "              ReLU-7               [-1, 1, 200]               0\n",
      "            Linear-8                 [-1, 1, 1]             201\n",
      "================================================================\n",
      "Total params: 707,901\n",
      "Trainable params: 707,901\n",
      "Non-trainable params: 0\n",
      "----------------------------------------------------------------\n",
      "Input size (MB): 0.00\n",
      "Forward/backward pass size (MB): 0.03\n",
      "Params size (MB): 2.70\n",
      "Estimated Total Size (MB): 2.73\n",
      "----------------------------------------------------------------\n"
     ]
    }
   ],
   "source": [
    "summary(model, (1,tensor_x.shape[1]))"
   ]
  },
  {
   "cell_type": "code",
   "execution_count": 91,
   "metadata": {
    "id": "irnPkz-DP5Ji"
   },
   "outputs": [],
   "source": [
    "criterion = nn.MSELoss(reduction='sum')\n",
    "\n",
    "learning_rate = 0.0001\n",
    "optimizer = torch.optim.Adamax(model.parameters(), lr=learning_rate)"
   ]
  },
  {
   "cell_type": "markdown",
   "metadata": {
    "id": "nVRGbjHok2SR"
   },
   "source": [
    "#### Train the model"
   ]
  },
  {
   "cell_type": "code",
   "execution_count": 92,
   "metadata": {
    "colab": {
     "base_uri": "https://localhost:8080/"
    },
    "id": "yIiIq8Kek2SS",
    "outputId": "780a6639-986b-4c9f-9556-7978d8f45755"
   },
   "outputs": [
    {
     "name": "stdout",
     "output_type": "stream",
     "text": [
      "Epoch: 001/020 | Batch 000/1032 | Loss: 2.9181\n",
      "Epoch: 001/020 | Batch 1000/1032 | Loss: 0.5126\n",
      "Epoch: 001/020 Train Loss: 0.3360\n",
      "Time elapsed: 0.34 min\n",
      "Epoch: 002/020 | Batch 000/1032 | Loss: 0.2085\n",
      "Epoch: 002/020 | Batch 1000/1032 | Loss: 0.0740\n",
      "Epoch: 002/020 Train Loss: 0.3137\n",
      "Time elapsed: 0.70 min\n",
      "Epoch: 003/020 | Batch 000/1032 | Loss: 0.1669\n",
      "Epoch: 003/020 | Batch 1000/1032 | Loss: 0.3951\n",
      "Epoch: 003/020 Train Loss: 0.3044\n",
      "Time elapsed: 1.08 min\n",
      "Epoch: 004/020 | Batch 000/1032 | Loss: 0.2825\n",
      "Epoch: 004/020 | Batch 1000/1032 | Loss: 0.1636\n",
      "Epoch: 004/020 Train Loss: 0.2944\n",
      "Time elapsed: 1.47 min\n",
      "Epoch: 005/020 | Batch 000/1032 | Loss: 0.1395\n",
      "Epoch: 005/020 | Batch 1000/1032 | Loss: 0.1989\n",
      "Epoch: 005/020 Train Loss: 0.2955\n",
      "Time elapsed: 1.85 min\n",
      "Epoch: 006/020 | Batch 000/1032 | Loss: 0.3152\n",
      "Epoch: 006/020 | Batch 1000/1032 | Loss: 0.2740\n",
      "Epoch: 006/020 Train Loss: 0.2765\n",
      "Time elapsed: 2.21 min\n",
      "Epoch: 007/020 | Batch 000/1032 | Loss: 0.1333\n",
      "Epoch: 007/020 | Batch 1000/1032 | Loss: 0.2853\n",
      "Epoch: 007/020 Train Loss: 0.2644\n",
      "Time elapsed: 2.55 min\n",
      "Epoch: 008/020 | Batch 000/1032 | Loss: 0.2470\n",
      "Epoch: 008/020 | Batch 1000/1032 | Loss: 0.4158\n",
      "Epoch: 008/020 Train Loss: 0.2672\n",
      "Time elapsed: 2.89 min\n",
      "Epoch: 009/020 | Batch 000/1032 | Loss: 0.4267\n",
      "Epoch: 009/020 | Batch 1000/1032 | Loss: 0.1991\n",
      "Epoch: 009/020 Train Loss: 0.2672\n",
      "Time elapsed: 3.23 min\n",
      "Epoch: 010/020 | Batch 000/1032 | Loss: 0.2096\n",
      "Epoch: 010/020 | Batch 1000/1032 | Loss: 0.2057\n",
      "Epoch: 010/020 Train Loss: 0.2519\n",
      "Time elapsed: 3.58 min\n",
      "Epoch: 011/020 | Batch 000/1032 | Loss: 0.3392\n",
      "Epoch: 011/020 | Batch 1000/1032 | Loss: 0.4838\n",
      "Epoch: 011/020 Train Loss: 0.2480\n",
      "Time elapsed: 3.94 min\n",
      "Epoch: 012/020 | Batch 000/1032 | Loss: 0.1929\n",
      "Epoch: 012/020 | Batch 1000/1032 | Loss: 0.1928\n",
      "Epoch: 012/020 Train Loss: 0.2480\n",
      "Time elapsed: 4.31 min\n",
      "Epoch: 013/020 | Batch 000/1032 | Loss: 0.4435\n",
      "Epoch: 013/020 | Batch 1000/1032 | Loss: 0.3456\n",
      "Epoch: 013/020 Train Loss: 0.2428\n",
      "Time elapsed: 4.66 min\n",
      "Epoch: 014/020 | Batch 000/1032 | Loss: 0.0692\n",
      "Epoch: 014/020 | Batch 1000/1032 | Loss: 0.1972\n",
      "Epoch: 014/020 Train Loss: 0.2407\n",
      "Time elapsed: 5.02 min\n",
      "Epoch: 015/020 | Batch 000/1032 | Loss: 0.5505\n",
      "Epoch: 015/020 | Batch 1000/1032 | Loss: 0.5186\n",
      "Epoch: 015/020 Train Loss: 0.2392\n",
      "Time elapsed: 5.43 min\n",
      "Epoch: 016/020 | Batch 000/1032 | Loss: 0.4528\n",
      "Epoch: 016/020 | Batch 1000/1032 | Loss: 0.2612\n",
      "Epoch: 016/020 Train Loss: 0.2390\n",
      "Time elapsed: 5.85 min\n",
      "Epoch: 017/020 | Batch 000/1032 | Loss: 0.1468\n",
      "Epoch: 017/020 | Batch 1000/1032 | Loss: 0.1723\n",
      "Epoch: 017/020 Train Loss: 0.2431\n",
      "Time elapsed: 6.27 min\n",
      "Epoch: 018/020 | Batch 000/1032 | Loss: 0.5036\n",
      "Epoch: 018/020 | Batch 1000/1032 | Loss: 0.1581\n",
      "Epoch: 018/020 Train Loss: 0.2464\n",
      "Time elapsed: 6.68 min\n",
      "Epoch: 019/020 | Batch 000/1032 | Loss: 0.1034\n",
      "Epoch: 019/020 | Batch 1000/1032 | Loss: 0.1075\n",
      "Epoch: 019/020 Train Loss: 0.2318\n",
      "Time elapsed: 7.06 min\n",
      "Epoch: 020/020 | Batch 000/1032 | Loss: 0.2258\n",
      "Epoch: 020/020 | Batch 1000/1032 | Loss: 0.1087\n",
      "Epoch: 020/020 Train Loss: 0.2309\n",
      "Time elapsed: 7.44 min\n",
      "Total Training Time: 7.44 min\n",
      "Training Loss: 0.23\n",
      "Test Loss: 0.28\n"
     ]
    }
   ],
   "source": [
    "start_time = time.time()\n",
    "minibatch_cost = []\n",
    "epoch_cost = []\n",
    "for epoch in range(num_epochs):\n",
    "    model.train()\n",
    "    for batch_idx, (features, targets) in enumerate(train_loader):\n",
    "        \n",
    "        features = features.to(device)\n",
    "            \n",
    "        ### FORWARD AND BACK PROP\n",
    "        outputs = model(features)\n",
    "        \n",
    "        cost = criterion(outputs, targets)\n",
    "        optimizer.zero_grad()\n",
    "        \n",
    "        cost.backward()\n",
    "        minibatch_cost.append(cost)\n",
    "        ### UPDATE MODEL PARAMETERS\n",
    "        optimizer.step()\n",
    "        \n",
    "        ### LOGGING\n",
    "        if not batch_idx % 1000:\n",
    "            print ('Epoch: %03d/%03d | Batch %03d/%03d | Loss: %.4f' \n",
    "                   %(epoch+1, num_epochs, batch_idx, \n",
    "                     len(train_loader), cost))\n",
    "       \n",
    "    model.eval()\n",
    "    with torch.no_grad():\n",
    "        cost = compute_loss(model, train_loader)\n",
    "        epoch_cost.append(cost)\n",
    "        print('Epoch: %03d/%03d Train Loss: %.4f' % (\n",
    "                epoch+1, num_epochs, cost))\n",
    "        print('Time elapsed: %.2f min' % ((time.time() - start_time)/60))\n",
    "\n",
    "        \n",
    "model.eval()\n",
    "with torch.no_grad():\n",
    "    print('Total Training Time: %.2f min' % ((time.time() - start_time)/60))\n",
    "\n",
    "    print('Training Loss: %.2f' % compute_loss(model, train_loader))\n",
    "    print('Test Loss: %.2f' % compute_loss(model, test_loader))"
   ]
  },
  {
   "cell_type": "code",
   "execution_count": 93,
   "metadata": {
    "colab": {
     "base_uri": "https://localhost:8080/",
     "height": 350
    },
    "id": "6-k1FlbuV7h0",
    "outputId": "2d7af77d-5abb-4cce-fbaa-84722540dfac"
   },
   "outputs": [
    {
     "data": {
      "image/png": "[encoded data removed]",
      "text/plain": [
       "<Figure size 576x360 with 1 Axes>"
      ]
     },
     "metadata": {
      "needs_background": "light"
     },
     "output_type": "display_data"
    }
   ],
   "source": [
    "#Plot the loss curve\n",
    "\n",
    "plt.figure(figsize=(8,5))\n",
    "plt.plot(range(len(epoch_cost)), epoch_cost)\n",
    "plt.xlabel(\"Epoch\")\n",
    "plt.ylabel(\"Cross entropy loss\")\n",
    "plt.title(\"Loss of training\")\n",
    "plt.show()"
   ]
  },
  {
   "cell_type": "markdown",
   "metadata": {
    "id": "a481kCYNO9of"
   },
   "source": [
    "## 8. RMSprop"
   ]
  },
  {
   "cell_type": "markdown",
   "metadata": {
    "id": "N1RZUje2t222"
   },
   "source": [
    "### Model B: 3 Hidden Layers Feedforward Neural Network (ReLU activation)"
   ]
  },
  {
   "cell_type": "markdown",
   "metadata": {
    "id": "X0gtcPcPt222"
   },
   "source": [
    "### Create model class"
   ]
  },
  {
   "cell_type": "code",
   "execution_count": 94,
   "metadata": {
    "colab": {
     "base_uri": "https://localhost:8080/"
    },
    "id": "AUE2mWf4Q0nb",
    "outputId": "0ba1f258-0e69-42ff-a6a1-b51a0db12245"
   },
   "outputs": [
    {
     "name": "stdout",
     "output_type": "stream",
     "text": [
      "20\n"
     ]
    }
   ],
   "source": [
    "batch_size = 16\n",
    "n_iters = 21000\n",
    "num_epochs = n_iters / (len(train_data) / batch_size)\n",
    "num_epochs = int(num_epochs)\n",
    "print(num_epochs)"
   ]
  },
  {
   "cell_type": "code",
   "execution_count": 95,
   "metadata": {
    "id": "1qlG9zPXQ0nv"
   },
   "outputs": [],
   "source": [
    "train_loader = DataLoader(train_dataset, batch_size=batch_size, shuffle=True) # create your dataloader\n",
    "\n",
    "test_loader = DataLoader(test_dataset, batch_size=batch_size,  shuffle=False)"
   ]
  },
  {
   "cell_type": "code",
   "execution_count": 96,
   "metadata": {
    "id": "pHP-6Gbrt223"
   },
   "outputs": [],
   "source": [
    "class FNN(nn.Module):\n",
    "    def __init__(self, input_dim, hidden_dim1,hidden_dim2,hidden_dim3, output_dim):\n",
    "        super(FNN, self).__init__()\n",
    "        self.linear1 = nn.Linear(input_dim, hidden_dim1)\n",
    "        self.relu1 = nn.ReLU()\n",
    "        self.linear2 = nn.Linear(hidden_dim1, hidden_dim2)\n",
    "        self.dropout1 = nn.Dropout(0.35)\n",
    "        self.relu2 = nn.ReLU()\n",
    "        self.linear3 = nn.Linear(hidden_dim2, hidden_dim3)\n",
    "        self.relu3 = nn.ReLU()\n",
    "        self.linear4 = nn.Linear(hidden_dim3, output_dim)\n",
    "        \n",
    "    def forward(self, x):\n",
    "        out = self.linear1(x)\n",
    "        out = self.relu1(out)\n",
    "        out = self.linear2(out)\n",
    "        out = self.dropout1(out)\n",
    "        out = self.relu2(out)\n",
    "        out = self.linear3(out)\n",
    "        out = self.relu3(out)\n",
    "        out = self.linear4(out)\n",
    "        return out"
   ]
  },
  {
   "cell_type": "code",
   "execution_count": 97,
   "metadata": {
    "id": "hW1TdbRVt225"
   },
   "outputs": [],
   "source": [
    "input_dim = tensor_x.shape[1]\n",
    "output_dim = 1\n",
    "hidden_dim1 = 500\n",
    "hidden_dim2 = 1000\n",
    "hidden_dim3 = 200"
   ]
  },
  {
   "cell_type": "code",
   "execution_count": 98,
   "metadata": {
    "id": "3xR4dZyut227"
   },
   "outputs": [],
   "source": [
    "model = FNN(input_dim, hidden_dim1,hidden_dim2,hidden_dim3, output_dim)\n",
    "\n",
    "#######################\n",
    "#  USE GPU FOR MODEL  #\n",
    "#######################\n",
    "if torch.cuda.is_available():\n",
    "    model.cuda()\n"
   ]
  },
  {
   "cell_type": "code",
   "execution_count": 99,
   "metadata": {
    "colab": {
     "base_uri": "https://localhost:8080/"
    },
    "id": "yZTOUPrkP5JX",
    "outputId": "5622f46a-f26c-4500-8388-e35ca4a2e6b1"
   },
   "outputs": [
    {
     "name": "stdout",
     "output_type": "stream",
     "text": [
      "----------------------------------------------------------------\n",
      "        Layer (type)               Output Shape         Param #\n",
      "================================================================\n",
      "            Linear-1               [-1, 1, 500]           6,500\n",
      "              ReLU-2               [-1, 1, 500]               0\n",
      "            Linear-3              [-1, 1, 1000]         501,000\n",
      "           Dropout-4              [-1, 1, 1000]               0\n",
      "              ReLU-5              [-1, 1, 1000]               0\n",
      "            Linear-6               [-1, 1, 200]         200,200\n",
      "              ReLU-7               [-1, 1, 200]               0\n",
      "            Linear-8                 [-1, 1, 1]             201\n",
      "================================================================\n",
      "Total params: 707,901\n",
      "Trainable params: 707,901\n",
      "Non-trainable params: 0\n",
      "----------------------------------------------------------------\n",
      "Input size (MB): 0.00\n",
      "Forward/backward pass size (MB): 0.03\n",
      "Params size (MB): 2.70\n",
      "Estimated Total Size (MB): 2.73\n",
      "----------------------------------------------------------------\n"
     ]
    }
   ],
   "source": [
    "summary(model, (1,tensor_x.shape[1]))"
   ]
  },
  {
   "cell_type": "code",
   "execution_count": 100,
   "metadata": {
    "id": "irnPkz-DP5Ji"
   },
   "outputs": [],
   "source": [
    "criterion = nn.MSELoss(reduction='sum')\n",
    "\n",
    "learning_rate = 0.0001\n",
    "optimizer = torch.optim.RMSprop(model.parameters(), lr=learning_rate)"
   ]
  },
  {
   "cell_type": "markdown",
   "metadata": {
    "id": "nVRGbjHok2SR"
   },
   "source": [
    "#### Train the model"
   ]
  },
  {
   "cell_type": "code",
   "execution_count": 101,
   "metadata": {
    "colab": {
     "base_uri": "https://localhost:8080/"
    },
    "id": "yIiIq8Kek2SS",
    "outputId": "780a6639-986b-4c9f-9556-7978d8f45755"
   },
   "outputs": [
    {
     "name": "stdout",
     "output_type": "stream",
     "text": [
      "Epoch: 001/020 | Batch 000/1032 | Loss: 2.7866\n",
      "Epoch: 001/020 | Batch 1000/1032 | Loss: 0.7715\n",
      "Epoch: 001/020 Train Loss: 0.3094\n",
      "Time elapsed: 0.21 min\n",
      "Epoch: 002/020 | Batch 000/1032 | Loss: 0.3079\n",
      "Epoch: 002/020 | Batch 1000/1032 | Loss: 0.2256\n",
      "Epoch: 002/020 Train Loss: 0.3141\n",
      "Time elapsed: 0.42 min\n",
      "Epoch: 003/020 | Batch 000/1032 | Loss: 0.1065\n",
      "Epoch: 003/020 | Batch 1000/1032 | Loss: 0.1504\n",
      "Epoch: 003/020 Train Loss: 0.2641\n",
      "Time elapsed: 0.63 min\n",
      "Epoch: 004/020 | Batch 000/1032 | Loss: 0.4925\n",
      "Epoch: 004/020 | Batch 1000/1032 | Loss: 0.0729\n",
      "Epoch: 004/020 Train Loss: 0.2921\n",
      "Time elapsed: 0.83 min\n",
      "Epoch: 005/020 | Batch 000/1032 | Loss: 0.1419\n",
      "Epoch: 005/020 | Batch 1000/1032 | Loss: 0.2437\n",
      "Epoch: 005/020 Train Loss: 0.2525\n",
      "Time elapsed: 1.04 min\n",
      "Epoch: 006/020 | Batch 000/1032 | Loss: 0.2530\n",
      "Epoch: 006/020 | Batch 1000/1032 | Loss: 0.1168\n",
      "Epoch: 006/020 Train Loss: 0.2502\n",
      "Time elapsed: 1.29 min\n",
      "Epoch: 007/020 | Batch 000/1032 | Loss: 0.2224\n",
      "Epoch: 007/020 | Batch 1000/1032 | Loss: 0.3396\n",
      "Epoch: 007/020 Train Loss: 0.2410\n",
      "Time elapsed: 1.55 min\n",
      "Epoch: 008/020 | Batch 000/1032 | Loss: 0.1298\n",
      "Epoch: 008/020 | Batch 1000/1032 | Loss: 0.1519\n",
      "Epoch: 008/020 Train Loss: 0.2500\n",
      "Time elapsed: 1.87 min\n",
      "Epoch: 009/020 | Batch 000/1032 | Loss: 0.2699\n",
      "Epoch: 009/020 | Batch 1000/1032 | Loss: 0.0546\n",
      "Epoch: 009/020 Train Loss: 0.2334\n",
      "Time elapsed: 2.20 min\n",
      "Epoch: 010/020 | Batch 000/1032 | Loss: 0.2419\n",
      "Epoch: 010/020 | Batch 1000/1032 | Loss: 0.2108\n",
      "Epoch: 010/020 Train Loss: 0.2286\n",
      "Time elapsed: 2.60 min\n",
      "Epoch: 011/020 | Batch 000/1032 | Loss: 0.1085\n",
      "Epoch: 011/020 | Batch 1000/1032 | Loss: 0.4777\n",
      "Epoch: 011/020 Train Loss: 0.2343\n",
      "Time elapsed: 3.03 min\n",
      "Epoch: 012/020 | Batch 000/1032 | Loss: 0.1801\n",
      "Epoch: 012/020 | Batch 1000/1032 | Loss: 0.1826\n",
      "Epoch: 012/020 Train Loss: 0.2298\n",
      "Time elapsed: 3.44 min\n",
      "Epoch: 013/020 | Batch 000/1032 | Loss: 0.2816\n",
      "Epoch: 013/020 | Batch 1000/1032 | Loss: 0.1010\n",
      "Epoch: 013/020 Train Loss: 0.2266\n",
      "Time elapsed: 3.86 min\n",
      "Epoch: 014/020 | Batch 000/1032 | Loss: 0.4123\n",
      "Epoch: 014/020 | Batch 1000/1032 | Loss: 0.3563\n",
      "Epoch: 014/020 Train Loss: 0.2299\n",
      "Time elapsed: 4.28 min\n",
      "Epoch: 015/020 | Batch 000/1032 | Loss: 0.5717\n",
      "Epoch: 015/020 | Batch 1000/1032 | Loss: 0.0773\n",
      "Epoch: 015/020 Train Loss: 0.2212\n",
      "Time elapsed: 4.71 min\n",
      "Epoch: 016/020 | Batch 000/1032 | Loss: 0.1416\n",
      "Epoch: 016/020 | Batch 1000/1032 | Loss: 0.1345\n",
      "Epoch: 016/020 Train Loss: 0.2140\n",
      "Time elapsed: 5.15 min\n",
      "Epoch: 017/020 | Batch 000/1032 | Loss: 0.4432\n",
      "Epoch: 017/020 | Batch 1000/1032 | Loss: 0.5365\n",
      "Epoch: 017/020 Train Loss: 0.2244\n",
      "Time elapsed: 5.62 min\n",
      "Epoch: 018/020 | Batch 000/1032 | Loss: 0.2279\n",
      "Epoch: 018/020 | Batch 1000/1032 | Loss: 0.2448\n",
      "Epoch: 018/020 Train Loss: 0.2085\n",
      "Time elapsed: 6.05 min\n",
      "Epoch: 019/020 | Batch 000/1032 | Loss: 0.1506\n",
      "Epoch: 019/020 | Batch 1000/1032 | Loss: 0.2484\n",
      "Epoch: 019/020 Train Loss: 0.2130\n",
      "Time elapsed: 6.48 min\n",
      "Epoch: 020/020 | Batch 000/1032 | Loss: 0.0931\n",
      "Epoch: 020/020 | Batch 1000/1032 | Loss: 0.1356\n",
      "Epoch: 020/020 Train Loss: 0.2042\n",
      "Time elapsed: 6.91 min\n",
      "Total Training Time: 6.91 min\n",
      "Training Loss: 0.20\n",
      "Test Loss: 0.24\n"
     ]
    }
   ],
   "source": [
    "start_time = time.time()\n",
    "minibatch_cost = []\n",
    "epoch_cost = []\n",
    "for epoch in range(num_epochs):\n",
    "    model.train()\n",
    "    for batch_idx, (features, targets) in enumerate(train_loader):\n",
    "        \n",
    "        features = features.to(device)\n",
    "            \n",
    "        ### FORWARD AND BACK PROP\n",
    "        outputs = model(features)\n",
    "        \n",
    "        cost = criterion(outputs, targets)\n",
    "        optimizer.zero_grad()\n",
    "        \n",
    "        cost.backward()\n",
    "        minibatch_cost.append(cost)\n",
    "        ### UPDATE MODEL PARAMETERS\n",
    "        optimizer.step()\n",
    "        \n",
    "        ### LOGGING\n",
    "        if not batch_idx % 1000:\n",
    "            print ('Epoch: %03d/%03d | Batch %03d/%03d | Loss: %.4f' \n",
    "                   %(epoch+1, num_epochs, batch_idx, \n",
    "                     len(train_loader), cost))\n",
    "       \n",
    "    model.eval()\n",
    "    with torch.no_grad():\n",
    "        cost = compute_loss(model, train_loader)\n",
    "        epoch_cost.append(cost)\n",
    "        print('Epoch: %03d/%03d Train Loss: %.4f' % (\n",
    "                epoch+1, num_epochs, cost))\n",
    "        print('Time elapsed: %.2f min' % ((time.time() - start_time)/60))\n",
    "\n",
    "        \n",
    "model.eval()\n",
    "with torch.no_grad():\n",
    "    print('Total Training Time: %.2f min' % ((time.time() - start_time)/60))\n",
    "\n",
    "    print('Training Loss: %.2f' % compute_loss(model, train_loader))\n",
    "    print('Test Loss: %.2f' % compute_loss(model, test_loader))"
   ]
  },
  {
   "cell_type": "code",
   "execution_count": 102,
   "metadata": {
    "colab": {
     "base_uri": "https://localhost:8080/",
     "height": 350
    },
    "id": "6-k1FlbuV7h0",
    "outputId": "2d7af77d-5abb-4cce-fbaa-84722540dfac"
   },
   "outputs": [
    {
     "data": {
      "image/png": "[encoded data removed]",
      "text/plain": [
       "<Figure size 576x360 with 1 Axes>"
      ]
     },
     "metadata": {
      "needs_background": "light"
     },
     "output_type": "display_data"
    }
   ],
   "source": [
    "#Plot the loss curve\n",
    "\n",
    "plt.figure(figsize=(8,5))\n",
    "plt.plot(range(len(epoch_cost)), epoch_cost)\n",
    "plt.xlabel(\"Epoch\")\n",
    "plt.ylabel(\"Cross entropy loss\")\n",
    "plt.title(\"Loss of training\")\n",
    "plt.show()"
   ]
  },
  {
   "cell_type": "markdown",
   "metadata": {
    "id": "PALWpQuHO9oh"
   },
   "source": [
    "## Batch normalization"
   ]
  },
  {
   "cell_type": "markdown",
   "metadata": {
    "id": "N1RZUje2t222"
   },
   "source": [
    "### Model B: 3 Hidden Layers Feedforward Neural Network (ReLU activation)"
   ]
  },
  {
   "cell_type": "markdown",
   "metadata": {
    "id": "X0gtcPcPt222"
   },
   "source": [
    "### Create model class"
   ]
  },
  {
   "cell_type": "code",
   "execution_count": 103,
   "metadata": {
    "colab": {
     "base_uri": "https://localhost:8080/"
    },
    "id": "AUE2mWf4Q0nb",
    "outputId": "0ba1f258-0e69-42ff-a6a1-b51a0db12245"
   },
   "outputs": [
    {
     "name": "stdout",
     "output_type": "stream",
     "text": [
      "20\n"
     ]
    }
   ],
   "source": [
    "batch_size = 16\n",
    "n_iters = 21000\n",
    "num_epochs = n_iters / (len(train_data) / batch_size)\n",
    "num_epochs = int(num_epochs)\n",
    "print(num_epochs)"
   ]
  },
  {
   "cell_type": "code",
   "execution_count": 104,
   "metadata": {
    "id": "1qlG9zPXQ0nv"
   },
   "outputs": [],
   "source": [
    "train_loader = DataLoader(train_dataset, batch_size=batch_size, shuffle=True) # create your dataloader\n",
    "\n",
    "test_loader = DataLoader(test_dataset, batch_size=batch_size,  shuffle=False)"
   ]
  },
  {
   "cell_type": "code",
   "execution_count": 105,
   "metadata": {
    "id": "pHP-6Gbrt223"
   },
   "outputs": [],
   "source": [
    "class FNN(nn.Module):\n",
    "    def __init__(self, input_dim, hidden_dim1,hidden_dim2,hidden_dim3, output_dim):\n",
    "        super(FNN, self).__init__()\n",
    "        self.linear1 = nn.Linear(input_dim, hidden_dim1)\n",
    "        self.BatchNorm1d1=nn.BatchNorm1d(hidden_dim1)\n",
    "        self.relu1 = nn.ReLU()\n",
    "        self.linear2 = nn.Linear(hidden_dim1, hidden_dim2)\n",
    "        self.BatchNorm1d2=nn.BatchNorm1d(hidden_dim2)\n",
    "        self.dropout1 = nn.Dropout(0.35)\n",
    "        self.relu2 = nn.ReLU()\n",
    "        self.linear3 = nn.Linear(hidden_dim2, hidden_dim3)\n",
    "        self.relu3 = nn.ReLU()\n",
    "        self.linear4 = nn.Linear(hidden_dim3, output_dim)\n",
    "        \n",
    "    def forward(self, x):\n",
    "        out = self.linear1(x)\n",
    "        out = self.BatchNorm1d1(out)\n",
    "        out = self.relu1(out)\n",
    "        out = self.linear2(out)\n",
    "        out = self.BatchNorm1d2(out)\n",
    "        out = self.dropout1(out)\n",
    "        out = self.relu2(out)\n",
    "        out = self.linear3(out)\n",
    "        out = self.relu3(out)\n",
    "        out = self.linear4(out)\n",
    "        return out"
   ]
  },
  {
   "cell_type": "code",
   "execution_count": 106,
   "metadata": {
    "id": "hW1TdbRVt225"
   },
   "outputs": [],
   "source": [
    "input_dim = tensor_x.shape[1]\n",
    "output_dim = 1\n",
    "hidden_dim1 = 500\n",
    "hidden_dim2 = 1000\n",
    "hidden_dim3 = 200"
   ]
  },
  {
   "cell_type": "code",
   "execution_count": 107,
   "metadata": {
    "id": "3xR4dZyut227"
   },
   "outputs": [],
   "source": [
    "model = FNN(input_dim, hidden_dim1,hidden_dim2,hidden_dim3, output_dim)\n",
    "\n",
    "#######################\n",
    "#  USE GPU FOR MODEL  #\n",
    "#######################\n",
    "if torch.cuda.is_available():\n",
    "    model.cuda()\n"
   ]
  },
  {
   "cell_type": "code",
   "execution_count": 110,
   "metadata": {
    "colab": {
     "base_uri": "https://localhost:8080/"
    },
    "id": "yZTOUPrkP5JX",
    "outputId": "5622f46a-f26c-4500-8388-e35ca4a2e6b1"
   },
   "outputs": [],
   "source": [
    "#summary(model, (1,tensor_x.shape[1]))"
   ]
  },
  {
   "cell_type": "code",
   "execution_count": 111,
   "metadata": {
    "id": "irnPkz-DP5Ji"
   },
   "outputs": [],
   "source": [
    "criterion = nn.MSELoss(reduction='sum')\n",
    "\n",
    "learning_rate = 0.0001\n",
    "optimizer = torch.optim.RMSprop(model.parameters(), lr=learning_rate)"
   ]
  },
  {
   "cell_type": "markdown",
   "metadata": {
    "id": "nVRGbjHok2SR"
   },
   "source": [
    "#### Train the model"
   ]
  },
  {
   "cell_type": "code",
   "execution_count": 112,
   "metadata": {
    "colab": {
     "base_uri": "https://localhost:8080/"
    },
    "id": "yIiIq8Kek2SS",
    "outputId": "780a6639-986b-4c9f-9556-7978d8f45755"
   },
   "outputs": [
    {
     "name": "stdout",
     "output_type": "stream",
     "text": [
      "Epoch: 001/020 | Batch 000/1032 | Loss: 8.2336\n",
      "Epoch: 001/020 | Batch 1000/1032 | Loss: 0.3143\n",
      "Epoch: 001/020 Train Loss: 0.2974\n",
      "Time elapsed: 0.55 min\n",
      "Epoch: 002/020 | Batch 000/1032 | Loss: 0.4679\n",
      "Epoch: 002/020 | Batch 1000/1032 | Loss: 0.3512\n",
      "Epoch: 002/020 Train Loss: 0.2738\n",
      "Time elapsed: 1.10 min\n",
      "Epoch: 003/020 | Batch 000/1032 | Loss: 0.2887\n",
      "Epoch: 003/020 | Batch 1000/1032 | Loss: 0.3635\n",
      "Epoch: 003/020 Train Loss: 0.2573\n",
      "Time elapsed: 1.63 min\n",
      "Epoch: 004/020 | Batch 000/1032 | Loss: 0.8143\n",
      "Epoch: 004/020 | Batch 1000/1032 | Loss: 0.2733\n",
      "Epoch: 004/020 Train Loss: 0.2445\n",
      "Time elapsed: 2.16 min\n",
      "Epoch: 005/020 | Batch 000/1032 | Loss: 0.3705\n",
      "Epoch: 005/020 | Batch 1000/1032 | Loss: 0.3240\n",
      "Epoch: 005/020 Train Loss: 0.2776\n",
      "Time elapsed: 2.73 min\n",
      "Epoch: 006/020 | Batch 000/1032 | Loss: 0.3705\n",
      "Epoch: 006/020 | Batch 1000/1032 | Loss: 0.1637\n",
      "Epoch: 006/020 Train Loss: 0.2544\n",
      "Time elapsed: 3.31 min\n",
      "Epoch: 007/020 | Batch 000/1032 | Loss: 0.1770\n",
      "Epoch: 007/020 | Batch 1000/1032 | Loss: 0.1613\n",
      "Epoch: 007/020 Train Loss: 0.2355\n",
      "Time elapsed: 3.87 min\n",
      "Epoch: 008/020 | Batch 000/1032 | Loss: 0.2533\n",
      "Epoch: 008/020 | Batch 1000/1032 | Loss: 0.1776\n",
      "Epoch: 008/020 Train Loss: 0.2229\n",
      "Time elapsed: 4.43 min\n",
      "Epoch: 009/020 | Batch 000/1032 | Loss: 0.1543\n",
      "Epoch: 009/020 | Batch 1000/1032 | Loss: 0.3377\n",
      "Epoch: 009/020 Train Loss: 0.2163\n",
      "Time elapsed: 5.00 min\n",
      "Epoch: 010/020 | Batch 000/1032 | Loss: 0.3780\n",
      "Epoch: 010/020 | Batch 1000/1032 | Loss: 0.6039\n",
      "Epoch: 010/020 Train Loss: 0.2236\n",
      "Time elapsed: 5.58 min\n",
      "Epoch: 011/020 | Batch 000/1032 | Loss: 0.5071\n",
      "Epoch: 011/020 | Batch 1000/1032 | Loss: 0.2034\n",
      "Epoch: 011/020 Train Loss: 0.2354\n",
      "Time elapsed: 6.19 min\n",
      "Epoch: 012/020 | Batch 000/1032 | Loss: 0.4172\n",
      "Epoch: 012/020 | Batch 1000/1032 | Loss: 0.2098\n",
      "Epoch: 012/020 Train Loss: 0.2276\n",
      "Time elapsed: 6.80 min\n",
      "Epoch: 013/020 | Batch 000/1032 | Loss: 0.1419\n",
      "Epoch: 013/020 | Batch 1000/1032 | Loss: 0.2906\n",
      "Epoch: 013/020 Train Loss: 0.2259\n",
      "Time elapsed: 7.39 min\n",
      "Epoch: 014/020 | Batch 000/1032 | Loss: 0.3926\n",
      "Epoch: 014/020 | Batch 1000/1032 | Loss: 0.1868\n",
      "Epoch: 014/020 Train Loss: 0.2212\n",
      "Time elapsed: 7.99 min\n",
      "Epoch: 015/020 | Batch 000/1032 | Loss: 0.0876\n",
      "Epoch: 015/020 | Batch 1000/1032 | Loss: 0.1880\n",
      "Epoch: 015/020 Train Loss: 0.2159\n",
      "Time elapsed: 8.63 min\n",
      "Epoch: 016/020 | Batch 000/1032 | Loss: 0.1059\n",
      "Epoch: 016/020 | Batch 1000/1032 | Loss: 0.3768\n",
      "Epoch: 016/020 Train Loss: 0.2046\n",
      "Time elapsed: 9.25 min\n",
      "Epoch: 017/020 | Batch 000/1032 | Loss: 0.1446\n",
      "Epoch: 017/020 | Batch 1000/1032 | Loss: 0.4053\n",
      "Epoch: 017/020 Train Loss: 0.2275\n",
      "Time elapsed: 9.89 min\n",
      "Epoch: 018/020 | Batch 000/1032 | Loss: 0.4471\n",
      "Epoch: 018/020 | Batch 1000/1032 | Loss: 0.4333\n",
      "Epoch: 018/020 Train Loss: 0.2053\n",
      "Time elapsed: 10.57 min\n",
      "Epoch: 019/020 | Batch 000/1032 | Loss: 0.1748\n",
      "Epoch: 019/020 | Batch 1000/1032 | Loss: 0.1799\n",
      "Epoch: 019/020 Train Loss: 0.2138\n",
      "Time elapsed: 11.22 min\n",
      "Epoch: 020/020 | Batch 000/1032 | Loss: 0.1054\n",
      "Epoch: 020/020 | Batch 1000/1032 | Loss: 0.1292\n",
      "Epoch: 020/020 Train Loss: 0.2068\n",
      "Time elapsed: 11.90 min\n",
      "Total Training Time: 11.90 min\n",
      "Training Loss: 0.21\n",
      "Test Loss: 0.25\n"
     ]
    }
   ],
   "source": [
    "start_time = time.time()\n",
    "minibatch_cost = []\n",
    "epoch_cost = []\n",
    "for epoch in range(num_epochs):\n",
    "    model.train()\n",
    "    for batch_idx, (features, targets) in enumerate(train_loader):\n",
    "        \n",
    "        features = features.to(device)\n",
    "            \n",
    "        ### FORWARD AND BACK PROP\n",
    "        outputs = model(features)\n",
    "        \n",
    "        cost = criterion(outputs, targets)\n",
    "        optimizer.zero_grad()\n",
    "        \n",
    "        cost.backward()\n",
    "        minibatch_cost.append(cost)\n",
    "        ### UPDATE MODEL PARAMETERS\n",
    "        optimizer.step()\n",
    "        \n",
    "        ### LOGGING\n",
    "        if not batch_idx % 1000:\n",
    "            print ('Epoch: %03d/%03d | Batch %03d/%03d | Loss: %.4f' \n",
    "                   %(epoch+1, num_epochs, batch_idx, \n",
    "                     len(train_loader), cost))\n",
    "       \n",
    "    model.eval()\n",
    "    with torch.no_grad():\n",
    "        cost = compute_loss(model, train_loader)\n",
    "        epoch_cost.append(cost)\n",
    "        print('Epoch: %03d/%03d Train Loss: %.4f' % (\n",
    "                epoch+1, num_epochs, cost))\n",
    "        print('Time elapsed: %.2f min' % ((time.time() - start_time)/60))\n",
    "\n",
    "        \n",
    "model.eval()\n",
    "with torch.no_grad():\n",
    "    print('Total Training Time: %.2f min' % ((time.time() - start_time)/60))\n",
    "\n",
    "    print('Training Loss: %.2f' % compute_loss(model, train_loader))\n",
    "    print('Test Loss: %.2f' % compute_loss(model, test_loader))"
   ]
  },
  {
   "cell_type": "code",
   "execution_count": 102,
   "metadata": {
    "colab": {
     "base_uri": "https://localhost:8080/",
     "height": 350
    },
    "id": "6-k1FlbuV7h0",
    "outputId": "2d7af77d-5abb-4cce-fbaa-84722540dfac"
   },
   "outputs": [
    {
     "data": {
      "image/png": "[encoded data removed]",
      "text/plain": [
       "<Figure size 576x360 with 1 Axes>"
      ]
     },
     "metadata": {
      "needs_background": "light"
     },
     "output_type": "display_data"
    }
   ],
   "source": [
    "#Plot the loss curve\n",
    "\n",
    "plt.figure(figsize=(8,5))\n",
    "plt.plot(range(len(epoch_cost)), epoch_cost)\n",
    "plt.xlabel(\"Epoch\")\n",
    "plt.ylabel(\"Cross entropy loss\")\n",
    "plt.title(\"Loss of training\")\n",
    "plt.show()"
   ]
  },
  {
   "cell_type": "markdown",
   "metadata": {},
   "source": [
    "## Results of regularizations\n",
    "\n",
    "| Model Name                    | Training Loss | Test Loss | Training Loss(Dropout) | Test Loss(Dropout) | \n",
    "|--------------------------------|----------|----------|----------|----------|\n",
    "| Model B |  0.35  |  0.35 | 0.34  |  0.35 |\n",
    "| Model C |   0.34  |  0.35 |  0.34  |  0.35 |\n",
    "| Model D |  0.24  |  0.27  |  0.25  |  0.28  |"
   ]
  },
  {
   "cell_type": "markdown",
   "metadata": {},
   "source": [
    "## Results of optimizations (Test loss)\n",
    "- With dropouts from the regularization part\n",
    "\n",
    "| Optimizer                    | Model B |\n",
    "|--------------------------------|----------|\n",
    "| SGD |  0.35  |\n",
    "| SGD Momentum |  0.31  | \n",
    "| SGD Nesterov |  0.31  | \n",
    "| Adam |  0.26  |\n",
    "| Adagrad |  0.33  |\n",
    "| Adadelta |  0.70  | \n",
    "| Adamax |  0.28  |\n",
    "| **RMSprop** |  **0.24** | \n",
    "\n",
    "\n",
    "### Batch normalozation\n",
    "- With dropouts from the regularization part\n",
    "- We employed the best optimizer for the model from the previous table\n",
    "\n",
    "| Model Name | Optimizer| Training Loss | Test Loss |\n",
    "|------------|----------|----------|----------|\n",
    "| Model B |  RMSprop  |  0.21  | 0.25  |\n"
   ]
  }
 ],
 "metadata": {
  "accelerator": "GPU",
  "colab": {
   "collapsed_sections": [
    "P_xGYFrsjG0R",
    "N1RZUje2t222",
    "tOQfnZq1t23G",
    "yaZQCztQt23X"
   ],
   "name": "California_Housing_Values_FNN_with_PyTorch.ipynb",
   "provenance": []
  },
  "kernelspec": {
   "display_name": "Python 3",
   "language": "python",
   "name": "python3"
  },
  "language_info": {
   "codemirror_mode": {
    "name": "ipython",
    "version": 3
   },
   "file_extension": ".py",
   "mimetype": "text/x-python",
   "name": "python",
   "nbconvert_exporter": "python",
   "pygments_lexer": "ipython3",
   "version": "3.8.5"
  }
 },
 "nbformat": 4,
 "nbformat_minor": 4
}
