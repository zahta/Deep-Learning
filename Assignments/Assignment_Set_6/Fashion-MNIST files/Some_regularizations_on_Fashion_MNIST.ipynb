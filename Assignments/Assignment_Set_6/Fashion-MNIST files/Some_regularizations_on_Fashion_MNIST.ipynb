{
 "cells": [
  {
   "cell_type": "markdown",
   "metadata": {
    "id": "X2-J5npxNEoc"
   },
   "source": [
    "# Some regularizations on [Fashion-MNIST](https://github.com/zalandoresearch/fashion-mnist)\n",
    "By [Zahra Taheri](https://github.com/zahta), November 1, 2020"
   ]
  },
  {
   "cell_type": "markdown",
   "metadata": {
    "id": "u_O6dsNy0mRK"
   },
   "source": [
    "### Import libraries"
   ]
  },
  {
   "cell_type": "code",
   "execution_count": 1,
   "metadata": {
    "id": "Y3VbdIvl0mRN"
   },
   "outputs": [],
   "source": [
    "import numpy as np\n",
    "import pandas as pd\n",
    "import torch\n",
    "\n",
    "import matplotlib as mpl\n",
    "import matplotlib.pyplot as plt\n",
    "\n",
    "import os\n",
    "\n",
    "import warnings\n",
    "warnings.filterwarnings('ignore')"
   ]
  },
  {
   "cell_type": "code",
   "execution_count": 2,
   "metadata": {
    "id": "2iV7WtWCNEoi",
    "outputId": "20cca78b-36bb-41f4-a212-30251611d359"
   },
   "outputs": [
    {
     "name": "stdout",
     "output_type": "stream",
     "text": [
      "C:\\Users\\Zahra\\github\\Deep_Learning_F20_Assignments\\Assignments\\Assignment_Set_6\\Fashion-MNIST files\\Fashion-MNIST\n"
     ]
    }
   ],
   "source": [
    "#Define path to the directory\n",
    "\n",
    "path = os.getcwd()\n",
    "\n",
    "mypath = path+\"\\Fashion-MNIST\"\n",
    "\n",
    "os.chdir(mypath)\n",
    "\n",
    "print(os.getcwd())"
   ]
  },
  {
   "cell_type": "markdown",
   "metadata": {
    "id": "q-GvNeGE0mRY"
   },
   "source": [
    "## Loading Fashion-MNIST into NumPy arrays"
   ]
  },
  {
   "cell_type": "code",
   "execution_count": 3,
   "metadata": {
    "id": "Rx3IlP5i0mR2"
   },
   "outputs": [],
   "source": [
    "from mlxtend.data import loadlocal_mnist\n",
    "\n",
    "#load train_data and train_labels\n",
    "train_data, train_labels= loadlocal_mnist(\n",
    "        images_path='train-images-idx3-ubyte', \n",
    "        labels_path='train-labels-idx1-ubyte')\n",
    "#load test_data and test_labels\n",
    "test_data, test_labels= loadlocal_mnist(\n",
    "        images_path='t10k-images-idx3-ubyte', \n",
    "        labels_path='t10k-labels-idx1-ubyte')"
   ]
  },
  {
   "cell_type": "code",
   "execution_count": 4,
   "metadata": {
    "colab": {
     "base_uri": "https://localhost:8080/",
     "height": 51
    },
    "id": "6JD5-QX00mSM",
    "outputId": "813e3529-9ac7-4d43-b8e9-ac96500c6bb4"
   },
   "outputs": [
    {
     "name": "stdout",
     "output_type": "stream",
     "text": [
      "(60000, 784)\n",
      "(60000,)\n"
     ]
    }
   ],
   "source": [
    "print(train_data.shape)   # 28*28=784\n",
    "print(train_labels.shape)"
   ]
  },
  {
   "cell_type": "code",
   "execution_count": 5,
   "metadata": {
    "colab": {
     "base_uri": "https://localhost:8080/",
     "height": 248
    },
    "id": "7C9kffTe0mSW",
    "outputId": "85319504-8a4a-40ae-f9be-d80e476b0634"
   },
   "outputs": [
    {
     "data": {
      "image/png": "[encoded data removed]",
      "text/plain": [
       "<Figure size 432x288 with 1 Axes>"
      ]
     },
     "metadata": {
      "needs_background": "light"
     },
     "output_type": "display_data"
    }
   ],
   "source": [
    "some_digit = train_data[11000]\n",
    "some_digit_image = some_digit.reshape(28, 28)\n",
    "plt.imshow(some_digit_image)#, cmap = mpl.cm.binary)\n",
    "plt.axis(\"off\")\n",
    "plt.show()"
   ]
  },
  {
   "cell_type": "code",
   "execution_count": 6,
   "metadata": {
    "id": "H7nmneMWNEox"
   },
   "outputs": [],
   "source": [
    "from PIL import Image\n",
    "import numpy as np\n",
    "\n",
    "PIL_image = Image.fromarray(np.uint8(some_digit_image))"
   ]
  },
  {
   "cell_type": "code",
   "execution_count": 7,
   "metadata": {
    "id": "xdH8h1GVNEo0",
    "outputId": "883b138b-b0d4-4fc1-eda0-e0a3a97bbb2b"
   },
   "outputs": [
    {
     "data": {
      "image/png": "[encoded data removed]",
      "text/plain": [
       "<Figure size 432x288 with 1 Axes>"
      ]
     },
     "metadata": {
      "needs_background": "light"
     },
     "output_type": "display_data"
    }
   ],
   "source": [
    "plt.imshow(PIL_image)\n",
    "plt.axis(\"off\")\n",
    "plt.show()"
   ]
  },
  {
   "cell_type": "markdown",
   "metadata": {
    "id": "_KAFsK2q0mSg"
   },
   "source": [
    "## Preparation of the dataset"
   ]
  },
  {
   "cell_type": "code",
   "execution_count": 8,
   "metadata": {
    "id": "zjBZmMz7NEo5"
   },
   "outputs": [],
   "source": [
    "device = torch.device('cuda:0' if torch.cuda.is_available() else 'cpu')"
   ]
  },
  {
   "cell_type": "code",
   "execution_count": 9,
   "metadata": {
    "id": "Jxn4XbvWNEo8"
   },
   "outputs": [],
   "source": [
    "train_data= train_data.reshape((train_data.shape[0],28,28))\n",
    "test_data= test_data.reshape((test_data.shape[0],28,28))"
   ]
  },
  {
   "cell_type": "code",
   "execution_count": 10,
   "metadata": {
    "id": "ByIWaSIBNEo_"
   },
   "outputs": [],
   "source": [
    "from torch.utils.data import TensorDataset, DataLoader\n",
    "\n",
    "tensor_x = torch.Tensor(train_data) # transform to torch tensor\n",
    "tensor_y = torch.Tensor(train_labels)\n",
    "tensor_y = tensor_y.type(torch.LongTensor)\n",
    "\n",
    "train_dataset = TensorDataset(tensor_x,tensor_y) # create your dataset"
   ]
  },
  {
   "cell_type": "code",
   "execution_count": 11,
   "metadata": {
    "id": "EPLRiia-NEpC"
   },
   "outputs": [],
   "source": [
    "tensor_x2 = torch.Tensor(test_data) # transform to torch tensor\n",
    "tensor_y2 = torch.Tensor(test_labels)\n",
    "tensor_y2 = tensor_y2.type(torch.LongTensor)\n",
    "\n",
    "test_dataset = TensorDataset(tensor_x2,tensor_y2) # create your test dataset"
   ]
  },
  {
   "cell_type": "code",
   "execution_count": 12,
   "metadata": {
    "id": "GHBESEfFNEpF",
    "outputId": "f6fb3b33-439e-4000-cced-322bfd4ce769"
   },
   "outputs": [
    {
     "data": {
      "text/plain": [
       "tensor([9, 0, 0,  ..., 3, 0, 5])"
      ]
     },
     "execution_count": 12,
     "metadata": {},
     "output_type": "execute_result"
    }
   ],
   "source": [
    "tensor_y"
   ]
  },
  {
   "cell_type": "code",
   "execution_count": 13,
   "metadata": {
    "id": "6BecBKjZNEpI"
   },
   "outputs": [],
   "source": [
    "#train_dataset[0]"
   ]
  },
  {
   "cell_type": "markdown",
   "metadata": {
    "id": "ly6BvMfdNEpL"
   },
   "source": [
    "## Building Feedforward Neural Networks with PyTorch"
   ]
  },
  {
   "cell_type": "code",
   "execution_count": 14,
   "metadata": {
    "id": "bQrU0M5ujGzY"
   },
   "outputs": [],
   "source": [
    "# import libraries\n",
    "import torch\n",
    "import torch.nn as nn\n",
    "\n",
    "from torch.autograd import Variable\n",
    "from torchsummary import summary"
   ]
  },
  {
   "cell_type": "markdown",
   "metadata": {
    "id": "3p2Us_9CNEpO"
   },
   "source": [
    "## L2 regularization"
   ]
  },
  {
   "cell_type": "markdown",
   "metadata": {
    "id": "D5mH7A1XNEpP"
   },
   "source": [
    "### Model A: 2 Hidden Layers Feedforward Neural Network (ReLU Activation)"
   ]
  },
  {
   "cell_type": "markdown",
   "metadata": {
    "id": "moUYlHczjGyB"
   },
   "source": [
    "#### Make dataset iterable"
   ]
  },
  {
   "cell_type": "code",
   "execution_count": 15,
   "metadata": {
    "colab": {
     "base_uri": "https://localhost:8080/",
     "height": 34
    },
    "id": "kiINnzp_jGyC",
    "outputId": "5daec701-edf8-45a3-beeb-0cd636036856"
   },
   "outputs": [
    {
     "name": "stdout",
     "output_type": "stream",
     "text": [
      "16\n"
     ]
    }
   ],
   "source": [
    "batch_size = 100\n",
    "n_iters = 10000\n",
    "num_epochs = n_iters / (len(train_data) / batch_size)\n",
    "num_epochs = int(num_epochs)\n",
    "print(num_epochs)"
   ]
  },
  {
   "cell_type": "code",
   "execution_count": 16,
   "metadata": {
    "id": "0pau-vjSjGyP"
   },
   "outputs": [],
   "source": [
    "train_loader = DataLoader(train_dataset, batch_size=batch_size, shuffle=True) # create your dataloader\n",
    "\n",
    "test_loader = DataLoader(test_dataset, batch_size=batch_size,  shuffle=False)"
   ]
  },
  {
   "cell_type": "markdown",
   "metadata": {
    "id": "joejzZ82NEpV"
   },
   "source": [
    "### Create model class"
   ]
  },
  {
   "cell_type": "code",
   "execution_count": 17,
   "metadata": {
    "id": "p768kRF8NEpW"
   },
   "outputs": [],
   "source": [
    "class FeedforwardNeuralNetworkModel(nn.Module):\n",
    "    def __init__(self, input_size, hidden_size, num_classes):\n",
    "        super(FeedforwardNeuralNetworkModel, self).__init__()\n",
    "        # linear function 1: \n",
    "        self.fc1 = nn.Linear(input_dim, hidden_dim)\n",
    "        # non-linearity 1\n",
    "        self.relu1 = nn.ReLU()\n",
    "        \n",
    "        # linear function 2:\n",
    "        self.fc2 = nn.Linear(hidden_dim, hidden_dim)\n",
    "        # non-linearity 2\n",
    "        self.relu2 = nn.ReLU()\n",
    "        \n",
    "        # linear function (readout)\n",
    "        self.fc3 = nn.Linear(hidden_dim, output_dim)\n",
    "        \n",
    "    def forward(self, x):\n",
    "        # linear function 1\n",
    "        out = self.fc1(x)\n",
    "        # non-linearity 1\n",
    "        out = self.relu1(out)\n",
    "        \n",
    "        # linear function 2\n",
    "        out = self.fc2(out)\n",
    "        # non-linearity 2\n",
    "        out = self.relu2(out)\n",
    "        \n",
    "        #linear function 3 (readout)\n",
    "        out = self.fc3(out)\n",
    "        return out       \n",
    "    "
   ]
  },
  {
   "cell_type": "code",
   "execution_count": 18,
   "metadata": {
    "id": "MQAHDuLGNEpZ",
    "outputId": "fd3c0baf-fa35-4cbf-8fb0-c8e8bcb4cffe"
   },
   "outputs": [
    {
     "data": {
      "text/plain": [
       "FeedforwardNeuralNetworkModel(\n",
       "  (fc1): Linear(in_features=784, out_features=100, bias=True)\n",
       "  (relu1): ReLU()\n",
       "  (fc2): Linear(in_features=100, out_features=100, bias=True)\n",
       "  (relu2): ReLU()\n",
       "  (fc3): Linear(in_features=100, out_features=10, bias=True)\n",
       ")"
      ]
     },
     "execution_count": 18,
     "metadata": {},
     "output_type": "execute_result"
    }
   ],
   "source": [
    "#  Instantiate model class\n",
    "input_dim = 28*28\n",
    "output_dim = 10\n",
    "hidden_dim = 100 \n",
    "\n",
    "model = FeedforwardNeuralNetworkModel(input_dim, hidden_dim, output_dim)\n",
    "\n",
    "#######################\n",
    "#  USE GPU FOR MODEL  #\n",
    "#######################\n",
    "model.to(device)\n",
    "    "
   ]
  },
  {
   "cell_type": "code",
   "execution_count": 19,
   "metadata": {
    "id": "GAepRUX_NEpd",
    "outputId": "39dd3804-84fc-48b4-9ef3-94596b0fb7f9"
   },
   "outputs": [
    {
     "name": "stdout",
     "output_type": "stream",
     "text": [
      "----------------------------------------------------------------\n",
      "        Layer (type)               Output Shape         Param #\n",
      "================================================================\n",
      "            Linear-1               [-1, 1, 100]          78,500\n",
      "              ReLU-2               [-1, 1, 100]               0\n",
      "            Linear-3               [-1, 1, 100]          10,100\n",
      "              ReLU-4               [-1, 1, 100]               0\n",
      "            Linear-5                [-1, 1, 10]           1,010\n",
      "================================================================\n",
      "Total params: 89,610\n",
      "Trainable params: 89,610\n",
      "Non-trainable params: 0\n",
      "----------------------------------------------------------------\n",
      "Input size (MB): 0.00\n",
      "Forward/backward pass size (MB): 0.00\n",
      "Params size (MB): 0.34\n",
      "Estimated Total Size (MB): 0.35\n",
      "----------------------------------------------------------------\n"
     ]
    }
   ],
   "source": [
    "summary(model, (1,28*28))"
   ]
  },
  {
   "cell_type": "code",
   "execution_count": 20,
   "metadata": {
    "id": "siiek5hPNEpf"
   },
   "outputs": [],
   "source": [
    "#  Instantiate loss class\n",
    "criterion=nn.CrossEntropyLoss()\n",
    "\n",
    "#  Instantiate optimizer class\n",
    "learning_rate = 0.001\n",
    "LAMBDA = 0.08\n",
    "optimizer = torch.optim.SGD(model.parameters(), lr=learning_rate, weight_decay=LAMBDA)"
   ]
  },
  {
   "cell_type": "markdown",
   "metadata": {
    "id": "PbzR7qkJNEpi"
   },
   "source": [
    "#### Train the model with L2 regularization"
   ]
  },
  {
   "cell_type": "code",
   "execution_count": 21,
   "metadata": {
    "id": "5wzH9fjPNEpj",
    "outputId": "3d03709f-7167-4886-87b3-0b0f71965846"
   },
   "outputs": [
    {
     "name": "stdout",
     "output_type": "stream",
     "text": [
      "Iteration: 500. Loss: 0.5490452647209167. Accuracy: 79\n",
      "Iteration: 1000. Loss: 0.5463058352470398. Accuracy: 81\n",
      "Iteration: 1500. Loss: 0.43616917729377747. Accuracy: 83\n",
      "Iteration: 2000. Loss: 0.4434066116809845. Accuracy: 82\n",
      "Iteration: 2500. Loss: 0.40014100074768066. Accuracy: 83\n",
      "Iteration: 3000. Loss: 0.3653157949447632. Accuracy: 85\n",
      "Iteration: 3500. Loss: 0.47124138474464417. Accuracy: 85\n",
      "Iteration: 4000. Loss: 0.4155188798904419. Accuracy: 85\n",
      "Iteration: 4500. Loss: 0.33549395203590393. Accuracy: 85\n",
      "Iteration: 5000. Loss: 0.31972867250442505. Accuracy: 86\n",
      "Iteration: 5500. Loss: 0.35833287239074707. Accuracy: 86\n",
      "Iteration: 6000. Loss: 0.5030900239944458. Accuracy: 86\n",
      "Iteration: 6500. Loss: 0.40233394503593445. Accuracy: 86\n",
      "Iteration: 7000. Loss: 0.3460851013660431. Accuracy: 86\n",
      "Iteration: 7500. Loss: 0.35292717814445496. Accuracy: 86\n",
      "Iteration: 8000. Loss: 0.3967834711074829. Accuracy: 86\n",
      "Iteration: 8500. Loss: 0.20996347069740295. Accuracy: 86\n",
      "Iteration: 9000. Loss: 0.3504033386707306. Accuracy: 86\n",
      "Iteration: 9500. Loss: 0.4085371494293213. Accuracy: 86\n"
     ]
    }
   ],
   "source": [
    "# Train the model\n",
    "\n",
    "train_loss = []\n",
    "train_accuracy = []\n",
    "\n",
    "iter = 0\n",
    "for epoch in range(num_epochs):\n",
    "    \n",
    "    '''\n",
    "    One iteration\n",
    "    '''\n",
    "    # Calculate Accuracy         \n",
    "    correct_1 = 0\n",
    "    total_1 = 0\n",
    "    for i, (images, labels) in enumerate(train_loader):\n",
    "        #######################\n",
    "        #  USE GPU FOR MODEL  #\n",
    "        #######################\n",
    "        if torch.cuda.is_available():\n",
    "            images = Variable(images.view(-1, 28*28).to(device))\n",
    "            labels = Variable(labels.to(device))\n",
    "        else:\n",
    "            images = Variable(images.view(-1, 28*28))\n",
    "            labels = Variable(labels)\n",
    "        \n",
    "        # Forward pass to get output/logits\n",
    "        outputs = model(images)\n",
    "        \n",
    "        '''\n",
    "        Save accuracy to draw accuracy curve\n",
    "        '''\n",
    "        # Get predictions from the maximum value\n",
    "        _, predicted = torch.max(outputs.data, 1)\n",
    "                \n",
    "        # Total number of labels\n",
    "        total_1 += labels.size(0)\n",
    "           \n",
    "        #######################\n",
    "        #  USE GPU FOR MODEL  #\n",
    "        #######################\n",
    "        # Total correct predictions\n",
    "        if torch.cuda.is_available():\n",
    "                    correct_1 += (predicted.cpu() == labels.cpu()).sum() # because .sum() function does not work on GPU\n",
    "        else:                \n",
    "                    correct_1 += (predicted == labels).sum()\n",
    "            \n",
    "        accuracy = 100 * correct_1 // total_1\n",
    "        train_accuracy.append(accuracy)\n",
    "        ''''''\n",
    "        \n",
    "        \n",
    "        # Clear gradients w.r.t. parameters\n",
    "        optimizer.zero_grad()\n",
    "        \n",
    "        # Calculate Loss: softmax --> cross entropy loss\n",
    "        loss = criterion(outputs, labels)\n",
    "        \n",
    "        \n",
    "        '''\n",
    "        Save loss to draw accuracy curve\n",
    "        '''\n",
    "        train_loss.append(loss)\n",
    "        ''''''\n",
    "        \n",
    "        \n",
    "        # Getting gradients w.r.t. parameters\n",
    "        loss.backward()\n",
    "        \n",
    "        # Updating parameters\n",
    "        optimizer.step()\n",
    "        ''''''\n",
    "        \n",
    "        iter += 1\n",
    "    \n",
    "        # Testing the model\n",
    "        if iter % 500 == 0:\n",
    "            # Calculate Accuracy         \n",
    "            correct = 0\n",
    "            total = 0\n",
    "            # Iterate through test dataset\n",
    "            for images, labels in test_loader:\n",
    "                #######################\n",
    "                #  USE GPU FOR MODEL  #\n",
    "                #######################\n",
    "                if torch.cuda.is_available():\n",
    "                    images = Variable(images.view(-1, 28*28).to(device))\n",
    "                else:\n",
    "                    images = Variable(images.view(-1, 28*28))    \n",
    "                    \n",
    "                # Forward pass only to get logits/output\n",
    "                outputs = model(images)\n",
    "                \n",
    "                # Get predictions from the maximum value\n",
    "                _, predicted = torch.max(outputs.data, 1)\n",
    "                \n",
    "                # Total number of labels\n",
    "                total += labels.size(0)\n",
    "           \n",
    "                #######################\n",
    "                #  USE GPU FOR MODEL  #\n",
    "                #######################\n",
    "                # Total correct predictions\n",
    "                if torch.cuda.is_available():\n",
    "                    correct += (predicted.cpu() == labels.cpu()).sum() # because .sum() function does not work on GPU\n",
    "                else:                \n",
    "                    correct += (predicted == labels).sum()\n",
    "            \n",
    "            accuracy = 100 * correct // total\n",
    "            \n",
    "            # Print Loss\n",
    "            print('Iteration: {}. Loss: {}. Accuracy: {}'.format(iter, loss.data, accuracy))\n",
    "            "
   ]
  },
  {
   "cell_type": "code",
   "execution_count": 22,
   "metadata": {
    "id": "wCaJBjbdNEpl",
    "outputId": "790fbe19-0599-459e-a89d-c53112d8d00d"
   },
   "outputs": [
    {
     "data": {
      "image/png": "[encoded data removed]",
      "text/plain": [
       "<Figure size 576x360 with 1 Axes>"
      ]
     },
     "metadata": {
      "needs_background": "light"
     },
     "output_type": "display_data"
    },
    {
     "data": {
      "image/png": "[encoded data removed]",
      "text/plain": [
       "<Figure size 576x360 with 1 Axes>"
      ]
     },
     "metadata": {
      "needs_background": "light"
     },
     "output_type": "display_data"
    }
   ],
   "source": [
    "#Plots the loss and accuracy curves\n",
    "\n",
    "plt.figure(figsize=(8,5))\n",
    "plt.plot(range(len(train_loss)), train_loss)\n",
    "plt.xlabel(\"Iteration\")\n",
    "plt.ylabel(\"Cross entropy loss\")\n",
    "plt.title(\"Loss curve for training\")\n",
    "plt.show()\n",
    "\n",
    "plt.figure(figsize=(8,5))\n",
    "plt.plot(range(len(train_accuracy)), train_accuracy, c='r')\n",
    "plt.xlabel(\"Iteration\")\n",
    "plt.ylabel(\"Accuracy\")\n",
    "plt.title(\"Accuracy curve for training\")\n",
    "plt.show()"
   ]
  },
  {
   "cell_type": "code",
   "execution_count": 23,
   "metadata": {
    "id": "wXDWOuq9NEpo"
   },
   "outputs": [],
   "source": [
    "save_model = True\n",
    "if save_model is True:\n",
    "    torch.save(model.state_dict(), path+\"\\\\regularization_fashion-mnist-A.pkl\")# only save parameters"
   ]
  },
  {
   "cell_type": "markdown",
   "metadata": {
    "id": "BMAFDQfaNEpr"
   },
   "source": [
    "### Model B: 3 Hidden Layers Feedforward Neural Network (ReLU Activation)"
   ]
  },
  {
   "cell_type": "markdown",
   "metadata": {
    "id": "TuUJmotqNEpr"
   },
   "source": [
    "#### Make dataset iterable"
   ]
  },
  {
   "cell_type": "code",
   "execution_count": 24,
   "metadata": {
    "colab": {
     "base_uri": "https://localhost:8080/",
     "height": 34
    },
    "id": "TOAbYB0uNEps",
    "outputId": "5daec701-edf8-45a3-beeb-0cd636036856"
   },
   "outputs": [
    {
     "name": "stdout",
     "output_type": "stream",
     "text": [
      "25\n"
     ]
    }
   ],
   "source": [
    "batch_size = 50\n",
    "n_iters = 30000\n",
    "num_epochs = n_iters / (len(train_data) / batch_size)\n",
    "num_epochs = int(num_epochs)\n",
    "print(num_epochs)"
   ]
  },
  {
   "cell_type": "code",
   "execution_count": 25,
   "metadata": {
    "id": "xCqSUTaKNEpu"
   },
   "outputs": [],
   "source": [
    "train_loader = DataLoader(train_dataset, batch_size=batch_size, shuffle=True) # create your dataloader\n",
    "\n",
    "test_loader = DataLoader(test_dataset, batch_size=batch_size,  shuffle=False)"
   ]
  },
  {
   "cell_type": "markdown",
   "metadata": {
    "id": "s4X2_RuINEpw"
   },
   "source": [
    "#### Create model class"
   ]
  },
  {
   "cell_type": "code",
   "execution_count": 26,
   "metadata": {
    "id": "7iPLJ557NEpx"
   },
   "outputs": [],
   "source": [
    "class FeedforwardNeuralNetworkModel(nn.Module):\n",
    "    def __init__(self, input_size, hidden_size, num_classes):\n",
    "        super(FeedforwardNeuralNetworkModel, self).__init__()\n",
    "        # linear function 1: \n",
    "        self.fc1 = nn.Linear(input_dim, hidden_dim)\n",
    "        # non-linearity 1\n",
    "        self.relu1 = nn.ReLU()\n",
    "        \n",
    "        # linear function 2: \n",
    "        self.fc2 = nn.Linear(hidden_dim, hidden_dim)\n",
    "        # non-linearity 2\n",
    "        self.relu2 = nn.ReLU()\n",
    "        \n",
    "        # linear function 3: \n",
    "        self.fc3 = nn.Linear(hidden_dim, hidden_dim)\n",
    "        # non-linearity 3\n",
    "        self.relu3 = nn.ReLU()\n",
    "        \n",
    "        # linear function 4 (readout)\n",
    "        self.fc4 = nn.Linear(hidden_dim, output_dim)\n",
    "        \n",
    "    def forward(self, x):\n",
    "        # linear function 1\n",
    "        out = self.fc1(x)\n",
    "        # non-linearity 1\n",
    "        out = self.relu1(out)\n",
    "        \n",
    "        # linear function 2\n",
    "        out = self.fc2(out)\n",
    "        # non-linearity 2\n",
    "        out = self.relu2(out)\n",
    "        \n",
    "        # linear function 3\n",
    "        out = self.fc3(out)\n",
    "        # non-linearity 3\n",
    "        out = self.relu3(out)\n",
    "        \n",
    "        #linear function 4 (readout)\n",
    "        out = self.fc4(out)\n",
    "        return out       \n",
    "    "
   ]
  },
  {
   "cell_type": "code",
   "execution_count": 27,
   "metadata": {
    "id": "B18x_ogONEpz",
    "outputId": "aafbb03d-6ca6-4508-dcce-e9bffe8545c0"
   },
   "outputs": [
    {
     "data": {
      "text/plain": [
       "FeedforwardNeuralNetworkModel(\n",
       "  (fc1): Linear(in_features=784, out_features=100, bias=True)\n",
       "  (relu1): ReLU()\n",
       "  (fc2): Linear(in_features=100, out_features=100, bias=True)\n",
       "  (relu2): ReLU()\n",
       "  (fc3): Linear(in_features=100, out_features=100, bias=True)\n",
       "  (relu3): ReLU()\n",
       "  (fc4): Linear(in_features=100, out_features=10, bias=True)\n",
       ")"
      ]
     },
     "execution_count": 27,
     "metadata": {},
     "output_type": "execute_result"
    }
   ],
   "source": [
    "#  Instantiate model class\n",
    "input_dim = 28*28\n",
    "output_dim = 10\n",
    "hidden_dim = 100 \n",
    "\n",
    "model = FeedforwardNeuralNetworkModel(input_dim, hidden_dim, output_dim)\n",
    "\n",
    "#######################\n",
    "#  USE GPU FOR MODEL  #\n",
    "#######################\n",
    "model.to(device)\n",
    "    "
   ]
  },
  {
   "cell_type": "code",
   "execution_count": 28,
   "metadata": {
    "id": "wouJ1IcLNEp2",
    "outputId": "a5fa62c8-1895-4ea5-da93-d72fd304fb00"
   },
   "outputs": [
    {
     "name": "stdout",
     "output_type": "stream",
     "text": [
      "----------------------------------------------------------------\n",
      "        Layer (type)               Output Shape         Param #\n",
      "================================================================\n",
      "            Linear-1               [-1, 1, 100]          78,500\n",
      "              ReLU-2               [-1, 1, 100]               0\n",
      "            Linear-3               [-1, 1, 100]          10,100\n",
      "              ReLU-4               [-1, 1, 100]               0\n",
      "            Linear-5               [-1, 1, 100]          10,100\n",
      "              ReLU-6               [-1, 1, 100]               0\n",
      "            Linear-7                [-1, 1, 10]           1,010\n",
      "================================================================\n",
      "Total params: 99,710\n",
      "Trainable params: 99,710\n",
      "Non-trainable params: 0\n",
      "----------------------------------------------------------------\n",
      "Input size (MB): 0.00\n",
      "Forward/backward pass size (MB): 0.00\n",
      "Params size (MB): 0.38\n",
      "Estimated Total Size (MB): 0.39\n",
      "----------------------------------------------------------------\n"
     ]
    }
   ],
   "source": [
    "summary(model, (1,28*28))"
   ]
  },
  {
   "cell_type": "code",
   "execution_count": 29,
   "metadata": {
    "id": "2vHSWoi4NEp5"
   },
   "outputs": [],
   "source": [
    "#  Instantiate loss class\n",
    "criterion=nn.CrossEntropyLoss()\n",
    "\n",
    "#  Instantiate optimizer class\n",
    "learning_rate = 0.001\n",
    "LAMBDA = 0.08\n",
    "optimizer = torch.optim.SGD(model.parameters(), lr=learning_rate, weight_decay=LAMBDA)"
   ]
  },
  {
   "cell_type": "markdown",
   "metadata": {
    "id": "BNczts6hNEp7"
   },
   "source": [
    "#### Train the model with L2 regularization"
   ]
  },
  {
   "cell_type": "code",
   "execution_count": 30,
   "metadata": {
    "id": "jg1m9X23NEp8",
    "outputId": "9a25e59a-37ef-4523-d706-9648dffa2990"
   },
   "outputs": [
    {
     "name": "stdout",
     "output_type": "stream",
     "text": [
      "Iteration: 1000. Loss: 0.4918474555015564. Accuracy: 81\n",
      "Iteration: 2000. Loss: 0.5597603917121887. Accuracy: 83\n",
      "Iteration: 3000. Loss: 0.44303128123283386. Accuracy: 83\n",
      "Iteration: 4000. Loss: 0.6555835008621216. Accuracy: 84\n",
      "Iteration: 5000. Loss: 0.40862977504730225. Accuracy: 85\n",
      "Iteration: 6000. Loss: 0.39441603422164917. Accuracy: 85\n",
      "Iteration: 7000. Loss: 0.5132167935371399. Accuracy: 85\n",
      "Iteration: 8000. Loss: 0.29234403371810913. Accuracy: 85\n",
      "Iteration: 9000. Loss: 0.48572102189064026. Accuracy: 85\n",
      "Iteration: 10000. Loss: 0.29445114731788635. Accuracy: 84\n",
      "Iteration: 11000. Loss: 0.38881373405456543. Accuracy: 86\n",
      "Iteration: 12000. Loss: 0.36642637848854065. Accuracy: 85\n",
      "Iteration: 13000. Loss: 0.5251083374023438. Accuracy: 86\n",
      "Iteration: 14000. Loss: 0.36304742097854614. Accuracy: 86\n",
      "Iteration: 15000. Loss: 0.32579195499420166. Accuracy: 86\n",
      "Iteration: 16000. Loss: 0.2608204782009125. Accuracy: 86\n",
      "Iteration: 17000. Loss: 0.32004863023757935. Accuracy: 85\n",
      "Iteration: 18000. Loss: 0.26080232858657837. Accuracy: 85\n",
      "Iteration: 19000. Loss: 0.42244642972946167. Accuracy: 85\n",
      "Iteration: 20000. Loss: 0.6598057746887207. Accuracy: 86\n",
      "Iteration: 21000. Loss: 0.4707738161087036. Accuracy: 85\n",
      "Iteration: 22000. Loss: 0.4019564092159271. Accuracy: 86\n",
      "Iteration: 23000. Loss: 0.23347744345664978. Accuracy: 86\n",
      "Iteration: 24000. Loss: 0.3739044964313507. Accuracy: 85\n",
      "Iteration: 25000. Loss: 0.29072901606559753. Accuracy: 85\n",
      "Iteration: 26000. Loss: 0.29308974742889404. Accuracy: 85\n",
      "Iteration: 27000. Loss: 0.46739548444747925. Accuracy: 85\n",
      "Iteration: 28000. Loss: 0.2370411902666092. Accuracy: 86\n",
      "Iteration: 29000. Loss: 0.28026703000068665. Accuracy: 84\n",
      "Iteration: 30000. Loss: 0.422957181930542. Accuracy: 85\n"
     ]
    }
   ],
   "source": [
    "# Train the model\n",
    "\n",
    "train_loss = []\n",
    "train_accuracy = []\n",
    "\n",
    "iter = 0\n",
    "for epoch in range(num_epochs):\n",
    "    \n",
    "    '''\n",
    "    One iteration\n",
    "    '''\n",
    "    # Calculate Accuracy         \n",
    "    correct_1 = 0\n",
    "    total_1 = 0\n",
    "    for i, (images, labels) in enumerate(train_loader):\n",
    "        #######################\n",
    "        #  USE GPU FOR MODEL  #\n",
    "        #######################\n",
    "        if torch.cuda.is_available():\n",
    "            images = Variable(images.view(-1, 28*28).to(device))\n",
    "            labels = Variable(labels.to(device))\n",
    "        else:\n",
    "            images = Variable(images.view(-1, 28*28))\n",
    "            labels = Variable(labels)\n",
    "        \n",
    "        # Forward pass to get output/logits\n",
    "        outputs = model(images)\n",
    "        \n",
    "        '''\n",
    "        Save accuracy to draw accuracy curve\n",
    "        '''\n",
    "        # Get predictions from the maximum value\n",
    "        _, predicted = torch.max(outputs.data, 1)\n",
    "                \n",
    "        # Total number of labels\n",
    "        total_1 += labels.size(0)\n",
    "           \n",
    "        #######################\n",
    "        #  USE GPU FOR MODEL  #\n",
    "        #######################\n",
    "        # Total correct predictions\n",
    "        if torch.cuda.is_available():\n",
    "                    correct_1 += (predicted.cpu() == labels.cpu()).sum() # because .sum() function does not work on GPU\n",
    "        else:                \n",
    "                    correct_1 += (predicted == labels).sum()\n",
    "            \n",
    "        accuracy = 100 * correct_1 // total_1\n",
    "        train_accuracy.append(accuracy)\n",
    "        ''''''\n",
    "        \n",
    "        \n",
    "        # Clear gradients w.r.t. parameters\n",
    "        optimizer.zero_grad()\n",
    "        \n",
    "        # Calculate Loss: softmax --> cross entropy loss\n",
    "        loss = criterion(outputs, labels)\n",
    "        \n",
    "        \n",
    "        '''\n",
    "        Save loss to draw accuracy curve\n",
    "        '''\n",
    "        train_loss.append(loss)\n",
    "        ''''''\n",
    "        \n",
    "        \n",
    "        # Getting gradients w.r.t. parameters\n",
    "        loss.backward()\n",
    "        \n",
    "        # Updating parameters\n",
    "        optimizer.step()\n",
    "        ''''''\n",
    "        \n",
    "        iter += 1\n",
    "    \n",
    "        # Testing the model\n",
    "        if iter % 1000 == 0:\n",
    "            # Calculate Accuracy         \n",
    "            correct = 0\n",
    "            total = 0\n",
    "            # Iterate through test dataset\n",
    "            for images, labels in test_loader:\n",
    "                #######################\n",
    "                #  USE GPU FOR MODEL  #\n",
    "                #######################\n",
    "                if torch.cuda.is_available():\n",
    "                    images = Variable(images.view(-1, 28*28).to(device))\n",
    "                else:\n",
    "                    images = Variable(images.view(-1, 28*28))    \n",
    "                    \n",
    "                # Forward pass only to get logits/output\n",
    "                outputs = model(images)\n",
    "                \n",
    "                # Get predictions from the maximum value\n",
    "                _, predicted = torch.max(outputs.data, 1)\n",
    "                \n",
    "                # Total number of labels\n",
    "                total += labels.size(0)\n",
    "           \n",
    "                #######################\n",
    "                #  USE GPU FOR MODEL  #\n",
    "                #######################\n",
    "                # Total correct predictions\n",
    "                if torch.cuda.is_available():\n",
    "                    correct += (predicted.cpu() == labels.cpu()).sum() # because .sum() function does not work on GPU\n",
    "                else:                \n",
    "                    correct += (predicted == labels).sum()\n",
    "            \n",
    "            accuracy = 100 * correct // total\n",
    "            \n",
    "            # Print Loss\n",
    "            print('Iteration: {}. Loss: {}. Accuracy: {}'.format(iter, loss.data, accuracy))\n",
    "            "
   ]
  },
  {
   "cell_type": "code",
   "execution_count": 31,
   "metadata": {
    "id": "ZId0EZvqNEp-",
    "outputId": "eae93262-ce03-4d50-c378-efb1d313bdd5"
   },
   "outputs": [
    {
     "data": {
      "image/png": "[encoded data removed]",
      "text/plain": [
       "<Figure size 576x360 with 1 Axes>"
      ]
     },
     "metadata": {
      "needs_background": "light"
     },
     "output_type": "display_data"
    },
    {
     "data": {
      "image/png": "[encoded data removed]",
      "text/plain": [
       "<Figure size 576x360 with 1 Axes>"
      ]
     },
     "metadata": {
      "needs_background": "light"
     },
     "output_type": "display_data"
    }
   ],
   "source": [
    "#Plots the loss and accuracy curves\n",
    "\n",
    "plt.figure(figsize=(8,5))\n",
    "plt.plot(range(len(train_loss)), train_loss)\n",
    "plt.xlabel(\"Iteration\")\n",
    "plt.ylabel(\"Cross entropy loss\")\n",
    "plt.title(\"Loss curve for training\")\n",
    "plt.show()\n",
    "\n",
    "plt.figure(figsize=(8,5))\n",
    "plt.plot(range(len(train_accuracy)), train_accuracy, c='r')\n",
    "plt.xlabel(\"Iteration\")\n",
    "plt.ylabel(\"Accuracy\")\n",
    "plt.title(\"Accuracy curve for training\")\n",
    "plt.show()"
   ]
  },
  {
   "cell_type": "code",
   "execution_count": 32,
   "metadata": {
    "id": "t1pbAnerNEqB"
   },
   "outputs": [],
   "source": [
    "save_model = True\n",
    "if save_model is True:\n",
    "    torch.save(model.state_dict(), path+\"\\\\regularization_fashion-mnist-B.pkl\")# only save parameters"
   ]
  },
  {
   "cell_type": "markdown",
   "metadata": {
    "id": "XWeDmVFbNEqD"
   },
   "source": [
    "### Model C: 5 Hidden Layers Feedforward Neural Network"
   ]
  },
  {
   "cell_type": "markdown",
   "metadata": {
    "id": "pT6cZOKjNEqD"
   },
   "source": [
    "#### Make dataset iterable"
   ]
  },
  {
   "cell_type": "code",
   "execution_count": 33,
   "metadata": {
    "colab": {
     "base_uri": "https://localhost:8080/",
     "height": 34
    },
    "id": "t2ZrHEKZNEqE",
    "outputId": "5daec701-edf8-45a3-beeb-0cd636036856"
   },
   "outputs": [
    {
     "data": {
      "text/plain": [
       "10"
      ]
     },
     "execution_count": 33,
     "metadata": {},
     "output_type": "execute_result"
    }
   ],
   "source": [
    "batch_size = 64\n",
    "n_iters = 9400\n",
    "num_epochs = n_iters / (len(train_dataset) / batch_size)\n",
    "num_epochs = int(num_epochs)\n",
    "num_epochs"
   ]
  },
  {
   "cell_type": "code",
   "execution_count": 34,
   "metadata": {
    "id": "q4pY1OiUNEqG"
   },
   "outputs": [],
   "source": [
    "train_loader = DataLoader(train_dataset, batch_size=batch_size, shuffle=True) # create your dataloader\n",
    "\n",
    "test_loader = DataLoader(test_dataset, batch_size=batch_size,  shuffle=False)"
   ]
  },
  {
   "cell_type": "code",
   "execution_count": 35,
   "metadata": {
    "id": "ZYQDCvAfNEqJ"
   },
   "outputs": [],
   "source": [
    "input_dim = 28*28\n",
    "output_dim = 10\n",
    "hidden_dim1 = 100 \n",
    "hidden_dim2 = 100 \n",
    "hidden_dim3 = 200 \n",
    "hidden_dim4 = 300 \n",
    "hidden_dim5 = 100 "
   ]
  },
  {
   "cell_type": "markdown",
   "metadata": {
    "id": "de9Ts_3qNEqL"
   },
   "source": [
    "#### Create model class"
   ]
  },
  {
   "cell_type": "code",
   "execution_count": 36,
   "metadata": {
    "id": "Z8Ayu62PNEqM"
   },
   "outputs": [],
   "source": [
    "class FNNModel(nn.Module):\n",
    "    def __init__(self, input_dim, hidden_dim1, hidden_dim2, hidden_dim3, hidden_dim4, hidden_dim5, output_dim):\n",
    "        \n",
    "        super(FNNModel, self).__init__()\n",
    "        \n",
    "        self.f1 = nn.Linear(input_dim,hidden_dim1)\n",
    "        self.relu1 = nn.ReLU()\n",
    "        \n",
    "        self.f2 = nn.Linear(hidden_dim1,hidden_dim2)\n",
    "        self.relu2 = nn.ReLU()\n",
    "        \n",
    "        self.f3 = nn.Linear(hidden_dim2,hidden_dim3)\n",
    "        self.sigmoid = nn.Tanh()\n",
    "        \n",
    "        self.f4 = nn.Linear(hidden_dim3,hidden_dim4)\n",
    "        self.relu3 = nn.ReLU()\n",
    "        \n",
    "        self.f5 = nn.Linear(hidden_dim4,hidden_dim5)\n",
    "        self.relu4 = nn.ReLU()\n",
    "        \n",
    "        self.f6 = nn.Linear(hidden_dim5,output_dim)\n",
    "        \n",
    "    def forward(self, x):\n",
    "        out = self.f1(x)\n",
    "        out = self.relu1(out)\n",
    "\n",
    "        out = self.f2(out)\n",
    "        out = self.relu2(out)\n",
    "        \n",
    "        out = self.f3(out)\n",
    "        out = self.sigmoid(out)\n",
    "        \n",
    "        out = self.f4(out)\n",
    "        out = self.relu3(out)\n",
    "        \n",
    "        out = self.f5(out)\n",
    "        out = self.relu4(out)\n",
    "        \n",
    "        out = self.f6(out)\n",
    "        \n",
    "        return out       \n",
    "    "
   ]
  },
  {
   "cell_type": "code",
   "execution_count": 37,
   "metadata": {
    "id": "1OozxdGZNEqO",
    "outputId": "199a9742-feac-4522-d46e-073fe93c4c9b"
   },
   "outputs": [
    {
     "data": {
      "text/plain": [
       "FNNModel(\n",
       "  (f1): Linear(in_features=784, out_features=100, bias=True)\n",
       "  (relu1): ReLU()\n",
       "  (f2): Linear(in_features=100, out_features=100, bias=True)\n",
       "  (relu2): ReLU()\n",
       "  (f3): Linear(in_features=100, out_features=200, bias=True)\n",
       "  (sigmoid): Tanh()\n",
       "  (f4): Linear(in_features=200, out_features=300, bias=True)\n",
       "  (relu3): ReLU()\n",
       "  (f5): Linear(in_features=300, out_features=100, bias=True)\n",
       "  (relu4): ReLU()\n",
       "  (f6): Linear(in_features=100, out_features=10, bias=True)\n",
       ")"
      ]
     },
     "execution_count": 37,
     "metadata": {},
     "output_type": "execute_result"
    }
   ],
   "source": [
    "model = FNNModel(input_dim, hidden_dim1, hidden_dim2, hidden_dim3, hidden_dim4, hidden_dim5, output_dim)\n",
    "\n",
    "#######################\n",
    "#  USE GPU FOR MODEL  #\n",
    "#######################\n",
    "model.to(device)"
   ]
  },
  {
   "cell_type": "code",
   "execution_count": 38,
   "metadata": {
    "id": "eg_1_wa8NEqQ",
    "outputId": "b315d955-d8da-43fb-cadd-f66bfcfc4ac3"
   },
   "outputs": [
    {
     "name": "stdout",
     "output_type": "stream",
     "text": [
      "----------------------------------------------------------------\n",
      "        Layer (type)               Output Shape         Param #\n",
      "================================================================\n",
      "            Linear-1               [-1, 1, 100]          78,500\n",
      "              ReLU-2               [-1, 1, 100]               0\n",
      "            Linear-3               [-1, 1, 100]          10,100\n",
      "              ReLU-4               [-1, 1, 100]               0\n",
      "            Linear-5               [-1, 1, 200]          20,200\n",
      "              Tanh-6               [-1, 1, 200]               0\n",
      "            Linear-7               [-1, 1, 300]          60,300\n",
      "              ReLU-8               [-1, 1, 300]               0\n",
      "            Linear-9               [-1, 1, 100]          30,100\n",
      "             ReLU-10               [-1, 1, 100]               0\n",
      "           Linear-11                [-1, 1, 10]           1,010\n",
      "================================================================\n",
      "Total params: 200,210\n",
      "Trainable params: 200,210\n",
      "Non-trainable params: 0\n",
      "----------------------------------------------------------------\n",
      "Input size (MB): 0.00\n",
      "Forward/backward pass size (MB): 0.01\n",
      "Params size (MB): 0.76\n",
      "Estimated Total Size (MB): 0.78\n",
      "----------------------------------------------------------------\n"
     ]
    }
   ],
   "source": [
    "summary(model, (1,28*28))"
   ]
  },
  {
   "cell_type": "code",
   "execution_count": 39,
   "metadata": {
    "id": "vZcuorluNEqY"
   },
   "outputs": [],
   "source": [
    "criterion = nn.CrossEntropyLoss()\n",
    "\n",
    "learning_rate = 0.01\n",
    "LAMBDA = 0.03\n",
    "optimizer = torch.optim.SGD(model.parameters(), lr=learning_rate, weight_decay=LAMBDA)"
   ]
  },
  {
   "cell_type": "markdown",
   "metadata": {
    "id": "kjqelQp5NEqb"
   },
   "source": [
    "#### Train the model with L2 regularization"
   ]
  },
  {
   "cell_type": "code",
   "execution_count": 40,
   "metadata": {
    "id": "SrZPlD07NEqb",
    "outputId": "10dbb985-021c-49b3-a01b-96a2d564f53f"
   },
   "outputs": [
    {
     "name": "stdout",
     "output_type": "stream",
     "text": [
      "Iteration: 500. Loss: 0.7607389092445374. Accuracy: 74\n",
      "Iteration: 1000. Loss: 0.7029391527175903. Accuracy: 81\n",
      "Iteration: 1500. Loss: 0.5644179582595825. Accuracy: 81\n",
      "Iteration: 2000. Loss: 0.30205273628234863. Accuracy: 83\n",
      "Iteration: 2500. Loss: 0.43762171268463135. Accuracy: 83\n",
      "Iteration: 3000. Loss: 0.38586515188217163. Accuracy: 85\n",
      "Iteration: 3500. Loss: 0.513348400592804. Accuracy: 83\n",
      "Iteration: 4000. Loss: 0.3812751770019531. Accuracy: 84\n",
      "Iteration: 4500. Loss: 0.48402032256126404. Accuracy: 84\n",
      "Iteration: 5000. Loss: 0.502432644367218. Accuracy: 85\n",
      "Iteration: 5500. Loss: 0.5876505970954895. Accuracy: 84\n",
      "Iteration: 6000. Loss: 0.6607846021652222. Accuracy: 85\n",
      "Iteration: 6500. Loss: 0.4949927031993866. Accuracy: 84\n",
      "Iteration: 7000. Loss: 0.24174714088439941. Accuracy: 86\n",
      "Iteration: 7500. Loss: 0.6807226538658142. Accuracy: 84\n",
      "Iteration: 8000. Loss: 0.3149530291557312. Accuracy: 84\n",
      "Iteration: 8500. Loss: 0.42691347002983093. Accuracy: 85\n",
      "Iteration: 9000. Loss: 0.2752499580383301. Accuracy: 85\n"
     ]
    }
   ],
   "source": [
    "# Train the model\n",
    "\n",
    "train_loss = []\n",
    "train_accuracy = []\n",
    "\n",
    "iter = 0\n",
    "for epoch in range(num_epochs):\n",
    "    \n",
    "    '''\n",
    "    One iteration\n",
    "    '''\n",
    "    # Calculate Accuracy         \n",
    "    correct_1 = 0\n",
    "    total_1 = 0\n",
    "    for i, (images, labels) in enumerate(train_loader):\n",
    "        #######################\n",
    "        #  USE GPU FOR MODEL  #\n",
    "        #######################\n",
    "        if torch.cuda.is_available():\n",
    "            images = Variable(images.view(-1, 28*28).to(device))\n",
    "            labels = Variable(labels.to(device))\n",
    "        else:\n",
    "            images = Variable(images.view(-1, 28*28))\n",
    "            labels = Variable(labels)\n",
    "        \n",
    "        # Forward pass to get output/logits\n",
    "        outputs = model(images)\n",
    "        \n",
    "        '''\n",
    "        Save accuracy to draw accuracy curve\n",
    "        '''\n",
    "        # Get predictions from the maximum value\n",
    "        _, predicted = torch.max(outputs.data, 1)\n",
    "                \n",
    "        # Total number of labels\n",
    "        total_1 += labels.size(0)\n",
    "           \n",
    "        #######################\n",
    "        #  USE GPU FOR MODEL  #\n",
    "        #######################\n",
    "        # Total correct predictions\n",
    "        if torch.cuda.is_available():\n",
    "                    correct_1 += (predicted.cpu() == labels.cpu()).sum() # because .sum() function does not work on GPU\n",
    "        else:                \n",
    "                    correct_1 += (predicted == labels).sum()\n",
    "            \n",
    "        accuracy = 100 * correct_1 // total_1\n",
    "        train_accuracy.append(accuracy)\n",
    "        ''''''\n",
    "        \n",
    "        \n",
    "        # Clear gradients w.r.t. parameters\n",
    "        optimizer.zero_grad()\n",
    "        \n",
    "        # Calculate Loss: softmax --> cross entropy loss\n",
    "        loss = criterion(outputs, labels)\n",
    "        \n",
    "        \n",
    "        '''\n",
    "        Save loss to draw accuracy curve\n",
    "        '''\n",
    "        train_loss.append(loss)\n",
    "        ''''''\n",
    "        \n",
    "        \n",
    "        # Getting gradients w.r.t. parameters\n",
    "        loss.backward()\n",
    "        \n",
    "        # Updating parameters\n",
    "        optimizer.step()\n",
    "        ''''''\n",
    "        \n",
    "        iter += 1\n",
    "    \n",
    "        # Testing the model\n",
    "        if iter % 500 == 0:\n",
    "            # Calculate Accuracy         \n",
    "            correct = 0\n",
    "            total = 0\n",
    "            # Iterate through test dataset\n",
    "            for images, labels in test_loader:\n",
    "                #######################\n",
    "                #  USE GPU FOR MODEL  #\n",
    "                #######################\n",
    "                if torch.cuda.is_available():\n",
    "                    images = Variable(images.view(-1, 28*28).to(device))\n",
    "                else:\n",
    "                    images = Variable(images.view(-1, 28*28))    \n",
    "                    \n",
    "                # Forward pass only to get logits/output\n",
    "                outputs = model(images)\n",
    "                \n",
    "                # Get predictions from the maximum value\n",
    "                _, predicted = torch.max(outputs.data, 1)\n",
    "                \n",
    "                # Total number of labels\n",
    "                total += labels.size(0)\n",
    "           \n",
    "                #######################\n",
    "                #  USE GPU FOR MODEL  #\n",
    "                #######################\n",
    "                # Total correct predictions\n",
    "                if torch.cuda.is_available():\n",
    "                    correct += (predicted.cpu() == labels.cpu()).sum() # because .sum() function does not work on GPU\n",
    "                else:                \n",
    "                    correct += (predicted == labels).sum()\n",
    "            \n",
    "            accuracy = 100 * correct // total\n",
    "            \n",
    "            # Print Loss\n",
    "            print('Iteration: {}. Loss: {}. Accuracy: {}'.format(iter, loss.data, accuracy))\n",
    "            "
   ]
  },
  {
   "cell_type": "code",
   "execution_count": 41,
   "metadata": {
    "id": "iYEUN_GcNEqf",
    "outputId": "a90b4d52-1762-42fc-da49-4823f20b629d"
   },
   "outputs": [
    {
     "data": {
      "image/png": "[encoded data removed]",
      "text/plain": [
       "<Figure size 576x360 with 1 Axes>"
      ]
     },
     "metadata": {
      "needs_background": "light"
     },
     "output_type": "display_data"
    },
    {
     "data": {
      "image/png": "[encoded data removed]",
      "text/plain": [
       "<Figure size 576x360 with 1 Axes>"
      ]
     },
     "metadata": {
      "needs_background": "light"
     },
     "output_type": "display_data"
    }
   ],
   "source": [
    "#Plots the loss and accuracy curves\n",
    "\n",
    "plt.figure(figsize=(8,5))\n",
    "plt.plot(range(len(train_loss)), train_loss)\n",
    "plt.xlabel(\"Iteration\")\n",
    "plt.ylabel(\"Cross entropy loss\")\n",
    "plt.title(\"Loss curve for training\")\n",
    "plt.show()\n",
    "\n",
    "plt.figure(figsize=(8,5))\n",
    "plt.plot(range(len(train_accuracy)), train_accuracy, c='r')\n",
    "plt.xlabel(\"Iteration\")\n",
    "plt.ylabel(\"Accuracy\")\n",
    "plt.title(\"Accuracy curve for training\")\n",
    "plt.show()"
   ]
  },
  {
   "cell_type": "code",
   "execution_count": 42,
   "metadata": {
    "id": "ZacgxvNnNEqi"
   },
   "outputs": [],
   "source": [
    "save_model = True\n",
    "if save_model is True:\n",
    "    torch.save(model.state_dict(), path+\"\\\\regularization_fashion-mnist-C.pkl\")# only save parameters"
   ]
  },
  {
   "cell_type": "markdown",
   "metadata": {
    "id": "3t3Jngl-NEqm"
   },
   "source": [
    "### Model D: 3 Hidden Layers Feedforward Neural Network"
   ]
  },
  {
   "cell_type": "markdown",
   "metadata": {
    "id": "ey6DLcVINEqn"
   },
   "source": [
    "#### Make dataset iterable"
   ]
  },
  {
   "cell_type": "code",
   "execution_count": 15,
   "metadata": {
    "colab": {
     "base_uri": "https://localhost:8080/",
     "height": 34
    },
    "id": "BntSzgX0NEqn",
    "outputId": "5daec701-edf8-45a3-beeb-0cd636036856"
   },
   "outputs": [
    {
     "data": {
      "text/plain": [
       "20"
      ]
     },
     "execution_count": 15,
     "metadata": {},
     "output_type": "execute_result"
    }
   ],
   "source": [
    "batch_size = 128\n",
    "n_iters = 9400\n",
    "num_epochs = n_iters / (len(train_dataset) / batch_size)\n",
    "num_epochs = int(num_epochs)\n",
    "num_epochs"
   ]
  },
  {
   "cell_type": "code",
   "execution_count": 16,
   "metadata": {
    "id": "JWfQI10WNEqp"
   },
   "outputs": [],
   "source": [
    "train_loader = DataLoader(train_dataset, batch_size=batch_size, shuffle=True) # create your dataloader\n",
    "\n",
    "test_loader = DataLoader(test_dataset, batch_size=batch_size,  shuffle=False)"
   ]
  },
  {
   "cell_type": "code",
   "execution_count": 17,
   "metadata": {
    "id": "IDhOz8M0NEqs"
   },
   "outputs": [],
   "source": [
    "input_dim = 28*28\n",
    "output_dim = 10\n",
    "hidden_dim1 = 256\n",
    "hidden_dim2 = 128 "
   ]
  },
  {
   "cell_type": "markdown",
   "metadata": {
    "id": "wvhfbKfhNEqu"
   },
   "source": [
    "#### Create model class"
   ]
  },
  {
   "cell_type": "code",
   "execution_count": 18,
   "metadata": {
    "id": "l0EhWTzTNEqv"
   },
   "outputs": [],
   "source": [
    "class FNNModel(nn.Module):\n",
    "    def __init__(self, input_dim, hidden_dim1, hidden_dim2, output_dim):\n",
    "        \n",
    "        super(FNNModel, self).__init__()\n",
    "        \n",
    "        self.f1 = nn.Linear(input_dim,hidden_dim1)\n",
    "        self.relu1 = nn.ReLU()\n",
    "        \n",
    "        self.f2 = nn.Linear(hidden_dim1,hidden_dim2)\n",
    "        self.relu2 = nn.ReLU()\n",
    "        \n",
    "        self.f3 = nn.Linear(hidden_dim2,output_dim)\n",
    "        \n",
    "    def forward(self, x):\n",
    "        out = self.f1(x)\n",
    "        out = self.relu1(out)\n",
    "\n",
    "        out = self.f2(out)\n",
    "        out = self.relu2(out)\n",
    "        \n",
    "        out = self.f3(out)\n",
    "        \n",
    "        return out       \n",
    "    "
   ]
  },
  {
   "cell_type": "code",
   "execution_count": 19,
   "metadata": {
    "id": "GQpMyQjhNEqz",
    "outputId": "91575ec8-529c-4738-db32-0332e2927c08"
   },
   "outputs": [
    {
     "data": {
      "text/plain": [
       "FNNModel(\n",
       "  (f1): Linear(in_features=784, out_features=256, bias=True)\n",
       "  (relu1): ReLU()\n",
       "  (f2): Linear(in_features=256, out_features=128, bias=True)\n",
       "  (relu2): ReLU()\n",
       "  (f3): Linear(in_features=128, out_features=10, bias=True)\n",
       ")"
      ]
     },
     "execution_count": 19,
     "metadata": {},
     "output_type": "execute_result"
    }
   ],
   "source": [
    "model = FNNModel(input_dim, hidden_dim1, hidden_dim2, output_dim)\n",
    "\n",
    "#######################\n",
    "#  USE GPU FOR MODEL  #\n",
    "#######################\n",
    "model.to(device)"
   ]
  },
  {
   "cell_type": "code",
   "execution_count": 20,
   "metadata": {
    "id": "xvM4dIojNEq2",
    "outputId": "76523332-c39a-453b-be3b-33c43c499a99"
   },
   "outputs": [
    {
     "name": "stdout",
     "output_type": "stream",
     "text": [
      "----------------------------------------------------------------\n",
      "        Layer (type)               Output Shape         Param #\n",
      "================================================================\n",
      "            Linear-1               [-1, 1, 256]         200,960\n",
      "              ReLU-2               [-1, 1, 256]               0\n",
      "            Linear-3               [-1, 1, 128]          32,896\n",
      "              ReLU-4               [-1, 1, 128]               0\n",
      "            Linear-5                [-1, 1, 10]           1,290\n",
      "================================================================\n",
      "Total params: 235,146\n",
      "Trainable params: 235,146\n",
      "Non-trainable params: 0\n",
      "----------------------------------------------------------------\n",
      "Input size (MB): 0.00\n",
      "Forward/backward pass size (MB): 0.01\n",
      "Params size (MB): 0.90\n",
      "Estimated Total Size (MB): 0.91\n",
      "----------------------------------------------------------------\n"
     ]
    }
   ],
   "source": [
    "summary(model, (1,28*28))"
   ]
  },
  {
   "cell_type": "code",
   "execution_count": 21,
   "metadata": {
    "id": "LXhGrLjVNEq6"
   },
   "outputs": [],
   "source": [
    "criterion = nn.CrossEntropyLoss()\n",
    "\n",
    "learning_rate = 0.001\n",
    "LAMBDA = 0.09\n",
    "optimizer = torch.optim.SGD(model.parameters(), lr=learning_rate, weight_decay=LAMBDA)"
   ]
  },
  {
   "cell_type": "markdown",
   "metadata": {
    "id": "ytjtwli1NEq-"
   },
   "source": [
    "#### Train the model with L2 norm"
   ]
  },
  {
   "cell_type": "code",
   "execution_count": 22,
   "metadata": {
    "id": "QdAHC53FNEq_",
    "outputId": "55c483ac-301f-43b7-f73c-5adf49ccd24e"
   },
   "outputs": [
    {
     "name": "stdout",
     "output_type": "stream",
     "text": [
      "Iteration: 500. Loss: 0.5741776823997498. Accuracy: 80\n",
      "Iteration: 1000. Loss: 0.4984549283981323. Accuracy: 82\n",
      "Iteration: 1500. Loss: 0.37621182203292847. Accuracy: 83\n",
      "Iteration: 2000. Loss: 0.3781629204750061. Accuracy: 84\n",
      "Iteration: 2500. Loss: 0.3387756943702698. Accuracy: 84\n",
      "Iteration: 3000. Loss: 0.3005916476249695. Accuracy: 85\n",
      "Iteration: 3500. Loss: 0.21213459968566895. Accuracy: 85\n",
      "Iteration: 4000. Loss: 0.2843926250934601. Accuracy: 86\n",
      "Iteration: 4500. Loss: 0.4047917425632477. Accuracy: 85\n",
      "Iteration: 5000. Loss: 0.28453418612480164. Accuracy: 86\n",
      "Iteration: 5500. Loss: 0.4685816466808319. Accuracy: 86\n",
      "Iteration: 6000. Loss: 0.3326895833015442. Accuracy: 85\n",
      "Iteration: 6500. Loss: 0.2759743630886078. Accuracy: 86\n",
      "Iteration: 7000. Loss: 0.3286040425300598. Accuracy: 86\n",
      "Iteration: 7500. Loss: 0.2882852554321289. Accuracy: 87\n",
      "Iteration: 8000. Loss: 0.2734530568122864. Accuracy: 87\n",
      "Iteration: 8500. Loss: 0.32497110962867737. Accuracy: 86\n",
      "Iteration: 9000. Loss: 0.43353956937789917. Accuracy: 84\n"
     ]
    }
   ],
   "source": [
    "# Train the model\n",
    "\n",
    "train_loss = []\n",
    "train_accuracy = []\n",
    "\n",
    "iter = 0\n",
    "for epoch in range(num_epochs):\n",
    "    \n",
    "    '''\n",
    "    One iteration\n",
    "    '''\n",
    "    # Calculate Accuracy         \n",
    "    correct_1 = 0\n",
    "    total_1 = 0\n",
    "    for i, (images, labels) in enumerate(train_loader):\n",
    "        #######################\n",
    "        #  USE GPU FOR MODEL  #\n",
    "        #######################\n",
    "        if torch.cuda.is_available():\n",
    "            images = Variable(images.view(-1, 28*28).to(device))\n",
    "            labels = Variable(labels.to(device))\n",
    "        else:\n",
    "            images = Variable(images.view(-1, 28*28))\n",
    "            labels = Variable(labels)\n",
    "        \n",
    "        # Forward pass to get output/logits\n",
    "        outputs = model(images)\n",
    "        \n",
    "        '''\n",
    "        Save accuracy to draw accuracy curve\n",
    "        '''\n",
    "        # Get predictions from the maximum value\n",
    "        _, predicted = torch.max(outputs.data, 1)\n",
    "                \n",
    "        # Total number of labels\n",
    "        total_1 += labels.size(0)\n",
    "           \n",
    "        #######################\n",
    "        #  USE GPU FOR MODEL  #\n",
    "        #######################\n",
    "        # Total correct predictions\n",
    "        if torch.cuda.is_available():\n",
    "                    correct_1 += (predicted.cpu() == labels.cpu()).sum() # because .sum() function does not work on GPU\n",
    "        else:                \n",
    "                    correct_1 += (predicted == labels).sum()\n",
    "            \n",
    "        accuracy = 100 * correct_1 // total_1\n",
    "        train_accuracy.append(accuracy)\n",
    "        ''''''\n",
    "        \n",
    "        \n",
    "        # Clear gradients w.r.t. parameters\n",
    "        optimizer.zero_grad()\n",
    "        \n",
    "        # Calculate Loss: softmax --> cross entropy loss\n",
    "        loss = criterion(outputs, labels)\n",
    "        \n",
    "        \n",
    "        '''\n",
    "        Save loss to draw accuracy curve\n",
    "        '''\n",
    "        train_loss.append(loss)\n",
    "        ''''''\n",
    "        \n",
    "        \n",
    "        # Getting gradients w.r.t. parameters\n",
    "        loss.backward()\n",
    "        \n",
    "        # Updating parameters\n",
    "        optimizer.step()\n",
    "        ''''''\n",
    "        \n",
    "        iter += 1\n",
    "    \n",
    "        # Testing the model\n",
    "        if iter % 500 == 0:\n",
    "            # Calculate Accuracy         \n",
    "            correct = 0\n",
    "            total = 0\n",
    "            # Iterate through test dataset\n",
    "            for images, labels in test_loader:\n",
    "                #######################\n",
    "                #  USE GPU FOR MODEL  #\n",
    "                #######################\n",
    "                if torch.cuda.is_available():\n",
    "                    images = Variable(images.view(-1, 28*28).to(device))\n",
    "                else:\n",
    "                    images = Variable(images.view(-1, 28*28))    \n",
    "                    \n",
    "                # Forward pass only to get logits/output\n",
    "                outputs = model(images)\n",
    "                \n",
    "                # Get predictions from the maximum value\n",
    "                _, predicted = torch.max(outputs.data, 1)\n",
    "                \n",
    "                # Total number of labels\n",
    "                total += labels.size(0)\n",
    "           \n",
    "                #######################\n",
    "                #  USE GPU FOR MODEL  #\n",
    "                #######################\n",
    "                # Total correct predictions\n",
    "                if torch.cuda.is_available():\n",
    "                    correct += (predicted.cpu() == labels.cpu()).sum() # because .sum() function does not work on GPU\n",
    "                else:                \n",
    "                    correct += (predicted == labels).sum()\n",
    "            \n",
    "            accuracy = 100 * correct // total\n",
    "            \n",
    "            # Print Loss\n",
    "            print('Iteration: {}. Loss: {}. Accuracy: {}'.format(iter, loss.data, accuracy))\n",
    "            "
   ]
  },
  {
   "cell_type": "code",
   "execution_count": 23,
   "metadata": {
    "id": "IOOUwjl1NErE",
    "outputId": "428c4a6b-323e-479f-dc44-a05256447bd7"
   },
   "outputs": [
    {
     "data": {
      "image/png": "[encoded data removed]",
      "text/plain": [
       "<Figure size 576x360 with 1 Axes>"
      ]
     },
     "metadata": {
      "needs_background": "light"
     },
     "output_type": "display_data"
    },
    {
     "data": {
      "image/png": "[encoded data removed]",
      "text/plain": [
       "<Figure size 576x360 with 1 Axes>"
      ]
     },
     "metadata": {
      "needs_background": "light"
     },
     "output_type": "display_data"
    }
   ],
   "source": [
    "#Plots the loss and accuracy curves\n",
    "\n",
    "plt.figure(figsize=(8,5))\n",
    "plt.plot(range(len(train_loss)), train_loss)\n",
    "plt.xlabel(\"Iteration\")\n",
    "plt.ylabel(\"Cross entropy loss\")\n",
    "plt.title(\"Loss curve for training\")\n",
    "plt.show()\n",
    "\n",
    "plt.figure(figsize=(8,5))\n",
    "plt.plot(range(len(train_accuracy)), train_accuracy, c='r')\n",
    "plt.xlabel(\"Iteration\")\n",
    "plt.ylabel(\"Accuracy\")\n",
    "plt.title(\"Accuracy curve for training\")\n",
    "plt.show()"
   ]
  },
  {
   "cell_type": "code",
   "execution_count": 24,
   "metadata": {
    "id": "rlNphMzBNErI"
   },
   "outputs": [],
   "source": [
    "save_model = True\n",
    "if save_model is True:\n",
    "    torch.save(model.state_dict(), path+\"\\\\regularization_fashion-mnist-D.pkl\")# only save parameters"
   ]
  },
  {
   "cell_type": "markdown",
   "metadata": {
    "id": "zI7P2o5cNErL"
   },
   "source": [
    "## L1 regularization"
   ]
  },
  {
   "cell_type": "markdown",
   "metadata": {
    "id": "X9ql8qgSNErO"
   },
   "source": [
    "### Model C: 5 Hidden Layers Feedforward Neural Network"
   ]
  },
  {
   "cell_type": "markdown",
   "metadata": {
    "id": "D5cFles4NErP"
   },
   "source": [
    "#### Make dataset iterable"
   ]
  },
  {
   "cell_type": "code",
   "execution_count": 25,
   "metadata": {
    "colab": {
     "base_uri": "https://localhost:8080/",
     "height": 34
    },
    "id": "YTbmiDJbNErP",
    "outputId": "5daec701-edf8-45a3-beeb-0cd636036856"
   },
   "outputs": [
    {
     "data": {
      "text/plain": [
       "10"
      ]
     },
     "execution_count": 25,
     "metadata": {},
     "output_type": "execute_result"
    }
   ],
   "source": [
    "batch_size = 64\n",
    "n_iters = 9400\n",
    "num_epochs = n_iters / (len(train_dataset) / batch_size)\n",
    "num_epochs = int(num_epochs)\n",
    "num_epochs"
   ]
  },
  {
   "cell_type": "code",
   "execution_count": 26,
   "metadata": {
    "id": "SUExRd6vNErU"
   },
   "outputs": [],
   "source": [
    "train_loader = DataLoader(train_dataset, batch_size=batch_size, shuffle=True) # create your dataloader\n",
    "\n",
    "test_loader = DataLoader(test_dataset, batch_size=batch_size,  shuffle=False)"
   ]
  },
  {
   "cell_type": "code",
   "execution_count": 27,
   "metadata": {
    "id": "0ch97WfwNErX"
   },
   "outputs": [],
   "source": [
    "input_dim = 28*28\n",
    "output_dim = 10\n",
    "hidden_dim1 = 100 \n",
    "hidden_dim2 = 100 \n",
    "hidden_dim3 = 200 \n",
    "hidden_dim4 = 300 \n",
    "hidden_dim5 = 100 "
   ]
  },
  {
   "cell_type": "markdown",
   "metadata": {
    "id": "SP7_6EYZNEra"
   },
   "source": [
    "#### Create model class"
   ]
  },
  {
   "cell_type": "code",
   "execution_count": 28,
   "metadata": {
    "id": "qSSSEsnGNEra"
   },
   "outputs": [],
   "source": [
    "class FNNModel(nn.Module):\n",
    "    def __init__(self, input_dim, hidden_dim1, hidden_dim2, hidden_dim3, hidden_dim4, hidden_dim5, output_dim):\n",
    "        \n",
    "        super(FNNModel, self).__init__()\n",
    "        \n",
    "        self.f1 = nn.Linear(input_dim,hidden_dim1)\n",
    "        self.relu1 = nn.ReLU()\n",
    "        \n",
    "        self.f2 = nn.Linear(hidden_dim1,hidden_dim2)\n",
    "        self.relu2 = nn.ReLU()\n",
    "        \n",
    "        self.f3 = nn.Linear(hidden_dim2,hidden_dim3)\n",
    "        self.sigmoid = nn.Tanh()\n",
    "        \n",
    "        self.f4 = nn.Linear(hidden_dim3,hidden_dim4)\n",
    "        self.relu3 = nn.ReLU()\n",
    "        \n",
    "        self.f5 = nn.Linear(hidden_dim4,hidden_dim5)\n",
    "        self.relu4 = nn.ReLU()\n",
    "        \n",
    "        self.f6 = nn.Linear(hidden_dim5,output_dim)\n",
    "        \n",
    "    def forward(self, x):\n",
    "        out = self.f1(x)\n",
    "        out = self.relu1(out)\n",
    "\n",
    "        out = self.f2(out)\n",
    "        out = self.relu2(out)\n",
    "        \n",
    "        out = self.f3(out)\n",
    "        out = self.sigmoid(out)\n",
    "        \n",
    "        out = self.f4(out)\n",
    "        out = self.relu3(out)\n",
    "        \n",
    "        out = self.f5(out)\n",
    "        out = self.relu4(out)\n",
    "        \n",
    "        out = self.f6(out)\n",
    "        \n",
    "        return out       \n",
    "    "
   ]
  },
  {
   "cell_type": "code",
   "execution_count": 29,
   "metadata": {
    "id": "4c-QkBR1NErc",
    "outputId": "70f51fe6-d6df-4315-e7aa-56ed8d5d47e7"
   },
   "outputs": [
    {
     "data": {
      "text/plain": [
       "FNNModel(\n",
       "  (f1): Linear(in_features=784, out_features=100, bias=True)\n",
       "  (relu1): ReLU()\n",
       "  (f2): Linear(in_features=100, out_features=100, bias=True)\n",
       "  (relu2): ReLU()\n",
       "  (f3): Linear(in_features=100, out_features=200, bias=True)\n",
       "  (sigmoid): Tanh()\n",
       "  (f4): Linear(in_features=200, out_features=300, bias=True)\n",
       "  (relu3): ReLU()\n",
       "  (f5): Linear(in_features=300, out_features=100, bias=True)\n",
       "  (relu4): ReLU()\n",
       "  (f6): Linear(in_features=100, out_features=10, bias=True)\n",
       ")"
      ]
     },
     "execution_count": 29,
     "metadata": {},
     "output_type": "execute_result"
    }
   ],
   "source": [
    "model = FNNModel(input_dim, hidden_dim1, hidden_dim2, hidden_dim3, hidden_dim4, hidden_dim5, output_dim)\n",
    "\n",
    "#######################\n",
    "#  USE GPU FOR MODEL  #\n",
    "#######################\n",
    "model.to(device)"
   ]
  },
  {
   "cell_type": "code",
   "execution_count": 30,
   "metadata": {
    "id": "JNY_6kzLNEre",
    "outputId": "f7047f1e-72a6-46ae-a119-375383fffd82"
   },
   "outputs": [
    {
     "name": "stdout",
     "output_type": "stream",
     "text": [
      "----------------------------------------------------------------\n",
      "        Layer (type)               Output Shape         Param #\n",
      "================================================================\n",
      "            Linear-1               [-1, 1, 100]          78,500\n",
      "              ReLU-2               [-1, 1, 100]               0\n",
      "            Linear-3               [-1, 1, 100]          10,100\n",
      "              ReLU-4               [-1, 1, 100]               0\n",
      "            Linear-5               [-1, 1, 200]          20,200\n",
      "              Tanh-6               [-1, 1, 200]               0\n",
      "            Linear-7               [-1, 1, 300]          60,300\n",
      "              ReLU-8               [-1, 1, 300]               0\n",
      "            Linear-9               [-1, 1, 100]          30,100\n",
      "             ReLU-10               [-1, 1, 100]               0\n",
      "           Linear-11                [-1, 1, 10]           1,010\n",
      "================================================================\n",
      "Total params: 200,210\n",
      "Trainable params: 200,210\n",
      "Non-trainable params: 0\n",
      "----------------------------------------------------------------\n",
      "Input size (MB): 0.00\n",
      "Forward/backward pass size (MB): 0.01\n",
      "Params size (MB): 0.76\n",
      "Estimated Total Size (MB): 0.78\n",
      "----------------------------------------------------------------\n"
     ]
    }
   ],
   "source": [
    "summary(model, (1,28*28))"
   ]
  },
  {
   "cell_type": "code",
   "execution_count": 31,
   "metadata": {
    "id": "lPsUoNnONErg"
   },
   "outputs": [],
   "source": [
    "criterion = nn.CrossEntropyLoss()\n",
    "\n",
    "learning_rate = 0.01\n",
    "optimizer = torch.optim.SGD(model.parameters(), lr=learning_rate)"
   ]
  },
  {
   "cell_type": "markdown",
   "metadata": {
    "id": "RzylVhd0NEri"
   },
   "source": [
    "#### Train the model with L1 regularization"
   ]
  },
  {
   "cell_type": "code",
   "execution_count": 32,
   "metadata": {
    "id": "UTrlwcAPNErj",
    "outputId": "49274da2-1458-42ae-faa1-aedc7c45062c"
   },
   "outputs": [
    {
     "name": "stdout",
     "output_type": "stream",
     "text": [
      "Iteration: 500. Loss: 6.7012763023376465. Accuracy: 76\n",
      "Iteration: 1000. Loss: 6.549015998840332. Accuracy: 81\n",
      "Iteration: 1500. Loss: 6.52647590637207. Accuracy: 80\n",
      "Iteration: 2000. Loss: 6.647714138031006. Accuracy: 83\n",
      "Iteration: 2500. Loss: 6.555042266845703. Accuracy: 84\n",
      "Iteration: 3000. Loss: 6.570957183837891. Accuracy: 84\n",
      "Iteration: 3500. Loss: 6.618013381958008. Accuracy: 85\n",
      "Iteration: 4000. Loss: 6.63817834854126. Accuracy: 85\n",
      "Iteration: 4500. Loss: 6.632719993591309. Accuracy: 85\n",
      "Iteration: 5000. Loss: 6.697399139404297. Accuracy: 83\n",
      "Iteration: 5500. Loss: 6.560423374176025. Accuracy: 85\n",
      "Iteration: 6000. Loss: 7.005623817443848. Accuracy: 84\n",
      "Iteration: 6500. Loss: 6.587013244628906. Accuracy: 86\n",
      "Iteration: 7000. Loss: 6.682181358337402. Accuracy: 85\n",
      "Iteration: 7500. Loss: 6.62949275970459. Accuracy: 86\n",
      "Iteration: 8000. Loss: 6.754425525665283. Accuracy: 86\n",
      "Iteration: 8500. Loss: 6.463537693023682. Accuracy: 86\n",
      "Iteration: 9000. Loss: 6.781626224517822. Accuracy: 85\n"
     ]
    }
   ],
   "source": [
    "# Train the model\n",
    "\n",
    "LAMBDA = 0.001\n",
    "train_loss = []\n",
    "train_accuracy = []\n",
    "\n",
    "iter = 0\n",
    "for epoch in range(num_epochs):\n",
    "    \n",
    "    '''\n",
    "    One iteration\n",
    "    '''\n",
    "    # Calculate Accuracy         \n",
    "    correct_1 = 0\n",
    "    total_1 = 0\n",
    "    for i, (images, labels) in enumerate(train_loader):\n",
    "        #######################\n",
    "        #  USE GPU FOR MODEL  #\n",
    "        #######################\n",
    "        if torch.cuda.is_available():\n",
    "            images = Variable(images.view(-1, 28*28).to(device))\n",
    "            labels = Variable(labels.to(device))\n",
    "        else:\n",
    "            images = Variable(images.view(-1, 28*28))\n",
    "            labels = Variable(labels)\n",
    "        \n",
    "        # Forward pass to get output/logits\n",
    "        outputs = model(images)\n",
    "        \n",
    "        '''\n",
    "        Save accuracy to draw accuracy curve\n",
    "        '''\n",
    "        # Get predictions from the maximum value\n",
    "        _, predicted = torch.max(outputs.data, 1)\n",
    "                \n",
    "        # Total number of labels\n",
    "        total_1 += labels.size(0)\n",
    "           \n",
    "        #######################\n",
    "        #  USE GPU FOR MODEL  #\n",
    "        #######################\n",
    "        # Total correct predictions\n",
    "        if torch.cuda.is_available():\n",
    "                    correct_1 += (predicted.cpu() == labels.cpu()).sum() # because .sum() function does not work on GPU\n",
    "        else:                \n",
    "                    correct_1 += (predicted == labels).sum()\n",
    "            \n",
    "        accuracy = 100 * correct_1 // total_1\n",
    "        train_accuracy.append(accuracy)\n",
    "        ''''''\n",
    "        \n",
    "        \n",
    "        # Clear gradients w.r.t. parameters\n",
    "        optimizer.zero_grad()\n",
    "        \n",
    "        # Calculate Loss: softmax --> cross entropy loss\n",
    "        loss = criterion(outputs, labels)\n",
    "        \n",
    "        '''\n",
    "        L1 regularization\n",
    "        '''\n",
    "        l1_regularization = torch.tensor(0).long()\n",
    "        for param in model.parameters():\n",
    "            l1_regularization += torch.norm(param, 1).long()\n",
    "            \n",
    "        loss += LAMBDA * l1_regularization\n",
    "        \n",
    "        '''\n",
    "        Save loss to draw accuracy curve\n",
    "        '''\n",
    "        train_loss.append(loss)\n",
    "        ''''''\n",
    "        \n",
    "        \n",
    "        # Getting gradients w.r.t. parameters\n",
    "        loss.backward()\n",
    "        \n",
    "        # Updating parameters\n",
    "        optimizer.step()\n",
    "        ''''''\n",
    "        \n",
    "        iter += 1\n",
    "    \n",
    "        # Testing the model\n",
    "        if iter % 500 == 0:\n",
    "            # Calculate Accuracy         \n",
    "            correct = 0\n",
    "            total = 0\n",
    "            # Iterate through test dataset\n",
    "            for images, labels in test_loader:\n",
    "                #######################\n",
    "                #  USE GPU FOR MODEL  #\n",
    "                #######################\n",
    "                if torch.cuda.is_available():\n",
    "                    images = Variable(images.view(-1, 28*28).to(device))\n",
    "                else:\n",
    "                    images = Variable(images.view(-1, 28*28))    \n",
    "                    \n",
    "                # Forward pass only to get logits/output\n",
    "                outputs = model(images)\n",
    "                \n",
    "                # Get predictions from the maximum value\n",
    "                _, predicted = torch.max(outputs.data, 1)\n",
    "                \n",
    "                # Total number of labels\n",
    "                total += labels.size(0)\n",
    "           \n",
    "                #######################\n",
    "                #  USE GPU FOR MODEL  #\n",
    "                #######################\n",
    "                # Total correct predictions\n",
    "                if torch.cuda.is_available():\n",
    "                    correct += (predicted.cpu() == labels.cpu()).sum() # because .sum() function does not work on GPU\n",
    "                else:                \n",
    "                    correct += (predicted == labels).sum()\n",
    "            \n",
    "            accuracy = 100 * correct // total\n",
    "            \n",
    "            # Print Loss\n",
    "            print('Iteration: {}. Loss: {}. Accuracy: {}'.format(iter, loss.data, accuracy))\n",
    "            "
   ]
  },
  {
   "cell_type": "code",
   "execution_count": 33,
   "metadata": {
    "id": "7guMGirMNErl",
    "outputId": "ead24fed-4f9e-4ca7-f6ae-e75c2e8daad7"
   },
   "outputs": [
    {
     "data": {
      "image/png": "[encoded data removed]",
      "text/plain": [
       "<Figure size 576x360 with 1 Axes>"
      ]
     },
     "metadata": {
      "needs_background": "light"
     },
     "output_type": "display_data"
    },
    {
     "data": {
      "image/png": "[encoded data removed]",
      "text/plain": [
       "<Figure size 576x360 with 1 Axes>"
      ]
     },
     "metadata": {
      "needs_background": "light"
     },
     "output_type": "display_data"
    }
   ],
   "source": [
    "#Plots the loss and accuracy curves\n",
    "\n",
    "plt.figure(figsize=(8,5))\n",
    "plt.plot(range(len(train_loss)), train_loss)\n",
    "plt.xlabel(\"Iteration\")\n",
    "plt.ylabel(\"Cross entropy loss\")\n",
    "plt.title(\"Loss curve for training\")\n",
    "plt.show()\n",
    "\n",
    "plt.figure(figsize=(8,5))\n",
    "plt.plot(range(len(train_accuracy)), train_accuracy, c='r')\n",
    "plt.xlabel(\"Iteration\")\n",
    "plt.ylabel(\"Accuracy\")\n",
    "plt.title(\"Accuracy curve for training\")\n",
    "plt.show()"
   ]
  },
  {
   "cell_type": "code",
   "execution_count": 34,
   "metadata": {
    "id": "KUm4M-xGNErn"
   },
   "outputs": [],
   "source": [
    "save_model = True\n",
    "if save_model is True:\n",
    "    torch.save(model.state_dict(), path+\"\\\\regularization_fashion-mnist-C-l1.pkl\")# only save parameters"
   ]
  },
  {
   "cell_type": "markdown",
   "metadata": {
    "id": "rE0ca3KLNEro"
   },
   "source": [
    "### Model D: 3 Hidden Layers Feedforward Neural Network"
   ]
  },
  {
   "cell_type": "markdown",
   "metadata": {
    "id": "M6l4V57mNErp"
   },
   "source": [
    "#### Make dataset iterable"
   ]
  },
  {
   "cell_type": "code",
   "execution_count": 35,
   "metadata": {
    "colab": {
     "base_uri": "https://localhost:8080/",
     "height": 34
    },
    "id": "xfVWyAAmNErp",
    "outputId": "5daec701-edf8-45a3-beeb-0cd636036856"
   },
   "outputs": [
    {
     "data": {
      "text/plain": [
       "20"
      ]
     },
     "execution_count": 35,
     "metadata": {},
     "output_type": "execute_result"
    }
   ],
   "source": [
    "batch_size = 128\n",
    "n_iters = 9400\n",
    "num_epochs = n_iters / (len(train_dataset) / batch_size)\n",
    "num_epochs = int(num_epochs)\n",
    "num_epochs"
   ]
  },
  {
   "cell_type": "code",
   "execution_count": 36,
   "metadata": {
    "id": "21sBMYK_NErs"
   },
   "outputs": [],
   "source": [
    "train_loader = DataLoader(train_dataset, batch_size=batch_size, shuffle=True) # create your dataloader\n",
    "\n",
    "test_loader = DataLoader(test_dataset, batch_size=batch_size,  shuffle=False)"
   ]
  },
  {
   "cell_type": "code",
   "execution_count": 37,
   "metadata": {
    "id": "onTBrroMNEru"
   },
   "outputs": [],
   "source": [
    "input_dim = 28*28\n",
    "output_dim = 10\n",
    "hidden_dim1 = 256\n",
    "hidden_dim2 = 128 "
   ]
  },
  {
   "cell_type": "markdown",
   "metadata": {
    "id": "yg5P9P80NErw"
   },
   "source": [
    "#### Create model class"
   ]
  },
  {
   "cell_type": "code",
   "execution_count": 38,
   "metadata": {
    "id": "t0VePRrXNEry"
   },
   "outputs": [],
   "source": [
    "class FNNModel(nn.Module):\n",
    "    def __init__(self, input_dim, hidden_dim1, hidden_dim2, output_dim):\n",
    "        \n",
    "        super(FNNModel, self).__init__()\n",
    "        \n",
    "        self.f1 = nn.Linear(input_dim,hidden_dim1)\n",
    "        self.relu1 = nn.ReLU()\n",
    "        \n",
    "        self.f2 = nn.Linear(hidden_dim1,hidden_dim2)\n",
    "        self.relu2 = nn.ReLU()\n",
    "        \n",
    "        self.f3 = nn.Linear(hidden_dim2,output_dim)\n",
    "        \n",
    "    def forward(self, x):\n",
    "        out = self.f1(x)\n",
    "        out = self.relu1(out)\n",
    "\n",
    "        out = self.f2(out)\n",
    "        out = self.relu2(out)\n",
    "        \n",
    "        out = self.f3(out)\n",
    "        \n",
    "        return out       \n",
    "    "
   ]
  },
  {
   "cell_type": "code",
   "execution_count": 39,
   "metadata": {
    "id": "COuf5022NEr0",
    "outputId": "78cd4998-35a7-4243-e8d4-0dfae96a6f25"
   },
   "outputs": [
    {
     "data": {
      "text/plain": [
       "FNNModel(\n",
       "  (f1): Linear(in_features=784, out_features=256, bias=True)\n",
       "  (relu1): ReLU()\n",
       "  (f2): Linear(in_features=256, out_features=128, bias=True)\n",
       "  (relu2): ReLU()\n",
       "  (f3): Linear(in_features=128, out_features=10, bias=True)\n",
       ")"
      ]
     },
     "execution_count": 39,
     "metadata": {},
     "output_type": "execute_result"
    }
   ],
   "source": [
    "model = FNNModel(input_dim, hidden_dim1, hidden_dim2, output_dim)\n",
    "\n",
    "#######################\n",
    "#  USE GPU FOR MODEL  #\n",
    "#######################\n",
    "model.to(device)"
   ]
  },
  {
   "cell_type": "code",
   "execution_count": 40,
   "metadata": {
    "id": "E-o5-bopNEr2",
    "outputId": "2ceb98e6-e74e-4238-9f99-7bb72345088b"
   },
   "outputs": [
    {
     "name": "stdout",
     "output_type": "stream",
     "text": [
      "----------------------------------------------------------------\n",
      "        Layer (type)               Output Shape         Param #\n",
      "================================================================\n",
      "            Linear-1               [-1, 1, 256]         200,960\n",
      "              ReLU-2               [-1, 1, 256]               0\n",
      "            Linear-3               [-1, 1, 128]          32,896\n",
      "              ReLU-4               [-1, 1, 128]               0\n",
      "            Linear-5                [-1, 1, 10]           1,290\n",
      "================================================================\n",
      "Total params: 235,146\n",
      "Trainable params: 235,146\n",
      "Non-trainable params: 0\n",
      "----------------------------------------------------------------\n",
      "Input size (MB): 0.00\n",
      "Forward/backward pass size (MB): 0.01\n",
      "Params size (MB): 0.90\n",
      "Estimated Total Size (MB): 0.91\n",
      "----------------------------------------------------------------\n"
     ]
    }
   ],
   "source": [
    "summary(model, (1,28*28))"
   ]
  },
  {
   "cell_type": "code",
   "execution_count": 41,
   "metadata": {
    "id": "tGw4Fx8JNEr4"
   },
   "outputs": [],
   "source": [
    "criterion = nn.CrossEntropyLoss()\n",
    "\n",
    "learning_rate = 0.001\n",
    "optimizer = torch.optim.SGD(model.parameters(), lr=learning_rate)"
   ]
  },
  {
   "cell_type": "markdown",
   "metadata": {
    "id": "LiTW5bWDNEr5"
   },
   "source": [
    "#### Train the model with L1 regularization"
   ]
  },
  {
   "cell_type": "code",
   "execution_count": 42,
   "metadata": {
    "id": "6ntD-Bm5NEr6",
    "outputId": "2fead44e-d554-4ff9-d521-6dc0aaf1d497"
   },
   "outputs": [
    {
     "name": "stdout",
     "output_type": "stream",
     "text": [
      "Iteration: 500. Loss: 5.084341049194336. Accuracy: 78\n",
      "Iteration: 1000. Loss: 4.99135684967041. Accuracy: 83\n",
      "Iteration: 1500. Loss: 5.152750492095947. Accuracy: 83\n",
      "Iteration: 2000. Loss: 5.1385345458984375. Accuracy: 83\n",
      "Iteration: 2500. Loss: 4.9921770095825195. Accuracy: 84\n",
      "Iteration: 3000. Loss: 5.020310878753662. Accuracy: 84\n",
      "Iteration: 3500. Loss: 4.95637321472168. Accuracy: 85\n",
      "Iteration: 4000. Loss: 5.184364318847656. Accuracy: 85\n",
      "Iteration: 4500. Loss: 5.041792392730713. Accuracy: 85\n",
      "Iteration: 5000. Loss: 5.023127555847168. Accuracy: 85\n",
      "Iteration: 5500. Loss: 4.932234287261963. Accuracy: 86\n",
      "Iteration: 6000. Loss: 4.935850620269775. Accuracy: 86\n",
      "Iteration: 6500. Loss: 4.881418228149414. Accuracy: 85\n",
      "Iteration: 7000. Loss: 4.9341840744018555. Accuracy: 86\n",
      "Iteration: 7500. Loss: 4.9832377433776855. Accuracy: 86\n",
      "Iteration: 8000. Loss: 4.929264545440674. Accuracy: 86\n",
      "Iteration: 8500. Loss: 4.875833034515381. Accuracy: 86\n",
      "Iteration: 9000. Loss: 4.9644551277160645. Accuracy: 86\n"
     ]
    }
   ],
   "source": [
    "# Train the model\n",
    "\n",
    "LAMBDA = 0.001\n",
    "train_loss = []\n",
    "train_accuracy = []\n",
    "\n",
    "iter = 0\n",
    "for epoch in range(num_epochs):\n",
    "    \n",
    "    '''\n",
    "    One iteration\n",
    "    '''\n",
    "    # Calculate Accuracy         \n",
    "    correct_1 = 0\n",
    "    total_1 = 0\n",
    "    for i, (images, labels) in enumerate(train_loader):\n",
    "        #######################\n",
    "        #  USE GPU FOR MODEL  #\n",
    "        #######################\n",
    "        if torch.cuda.is_available():\n",
    "            images = Variable(images.view(-1, 28*28).to(device))\n",
    "            labels = Variable(labels.to(device))\n",
    "        else:\n",
    "            images = Variable(images.view(-1, 28*28))\n",
    "            labels = Variable(labels)\n",
    "        \n",
    "        # Forward pass to get output/logits\n",
    "        outputs = model(images)\n",
    "        \n",
    "        '''\n",
    "        Save accuracy to draw accuracy curve\n",
    "        '''\n",
    "        # Get predictions from the maximum value\n",
    "        _, predicted = torch.max(outputs.data, 1)\n",
    "                \n",
    "        # Total number of labels\n",
    "        total_1 += labels.size(0)\n",
    "           \n",
    "        #######################\n",
    "        #  USE GPU FOR MODEL  #\n",
    "        #######################\n",
    "        # Total correct predictions\n",
    "        if torch.cuda.is_available():\n",
    "                    correct_1 += (predicted.cpu() == labels.cpu()).sum() # because .sum() function does not work on GPU\n",
    "        else:                \n",
    "                    correct_1 += (predicted == labels).sum()\n",
    "            \n",
    "        accuracy = 100 * correct_1 // total_1\n",
    "        train_accuracy.append(accuracy)\n",
    "        ''''''\n",
    "        \n",
    "        \n",
    "        # Clear gradients w.r.t. parameters\n",
    "        optimizer.zero_grad()\n",
    "        \n",
    "        # Calculate Loss: softmax --> cross entropy loss\n",
    "        loss = criterion(outputs, labels)\n",
    "        \n",
    "        '''\n",
    "        L1 regularization\n",
    "        '''\n",
    "        l1_regularization = torch.tensor(0).long()\n",
    "        for param in model.parameters():\n",
    "            l1_regularization += torch.norm(param, 1).long()\n",
    "            \n",
    "        loss += LAMBDA * l1_regularization\n",
    "        \n",
    "        '''\n",
    "        Save loss to draw accuracy curve\n",
    "        '''\n",
    "        train_loss.append(loss)\n",
    "        ''''''\n",
    "        \n",
    "        \n",
    "        # Getting gradients w.r.t. parameters\n",
    "        loss.backward()\n",
    "        \n",
    "        # Updating parameters\n",
    "        optimizer.step()\n",
    "        ''''''\n",
    "        \n",
    "        iter += 1\n",
    "    \n",
    "        # Testing the model\n",
    "        if iter % 500 == 0:\n",
    "            # Calculate Accuracy         \n",
    "            correct = 0\n",
    "            total = 0\n",
    "            # Iterate through test dataset\n",
    "            for images, labels in test_loader:\n",
    "                #######################\n",
    "                #  USE GPU FOR MODEL  #\n",
    "                #######################\n",
    "                if torch.cuda.is_available():\n",
    "                    images = Variable(images.view(-1, 28*28).to(device))\n",
    "                else:\n",
    "                    images = Variable(images.view(-1, 28*28))    \n",
    "                    \n",
    "                # Forward pass only to get logits/output\n",
    "                outputs = model(images)\n",
    "                \n",
    "                # Get predictions from the maximum value\n",
    "                _, predicted = torch.max(outputs.data, 1)\n",
    "                \n",
    "                # Total number of labels\n",
    "                total += labels.size(0)\n",
    "           \n",
    "                #######################\n",
    "                #  USE GPU FOR MODEL  #\n",
    "                #######################\n",
    "                # Total correct predictions\n",
    "                if torch.cuda.is_available():\n",
    "                    correct += (predicted.cpu() == labels.cpu()).sum() # because .sum() function does not work on GPU\n",
    "                else:                \n",
    "                    correct += (predicted == labels).sum()\n",
    "            \n",
    "            accuracy = 100 * correct // total\n",
    "            \n",
    "            # Print Loss\n",
    "            print('Iteration: {}. Loss: {}. Accuracy: {}'.format(iter, loss.data, accuracy))\n",
    "            "
   ]
  },
  {
   "cell_type": "code",
   "execution_count": 43,
   "metadata": {
    "id": "4oqhqOnnNEr8",
    "outputId": "0c3332d8-6c4f-4ab7-dcb7-d7d8d31ab6a3"
   },
   "outputs": [
    {
     "data": {
      "image/png": "[encoded data removed]",
      "text/plain": [
       "<Figure size 576x360 with 1 Axes>"
      ]
     },
     "metadata": {
      "needs_background": "light"
     },
     "output_type": "display_data"
    },
    {
     "data": {
      "image/png": "[encoded data removed]",
      "text/plain": [
       "<Figure size 576x360 with 1 Axes>"
      ]
     },
     "metadata": {
      "needs_background": "light"
     },
     "output_type": "display_data"
    }
   ],
   "source": [
    "#Plots the loss and accuracy curves\n",
    "\n",
    "plt.figure(figsize=(8,5))\n",
    "plt.plot(range(len(train_loss)), train_loss)\n",
    "plt.xlabel(\"Iteration\")\n",
    "plt.ylabel(\"Cross entropy loss\")\n",
    "plt.title(\"Loss curve for training\")\n",
    "plt.show()\n",
    "\n",
    "plt.figure(figsize=(8,5))\n",
    "plt.plot(range(len(train_accuracy)), train_accuracy, c='r')\n",
    "plt.xlabel(\"Iteration\")\n",
    "plt.ylabel(\"Accuracy\")\n",
    "plt.title(\"Accuracy curve for training\")\n",
    "plt.show()"
   ]
  },
  {
   "cell_type": "code",
   "execution_count": 44,
   "metadata": {
    "id": "ECFD12VjNEr-"
   },
   "outputs": [],
   "source": [
    "save_model = True\n",
    "if save_model is True:\n",
    "    torch.save(model.state_dict(), path+\"\\\\regularization_fashion-mnist-D-l1.pkl\")# only save parameters"
   ]
  },
  {
   "cell_type": "markdown",
   "metadata": {
    "id": "-dntgkNwNEsA"
   },
   "source": [
    "##  Data Augmentation"
   ]
  },
  {
   "cell_type": "markdown",
   "metadata": {
    "id": "uILfz5mMNEsA"
   },
   "source": [
    "### Save images as `png` extensions in order to use `torchvisions.datasets.ImageFolder` and `torchvision.transforms`"
   ]
  },
  {
   "cell_type": "code",
   "execution_count": 15,
   "metadata": {
    "id": "60UqeQz6NEsB"
   },
   "outputs": [],
   "source": [
    "mypath_train = mypath+\"\\\\train\"\n",
    "\n",
    "#for i in range(train_data.shape[0]):\n",
    "#    label = train_labels[i]\n",
    "#    dir = os.path.join(mypath_train, str(label))\n",
    "#    os.chdir(dir)\n",
    "#    image = train_data[i].reshape(28, 28)\n",
    "#    PIL_image = Image.fromarray(np.uint8(image))\n",
    "#    a = str(i)+ \".png\"\n",
    "#    PIL_image.save(a)"
   ]
  },
  {
   "cell_type": "code",
   "execution_count": 16,
   "metadata": {
    "id": "H-fCIt0SNEsD"
   },
   "outputs": [],
   "source": [
    "mypath_test = mypath+\"\\\\test\"\n",
    "\n",
    "#for i in range(test_data.shape[0]):\n",
    "#    label = test_labels[i]\n",
    "#    dir = os.path.join(mypath_test, str(label))\n",
    "#    os.chdir(dir)\n",
    "#    image = test_data[i].reshape(28, 28)\n",
    "#    PIL_image = Image.fromarray(np.uint8(image))\n",
    "#    a = str(i)+ \".png\"\n",
    "#    PIL_image.save(a)"
   ]
  },
  {
   "cell_type": "code",
   "execution_count": 17,
   "metadata": {
    "id": "FlZ8X_S7NEsF"
   },
   "outputs": [],
   "source": [
    "# Restarting the Kernel\n",
    "\n",
    "#import os\n",
    "#os._exit(00)"
   ]
  },
  {
   "cell_type": "code",
   "execution_count": 18,
   "metadata": {
    "id": "u-9le-rLNEsI"
   },
   "outputs": [],
   "source": [
    "import torchvision.transforms as transforms\n",
    "import torchvision.datasets as datasets\n",
    "import PIL"
   ]
  },
  {
   "cell_type": "code",
   "execution_count": 19,
   "metadata": {
    "id": "0DLoKV-VNEsM"
   },
   "outputs": [],
   "source": [
    "train_transforms = transforms.Compose([\n",
    "    #transforms.RandomRotation(degrees=20),\n",
    "    #transforms.RandomCrop(size=(28, 28)),\n",
    "    #transforms.ColorJitter(hue=.05, saturation=.05),\n",
    "    #transforms.RandomHorizontalFlip(),\n",
    "    #transforms.RandomRotation(20, resample=PIL.Image.BILINEAR),\n",
    "    transforms.RandomAffine(degrees=(-30, 30), translate=(0.25, 0.25),\n",
    "                                        resample=PIL.Image.BILINEAR),\n",
    "    transforms.ToTensor(),\n",
    "    transforms.Normalize(mean=(0.5), std=(0.5))\n",
    "])\n",
    "\n",
    "test_transforms = transforms.Compose([\n",
    "    transforms.ToTensor(),\n",
    "    transforms.Normalize(mean=(0.5), std=(0.5))\n",
    "])\n",
    "\n",
    "train_dset = datasets.ImageFolder(mypath_train, transform=train_transforms)\n",
    "test_dset = datasets.ImageFolder(mypath_test, transform=test_transforms)"
   ]
  },
  {
   "cell_type": "code",
   "execution_count": 20,
   "metadata": {
    "id": "8odxzqC2NEsN",
    "outputId": "856d0c51-0083-4d51-f5bb-29e0e2b8c1f7"
   },
   "outputs": [
    {
     "name": "stdout",
     "output_type": "stream",
     "text": [
      "torch.Size([3, 28, 28])\n"
     ]
    }
   ],
   "source": [
    "print(train_dset[10][0].shape)"
   ]
  },
  {
   "cell_type": "code",
   "execution_count": 21,
   "metadata": {
    "id": "FWXRZ9bDNEsQ",
    "outputId": "f6df6370-2699-4ff5-b174-d6e88f007dd6"
   },
   "outputs": [
    {
     "data": {
      "image/png": "[encoded data removed]",
      "text/plain": [
       "<Figure size 432x288 with 1 Axes>"
      ]
     },
     "metadata": {
      "needs_background": "light"
     },
     "output_type": "display_data"
    }
   ],
   "source": [
    "def show_dataset(dataset, n=6):\n",
    "        img = np.vstack((np.hstack((np.asarray(transforms.functional.to_pil_image(dataset[i][0])) for _ in range(n)))\n",
    "                   for i in range(10)))\n",
    "        plt.imshow(img)\n",
    "        plt.axis('off')\n",
    "        \n",
    "show_dataset(train_dset)"
   ]
  },
  {
   "cell_type": "markdown",
   "metadata": {
    "id": "80pS-O6SNEsS"
   },
   "source": [
    "### Model C: 5 Hidden Layers Feedforward Neural Network"
   ]
  },
  {
   "cell_type": "markdown",
   "metadata": {
    "id": "suyblNTCNEsS"
   },
   "source": [
    "#### Make dataset iterable"
   ]
  },
  {
   "cell_type": "code",
   "execution_count": 22,
   "metadata": {
    "colab": {
     "base_uri": "https://localhost:8080/",
     "height": 34
    },
    "id": "fgAt2OgINEsT",
    "outputId": "5daec701-edf8-45a3-beeb-0cd636036856"
   },
   "outputs": [
    {
     "data": {
      "text/plain": [
       "10"
      ]
     },
     "execution_count": 22,
     "metadata": {},
     "output_type": "execute_result"
    }
   ],
   "source": [
    "batch_size = 64\n",
    "n_iters = 9400\n",
    "num_epochs = n_iters / (len(train_dataset) / batch_size)\n",
    "num_epochs = int(num_epochs)\n",
    "num_epochs"
   ]
  },
  {
   "cell_type": "code",
   "execution_count": 23,
   "metadata": {
    "id": "eCSdh7nvNEsV"
   },
   "outputs": [],
   "source": [
    "train_loader = DataLoader(train_dset, batch_size=batch_size, shuffle=True) # create your dataloader\n",
    "\n",
    "test_loader = DataLoader(test_dset, batch_size=batch_size,  shuffle=False)"
   ]
  },
  {
   "cell_type": "code",
   "execution_count": 24,
   "metadata": {
    "id": "hcfLexfZNEsW"
   },
   "outputs": [],
   "source": [
    "input_dim = 3*28*28\n",
    "output_dim = 10\n",
    "hidden_dim1 = 100 \n",
    "hidden_dim2 = 100 \n",
    "hidden_dim3 = 200 \n",
    "hidden_dim4 = 300 \n",
    "hidden_dim5 = 100 "
   ]
  },
  {
   "cell_type": "markdown",
   "metadata": {
    "id": "4v9G1HbINEsY"
   },
   "source": [
    "#### Create model class"
   ]
  },
  {
   "cell_type": "code",
   "execution_count": 25,
   "metadata": {
    "id": "OM-95HeONEsY"
   },
   "outputs": [],
   "source": [
    "class FNNModel(nn.Module):\n",
    "    def __init__(self, input_dim, hidden_dim1, hidden_dim2, hidden_dim3, hidden_dim4, hidden_dim5, output_dim):\n",
    "        \n",
    "        super(FNNModel, self).__init__()\n",
    "        \n",
    "        self.f1 = nn.Linear(input_dim,hidden_dim1)\n",
    "        self.relu1 = nn.ReLU()\n",
    "        \n",
    "        self.f2 = nn.Linear(hidden_dim1,hidden_dim2)\n",
    "        self.relu2 = nn.ReLU()\n",
    "        \n",
    "        self.f3 = nn.Linear(hidden_dim2,hidden_dim3)\n",
    "        self.sigmoid = nn.Tanh()\n",
    "        \n",
    "        self.f4 = nn.Linear(hidden_dim3,hidden_dim4)\n",
    "        self.relu3 = nn.ReLU()\n",
    "        \n",
    "        self.f5 = nn.Linear(hidden_dim4,hidden_dim5)\n",
    "        self.relu4 = nn.ReLU()\n",
    "        \n",
    "        self.f6 = nn.Linear(hidden_dim5,output_dim)\n",
    "        \n",
    "    def forward(self, x):\n",
    "        out = self.f1(x)\n",
    "        out = self.relu1(out)\n",
    "\n",
    "        out = self.f2(out)\n",
    "        out = self.relu2(out)\n",
    "        \n",
    "        out = self.f3(out)\n",
    "        out = self.sigmoid(out)\n",
    "        \n",
    "        out = self.f4(out)\n",
    "        out = self.relu3(out)\n",
    "        \n",
    "        out = self.f5(out)\n",
    "        out = self.relu4(out)\n",
    "        \n",
    "        out = self.f6(out)\n",
    "        \n",
    "        return out       \n",
    "    "
   ]
  },
  {
   "cell_type": "code",
   "execution_count": 26,
   "metadata": {
    "id": "CHPCB9phNEsZ",
    "outputId": "bdb3f8d5-878d-4d80-d2ba-7393e12cde74"
   },
   "outputs": [
    {
     "data": {
      "text/plain": [
       "FNNModel(\n",
       "  (f1): Linear(in_features=2352, out_features=100, bias=True)\n",
       "  (relu1): ReLU()\n",
       "  (f2): Linear(in_features=100, out_features=100, bias=True)\n",
       "  (relu2): ReLU()\n",
       "  (f3): Linear(in_features=100, out_features=200, bias=True)\n",
       "  (sigmoid): Tanh()\n",
       "  (f4): Linear(in_features=200, out_features=300, bias=True)\n",
       "  (relu3): ReLU()\n",
       "  (f5): Linear(in_features=300, out_features=100, bias=True)\n",
       "  (relu4): ReLU()\n",
       "  (f6): Linear(in_features=100, out_features=10, bias=True)\n",
       ")"
      ]
     },
     "execution_count": 26,
     "metadata": {},
     "output_type": "execute_result"
    }
   ],
   "source": [
    "model = FNNModel(input_dim, hidden_dim1, hidden_dim2, hidden_dim3, hidden_dim4, hidden_dim5, output_dim)\n",
    "\n",
    "#######################\n",
    "#  USE GPU FOR MODEL  #\n",
    "#######################\n",
    "model.to(device)"
   ]
  },
  {
   "cell_type": "code",
   "execution_count": 27,
   "metadata": {
    "id": "bSCeDHFgNEsb",
    "outputId": "6f4e26b2-c2c4-493e-b235-385d1051a8c2"
   },
   "outputs": [
    {
     "name": "stdout",
     "output_type": "stream",
     "text": [
      "----------------------------------------------------------------\n",
      "        Layer (type)               Output Shape         Param #\n",
      "================================================================\n",
      "            Linear-1               [-1, 1, 100]         235,300\n",
      "              ReLU-2               [-1, 1, 100]               0\n",
      "            Linear-3               [-1, 1, 100]          10,100\n",
      "              ReLU-4               [-1, 1, 100]               0\n",
      "            Linear-5               [-1, 1, 200]          20,200\n",
      "              Tanh-6               [-1, 1, 200]               0\n",
      "            Linear-7               [-1, 1, 300]          60,300\n",
      "              ReLU-8               [-1, 1, 300]               0\n",
      "            Linear-9               [-1, 1, 100]          30,100\n",
      "             ReLU-10               [-1, 1, 100]               0\n",
      "           Linear-11                [-1, 1, 10]           1,010\n",
      "================================================================\n",
      "Total params: 357,010\n",
      "Trainable params: 357,010\n",
      "Non-trainable params: 0\n",
      "----------------------------------------------------------------\n",
      "Input size (MB): 0.01\n",
      "Forward/backward pass size (MB): 0.01\n",
      "Params size (MB): 1.36\n",
      "Estimated Total Size (MB): 1.38\n",
      "----------------------------------------------------------------\n"
     ]
    }
   ],
   "source": [
    "summary(model, (1,3*28*28))"
   ]
  },
  {
   "cell_type": "code",
   "execution_count": 28,
   "metadata": {
    "id": "QxjgYBDNNEsd"
   },
   "outputs": [],
   "source": [
    "criterion = nn.CrossEntropyLoss()\n",
    "\n",
    "learning_rate = 0.01\n",
    "optimizer = torch.optim.SGD(model.parameters(), lr=learning_rate)"
   ]
  },
  {
   "cell_type": "code",
   "execution_count": 29,
   "metadata": {
    "id": "3_2aIGapNEsf",
    "outputId": "b1a3d988-9eb9-4222-e642-d0039ddb51b8"
   },
   "outputs": [
    {
     "name": "stdout",
     "output_type": "stream",
     "text": [
      "Iteration: 500. Loss: 2.2816505432128906. Accuracy: 22\n",
      "Iteration: 1000. Loss: 1.9803636074066162. Accuracy: 21\n",
      "Iteration: 1500. Loss: 1.6149300336837769. Accuracy: 43\n",
      "Iteration: 2000. Loss: 1.4115705490112305. Accuracy: 47\n",
      "Iteration: 2500. Loss: 1.3622136116027832. Accuracy: 54\n",
      "Iteration: 3000. Loss: 1.0374010801315308. Accuracy: 60\n",
      "Iteration: 3500. Loss: 1.1496188640594482. Accuracy: 61\n",
      "Iteration: 4000. Loss: 1.152545690536499. Accuracy: 64\n",
      "Iteration: 4500. Loss: 1.026536464691162. Accuracy: 63\n",
      "Iteration: 5000. Loss: 1.0805940628051758. Accuracy: 65\n",
      "Iteration: 5500. Loss: 1.1020151376724243. Accuracy: 64\n",
      "Iteration: 6000. Loss: 0.9146216511726379. Accuracy: 65\n",
      "Iteration: 6500. Loss: 1.0521332025527954. Accuracy: 66\n",
      "Iteration: 7000. Loss: 0.9449040293693542. Accuracy: 66\n",
      "Iteration: 7500. Loss: 0.8649071455001831. Accuracy: 68\n",
      "Iteration: 8000. Loss: 0.9161742925643921. Accuracy: 68\n",
      "Iteration: 8500. Loss: 1.0556538105010986. Accuracy: 68\n",
      "Iteration: 9000. Loss: 0.8235880732536316. Accuracy: 69\n"
     ]
    }
   ],
   "source": [
    "# Train the model\n",
    "\n",
    "train_loss = []\n",
    "train_accuracy = []\n",
    "\n",
    "iter = 0\n",
    "for epoch in range(num_epochs):\n",
    "    \n",
    "    '''\n",
    "    One iteration\n",
    "    '''\n",
    "    # Calculate Accuracy         \n",
    "    correct_1 = 0\n",
    "    total_1 = 0\n",
    "    for images, labels in train_loader:\n",
    "        #######################\n",
    "        #  USE GPU FOR MODEL  #\n",
    "        #######################\n",
    "        if torch.cuda.is_available():\n",
    "            images = Variable(images.view(-1, 3*28*28).to(device))\n",
    "            labels = Variable(labels.to(device))\n",
    "        else:\n",
    "            images = Variable(images.view(-1, 3*28*28))\n",
    "            labels = Variable(labels)\n",
    "        \n",
    "        # Forward pass to get output/logits\n",
    "        outputs = model(images)\n",
    "        \n",
    "        '''\n",
    "        Save accuracy to draw accuracy curve\n",
    "        '''\n",
    "        # Get predictions from the maximum value\n",
    "        _, predicted = torch.max(outputs.data, 1)\n",
    "                \n",
    "        # Total number of labels\n",
    "        total_1 += labels.size(0)\n",
    "           \n",
    "        #######################\n",
    "        #  USE GPU FOR MODEL  #\n",
    "        #######################\n",
    "        # Total correct predictions\n",
    "        if torch.cuda.is_available():\n",
    "                    correct_1 += (predicted.cpu() == labels.cpu()).sum() # because .sum() function does not work on GPU\n",
    "        else:                \n",
    "                    correct_1 += (predicted == labels).sum()\n",
    "            \n",
    "        accuracy = 100 * correct_1 // total_1\n",
    "        train_accuracy.append(accuracy)\n",
    "        ''''''\n",
    "        \n",
    "        \n",
    "        # Clear gradients w.r.t. parameters\n",
    "        optimizer.zero_grad()\n",
    "        \n",
    "        # Calculate Loss: softmax --> cross entropy loss\n",
    "        loss = criterion(outputs, labels)\n",
    "        \n",
    "        '''\n",
    "        Save loss to draw accuracy curve\n",
    "        '''\n",
    "        train_loss.append(loss)\n",
    "        ''''''\n",
    "        \n",
    "        \n",
    "        # Getting gradients w.r.t. parameters\n",
    "        loss.backward()\n",
    "        \n",
    "        # Updating parameters\n",
    "        optimizer.step()\n",
    "        ''''''\n",
    "        \n",
    "        iter += 1\n",
    "    \n",
    "        # Testing the model\n",
    "        if iter % 500 == 0:\n",
    "            # Calculate Accuracy         \n",
    "            correct = 0\n",
    "            total = 0\n",
    "            # Iterate through test dataset\n",
    "            for images, labels in test_loader:\n",
    "                #######################\n",
    "                #  USE GPU FOR MODEL  #\n",
    "                #######################\n",
    "                if torch.cuda.is_available():\n",
    "                    images = Variable(images.view(-1, 3*28*28).to(device))\n",
    "                else:\n",
    "                    images = Variable(images.view(-1, 3*28*28))    \n",
    "                    \n",
    "                # Forward pass only to get logits/output\n",
    "                outputs = model(images)\n",
    "                \n",
    "                # Get predictions from the maximum value\n",
    "                _, predicted = torch.max(outputs.data, 1)\n",
    "                \n",
    "                # Total number of labels\n",
    "                total += labels.size(0)\n",
    "           \n",
    "                #######################\n",
    "                #  USE GPU FOR MODEL  #\n",
    "                #######################\n",
    "                # Total correct predictions\n",
    "                if torch.cuda.is_available():\n",
    "                    correct += (predicted.cpu() == labels.cpu()).sum() # because .sum() function does not work on GPU\n",
    "                else:                \n",
    "                    correct += (predicted == labels).sum()\n",
    "            \n",
    "            accuracy = 100 * correct // total\n",
    "            \n",
    "            # Print Loss\n",
    "            print('Iteration: {}. Loss: {}. Accuracy: {}'.format(iter, loss.data, accuracy))\n",
    "            "
   ]
  },
  {
   "cell_type": "code",
   "execution_count": 30,
   "metadata": {
    "id": "xcsF7L5jNEsh",
    "outputId": "2fce3b49-92da-4075-af24-22e5e24cef85"
   },
   "outputs": [
    {
     "data": {
      "image/png": "[encoded data removed]",
      "text/plain": [
       "<Figure size 576x360 with 1 Axes>"
      ]
     },
     "metadata": {
      "needs_background": "light"
     },
     "output_type": "display_data"
    },
    {
     "data": {
      "image/png": "[encoded data removed]",
      "text/plain": [
       "<Figure size 576x360 with 1 Axes>"
      ]
     },
     "metadata": {
      "needs_background": "light"
     },
     "output_type": "display_data"
    }
   ],
   "source": [
    "#Plots the loss and accuracy curves\n",
    "\n",
    "plt.figure(figsize=(8,5))\n",
    "plt.plot(range(len(train_loss)), train_loss)\n",
    "plt.xlabel(\"Iteration\")\n",
    "plt.ylabel(\"Cross entropy loss\")\n",
    "plt.title(\"Loss curve for training\")\n",
    "plt.show()\n",
    "\n",
    "plt.figure(figsize=(8,5))\n",
    "plt.plot(range(len(train_accuracy)), train_accuracy, c='r')\n",
    "plt.xlabel(\"Iteration\")\n",
    "plt.ylabel(\"Accuracy\")\n",
    "plt.title(\"Accuracy curve for training\")\n",
    "plt.show()"
   ]
  },
  {
   "cell_type": "code",
   "execution_count": 31,
   "metadata": {
    "id": "P8-6h2ukNEsi"
   },
   "outputs": [],
   "source": [
    "save_model = True\n",
    "if save_model is True:\n",
    "    torch.save(model.state_dict(), path+\"\\\\regularization_fashion-mnist-C-aug.pkl\")# only save parameters"
   ]
  },
  {
   "cell_type": "markdown",
   "metadata": {
    "id": "vRdOSFJ_NEso"
   },
   "source": [
    "### Model D: 3 Hidden Layers Feedforward Neural Network"
   ]
  },
  {
   "cell_type": "code",
   "execution_count": 32,
   "metadata": {
    "id": "YRh9Ym59NEso"
   },
   "outputs": [],
   "source": [
    "train_transforms = transforms.Compose([\n",
    "    transforms.RandomRotation(degrees=20),\n",
    "    transforms.RandomCrop(size=(28, 28)),\n",
    "    transforms.ColorJitter(hue=.05, saturation=.05),\n",
    "    transforms.RandomHorizontalFlip(),\n",
    "    transforms.RandomRotation(20, resample=PIL.Image.BILINEAR),\n",
    "    #transforms.RandomAffine(degrees=(-30, 30), translate=(0.25, 0.25),\n",
    "    #                                    resample=PIL.Image.BILINEAR),\n",
    "    transforms.ToTensor(),\n",
    "    #transforms.Normalize(mean=(0.5), std=(0.5))\n",
    "])\n",
    "\n",
    "test_transforms = transforms.Compose([\n",
    "    transforms.ToTensor(),\n",
    "    #transforms.Normalize(mean=(0.5), std=(0.5))\n",
    "])\n",
    "\n",
    "train_dset = datasets.ImageFolder(mypath_train, transform=train_transforms)\n",
    "test_dset = datasets.ImageFolder(mypath_test, transform=test_transforms)"
   ]
  },
  {
   "cell_type": "code",
   "execution_count": 33,
   "metadata": {
    "id": "-pytE4BsNEsr",
    "outputId": "cc6badae-b384-4820-fad5-baaeea9a67ea"
   },
   "outputs": [
    {
     "name": "stdout",
     "output_type": "stream",
     "text": [
      "torch.Size([3, 28, 28])\n"
     ]
    }
   ],
   "source": [
    "print(train_dset[10][0].shape)"
   ]
  },
  {
   "cell_type": "code",
   "execution_count": 34,
   "metadata": {
    "id": "7os9pzOUNEst",
    "outputId": "585463ef-3e2e-40b5-b7c3-6a89d1b6f1d4"
   },
   "outputs": [
    {
     "data": {
      "image/png": "[encoded data removed]",
      "text/plain": [
       "<Figure size 432x288 with 1 Axes>"
      ]
     },
     "metadata": {
      "needs_background": "light"
     },
     "output_type": "display_data"
    }
   ],
   "source": [
    "def show_dataset(dataset, n=6):\n",
    "        img = np.vstack((np.hstack((np.asarray(transforms.functional.to_pil_image(train_dset[i][0])) for _ in range(n)))\n",
    "                   for i in range(10)))\n",
    "        plt.imshow(img)\n",
    "        plt.axis('off')\n",
    "        \n",
    "show_dataset(train_dset)"
   ]
  },
  {
   "cell_type": "markdown",
   "metadata": {
    "id": "zS1K3fq_NEsw"
   },
   "source": [
    "#### Make dataset iterable"
   ]
  },
  {
   "cell_type": "code",
   "execution_count": 35,
   "metadata": {
    "colab": {
     "base_uri": "https://localhost:8080/",
     "height": 34
    },
    "id": "Pn7hkGo_NEsx",
    "outputId": "5daec701-edf8-45a3-beeb-0cd636036856"
   },
   "outputs": [
    {
     "data": {
      "text/plain": [
       "20"
      ]
     },
     "execution_count": 35,
     "metadata": {},
     "output_type": "execute_result"
    }
   ],
   "source": [
    "batch_size = 128\n",
    "n_iters = 9400\n",
    "num_epochs = n_iters / (len(train_dataset) / batch_size)\n",
    "num_epochs = int(num_epochs)\n",
    "num_epochs"
   ]
  },
  {
   "cell_type": "code",
   "execution_count": 36,
   "metadata": {
    "id": "PcyaRFtoNEs0"
   },
   "outputs": [],
   "source": [
    "train_loader = DataLoader(train_dset, batch_size=batch_size, shuffle=True) # create your dataloader\n",
    "\n",
    "test_loader = DataLoader(test_dset, batch_size=batch_size,  shuffle=False)"
   ]
  },
  {
   "cell_type": "code",
   "execution_count": 37,
   "metadata": {
    "id": "a86Al3T9NEs1"
   },
   "outputs": [],
   "source": [
    "input_dim = 3*28*28\n",
    "output_dim = 10\n",
    "hidden_dim1 = 256\n",
    "hidden_dim2 = 128 "
   ]
  },
  {
   "cell_type": "markdown",
   "metadata": {
    "id": "FPIQXkRPNEs2"
   },
   "source": [
    "#### Create model class"
   ]
  },
  {
   "cell_type": "code",
   "execution_count": 38,
   "metadata": {
    "id": "CO6afyePNEs2"
   },
   "outputs": [],
   "source": [
    "class FNNModel(nn.Module):\n",
    "    def __init__(self, input_dim, hidden_dim1, hidden_dim2, output_dim):\n",
    "        \n",
    "        super(FNNModel, self).__init__()\n",
    "        \n",
    "        self.f1 = nn.Linear(input_dim,hidden_dim1)\n",
    "        self.relu1 = nn.ReLU()\n",
    "        \n",
    "        self.f2 = nn.Linear(hidden_dim1,hidden_dim2)\n",
    "        self.relu2 = nn.ReLU()\n",
    "        \n",
    "        self.f3 = nn.Linear(hidden_dim2,output_dim)\n",
    "        \n",
    "    def forward(self, x):\n",
    "        out = self.f1(x)\n",
    "        out = self.relu1(out)\n",
    "\n",
    "        out = self.f2(out)\n",
    "        out = self.relu2(out)\n",
    "        \n",
    "        out = self.f3(out)\n",
    "        \n",
    "        return out       \n",
    "    "
   ]
  },
  {
   "cell_type": "code",
   "execution_count": 39,
   "metadata": {
    "id": "3K-X93B1NEs4",
    "outputId": "e8739570-1e17-4d11-bbbf-88f4f09b7275"
   },
   "outputs": [
    {
     "data": {
      "text/plain": [
       "FNNModel(\n",
       "  (f1): Linear(in_features=2352, out_features=256, bias=True)\n",
       "  (relu1): ReLU()\n",
       "  (f2): Linear(in_features=256, out_features=128, bias=True)\n",
       "  (relu2): ReLU()\n",
       "  (f3): Linear(in_features=128, out_features=10, bias=True)\n",
       ")"
      ]
     },
     "execution_count": 39,
     "metadata": {},
     "output_type": "execute_result"
    }
   ],
   "source": [
    "model = FNNModel(input_dim, hidden_dim1, hidden_dim2, output_dim)\n",
    "\n",
    "#######################\n",
    "#  USE GPU FOR MODEL  #\n",
    "#######################\n",
    "model.to(device)"
   ]
  },
  {
   "cell_type": "code",
   "execution_count": 40,
   "metadata": {
    "id": "q0HW6WkKNEs5",
    "outputId": "0b4f1ec3-c228-4711-91d2-861f2a14e1c6"
   },
   "outputs": [
    {
     "name": "stdout",
     "output_type": "stream",
     "text": [
      "----------------------------------------------------------------\n",
      "        Layer (type)               Output Shape         Param #\n",
      "================================================================\n",
      "            Linear-1               [-1, 1, 256]         602,368\n",
      "              ReLU-2               [-1, 1, 256]               0\n",
      "            Linear-3               [-1, 1, 128]          32,896\n",
      "              ReLU-4               [-1, 1, 128]               0\n",
      "            Linear-5                [-1, 1, 10]           1,290\n",
      "================================================================\n",
      "Total params: 636,554\n",
      "Trainable params: 636,554\n",
      "Non-trainable params: 0\n",
      "----------------------------------------------------------------\n",
      "Input size (MB): 0.01\n",
      "Forward/backward pass size (MB): 0.01\n",
      "Params size (MB): 2.43\n",
      "Estimated Total Size (MB): 2.44\n",
      "----------------------------------------------------------------\n"
     ]
    }
   ],
   "source": [
    "summary(model, (1,3*28*28))"
   ]
  },
  {
   "cell_type": "code",
   "execution_count": 41,
   "metadata": {
    "id": "AWrLl5fHNEs7"
   },
   "outputs": [],
   "source": [
    "criterion = nn.CrossEntropyLoss()\n",
    "\n",
    "learning_rate = 0.001\n",
    "optimizer = torch.optim.SGD(model.parameters(), lr=learning_rate)"
   ]
  },
  {
   "cell_type": "code",
   "execution_count": 42,
   "metadata": {
    "id": "x37dHFGoNEs8",
    "outputId": "86f43a21-a14a-4caf-bc47-949f2281d737"
   },
   "outputs": [
    {
     "name": "stdout",
     "output_type": "stream",
     "text": [
      "Iteration: 500. Loss: 2.236178398132324. Accuracy: 29\n",
      "Iteration: 1000. Loss: 2.1297543048858643. Accuracy: 51\n",
      "Iteration: 1500. Loss: 1.9876383543014526. Accuracy: 51\n",
      "Iteration: 2000. Loss: 1.7973318099975586. Accuracy: 46\n",
      "Iteration: 2500. Loss: 1.6747509241104126. Accuracy: 50\n",
      "Iteration: 3000. Loss: 1.5846844911575317. Accuracy: 54\n",
      "Iteration: 3500. Loss: 1.4942927360534668. Accuracy: 56\n",
      "Iteration: 4000. Loss: 1.3300617933273315. Accuracy: 57\n",
      "Iteration: 4500. Loss: 1.3114268779754639. Accuracy: 58\n",
      "Iteration: 5000. Loss: 1.1940268278121948. Accuracy: 59\n",
      "Iteration: 5500. Loss: 1.3497331142425537. Accuracy: 60\n",
      "Iteration: 6000. Loss: 1.1012639999389648. Accuracy: 61\n",
      "Iteration: 6500. Loss: 1.0724066495895386. Accuracy: 62\n",
      "Iteration: 7000. Loss: 1.220318078994751. Accuracy: 62\n",
      "Iteration: 7500. Loss: 0.9768035411834717. Accuracy: 64\n",
      "Iteration: 8000. Loss: 1.1247761249542236. Accuracy: 64\n",
      "Iteration: 8500. Loss: 1.1057277917861938. Accuracy: 65\n",
      "Iteration: 9000. Loss: 1.0454074144363403. Accuracy: 65\n"
     ]
    }
   ],
   "source": [
    "# Train the model\n",
    "\n",
    "train_loss = []\n",
    "train_accuracy = []\n",
    "\n",
    "iter = 0\n",
    "for epoch in range(num_epochs):\n",
    "    \n",
    "    '''\n",
    "    One iteration\n",
    "    '''\n",
    "    # Calculate Accuracy         \n",
    "    correct_1 = 0\n",
    "    total_1 = 0\n",
    "    for images, labels in train_loader:\n",
    "        #######################\n",
    "        #  USE GPU FOR MODEL  #\n",
    "        #######################\n",
    "        if torch.cuda.is_available():\n",
    "            images = Variable(images.view(-1, 3*28*28).to(device))\n",
    "            labels = Variable(labels.to(device))\n",
    "        else:\n",
    "            images = Variable(images.view(-1, 3*28*28))\n",
    "            labels = Variable(labels)\n",
    "        \n",
    "        # Forward pass to get output/logits\n",
    "        outputs = model(images)\n",
    "        \n",
    "        '''\n",
    "        Save accuracy to draw accuracy curve\n",
    "        '''\n",
    "        # Get predictions from the maximum value\n",
    "        _, predicted = torch.max(outputs.data, 1)\n",
    "                \n",
    "        # Total number of labels\n",
    "        total_1 += labels.size(0)\n",
    "           \n",
    "        #######################\n",
    "        #  USE GPU FOR MODEL  #\n",
    "        #######################\n",
    "        # Total correct predictions\n",
    "        if torch.cuda.is_available():\n",
    "                    correct_1 += (predicted.cpu() == labels.cpu()).sum() # because .sum() function does not work on GPU\n",
    "        else:                \n",
    "                    correct_1 += (predicted == labels).sum()\n",
    "            \n",
    "        accuracy = 100 * correct_1 // total_1\n",
    "        train_accuracy.append(accuracy)\n",
    "        ''''''\n",
    "        \n",
    "        \n",
    "        # Clear gradients w.r.t. parameters\n",
    "        optimizer.zero_grad()\n",
    "        \n",
    "        # Calculate Loss: softmax --> cross entropy loss\n",
    "        loss = criterion(outputs, labels)\n",
    "        \n",
    "        '''\n",
    "        Save loss to draw accuracy curve\n",
    "        '''\n",
    "        train_loss.append(loss)\n",
    "        ''''''\n",
    "        \n",
    "        \n",
    "        # Getting gradients w.r.t. parameters\n",
    "        loss.backward()\n",
    "        \n",
    "        # Updating parameters\n",
    "        optimizer.step()\n",
    "        ''''''\n",
    "        \n",
    "        iter += 1\n",
    "    \n",
    "        # Testing the model\n",
    "        if iter % 500 == 0:\n",
    "            # Calculate Accuracy         \n",
    "            correct = 0\n",
    "            total = 0\n",
    "            # Iterate through test dataset\n",
    "            for images, labels in test_loader:\n",
    "                #######################\n",
    "                #  USE GPU FOR MODEL  #\n",
    "                #######################\n",
    "                if torch.cuda.is_available():\n",
    "                    images = Variable(images.view(-1, 3*28*28).to(device))\n",
    "                else:\n",
    "                    images = Variable(images.view(-1, 3*28*28))    \n",
    "                    \n",
    "                # Forward pass only to get logits/output\n",
    "                outputs = model(images)\n",
    "                \n",
    "                # Get predictions from the maximum value\n",
    "                _, predicted = torch.max(outputs.data, 1)\n",
    "                \n",
    "                # Total number of labels\n",
    "                total += labels.size(0)\n",
    "           \n",
    "                #######################\n",
    "                #  USE GPU FOR MODEL  #\n",
    "                #######################\n",
    "                # Total correct predictions\n",
    "                if torch.cuda.is_available():\n",
    "                    correct += (predicted.cpu() == labels.cpu()).sum() # because .sum() function does not work on GPU\n",
    "                else:                \n",
    "                    correct += (predicted == labels).sum()\n",
    "            \n",
    "            accuracy = 100 * correct // total\n",
    "            \n",
    "            # Print Loss\n",
    "            print('Iteration: {}. Loss: {}. Accuracy: {}'.format(iter, loss.data, accuracy))\n",
    "            "
   ]
  },
  {
   "cell_type": "code",
   "execution_count": 43,
   "metadata": {
    "id": "fQ1xg54pNEs9",
    "outputId": "fe2e7a2f-4a13-4759-f564-89667b71058a"
   },
   "outputs": [
    {
     "data": {
      "image/png": "[encoded data removed]",
      "text/plain": [
       "<Figure size 576x360 with 1 Axes>"
      ]
     },
     "metadata": {
      "needs_background": "light"
     },
     "output_type": "display_data"
    },
    {
     "data": {
      "image/png": "[encoded data removed]",
      "text/plain": [
       "<Figure size 576x360 with 1 Axes>"
      ]
     },
     "metadata": {
      "needs_background": "light"
     },
     "output_type": "display_data"
    }
   ],
   "source": [
    "#Plots the loss and accuracy curves\n",
    "\n",
    "plt.figure(figsize=(8,5))\n",
    "plt.plot(range(len(train_loss)), train_loss)\n",
    "plt.xlabel(\"Iteration\")\n",
    "plt.ylabel(\"Cross entropy loss\")\n",
    "plt.title(\"Loss curve for training\")\n",
    "plt.show()\n",
    "\n",
    "plt.figure(figsize=(8,5))\n",
    "plt.plot(range(len(train_accuracy)), train_accuracy, c='r')\n",
    "plt.xlabel(\"Iteration\")\n",
    "plt.ylabel(\"Accuracy\")\n",
    "plt.title(\"Accuracy curve for training\")\n",
    "plt.show()"
   ]
  },
  {
   "cell_type": "code",
   "execution_count": 44,
   "metadata": {
    "id": "_rC4Lld3NEs_"
   },
   "outputs": [],
   "source": [
    "save_model = True\n",
    "if save_model is True:\n",
    "    torch.save(model.state_dict(), path+\"\\\\regularization_fashion-mnist-D-aug.pkl\")# only save parameters"
   ]
  }
 ],
 "metadata": {
  "colab": {
   "collapsed_sections": [],
   "name": "Some regularizations on Fashion-MNIST.ipynb",
   "provenance": []
  },
  "kernelspec": {
   "display_name": "Python 3",
   "language": "python",
   "name": "python3"
  },
  "language_info": {
   "codemirror_mode": {
    "name": "ipython",
    "version": 3
   },
   "file_extension": ".py",
   "mimetype": "text/x-python",
   "name": "python",
   "nbconvert_exporter": "python",
   "pygments_lexer": "ipython3",
   "version": "3.8.5"
  }
 },
 "nbformat": 4,
 "nbformat_minor": 4
}
