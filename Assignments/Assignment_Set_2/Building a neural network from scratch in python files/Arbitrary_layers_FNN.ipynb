{
 "cells": [
  {
   "cell_type": "markdown",
   "metadata": {
    "id": "H-n6qgIDKrFV"
   },
   "source": [
    "# A neural network with an arbitrary number of layers and hidden sizes\n",
    "\n",
    "## A modified version of [Building and implementing a neural network from scratch in Python](https://github.com/zahta/Deep_Learning_F20_Assignments/blob/master/Assignments/Assignment_Set_2/Building%20a%20neural%20network%20from%20scratch%20in%20python%20files/3_layers_FNN.ipynb)\n",
    "\n",
    "By [Zahra Taheri](https://github.com/zahta), October 29, 2020"
   ]
  },
  {
   "cell_type": "markdown",
   "metadata": {},
   "source": [
    "## Aknowledgment:\n",
    "[Deep-Learning_Tutorial_Manual_NN_DSC_SBU.ipynb](https://colab.research.google.com/drive/1MswS0QON4atGHxm85oXqCCKR2fypo7Su?usp=sharing)"
   ]
  },
  {
   "cell_type": "markdown",
   "metadata": {
    "id": "u_O6dsNy0mRK"
   },
   "source": [
    "## Import libraries"
   ]
  },
  {
   "cell_type": "code",
   "execution_count": null,
   "metadata": {
    "id": "Y3VbdIvl0mRN"
   },
   "outputs": [],
   "source": [
    "import numpy as np"
   ]
  },
  {
   "cell_type": "markdown",
   "metadata": {},
   "source": [
    "## Some activation and cost functions\n",
    "- ReLU and Sigmoid activation function are defined. Other activation functions can be defined similarly.\n",
    "- MSE loss and Cross entropy loss are defined."
   ]
  },
  {
   "cell_type": "code",
   "execution_count": null,
   "metadata": {},
   "outputs": [],
   "source": [
    "def relu(z):\n",
    "    '''\n",
    "    ReLU activation function\n",
    "    '''\n",
    "    return np.maximum(0, z)\n",
    "   \n",
    "\n",
    "        \n",
    "def sigmoid(z):\n",
    "    '''\n",
    "    Sigmoid activation function\n",
    "    '''\n",
    "    return 1.0/(1.0 + np.exp(-z))\n",
    "    \n",
    "    \n",
    "    \n",
    "def sigmoid_der(z):\n",
    "    '''\n",
    "    Derivative of Sigmoid activation function\n",
    "    '''\n",
    "    return sigmoid(z) *(1.0 - sigmoid(z))\n",
    "    \n",
    "    \n",
    "    \n",
    "def relu_der(z):\n",
    "    '''\n",
    "    Derivative of ReLU activation function\n",
    "    '''\n",
    "    z[z<=0] = 0\n",
    "    z[z>0] = 1\n",
    "    return z\n",
    "    \n",
    "    \n",
    "    \n",
    "def mse_loss(y, yhat):\n",
    "    '''\n",
    "    Mean square error loss\n",
    "    '''\n",
    "    error = ((1/2) * (np.power((y - yhat), 2)))\n",
    "    loss = error.sum()\n",
    "    return loss\n",
    "    \n",
    "    \n",
    "    \n",
    "def crossentropy_loss(y, yhat):\n",
    "    '''\n",
    "    Cross entropy loss\n",
    "    '''\n",
    "    nsample = len(y)\n",
    "    loss = -(1 / nsample) * (np.sum(np.multiply(np.log(yhat), y) + np.multiply((1 - y), np.log(1 - yhat))))\n",
    "    return loss\n",
    "    "
   ]
  },
  {
   "cell_type": "markdown",
   "metadata": {
    "id": "zZDrdWCBKrFb"
   },
   "source": [
    "## A layer of a feedforward neural network"
   ]
  },
  {
   "cell_type": "code",
   "execution_count": 3,
   "metadata": {},
   "outputs": [],
   "source": [
    "class a_layer():\n",
    "    def __init__(self, input_size, output_size, activation_func):\n",
    "        self.input_size = input_size\n",
    "        self.output_size = output_size\n",
    "        self.parameters = {}\n",
    "        self.activation_func = sigmoid if activation_func=='sigmoid' else relu\n",
    "     \n",
    "        # Random weights and biases for this layer (Parameters of input edges to the layer)   \n",
    "        self.parameters['W'] = 0.10 * np.random.random((self.input_size, self.output_size))\n",
    "        self.parameters['b'] = 0.01 * np.ones((self.output_size, ))\n",
    "        \n",
    "    def forward_layer(self, prev_layer_output):\n",
    "        '''\n",
    "        Forward pass of a layer\n",
    "        '''\n",
    "        lin = np.dot(prev_layer_output, self.parameters['W']) + self.parameters['b']\n",
    "        act = self.activation_func(lin)    \n",
    "        self.parameters['lin'] = lin # save new parameters\n",
    "        self.parameters['act'] = act\n",
    "        return act    \n",
    "    \n",
    "    def back_layer(self, dloss_dact, act_prev):\n",
    "        if self.activation_func == 'relu':\n",
    "            dloss_dlin = dloss_dact * self.relu_der(self.parameters['lin'])\n",
    "        elif self.activation_func == 'sigmoid':\n",
    "            dloss_dlin = dloss_dact * self.sigmoid_der(self.parameters['lin'])\n",
    "        else:\n",
    "            dloss_dlin = dloss_dact\n",
    "        dloss_dW = np.dot(act_prev.T, dloss_dlin)\n",
    "        dloss_db = np.sum(dloss_dlin, axis=0)\n",
    "        return dloss_dlin, dloss_dW, dloss_db\n",
    "        "
   ]
  },
  {
   "cell_type": "markdown",
   "metadata": {
    "id": "zZDrdWCBKrFb"
   },
   "source": [
    "## A feedforward neural network"
   ]
  },
  {
   "cell_type": "code",
   "execution_count": 4,
   "metadata": {
    "id": "nof3TsE4KrFe"
   },
   "outputs": [],
   "source": [
    "class FNN():\n",
    "    def __init__(self, layer_dims, activation_funcs, learning_rate): \n",
    "        self.layer_dims = layer_dims\n",
    "        self.activation_funcs = activation_funcs\n",
    "        self.lr = learning_rate\n",
    "        self.parameters = {}\n",
    "        self.loss = []\n",
    "        self.X = None\n",
    "        self.y = None  \n",
    "        self.layers = [a_layer(self.layer_dims[i], self.layer_dims[i+1], self.activation_funcs[i]) \n",
    "                       for i in range(len(self.layer_dims)-1)] # First element of the layer_dims is considered as input dimension\n",
    "        \n",
    "    def forward_propagation(self):\n",
    "        '''\n",
    "        Forward propagation\n",
    "        '''\n",
    "        i, layer_output = 0, self.X\n",
    "        while i < len(self.layers):\n",
    "            self.parameters['W_'+str(i)] = self.layers[i].parameters['W']\n",
    "            self.parameters['b_'+str(i)] = self.layers[i].parameters['b']\n",
    "            layer_output = self.layers[i].forward_layer(layer_output)\n",
    "            self.parameters['lin_'+str(i)] = self.layers[i].parameters['lin']\n",
    "            self.parameters['act_'+str(i)] = self.layers[i].parameters['act']\n",
    "            i += 1        \n",
    "        loss = mse_loss(self.y, layer_output)\n",
    "        return layer_output, loss\n",
    "\n",
    "    \n",
    "    def back_propagation(self, yhat):  \n",
    "        '''\n",
    "        Back propagation\n",
    "        '''\n",
    "        # application of the chain rule to find derivative of the loss function with respect to the parameters    \n",
    "        last_first = [i for i in range(len(self.layers))]\n",
    "        last_first.pop(0)\n",
    "        last_first.reverse()\n",
    "        dloss_dlin_next = (-1) * (self.y - yhat)\n",
    "        for i in last_first:\n",
    "            if i == last_first[0]:\n",
    "                       dloss_dact = dloss_dlin_next\n",
    "                       dloss_dlin_next, dloss_dW, dloss_db = self.layers[i].back_layer(dloss_dact, self.parameters['act_'+str(i-1)])\n",
    "            else:\n",
    "                       dloss_dact = np.dot(dloss_dlin_next, self.parameters['W_'+str(i+1)].T)\n",
    "                       dloss_dlin_next, dloss_dW, dloss_db = self.layers[i].back_layer(dloss_dact, self.parameters['act_'+str(i-1)])                    \n",
    "            \n",
    "            # update weights and biases w.r.t the derivatives of loss function\n",
    "            self.parameters['W_'+str(i)] -= self.lr * dloss_dW\n",
    "            self.parameters['b_'+str(i)] -= self.lr * dloss_db                       \n",
    "\n",
    "            \n",
    "    def fit_full(self, X, y, epochs):\n",
    "        '''\n",
    "        Train the neural network with full batch data\n",
    "        '''\n",
    "        self.X = X\n",
    "        self.y = y    \n",
    "        for i in range(epochs):\n",
    "            yhat, loss = self.forward_propagation()\n",
    "            self.back_propagation(yhat)\n",
    "            self.loss.append(loss)\n",
    "            if i % 1000 == 0:\n",
    "                print(\"Epoch: {} Loss: {}\".format(i, loss))  \n",
    "        print(\"yhat: \", yhat)\n",
    "        print(\"y: \", y)\n",
    "   \n",
    "\n",
    "    def fit_minibatch(self, train, y_train, test, y_test, mini_batches, mini_batches_test, epochs):\n",
    "        '''\n",
    "        Train the neural network with minibatches\n",
    "        '''\n",
    "        \n",
    "        for epoch in range(epochs): \n",
    "            for i, (X,y) in enumerate(mini_batches):\n",
    "                self.X = X\n",
    "                self.y = y  \n",
    "                yhat, loss = self.forward_propagation()\n",
    "                self.back_propagation(yhat)\n",
    "                self.loss.append(loss)\n",
    "   \n",
    "            for X, y in mini_batches_test:\n",
    "                self.X = X\n",
    "                self.y = y  \n",
    "                yhat_t, loss_t = self.forward_propagation()\n",
    "                # Print Loss\n",
    "            print('Epoch: {}. Training Loss: {}. Test Loss: {}'.format(epoch, loss, loss_t))\n",
    "        \n",
    "        self.X = train\n",
    "        self.y = y_train  \n",
    "        yhat, loss = self.forward_propagation()\n",
    "        self.X = test\n",
    "        self.y = y_test \n",
    "        yhat_t, loss_t = self.forward_propagation()\n",
    "        print('\\n Full Train Loss: {}. Full Test Loss: {}'.format(loss, loss_t))"
   ]
  },
  {
   "cell_type": "markdown",
   "metadata": {
    "id": "Jv9TSHm8AfH9"
   },
   "source": [
    "## Dataset: A simple one"
   ]
  },
  {
   "cell_type": "code",
   "execution_count": 5,
   "metadata": {
    "id": "sW-0zlC3KrFi"
   },
   "outputs": [],
   "source": [
    "X = np.array([[0, 0, 1,1],\n",
    "              [0, 1, 1,1],\n",
    "              [1, 0, 1,0],\n",
    "              [1, 1, 1,0]])\n",
    "y = np.array([[1],\n",
    "              [0],\n",
    "              [1],\n",
    "              [0]])\n"
   ]
  },
  {
   "cell_type": "code",
   "execution_count": 6,
   "metadata": {
    "colab": {
     "base_uri": "https://localhost:8080/",
     "height": 204
    },
    "id": "OtSCN8VSKrFm",
    "outputId": "e21f10e6-04f3-47ac-d2e2-fa2a99ba4e42"
   },
   "outputs": [
    {
     "name": "stdout",
     "output_type": "stream",
     "text": [
      "Epoch: 0 Loss: 0.971961267139572\n",
      "Epoch: 1000 Loss: 0.49983242838911096\n",
      "Epoch: 2000 Loss: 0.4979323363196392\n",
      "Epoch: 3000 Loss: 0.4898357135338774\n",
      "Epoch: 4000 Loss: 0.48197354603838494\n",
      "Epoch: 5000 Loss: 0.4250688492052156\n",
      "Epoch: 6000 Loss: 0.25791678453522116\n",
      "Epoch: 7000 Loss: 0.0712211636146744\n",
      "Epoch: 8000 Loss: 0.023393946334512056\n",
      "Epoch: 9000 Loss: 0.014759397147106099\n",
      "Epoch: 10000 Loss: 0.00811848011035466\n",
      "Epoch: 11000 Loss: 0.004411291569836839\n",
      "Epoch: 12000 Loss: 0.002382434373259627\n",
      "Epoch: 13000 Loss: 0.0012895207187900268\n",
      "Epoch: 14000 Loss: 0.0007070389824041509\n",
      "Epoch: 15000 Loss: 0.0003981733624789176\n",
      "Epoch: 16000 Loss: 0.0002342790749537454\n",
      "Epoch: 17000 Loss: 0.00014672639675235557\n",
      "Epoch: 18000 Loss: 9.934433289990021e-05\n",
      "Epoch: 19000 Loss: 7.319508686649394e-05\n",
      "Epoch: 20000 Loss: 5.8378563215022765e-05\n",
      "Epoch: 21000 Loss: 4.970176639013354e-05\n",
      "Epoch: 22000 Loss: 4.44182146631619e-05\n",
      "Epoch: 23000 Loss: 4.105612881555231e-05\n",
      "Epoch: 24000 Loss: 3.8812511621303205e-05\n",
      "Epoch: 25000 Loss: 3.72393142031706e-05\n",
      "Epoch: 26000 Loss: 3.60799473360902e-05\n",
      "Epoch: 27000 Loss: 3.518325773841253e-05\n",
      "Epoch: 28000 Loss: 3.445760691918816e-05\n",
      "Epoch: 29000 Loss: 3.3845889501092945e-05\n",
      "Epoch: 30000 Loss: 3.3311624904189606e-05\n",
      "Epoch: 31000 Loss: 3.283100565393468e-05\n",
      "Epoch: 32000 Loss: 3.2388219104778756e-05\n",
      "Epoch: 33000 Loss: 3.1972613948947384e-05\n",
      "Epoch: 34000 Loss: 3.1576935887344175e-05\n",
      "Epoch: 35000 Loss: 3.1196201321506724e-05\n",
      "Epoch: 36000 Loss: 3.082696287003432e-05\n",
      "Epoch: 37000 Loss: 3.0466821991439415e-05\n",
      "Epoch: 38000 Loss: 3.0114101113917444e-05\n",
      "Epoch: 39000 Loss: 2.976762074591837e-05\n",
      "yhat:  [[0.99382744]\n",
      " [0.        ]\n",
      " [1.00399483]\n",
      " [0.00218966]]\n",
      "y:  [[1]\n",
      " [0]\n",
      " [1]\n",
      " [0]]\n"
     ]
    }
   ],
   "source": [
    "nn = FNN([4,4,2,1], ['nothing', 'relu', 'relu', 'relu'], 0.01)\n",
    "nn.fit_full(X,y,40000)"
   ]
  },
  {
   "cell_type": "markdown",
   "metadata": {
    "id": "83XM1Y55KrFs"
   },
   "source": [
    "## Dataset: California housing values"
   ]
  },
  {
   "cell_type": "markdown",
   "metadata": {
    "id": "s8QdNBrpKrFt"
   },
   "source": [
    "### Import libraries"
   ]
  },
  {
   "cell_type": "code",
   "execution_count": 7,
   "metadata": {
    "id": "B42Jsp5iKrFu"
   },
   "outputs": [],
   "source": [
    "#For some basic operations\n",
    "import numpy as np\n",
    "import pandas as pd\n",
    "\n",
    "#For visualizations\n",
    "import matplotlib as mpl\n",
    "import matplotlib.pyplot as plt\n",
    "%matplotlib inline\n",
    "mpl.rc('axes', labelsize=10)\n",
    "mpl.rc('xtick', labelsize=10)\n",
    "mpl.rc('ytick', labelsize=10)\n",
    "\n",
    "# to make this notebook's output identical at every run\n",
    "np.random.seed(42)\n",
    "\n",
    "import warnings\n",
    "warnings.filterwarnings('ignore')"
   ]
  },
  {
   "cell_type": "markdown",
   "metadata": {
    "id": "qnXp31fQKrFx"
   },
   "source": [
    "## Reading the dataset"
   ]
  },
  {
   "cell_type": "code",
   "execution_count": 8,
   "metadata": {
    "colab": {
     "base_uri": "https://localhost:8080/",
     "height": 34
    },
    "id": "UStR-s6iKrFx",
    "outputId": "c2d62c00-0aed-4e4a-8776-6bb8f4863540"
   },
   "outputs": [
    {
     "data": {
      "text/plain": [
       "(20640, 10)"
      ]
     },
     "execution_count": 8,
     "metadata": {},
     "output_type": "execute_result"
    }
   ],
   "source": [
    "data=pd.read_csv('housing.csv')\n",
    "data.shape"
   ]
  },
  {
   "cell_type": "code",
   "execution_count": 9,
   "metadata": {
    "colab": {
     "base_uri": "https://localhost:8080/",
     "height": 204
    },
    "id": "5WwyH0RuKrF0",
    "outputId": "bcb5ffc8-ef0d-4015-d53e-3edd3de534d5"
   },
   "outputs": [
    {
     "data": {
      "text/html": [
       "<div>\n",
       "<style scoped>\n",
       "    .dataframe tbody tr th:only-of-type {\n",
       "        vertical-align: middle;\n",
       "    }\n",
       "\n",
       "    .dataframe tbody tr th {\n",
       "        vertical-align: top;\n",
       "    }\n",
       "\n",
       "    .dataframe thead th {\n",
       "        text-align: right;\n",
       "    }\n",
       "</style>\n",
       "<table border=\"1\" class=\"dataframe\">\n",
       "  <thead>\n",
       "    <tr style=\"text-align: right;\">\n",
       "      <th></th>\n",
       "      <th>longitude</th>\n",
       "      <th>latitude</th>\n",
       "      <th>housing_median_age</th>\n",
       "      <th>total_rooms</th>\n",
       "      <th>total_bedrooms</th>\n",
       "      <th>population</th>\n",
       "      <th>households</th>\n",
       "      <th>median_income</th>\n",
       "      <th>median_house_value</th>\n",
       "      <th>ocean_proximity</th>\n",
       "    </tr>\n",
       "  </thead>\n",
       "  <tbody>\n",
       "    <tr>\n",
       "      <th>0</th>\n",
       "      <td>-122.23</td>\n",
       "      <td>37.88</td>\n",
       "      <td>41.0</td>\n",
       "      <td>880.0</td>\n",
       "      <td>129.0</td>\n",
       "      <td>322.0</td>\n",
       "      <td>126.0</td>\n",
       "      <td>8.3252</td>\n",
       "      <td>452600.0</td>\n",
       "      <td>NEAR BAY</td>\n",
       "    </tr>\n",
       "    <tr>\n",
       "      <th>1</th>\n",
       "      <td>-122.22</td>\n",
       "      <td>37.86</td>\n",
       "      <td>21.0</td>\n",
       "      <td>7099.0</td>\n",
       "      <td>1106.0</td>\n",
       "      <td>2401.0</td>\n",
       "      <td>1138.0</td>\n",
       "      <td>8.3014</td>\n",
       "      <td>358500.0</td>\n",
       "      <td>NEAR BAY</td>\n",
       "    </tr>\n",
       "    <tr>\n",
       "      <th>2</th>\n",
       "      <td>-122.24</td>\n",
       "      <td>37.85</td>\n",
       "      <td>52.0</td>\n",
       "      <td>1467.0</td>\n",
       "      <td>190.0</td>\n",
       "      <td>496.0</td>\n",
       "      <td>177.0</td>\n",
       "      <td>7.2574</td>\n",
       "      <td>352100.0</td>\n",
       "      <td>NEAR BAY</td>\n",
       "    </tr>\n",
       "    <tr>\n",
       "      <th>3</th>\n",
       "      <td>-122.25</td>\n",
       "      <td>37.85</td>\n",
       "      <td>52.0</td>\n",
       "      <td>1274.0</td>\n",
       "      <td>235.0</td>\n",
       "      <td>558.0</td>\n",
       "      <td>219.0</td>\n",
       "      <td>5.6431</td>\n",
       "      <td>341300.0</td>\n",
       "      <td>NEAR BAY</td>\n",
       "    </tr>\n",
       "    <tr>\n",
       "      <th>4</th>\n",
       "      <td>-122.25</td>\n",
       "      <td>37.85</td>\n",
       "      <td>52.0</td>\n",
       "      <td>1627.0</td>\n",
       "      <td>280.0</td>\n",
       "      <td>565.0</td>\n",
       "      <td>259.0</td>\n",
       "      <td>3.8462</td>\n",
       "      <td>342200.0</td>\n",
       "      <td>NEAR BAY</td>\n",
       "    </tr>\n",
       "  </tbody>\n",
       "</table>\n",
       "</div>"
      ],
      "text/plain": [
       "   longitude  latitude  housing_median_age  total_rooms  total_bedrooms  \\\n",
       "0    -122.23     37.88                41.0        880.0           129.0   \n",
       "1    -122.22     37.86                21.0       7099.0          1106.0   \n",
       "2    -122.24     37.85                52.0       1467.0           190.0   \n",
       "3    -122.25     37.85                52.0       1274.0           235.0   \n",
       "4    -122.25     37.85                52.0       1627.0           280.0   \n",
       "\n",
       "   population  households  median_income  median_house_value ocean_proximity  \n",
       "0       322.0       126.0         8.3252            452600.0        NEAR BAY  \n",
       "1      2401.0      1138.0         8.3014            358500.0        NEAR BAY  \n",
       "2       496.0       177.0         7.2574            352100.0        NEAR BAY  \n",
       "3       558.0       219.0         5.6431            341300.0        NEAR BAY  \n",
       "4       565.0       259.0         3.8462            342200.0        NEAR BAY  "
      ]
     },
     "execution_count": 9,
     "metadata": {},
     "output_type": "execute_result"
    }
   ],
   "source": [
    "data.head()"
   ]
  },
  {
   "cell_type": "code",
   "execution_count": 10,
   "metadata": {
    "colab": {
     "base_uri": "https://localhost:8080/",
     "height": 306
    },
    "id": "oG5oYVh-KrF2",
    "outputId": "f59f1651-8a00-4c85-e98e-fbd126270976"
   },
   "outputs": [
    {
     "name": "stdout",
     "output_type": "stream",
     "text": [
      "<class 'pandas.core.frame.DataFrame'>\n",
      "RangeIndex: 20640 entries, 0 to 20639\n",
      "Data columns (total 10 columns):\n",
      " #   Column              Non-Null Count  Dtype  \n",
      "---  ------              --------------  -----  \n",
      " 0   longitude           20640 non-null  float64\n",
      " 1   latitude            20640 non-null  float64\n",
      " 2   housing_median_age  20640 non-null  float64\n",
      " 3   total_rooms         20640 non-null  float64\n",
      " 4   total_bedrooms      20433 non-null  float64\n",
      " 5   population          20640 non-null  float64\n",
      " 6   households          20640 non-null  float64\n",
      " 7   median_income       20640 non-null  float64\n",
      " 8   median_house_value  20640 non-null  float64\n",
      " 9   ocean_proximity     20640 non-null  object \n",
      "dtypes: float64(9), object(1)\n",
      "memory usage: 1.6+ MB\n"
     ]
    }
   ],
   "source": [
    "data.info()"
   ]
  },
  {
   "cell_type": "markdown",
   "metadata": {
    "id": "VFklGZkpKrF5"
   },
   "source": [
    "## Descriptive statistics and data visualizations"
   ]
  },
  {
   "cell_type": "code",
   "execution_count": 11,
   "metadata": {
    "colab": {
     "base_uri": "https://localhost:8080/",
     "height": 297
    },
    "id": "lr6_OWSSKrF5",
    "outputId": "24695d33-6c43-44ee-8ea3-623220bfa37c"
   },
   "outputs": [
    {
     "data": {
      "text/html": [
       "<div>\n",
       "<style scoped>\n",
       "    .dataframe tbody tr th:only-of-type {\n",
       "        vertical-align: middle;\n",
       "    }\n",
       "\n",
       "    .dataframe tbody tr th {\n",
       "        vertical-align: top;\n",
       "    }\n",
       "\n",
       "    .dataframe thead th {\n",
       "        text-align: right;\n",
       "    }\n",
       "</style>\n",
       "<table border=\"1\" class=\"dataframe\">\n",
       "  <thead>\n",
       "    <tr style=\"text-align: right;\">\n",
       "      <th></th>\n",
       "      <th>longitude</th>\n",
       "      <th>latitude</th>\n",
       "      <th>housing_median_age</th>\n",
       "      <th>total_rooms</th>\n",
       "      <th>total_bedrooms</th>\n",
       "      <th>population</th>\n",
       "      <th>households</th>\n",
       "      <th>median_income</th>\n",
       "      <th>median_house_value</th>\n",
       "    </tr>\n",
       "  </thead>\n",
       "  <tbody>\n",
       "    <tr>\n",
       "      <th>count</th>\n",
       "      <td>20640.000000</td>\n",
       "      <td>20640.000000</td>\n",
       "      <td>20640.000000</td>\n",
       "      <td>20640.000000</td>\n",
       "      <td>20433.000000</td>\n",
       "      <td>20640.000000</td>\n",
       "      <td>20640.000000</td>\n",
       "      <td>20640.000000</td>\n",
       "      <td>20640.000000</td>\n",
       "    </tr>\n",
       "    <tr>\n",
       "      <th>mean</th>\n",
       "      <td>-119.569704</td>\n",
       "      <td>35.631861</td>\n",
       "      <td>28.639486</td>\n",
       "      <td>2635.763081</td>\n",
       "      <td>537.870553</td>\n",
       "      <td>1425.476744</td>\n",
       "      <td>499.539680</td>\n",
       "      <td>3.870671</td>\n",
       "      <td>206855.816909</td>\n",
       "    </tr>\n",
       "    <tr>\n",
       "      <th>std</th>\n",
       "      <td>2.003532</td>\n",
       "      <td>2.135952</td>\n",
       "      <td>12.585558</td>\n",
       "      <td>2181.615252</td>\n",
       "      <td>421.385070</td>\n",
       "      <td>1132.462122</td>\n",
       "      <td>382.329753</td>\n",
       "      <td>1.899822</td>\n",
       "      <td>115395.615874</td>\n",
       "    </tr>\n",
       "    <tr>\n",
       "      <th>min</th>\n",
       "      <td>-124.350000</td>\n",
       "      <td>32.540000</td>\n",
       "      <td>1.000000</td>\n",
       "      <td>2.000000</td>\n",
       "      <td>1.000000</td>\n",
       "      <td>3.000000</td>\n",
       "      <td>1.000000</td>\n",
       "      <td>0.499900</td>\n",
       "      <td>14999.000000</td>\n",
       "    </tr>\n",
       "    <tr>\n",
       "      <th>25%</th>\n",
       "      <td>-121.800000</td>\n",
       "      <td>33.930000</td>\n",
       "      <td>18.000000</td>\n",
       "      <td>1447.750000</td>\n",
       "      <td>296.000000</td>\n",
       "      <td>787.000000</td>\n",
       "      <td>280.000000</td>\n",
       "      <td>2.563400</td>\n",
       "      <td>119600.000000</td>\n",
       "    </tr>\n",
       "    <tr>\n",
       "      <th>50%</th>\n",
       "      <td>-118.490000</td>\n",
       "      <td>34.260000</td>\n",
       "      <td>29.000000</td>\n",
       "      <td>2127.000000</td>\n",
       "      <td>435.000000</td>\n",
       "      <td>1166.000000</td>\n",
       "      <td>409.000000</td>\n",
       "      <td>3.534800</td>\n",
       "      <td>179700.000000</td>\n",
       "    </tr>\n",
       "    <tr>\n",
       "      <th>75%</th>\n",
       "      <td>-118.010000</td>\n",
       "      <td>37.710000</td>\n",
       "      <td>37.000000</td>\n",
       "      <td>3148.000000</td>\n",
       "      <td>647.000000</td>\n",
       "      <td>1725.000000</td>\n",
       "      <td>605.000000</td>\n",
       "      <td>4.743250</td>\n",
       "      <td>264725.000000</td>\n",
       "    </tr>\n",
       "    <tr>\n",
       "      <th>max</th>\n",
       "      <td>-114.310000</td>\n",
       "      <td>41.950000</td>\n",
       "      <td>52.000000</td>\n",
       "      <td>39320.000000</td>\n",
       "      <td>6445.000000</td>\n",
       "      <td>35682.000000</td>\n",
       "      <td>6082.000000</td>\n",
       "      <td>15.000100</td>\n",
       "      <td>500001.000000</td>\n",
       "    </tr>\n",
       "  </tbody>\n",
       "</table>\n",
       "</div>"
      ],
      "text/plain": [
       "          longitude      latitude  housing_median_age   total_rooms  \\\n",
       "count  20640.000000  20640.000000        20640.000000  20640.000000   \n",
       "mean    -119.569704     35.631861           28.639486   2635.763081   \n",
       "std        2.003532      2.135952           12.585558   2181.615252   \n",
       "min     -124.350000     32.540000            1.000000      2.000000   \n",
       "25%     -121.800000     33.930000           18.000000   1447.750000   \n",
       "50%     -118.490000     34.260000           29.000000   2127.000000   \n",
       "75%     -118.010000     37.710000           37.000000   3148.000000   \n",
       "max     -114.310000     41.950000           52.000000  39320.000000   \n",
       "\n",
       "       total_bedrooms    population    households  median_income  \\\n",
       "count    20433.000000  20640.000000  20640.000000   20640.000000   \n",
       "mean       537.870553   1425.476744    499.539680       3.870671   \n",
       "std        421.385070   1132.462122    382.329753       1.899822   \n",
       "min          1.000000      3.000000      1.000000       0.499900   \n",
       "25%        296.000000    787.000000    280.000000       2.563400   \n",
       "50%        435.000000   1166.000000    409.000000       3.534800   \n",
       "75%        647.000000   1725.000000    605.000000       4.743250   \n",
       "max       6445.000000  35682.000000   6082.000000      15.000100   \n",
       "\n",
       "       median_house_value  \n",
       "count        20640.000000  \n",
       "mean        206855.816909  \n",
       "std         115395.615874  \n",
       "min          14999.000000  \n",
       "25%         119600.000000  \n",
       "50%         179700.000000  \n",
       "75%         264725.000000  \n",
       "max         500001.000000  "
      ]
     },
     "execution_count": 11,
     "metadata": {},
     "output_type": "execute_result"
    }
   ],
   "source": [
    "#Describe the dataset\n",
    "\n",
    "data.describe()"
   ]
  },
  {
   "cell_type": "code",
   "execution_count": 12,
   "metadata": {
    "colab": {
     "base_uri": "https://localhost:8080/",
     "height": 51
    },
    "id": "EJsnoJDjKrF8",
    "outputId": "b3c197a7-344c-40e2-c71a-8e8c26cf4163"
   },
   "outputs": [
    {
     "data": {
      "text/plain": [
       "ocean_proximity    5\n",
       "dtype: int64"
      ]
     },
     "execution_count": 12,
     "metadata": {},
     "output_type": "execute_result"
    }
   ],
   "source": [
    "#Check the no. of unique items in each categorical column\n",
    "\n",
    "data.select_dtypes('object').nunique()"
   ]
  },
  {
   "cell_type": "code",
   "execution_count": 13,
   "metadata": {
    "colab": {
     "base_uri": "https://localhost:8080/",
     "height": 204
    },
    "id": "Ge5rb6BOKrF_",
    "outputId": "8977544c-e0e5-4f7c-f19f-3008afcb1cb0"
   },
   "outputs": [
    {
     "name": "stdout",
     "output_type": "stream",
     "text": [
      "longitude             0.000000\n",
      "latitude              0.000000\n",
      "housing_median_age    0.000000\n",
      "total_rooms           0.000000\n",
      "total_bedrooms        0.010029\n",
      "population            0.000000\n",
      "households            0.000000\n",
      "median_income         0.000000\n",
      "median_house_value    0.000000\n",
      "ocean_proximity       0.000000\n",
      "dtype: float64\n"
     ]
    }
   ],
   "source": [
    "# Percentage of missing data in each column\n",
    "\n",
    "number_of_columns = data.shape[0]\n",
    "percentage_of_missing_data = data.isnull().sum()/number_of_columns\n",
    "print(percentage_of_missing_data)"
   ]
  },
  {
   "cell_type": "code",
   "execution_count": 14,
   "metadata": {
    "colab": {
     "base_uri": "https://localhost:8080/",
     "height": 879
    },
    "id": "FM59-QiAKrGC",
    "outputId": "b78163d9-7ff5-41b5-9174-67e6c9aee362"
   },
   "outputs": [
    {
     "data": {
      "image/png": "[encoded data removed]",
      "text/plain": [
       "<Figure size 1440x1080 with 9 Axes>"
      ]
     },
     "metadata": {
      "needs_background": "light"
     },
     "output_type": "display_data"
    }
   ],
   "source": [
    "data.hist(bins=100, figsize=(20,15))\n",
    "\n",
    "plt.show()"
   ]
  },
  {
   "cell_type": "code",
   "execution_count": 15,
   "metadata": {
    "colab": {
     "base_uri": "https://localhost:8080/",
     "height": 530
    },
    "id": "1a0K8l4KKrGE",
    "outputId": "23891ed2-42d9-424f-9be9-35ab64fe5978"
   },
   "outputs": [
    {
     "data": {
      "text/plain": [
       "<matplotlib.legend.Legend at 0x216c61738b0>"
      ]
     },
     "execution_count": 15,
     "metadata": {},
     "output_type": "execute_result"
    },
    {
     "data": {
      "image/png": "[encoded data removed]",
      "text/plain": [
       "<Figure size 720x576 with 2 Axes>"
      ]
     },
     "metadata": {
      "needs_background": "light"
     },
     "output_type": "display_data"
    }
   ],
   "source": [
    "data.plot(kind=\"scatter\", x=\"longitude\", y=\"latitude\", alpha=0.4,\n",
    "    s=data[\"population\"]/100, label=\"population\", figsize=(10,8),\n",
    "    c=\"median_house_value\", cmap=plt.get_cmap(\"jet\"), colorbar=True,\n",
    "    sharex=False)\n",
    "plt.title('Red is expensive, blue is cheap, larger circles indicate areas with a larger population',\\\n",
    "          fontweight = 20, fontsize = 13)\n",
    "plt.legend()"
   ]
  },
  {
   "cell_type": "code",
   "execution_count": 16,
   "metadata": {
    "colab": {
     "base_uri": "https://localhost:8080/",
     "height": 187
    },
    "id": "Qu5-LhzVKrGH",
    "outputId": "dc1f0772-0633-4834-8681-c532b2605270"
   },
   "outputs": [
    {
     "data": {
      "text/plain": [
       "median_house_value    1.000000\n",
       "median_income         0.688075\n",
       "total_rooms           0.134153\n",
       "housing_median_age    0.105623\n",
       "households            0.065843\n",
       "total_bedrooms        0.049686\n",
       "population           -0.024650\n",
       "longitude            -0.045967\n",
       "latitude             -0.144160\n",
       "Name: median_house_value, dtype: float64"
      ]
     },
     "execution_count": 16,
     "metadata": {},
     "output_type": "execute_result"
    }
   ],
   "source": [
    "corr_matrix = data.corr()\n",
    "corr_matrix[\"median_house_value\"].sort_values(ascending=False)"
   ]
  },
  {
   "cell_type": "markdown",
   "metadata": {
    "id": "XGWXaq-eKrGP"
   },
   "source": [
    "## Data Cleaning and Preparation"
   ]
  },
  {
   "cell_type": "code",
   "execution_count": 17,
   "metadata": {
    "id": "azFFYLs8KrGP"
   },
   "outputs": [],
   "source": [
    "#Fill in missing values with median\n",
    "\n",
    "from sklearn.impute import SimpleImputer\n",
    "imputer = SimpleImputer(strategy=\"median\")"
   ]
  },
  {
   "cell_type": "code",
   "execution_count": 18,
   "metadata": {
    "id": "tUbDUmiKqgnu"
   },
   "outputs": [],
   "source": [
    "#Remove the text attribute because median can only be calculated on numerical attributes:\n",
    "data_num=data.drop(\"ocean_proximity\", axis=1)"
   ]
  },
  {
   "cell_type": "code",
   "execution_count": 19,
   "metadata": {
    "colab": {
     "base_uri": "https://localhost:8080/",
     "height": 51
    },
    "id": "EbX2GWq_KrGV",
    "outputId": "7d18f6c7-71ea-4d0b-e150-837987c6d371"
   },
   "outputs": [
    {
     "data": {
      "text/plain": [
       "array([-1.1849e+02,  3.4260e+01,  2.9000e+01,  2.1270e+03,  4.3500e+02,\n",
       "        1.1660e+03,  4.0900e+02,  3.5348e+00,  1.7970e+05])"
      ]
     },
     "execution_count": 19,
     "metadata": {},
     "output_type": "execute_result"
    }
   ],
   "source": [
    "imputer.fit(data_num)\n",
    "imputer.statistics_"
   ]
  },
  {
   "cell_type": "code",
   "execution_count": 20,
   "metadata": {
    "colab": {
     "base_uri": "https://localhost:8080/",
     "height": 204
    },
    "id": "eI4_FUwGKrGX",
    "outputId": "721ddb8f-8acc-444d-bf7c-3901d374a13a"
   },
   "outputs": [
    {
     "data": {
      "text/html": [
       "<div>\n",
       "<style scoped>\n",
       "    .dataframe tbody tr th:only-of-type {\n",
       "        vertical-align: middle;\n",
       "    }\n",
       "\n",
       "    .dataframe tbody tr th {\n",
       "        vertical-align: top;\n",
       "    }\n",
       "\n",
       "    .dataframe thead th {\n",
       "        text-align: right;\n",
       "    }\n",
       "</style>\n",
       "<table border=\"1\" class=\"dataframe\">\n",
       "  <thead>\n",
       "    <tr style=\"text-align: right;\">\n",
       "      <th></th>\n",
       "      <th>longitude</th>\n",
       "      <th>latitude</th>\n",
       "      <th>housing_median_age</th>\n",
       "      <th>total_rooms</th>\n",
       "      <th>total_bedrooms</th>\n",
       "      <th>population</th>\n",
       "      <th>households</th>\n",
       "      <th>median_income</th>\n",
       "      <th>median_house_value</th>\n",
       "    </tr>\n",
       "  </thead>\n",
       "  <tbody>\n",
       "    <tr>\n",
       "      <th>0</th>\n",
       "      <td>-122.23</td>\n",
       "      <td>37.88</td>\n",
       "      <td>41.0</td>\n",
       "      <td>880.0</td>\n",
       "      <td>129.0</td>\n",
       "      <td>322.0</td>\n",
       "      <td>126.0</td>\n",
       "      <td>8.3252</td>\n",
       "      <td>452600.0</td>\n",
       "    </tr>\n",
       "    <tr>\n",
       "      <th>1</th>\n",
       "      <td>-122.22</td>\n",
       "      <td>37.86</td>\n",
       "      <td>21.0</td>\n",
       "      <td>7099.0</td>\n",
       "      <td>1106.0</td>\n",
       "      <td>2401.0</td>\n",
       "      <td>1138.0</td>\n",
       "      <td>8.3014</td>\n",
       "      <td>358500.0</td>\n",
       "    </tr>\n",
       "    <tr>\n",
       "      <th>2</th>\n",
       "      <td>-122.24</td>\n",
       "      <td>37.85</td>\n",
       "      <td>52.0</td>\n",
       "      <td>1467.0</td>\n",
       "      <td>190.0</td>\n",
       "      <td>496.0</td>\n",
       "      <td>177.0</td>\n",
       "      <td>7.2574</td>\n",
       "      <td>352100.0</td>\n",
       "    </tr>\n",
       "    <tr>\n",
       "      <th>3</th>\n",
       "      <td>-122.25</td>\n",
       "      <td>37.85</td>\n",
       "      <td>52.0</td>\n",
       "      <td>1274.0</td>\n",
       "      <td>235.0</td>\n",
       "      <td>558.0</td>\n",
       "      <td>219.0</td>\n",
       "      <td>5.6431</td>\n",
       "      <td>341300.0</td>\n",
       "    </tr>\n",
       "    <tr>\n",
       "      <th>4</th>\n",
       "      <td>-122.25</td>\n",
       "      <td>37.85</td>\n",
       "      <td>52.0</td>\n",
       "      <td>1627.0</td>\n",
       "      <td>280.0</td>\n",
       "      <td>565.0</td>\n",
       "      <td>259.0</td>\n",
       "      <td>3.8462</td>\n",
       "      <td>342200.0</td>\n",
       "    </tr>\n",
       "  </tbody>\n",
       "</table>\n",
       "</div>"
      ],
      "text/plain": [
       "   longitude  latitude  housing_median_age  total_rooms  total_bedrooms  \\\n",
       "0    -122.23     37.88                41.0        880.0           129.0   \n",
       "1    -122.22     37.86                21.0       7099.0          1106.0   \n",
       "2    -122.24     37.85                52.0       1467.0           190.0   \n",
       "3    -122.25     37.85                52.0       1274.0           235.0   \n",
       "4    -122.25     37.85                52.0       1627.0           280.0   \n",
       "\n",
       "   population  households  median_income  median_house_value  \n",
       "0       322.0       126.0         8.3252            452600.0  \n",
       "1      2401.0      1138.0         8.3014            358500.0  \n",
       "2       496.0       177.0         7.2574            352100.0  \n",
       "3       558.0       219.0         5.6431            341300.0  \n",
       "4       565.0       259.0         3.8462            342200.0  "
      ]
     },
     "execution_count": 20,
     "metadata": {},
     "output_type": "execute_result"
    }
   ],
   "source": [
    "X = imputer.transform(data_num)\n",
    "data_num_clean = pd.DataFrame(X, columns=data_num.columns,index=data_num.index)\n",
    "data_num_clean.head()"
   ]
  },
  {
   "cell_type": "code",
   "execution_count": 21,
   "metadata": {
    "id": "spvY-7i_KrGZ"
   },
   "outputs": [],
   "source": [
    "data_num_clean[\"rooms_per_household\"] = data_num_clean[\"total_rooms\"]/data_num_clean[\"households\"]\n",
    "data_num_clean[\"bedrooms_per_room\"] = data_num_clean[\"total_bedrooms\"]/data_num_clean[\"total_rooms\"]\n",
    "data_num_clean[\"population_per_household\"]=data_num_clean[\"population\"]/data_num_clean[\"households\"]"
   ]
  },
  {
   "cell_type": "code",
   "execution_count": 22,
   "metadata": {
    "id": "ub9D7dkQqgop"
   },
   "outputs": [],
   "source": [
    "#Preprocess the categorical input feature, `ocean_proximity`:\n",
    "data_cat = data[[\"ocean_proximity\"]]"
   ]
  },
  {
   "cell_type": "code",
   "execution_count": 23,
   "metadata": {
    "id": "l2nvjJU3qgot"
   },
   "outputs": [],
   "source": [
    "from sklearn.preprocessing import OrdinalEncoder\n",
    "\n",
    "ordinal_encoder = OrdinalEncoder()\n",
    "data_cat_encoded = ordinal_encoder.fit_transform(data_cat)"
   ]
  },
  {
   "cell_type": "code",
   "execution_count": 24,
   "metadata": {
    "id": "UV00wxbGqgoz"
   },
   "outputs": [],
   "source": [
    "#ordinal_encoder.categories_"
   ]
  },
  {
   "cell_type": "code",
   "execution_count": 25,
   "metadata": {
    "colab": {
     "base_uri": "https://localhost:8080/",
     "height": 224
    },
    "id": "k_arcn0BKrGk",
    "outputId": "ee5754ea-06db-412c-bb0b-ac6733a247b2"
   },
   "outputs": [
    {
     "data": {
      "text/html": [
       "<div>\n",
       "<style scoped>\n",
       "    .dataframe tbody tr th:only-of-type {\n",
       "        vertical-align: middle;\n",
       "    }\n",
       "\n",
       "    .dataframe tbody tr th {\n",
       "        vertical-align: top;\n",
       "    }\n",
       "\n",
       "    .dataframe thead th {\n",
       "        text-align: right;\n",
       "    }\n",
       "</style>\n",
       "<table border=\"1\" class=\"dataframe\">\n",
       "  <thead>\n",
       "    <tr style=\"text-align: right;\">\n",
       "      <th></th>\n",
       "      <th>longitude</th>\n",
       "      <th>latitude</th>\n",
       "      <th>housing_median_age</th>\n",
       "      <th>total_rooms</th>\n",
       "      <th>total_bedrooms</th>\n",
       "      <th>population</th>\n",
       "      <th>households</th>\n",
       "      <th>median_income</th>\n",
       "      <th>median_house_value</th>\n",
       "      <th>rooms_per_household</th>\n",
       "      <th>bedrooms_per_room</th>\n",
       "      <th>population_per_household</th>\n",
       "      <th>ocean_proximity</th>\n",
       "    </tr>\n",
       "  </thead>\n",
       "  <tbody>\n",
       "    <tr>\n",
       "      <th>0</th>\n",
       "      <td>-122.23</td>\n",
       "      <td>37.88</td>\n",
       "      <td>41.0</td>\n",
       "      <td>880.0</td>\n",
       "      <td>129.0</td>\n",
       "      <td>322.0</td>\n",
       "      <td>126.0</td>\n",
       "      <td>8.3252</td>\n",
       "      <td>452600.0</td>\n",
       "      <td>6.984127</td>\n",
       "      <td>0.146591</td>\n",
       "      <td>2.555556</td>\n",
       "      <td>3.0</td>\n",
       "    </tr>\n",
       "    <tr>\n",
       "      <th>1</th>\n",
       "      <td>-122.22</td>\n",
       "      <td>37.86</td>\n",
       "      <td>21.0</td>\n",
       "      <td>7099.0</td>\n",
       "      <td>1106.0</td>\n",
       "      <td>2401.0</td>\n",
       "      <td>1138.0</td>\n",
       "      <td>8.3014</td>\n",
       "      <td>358500.0</td>\n",
       "      <td>6.238137</td>\n",
       "      <td>0.155797</td>\n",
       "      <td>2.109842</td>\n",
       "      <td>3.0</td>\n",
       "    </tr>\n",
       "    <tr>\n",
       "      <th>2</th>\n",
       "      <td>-122.24</td>\n",
       "      <td>37.85</td>\n",
       "      <td>52.0</td>\n",
       "      <td>1467.0</td>\n",
       "      <td>190.0</td>\n",
       "      <td>496.0</td>\n",
       "      <td>177.0</td>\n",
       "      <td>7.2574</td>\n",
       "      <td>352100.0</td>\n",
       "      <td>8.288136</td>\n",
       "      <td>0.129516</td>\n",
       "      <td>2.802260</td>\n",
       "      <td>3.0</td>\n",
       "    </tr>\n",
       "    <tr>\n",
       "      <th>3</th>\n",
       "      <td>-122.25</td>\n",
       "      <td>37.85</td>\n",
       "      <td>52.0</td>\n",
       "      <td>1274.0</td>\n",
       "      <td>235.0</td>\n",
       "      <td>558.0</td>\n",
       "      <td>219.0</td>\n",
       "      <td>5.6431</td>\n",
       "      <td>341300.0</td>\n",
       "      <td>5.817352</td>\n",
       "      <td>0.184458</td>\n",
       "      <td>2.547945</td>\n",
       "      <td>3.0</td>\n",
       "    </tr>\n",
       "    <tr>\n",
       "      <th>4</th>\n",
       "      <td>-122.25</td>\n",
       "      <td>37.85</td>\n",
       "      <td>52.0</td>\n",
       "      <td>1627.0</td>\n",
       "      <td>280.0</td>\n",
       "      <td>565.0</td>\n",
       "      <td>259.0</td>\n",
       "      <td>3.8462</td>\n",
       "      <td>342200.0</td>\n",
       "      <td>6.281853</td>\n",
       "      <td>0.172096</td>\n",
       "      <td>2.181467</td>\n",
       "      <td>3.0</td>\n",
       "    </tr>\n",
       "  </tbody>\n",
       "</table>\n",
       "</div>"
      ],
      "text/plain": [
       "   longitude  latitude  housing_median_age  total_rooms  total_bedrooms  \\\n",
       "0    -122.23     37.88                41.0        880.0           129.0   \n",
       "1    -122.22     37.86                21.0       7099.0          1106.0   \n",
       "2    -122.24     37.85                52.0       1467.0           190.0   \n",
       "3    -122.25     37.85                52.0       1274.0           235.0   \n",
       "4    -122.25     37.85                52.0       1627.0           280.0   \n",
       "\n",
       "   population  households  median_income  median_house_value  \\\n",
       "0       322.0       126.0         8.3252            452600.0   \n",
       "1      2401.0      1138.0         8.3014            358500.0   \n",
       "2       496.0       177.0         7.2574            352100.0   \n",
       "3       558.0       219.0         5.6431            341300.0   \n",
       "4       565.0       259.0         3.8462            342200.0   \n",
       "\n",
       "   rooms_per_household  bedrooms_per_room  population_per_household  \\\n",
       "0             6.984127           0.146591                  2.555556   \n",
       "1             6.238137           0.155797                  2.109842   \n",
       "2             8.288136           0.129516                  2.802260   \n",
       "3             5.817352           0.184458                  2.547945   \n",
       "4             6.281853           0.172096                  2.181467   \n",
       "\n",
       "   ocean_proximity  \n",
       "0              3.0  \n",
       "1              3.0  \n",
       "2              3.0  \n",
       "3              3.0  \n",
       "4              3.0  "
      ]
     },
     "execution_count": 25,
     "metadata": {},
     "output_type": "execute_result"
    }
   ],
   "source": [
    "data_num_clean[\"ocean_proximity\"]=data_cat_encoded\n",
    "data_clean=data_num_clean\n",
    "data_clean.head()"
   ]
  },
  {
   "cell_type": "code",
   "execution_count": 26,
   "metadata": {
    "colab": {
     "base_uri": "https://localhost:8080/",
     "height": 439
    },
    "id": "VgeaJU4MKrGn",
    "outputId": "85b61c4d-03d8-434c-8faa-883a21e97d8e"
   },
   "outputs": [
    {
     "data": {
      "text/html": [
       "<div>\n",
       "<style scoped>\n",
       "    .dataframe tbody tr th:only-of-type {\n",
       "        vertical-align: middle;\n",
       "    }\n",
       "\n",
       "    .dataframe tbody tr th {\n",
       "        vertical-align: top;\n",
       "    }\n",
       "\n",
       "    .dataframe thead th {\n",
       "        text-align: right;\n",
       "    }\n",
       "</style>\n",
       "<table border=\"1\" class=\"dataframe\">\n",
       "  <thead>\n",
       "    <tr style=\"text-align: right;\">\n",
       "      <th></th>\n",
       "      <th>longitude</th>\n",
       "      <th>latitude</th>\n",
       "      <th>housing_median_age</th>\n",
       "      <th>total_rooms</th>\n",
       "      <th>total_bedrooms</th>\n",
       "      <th>population</th>\n",
       "      <th>households</th>\n",
       "      <th>median_income</th>\n",
       "      <th>rooms_per_household</th>\n",
       "      <th>bedrooms_per_room</th>\n",
       "      <th>population_per_household</th>\n",
       "      <th>ocean_proximity</th>\n",
       "      <th>median_house_value</th>\n",
       "    </tr>\n",
       "  </thead>\n",
       "  <tbody>\n",
       "    <tr>\n",
       "      <th>0</th>\n",
       "      <td>-122.23</td>\n",
       "      <td>37.88</td>\n",
       "      <td>41.0</td>\n",
       "      <td>880.0</td>\n",
       "      <td>129.0</td>\n",
       "      <td>322.0</td>\n",
       "      <td>126.0</td>\n",
       "      <td>8.3252</td>\n",
       "      <td>6.984127</td>\n",
       "      <td>0.146591</td>\n",
       "      <td>2.555556</td>\n",
       "      <td>3.0</td>\n",
       "      <td>452600.0</td>\n",
       "    </tr>\n",
       "    <tr>\n",
       "      <th>1</th>\n",
       "      <td>-122.22</td>\n",
       "      <td>37.86</td>\n",
       "      <td>21.0</td>\n",
       "      <td>7099.0</td>\n",
       "      <td>1106.0</td>\n",
       "      <td>2401.0</td>\n",
       "      <td>1138.0</td>\n",
       "      <td>8.3014</td>\n",
       "      <td>6.238137</td>\n",
       "      <td>0.155797</td>\n",
       "      <td>2.109842</td>\n",
       "      <td>3.0</td>\n",
       "      <td>358500.0</td>\n",
       "    </tr>\n",
       "    <tr>\n",
       "      <th>2</th>\n",
       "      <td>-122.24</td>\n",
       "      <td>37.85</td>\n",
       "      <td>52.0</td>\n",
       "      <td>1467.0</td>\n",
       "      <td>190.0</td>\n",
       "      <td>496.0</td>\n",
       "      <td>177.0</td>\n",
       "      <td>7.2574</td>\n",
       "      <td>8.288136</td>\n",
       "      <td>0.129516</td>\n",
       "      <td>2.802260</td>\n",
       "      <td>3.0</td>\n",
       "      <td>352100.0</td>\n",
       "    </tr>\n",
       "    <tr>\n",
       "      <th>3</th>\n",
       "      <td>-122.25</td>\n",
       "      <td>37.85</td>\n",
       "      <td>52.0</td>\n",
       "      <td>1274.0</td>\n",
       "      <td>235.0</td>\n",
       "      <td>558.0</td>\n",
       "      <td>219.0</td>\n",
       "      <td>5.6431</td>\n",
       "      <td>5.817352</td>\n",
       "      <td>0.184458</td>\n",
       "      <td>2.547945</td>\n",
       "      <td>3.0</td>\n",
       "      <td>341300.0</td>\n",
       "    </tr>\n",
       "    <tr>\n",
       "      <th>4</th>\n",
       "      <td>-122.25</td>\n",
       "      <td>37.85</td>\n",
       "      <td>52.0</td>\n",
       "      <td>1627.0</td>\n",
       "      <td>280.0</td>\n",
       "      <td>565.0</td>\n",
       "      <td>259.0</td>\n",
       "      <td>3.8462</td>\n",
       "      <td>6.281853</td>\n",
       "      <td>0.172096</td>\n",
       "      <td>2.181467</td>\n",
       "      <td>3.0</td>\n",
       "      <td>342200.0</td>\n",
       "    </tr>\n",
       "    <tr>\n",
       "      <th>...</th>\n",
       "      <td>...</td>\n",
       "      <td>...</td>\n",
       "      <td>...</td>\n",
       "      <td>...</td>\n",
       "      <td>...</td>\n",
       "      <td>...</td>\n",
       "      <td>...</td>\n",
       "      <td>...</td>\n",
       "      <td>...</td>\n",
       "      <td>...</td>\n",
       "      <td>...</td>\n",
       "      <td>...</td>\n",
       "      <td>...</td>\n",
       "    </tr>\n",
       "    <tr>\n",
       "      <th>20635</th>\n",
       "      <td>-121.09</td>\n",
       "      <td>39.48</td>\n",
       "      <td>25.0</td>\n",
       "      <td>1665.0</td>\n",
       "      <td>374.0</td>\n",
       "      <td>845.0</td>\n",
       "      <td>330.0</td>\n",
       "      <td>1.5603</td>\n",
       "      <td>5.045455</td>\n",
       "      <td>0.224625</td>\n",
       "      <td>2.560606</td>\n",
       "      <td>1.0</td>\n",
       "      <td>78100.0</td>\n",
       "    </tr>\n",
       "    <tr>\n",
       "      <th>20636</th>\n",
       "      <td>-121.21</td>\n",
       "      <td>39.49</td>\n",
       "      <td>18.0</td>\n",
       "      <td>697.0</td>\n",
       "      <td>150.0</td>\n",
       "      <td>356.0</td>\n",
       "      <td>114.0</td>\n",
       "      <td>2.5568</td>\n",
       "      <td>6.114035</td>\n",
       "      <td>0.215208</td>\n",
       "      <td>3.122807</td>\n",
       "      <td>1.0</td>\n",
       "      <td>77100.0</td>\n",
       "    </tr>\n",
       "    <tr>\n",
       "      <th>20637</th>\n",
       "      <td>-121.22</td>\n",
       "      <td>39.43</td>\n",
       "      <td>17.0</td>\n",
       "      <td>2254.0</td>\n",
       "      <td>485.0</td>\n",
       "      <td>1007.0</td>\n",
       "      <td>433.0</td>\n",
       "      <td>1.7000</td>\n",
       "      <td>5.205543</td>\n",
       "      <td>0.215173</td>\n",
       "      <td>2.325635</td>\n",
       "      <td>1.0</td>\n",
       "      <td>92300.0</td>\n",
       "    </tr>\n",
       "    <tr>\n",
       "      <th>20638</th>\n",
       "      <td>-121.32</td>\n",
       "      <td>39.43</td>\n",
       "      <td>18.0</td>\n",
       "      <td>1860.0</td>\n",
       "      <td>409.0</td>\n",
       "      <td>741.0</td>\n",
       "      <td>349.0</td>\n",
       "      <td>1.8672</td>\n",
       "      <td>5.329513</td>\n",
       "      <td>0.219892</td>\n",
       "      <td>2.123209</td>\n",
       "      <td>1.0</td>\n",
       "      <td>84700.0</td>\n",
       "    </tr>\n",
       "    <tr>\n",
       "      <th>20639</th>\n",
       "      <td>-121.24</td>\n",
       "      <td>39.37</td>\n",
       "      <td>16.0</td>\n",
       "      <td>2785.0</td>\n",
       "      <td>616.0</td>\n",
       "      <td>1387.0</td>\n",
       "      <td>530.0</td>\n",
       "      <td>2.3886</td>\n",
       "      <td>5.254717</td>\n",
       "      <td>0.221185</td>\n",
       "      <td>2.616981</td>\n",
       "      <td>1.0</td>\n",
       "      <td>89400.0</td>\n",
       "    </tr>\n",
       "  </tbody>\n",
       "</table>\n",
       "<p>20640 rows × 13 columns</p>\n",
       "</div>"
      ],
      "text/plain": [
       "       longitude  latitude  housing_median_age  total_rooms  total_bedrooms  \\\n",
       "0        -122.23     37.88                41.0        880.0           129.0   \n",
       "1        -122.22     37.86                21.0       7099.0          1106.0   \n",
       "2        -122.24     37.85                52.0       1467.0           190.0   \n",
       "3        -122.25     37.85                52.0       1274.0           235.0   \n",
       "4        -122.25     37.85                52.0       1627.0           280.0   \n",
       "...          ...       ...                 ...          ...             ...   \n",
       "20635    -121.09     39.48                25.0       1665.0           374.0   \n",
       "20636    -121.21     39.49                18.0        697.0           150.0   \n",
       "20637    -121.22     39.43                17.0       2254.0           485.0   \n",
       "20638    -121.32     39.43                18.0       1860.0           409.0   \n",
       "20639    -121.24     39.37                16.0       2785.0           616.0   \n",
       "\n",
       "       population  households  median_income  rooms_per_household  \\\n",
       "0           322.0       126.0         8.3252             6.984127   \n",
       "1          2401.0      1138.0         8.3014             6.238137   \n",
       "2           496.0       177.0         7.2574             8.288136   \n",
       "3           558.0       219.0         5.6431             5.817352   \n",
       "4           565.0       259.0         3.8462             6.281853   \n",
       "...           ...         ...            ...                  ...   \n",
       "20635       845.0       330.0         1.5603             5.045455   \n",
       "20636       356.0       114.0         2.5568             6.114035   \n",
       "20637      1007.0       433.0         1.7000             5.205543   \n",
       "20638       741.0       349.0         1.8672             5.329513   \n",
       "20639      1387.0       530.0         2.3886             5.254717   \n",
       "\n",
       "       bedrooms_per_room  population_per_household  ocean_proximity  \\\n",
       "0               0.146591                  2.555556              3.0   \n",
       "1               0.155797                  2.109842              3.0   \n",
       "2               0.129516                  2.802260              3.0   \n",
       "3               0.184458                  2.547945              3.0   \n",
       "4               0.172096                  2.181467              3.0   \n",
       "...                  ...                       ...              ...   \n",
       "20635           0.224625                  2.560606              1.0   \n",
       "20636           0.215208                  3.122807              1.0   \n",
       "20637           0.215173                  2.325635              1.0   \n",
       "20638           0.219892                  2.123209              1.0   \n",
       "20639           0.221185                  2.616981              1.0   \n",
       "\n",
       "       median_house_value  \n",
       "0                452600.0  \n",
       "1                358500.0  \n",
       "2                352100.0  \n",
       "3                341300.0  \n",
       "4                342200.0  \n",
       "...                   ...  \n",
       "20635             78100.0  \n",
       "20636             77100.0  \n",
       "20637             92300.0  \n",
       "20638             84700.0  \n",
       "20639             89400.0  \n",
       "\n",
       "[20640 rows x 13 columns]"
      ]
     },
     "execution_count": 26,
     "metadata": {},
     "output_type": "execute_result"
    }
   ],
   "source": [
    "housing_labels = data_clean[\"median_house_value\"]\n",
    "data_clean = data_clean.drop(\"median_house_value\", axis=1)\n",
    "data_clean[\"median_house_value\"] = housing_labels\n",
    "data_clean"
   ]
  },
  {
   "cell_type": "code",
   "execution_count": 27,
   "metadata": {
    "colab": {
     "base_uri": "https://localhost:8080/",
     "height": 34
    },
    "id": "FGBb8HZWKrGp",
    "outputId": "547f8e5f-f94c-436e-8aa9-8edb78389914"
   },
   "outputs": [
    {
     "data": {
      "text/plain": [
       "(20640, 13)"
      ]
     },
     "execution_count": 27,
     "metadata": {},
     "output_type": "execute_result"
    }
   ],
   "source": [
    "from sklearn import preprocessing\n",
    "\n",
    "minmax_scale = preprocessing.MinMaxScaler()\n",
    "X_scaled = minmax_scale.fit_transform(data_clean)\n",
    "X_scaled.shape"
   ]
  },
  {
   "cell_type": "code",
   "execution_count": 28,
   "metadata": {
    "colab": {
     "base_uri": "https://localhost:8080/",
     "height": 51
    },
    "id": "tfaXk6JBbiNZ",
    "outputId": "ae8632a9-4754-45cb-f433-7957dfd60d2f"
   },
   "outputs": [
    {
     "name": "stdout",
     "output_type": "stream",
     "text": [
      "(20640, 12)\n",
      "(20640,)\n"
     ]
    }
   ],
   "source": [
    "#Splitting the dependent and independent variables\n",
    "\n",
    "X = X_scaled[:,:-1]\n",
    "y = X_scaled[:,-1]\n",
    "\n",
    "print(X.shape)\n",
    "print(y.shape)"
   ]
  },
  {
   "cell_type": "code",
   "execution_count": 29,
   "metadata": {
    "colab": {
     "base_uri": "https://localhost:8080/",
     "height": 68
    },
    "id": "CLHjid6FY13N",
    "outputId": "7bc7c65e-03b8-4823-bc34-1c01e34589a9"
   },
   "outputs": [
    {
     "name": "stdout",
     "output_type": "stream",
     "text": [
      "(16512, 12)\n",
      "(16512,)\n",
      "(4128, 12)\n"
     ]
    }
   ],
   "source": [
    "#Splitting the dataset into training and test sets\n",
    "\n",
    "from sklearn.model_selection import train_test_split\n",
    "\n",
    "train_data, test_data, train_labels, test_labels = train_test_split(X, y, test_size = 0.2, random_state = 42)\n",
    "\n",
    "print(train_data.shape)\n",
    "print(train_labels.shape)\n",
    "print(test_data.shape)"
   ]
  },
  {
   "cell_type": "code",
   "execution_count": 30,
   "metadata": {
    "id": "BuCeh9XVKrGy"
   },
   "outputs": [],
   "source": [
    "# Without Normalization of the data\n",
    "\n",
    "train_data = train_data\n",
    "test_data = test_data\n",
    "train_labels = train_labels.reshape(-1,1)\n",
    "test_labels = test_labels.reshape(-1,1)"
   ]
  },
  {
   "cell_type": "code",
   "execution_count": 31,
   "metadata": {
    "colab": {
     "base_uri": "https://localhost:8080/",
     "height": 136
    },
    "id": "MLGUpsaOKrG0",
    "outputId": "74a751eb-24a6-4369-dcd6-36e9a64a13ae"
   },
   "outputs": [
    {
     "data": {
      "text/plain": [
       "array([[0.18144461],\n",
       "       [0.75690616],\n",
       "       [0.32494918],\n",
       "       ...,\n",
       "       [0.42701061],\n",
       "       [0.55360803],\n",
       "       [0.63917468]])"
      ]
     },
     "execution_count": 31,
     "metadata": {},
     "output_type": "execute_result"
    }
   ],
   "source": [
    "train_labels"
   ]
  },
  {
   "cell_type": "markdown",
   "metadata": {
    "id": "yaZQCztQt23X"
   },
   "source": [
    "### 6 Layers Feedforward Neural Network"
   ]
  },
  {
   "cell_type": "markdown",
   "metadata": {},
   "source": [
    "#### A function to create a list of mini-batches"
   ]
  },
  {
   "cell_type": "code",
   "execution_count": 32,
   "metadata": {},
   "outputs": [],
   "source": [
    "def create_mini_batches(X, y, batch_size): \n",
    "    mini_batches = [] \n",
    "    data = np.hstack((X, y)) \n",
    "    np.random.shuffle(data) \n",
    "    n_minibatches = data.shape[0] // batch_size \n",
    "    i = 0\n",
    "    for i in range(n_minibatches): \n",
    "        mini_batch = data[i * batch_size:(i + 1)*batch_size, :] \n",
    "        X_mini = mini_batch[:, :-1] \n",
    "        Y_mini = mini_batch[:, -1].reshape((-1, 1)) \n",
    "        mini_batches.append((X_mini, Y_mini)) \n",
    "    if data.shape[0] % batch_size != 0: \n",
    "        mini_batch = data[i * batch_size:data.shape[0]] \n",
    "        X_mini = mini_batch[:, :-1] \n",
    "        Y_mini = mini_batch[:, -1].reshape((-1, 1)) \n",
    "        mini_batches.append((X_mini, Y_mini))\n",
    "    return mini_batches "
   ]
  },
  {
   "cell_type": "code",
   "execution_count": 33,
   "metadata": {},
   "outputs": [],
   "source": [
    "mini_batches = create_mini_batches(train_data, train_labels, 16)\n",
    "mini_batches_test = create_mini_batches(test_data, test_labels, 16)"
   ]
  },
  {
   "cell_type": "code",
   "execution_count": 34,
   "metadata": {},
   "outputs": [
    {
     "name": "stdout",
     "output_type": "stream",
     "text": [
      "Epoch: 0. Training Loss: 4997.2452147829845. Test Loss: 4339.374415975466\n",
      "Epoch: 1. Training Loss: 4477.582736402682. Test Loss: 3888.6898945165162\n",
      "Epoch: 2. Training Loss: 4013.5537475544074. Test Loss: 3486.2324521321425\n",
      "Epoch: 3. Training Loss: 3598.8887246927848. Test Loss: 3126.5668147745114\n",
      "Epoch: 4. Training Loss: 3228.0849379204. Test Loss: 2804.9227795789557\n",
      "Epoch: 5. Training Loss: 2896.3013711435215. Test Loss: 2517.1040077401635\n",
      "Epoch: 6. Training Loss: 2599.2700857188925. Test Loss: 2259.4111019412358\n",
      "Epoch: 7. Training Loss: 2333.2210992097457. Test Loss: 2028.5764224384893\n",
      "Epoch: 8. Training Loss: 2094.818433128691. Test Loss: 1821.7086024551652\n",
      "Epoch: 9. Training Loss: 1881.1054392064361. Test Loss: 1636.2451198857323\n",
      "Epoch: 10. Training Loss: 1689.4578724458133. Test Loss: 1469.9115942897802\n",
      "Epoch: 11. Training Loss: 1517.5434632383383. Test Loss: 1320.6867251250765\n",
      "Epoch: 12. Training Loss: 1363.286966924037. Test Loss: 1186.7719837506122\n",
      "Epoch: 13. Training Loss: 1224.8398501235692. Test Loss: 1066.5653290291598\n",
      "Epoch: 14. Training Loss: 1100.5539187192248. Test Loss: 958.6383428653701\n",
      "Epoch: 15. Training Loss: 988.9583100111503. Test Loss: 861.7162842592907\n",
      "Epoch: 16. Training Loss: 888.7393671290617. Test Loss: 774.6606434848652\n",
      "Epoch: 17. Training Loss: 798.7229917488387. Test Loss: 696.4538457432924\n",
      "Epoch: 18. Training Loss: 717.859135072779. Test Loss: 626.1858091585475\n",
      "Epoch: 19. Training Loss: 645.2081396494507. Test Loss: 563.0421076840958\n",
      "Epoch: 20. Training Loss: 579.9286881172927. Test Loss: 506.29352727466085\n",
      "Epoch: 21. Training Loss: 521.267151084857. Test Loss: 455.2868350488077\n",
      "Epoch: 22. Training Loss: 468.54815648630273. Test Loss: 409.4366073238674\n",
      "Epoch: 23. Training Loss: 421.16622797300164. Test Loss: 368.21798430029827\n",
      "Epoch: 24. Training Loss: 378.5783611028536. Test Loss: 331.1602375746802\n",
      "Epoch: 25. Training Loss: 340.2974239786389. Test Loss: 297.84105218669026\n",
      "Epoch: 26. Training Loss: 305.8862841394006. Test Loss: 267.8814380544614\n",
      "Epoch: 27. Training Loss: 274.9525763905767. Test Loss: 240.9411968297456\n",
      "Epoch: 28. Training Loss: 247.14403724860998. Test Loss: 216.71487973878243\n",
      "Epoch: 29. Training Loss: 222.14434108416702. Test Loss: 194.928180136172\n",
      "Epoch: 30. Training Loss: 199.66938112935492. Test Loss: 175.33471150838574\n",
      "Epoch: 31. Training Loss: 179.46394547762844. Test Loss: 157.7131277025838\n",
      "Epoch: 32. Training Loss: 161.29874422348757. Test Loss: 141.8645473753744\n",
      "Epoch: 33. Training Loss: 144.9677491060274. Test Loss: 127.61024917971056\n",
      "Epoch: 34. Training Loss: 130.28581155494737. Test Loss: 114.78960813955283\n",
      "Epoch: 35. Training Loss: 117.08652898966565. Test Loss: 103.25824708802685\n",
      "Epoch: 36. Training Loss: 105.22033267484903. Test Loss: 92.88638003772738\n",
      "Epoch: 37. Training Loss: 94.55277345921562. Test Loss: 83.5573269725435\n",
      "Epoch: 38. Training Loss: 84.96298437803826. Test Loss: 75.16618185023951\n",
      "Epoch: 39. Training Loss: 76.34230143335627. Test Loss: 67.61861762740963\n",
      "Epoch: 40. Training Loss: 68.59302592208208. Test Loss: 60.829813900268334\n",
      "Epoch: 41. Training Loss: 61.6273134970912. Test Loss: 54.72349432740644\n",
      "Epoch: 42. Training Loss: 55.36617675105595. Test Loss: 49.23106239105398\n",
      "Epoch: 43. Training Loss: 49.73858953364934. Test Loss: 44.290825284474906\n",
      "Epoch: 44. Training Loss: 44.68068247271792. Test Loss: 39.84729680474085\n",
      "Epoch: 45. Training Loss: 40.13502028873382. Test Loss: 35.850571099330764\n",
      "Epoch: 46. Training Loss: 36.04995248632921. Test Loss: 32.25575997653865\n",
      "Epoch: 47. Training Loss: 32.3790298917349. Test Loss: 29.022487256351912\n",
      "Epoch: 48. Training Loss: 29.08048029336517. Test Loss: 26.11443432142775\n",
      "Epoch: 49. Training Loss: 26.116737145791596. Test Loss: 23.49893163675378\n",
      "Epoch: 50. Training Loss: 23.454015924686487. Test Loss: 21.146591549978165\n",
      "Epoch: 51. Training Loss: 21.06193328061757. Test Loss: 19.03097816971472\n",
      "Epoch: 52. Training Loss: 18.91316464031347. Test Loss: 17.128310552849772\n",
      "Epoch: 53. Training Loss: 16.983136351815. Test Loss: 15.417195819730022\n",
      "Epoch: 54. Training Loss: 15.249748870645703. Test Loss: 13.878389163187627\n",
      "Epoch: 55. Training Loss: 13.693127842864552. Test Loss: 12.494578028057997\n",
      "Epoch: 56. Training Loss: 12.29540026220497. Test Loss: 11.250188016163884\n",
      "Epoch: 57. Training Loss: 11.040493166437662. Test Loss: 10.131208321116794\n",
      "Epoch: 58. Training Loss: 9.913952596233692. Test Loss: 9.12503472086021\n",
      "Epoch: 59. Training Loss: 8.902780771287839. Test Loss: 8.220328356363144\n",
      "Epoch: 60. Training Loss: 7.9952896461209155. Test Loss: 7.406888704723991\n",
      "Epoch: 61. Training Loss: 7.18096919431502. Test Loss: 6.67553931632513\n",
      "Epoch: 62. Training Loss: 6.450368937194204. Test Loss: 6.018025030540143\n",
      "Epoch: 63. Training Loss: 5.794991383113956. Test Loss: 5.4269195145376905\n",
      "Epoch: 64. Training Loss: 5.2071961783616345. Test Loss: 4.89554208650931\n",
      "Epoch: 65. Training Loss: 4.680113891779422. Test Loss: 4.417882889539578\n",
      "Epoch: 66. Training Loss: 4.20756846400613. Test Loss: 3.9885355765564885\n",
      "Epoch: 67. Training Loss: 3.7840074499848098. Test Loss: 3.6026367514607553\n",
      "Epoch: 68. Training Loss: 3.4044392712095997. Test Loss: 3.255811487601694\n",
      "Epoch: 69. Training Loss: 3.0643767731261127. Test Loss: 2.9441243131394637\n",
      "Epoch: 70. Training Loss: 2.7597864540427572. Test Loss: 2.664035114279391\n",
      "Epoch: 71. Training Loss: 2.487042795691703. Test Loss: 2.412359462608575\n",
      "Epoch: 72. Training Loss: 2.242887182907169. Test Loss: 2.1862329224205395\n",
      "Epoch: 73. Training Loss: 2.0243909514411857. Test Loss: 1.9830789385678875\n",
      "Epoch: 74. Training Loss: 1.8289221492825658. Test Loss: 1.800579945526008\n",
      "Epoch: 75. Training Loss: 1.654115638522968. Test Loss: 1.6366513744541769\n",
      "Epoch: 76. Training Loss: 1.4978462022933958. Test Loss: 1.4894182675050263\n",
      "Epoch: 77. Training Loss: 1.3582043549972795. Test Loss: 1.357194237829092\n",
      "Epoch: 78. Training Loss: 1.233474584382182. Test Loss: 1.238462539982756\n",
      "Epoch: 79. Training Loss: 1.1221157812522589. Test Loss: 1.1318590390630803\n",
      "Epoch: 80. Training Loss: 1.0227436371481193. Test Loss: 1.036156888139311\n",
      "Epoch: 81. Training Loss: 0.9341148123754889. Test Loss: 0.9502527426577901\n",
      "Epoch: 82. Training Loss: 0.8551126966049143. Test Loss: 0.8731543576867633\n",
      "Epoch: 83. Training Loss: 0.7847346021104178. Test Loss: 0.803969429329146\n",
      "Epoch: 84. Training Loss: 0.722080245769087. Test Loss: 0.7418955555411262\n",
      "Epoch: 85. Training Loss: 0.666341390385526. Test Loss: 0.6862112041082988\n",
      "Epoch: 86. Training Loss: 0.6167925288951879. Test Loss: 0.6362675867868357\n",
      "Epoch: 87. Training Loss: 0.5727825066891521. Test Loss: 0.5914813487460937\n",
      "Epoch: 88. Training Loss: 0.5337269878154884. Test Loss: 0.5513279915590915\n",
      "Epoch: 89. Training Loss: 0.4991016802720795. Test Loss: 0.515335956185459\n",
      "Epoch: 90. Training Loss: 0.46843624411447526. Test Loss: 0.48308129976582287\n",
      "Epoch: 91. Training Loss: 0.44130881375759623. Test Loss: 0.4541829066815565\n",
      "Epoch: 92. Training Loss: 0.4173410727384925. Test Loss: 0.4282981803045817\n",
      "Epoch: 93. Training Loss: 0.3961938254023068. Test Loss: 0.4051191672320531\n",
      "Epoch: 94. Training Loss: 0.377563015549083. Test Loss: 0.384369070633841\n",
      "Epoch: 95. Training Loss: 0.36117614709388235. Test Loss: 0.36579911368863\n",
      "Epoch: 96. Training Loss: 0.34678906630542183. Test Loss: 0.34918571799700227\n",
      "Epoch: 97. Training Loss: 0.3341830692466984. Test Loss: 0.3343279653785489\n",
      "Epoch: 98. Training Loss: 0.3231623016948745. Test Loss: 0.3210453146288685\n",
      "Epoch: 99. Training Loss: 0.3135514221024063. Test Loss: 0.30917554766052335\n",
      "Epoch: 100. Training Loss: 0.3051935011179704. Test Loss: 0.2985729220166371\n",
      "Epoch: 101. Training Loss: 0.2979481338455429. Test Loss: 0.28910650905269597\n",
      "Epoch: 102. Training Loss: 0.291689743412343. Test Loss: 0.2806586991575475\n",
      "Epoch: 103. Training Loss: 0.28630605656946134. Test Loss: 0.2731238572525974\n",
      "Epoch: 104. Training Loss: 0.2816967339857066. Test Loss: 0.2664071134886362\n",
      "Epoch: 105. Training Loss: 0.27777213963731073. Test Loss: 0.26042327557150446\n",
      "Epoch: 106. Training Loss: 0.2744522352641309. Test Loss: 0.2550958505086548\n",
      "Epoch: 107. Training Loss: 0.2716655872728257. Test Loss: 0.2503561647924208\n",
      "Epoch: 108. Training Loss: 0.2693484747366809. Test Loss: 0.24614257313769172\n",
      "Epoch: 109. Training Loss: 0.26744408828265653. Test Loss: 0.24239974688224566\n",
      "Epoch: 110. Training Loss: 0.2659018106835589. Test Loss: 0.23907803405002817\n",
      "Epoch: 111. Training Loss: 0.26467657089661945. Test Loss: 0.236132883879921\n",
      "Epoch: 112. Training Loss: 0.26372826412104383. Test Loss: 0.23352432934442768\n",
      "Epoch: 113. Training Loss: 0.2630212311945182. Test Loss: 0.23121652183221714\n",
      "Epoch: 114. Training Loss: 0.26252379132126163. Test Loss: 0.22917731275290654\n",
      "Epoch: 115. Training Loss: 0.26220782272919935. Test Loss: 0.22737787734848763\n",
      "Epoch: 116. Training Loss: 0.2620483863979494. Test Loss: 0.22579237646860856\n",
      "Epoch: 117. Training Loss: 0.26202338848904955. Test Loss: 0.2243976524929602\n",
      "Epoch: 118. Training Loss: 0.26211327754995295. Test Loss: 0.22317295596684802\n",
      "Epoch: 119. Training Loss: 0.2623007729597484. Test Loss: 0.22209969986067074\n",
      "Epoch: 120. Training Loss: 0.26257062144054. Test Loss: 0.22116123867424028\n",
      "Epoch: 121. Training Loss: 0.26290937877916004. Test Loss: 0.22034266988565876\n",
      "Epoch: 122. Training Loss: 0.2633052141920154. Test Loss: 0.2196306554956007\n",
      "Epoch: 123. Training Loss: 0.26374773502521637. Test Loss: 0.2190132616437374\n",
      "Epoch: 124. Training Loss: 0.2642278297152455. Test Loss: 0.21847981447700904\n",
      "Epoch: 125. Training Loss: 0.26473752714527965. Test Loss: 0.21802077063256636\n",
      "Epoch: 126. Training Loss: 0.2652698707207877. Test Loss: 0.21762760086246327\n",
      "Epoch: 127. Training Loss: 0.26581880565781507. Test Loss: 0.21729268547510516\n",
      "Epoch: 128. Training Loss: 0.26637907812971073. Test Loss: 0.21700922040194198\n",
      "Epoch: 129. Training Loss: 0.26694614505552017. Test Loss: 0.21677113281719657\n",
      "Epoch: 130. Training Loss: 0.26751609343642213. Test Loss: 0.2165730053465932\n",
      "Epoch: 131. Training Loss: 0.2680855682576194. Test Loss: 0.21641000799772153\n",
      "Epoch: 132. Training Loss: 0.26865170807292027. Test Loss: 0.2162778370320177\n",
      "Epoch: 133. Training Loss: 0.2692120874787662. Test Loss: 0.21617266007683572\n",
      "Epoch: 134. Training Loss: 0.2697646657653012. Test Loss: 0.2160910668465259\n",
      "Epoch: 135. Training Loss: 0.2703077411044994. Test Loss: 0.2160300249051112\n",
      "Epoch: 136. Training Loss: 0.2708399097005128. Test Loss: 0.21598683996016604\n",
      "Epoch: 137. Training Loss: 0.2713600293861007. Test Loss: 0.21595912022892685\n",
      "Epoch: 138. Training Loss: 0.27186718720164765. Test Loss: 0.21594474446392378\n",
      "Epoch: 139. Training Loss: 0.27236067054058266. Test Loss: 0.21594183326696206\n",
      "\n",
      " Full Train Loss: 437.3532246041847. Full Test Loss: 106.30942893223414\n"
     ]
    }
   ],
   "source": [
    "nn = FNN([train_data.shape[1],50,100,200,100,5,1], \n",
    "         ['nothing', 'relu', 'relu', 'relu', 'relu', 'relu', 'nothing'], \n",
    "         0.0000000001)\n",
    "nn.fit_minibatch(train_data, train_labels, test_data, test_labels, mini_batches, mini_batches_test, 140)"
   ]
  }
 ],
 "metadata": {
  "kernelspec": {
   "display_name": "Python 3",
   "language": "python",
   "name": "python3"
  },
  "language_info": {
   "codemirror_mode": {
    "name": "ipython",
    "version": 3
   },
   "file_extension": ".py",
   "mimetype": "text/x-python",
   "name": "python",
   "nbconvert_exporter": "python",
   "pygments_lexer": "ipython3",
   "version": "3.8.5"
  }
 },
 "nbformat": 4,
 "nbformat_minor": 4
}
