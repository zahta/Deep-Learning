{
 "cells": [
  {
   "cell_type": "markdown",
   "metadata": {
    "id": "Oo9UUs6PJObS"
   },
   "source": [
    "# Some regularizations on [Pima Indians Diabetes](https://raw.githubusercontent.com/jbrownlee/Datasets/master/pima-indians-diabetes.csv) dataset\n",
    "By [Zahra Taheri](https://github.com/zahta), November 5, 2020"
   ]
  },
  {
   "cell_type": "markdown",
   "metadata": {
    "id": "07ULppsuJObU"
   },
   "source": [
    "### Import libraries"
   ]
  },
  {
   "cell_type": "code",
   "execution_count": 1,
   "metadata": {
    "id": "phjBpO0lJObW"
   },
   "outputs": [],
   "source": [
    "#For some basic operations\n",
    "import numpy as np\n",
    "import pandas as pd\n",
    "import torch\n",
    "\n",
    "#For visualizations\n",
    "import matplotlib as mpl\n",
    "import matplotlib.pyplot as plt\n",
    "\n",
    "import seaborn as sns\n",
    "\n",
    "# to make this notebook's output identical at every run\n",
    "#np.random.seed(42)\n",
    "\n",
    "import warnings\n",
    "warnings.filterwarnings('ignore')"
   ]
  },
  {
   "cell_type": "markdown",
   "metadata": {
    "id": "KBU6twGzJObh"
   },
   "source": [
    "## Reading the dataset"
   ]
  },
  {
   "cell_type": "code",
   "execution_count": 2,
   "metadata": {
    "colab": {
     "base_uri": "https://localhost:8080/"
    },
    "id": "ToygYINiJObi",
    "outputId": "70fa1539-3d80-4e6c-e4ed-1f46d020f2ea"
   },
   "outputs": [
    {
     "data": {
      "text/plain": [
       "(768, 9)"
      ]
     },
     "execution_count": 2,
     "metadata": {
      "tags": []
     },
     "output_type": "execute_result"
    }
   ],
   "source": [
    "data=pd.read_csv('diabetes.csv')\n",
    "data.shape"
   ]
  },
  {
   "cell_type": "code",
   "execution_count": 3,
   "metadata": {
    "colab": {
     "base_uri": "https://localhost:8080/",
     "height": 204
    },
    "id": "wFazDtd0JObw",
    "outputId": "191c00e2-de21-43d7-a6eb-f3ff6a274470"
   },
   "outputs": [
    {
     "data": {
      "text/html": [
       "<div>\n",
       "<style scoped>\n",
       "    .dataframe tbody tr th:only-of-type {\n",
       "        vertical-align: middle;\n",
       "    }\n",
       "\n",
       "    .dataframe tbody tr th {\n",
       "        vertical-align: top;\n",
       "    }\n",
       "\n",
       "    .dataframe thead th {\n",
       "        text-align: right;\n",
       "    }\n",
       "</style>\n",
       "<table border=\"1\" class=\"dataframe\">\n",
       "  <thead>\n",
       "    <tr style=\"text-align: right;\">\n",
       "      <th></th>\n",
       "      <th>Pregnancies</th>\n",
       "      <th>Glucose</th>\n",
       "      <th>BloodPressure</th>\n",
       "      <th>SkinThickness</th>\n",
       "      <th>Insulin</th>\n",
       "      <th>BMI</th>\n",
       "      <th>DiabetesPedigreeFunction</th>\n",
       "      <th>Age</th>\n",
       "      <th>Outcome</th>\n",
       "    </tr>\n",
       "  </thead>\n",
       "  <tbody>\n",
       "    <tr>\n",
       "      <th>0</th>\n",
       "      <td>6</td>\n",
       "      <td>148</td>\n",
       "      <td>72</td>\n",
       "      <td>35</td>\n",
       "      <td>0</td>\n",
       "      <td>33.6</td>\n",
       "      <td>0.627</td>\n",
       "      <td>50</td>\n",
       "      <td>1</td>\n",
       "    </tr>\n",
       "    <tr>\n",
       "      <th>1</th>\n",
       "      <td>1</td>\n",
       "      <td>85</td>\n",
       "      <td>66</td>\n",
       "      <td>29</td>\n",
       "      <td>0</td>\n",
       "      <td>26.6</td>\n",
       "      <td>0.351</td>\n",
       "      <td>31</td>\n",
       "      <td>0</td>\n",
       "    </tr>\n",
       "    <tr>\n",
       "      <th>2</th>\n",
       "      <td>8</td>\n",
       "      <td>183</td>\n",
       "      <td>64</td>\n",
       "      <td>0</td>\n",
       "      <td>0</td>\n",
       "      <td>23.3</td>\n",
       "      <td>0.672</td>\n",
       "      <td>32</td>\n",
       "      <td>1</td>\n",
       "    </tr>\n",
       "    <tr>\n",
       "      <th>3</th>\n",
       "      <td>1</td>\n",
       "      <td>89</td>\n",
       "      <td>66</td>\n",
       "      <td>23</td>\n",
       "      <td>94</td>\n",
       "      <td>28.1</td>\n",
       "      <td>0.167</td>\n",
       "      <td>21</td>\n",
       "      <td>0</td>\n",
       "    </tr>\n",
       "    <tr>\n",
       "      <th>4</th>\n",
       "      <td>0</td>\n",
       "      <td>137</td>\n",
       "      <td>40</td>\n",
       "      <td>35</td>\n",
       "      <td>168</td>\n",
       "      <td>43.1</td>\n",
       "      <td>2.288</td>\n",
       "      <td>33</td>\n",
       "      <td>1</td>\n",
       "    </tr>\n",
       "  </tbody>\n",
       "</table>\n",
       "</div>"
      ],
      "text/plain": [
       "   Pregnancies  Glucose  BloodPressure  ...  DiabetesPedigreeFunction  Age  Outcome\n",
       "0            6      148             72  ...                     0.627   50        1\n",
       "1            1       85             66  ...                     0.351   31        0\n",
       "2            8      183             64  ...                     0.672   32        1\n",
       "3            1       89             66  ...                     0.167   21        0\n",
       "4            0      137             40  ...                     2.288   33        1\n",
       "\n",
       "[5 rows x 9 columns]"
      ]
     },
     "execution_count": 3,
     "metadata": {
      "tags": []
     },
     "output_type": "execute_result"
    }
   ],
   "source": [
    "data.head()"
   ]
  },
  {
   "cell_type": "code",
   "execution_count": 4,
   "metadata": {
    "colab": {
     "base_uri": "https://localhost:8080/"
    },
    "id": "wpS41k7OJOb4",
    "outputId": "bfa25282-4d18-40b3-d912-b05592651e40"
   },
   "outputs": [
    {
     "name": "stdout",
     "output_type": "stream",
     "text": [
      "<class 'pandas.core.frame.DataFrame'>\n",
      "RangeIndex: 768 entries, 0 to 767\n",
      "Data columns (total 9 columns):\n",
      " #   Column                    Non-Null Count  Dtype  \n",
      "---  ------                    --------------  -----  \n",
      " 0   Pregnancies               768 non-null    int64  \n",
      " 1   Glucose                   768 non-null    int64  \n",
      " 2   BloodPressure             768 non-null    int64  \n",
      " 3   SkinThickness             768 non-null    int64  \n",
      " 4   Insulin                   768 non-null    int64  \n",
      " 5   BMI                       768 non-null    float64\n",
      " 6   DiabetesPedigreeFunction  768 non-null    float64\n",
      " 7   Age                       768 non-null    int64  \n",
      " 8   Outcome                   768 non-null    int64  \n",
      "dtypes: float64(2), int64(7)\n",
      "memory usage: 54.1 KB\n"
     ]
    }
   ],
   "source": [
    "data.info()"
   ]
  },
  {
   "cell_type": "markdown",
   "metadata": {
    "id": "G8D2gGJsJOcB"
   },
   "source": [
    "## Descriptive statistics and data visualizations"
   ]
  },
  {
   "cell_type": "code",
   "execution_count": 5,
   "metadata": {
    "colab": {
     "base_uri": "https://localhost:8080/",
     "height": 317
    },
    "id": "vJQXglTfJOcD",
    "outputId": "b490f3a1-a7bc-4e80-9482-6ef354f558cd"
   },
   "outputs": [
    {
     "data": {
      "text/html": [
       "<div>\n",
       "<style scoped>\n",
       "    .dataframe tbody tr th:only-of-type {\n",
       "        vertical-align: middle;\n",
       "    }\n",
       "\n",
       "    .dataframe tbody tr th {\n",
       "        vertical-align: top;\n",
       "    }\n",
       "\n",
       "    .dataframe thead th {\n",
       "        text-align: right;\n",
       "    }\n",
       "</style>\n",
       "<table border=\"1\" class=\"dataframe\">\n",
       "  <thead>\n",
       "    <tr style=\"text-align: right;\">\n",
       "      <th></th>\n",
       "      <th>Pregnancies</th>\n",
       "      <th>Glucose</th>\n",
       "      <th>BloodPressure</th>\n",
       "      <th>SkinThickness</th>\n",
       "      <th>Insulin</th>\n",
       "      <th>BMI</th>\n",
       "      <th>DiabetesPedigreeFunction</th>\n",
       "      <th>Age</th>\n",
       "      <th>Outcome</th>\n",
       "    </tr>\n",
       "  </thead>\n",
       "  <tbody>\n",
       "    <tr>\n",
       "      <th>count</th>\n",
       "      <td>768.000000</td>\n",
       "      <td>768.000000</td>\n",
       "      <td>768.000000</td>\n",
       "      <td>768.000000</td>\n",
       "      <td>768.000000</td>\n",
       "      <td>768.000000</td>\n",
       "      <td>768.000000</td>\n",
       "      <td>768.000000</td>\n",
       "      <td>768.000000</td>\n",
       "    </tr>\n",
       "    <tr>\n",
       "      <th>mean</th>\n",
       "      <td>3.845052</td>\n",
       "      <td>120.894531</td>\n",
       "      <td>69.105469</td>\n",
       "      <td>20.536458</td>\n",
       "      <td>79.799479</td>\n",
       "      <td>31.992578</td>\n",
       "      <td>0.471876</td>\n",
       "      <td>33.240885</td>\n",
       "      <td>0.348958</td>\n",
       "    </tr>\n",
       "    <tr>\n",
       "      <th>std</th>\n",
       "      <td>3.369578</td>\n",
       "      <td>31.972618</td>\n",
       "      <td>19.355807</td>\n",
       "      <td>15.952218</td>\n",
       "      <td>115.244002</td>\n",
       "      <td>7.884160</td>\n",
       "      <td>0.331329</td>\n",
       "      <td>11.760232</td>\n",
       "      <td>0.476951</td>\n",
       "    </tr>\n",
       "    <tr>\n",
       "      <th>min</th>\n",
       "      <td>0.000000</td>\n",
       "      <td>0.000000</td>\n",
       "      <td>0.000000</td>\n",
       "      <td>0.000000</td>\n",
       "      <td>0.000000</td>\n",
       "      <td>0.000000</td>\n",
       "      <td>0.078000</td>\n",
       "      <td>21.000000</td>\n",
       "      <td>0.000000</td>\n",
       "    </tr>\n",
       "    <tr>\n",
       "      <th>25%</th>\n",
       "      <td>1.000000</td>\n",
       "      <td>99.000000</td>\n",
       "      <td>62.000000</td>\n",
       "      <td>0.000000</td>\n",
       "      <td>0.000000</td>\n",
       "      <td>27.300000</td>\n",
       "      <td>0.243750</td>\n",
       "      <td>24.000000</td>\n",
       "      <td>0.000000</td>\n",
       "    </tr>\n",
       "    <tr>\n",
       "      <th>50%</th>\n",
       "      <td>3.000000</td>\n",
       "      <td>117.000000</td>\n",
       "      <td>72.000000</td>\n",
       "      <td>23.000000</td>\n",
       "      <td>30.500000</td>\n",
       "      <td>32.000000</td>\n",
       "      <td>0.372500</td>\n",
       "      <td>29.000000</td>\n",
       "      <td>0.000000</td>\n",
       "    </tr>\n",
       "    <tr>\n",
       "      <th>75%</th>\n",
       "      <td>6.000000</td>\n",
       "      <td>140.250000</td>\n",
       "      <td>80.000000</td>\n",
       "      <td>32.000000</td>\n",
       "      <td>127.250000</td>\n",
       "      <td>36.600000</td>\n",
       "      <td>0.626250</td>\n",
       "      <td>41.000000</td>\n",
       "      <td>1.000000</td>\n",
       "    </tr>\n",
       "    <tr>\n",
       "      <th>max</th>\n",
       "      <td>17.000000</td>\n",
       "      <td>199.000000</td>\n",
       "      <td>122.000000</td>\n",
       "      <td>99.000000</td>\n",
       "      <td>846.000000</td>\n",
       "      <td>67.100000</td>\n",
       "      <td>2.420000</td>\n",
       "      <td>81.000000</td>\n",
       "      <td>1.000000</td>\n",
       "    </tr>\n",
       "  </tbody>\n",
       "</table>\n",
       "</div>"
      ],
      "text/plain": [
       "       Pregnancies     Glucose  ...         Age     Outcome\n",
       "count   768.000000  768.000000  ...  768.000000  768.000000\n",
       "mean      3.845052  120.894531  ...   33.240885    0.348958\n",
       "std       3.369578   31.972618  ...   11.760232    0.476951\n",
       "min       0.000000    0.000000  ...   21.000000    0.000000\n",
       "25%       1.000000   99.000000  ...   24.000000    0.000000\n",
       "50%       3.000000  117.000000  ...   29.000000    0.000000\n",
       "75%       6.000000  140.250000  ...   41.000000    1.000000\n",
       "max      17.000000  199.000000  ...   81.000000    1.000000\n",
       "\n",
       "[8 rows x 9 columns]"
      ]
     },
     "execution_count": 5,
     "metadata": {
      "tags": []
     },
     "output_type": "execute_result"
    }
   ],
   "source": [
    "#Describe the dataset\n",
    "\n",
    "data.describe()"
   ]
  },
  {
   "cell_type": "code",
   "execution_count": 6,
   "metadata": {
    "colab": {
     "base_uri": "https://localhost:8080/"
    },
    "id": "7kciuqKAJOcM",
    "outputId": "1935c791-c9a2-46bc-e1e8-23c50fb67d5b"
   },
   "outputs": [
    {
     "data": {
      "text/plain": [
       "Series([], dtype: float64)"
      ]
     },
     "execution_count": 6,
     "metadata": {
      "tags": []
     },
     "output_type": "execute_result"
    }
   ],
   "source": [
    "#Check the no. of unique items in each categorical column\n",
    "\n",
    "data.select_dtypes('object').nunique()"
   ]
  },
  {
   "cell_type": "code",
   "execution_count": 7,
   "metadata": {
    "colab": {
     "base_uri": "https://localhost:8080/"
    },
    "id": "7iA5iBngJOcT",
    "outputId": "14623f7e-8e0c-4155-fee0-2305e12550a9"
   },
   "outputs": [
    {
     "name": "stdout",
     "output_type": "stream",
     "text": [
      "Pregnancies                 0.0\n",
      "Glucose                     0.0\n",
      "BloodPressure               0.0\n",
      "SkinThickness               0.0\n",
      "Insulin                     0.0\n",
      "BMI                         0.0\n",
      "DiabetesPedigreeFunction    0.0\n",
      "Age                         0.0\n",
      "Outcome                     0.0\n",
      "dtype: float64\n"
     ]
    }
   ],
   "source": [
    "# Percentage of missing data in each column\n",
    "\n",
    "number_of_columns = data.shape[0]\n",
    "percentage_of_missing_data = data.isnull().sum()/number_of_columns\n",
    "print(percentage_of_missing_data)"
   ]
  },
  {
   "cell_type": "markdown",
   "metadata": {
    "_cell_guid": "437745c7-fa67-4af6-b165-ba84a8d3c394",
    "_execution_state": "idle",
    "_uuid": "1ef71a8a09126e3c66ddb6b5b84937942384767a",
    "id": "5KcfinAMJOcf"
   },
   "source": [
    "### Correlations"
   ]
  },
  {
   "cell_type": "code",
   "execution_count": 8,
   "metadata": {
    "_cell_guid": "9c122298-471f-4f02-aa14-5d4218385f56",
    "_execution_state": "idle",
    "_uuid": "cc96273ceb750522bc1f48e76599bbe12f384e9d",
    "colab": {
     "base_uri": "https://localhost:8080/",
     "height": 407
    },
    "id": "1isG_afPJOcg",
    "outputId": "aeaba558-4be3-4d0e-bd4c-c6dd5a943aed"
   },
   "outputs": [
    {
     "data": {
      "text/plain": [
       "<matplotlib.axes._subplots.AxesSubplot at 0x7f327db1b7f0>"
      ]
     },
     "execution_count": 8,
     "metadata": {
      "tags": []
     },
     "output_type": "execute_result"
    },
    {
     "data": {
      "image/png": "[encoded data removed]",
      "text/plain": [
       "<Figure size 432x288 with 2 Axes>"
      ]
     },
     "metadata": {
      "needs_background": "light",
      "tags": []
     },
     "output_type": "display_data"
    }
   ],
   "source": [
    "sns.heatmap(data.corr(), annot = True)"
   ]
  },
  {
   "cell_type": "code",
   "execution_count": 9,
   "metadata": {
    "colab": {
     "base_uri": "https://localhost:8080/",
     "height": 718
    },
    "id": "WOMO5rZGJOcm",
    "outputId": "bcf31f0f-fa71-4446-ffa6-56e8363c921a"
   },
   "outputs": [
    {
     "data": {
      "image/png": "[encoded data removed]",
      "text/plain": [
       "<Figure size 1440x1080 with 9 Axes>"
      ]
     },
     "metadata": {
      "needs_background": "light",
      "tags": []
     },
     "output_type": "display_data"
    }
   ],
   "source": [
    "data.hist(bins=100, figsize=(20,15))\n",
    "\n",
    "plt.show()"
   ]
  },
  {
   "cell_type": "code",
   "execution_count": 10,
   "metadata": {
    "colab": {
     "base_uri": "https://localhost:8080/"
    },
    "id": "uUoG1nSHJOcu",
    "outputId": "67ecdfa0-6ad3-458b-9a73-3f5b1db81288"
   },
   "outputs": [
    {
     "name": "stdout",
     "output_type": "stream",
     "text": [
      "(768, 9)\n",
      "(768, 8)\n",
      "(768,)\n"
     ]
    }
   ],
   "source": [
    "X=data.iloc[:,:8].values\n",
    "y=data.iloc[:,8].values\n",
    "print(data.shape)\n",
    "print(X.shape)\n",
    "print(y.shape)"
   ]
  },
  {
   "cell_type": "code",
   "execution_count": 11,
   "metadata": {
    "id": "v-NfpgftJOc2"
   },
   "outputs": [],
   "source": [
    "from sklearn.model_selection import train_test_split\n",
    "\n",
    "X_train, X_test, y_train, y_test = train_test_split(X, y, test_size=0.2, random_state=0)"
   ]
  },
  {
   "cell_type": "code",
   "execution_count": 12,
   "metadata": {
    "id": "9SKilE4UJOc_"
   },
   "outputs": [],
   "source": [
    "from sklearn.preprocessing import StandardScaler\n",
    "\n",
    "std_scale = StandardScaler()\n",
    "\n",
    "train_data = std_scale.fit_transform(X_train)\n",
    "test_data = std_scale.transform(X_test)\n",
    "\n",
    "train_labels = y_train.reshape(-1,1)\n",
    "test_labels = y_test.reshape(-1,1)"
   ]
  },
  {
   "cell_type": "code",
   "execution_count": 13,
   "metadata": {
    "id": "lUv5HyC8ZLRM"
   },
   "outputs": [],
   "source": [
    "#print(train_labels)"
   ]
  },
  {
   "cell_type": "markdown",
   "metadata": {
    "id": "3s5fAfkYxLYp"
   },
   "source": [
    "## Preparation of the dataset for PyTorch"
   ]
  },
  {
   "cell_type": "code",
   "execution_count": 14,
   "metadata": {
    "id": "ahgOdhzoAXkf"
   },
   "outputs": [],
   "source": [
    "device = torch.device('cuda:0' if torch.cuda.is_available() else 'cpu')"
   ]
  },
  {
   "cell_type": "code",
   "execution_count": 15,
   "metadata": {
    "id": "wJ1L0HBAjGxk"
   },
   "outputs": [],
   "source": [
    "#from torch.utils.data import TensorDataset, DataLoader\n",
    "\n",
    "tensor_x = torch.tensor(train_data, dtype=torch.float).cuda() # transform to torch tensor\n",
    "tensor_x2 = torch.tensor(test_data, dtype=torch.float).cuda() "
   ]
  },
  {
   "cell_type": "code",
   "execution_count": 16,
   "metadata": {
    "id": "eZCUXWsRjGxt"
   },
   "outputs": [],
   "source": [
    "tensor_y = torch.tensor(train_labels, dtype=torch.float).cuda()\n",
    "tensor_y2 = torch.tensor(test_labels, dtype=torch.float).cuda() "
   ]
  },
  {
   "cell_type": "code",
   "execution_count": 17,
   "metadata": {
    "id": "PR0Pw5uNt22n"
   },
   "outputs": [],
   "source": [
    "# Normalizing the data\n",
    "\n",
    "#print(tensor_x,tensor_x2)\n",
    "\n",
    "#mean = torch.mean(tensor_x)\n",
    "#std = torch.std(tensor_x)\n",
    "\n",
    "#tensor_x = (tensor_x - mean) / std\n",
    "#tensor_x2 = (tensor_x2 - mean) / std"
   ]
  },
  {
   "cell_type": "markdown",
   "metadata": {
    "id": "0Q3zsgW2jGx8"
   },
   "source": [
    "## Building Feedforward Neural Networks with PyTorch"
   ]
  },
  {
   "cell_type": "code",
   "execution_count": 18,
   "metadata": {
    "id": "RERx3KT0HGoT"
   },
   "outputs": [],
   "source": [
    "# import libraries\n",
    "import torch\n",
    "import torch.nn as nn\n",
    "from torchsummary import summary"
   ]
  },
  {
   "cell_type": "markdown",
   "metadata": {
    "id": "RyxPfwK0k2Ro"
   },
   "source": [
    "## L2 regularization"
   ]
  },
  {
   "cell_type": "markdown",
   "metadata": {
    "id": "P_xGYFrsjG0R"
   },
   "source": [
    "### Model A: 1 Hidden Layers Feedforward Neural Network"
   ]
  },
  {
   "cell_type": "markdown",
   "metadata": {
    "id": "Eq-gTJ_SjG0v"
   },
   "source": [
    "### Create model class"
   ]
  },
  {
   "cell_type": "code",
   "execution_count": 19,
   "metadata": {
    "id": "U2bcvOidid2l"
   },
   "outputs": [],
   "source": [
    "class FNN(nn.Module):\n",
    "    def __init__(self, input_dim, hidden_dim1, output_dim):\n",
    "        super(FNN, self).__init__()\n",
    "        \n",
    "        self.linear1 = nn.Linear(input_dim, hidden_dim1)\n",
    "        self.relu1 = nn.ReLU()\n",
    "        self.linear2 = nn.Linear(hidden_dim1, output_dim)\n",
    "        self.sigmoid= nn.Sigmoid()\n",
    "\n",
    "    def forward(self, x):\n",
    "        out = self.linear1(x)\n",
    "        out = self.relu1(out)\n",
    "        out = self.linear2(out)\n",
    "        out = self.sigmoid(out)\n",
    "        return out"
   ]
  },
  {
   "cell_type": "code",
   "execution_count": 20,
   "metadata": {
    "id": "TNuuq39Nid2o"
   },
   "outputs": [],
   "source": [
    "input_dim = tensor_x.shape[1]\n",
    "output_dim = 1\n",
    "hidden_dim1 = 500"
   ]
  },
  {
   "cell_type": "code",
   "execution_count": 21,
   "metadata": {
    "id": "PwaZoNhUt22v"
   },
   "outputs": [],
   "source": [
    "model = FNN(input_dim, hidden_dim1, output_dim)\n",
    "\n",
    "#######################\n",
    "#  USE GPU FOR MODEL  #\n",
    "#######################\n",
    "if torch.cuda.is_available():\n",
    "    model.cuda()\n"
   ]
  },
  {
   "cell_type": "code",
   "execution_count": 22,
   "metadata": {
    "colab": {
     "base_uri": "https://localhost:8080/"
    },
    "id": "RDWXkP5iIKF9",
    "outputId": "1b9a665a-f39c-4ca4-b663-c108d8b8139a"
   },
   "outputs": [
    {
     "name": "stdout",
     "output_type": "stream",
     "text": [
      "----------------------------------------------------------------\n",
      "        Layer (type)               Output Shape         Param #\n",
      "================================================================\n",
      "            Linear-1               [-1, 1, 500]           4,500\n",
      "              ReLU-2               [-1, 1, 500]               0\n",
      "            Linear-3                 [-1, 1, 1]             501\n",
      "           Sigmoid-4                 [-1, 1, 1]               0\n",
      "================================================================\n",
      "Total params: 5,001\n",
      "Trainable params: 5,001\n",
      "Non-trainable params: 0\n",
      "----------------------------------------------------------------\n",
      "Input size (MB): 0.00\n",
      "Forward/backward pass size (MB): 0.01\n",
      "Params size (MB): 0.02\n",
      "Estimated Total Size (MB): 0.03\n",
      "----------------------------------------------------------------\n"
     ]
    }
   ],
   "source": [
    "summary(model, (1,tensor_x.shape[1]))"
   ]
  },
  {
   "cell_type": "code",
   "execution_count": 23,
   "metadata": {
    "id": "KnZxUvFvNJlZ"
   },
   "outputs": [],
   "source": [
    "criterion = nn.BCELoss()\n",
    "\n",
    "learning_rate = 0.05\n",
    "LAMBDA = 0.005\n",
    "optimizer = torch.optim.SGD(model.parameters(), lr=learning_rate, weight_decay=LAMBDA)"
   ]
  },
  {
   "cell_type": "code",
   "execution_count": 24,
   "metadata": {
    "id": "w8DwiuDxv1Bi"
   },
   "outputs": [],
   "source": [
    "def accuracy(y_pred, y_test):\n",
    "    y_pred_tag = torch.round(y_pred)\n",
    "\n",
    "    correct_results_sum = (y_pred_tag == y_test).sum().float()\n",
    "    acc = correct_results_sum/y_test.shape[0]\n",
    "    acc = torch.round(acc * 100)\n",
    "    \n",
    "    return acc"
   ]
  },
  {
   "cell_type": "code",
   "execution_count": 25,
   "metadata": {
    "colab": {
     "base_uri": "https://localhost:8080/"
    },
    "id": "fHiKX1cdt22x",
    "outputId": "a76b815a-82f2-4798-ab6d-576e3635673b"
   },
   "outputs": [
    {
     "name": "stdout",
     "output_type": "stream",
     "text": [
      "Epoch: 0. Loss: 0.6564121246337891. Accuracy: 66.0\n",
      "Epoch: 500. Loss: 0.4310130774974823. Accuracy: 82.0\n",
      "Epoch: 1000. Loss: 0.4371461272239685. Accuracy: 83.0\n",
      "Epoch: 1500. Loss: 0.4422956705093384. Accuracy: 84.0\n",
      "Epoch: 2000. Loss: 0.4455036222934723. Accuracy: 84.0\n",
      "Epoch: 2500. Loss: 0.4476178288459778. Accuracy: 83.0\n",
      "Epoch: 3000. Loss: 0.44900327920913696. Accuracy: 82.0\n",
      "Epoch: 3500. Loss: 0.45015695691108704. Accuracy: 82.0\n",
      "Epoch: 4000. Loss: 0.4508124887943268. Accuracy: 82.0\n",
      "Epoch: 4500. Loss: 0.45139288902282715. Accuracy: 82.0\n"
     ]
    }
   ],
   "source": [
    "# Train the model\n",
    "\n",
    "num_epochs = 5000\n",
    "epoch_loss = []\n",
    "X = tensor_x\n",
    "y = tensor_y\n",
    "X_test = tensor_x2\n",
    "y_test = tensor_y2\n",
    "\n",
    "for epoch in range(num_epochs):\n",
    "        # Forward pass to get output/logits\n",
    "        outputs = model(X)\n",
    "        \n",
    "        # Calculate Loss\n",
    "        loss = criterion(outputs, y)\n",
    "        \n",
    "        '''\n",
    "        Save loss to draw loss curve\n",
    "        '''\n",
    "        epoch_loss.append(loss)\n",
    "\n",
    "        # Clear gradients w.r.t. parameters\n",
    "        optimizer.zero_grad() \n",
    "             \n",
    "        # Getting gradients w.r.t. parameters\n",
    "        loss.backward()\n",
    "        \n",
    "        # Updating parameters\n",
    "        optimizer.step()\n",
    "    \n",
    "        # Testing the model\n",
    "        if epoch % 500 == 0:\n",
    "            # Forward pass to get output/logits\n",
    "            outputs = model(X_test)\n",
    "            loss_t = criterion(outputs, y_test)\n",
    "            \n",
    "            # Print Loss\n",
    "            print('Epoch: {}. Loss: {}. Accuracy: {}'.format(epoch, loss_t.data, accuracy(outputs, y_test)))\n",
    "            "
   ]
  },
  {
   "cell_type": "code",
   "execution_count": 26,
   "metadata": {
    "colab": {
     "base_uri": "https://localhost:8080/",
     "height": 282
    },
    "id": "4oYI3pK5id2-",
    "outputId": "b9759047-860a-4156-fc61-e7af556b33b1"
   },
   "outputs": [
    {
     "data": {
      "text/plain": [
       "[<matplotlib.lines.Line2D at 0x7f326e293438>]"
      ]
     },
     "execution_count": 26,
     "metadata": {
      "tags": []
     },
     "output_type": "execute_result"
    },
    {
     "data": {
      "image/png": "[encoded data removed]",
      "text/plain": [
       "<Figure size 432x288 with 1 Axes>"
      ]
     },
     "metadata": {
      "needs_background": "light",
      "tags": []
     },
     "output_type": "display_data"
    }
   ],
   "source": [
    "plt.plot(epoch_loss)"
   ]
  },
  {
   "cell_type": "code",
   "execution_count": 27,
   "metadata": {
    "id": "JJcThtEMrtF3"
   },
   "outputs": [],
   "source": [
    "save_model = True\n",
    "if save_model is True:\n",
    "    torch.save(model.state_dict(), 'diabetes_pytorch_A_l2.pkl')# only save parameters"
   ]
  },
  {
   "cell_type": "markdown",
   "metadata": {
    "id": "9ALXLLyMid3F"
   },
   "source": [
    "### Model B: 2 Hidden Layers Feedforward Neural Network"
   ]
  },
  {
   "cell_type": "markdown",
   "metadata": {
    "id": "iBaF_XSxid3G"
   },
   "source": [
    "### Create model class"
   ]
  },
  {
   "cell_type": "code",
   "execution_count": 28,
   "metadata": {
    "id": "L_pXroQFt22q"
   },
   "outputs": [],
   "source": [
    "class FNN(nn.Module):\n",
    "    def __init__(self, input_dim, hidden_dim1, hidden_dim2, output_dim):\n",
    "        super(FNN, self).__init__()\n",
    "        \n",
    "        self.linear1 = nn.Linear(input_dim, hidden_dim1)\n",
    "        self.relu1 = nn.ReLU()\n",
    "        self.linear2 = nn.Linear(hidden_dim1, hidden_dim2)\n",
    "        self.relu2 = nn.ReLU()\n",
    "        #self.linear3 = nn.Linear(hidden_dim2, hidden_dim3)\n",
    "        #self.relu3 = nn.ReLU()\n",
    "        self.linear4 = nn.Linear(hidden_dim2, output_dim)\n",
    "        self.sigmoid= nn.Sigmoid()\n",
    "\n",
    "    def forward(self, x):\n",
    "        out = self.linear1(x)\n",
    "        out = self.relu1(out)\n",
    "        out = self.linear2(out)\n",
    "        out = self.relu2(out)\n",
    "        #out = self.linear3(out)\n",
    "        #out = self.relu3(out)\n",
    "        out = self.linear4(out)\n",
    "        out = self.sigmoid(out)\n",
    "        return out"
   ]
  },
  {
   "cell_type": "code",
   "execution_count": 29,
   "metadata": {
    "id": "lTICx4_Gt22t"
   },
   "outputs": [],
   "source": [
    "input_dim = tensor_x.shape[1]\n",
    "output_dim = 1\n",
    "hidden_dim1 = 50\n",
    "hidden_dim2 = 100"
   ]
  },
  {
   "cell_type": "code",
   "execution_count": 30,
   "metadata": {
    "id": "CsAmcdIkid3M"
   },
   "outputs": [],
   "source": [
    "model = FNN(input_dim, hidden_dim1, hidden_dim2, output_dim)\n",
    "\n",
    "#######################\n",
    "#  USE GPU FOR MODEL  #\n",
    "#######################\n",
    "if torch.cuda.is_available():\n",
    "    model.cuda()\n"
   ]
  },
  {
   "cell_type": "code",
   "execution_count": 31,
   "metadata": {
    "colab": {
     "base_uri": "https://localhost:8080/"
    },
    "id": "pJQ-4kilid3P",
    "outputId": "1711b9f8-ef67-4623-912b-244044f7713a"
   },
   "outputs": [
    {
     "name": "stdout",
     "output_type": "stream",
     "text": [
      "----------------------------------------------------------------\n",
      "        Layer (type)               Output Shape         Param #\n",
      "================================================================\n",
      "            Linear-1                [-1, 1, 50]             450\n",
      "              ReLU-2                [-1, 1, 50]               0\n",
      "            Linear-3               [-1, 1, 100]           5,100\n",
      "              ReLU-4               [-1, 1, 100]               0\n",
      "            Linear-5                 [-1, 1, 1]             101\n",
      "           Sigmoid-6                 [-1, 1, 1]               0\n",
      "================================================================\n",
      "Total params: 5,651\n",
      "Trainable params: 5,651\n",
      "Non-trainable params: 0\n",
      "----------------------------------------------------------------\n",
      "Input size (MB): 0.00\n",
      "Forward/backward pass size (MB): 0.00\n",
      "Params size (MB): 0.02\n",
      "Estimated Total Size (MB): 0.02\n",
      "----------------------------------------------------------------\n"
     ]
    }
   ],
   "source": [
    "summary(model, (1,tensor_x.shape[1]))"
   ]
  },
  {
   "cell_type": "code",
   "execution_count": 32,
   "metadata": {
    "id": "CPJJ6IL8id3S"
   },
   "outputs": [],
   "source": [
    "criterion = nn.BCELoss()\n",
    "\n",
    "learning_rate = 0.01\n",
    "LAMBDA = 0.009\n",
    "optimizer = torch.optim.SGD(model.parameters(), lr=learning_rate, weight_decay=LAMBDA)"
   ]
  },
  {
   "cell_type": "code",
   "execution_count": 33,
   "metadata": {
    "colab": {
     "base_uri": "https://localhost:8080/"
    },
    "id": "-aFVLG-Rid3Z",
    "outputId": "3e610c41-473d-47c3-eaa5-402c51163040"
   },
   "outputs": [
    {
     "name": "stdout",
     "output_type": "stream",
     "text": [
      "Epoch: 0. Loss: 0.6790396571159363. Accuracy: 69.0\n",
      "Epoch: 1000. Loss: 0.43703657388687134. Accuracy: 80.0\n",
      "Epoch: 2000. Loss: 0.42542991042137146. Accuracy: 80.0\n",
      "Epoch: 3000. Loss: 0.4258444607257843. Accuracy: 79.0\n",
      "Epoch: 4000. Loss: 0.427883505821228. Accuracy: 79.0\n",
      "Epoch: 5000. Loss: 0.4298558533191681. Accuracy: 79.0\n",
      "Epoch: 6000. Loss: 0.43184348940849304. Accuracy: 79.0\n",
      "Epoch: 7000. Loss: 0.4334612786769867. Accuracy: 79.0\n",
      "Epoch: 8000. Loss: 0.43445712327957153. Accuracy: 79.0\n",
      "Epoch: 9000. Loss: 0.4365594685077667. Accuracy: 79.0\n"
     ]
    }
   ],
   "source": [
    "# Train the model\n",
    "\n",
    "num_epochs = 10000\n",
    "epoch_loss = []\n",
    "X = tensor_x\n",
    "y = tensor_y\n",
    "X_test = tensor_x2\n",
    "y_test = tensor_y2\n",
    "\n",
    "for epoch in range(num_epochs):\n",
    "        # Forward pass to get output/logits\n",
    "        outputs = model(X)\n",
    "        \n",
    "        # Calculate Loss\n",
    "        loss = criterion(outputs, y)\n",
    "        \n",
    "        '''\n",
    "        Save loss to draw loss curve\n",
    "        '''\n",
    "        epoch_loss.append(loss)\n",
    "\n",
    "        # Clear gradients w.r.t. parameters\n",
    "        optimizer.zero_grad() \n",
    "             \n",
    "        # Getting gradients w.r.t. parameters\n",
    "        loss.backward()\n",
    "        \n",
    "        # Updating parameters\n",
    "        optimizer.step()\n",
    "    \n",
    "        # Testing the model\n",
    "        if epoch % 1000 == 0:\n",
    "            # Forward pass to get output/logits\n",
    "            outputs = model(X_test)\n",
    "            loss_t = criterion(outputs, y_test)\n",
    "            \n",
    "            # Print Loss\n",
    "            print('Epoch: {}. Loss: {}. Accuracy: {}'.format(epoch, loss_t.data, accuracy(outputs, y_test)))\n",
    "            "
   ]
  },
  {
   "cell_type": "code",
   "execution_count": 34,
   "metadata": {
    "colab": {
     "base_uri": "https://localhost:8080/",
     "height": 282
    },
    "id": "ZE-GXPGWid3c",
    "outputId": "5db2cd80-facb-4bc4-cd61-eb7e50188023"
   },
   "outputs": [
    {
     "data": {
      "text/plain": [
       "[<matplotlib.lines.Line2D at 0x7f326e1b70b8>]"
      ]
     },
     "execution_count": 34,
     "metadata": {
      "tags": []
     },
     "output_type": "execute_result"
    },
    {
     "data": {
      "image/png": "[encoded data removed]",
      "text/plain": [
       "<Figure size 432x288 with 1 Axes>"
      ]
     },
     "metadata": {
      "needs_background": "light",
      "tags": []
     },
     "output_type": "display_data"
    }
   ],
   "source": [
    "plt.plot(epoch_loss)"
   ]
  },
  {
   "cell_type": "code",
   "execution_count": 35,
   "metadata": {
    "id": "xPBqHJTiid3f"
   },
   "outputs": [],
   "source": [
    "save_model = True\n",
    "if save_model is True:\n",
    "    torch.save(model.state_dict(), 'diabetes_pytorch_B_l2.pkl')# only save parameters"
   ]
  },
  {
   "cell_type": "markdown",
   "metadata": {
    "id": "9BuhtUmpolQ7"
   },
   "source": [
    "## L1 regularization"
   ]
  },
  {
   "cell_type": "markdown",
   "metadata": {
    "id": "SMWRsCDKpHMJ"
   },
   "source": [
    "### Model A: 1 Hidden Layers Feedforward Neural Network"
   ]
  },
  {
   "cell_type": "markdown",
   "metadata": {
    "id": "rPDJyVfipHMQ"
   },
   "source": [
    "### Create model class"
   ]
  },
  {
   "cell_type": "code",
   "execution_count": 36,
   "metadata": {
    "id": "URfEa6rypHMT"
   },
   "outputs": [],
   "source": [
    "class FNN(nn.Module):\n",
    "    def __init__(self, input_dim, hidden_dim1, output_dim):\n",
    "        super(FNN, self).__init__()\n",
    "        \n",
    "        self.linear1 = nn.Linear(input_dim, hidden_dim1)\n",
    "        self.relu1 = nn.ReLU()\n",
    "        self.linear2 = nn.Linear(hidden_dim1, output_dim)\n",
    "        self.sigmoid= nn.Sigmoid()\n",
    "\n",
    "    def forward(self, x):\n",
    "        out = self.linear1(x)\n",
    "        out = self.relu1(out)\n",
    "        out = self.linear2(out)\n",
    "        out = self.sigmoid(out)\n",
    "        return out"
   ]
  },
  {
   "cell_type": "code",
   "execution_count": 37,
   "metadata": {
    "id": "rpQFRWoRpHMg"
   },
   "outputs": [],
   "source": [
    "input_dim = tensor_x.shape[1]\n",
    "output_dim = 1\n",
    "hidden_dim1 = 500"
   ]
  },
  {
   "cell_type": "code",
   "execution_count": 38,
   "metadata": {
    "id": "uYAJsJqdpHMj"
   },
   "outputs": [],
   "source": [
    "model = FNN(input_dim, hidden_dim1, output_dim)\n",
    "\n",
    "#######################\n",
    "#  USE GPU FOR MODEL  #\n",
    "#######################\n",
    "if torch.cuda.is_available():\n",
    "    model.cuda()\n"
   ]
  },
  {
   "cell_type": "code",
   "execution_count": 39,
   "metadata": {
    "colab": {
     "base_uri": "https://localhost:8080/"
    },
    "id": "7Y1hl6-UpHMn",
    "outputId": "a465b67e-316a-4d7c-8d8a-21bbe120d4c8"
   },
   "outputs": [
    {
     "name": "stdout",
     "output_type": "stream",
     "text": [
      "----------------------------------------------------------------\n",
      "        Layer (type)               Output Shape         Param #\n",
      "================================================================\n",
      "            Linear-1               [-1, 1, 500]           4,500\n",
      "              ReLU-2               [-1, 1, 500]               0\n",
      "            Linear-3                 [-1, 1, 1]             501\n",
      "           Sigmoid-4                 [-1, 1, 1]               0\n",
      "================================================================\n",
      "Total params: 5,001\n",
      "Trainable params: 5,001\n",
      "Non-trainable params: 0\n",
      "----------------------------------------------------------------\n",
      "Input size (MB): 0.00\n",
      "Forward/backward pass size (MB): 0.01\n",
      "Params size (MB): 0.02\n",
      "Estimated Total Size (MB): 0.03\n",
      "----------------------------------------------------------------\n"
     ]
    }
   ],
   "source": [
    "summary(model, (1,tensor_x.shape[1]))"
   ]
  },
  {
   "cell_type": "code",
   "execution_count": 40,
   "metadata": {
    "id": "SHls6vlIpHMq"
   },
   "outputs": [],
   "source": [
    "criterion = nn.BCELoss()\n",
    "\n",
    "learning_rate = 0.001\n",
    "optimizer = torch.optim.SGD(model.parameters(), lr=learning_rate)"
   ]
  },
  {
   "cell_type": "code",
   "execution_count": 41,
   "metadata": {
    "colab": {
     "base_uri": "https://localhost:8080/"
    },
    "id": "Dx0LtGE2pHMv",
    "outputId": "3726e501-7333-40d3-9695-001aae85a6d2"
   },
   "outputs": [
    {
     "name": "stdout",
     "output_type": "stream",
     "text": [
      "Epoch: 0. Loss: 0.6833911538124084. Accuracy: 62.0\n",
      "Epoch: 500. Loss: 0.49928319454193115. Accuracy: 76.0\n",
      "Epoch: 1000. Loss: 0.46135762333869934. Accuracy: 81.0\n",
      "Epoch: 1500. Loss: 0.44621777534484863. Accuracy: 81.0\n",
      "Epoch: 2000. Loss: 0.4386325180530548. Accuracy: 81.0\n",
      "Epoch: 2500. Loss: 0.4343768060207367. Accuracy: 81.0\n",
      "Epoch: 3000. Loss: 0.43181461095809937. Accuracy: 81.0\n",
      "Epoch: 3500. Loss: 0.43019551038742065. Accuracy: 81.0\n",
      "Epoch: 4000. Loss: 0.42913737893104553. Accuracy: 81.0\n",
      "Epoch: 4500. Loss: 0.42842888832092285. Accuracy: 81.0\n",
      "Epoch: 5000. Loss: 0.427948534488678. Accuracy: 80.0\n",
      "Epoch: 5500. Loss: 0.42762112617492676. Accuracy: 81.0\n",
      "Epoch: 6000. Loss: 0.4273993670940399. Accuracy: 81.0\n",
      "Epoch: 6500. Loss: 0.4272540211677551. Accuracy: 81.0\n",
      "Epoch: 7000. Loss: 0.42716410756111145. Accuracy: 81.0\n",
      "Epoch: 7500. Loss: 0.42711737751960754. Accuracy: 81.0\n",
      "Epoch: 8000. Loss: 0.4271039068698883. Accuracy: 81.0\n",
      "Epoch: 8500. Loss: 0.42711660265922546. Accuracy: 81.0\n",
      "Epoch: 9000. Loss: 0.42715027928352356. Accuracy: 81.0\n",
      "Epoch: 9500. Loss: 0.42720159888267517. Accuracy: 81.0\n"
     ]
    }
   ],
   "source": [
    "# Train the model\n",
    "\n",
    "LAMBDA = 0.01\n",
    "num_epochs = 10000\n",
    "epoch_loss = []\n",
    "X = tensor_x\n",
    "y = tensor_y\n",
    "X_test = tensor_x2\n",
    "y_test = tensor_y2\n",
    "\n",
    "for epoch in range(num_epochs):\n",
    "        # Forward pass to get output/logits\n",
    "        outputs = model(X)\n",
    "        \n",
    "        # Calculate Loss\n",
    "        loss = criterion(outputs, y)\n",
    "        '''\n",
    "        L1 regularization\n",
    "        '''\n",
    "        l1_regularization = torch.tensor(0).long().to(device)\n",
    "        for param in model.parameters():\n",
    "            l1_regularization += torch.norm(param, 1).long().to(device)\n",
    "            \n",
    "        loss += LAMBDA * l1_regularization \n",
    "        '''\n",
    "        Save loss to draw loss curve\n",
    "        '''\n",
    "        epoch_loss.append(loss)\n",
    "\n",
    "        # Clear gradients w.r.t. parameters\n",
    "        optimizer.zero_grad() \n",
    "             \n",
    "        # Getting gradients w.r.t. parameters\n",
    "        loss.backward()\n",
    "        \n",
    "        # Updating parameters\n",
    "        optimizer.step()\n",
    "    \n",
    "        # Testing the model\n",
    "        if epoch % 500 == 0:\n",
    "            # Forward pass to get output/logits\n",
    "            outputs = model(X_test)\n",
    "            loss_t = criterion(outputs, y_test)\n",
    "            \n",
    "            # Print Loss\n",
    "            print('Epoch: {}. Loss: {}. Accuracy: {}'.format(epoch, loss_t.data, accuracy(outputs, y_test)))\n",
    "            "
   ]
  },
  {
   "cell_type": "code",
   "execution_count": 42,
   "metadata": {
    "colab": {
     "base_uri": "https://localhost:8080/",
     "height": 282
    },
    "id": "Y1PYN4r4pHMx",
    "outputId": "d704055e-756c-4909-8443-0d94644a3cc7"
   },
   "outputs": [
    {
     "data": {
      "text/plain": [
       "[<matplotlib.lines.Line2D at 0x7f32786640b8>]"
      ]
     },
     "execution_count": 42,
     "metadata": {
      "tags": []
     },
     "output_type": "execute_result"
    },
    {
     "data": {
      "image/png": "[encoded data removed]",
      "text/plain": [
       "<Figure size 432x288 with 1 Axes>"
      ]
     },
     "metadata": {
      "needs_background": "light",
      "tags": []
     },
     "output_type": "display_data"
    }
   ],
   "source": [
    "plt.plot(epoch_loss)"
   ]
  },
  {
   "cell_type": "code",
   "execution_count": 43,
   "metadata": {
    "id": "kI7W6y4HpHM0"
   },
   "outputs": [],
   "source": [
    "save_model = True\n",
    "if save_model is True:\n",
    "    torch.save(model.state_dict(), 'diabetes_pytorch_A_l1.pkl')# only save parameters"
   ]
  },
  {
   "cell_type": "markdown",
   "metadata": {
    "id": "PF4X-Mu3pHM3"
   },
   "source": [
    "### Model B: 2 Hidden Layers Feedforward Neural Network"
   ]
  },
  {
   "cell_type": "markdown",
   "metadata": {
    "id": "RYdt2kNdpHM3"
   },
   "source": [
    "### Create model class"
   ]
  },
  {
   "cell_type": "code",
   "execution_count": 44,
   "metadata": {
    "id": "Cn7FRwGBpHM4"
   },
   "outputs": [],
   "source": [
    "class FNN(nn.Module):\n",
    "    def __init__(self, input_dim, hidden_dim1, hidden_dim2, output_dim):\n",
    "        super(FNN, self).__init__()\n",
    "        \n",
    "        self.linear1 = nn.Linear(input_dim, hidden_dim1)\n",
    "        self.relu1 = nn.ReLU()\n",
    "        self.linear2 = nn.Linear(hidden_dim1, hidden_dim2)\n",
    "        self.relu2 = nn.ReLU()\n",
    "        #self.linear3 = nn.Linear(hidden_dim2, hidden_dim3)\n",
    "        #self.relu3 = nn.ReLU()\n",
    "        self.linear4 = nn.Linear(hidden_dim2, output_dim)\n",
    "        self.sigmoid= nn.Sigmoid()\n",
    "\n",
    "    def forward(self, x):\n",
    "        out = self.linear1(x)\n",
    "        out = self.relu1(out)\n",
    "        out = self.linear2(out)\n",
    "        out = self.relu2(out)\n",
    "        #out = self.linear3(out)\n",
    "        #out = self.relu3(out)\n",
    "        out = self.linear4(out)\n",
    "        out = self.sigmoid(out)\n",
    "        return out"
   ]
  },
  {
   "cell_type": "code",
   "execution_count": 45,
   "metadata": {
    "id": "tmyj0uhqpHM6"
   },
   "outputs": [],
   "source": [
    "input_dim = tensor_x.shape[1]\n",
    "output_dim = 1\n",
    "hidden_dim1 = 50\n",
    "hidden_dim2 = 100"
   ]
  },
  {
   "cell_type": "code",
   "execution_count": 46,
   "metadata": {
    "id": "FINnHXj0pHM8"
   },
   "outputs": [],
   "source": [
    "model = FNN(input_dim, hidden_dim1, hidden_dim2, output_dim)\n",
    "\n",
    "#######################\n",
    "#  USE GPU FOR MODEL  #\n",
    "#######################\n",
    "if torch.cuda.is_available():\n",
    "    model.cuda()\n"
   ]
  },
  {
   "cell_type": "code",
   "execution_count": 47,
   "metadata": {
    "colab": {
     "base_uri": "https://localhost:8080/"
    },
    "id": "SYOPxdCypHM_",
    "outputId": "53d9b75e-0907-4889-9bbc-a1ae8681e1c3"
   },
   "outputs": [
    {
     "name": "stdout",
     "output_type": "stream",
     "text": [
      "----------------------------------------------------------------\n",
      "        Layer (type)               Output Shape         Param #\n",
      "================================================================\n",
      "            Linear-1                [-1, 1, 50]             450\n",
      "              ReLU-2                [-1, 1, 50]               0\n",
      "            Linear-3               [-1, 1, 100]           5,100\n",
      "              ReLU-4               [-1, 1, 100]               0\n",
      "            Linear-5                 [-1, 1, 1]             101\n",
      "           Sigmoid-6                 [-1, 1, 1]               0\n",
      "================================================================\n",
      "Total params: 5,651\n",
      "Trainable params: 5,651\n",
      "Non-trainable params: 0\n",
      "----------------------------------------------------------------\n",
      "Input size (MB): 0.00\n",
      "Forward/backward pass size (MB): 0.00\n",
      "Params size (MB): 0.02\n",
      "Estimated Total Size (MB): 0.02\n",
      "----------------------------------------------------------------\n"
     ]
    }
   ],
   "source": [
    "summary(model, (1,tensor_x.shape[1]))"
   ]
  },
  {
   "cell_type": "code",
   "execution_count": 48,
   "metadata": {
    "id": "QAOHc8agpHNB"
   },
   "outputs": [],
   "source": [
    "criterion = nn.BCELoss()\n",
    "\n",
    "learning_rate = 0.001\n",
    "optimizer = torch.optim.SGD(model.parameters(), lr=learning_rate)"
   ]
  },
  {
   "cell_type": "code",
   "execution_count": 49,
   "metadata": {
    "colab": {
     "base_uri": "https://localhost:8080/"
    },
    "id": "xx1tyiBUqY76",
    "outputId": "3e24603a-2cd4-405f-fd64-289bb7c393eb"
   },
   "outputs": [
    {
     "name": "stdout",
     "output_type": "stream",
     "text": [
      "Epoch: 0. Loss: 0.7013036012649536. Accuracy: 37.0\n",
      "Epoch: 500. Loss: 0.6650873422622681. Accuracy: 69.0\n",
      "Epoch: 1000. Loss: 0.6400537490844727. Accuracy: 69.0\n",
      "Epoch: 1500. Loss: 0.6196233034133911. Accuracy: 69.0\n",
      "Epoch: 2000. Loss: 0.6011632084846497. Accuracy: 71.0\n",
      "Epoch: 2500. Loss: 0.5835710167884827. Accuracy: 72.0\n",
      "Epoch: 3000. Loss: 0.5664932131767273. Accuracy: 73.0\n",
      "Epoch: 3500. Loss: 0.5498987436294556. Accuracy: 75.0\n",
      "Epoch: 4000. Loss: 0.5340635180473328. Accuracy: 75.0\n",
      "Epoch: 4500. Loss: 0.51917964220047. Accuracy: 77.0\n",
      "Epoch: 5000. Loss: 0.5054879784584045. Accuracy: 77.0\n",
      "Epoch: 5500. Loss: 0.4931240379810333. Accuracy: 79.0\n",
      "Epoch: 6000. Loss: 0.48216375708580017. Accuracy: 79.0\n",
      "Epoch: 6500. Loss: 0.47265109419822693. Accuracy: 78.0\n",
      "Epoch: 7000. Loss: 0.4644501805305481. Accuracy: 78.0\n",
      "Epoch: 7500. Loss: 0.45742231607437134. Accuracy: 79.0\n",
      "Epoch: 8000. Loss: 0.4514124095439911. Accuracy: 79.0\n",
      "Epoch: 8500. Loss: 0.4462955892086029. Accuracy: 79.0\n",
      "Epoch: 9000. Loss: 0.44196587800979614. Accuracy: 80.0\n",
      "Epoch: 9500. Loss: 0.43830424547195435. Accuracy: 81.0\n"
     ]
    }
   ],
   "source": [
    "# Train the model\n",
    "\n",
    "LAMBDA = 0.001\n",
    "num_epochs = 10000\n",
    "epoch_loss = []\n",
    "X = tensor_x\n",
    "y = tensor_y\n",
    "X_test = tensor_x2\n",
    "y_test = tensor_y2\n",
    "\n",
    "for epoch in range(num_epochs):\n",
    "        # Forward pass to get output/logits\n",
    "        outputs = model(X)\n",
    "        \n",
    "        # Calculate Loss\n",
    "        loss = criterion(outputs, y)\n",
    "        '''\n",
    "        L1 regularization\n",
    "        '''\n",
    "        l1_regularization = torch.tensor(0).long().to(device)\n",
    "        for param in model.parameters():\n",
    "            l1_regularization += torch.norm(param, 1).long().to(device)\n",
    "            \n",
    "        loss += LAMBDA * l1_regularization \n",
    "        '''\n",
    "        Save loss to draw loss curve\n",
    "        '''\n",
    "        epoch_loss.append(loss)\n",
    "\n",
    "        # Clear gradients w.r.t. parameters\n",
    "        optimizer.zero_grad() \n",
    "             \n",
    "        # Getting gradients w.r.t. parameters\n",
    "        loss.backward()\n",
    "        \n",
    "        # Updating parameters\n",
    "        optimizer.step()\n",
    "    \n",
    "        # Testing the model\n",
    "        if epoch % 500 == 0:\n",
    "            # Forward pass to get output/logits\n",
    "            outputs = model(X_test)\n",
    "            loss_t = criterion(outputs, y_test)\n",
    "            \n",
    "            # Print Loss\n",
    "            print('Epoch: {}. Loss: {}. Accuracy: {}'.format(epoch, loss_t.data, accuracy(outputs, y_test)))\n",
    "            "
   ]
  },
  {
   "cell_type": "code",
   "execution_count": 50,
   "metadata": {
    "colab": {
     "base_uri": "https://localhost:8080/",
     "height": 285
    },
    "id": "RalI4rK3pHNJ",
    "outputId": "659169c1-6c8b-40b2-abfc-0921a60e7a47"
   },
   "outputs": [
    {
     "data": {
      "text/plain": [
       "[<matplotlib.lines.Line2D at 0x7f32790d6c88>]"
      ]
     },
     "execution_count": 50,
     "metadata": {
      "tags": []
     },
     "output_type": "execute_result"
    },
    {
     "data": {
      "image/png": "[encoded data removed]",
      "text/plain": [
       "<Figure size 432x288 with 1 Axes>"
      ]
     },
     "metadata": {
      "needs_background": "light",
      "tags": []
     },
     "output_type": "display_data"
    }
   ],
   "source": [
    "plt.plot(epoch_loss)"
   ]
  },
  {
   "cell_type": "code",
   "execution_count": 51,
   "metadata": {
    "id": "JsT0H6IdpHNL"
   },
   "outputs": [],
   "source": [
    "save_model = True\n",
    "if save_model is True:\n",
    "    torch.save(model.state_dict(), 'diabetes_pytorch_B_l1.pkl')# only save parameters"
   ]
  }
 ],
 "metadata": {
  "accelerator": "GPU",
  "colab": {
   "collapsed_sections": [],
   "name": "Pima_Indians_Diabetes_FNN_with_PyTorch (1).ipynb",
   "provenance": []
  },
  "kernelspec": {
   "display_name": "Python 3",
   "language": "python",
   "name": "python3"
  },
  "language_info": {
   "codemirror_mode": {
    "name": "ipython",
    "version": 3
   },
   "file_extension": ".py",
   "mimetype": "text/x-python",
   "name": "python",
   "nbconvert_exporter": "python",
   "pygments_lexer": "ipython3",
   "version": "3.8.5"
  }
 },
 "nbformat": 4,
 "nbformat_minor": 4
}
