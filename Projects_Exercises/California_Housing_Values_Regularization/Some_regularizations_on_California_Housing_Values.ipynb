{
 "cells": [
  {
   "cell_type": "markdown",
   "metadata": {
    "id": "rtA6oRSDt21Q"
   },
   "source": [
    "# Some regularizations on [California Housing Values](https://github.com/ageron/handson-ml/tree/master/datasets/housing) dataset\n",
    "By [Zahra Taheri](https://github.com/zahta), November 5, 2020"
   ]
  },
  {
   "cell_type": "markdown",
   "metadata": {
    "id": "s8QdNBrpKrFt"
   },
   "source": [
    "### Import libraries"
   ]
  },
  {
   "cell_type": "code",
   "execution_count": 1,
   "metadata": {
    "id": "B42Jsp5iKrFu"
   },
   "outputs": [],
   "source": [
    "#For some basic operations\n",
    "import numpy as np\n",
    "import pandas as pd\n",
    "import torch\n",
    "import torch.nn as nn\n",
    "\n",
    "#For visualizations\n",
    "import matplotlib as mpl\n",
    "import matplotlib.pyplot as plt\n",
    "\n",
    "# to make this notebook's output identical at every run\n",
    "#np.random.seed(42)\n",
    "\n",
    "import warnings\n",
    "warnings.filterwarnings('ignore')"
   ]
  },
  {
   "cell_type": "markdown",
   "metadata": {
    "id": "qnXp31fQKrFx"
   },
   "source": [
    "## Reading the dataset"
   ]
  },
  {
   "cell_type": "code",
   "execution_count": 2,
   "metadata": {
    "colab": {
     "base_uri": "https://localhost:8080/"
    },
    "id": "UStR-s6iKrFx",
    "outputId": "66f31e0d-22bc-4e7e-f78c-9cc252f8f64c"
   },
   "outputs": [
    {
     "data": {
      "text/plain": [
       "(20640, 10)"
      ]
     },
     "execution_count": 2,
     "metadata": {
      "tags": []
     },
     "output_type": "execute_result"
    }
   ],
   "source": [
    "data=pd.read_csv('housing.csv')\n",
    "data.shape"
   ]
  },
  {
   "cell_type": "code",
   "execution_count": 3,
   "metadata": {
    "colab": {
     "base_uri": "https://localhost:8080/",
     "height": 224
    },
    "id": "5WwyH0RuKrF0",
    "outputId": "67232796-a0a3-4cff-efe1-ea22459ce7aa"
   },
   "outputs": [
    {
     "data": {
      "text/html": [
       "<div>\n",
       "<style scoped>\n",
       "    .dataframe tbody tr th:only-of-type {\n",
       "        vertical-align: middle;\n",
       "    }\n",
       "\n",
       "    .dataframe tbody tr th {\n",
       "        vertical-align: top;\n",
       "    }\n",
       "\n",
       "    .dataframe thead th {\n",
       "        text-align: right;\n",
       "    }\n",
       "</style>\n",
       "<table border=\"1\" class=\"dataframe\">\n",
       "  <thead>\n",
       "    <tr style=\"text-align: right;\">\n",
       "      <th></th>\n",
       "      <th>longitude</th>\n",
       "      <th>latitude</th>\n",
       "      <th>housing_median_age</th>\n",
       "      <th>total_rooms</th>\n",
       "      <th>total_bedrooms</th>\n",
       "      <th>population</th>\n",
       "      <th>households</th>\n",
       "      <th>median_income</th>\n",
       "      <th>median_house_value</th>\n",
       "      <th>ocean_proximity</th>\n",
       "    </tr>\n",
       "  </thead>\n",
       "  <tbody>\n",
       "    <tr>\n",
       "      <th>0</th>\n",
       "      <td>-122.23</td>\n",
       "      <td>37.88</td>\n",
       "      <td>41.0</td>\n",
       "      <td>880.0</td>\n",
       "      <td>129.0</td>\n",
       "      <td>322.0</td>\n",
       "      <td>126.0</td>\n",
       "      <td>8.3252</td>\n",
       "      <td>452600.0</td>\n",
       "      <td>NEAR BAY</td>\n",
       "    </tr>\n",
       "    <tr>\n",
       "      <th>1</th>\n",
       "      <td>-122.22</td>\n",
       "      <td>37.86</td>\n",
       "      <td>21.0</td>\n",
       "      <td>7099.0</td>\n",
       "      <td>1106.0</td>\n",
       "      <td>2401.0</td>\n",
       "      <td>1138.0</td>\n",
       "      <td>8.3014</td>\n",
       "      <td>358500.0</td>\n",
       "      <td>NEAR BAY</td>\n",
       "    </tr>\n",
       "    <tr>\n",
       "      <th>2</th>\n",
       "      <td>-122.24</td>\n",
       "      <td>37.85</td>\n",
       "      <td>52.0</td>\n",
       "      <td>1467.0</td>\n",
       "      <td>190.0</td>\n",
       "      <td>496.0</td>\n",
       "      <td>177.0</td>\n",
       "      <td>7.2574</td>\n",
       "      <td>352100.0</td>\n",
       "      <td>NEAR BAY</td>\n",
       "    </tr>\n",
       "    <tr>\n",
       "      <th>3</th>\n",
       "      <td>-122.25</td>\n",
       "      <td>37.85</td>\n",
       "      <td>52.0</td>\n",
       "      <td>1274.0</td>\n",
       "      <td>235.0</td>\n",
       "      <td>558.0</td>\n",
       "      <td>219.0</td>\n",
       "      <td>5.6431</td>\n",
       "      <td>341300.0</td>\n",
       "      <td>NEAR BAY</td>\n",
       "    </tr>\n",
       "    <tr>\n",
       "      <th>4</th>\n",
       "      <td>-122.25</td>\n",
       "      <td>37.85</td>\n",
       "      <td>52.0</td>\n",
       "      <td>1627.0</td>\n",
       "      <td>280.0</td>\n",
       "      <td>565.0</td>\n",
       "      <td>259.0</td>\n",
       "      <td>3.8462</td>\n",
       "      <td>342200.0</td>\n",
       "      <td>NEAR BAY</td>\n",
       "    </tr>\n",
       "  </tbody>\n",
       "</table>\n",
       "</div>"
      ],
      "text/plain": [
       "   longitude  latitude  ...  median_house_value  ocean_proximity\n",
       "0    -122.23     37.88  ...            452600.0         NEAR BAY\n",
       "1    -122.22     37.86  ...            358500.0         NEAR BAY\n",
       "2    -122.24     37.85  ...            352100.0         NEAR BAY\n",
       "3    -122.25     37.85  ...            341300.0         NEAR BAY\n",
       "4    -122.25     37.85  ...            342200.0         NEAR BAY\n",
       "\n",
       "[5 rows x 10 columns]"
      ]
     },
     "execution_count": 3,
     "metadata": {
      "tags": []
     },
     "output_type": "execute_result"
    }
   ],
   "source": [
    "data.head()"
   ]
  },
  {
   "cell_type": "code",
   "execution_count": 4,
   "metadata": {
    "colab": {
     "base_uri": "https://localhost:8080/"
    },
    "id": "oG5oYVh-KrF2",
    "outputId": "e6238e1b-427a-4929-f048-cdd3f7e8e0a0"
   },
   "outputs": [
    {
     "name": "stdout",
     "output_type": "stream",
     "text": [
      "<class 'pandas.core.frame.DataFrame'>\n",
      "RangeIndex: 20640 entries, 0 to 20639\n",
      "Data columns (total 10 columns):\n",
      " #   Column              Non-Null Count  Dtype  \n",
      "---  ------              --------------  -----  \n",
      " 0   longitude           20640 non-null  float64\n",
      " 1   latitude            20640 non-null  float64\n",
      " 2   housing_median_age  20640 non-null  float64\n",
      " 3   total_rooms         20640 non-null  float64\n",
      " 4   total_bedrooms      20433 non-null  float64\n",
      " 5   population          20640 non-null  float64\n",
      " 6   households          20640 non-null  float64\n",
      " 7   median_income       20640 non-null  float64\n",
      " 8   median_house_value  20640 non-null  float64\n",
      " 9   ocean_proximity     20640 non-null  object \n",
      "dtypes: float64(9), object(1)\n",
      "memory usage: 1.6+ MB\n"
     ]
    }
   ],
   "source": [
    "data.info()"
   ]
  },
  {
   "cell_type": "markdown",
   "metadata": {
    "id": "VFklGZkpKrF5"
   },
   "source": [
    "## Descriptive statistics and data visualizations"
   ]
  },
  {
   "cell_type": "code",
   "execution_count": 5,
   "metadata": {
    "colab": {
     "base_uri": "https://localhost:8080/",
     "height": 317
    },
    "id": "lr6_OWSSKrF5",
    "outputId": "59ce9e2f-c847-47c0-8c2d-101fc4b24040"
   },
   "outputs": [
    {
     "data": {
      "text/html": [
       "<div>\n",
       "<style scoped>\n",
       "    .dataframe tbody tr th:only-of-type {\n",
       "        vertical-align: middle;\n",
       "    }\n",
       "\n",
       "    .dataframe tbody tr th {\n",
       "        vertical-align: top;\n",
       "    }\n",
       "\n",
       "    .dataframe thead th {\n",
       "        text-align: right;\n",
       "    }\n",
       "</style>\n",
       "<table border=\"1\" class=\"dataframe\">\n",
       "  <thead>\n",
       "    <tr style=\"text-align: right;\">\n",
       "      <th></th>\n",
       "      <th>longitude</th>\n",
       "      <th>latitude</th>\n",
       "      <th>housing_median_age</th>\n",
       "      <th>total_rooms</th>\n",
       "      <th>total_bedrooms</th>\n",
       "      <th>population</th>\n",
       "      <th>households</th>\n",
       "      <th>median_income</th>\n",
       "      <th>median_house_value</th>\n",
       "    </tr>\n",
       "  </thead>\n",
       "  <tbody>\n",
       "    <tr>\n",
       "      <th>count</th>\n",
       "      <td>20640.000000</td>\n",
       "      <td>20640.000000</td>\n",
       "      <td>20640.000000</td>\n",
       "      <td>20640.000000</td>\n",
       "      <td>20433.000000</td>\n",
       "      <td>20640.000000</td>\n",
       "      <td>20640.000000</td>\n",
       "      <td>20640.000000</td>\n",
       "      <td>20640.000000</td>\n",
       "    </tr>\n",
       "    <tr>\n",
       "      <th>mean</th>\n",
       "      <td>-119.569704</td>\n",
       "      <td>35.631861</td>\n",
       "      <td>28.639486</td>\n",
       "      <td>2635.763081</td>\n",
       "      <td>537.870553</td>\n",
       "      <td>1425.476744</td>\n",
       "      <td>499.539680</td>\n",
       "      <td>3.870671</td>\n",
       "      <td>206855.816909</td>\n",
       "    </tr>\n",
       "    <tr>\n",
       "      <th>std</th>\n",
       "      <td>2.003532</td>\n",
       "      <td>2.135952</td>\n",
       "      <td>12.585558</td>\n",
       "      <td>2181.615252</td>\n",
       "      <td>421.385070</td>\n",
       "      <td>1132.462122</td>\n",
       "      <td>382.329753</td>\n",
       "      <td>1.899822</td>\n",
       "      <td>115395.615874</td>\n",
       "    </tr>\n",
       "    <tr>\n",
       "      <th>min</th>\n",
       "      <td>-124.350000</td>\n",
       "      <td>32.540000</td>\n",
       "      <td>1.000000</td>\n",
       "      <td>2.000000</td>\n",
       "      <td>1.000000</td>\n",
       "      <td>3.000000</td>\n",
       "      <td>1.000000</td>\n",
       "      <td>0.499900</td>\n",
       "      <td>14999.000000</td>\n",
       "    </tr>\n",
       "    <tr>\n",
       "      <th>25%</th>\n",
       "      <td>-121.800000</td>\n",
       "      <td>33.930000</td>\n",
       "      <td>18.000000</td>\n",
       "      <td>1447.750000</td>\n",
       "      <td>296.000000</td>\n",
       "      <td>787.000000</td>\n",
       "      <td>280.000000</td>\n",
       "      <td>2.563400</td>\n",
       "      <td>119600.000000</td>\n",
       "    </tr>\n",
       "    <tr>\n",
       "      <th>50%</th>\n",
       "      <td>-118.490000</td>\n",
       "      <td>34.260000</td>\n",
       "      <td>29.000000</td>\n",
       "      <td>2127.000000</td>\n",
       "      <td>435.000000</td>\n",
       "      <td>1166.000000</td>\n",
       "      <td>409.000000</td>\n",
       "      <td>3.534800</td>\n",
       "      <td>179700.000000</td>\n",
       "    </tr>\n",
       "    <tr>\n",
       "      <th>75%</th>\n",
       "      <td>-118.010000</td>\n",
       "      <td>37.710000</td>\n",
       "      <td>37.000000</td>\n",
       "      <td>3148.000000</td>\n",
       "      <td>647.000000</td>\n",
       "      <td>1725.000000</td>\n",
       "      <td>605.000000</td>\n",
       "      <td>4.743250</td>\n",
       "      <td>264725.000000</td>\n",
       "    </tr>\n",
       "    <tr>\n",
       "      <th>max</th>\n",
       "      <td>-114.310000</td>\n",
       "      <td>41.950000</td>\n",
       "      <td>52.000000</td>\n",
       "      <td>39320.000000</td>\n",
       "      <td>6445.000000</td>\n",
       "      <td>35682.000000</td>\n",
       "      <td>6082.000000</td>\n",
       "      <td>15.000100</td>\n",
       "      <td>500001.000000</td>\n",
       "    </tr>\n",
       "  </tbody>\n",
       "</table>\n",
       "</div>"
      ],
      "text/plain": [
       "          longitude      latitude  ...  median_income  median_house_value\n",
       "count  20640.000000  20640.000000  ...   20640.000000        20640.000000\n",
       "mean    -119.569704     35.631861  ...       3.870671       206855.816909\n",
       "std        2.003532      2.135952  ...       1.899822       115395.615874\n",
       "min     -124.350000     32.540000  ...       0.499900        14999.000000\n",
       "25%     -121.800000     33.930000  ...       2.563400       119600.000000\n",
       "50%     -118.490000     34.260000  ...       3.534800       179700.000000\n",
       "75%     -118.010000     37.710000  ...       4.743250       264725.000000\n",
       "max     -114.310000     41.950000  ...      15.000100       500001.000000\n",
       "\n",
       "[8 rows x 9 columns]"
      ]
     },
     "execution_count": 5,
     "metadata": {
      "tags": []
     },
     "output_type": "execute_result"
    }
   ],
   "source": [
    "#Describe the dataset\n",
    "\n",
    "data.describe()"
   ]
  },
  {
   "cell_type": "code",
   "execution_count": 6,
   "metadata": {
    "colab": {
     "base_uri": "https://localhost:8080/"
    },
    "id": "EJsnoJDjKrF8",
    "outputId": "75bf6479-29cc-44c4-b196-59b850814385"
   },
   "outputs": [
    {
     "data": {
      "text/plain": [
       "ocean_proximity    5\n",
       "dtype: int64"
      ]
     },
     "execution_count": 6,
     "metadata": {
      "tags": []
     },
     "output_type": "execute_result"
    }
   ],
   "source": [
    "#Check the no. of unique items in each categorical column\n",
    "\n",
    "data.select_dtypes('object').nunique()"
   ]
  },
  {
   "cell_type": "code",
   "execution_count": 7,
   "metadata": {
    "colab": {
     "base_uri": "https://localhost:8080/"
    },
    "id": "Ge5rb6BOKrF_",
    "outputId": "b71c3c3d-c0c3-4df9-ad89-12d16ec77441"
   },
   "outputs": [
    {
     "name": "stdout",
     "output_type": "stream",
     "text": [
      "longitude             0.000000\n",
      "latitude              0.000000\n",
      "housing_median_age    0.000000\n",
      "total_rooms           0.000000\n",
      "total_bedrooms        0.010029\n",
      "population            0.000000\n",
      "households            0.000000\n",
      "median_income         0.000000\n",
      "median_house_value    0.000000\n",
      "ocean_proximity       0.000000\n",
      "dtype: float64\n"
     ]
    }
   ],
   "source": [
    "# Percentage of missing data in each column\n",
    "\n",
    "number_of_columns = data.shape[0]\n",
    "percentage_of_missing_data = data.isnull().sum()/number_of_columns\n",
    "print(percentage_of_missing_data)"
   ]
  },
  {
   "cell_type": "code",
   "execution_count": 8,
   "metadata": {
    "colab": {
     "base_uri": "https://localhost:8080/",
     "height": 714
    },
    "id": "FM59-QiAKrGC",
    "outputId": "5c1225f3-81ae-47e7-ca82-24afc84e1281"
   },
   "outputs": [
    {
     "data": {
      "image/png": "[encoded data removed]",
      "text/plain": [
       "<Figure size 1440x1080 with 9 Axes>"
      ]
     },
     "metadata": {
      "needs_background": "light",
      "tags": []
     },
     "output_type": "display_data"
    }
   ],
   "source": [
    "data.hist(bins=100, figsize=(20,15))\n",
    "\n",
    "plt.show()"
   ]
  },
  {
   "cell_type": "code",
   "execution_count": 9,
   "metadata": {
    "colab": {
     "base_uri": "https://localhost:8080/",
     "height": 530
    },
    "id": "1a0K8l4KKrGE",
    "outputId": "ea8a4a70-4e8c-4e59-ce06-57ddeaf1d73a"
   },
   "outputs": [
    {
     "data": {
      "text/plain": [
       "<matplotlib.legend.Legend at 0x7f48ec00cc88>"
      ]
     },
     "execution_count": 9,
     "metadata": {
      "tags": []
     },
     "output_type": "execute_result"
    },
    {
     "data": {
      "image/png": "[encoded data removed]",
      "text/plain": [
       "<Figure size 720x576 with 2 Axes>"
      ]
     },
     "metadata": {
      "needs_background": "light",
      "tags": []
     },
     "output_type": "display_data"
    }
   ],
   "source": [
    "data.plot(kind=\"scatter\", x=\"longitude\", y=\"latitude\", alpha=0.4,\n",
    "    s=data[\"population\"]/100, label=\"population\", figsize=(10,8),\n",
    "    c=\"median_house_value\", cmap=plt.get_cmap(\"jet\"), colorbar=True,\n",
    "    sharex=False)\n",
    "plt.title('Red is expensive, blue is cheap, larger circles indicate areas with a larger population',\\\n",
    "          fontweight = 20, fontsize = 13)\n",
    "plt.legend()"
   ]
  },
  {
   "cell_type": "code",
   "execution_count": 10,
   "metadata": {
    "colab": {
     "base_uri": "https://localhost:8080/"
    },
    "id": "Qu5-LhzVKrGH",
    "outputId": "2fc29099-0cf2-4226-df9f-96d90131ba93"
   },
   "outputs": [
    {
     "data": {
      "text/plain": [
       "median_house_value    1.000000\n",
       "median_income         0.688075\n",
       "total_rooms           0.134153\n",
       "housing_median_age    0.105623\n",
       "households            0.065843\n",
       "total_bedrooms        0.049686\n",
       "population           -0.024650\n",
       "longitude            -0.045967\n",
       "latitude             -0.144160\n",
       "Name: median_house_value, dtype: float64"
      ]
     },
     "execution_count": 10,
     "metadata": {
      "tags": []
     },
     "output_type": "execute_result"
    }
   ],
   "source": [
    "corr_matrix = data.corr()\n",
    "corr_matrix[\"median_house_value\"].sort_values(ascending=False)"
   ]
  },
  {
   "cell_type": "markdown",
   "metadata": {
    "id": "XGWXaq-eKrGP"
   },
   "source": [
    "## Data Cleaning and Preparation"
   ]
  },
  {
   "cell_type": "code",
   "execution_count": 11,
   "metadata": {
    "id": "azFFYLs8KrGP"
   },
   "outputs": [],
   "source": [
    "#Fill in missing values with median\n",
    "\n",
    "from sklearn.impute import SimpleImputer\n",
    "imputer = SimpleImputer(strategy=\"median\")"
   ]
  },
  {
   "cell_type": "code",
   "execution_count": 12,
   "metadata": {
    "id": "tUbDUmiKqgnu"
   },
   "outputs": [],
   "source": [
    "#Remove the text attribute because median can only be calculated on numerical attributes:\n",
    "data_num=data.drop(\"ocean_proximity\", axis=1)"
   ]
  },
  {
   "cell_type": "code",
   "execution_count": 13,
   "metadata": {
    "colab": {
     "base_uri": "https://localhost:8080/"
    },
    "id": "EbX2GWq_KrGV",
    "outputId": "fc940b7e-7840-411d-c859-25d62a6f882e"
   },
   "outputs": [
    {
     "data": {
      "text/plain": [
       "array([-1.1849e+02,  3.4260e+01,  2.9000e+01,  2.1270e+03,  4.3500e+02,\n",
       "        1.1660e+03,  4.0900e+02,  3.5348e+00,  1.7970e+05])"
      ]
     },
     "execution_count": 13,
     "metadata": {
      "tags": []
     },
     "output_type": "execute_result"
    }
   ],
   "source": [
    "imputer.fit(data_num)\n",
    "imputer.statistics_"
   ]
  },
  {
   "cell_type": "code",
   "execution_count": 14,
   "metadata": {
    "colab": {
     "base_uri": "https://localhost:8080/",
     "height": 224
    },
    "id": "eI4_FUwGKrGX",
    "outputId": "ca2ed634-9a91-4457-f721-87ad820d2dc6"
   },
   "outputs": [
    {
     "data": {
      "text/html": [
       "<div>\n",
       "<style scoped>\n",
       "    .dataframe tbody tr th:only-of-type {\n",
       "        vertical-align: middle;\n",
       "    }\n",
       "\n",
       "    .dataframe tbody tr th {\n",
       "        vertical-align: top;\n",
       "    }\n",
       "\n",
       "    .dataframe thead th {\n",
       "        text-align: right;\n",
       "    }\n",
       "</style>\n",
       "<table border=\"1\" class=\"dataframe\">\n",
       "  <thead>\n",
       "    <tr style=\"text-align: right;\">\n",
       "      <th></th>\n",
       "      <th>longitude</th>\n",
       "      <th>latitude</th>\n",
       "      <th>housing_median_age</th>\n",
       "      <th>total_rooms</th>\n",
       "      <th>total_bedrooms</th>\n",
       "      <th>population</th>\n",
       "      <th>households</th>\n",
       "      <th>median_income</th>\n",
       "      <th>median_house_value</th>\n",
       "    </tr>\n",
       "  </thead>\n",
       "  <tbody>\n",
       "    <tr>\n",
       "      <th>0</th>\n",
       "      <td>-122.23</td>\n",
       "      <td>37.88</td>\n",
       "      <td>41.0</td>\n",
       "      <td>880.0</td>\n",
       "      <td>129.0</td>\n",
       "      <td>322.0</td>\n",
       "      <td>126.0</td>\n",
       "      <td>8.3252</td>\n",
       "      <td>452600.0</td>\n",
       "    </tr>\n",
       "    <tr>\n",
       "      <th>1</th>\n",
       "      <td>-122.22</td>\n",
       "      <td>37.86</td>\n",
       "      <td>21.0</td>\n",
       "      <td>7099.0</td>\n",
       "      <td>1106.0</td>\n",
       "      <td>2401.0</td>\n",
       "      <td>1138.0</td>\n",
       "      <td>8.3014</td>\n",
       "      <td>358500.0</td>\n",
       "    </tr>\n",
       "    <tr>\n",
       "      <th>2</th>\n",
       "      <td>-122.24</td>\n",
       "      <td>37.85</td>\n",
       "      <td>52.0</td>\n",
       "      <td>1467.0</td>\n",
       "      <td>190.0</td>\n",
       "      <td>496.0</td>\n",
       "      <td>177.0</td>\n",
       "      <td>7.2574</td>\n",
       "      <td>352100.0</td>\n",
       "    </tr>\n",
       "    <tr>\n",
       "      <th>3</th>\n",
       "      <td>-122.25</td>\n",
       "      <td>37.85</td>\n",
       "      <td>52.0</td>\n",
       "      <td>1274.0</td>\n",
       "      <td>235.0</td>\n",
       "      <td>558.0</td>\n",
       "      <td>219.0</td>\n",
       "      <td>5.6431</td>\n",
       "      <td>341300.0</td>\n",
       "    </tr>\n",
       "    <tr>\n",
       "      <th>4</th>\n",
       "      <td>-122.25</td>\n",
       "      <td>37.85</td>\n",
       "      <td>52.0</td>\n",
       "      <td>1627.0</td>\n",
       "      <td>280.0</td>\n",
       "      <td>565.0</td>\n",
       "      <td>259.0</td>\n",
       "      <td>3.8462</td>\n",
       "      <td>342200.0</td>\n",
       "    </tr>\n",
       "  </tbody>\n",
       "</table>\n",
       "</div>"
      ],
      "text/plain": [
       "   longitude  latitude  ...  median_income  median_house_value\n",
       "0    -122.23     37.88  ...         8.3252            452600.0\n",
       "1    -122.22     37.86  ...         8.3014            358500.0\n",
       "2    -122.24     37.85  ...         7.2574            352100.0\n",
       "3    -122.25     37.85  ...         5.6431            341300.0\n",
       "4    -122.25     37.85  ...         3.8462            342200.0\n",
       "\n",
       "[5 rows x 9 columns]"
      ]
     },
     "execution_count": 14,
     "metadata": {
      "tags": []
     },
     "output_type": "execute_result"
    }
   ],
   "source": [
    "X = imputer.transform(data_num)\n",
    "data_num_clean = pd.DataFrame(X, columns=data_num.columns,index=data_num.index)\n",
    "data_num_clean.head()"
   ]
  },
  {
   "cell_type": "code",
   "execution_count": 15,
   "metadata": {
    "id": "spvY-7i_KrGZ"
   },
   "outputs": [],
   "source": [
    "data_num_clean[\"rooms_per_household\"] = data_num_clean[\"total_rooms\"]/data_num_clean[\"households\"]\n",
    "data_num_clean[\"bedrooms_per_room\"] = data_num_clean[\"total_bedrooms\"]/data_num_clean[\"total_rooms\"]\n",
    "data_num_clean[\"population_per_household\"]=data_num_clean[\"population\"]/data_num_clean[\"households\"]"
   ]
  },
  {
   "cell_type": "code",
   "execution_count": 16,
   "metadata": {
    "id": "ub9D7dkQqgop"
   },
   "outputs": [],
   "source": [
    "#Preprocess the categorical input feature, `ocean_proximity`:\n",
    "data_cat = data[[\"ocean_proximity\"]]"
   ]
  },
  {
   "cell_type": "code",
   "execution_count": 17,
   "metadata": {
    "id": "l2nvjJU3qgot"
   },
   "outputs": [],
   "source": [
    "from sklearn.preprocessing import OrdinalEncoder\n",
    "\n",
    "ordinal_encoder = OrdinalEncoder()\n",
    "data_cat_encoded = ordinal_encoder.fit_transform(data_cat)"
   ]
  },
  {
   "cell_type": "code",
   "execution_count": 18,
   "metadata": {
    "colab": {
     "base_uri": "https://localhost:8080/",
     "height": 224
    },
    "id": "k_arcn0BKrGk",
    "outputId": "ab4aacc8-e1b3-4f4d-ebf0-e081a227d7e5"
   },
   "outputs": [
    {
     "data": {
      "text/html": [
       "<div>\n",
       "<style scoped>\n",
       "    .dataframe tbody tr th:only-of-type {\n",
       "        vertical-align: middle;\n",
       "    }\n",
       "\n",
       "    .dataframe tbody tr th {\n",
       "        vertical-align: top;\n",
       "    }\n",
       "\n",
       "    .dataframe thead th {\n",
       "        text-align: right;\n",
       "    }\n",
       "</style>\n",
       "<table border=\"1\" class=\"dataframe\">\n",
       "  <thead>\n",
       "    <tr style=\"text-align: right;\">\n",
       "      <th></th>\n",
       "      <th>longitude</th>\n",
       "      <th>latitude</th>\n",
       "      <th>housing_median_age</th>\n",
       "      <th>total_rooms</th>\n",
       "      <th>total_bedrooms</th>\n",
       "      <th>population</th>\n",
       "      <th>households</th>\n",
       "      <th>median_income</th>\n",
       "      <th>median_house_value</th>\n",
       "      <th>rooms_per_household</th>\n",
       "      <th>bedrooms_per_room</th>\n",
       "      <th>population_per_household</th>\n",
       "      <th>ocean_proximity</th>\n",
       "    </tr>\n",
       "  </thead>\n",
       "  <tbody>\n",
       "    <tr>\n",
       "      <th>0</th>\n",
       "      <td>-122.23</td>\n",
       "      <td>37.88</td>\n",
       "      <td>41.0</td>\n",
       "      <td>880.0</td>\n",
       "      <td>129.0</td>\n",
       "      <td>322.0</td>\n",
       "      <td>126.0</td>\n",
       "      <td>8.3252</td>\n",
       "      <td>452600.0</td>\n",
       "      <td>6.984127</td>\n",
       "      <td>0.146591</td>\n",
       "      <td>2.555556</td>\n",
       "      <td>3.0</td>\n",
       "    </tr>\n",
       "    <tr>\n",
       "      <th>1</th>\n",
       "      <td>-122.22</td>\n",
       "      <td>37.86</td>\n",
       "      <td>21.0</td>\n",
       "      <td>7099.0</td>\n",
       "      <td>1106.0</td>\n",
       "      <td>2401.0</td>\n",
       "      <td>1138.0</td>\n",
       "      <td>8.3014</td>\n",
       "      <td>358500.0</td>\n",
       "      <td>6.238137</td>\n",
       "      <td>0.155797</td>\n",
       "      <td>2.109842</td>\n",
       "      <td>3.0</td>\n",
       "    </tr>\n",
       "    <tr>\n",
       "      <th>2</th>\n",
       "      <td>-122.24</td>\n",
       "      <td>37.85</td>\n",
       "      <td>52.0</td>\n",
       "      <td>1467.0</td>\n",
       "      <td>190.0</td>\n",
       "      <td>496.0</td>\n",
       "      <td>177.0</td>\n",
       "      <td>7.2574</td>\n",
       "      <td>352100.0</td>\n",
       "      <td>8.288136</td>\n",
       "      <td>0.129516</td>\n",
       "      <td>2.802260</td>\n",
       "      <td>3.0</td>\n",
       "    </tr>\n",
       "    <tr>\n",
       "      <th>3</th>\n",
       "      <td>-122.25</td>\n",
       "      <td>37.85</td>\n",
       "      <td>52.0</td>\n",
       "      <td>1274.0</td>\n",
       "      <td>235.0</td>\n",
       "      <td>558.0</td>\n",
       "      <td>219.0</td>\n",
       "      <td>5.6431</td>\n",
       "      <td>341300.0</td>\n",
       "      <td>5.817352</td>\n",
       "      <td>0.184458</td>\n",
       "      <td>2.547945</td>\n",
       "      <td>3.0</td>\n",
       "    </tr>\n",
       "    <tr>\n",
       "      <th>4</th>\n",
       "      <td>-122.25</td>\n",
       "      <td>37.85</td>\n",
       "      <td>52.0</td>\n",
       "      <td>1627.0</td>\n",
       "      <td>280.0</td>\n",
       "      <td>565.0</td>\n",
       "      <td>259.0</td>\n",
       "      <td>3.8462</td>\n",
       "      <td>342200.0</td>\n",
       "      <td>6.281853</td>\n",
       "      <td>0.172096</td>\n",
       "      <td>2.181467</td>\n",
       "      <td>3.0</td>\n",
       "    </tr>\n",
       "  </tbody>\n",
       "</table>\n",
       "</div>"
      ],
      "text/plain": [
       "   longitude  latitude  ...  population_per_household  ocean_proximity\n",
       "0    -122.23     37.88  ...                  2.555556              3.0\n",
       "1    -122.22     37.86  ...                  2.109842              3.0\n",
       "2    -122.24     37.85  ...                  2.802260              3.0\n",
       "3    -122.25     37.85  ...                  2.547945              3.0\n",
       "4    -122.25     37.85  ...                  2.181467              3.0\n",
       "\n",
       "[5 rows x 13 columns]"
      ]
     },
     "execution_count": 18,
     "metadata": {
      "tags": []
     },
     "output_type": "execute_result"
    }
   ],
   "source": [
    "data_num_clean[\"ocean_proximity\"]=data_cat_encoded\n",
    "data_clean=data_num_clean\n",
    "data_clean.head()"
   ]
  },
  {
   "cell_type": "code",
   "execution_count": 19,
   "metadata": {
    "colab": {
     "base_uri": "https://localhost:8080/",
     "height": 439
    },
    "id": "VgeaJU4MKrGn",
    "outputId": "554ab486-0fbc-412d-eeb1-e9390a640099"
   },
   "outputs": [
    {
     "data": {
      "text/html": [
       "<div>\n",
       "<style scoped>\n",
       "    .dataframe tbody tr th:only-of-type {\n",
       "        vertical-align: middle;\n",
       "    }\n",
       "\n",
       "    .dataframe tbody tr th {\n",
       "        vertical-align: top;\n",
       "    }\n",
       "\n",
       "    .dataframe thead th {\n",
       "        text-align: right;\n",
       "    }\n",
       "</style>\n",
       "<table border=\"1\" class=\"dataframe\">\n",
       "  <thead>\n",
       "    <tr style=\"text-align: right;\">\n",
       "      <th></th>\n",
       "      <th>longitude</th>\n",
       "      <th>latitude</th>\n",
       "      <th>housing_median_age</th>\n",
       "      <th>total_rooms</th>\n",
       "      <th>total_bedrooms</th>\n",
       "      <th>population</th>\n",
       "      <th>households</th>\n",
       "      <th>median_income</th>\n",
       "      <th>rooms_per_household</th>\n",
       "      <th>bedrooms_per_room</th>\n",
       "      <th>population_per_household</th>\n",
       "      <th>ocean_proximity</th>\n",
       "      <th>median_house_value</th>\n",
       "    </tr>\n",
       "  </thead>\n",
       "  <tbody>\n",
       "    <tr>\n",
       "      <th>0</th>\n",
       "      <td>-122.23</td>\n",
       "      <td>37.88</td>\n",
       "      <td>41.0</td>\n",
       "      <td>880.0</td>\n",
       "      <td>129.0</td>\n",
       "      <td>322.0</td>\n",
       "      <td>126.0</td>\n",
       "      <td>8.3252</td>\n",
       "      <td>6.984127</td>\n",
       "      <td>0.146591</td>\n",
       "      <td>2.555556</td>\n",
       "      <td>3.0</td>\n",
       "      <td>452600.0</td>\n",
       "    </tr>\n",
       "    <tr>\n",
       "      <th>1</th>\n",
       "      <td>-122.22</td>\n",
       "      <td>37.86</td>\n",
       "      <td>21.0</td>\n",
       "      <td>7099.0</td>\n",
       "      <td>1106.0</td>\n",
       "      <td>2401.0</td>\n",
       "      <td>1138.0</td>\n",
       "      <td>8.3014</td>\n",
       "      <td>6.238137</td>\n",
       "      <td>0.155797</td>\n",
       "      <td>2.109842</td>\n",
       "      <td>3.0</td>\n",
       "      <td>358500.0</td>\n",
       "    </tr>\n",
       "    <tr>\n",
       "      <th>2</th>\n",
       "      <td>-122.24</td>\n",
       "      <td>37.85</td>\n",
       "      <td>52.0</td>\n",
       "      <td>1467.0</td>\n",
       "      <td>190.0</td>\n",
       "      <td>496.0</td>\n",
       "      <td>177.0</td>\n",
       "      <td>7.2574</td>\n",
       "      <td>8.288136</td>\n",
       "      <td>0.129516</td>\n",
       "      <td>2.802260</td>\n",
       "      <td>3.0</td>\n",
       "      <td>352100.0</td>\n",
       "    </tr>\n",
       "    <tr>\n",
       "      <th>3</th>\n",
       "      <td>-122.25</td>\n",
       "      <td>37.85</td>\n",
       "      <td>52.0</td>\n",
       "      <td>1274.0</td>\n",
       "      <td>235.0</td>\n",
       "      <td>558.0</td>\n",
       "      <td>219.0</td>\n",
       "      <td>5.6431</td>\n",
       "      <td>5.817352</td>\n",
       "      <td>0.184458</td>\n",
       "      <td>2.547945</td>\n",
       "      <td>3.0</td>\n",
       "      <td>341300.0</td>\n",
       "    </tr>\n",
       "    <tr>\n",
       "      <th>4</th>\n",
       "      <td>-122.25</td>\n",
       "      <td>37.85</td>\n",
       "      <td>52.0</td>\n",
       "      <td>1627.0</td>\n",
       "      <td>280.0</td>\n",
       "      <td>565.0</td>\n",
       "      <td>259.0</td>\n",
       "      <td>3.8462</td>\n",
       "      <td>6.281853</td>\n",
       "      <td>0.172096</td>\n",
       "      <td>2.181467</td>\n",
       "      <td>3.0</td>\n",
       "      <td>342200.0</td>\n",
       "    </tr>\n",
       "    <tr>\n",
       "      <th>...</th>\n",
       "      <td>...</td>\n",
       "      <td>...</td>\n",
       "      <td>...</td>\n",
       "      <td>...</td>\n",
       "      <td>...</td>\n",
       "      <td>...</td>\n",
       "      <td>...</td>\n",
       "      <td>...</td>\n",
       "      <td>...</td>\n",
       "      <td>...</td>\n",
       "      <td>...</td>\n",
       "      <td>...</td>\n",
       "      <td>...</td>\n",
       "    </tr>\n",
       "    <tr>\n",
       "      <th>20635</th>\n",
       "      <td>-121.09</td>\n",
       "      <td>39.48</td>\n",
       "      <td>25.0</td>\n",
       "      <td>1665.0</td>\n",
       "      <td>374.0</td>\n",
       "      <td>845.0</td>\n",
       "      <td>330.0</td>\n",
       "      <td>1.5603</td>\n",
       "      <td>5.045455</td>\n",
       "      <td>0.224625</td>\n",
       "      <td>2.560606</td>\n",
       "      <td>1.0</td>\n",
       "      <td>78100.0</td>\n",
       "    </tr>\n",
       "    <tr>\n",
       "      <th>20636</th>\n",
       "      <td>-121.21</td>\n",
       "      <td>39.49</td>\n",
       "      <td>18.0</td>\n",
       "      <td>697.0</td>\n",
       "      <td>150.0</td>\n",
       "      <td>356.0</td>\n",
       "      <td>114.0</td>\n",
       "      <td>2.5568</td>\n",
       "      <td>6.114035</td>\n",
       "      <td>0.215208</td>\n",
       "      <td>3.122807</td>\n",
       "      <td>1.0</td>\n",
       "      <td>77100.0</td>\n",
       "    </tr>\n",
       "    <tr>\n",
       "      <th>20637</th>\n",
       "      <td>-121.22</td>\n",
       "      <td>39.43</td>\n",
       "      <td>17.0</td>\n",
       "      <td>2254.0</td>\n",
       "      <td>485.0</td>\n",
       "      <td>1007.0</td>\n",
       "      <td>433.0</td>\n",
       "      <td>1.7000</td>\n",
       "      <td>5.205543</td>\n",
       "      <td>0.215173</td>\n",
       "      <td>2.325635</td>\n",
       "      <td>1.0</td>\n",
       "      <td>92300.0</td>\n",
       "    </tr>\n",
       "    <tr>\n",
       "      <th>20638</th>\n",
       "      <td>-121.32</td>\n",
       "      <td>39.43</td>\n",
       "      <td>18.0</td>\n",
       "      <td>1860.0</td>\n",
       "      <td>409.0</td>\n",
       "      <td>741.0</td>\n",
       "      <td>349.0</td>\n",
       "      <td>1.8672</td>\n",
       "      <td>5.329513</td>\n",
       "      <td>0.219892</td>\n",
       "      <td>2.123209</td>\n",
       "      <td>1.0</td>\n",
       "      <td>84700.0</td>\n",
       "    </tr>\n",
       "    <tr>\n",
       "      <th>20639</th>\n",
       "      <td>-121.24</td>\n",
       "      <td>39.37</td>\n",
       "      <td>16.0</td>\n",
       "      <td>2785.0</td>\n",
       "      <td>616.0</td>\n",
       "      <td>1387.0</td>\n",
       "      <td>530.0</td>\n",
       "      <td>2.3886</td>\n",
       "      <td>5.254717</td>\n",
       "      <td>0.221185</td>\n",
       "      <td>2.616981</td>\n",
       "      <td>1.0</td>\n",
       "      <td>89400.0</td>\n",
       "    </tr>\n",
       "  </tbody>\n",
       "</table>\n",
       "<p>20640 rows × 13 columns</p>\n",
       "</div>"
      ],
      "text/plain": [
       "       longitude  latitude  ...  ocean_proximity  median_house_value\n",
       "0        -122.23     37.88  ...              3.0            452600.0\n",
       "1        -122.22     37.86  ...              3.0            358500.0\n",
       "2        -122.24     37.85  ...              3.0            352100.0\n",
       "3        -122.25     37.85  ...              3.0            341300.0\n",
       "4        -122.25     37.85  ...              3.0            342200.0\n",
       "...          ...       ...  ...              ...                 ...\n",
       "20635    -121.09     39.48  ...              1.0             78100.0\n",
       "20636    -121.21     39.49  ...              1.0             77100.0\n",
       "20637    -121.22     39.43  ...              1.0             92300.0\n",
       "20638    -121.32     39.43  ...              1.0             84700.0\n",
       "20639    -121.24     39.37  ...              1.0             89400.0\n",
       "\n",
       "[20640 rows x 13 columns]"
      ]
     },
     "execution_count": 19,
     "metadata": {
      "tags": []
     },
     "output_type": "execute_result"
    }
   ],
   "source": [
    "housing_labels = data_clean[\"median_house_value\"]\n",
    "data_clean = data_clean.drop(\"median_house_value\", axis=1)\n",
    "data_clean[\"median_house_value\"] = housing_labels\n",
    "data_clean"
   ]
  },
  {
   "cell_type": "code",
   "execution_count": 20,
   "metadata": {
    "colab": {
     "base_uri": "https://localhost:8080/"
    },
    "id": "FGBb8HZWKrGp",
    "outputId": "e188f811-e8df-4058-bd5d-44703a7994c2"
   },
   "outputs": [
    {
     "data": {
      "text/plain": [
       "(20640, 13)"
      ]
     },
     "execution_count": 20,
     "metadata": {
      "tags": []
     },
     "output_type": "execute_result"
    }
   ],
   "source": [
    "from sklearn import preprocessing\n",
    "\n",
    "minmax_scale = preprocessing.MinMaxScaler()\n",
    "X_scaled = minmax_scale.fit_transform(data_clean)\n",
    "X_scaled.shape"
   ]
  },
  {
   "cell_type": "code",
   "execution_count": 21,
   "metadata": {
    "colab": {
     "base_uri": "https://localhost:8080/"
    },
    "id": "tfaXk6JBbiNZ",
    "outputId": "21a10f6d-0d28-42ee-8efd-39aa6268eb74"
   },
   "outputs": [
    {
     "name": "stdout",
     "output_type": "stream",
     "text": [
      "(20640, 12)\n",
      "(20640,)\n"
     ]
    }
   ],
   "source": [
    "#Splitting the dependent and independent variables\n",
    "\n",
    "X = X_scaled[:,:-1]\n",
    "y = X_scaled[:,-1]\n",
    "\n",
    "print(X.shape)\n",
    "print(y.shape)"
   ]
  },
  {
   "cell_type": "code",
   "execution_count": 22,
   "metadata": {
    "colab": {
     "base_uri": "https://localhost:8080/"
    },
    "id": "CLHjid6FY13N",
    "outputId": "c2849d69-8de7-44c7-8230-64b3598022cf"
   },
   "outputs": [
    {
     "name": "stdout",
     "output_type": "stream",
     "text": [
      "(16512, 12)\n",
      "(16512,)\n",
      "(4128, 12)\n"
     ]
    }
   ],
   "source": [
    "#Splitting the dataset into training and test sets\n",
    "\n",
    "from sklearn.model_selection import train_test_split\n",
    "\n",
    "train_data, test_data, train_labels, test_labels = train_test_split(X, y, test_size = 0.2, random_state = 42)\n",
    "\n",
    "print(train_data.shape)\n",
    "print(train_labels.shape)\n",
    "print(test_data.shape)"
   ]
  },
  {
   "cell_type": "code",
   "execution_count": 23,
   "metadata": {
    "id": "BuCeh9XVKrGy"
   },
   "outputs": [],
   "source": [
    "train_data = train_data\n",
    "test_data = test_data\n",
    "train_labels = train_labels.reshape(-1,1)\n",
    "test_labels = test_labels.reshape(-1,1)"
   ]
  },
  {
   "cell_type": "code",
   "execution_count": 24,
   "metadata": {
    "colab": {
     "base_uri": "https://localhost:8080/"
    },
    "id": "MLGUpsaOKrG0",
    "outputId": "4dfa144d-1ffc-4f67-881f-c65860eec4a6"
   },
   "outputs": [
    {
     "data": {
      "text/plain": [
       "array([[0.18144461],\n",
       "       [0.75690616],\n",
       "       [0.32494918],\n",
       "       ...,\n",
       "       [0.42701061],\n",
       "       [0.55360803],\n",
       "       [0.63917468]])"
      ]
     },
     "execution_count": 24,
     "metadata": {
      "tags": []
     },
     "output_type": "execute_result"
    }
   ],
   "source": [
    "train_labels"
   ]
  },
  {
   "cell_type": "markdown",
   "metadata": {
    "id": "3s5fAfkYxLYp"
   },
   "source": [
    "## Preparation of the dataset for PyTorch"
   ]
  },
  {
   "cell_type": "code",
   "execution_count": 25,
   "metadata": {
    "id": "zjBZmMz7NEo5"
   },
   "outputs": [],
   "source": [
    "device = torch.device('cuda:0' if torch.cuda.is_available() else 'cpu')"
   ]
  },
  {
   "cell_type": "code",
   "execution_count": 26,
   "metadata": {
    "id": "wJ1L0HBAjGxk"
   },
   "outputs": [],
   "source": [
    "from torch.utils.data import TensorDataset, DataLoader\n",
    "\n",
    "tensor_x = torch.tensor(train_data, dtype=torch.float).to(device) # transform to torch tensor\n",
    "tensor_x2 = torch.tensor(test_data, dtype=torch.float).to(device) "
   ]
  },
  {
   "cell_type": "code",
   "execution_count": 27,
   "metadata": {
    "id": "eZCUXWsRjGxt"
   },
   "outputs": [],
   "source": [
    "tensor_y = torch.tensor(train_labels, dtype=torch.float).to(device)\n",
    "tensor_y2 = torch.tensor(test_labels, dtype=torch.float).to(device)"
   ]
  },
  {
   "cell_type": "code",
   "execution_count": 28,
   "metadata": {
    "id": "viaVSWpsGzDM"
   },
   "outputs": [],
   "source": [
    "train_dataset = TensorDataset(tensor_x, tensor_y) # create your dataset\n",
    "test_dataset = TensorDataset(tensor_x2,tensor_y2)"
   ]
  },
  {
   "cell_type": "code",
   "execution_count": 29,
   "metadata": {
    "id": "PR0Pw5uNt22n"
   },
   "outputs": [],
   "source": [
    "# Normalizing the data\n",
    "\n",
    "#print(tensor_x,tensor_x2)\n",
    "\n",
    "#mean = torch.mean(tensor_x)\n",
    "#std = torch.std(tensor_x)\n",
    "\n",
    "#tensor_x = (tensor_x - mean) / std\n",
    "#tensor_x2 = (tensor_x2 - mean) / std"
   ]
  },
  {
   "cell_type": "markdown",
   "metadata": {
    "id": "0Q3zsgW2jGx8"
   },
   "source": [
    "## Building Feedforward Neural Networks with PyTorch"
   ]
  },
  {
   "cell_type": "code",
   "execution_count": 30,
   "metadata": {
    "id": "RERx3KT0HGoT"
   },
   "outputs": [],
   "source": [
    "# import libraries\n",
    "\n",
    "import torch\n",
    "import torch.nn as nn\n",
    "from torch.autograd import Variable\n",
    "from torchsummary import summary"
   ]
  },
  {
   "cell_type": "markdown",
   "metadata": {
    "id": "RyxPfwK0k2Ro"
   },
   "source": [
    "## L2 regularization"
   ]
  },
  {
   "cell_type": "markdown",
   "metadata": {
    "id": "P_xGYFrsjG0R"
   },
   "source": [
    "### Model A: 3 Hidden Layers Feedforward Neural Network"
   ]
  },
  {
   "cell_type": "markdown",
   "metadata": {
    "id": "Eq-gTJ_SjG0v"
   },
   "source": [
    "### Create model class"
   ]
  },
  {
   "cell_type": "code",
   "execution_count": 31,
   "metadata": {
    "colab": {
     "base_uri": "https://localhost:8080/"
    },
    "id": "yEh7DV00HVU9",
    "outputId": "b61c8704-4dc8-4ae7-bb6f-a2b07872aa86"
   },
   "outputs": [
    {
     "name": "stdout",
     "output_type": "stream",
     "text": [
      "77\n"
     ]
    }
   ],
   "source": [
    "batch_size = 128\n",
    "n_iters = 10000\n",
    "num_epochs = n_iters / (len(train_data) / batch_size)\n",
    "num_epochs = int(num_epochs)\n",
    "print(num_epochs)"
   ]
  },
  {
   "cell_type": "code",
   "execution_count": 32,
   "metadata": {
    "id": "CoH9zZ4sHX4T"
   },
   "outputs": [],
   "source": [
    "train_loader = DataLoader(train_dataset, batch_size=batch_size, shuffle=True) # create your dataloader\n",
    "\n",
    "test_loader = DataLoader(test_dataset, batch_size=batch_size,  shuffle=False)"
   ]
  },
  {
   "cell_type": "code",
   "execution_count": 33,
   "metadata": {
    "id": "L_pXroQFt22q"
   },
   "outputs": [],
   "source": [
    "class FNN(nn.Module):\n",
    "    def __init__(self, input_dim, hidden_dim1,hidden_dim2,hidden_dim3, output_dim):\n",
    "        super(FNN, self).__init__()\n",
    "        \n",
    "        self.linear1 = nn.Linear(input_dim, hidden_dim1)\n",
    "        self.linear2 = nn.Linear(hidden_dim1, hidden_dim2)\n",
    "        self.linear3 = nn.Linear(hidden_dim2, hidden_dim3)\n",
    "        self.linear4 = nn.Linear(hidden_dim3, output_dim)\n",
    "        \n",
    "    def forward(self, x):\n",
    "        out = self.linear1(x).clamp(min=0)\n",
    "        out = self.linear2(out).clamp(min=0)\n",
    "        out = self.linear3(out).clamp(min=0)\n",
    "        out = self.linear4(out)\n",
    "        return out"
   ]
  },
  {
   "cell_type": "code",
   "execution_count": 34,
   "metadata": {
    "id": "lTICx4_Gt22t"
   },
   "outputs": [],
   "source": [
    "input_dim = tensor_x.shape[1]\n",
    "output_dim = 1\n",
    "hidden_dim1 = 500\n",
    "hidden_dim2 = 1000\n",
    "hidden_dim3 = 200"
   ]
  },
  {
   "cell_type": "code",
   "execution_count": 35,
   "metadata": {
    "id": "PwaZoNhUt22v"
   },
   "outputs": [],
   "source": [
    "model = FNN(input_dim, hidden_dim1,hidden_dim2,hidden_dim3, output_dim)\n",
    "\n",
    "#######################\n",
    "#  USE GPU FOR MODEL  #\n",
    "#######################\n",
    "if torch.cuda.is_available():\n",
    "    model.cuda()\n"
   ]
  },
  {
   "cell_type": "code",
   "execution_count": 36,
   "metadata": {
    "colab": {
     "base_uri": "https://localhost:8080/"
    },
    "id": "RDWXkP5iIKF9",
    "outputId": "d5206802-6222-4c9c-ae91-58f4ac2e0073"
   },
   "outputs": [
    {
     "name": "stdout",
     "output_type": "stream",
     "text": [
      "----------------------------------------------------------------\n",
      "        Layer (type)               Output Shape         Param #\n",
      "================================================================\n",
      "            Linear-1               [-1, 1, 500]           6,500\n",
      "            Linear-2              [-1, 1, 1000]         501,000\n",
      "            Linear-3               [-1, 1, 200]         200,200\n",
      "            Linear-4                 [-1, 1, 1]             201\n",
      "================================================================\n",
      "Total params: 707,901\n",
      "Trainable params: 707,901\n",
      "Non-trainable params: 0\n",
      "----------------------------------------------------------------\n",
      "Input size (MB): 0.00\n",
      "Forward/backward pass size (MB): 0.01\n",
      "Params size (MB): 2.70\n",
      "Estimated Total Size (MB): 2.71\n",
      "----------------------------------------------------------------\n"
     ]
    }
   ],
   "source": [
    "summary(model, (1,tensor_x.shape[1]))"
   ]
  },
  {
   "cell_type": "code",
   "execution_count": 37,
   "metadata": {
    "id": "KnZxUvFvNJlZ"
   },
   "outputs": [],
   "source": [
    "criterion = nn.MSELoss(reduction='sum')\n",
    "\n",
    "learning_rate = 0.0001\n",
    "LAMBDA = 0.001\n",
    "optimizer = torch.optim.SGD(model.parameters(), lr=learning_rate, weight_decay=LAMBDA)"
   ]
  },
  {
   "cell_type": "code",
   "execution_count": 38,
   "metadata": {
    "colab": {
     "base_uri": "https://localhost:8080/"
    },
    "id": "fHiKX1cdt22x",
    "outputId": "118d1d5f-9030-4b42-da8a-b67c3244fefc"
   },
   "outputs": [
    {
     "name": "stdout",
     "output_type": "stream",
     "text": [
      "Iteration: 500. Training Loss: 5.4456281661987305. Test Loss: 1.670966625213623\n",
      "Iteration: 1000. Training Loss: 4.148662567138672. Test Loss: 0.8941614031791687\n",
      "Iteration: 1500. Training Loss: 2.738175392150879. Test Loss: 0.45020073652267456\n",
      "Iteration: 2000. Training Loss: 2.285991668701172. Test Loss: 0.4465404748916626\n",
      "Iteration: 2500. Training Loss: 2.4436302185058594. Test Loss: 0.3793649673461914\n",
      "Iteration: 3000. Training Loss: 3.5847272872924805. Test Loss: 0.3928441107273102\n",
      "Iteration: 3500. Training Loss: 3.704059600830078. Test Loss: 0.36960262060165405\n",
      "Iteration: 4000. Training Loss: 1.5463796854019165. Test Loss: 0.3387115001678467\n",
      "Iteration: 4500. Training Loss: 3.8603334426879883. Test Loss: 0.380603551864624\n",
      "Iteration: 5000. Training Loss: 1.9281309843063354. Test Loss: 0.3294564485549927\n",
      "Iteration: 5500. Training Loss: 2.2389883995056152. Test Loss: 0.3439469635486603\n",
      "Iteration: 6000. Training Loss: 2.6810760498046875. Test Loss: 0.3570362627506256\n",
      "Iteration: 6500. Training Loss: 2.736562967300415. Test Loss: 0.35172104835510254\n",
      "Iteration: 7000. Training Loss: 2.6789965629577637. Test Loss: 0.369117796421051\n",
      "Iteration: 7500. Training Loss: 2.0893256664276123. Test Loss: 0.30516374111175537\n",
      "Iteration: 8000. Training Loss: 2.214184522628784. Test Loss: 0.3340725004673004\n",
      "Iteration: 8500. Training Loss: 2.6220617294311523. Test Loss: 0.32365041971206665\n",
      "Iteration: 9000. Training Loss: 2.9453554153442383. Test Loss: 0.3338203430175781\n",
      "Iteration: 9500. Training Loss: 3.0877504348754883. Test Loss: 0.329894483089447\n"
     ]
    }
   ],
   "source": [
    "# Train the model\n",
    "\n",
    "train_loss = []\n",
    "\n",
    "iter = 0\n",
    "for epoch in range(num_epochs):\n",
    "    \n",
    "    '''\n",
    "    One iteration\n",
    "    '''\n",
    "    for i, (X, labels) in enumerate(train_loader):\n",
    "        #######################\n",
    "        #  USE GPU FOR MODEL  #\n",
    "        #######################\n",
    "        if torch.cuda.is_available():\n",
    "            X = Variable(X.cuda())\n",
    "            labels = Variable(labels.cuda())\n",
    "        else:\n",
    "            X = Variable(X)\n",
    "            labels = Variable(labels)\n",
    "        \n",
    "        # Forward pass to get output/logits\n",
    "        outputs = model(X)\n",
    "        \n",
    "        # Clear gradients w.r.t. parameters\n",
    "        optimizer.zero_grad()\n",
    "        \n",
    "        # Calculate Loss:\n",
    "        loss = criterion(outputs, labels)\n",
    "                \n",
    "        '''\n",
    "        Save loss to draw loss curve\n",
    "        '''\n",
    "        train_loss.append(loss)\n",
    "        ''''''\n",
    "\n",
    "        # Getting gradients w.r.t. parameters\n",
    "        loss.backward()\n",
    "        \n",
    "        # Updating parameters\n",
    "        optimizer.step()\n",
    "        ''''''\n",
    "        \n",
    "        iter += 1\n",
    "    \n",
    "        # Testing the model\n",
    "        if iter % 500 == 0:\n",
    "            # Iterate through test dataset\n",
    "            for X, labels in test_loader:\n",
    "                #######################\n",
    "                #  USE GPU FOR MODEL  #\n",
    "                #######################\n",
    "                if torch.cuda.is_available():\n",
    "                    X = Variable(X.cuda())\n",
    "                else:\n",
    "                    X = Variable(X)    \n",
    "                    \n",
    "                # Forward pass only to get logits/output\n",
    "                outputs = model(X)\n",
    "                \n",
    "                # Calculate Loss:\n",
    "                loss_t = criterion(outputs, labels)\n",
    "                \n",
    "            # Print Loss\n",
    "            print('Iteration: {}. Training Loss: {}. Test Loss: {}'.format(iter, loss.data, loss_t.data))\n",
    "            "
   ]
  },
  {
   "cell_type": "code",
   "execution_count": 39,
   "metadata": {
    "colab": {
     "base_uri": "https://localhost:8080/",
     "height": 350
    },
    "id": "Df5NMGbbO7Gd",
    "outputId": "4f2618e0-a171-48a1-a807-e18e5709d9e3"
   },
   "outputs": [
    {
     "data": {
      "image/png": "[encoded data removed]",
      "text/plain": [
       "<Figure size 504x360 with 1 Axes>"
      ]
     },
     "metadata": {
      "needs_background": "light",
      "tags": []
     },
     "output_type": "display_data"
    }
   ],
   "source": [
    "#Plot the loss curve\n",
    "\n",
    "plt.figure(figsize=(7,5))\n",
    "plt.plot(range(len(train_loss)), train_loss)\n",
    "plt.xlabel(\"Iteration\")\n",
    "plt.ylabel(\"MSE\")\n",
    "plt.title(\"Loss curve for training\")\n",
    "plt.show()"
   ]
  },
  {
   "cell_type": "code",
   "execution_count": 40,
   "metadata": {
    "id": "JJcThtEMrtF3"
   },
   "outputs": [],
   "source": [
    "save_model = True\n",
    "if save_model is True:\n",
    "    torch.save(model.state_dict(), 'housing_FNN_pytorch_A_l2.pkl')# only save parameters"
   ]
  },
  {
   "cell_type": "markdown",
   "metadata": {
    "id": "N1RZUje2t222"
   },
   "source": [
    "### Model B: 3 Hidden Layers Feedforward Neural Network (ReLU activation)"
   ]
  },
  {
   "cell_type": "markdown",
   "metadata": {
    "id": "X0gtcPcPt222"
   },
   "source": [
    "### Create model class"
   ]
  },
  {
   "cell_type": "code",
   "execution_count": 41,
   "metadata": {
    "colab": {
     "base_uri": "https://localhost:8080/"
    },
    "id": "AUE2mWf4Q0nb",
    "outputId": "0ba1f258-0e69-42ff-a6a1-b51a0db12245"
   },
   "outputs": [
    {
     "name": "stdout",
     "output_type": "stream",
     "text": [
      "20\n"
     ]
    }
   ],
   "source": [
    "batch_size = 16\n",
    "n_iters = 21000\n",
    "num_epochs = n_iters / (len(train_data) / batch_size)\n",
    "num_epochs = int(num_epochs)\n",
    "print(num_epochs)"
   ]
  },
  {
   "cell_type": "code",
   "execution_count": 42,
   "metadata": {
    "id": "1qlG9zPXQ0nv"
   },
   "outputs": [],
   "source": [
    "train_loader = DataLoader(train_dataset, batch_size=batch_size, shuffle=True) # create your dataloader\n",
    "\n",
    "test_loader = DataLoader(test_dataset, batch_size=batch_size,  shuffle=False)"
   ]
  },
  {
   "cell_type": "code",
   "execution_count": 43,
   "metadata": {
    "id": "pHP-6Gbrt223"
   },
   "outputs": [],
   "source": [
    "class FNN(nn.Module):\n",
    "    def __init__(self, input_dim, hidden_dim1,hidden_dim2,hidden_dim3, output_dim):\n",
    "        super(FNN, self).__init__()\n",
    "        \n",
    "        self.linear1 = nn.Linear(input_dim, hidden_dim1)\n",
    "        self.relu1 = nn.ReLU()\n",
    "        self.linear2 = nn.Linear(hidden_dim1, hidden_dim2)\n",
    "        self.relu2 = nn.ReLU()\n",
    "        self.linear3 = nn.Linear(hidden_dim2, hidden_dim3)\n",
    "        self.relu3 = nn.ReLU()\n",
    "        self.linear4 = nn.Linear(hidden_dim3, output_dim)\n",
    "        \n",
    "    def forward(self, x):\n",
    "        out = self.linear1(x)\n",
    "        out = self.relu1(out)\n",
    "        out = self.linear2(out)\n",
    "        out = self.relu2(out)\n",
    "        out = self.linear3(out)\n",
    "        out = self.relu3(out)\n",
    "        out = self.linear4(out)\n",
    "        return out"
   ]
  },
  {
   "cell_type": "code",
   "execution_count": 44,
   "metadata": {
    "id": "hW1TdbRVt225"
   },
   "outputs": [],
   "source": [
    "input_dim = tensor_x.shape[1]\n",
    "output_dim = 1\n",
    "hidden_dim1 = 500\n",
    "hidden_dim2 = 1000\n",
    "hidden_dim3 = 200"
   ]
  },
  {
   "cell_type": "code",
   "execution_count": 45,
   "metadata": {
    "id": "3xR4dZyut227"
   },
   "outputs": [],
   "source": [
    "model = FNN(input_dim, hidden_dim1,hidden_dim2,hidden_dim3, output_dim)\n",
    "\n",
    "#######################\n",
    "#  USE GPU FOR MODEL  #\n",
    "#######################\n",
    "if torch.cuda.is_available():\n",
    "    model.cuda()\n"
   ]
  },
  {
   "cell_type": "code",
   "execution_count": 46,
   "metadata": {
    "colab": {
     "base_uri": "https://localhost:8080/"
    },
    "id": "yZTOUPrkP5JX",
    "outputId": "5622f46a-f26c-4500-8388-e35ca4a2e6b1"
   },
   "outputs": [
    {
     "name": "stdout",
     "output_type": "stream",
     "text": [
      "----------------------------------------------------------------\n",
      "        Layer (type)               Output Shape         Param #\n",
      "================================================================\n",
      "            Linear-1               [-1, 1, 500]           6,500\n",
      "              ReLU-2               [-1, 1, 500]               0\n",
      "            Linear-3              [-1, 1, 1000]         501,000\n",
      "              ReLU-4              [-1, 1, 1000]               0\n",
      "            Linear-5               [-1, 1, 200]         200,200\n",
      "              ReLU-6               [-1, 1, 200]               0\n",
      "            Linear-7                 [-1, 1, 1]             201\n",
      "================================================================\n",
      "Total params: 707,901\n",
      "Trainable params: 707,901\n",
      "Non-trainable params: 0\n",
      "----------------------------------------------------------------\n",
      "Input size (MB): 0.00\n",
      "Forward/backward pass size (MB): 0.03\n",
      "Params size (MB): 2.70\n",
      "Estimated Total Size (MB): 2.73\n",
      "----------------------------------------------------------------\n"
     ]
    }
   ],
   "source": [
    "summary(model, (1,tensor_x.shape[1]))"
   ]
  },
  {
   "cell_type": "code",
   "execution_count": 47,
   "metadata": {
    "id": "irnPkz-DP5Ji"
   },
   "outputs": [],
   "source": [
    "criterion = nn.MSELoss(reduction='sum')\n",
    "\n",
    "learning_rate = 0.0001\n",
    "LAMBDA = 0.05\n",
    "optimizer = torch.optim.SGD(model.parameters(), lr=learning_rate, weight_decay=LAMBDA)"
   ]
  },
  {
   "cell_type": "code",
   "execution_count": 48,
   "metadata": {
    "colab": {
     "base_uri": "https://localhost:8080/"
    },
    "id": "ek1bJ9ggP5Jp",
    "outputId": "70298bd6-d18c-418c-e661-47f2cbab3a2b"
   },
   "outputs": [
    {
     "name": "stdout",
     "output_type": "stream",
     "text": [
      "Iteration: 500. Training Loss: 0.23747478425502777. Test Loss: 1.4503998756408691\n",
      "Iteration: 1000. Training Loss: 0.8087143898010254. Test Loss: 1.3748252391815186\n",
      "Iteration: 1500. Training Loss: 0.8851361870765686. Test Loss: 1.3379799127578735\n",
      "Iteration: 2000. Training Loss: 1.3978710174560547. Test Loss: 1.2949652671813965\n",
      "Iteration: 2500. Training Loss: 1.247320294380188. Test Loss: 1.2609012126922607\n",
      "Iteration: 3000. Training Loss: 1.5314319133758545. Test Loss: 1.2172132730484009\n",
      "Iteration: 3500. Training Loss: 0.5148290395736694. Test Loss: 1.180030345916748\n",
      "Iteration: 4000. Training Loss: 1.0512583255767822. Test Loss: 1.1336677074432373\n",
      "Iteration: 4500. Training Loss: 0.921399712562561. Test Loss: 1.0907514095306396\n",
      "Iteration: 5000. Training Loss: 0.9150222539901733. Test Loss: 1.0377575159072876\n",
      "Iteration: 5500. Training Loss: 0.7955772280693054. Test Loss: 0.975710391998291\n",
      "Iteration: 6000. Training Loss: 0.4389723539352417. Test Loss: 0.9202583432197571\n",
      "Iteration: 6500. Training Loss: 0.7269817590713501. Test Loss: 0.8707224130630493\n",
      "Iteration: 7000. Training Loss: 0.377292662858963. Test Loss: 0.8109365105628967\n",
      "Iteration: 7500. Training Loss: 0.7797559499740601. Test Loss: 0.7457022070884705\n",
      "Iteration: 8000. Training Loss: 0.32370325922966003. Test Loss: 0.6925589442253113\n",
      "Iteration: 8500. Training Loss: 0.7029733061790466. Test Loss: 0.6327633261680603\n",
      "Iteration: 9000. Training Loss: 0.4368237257003784. Test Loss: 0.5766117572784424\n",
      "Iteration: 9500. Training Loss: 0.6795558333396912. Test Loss: 0.5225780606269836\n",
      "Iteration: 10000. Training Loss: 0.200621098279953. Test Loss: 0.4724724292755127\n",
      "Iteration: 10500. Training Loss: 0.717038631439209. Test Loss: 0.42703133821487427\n",
      "Iteration: 11000. Training Loss: 0.21513637900352478. Test Loss: 0.3863565921783447\n",
      "Iteration: 11500. Training Loss: 0.3182779550552368. Test Loss: 0.35331276059150696\n",
      "Iteration: 12000. Training Loss: 0.40475159883499146. Test Loss: 0.31959253549575806\n",
      "Iteration: 12500. Training Loss: 0.43552085757255554. Test Loss: 0.2996683120727539\n",
      "Iteration: 13000. Training Loss: 0.21698260307312012. Test Loss: 0.274162620306015\n",
      "Iteration: 13500. Training Loss: 0.24106080830097198. Test Loss: 0.2632957100868225\n",
      "Iteration: 14000. Training Loss: 0.7132982015609741. Test Loss: 0.24821889400482178\n",
      "Iteration: 14500. Training Loss: 0.5610789060592651. Test Loss: 0.24511684477329254\n",
      "Iteration: 15000. Training Loss: 0.3822695314884186. Test Loss: 0.23892784118652344\n",
      "Iteration: 15500. Training Loss: 0.4448612332344055. Test Loss: 0.21719513833522797\n",
      "Iteration: 16000. Training Loss: 0.16427962481975555. Test Loss: 0.2241772711277008\n",
      "Iteration: 16500. Training Loss: 0.19965094327926636. Test Loss: 0.2129596471786499\n",
      "Iteration: 17000. Training Loss: 0.39455097913742065. Test Loss: 0.20781752467155457\n",
      "Iteration: 17500. Training Loss: 0.13224764168262482. Test Loss: 0.20980599522590637\n",
      "Iteration: 18000. Training Loss: 0.28629231452941895. Test Loss: 0.20750778913497925\n",
      "Iteration: 18500. Training Loss: 0.34620875120162964. Test Loss: 0.21220877766609192\n",
      "Iteration: 19000. Training Loss: 0.37847238779067993. Test Loss: 0.201913520693779\n",
      "Iteration: 19500. Training Loss: 0.4265589714050293. Test Loss: 0.20655077695846558\n",
      "Iteration: 20000. Training Loss: 0.42001235485076904. Test Loss: 0.20713306963443756\n",
      "Iteration: 20500. Training Loss: 0.36767148971557617. Test Loss: 0.20008684694766998\n"
     ]
    }
   ],
   "source": [
    "# Train the model\n",
    "\n",
    "train_loss = []\n",
    "\n",
    "iter = 0\n",
    "for epoch in range(num_epochs):\n",
    "    \n",
    "    '''\n",
    "    One iteration\n",
    "    '''\n",
    "    for i, (X, labels) in enumerate(train_loader):\n",
    "        #######################\n",
    "        #  USE GPU FOR MODEL  #\n",
    "        #######################\n",
    "        if torch.cuda.is_available():\n",
    "            X = Variable(X.cuda())\n",
    "            labels = Variable(labels.cuda())\n",
    "        else:\n",
    "            X = Variable(X)\n",
    "            labels = Variable(labels)\n",
    "        \n",
    "        # Forward pass to get output/logits\n",
    "        outputs = model(X)\n",
    "        \n",
    "        # Clear gradients w.r.t. parameters\n",
    "        optimizer.zero_grad()\n",
    "        \n",
    "        # Calculate Loss:\n",
    "        loss = criterion(outputs, labels)\n",
    "                \n",
    "        '''\n",
    "        Save loss to draw loss curve\n",
    "        '''\n",
    "        train_loss.append(loss)\n",
    "        ''''''\n",
    "\n",
    "        # Getting gradients w.r.t. parameters\n",
    "        loss.backward()\n",
    "        \n",
    "        # Updating parameters\n",
    "        optimizer.step()\n",
    "        ''''''\n",
    "        \n",
    "        iter += 1\n",
    "    \n",
    "        # Testing the model\n",
    "        if iter % 500 == 0:\n",
    "            # Iterate through test dataset\n",
    "            for X, labels in test_loader:\n",
    "                #######################\n",
    "                #  USE GPU FOR MODEL  #\n",
    "                #######################\n",
    "                if torch.cuda.is_available():\n",
    "                    X = Variable(X.cuda())\n",
    "                else:\n",
    "                    X = Variable(X)    \n",
    "                    \n",
    "                # Forward pass only to get logits/output\n",
    "                outputs = model(X)\n",
    "                \n",
    "                # Calculate Loss:\n",
    "                loss_t = criterion(outputs, labels)\n",
    "                \n",
    "            # Print Loss\n",
    "            print('Iteration: {}. Training Loss: {}. Test Loss: {}'.format(iter, loss.data, loss_t.data))\n",
    "            "
   ]
  },
  {
   "cell_type": "code",
   "execution_count": 49,
   "metadata": {
    "colab": {
     "base_uri": "https://localhost:8080/",
     "height": 350
    },
    "id": "cY4Lcwf7P5Jt",
    "outputId": "0b3417b6-604d-4a98-a65d-3d4a122da1cd"
   },
   "outputs": [
    {
     "data": {
      "image/png": "[encoded data removed]",
      "text/plain": [
       "<Figure size 504x360 with 1 Axes>"
      ]
     },
     "metadata": {
      "needs_background": "light",
      "tags": []
     },
     "output_type": "display_data"
    }
   ],
   "source": [
    "#Plot the loss curve\n",
    "\n",
    "plt.figure(figsize=(7,5))\n",
    "plt.plot(range(len(train_loss)), train_loss)\n",
    "plt.xlabel(\"Iteration\")\n",
    "plt.ylabel(\"MSE\")\n",
    "plt.title(\"Loss curve for training\")\n",
    "plt.show()\n"
   ]
  },
  {
   "cell_type": "code",
   "execution_count": 50,
   "metadata": {
    "id": "wQKRuN8ut23C"
   },
   "outputs": [],
   "source": [
    "save_model = True\n",
    "if save_model is True:\n",
    "    torch.save(model.state_dict(), 'housing_FNN_pytorch_B_l2.pkl')# only save parameters"
   ]
  },
  {
   "cell_type": "markdown",
   "metadata": {
    "id": "tOQfnZq1t23G"
   },
   "source": [
    "### Model C: 3 Hidden Layers Feedforward Neural Network (LeakyReLU activation)"
   ]
  },
  {
   "cell_type": "markdown",
   "metadata": {
    "id": "MEQ783gkt23H"
   },
   "source": [
    "### Create model class"
   ]
  },
  {
   "cell_type": "code",
   "execution_count": 51,
   "metadata": {
    "colab": {
     "base_uri": "https://localhost:8080/"
    },
    "id": "DOJyf7GeSDlJ",
    "outputId": "af0c3c4b-f2ee-45b6-fd74-06d6b6fecb25"
   },
   "outputs": [
    {
     "name": "stdout",
     "output_type": "stream",
     "text": [
      "38\n"
     ]
    }
   ],
   "source": [
    "batch_size = 16\n",
    "n_iters = 40000\n",
    "num_epochs = n_iters / (len(train_data) / batch_size)\n",
    "num_epochs = int(num_epochs)\n",
    "print(num_epochs)"
   ]
  },
  {
   "cell_type": "code",
   "execution_count": 52,
   "metadata": {
    "id": "vT9evoJ5SDle"
   },
   "outputs": [],
   "source": [
    "train_loader = DataLoader(train_dataset, batch_size=batch_size, shuffle=True) # create your dataloader\n",
    "\n",
    "test_loader = DataLoader(test_dataset, batch_size=batch_size,  shuffle=False)"
   ]
  },
  {
   "cell_type": "code",
   "execution_count": 53,
   "metadata": {
    "id": "SfrBAAaut23H"
   },
   "outputs": [],
   "source": [
    "class FNN(nn.Module):\n",
    "    def __init__(self, input_dim, hidden_dim1,hidden_dim2,hidden_dim3, output_dim):\n",
    "        super(FNN, self).__init__()\n",
    "        \n",
    "        self.linear1 = nn.Linear(input_dim, hidden_dim1)\n",
    "        self.relu1 = nn.LeakyReLU()\n",
    "        self.linear2 = nn.Linear(hidden_dim1, hidden_dim2)\n",
    "        self.relu2 = nn.LeakyReLU()\n",
    "        self.linear3 = nn.Linear(hidden_dim2, hidden_dim3)\n",
    "        self.relu3 = nn.LeakyReLU()\n",
    "        self.linear4 = nn.Linear(hidden_dim3, output_dim)\n",
    "        \n",
    "    def forward(self, x):\n",
    "        out = self.linear1(x)\n",
    "        out = self.relu1(out)\n",
    "        out = self.linear2(out)\n",
    "        out = self.relu2(out)\n",
    "        out = self.linear3(out)\n",
    "        out = self.relu3(out)\n",
    "        out = self.linear4(out)\n",
    "        return out"
   ]
  },
  {
   "cell_type": "code",
   "execution_count": 54,
   "metadata": {
    "id": "5tJeNfKht23L"
   },
   "outputs": [],
   "source": [
    "input_dim = tensor_x.shape[1]\n",
    "output_dim = 1\n",
    "hidden_dim1 = 500\n",
    "hidden_dim2 = 1000\n",
    "hidden_dim3 = 100"
   ]
  },
  {
   "cell_type": "code",
   "execution_count": 55,
   "metadata": {
    "id": "N3fLjof7t23N"
   },
   "outputs": [],
   "source": [
    "model = FNN(input_dim, hidden_dim1,hidden_dim2,hidden_dim3, output_dim)\n",
    "\n",
    "#######################\n",
    "#  USE GPU FOR MODEL  #\n",
    "#######################\n",
    "if torch.cuda.is_available():\n",
    "    model.cuda()\n"
   ]
  },
  {
   "cell_type": "code",
   "execution_count": 56,
   "metadata": {
    "colab": {
     "base_uri": "https://localhost:8080/"
    },
    "id": "K375rRgHSSJL",
    "outputId": "27f1787a-13f5-4886-bc60-d8ce291ba7d5"
   },
   "outputs": [
    {
     "name": "stdout",
     "output_type": "stream",
     "text": [
      "----------------------------------------------------------------\n",
      "        Layer (type)               Output Shape         Param #\n",
      "================================================================\n",
      "            Linear-1               [-1, 1, 500]           6,500\n",
      "         LeakyReLU-2               [-1, 1, 500]               0\n",
      "            Linear-3              [-1, 1, 1000]         501,000\n",
      "         LeakyReLU-4              [-1, 1, 1000]               0\n",
      "            Linear-5               [-1, 1, 100]         100,100\n",
      "         LeakyReLU-6               [-1, 1, 100]               0\n",
      "            Linear-7                 [-1, 1, 1]             101\n",
      "================================================================\n",
      "Total params: 607,701\n",
      "Trainable params: 607,701\n",
      "Non-trainable params: 0\n",
      "----------------------------------------------------------------\n",
      "Input size (MB): 0.00\n",
      "Forward/backward pass size (MB): 0.02\n",
      "Params size (MB): 2.32\n",
      "Estimated Total Size (MB): 2.34\n",
      "----------------------------------------------------------------\n"
     ]
    }
   ],
   "source": [
    "summary(model, (1,tensor_x.shape[1]))"
   ]
  },
  {
   "cell_type": "code",
   "execution_count": 57,
   "metadata": {
    "id": "I2GP_E9ESSJV"
   },
   "outputs": [],
   "source": [
    "criterion = nn.MSELoss(reduction='sum')\n",
    "\n",
    "learning_rate = 0.0001\n",
    "LAMBDA = 0.08\n",
    "optimizer = torch.optim.SGD(model.parameters(), lr=learning_rate, weight_decay=LAMBDA)"
   ]
  },
  {
   "cell_type": "code",
   "execution_count": 58,
   "metadata": {
    "colab": {
     "base_uri": "https://localhost:8080/"
    },
    "id": "TTKd4IXFSSJg",
    "outputId": "54f7be72-9704-4288-c190-8390c2179482"
   },
   "outputs": [
    {
     "name": "stdout",
     "output_type": "stream",
     "text": [
      "Iteration: 500. Training Loss: 0.46467915177345276. Test Loss: 1.4899134635925293\n",
      "Iteration: 1000. Training Loss: 0.7538909912109375. Test Loss: 1.4159109592437744\n",
      "Iteration: 1500. Training Loss: 1.3516013622283936. Test Loss: 1.3674253225326538\n",
      "Iteration: 2000. Training Loss: 1.5755720138549805. Test Loss: 1.3155851364135742\n",
      "Iteration: 2500. Training Loss: 0.8613793849945068. Test Loss: 1.2730125188827515\n",
      "Iteration: 3000. Training Loss: 0.5130013227462769. Test Loss: 1.2154728174209595\n",
      "Iteration: 3500. Training Loss: 0.3315894603729248. Test Loss: 1.1655049324035645\n",
      "Iteration: 4000. Training Loss: 0.48518192768096924. Test Loss: 1.112382173538208\n",
      "Iteration: 4500. Training Loss: 0.8902237415313721. Test Loss: 1.0564403533935547\n",
      "Iteration: 5000. Training Loss: 0.8662206530570984. Test Loss: 0.9999403357505798\n",
      "Iteration: 5500. Training Loss: 0.5740669369697571. Test Loss: 0.9385604858398438\n",
      "Iteration: 6000. Training Loss: 1.0364590883255005. Test Loss: 0.8831520080566406\n",
      "Iteration: 6500. Training Loss: 0.8940241932868958. Test Loss: 0.8205990791320801\n",
      "Iteration: 7000. Training Loss: 0.5614476203918457. Test Loss: 0.7653944492340088\n",
      "Iteration: 7500. Training Loss: 0.5228708982467651. Test Loss: 0.7026790380477905\n",
      "Iteration: 8000. Training Loss: 0.48996037244796753. Test Loss: 0.644089937210083\n",
      "Iteration: 8500. Training Loss: 0.4265751838684082. Test Loss: 0.5868966579437256\n",
      "Iteration: 9000. Training Loss: 0.6246570348739624. Test Loss: 0.5342215895652771\n",
      "Iteration: 9500. Training Loss: 0.45402154326438904. Test Loss: 0.4856416583061218\n",
      "Iteration: 10000. Training Loss: 0.4998875856399536. Test Loss: 0.441037654876709\n",
      "Iteration: 10500. Training Loss: 0.7837752103805542. Test Loss: 0.40592148900032043\n",
      "Iteration: 11000. Training Loss: 0.21229754388332367. Test Loss: 0.3730599880218506\n",
      "Iteration: 11500. Training Loss: 0.3632221817970276. Test Loss: 0.3453444838523865\n",
      "Iteration: 12000. Training Loss: 0.6283164024353027. Test Loss: 0.31889063119888306\n",
      "Iteration: 12500. Training Loss: 0.3664475083351135. Test Loss: 0.297602117061615\n",
      "Iteration: 13000. Training Loss: 0.16047930717468262. Test Loss: 0.2783902883529663\n",
      "Iteration: 13500. Training Loss: 0.20530766248703003. Test Loss: 0.2683867812156677\n",
      "Iteration: 14000. Training Loss: 0.5648790597915649. Test Loss: 0.2491218000650406\n",
      "Iteration: 14500. Training Loss: 0.2614835500717163. Test Loss: 0.253431499004364\n",
      "Iteration: 15000. Training Loss: 0.368452250957489. Test Loss: 0.23392608761787415\n",
      "Iteration: 15500. Training Loss: 0.5249019265174866. Test Loss: 0.2411903440952301\n",
      "Iteration: 16000. Training Loss: 0.22031879425048828. Test Loss: 0.23143795132637024\n",
      "Iteration: 16500. Training Loss: 0.29626601934432983. Test Loss: 0.2240809053182602\n",
      "Iteration: 17000. Training Loss: 0.15770094096660614. Test Loss: 0.21833613514900208\n",
      "Iteration: 17500. Training Loss: 0.48710718750953674. Test Loss: 0.23331227898597717\n",
      "Iteration: 18000. Training Loss: 0.23273979127407074. Test Loss: 0.23420289158821106\n",
      "Iteration: 18500. Training Loss: 0.32295718789100647. Test Loss: 0.2138485610485077\n",
      "Iteration: 19000. Training Loss: 0.4421499967575073. Test Loss: 0.21912622451782227\n",
      "Iteration: 19500. Training Loss: 0.34895673394203186. Test Loss: 0.21533119678497314\n",
      "Iteration: 20000. Training Loss: 0.16082081198692322. Test Loss: 0.2095981389284134\n",
      "Iteration: 20500. Training Loss: 0.2118293046951294. Test Loss: 0.20573462545871735\n",
      "Iteration: 21000. Training Loss: 0.23931947350502014. Test Loss: 0.21652621030807495\n",
      "Iteration: 21500. Training Loss: 0.4325428605079651. Test Loss: 0.2013920396566391\n",
      "Iteration: 22000. Training Loss: 0.5435328483581543. Test Loss: 0.21919749677181244\n",
      "Iteration: 22500. Training Loss: 0.4952668845653534. Test Loss: 0.21509946882724762\n",
      "Iteration: 23000. Training Loss: 0.6488585472106934. Test Loss: 0.21355974674224854\n",
      "Iteration: 23500. Training Loss: 0.23517435789108276. Test Loss: 0.21430477499961853\n",
      "Iteration: 24000. Training Loss: 0.26463592052459717. Test Loss: 0.20897486805915833\n",
      "Iteration: 24500. Training Loss: 0.43785929679870605. Test Loss: 0.2063881754875183\n",
      "Iteration: 25000. Training Loss: 0.28058066964149475. Test Loss: 0.20683541893959045\n",
      "Iteration: 25500. Training Loss: 0.8235154747962952. Test Loss: 0.1968199908733368\n",
      "Iteration: 26000. Training Loss: 0.47077706456184387. Test Loss: 0.20677503943443298\n",
      "Iteration: 26500. Training Loss: 0.23651309311389923. Test Loss: 0.20392581820487976\n",
      "Iteration: 27000. Training Loss: 0.43544551730155945. Test Loss: 0.19677600264549255\n",
      "Iteration: 27500. Training Loss: 0.24274158477783203. Test Loss: 0.21461521089076996\n",
      "Iteration: 28000. Training Loss: 0.10204418748617172. Test Loss: 0.1955115646123886\n",
      "Iteration: 28500. Training Loss: 0.19989752769470215. Test Loss: 0.20732299983501434\n",
      "Iteration: 29000. Training Loss: 0.7020179033279419. Test Loss: 0.20299912989139557\n",
      "Iteration: 29500. Training Loss: 0.38637134432792664. Test Loss: 0.19435980916023254\n",
      "Iteration: 30000. Training Loss: 0.15870846807956696. Test Loss: 0.20363377034664154\n",
      "Iteration: 30500. Training Loss: 0.12836219370365143. Test Loss: 0.20357054471969604\n",
      "Iteration: 31000. Training Loss: 0.4384016990661621. Test Loss: 0.1992683708667755\n",
      "Iteration: 31500. Training Loss: 0.08530019968748093. Test Loss: 0.19599123299121857\n",
      "Iteration: 32000. Training Loss: 0.2548973560333252. Test Loss: 0.209252268075943\n",
      "Iteration: 32500. Training Loss: 0.20377589762210846. Test Loss: 0.1956031769514084\n",
      "Iteration: 33000. Training Loss: 0.323312908411026. Test Loss: 0.1887401044368744\n",
      "Iteration: 33500. Training Loss: 0.1911194622516632. Test Loss: 0.18854844570159912\n",
      "Iteration: 34000. Training Loss: 0.46289223432540894. Test Loss: 0.20214353501796722\n",
      "Iteration: 34500. Training Loss: 0.5366731286048889. Test Loss: 0.19048082828521729\n",
      "Iteration: 35000. Training Loss: 0.1791159212589264. Test Loss: 0.2026723027229309\n",
      "Iteration: 35500. Training Loss: 0.19360288977622986. Test Loss: 0.19406424462795258\n",
      "Iteration: 36000. Training Loss: 0.17914417386054993. Test Loss: 0.19275572896003723\n",
      "Iteration: 36500. Training Loss: 0.4757091999053955. Test Loss: 0.1886310875415802\n",
      "Iteration: 37000. Training Loss: 0.4665710926055908. Test Loss: 0.1914897859096527\n",
      "Iteration: 37500. Training Loss: 0.2780262231826782. Test Loss: 0.18484845757484436\n",
      "Iteration: 38000. Training Loss: 0.2507784962654114. Test Loss: 0.1957060992717743\n",
      "Iteration: 38500. Training Loss: 0.6597611308097839. Test Loss: 0.19528338313102722\n",
      "Iteration: 39000. Training Loss: 0.5820042490959167. Test Loss: 0.19996674358844757\n"
     ]
    }
   ],
   "source": [
    "# Train the model\n",
    "\n",
    "train_loss = []\n",
    "\n",
    "iter = 0\n",
    "for epoch in range(num_epochs):\n",
    "    \n",
    "    '''\n",
    "    One iteration\n",
    "    '''\n",
    "    for i, (X, labels) in enumerate(train_loader):\n",
    "        #######################\n",
    "        #  USE GPU FOR MODEL  #\n",
    "        #######################\n",
    "        if torch.cuda.is_available():\n",
    "            X = Variable(X.cuda())\n",
    "            labels = Variable(labels.cuda())\n",
    "        else:\n",
    "            X = Variable(X)\n",
    "            labels = Variable(labels)\n",
    "        \n",
    "        # Forward pass to get output/logits\n",
    "        outputs = model(X)\n",
    "        \n",
    "        # Clear gradients w.r.t. parameters\n",
    "        optimizer.zero_grad()\n",
    "        \n",
    "        # Calculate Loss:\n",
    "        loss = criterion(outputs, labels)\n",
    "                \n",
    "        '''\n",
    "        Save loss to draw loss curve\n",
    "        '''\n",
    "        train_loss.append(loss)\n",
    "        ''''''\n",
    "\n",
    "        # Getting gradients w.r.t. parameters\n",
    "        loss.backward()\n",
    "        \n",
    "        # Updating parameters\n",
    "        optimizer.step()\n",
    "        ''''''\n",
    "        \n",
    "        iter += 1\n",
    "    \n",
    "        # Testing the model\n",
    "        if iter % 500 == 0:\n",
    "            # Iterate through test dataset\n",
    "            for X, labels in test_loader:\n",
    "                #######################\n",
    "                #  USE GPU FOR MODEL  #\n",
    "                #######################\n",
    "                if torch.cuda.is_available():\n",
    "                    X = Variable(X.cuda())\n",
    "                else:\n",
    "                    X = Variable(X)    \n",
    "                    \n",
    "                # Forward pass only to get logits/output\n",
    "                outputs = model(X)\n",
    "                \n",
    "                # Calculate Loss:\n",
    "                loss_t = criterion(outputs, labels)\n",
    "                \n",
    "            # Print Loss\n",
    "            print('Iteration: {}. Training Loss: {}. Test Loss: {}'.format(iter, loss.data, loss_t.data))\n",
    "            "
   ]
  },
  {
   "cell_type": "code",
   "execution_count": 59,
   "metadata": {
    "colab": {
     "base_uri": "https://localhost:8080/",
     "height": 350
    },
    "id": "eC9_eOh1SSJk",
    "outputId": "058eb326-b97c-418c-e175-c626fbbdd883"
   },
   "outputs": [
    {
     "data": {
      "image/png": "[encoded data removed]",
      "text/plain": [
       "<Figure size 504x360 with 1 Axes>"
      ]
     },
     "metadata": {
      "needs_background": "light",
      "tags": []
     },
     "output_type": "display_data"
    }
   ],
   "source": [
    "#Plot the loss curve\n",
    "\n",
    "plt.figure(figsize=(7,5))\n",
    "plt.plot(range(len(train_loss)), train_loss)\n",
    "plt.xlabel(\"Iteration\")\n",
    "plt.ylabel(\"MSE\")\n",
    "plt.title(\"Loss curve for training\")\n",
    "plt.show()"
   ]
  },
  {
   "cell_type": "code",
   "execution_count": 60,
   "metadata": {
    "id": "x7nFSZLGt23U"
   },
   "outputs": [],
   "source": [
    "save_model = True\n",
    "if save_model is True:\n",
    "    torch.save(model.state_dict(), 'housing_FNN_pytorch_C_l2.pkl')# only save parameters"
   ]
  },
  {
   "cell_type": "markdown",
   "metadata": {
    "id": "yaZQCztQt23X"
   },
   "source": [
    "### Model D: 5 Hidden Layers Feedforward Neural Network"
   ]
  },
  {
   "cell_type": "markdown",
   "metadata": {
    "id": "fTwN43swt23X"
   },
   "source": [
    "### Create model class"
   ]
  },
  {
   "cell_type": "code",
   "execution_count": 61,
   "metadata": {
    "colab": {
     "base_uri": "https://localhost:8080/"
    },
    "id": "DwEMBCvRTd2F",
    "outputId": "acd814ff-dd85-4914-a16f-d3b75e5b7ddb"
   },
   "outputs": [
    {
     "name": "stdout",
     "output_type": "stream",
     "text": [
      "38\n"
     ]
    }
   ],
   "source": [
    "batch_size = 16\n",
    "n_iters = 40000\n",
    "num_epochs = n_iters / (len(train_data) / batch_size)\n",
    "num_epochs = int(num_epochs)\n",
    "print(num_epochs)"
   ]
  },
  {
   "cell_type": "code",
   "execution_count": 62,
   "metadata": {
    "id": "EWAi8OgYTd2W"
   },
   "outputs": [],
   "source": [
    "train_loader = DataLoader(train_dataset, batch_size=batch_size, shuffle=True) # create your dataloader\n",
    "\n",
    "test_loader = DataLoader(test_dataset, batch_size=batch_size,  shuffle=False)"
   ]
  },
  {
   "cell_type": "code",
   "execution_count": 63,
   "metadata": {
    "id": "qiy2bMm3t23Y"
   },
   "outputs": [],
   "source": [
    "class FNN(nn.Module):\n",
    "    def __init__(self, input_dim, hidden_dim1, hidden_dim2, hidden_dim3, hidden_dim4, hidden_dim5, output_dim):\n",
    "        super(FNN, self).__init__()\n",
    "        \n",
    "        self.linear1 = nn.Linear(input_dim, hidden_dim1)\n",
    "        self.relu1 = nn.ReLU()\n",
    "        self.linear2 = nn.Linear(hidden_dim1, hidden_dim2)\n",
    "        self.relu2 = nn.ReLU()\n",
    "        self.linear3 = nn.Linear(hidden_dim2, hidden_dim3)\n",
    "        self.relu3 = nn.ReLU()\n",
    "        self.linear4 = nn.Linear(hidden_dim3, hidden_dim4)\n",
    "        self.relu4 = nn.ReLU()\n",
    "        self.linear5 = nn.Linear(hidden_dim4, hidden_dim5)\n",
    "        self.relu5 = nn.ReLU()\n",
    "        self.linear6 = nn.Linear(hidden_dim5, output_dim)\n",
    "        \n",
    "    def forward(self, x):\n",
    "        out = self.linear1(x)\n",
    "        out = self.relu1(out)\n",
    "        out = self.linear2(out)\n",
    "        out = self.relu2(out)\n",
    "        out = self.linear3(out)\n",
    "        out = self.relu3(out)\n",
    "        out = self.linear4(out)\n",
    "        out = self.relu4(out)\n",
    "        out = self.linear5(out)\n",
    "        out = self.relu5(out)\n",
    "        out = self.linear6(out)\n",
    "        return out\n",
    "    "
   ]
  },
  {
   "cell_type": "code",
   "execution_count": 64,
   "metadata": {
    "id": "klKbbQmat23a"
   },
   "outputs": [],
   "source": [
    "input_dim = tensor_x.shape[1]\n",
    "output_dim = 1\n",
    "hidden_dim1 = 500\n",
    "hidden_dim2 = 1000\n",
    "hidden_dim3 = 200\n",
    "hidden_dim4 = 100\n",
    "hidden_dim5 = 10"
   ]
  },
  {
   "cell_type": "code",
   "execution_count": 65,
   "metadata": {
    "id": "J4arjsYEt23d"
   },
   "outputs": [],
   "source": [
    "model = FNN(input_dim, hidden_dim1,hidden_dim2,hidden_dim3,hidden_dim4,hidden_dim5, output_dim)\n",
    "\n",
    "#######################\n",
    "#  USE GPU FOR MODEL  #\n",
    "#######################\n",
    "if torch.cuda.is_available():\n",
    "    model.cuda()\n"
   ]
  },
  {
   "cell_type": "code",
   "execution_count": 66,
   "metadata": {
    "colab": {
     "base_uri": "https://localhost:8080/"
    },
    "id": "rP2aQsozT26b",
    "outputId": "a191d5f5-6f7e-4971-8e68-52454d91e6aa"
   },
   "outputs": [
    {
     "name": "stdout",
     "output_type": "stream",
     "text": [
      "----------------------------------------------------------------\n",
      "        Layer (type)               Output Shape         Param #\n",
      "================================================================\n",
      "            Linear-1               [-1, 1, 500]           6,500\n",
      "              ReLU-2               [-1, 1, 500]               0\n",
      "            Linear-3              [-1, 1, 1000]         501,000\n",
      "              ReLU-4              [-1, 1, 1000]               0\n",
      "            Linear-5               [-1, 1, 200]         200,200\n",
      "              ReLU-6               [-1, 1, 200]               0\n",
      "            Linear-7               [-1, 1, 100]          20,100\n",
      "              ReLU-8               [-1, 1, 100]               0\n",
      "            Linear-9                [-1, 1, 10]           1,010\n",
      "             ReLU-10                [-1, 1, 10]               0\n",
      "           Linear-11                 [-1, 1, 1]              11\n",
      "================================================================\n",
      "Total params: 728,821\n",
      "Trainable params: 728,821\n",
      "Non-trainable params: 0\n",
      "----------------------------------------------------------------\n",
      "Input size (MB): 0.00\n",
      "Forward/backward pass size (MB): 0.03\n",
      "Params size (MB): 2.78\n",
      "Estimated Total Size (MB): 2.81\n",
      "----------------------------------------------------------------\n"
     ]
    }
   ],
   "source": [
    "summary(model, (1,tensor_x.shape[1]))"
   ]
  },
  {
   "cell_type": "code",
   "execution_count": 67,
   "metadata": {
    "id": "Th-9PisLT26t"
   },
   "outputs": [],
   "source": [
    "criterion = nn.MSELoss(reduction='sum')\n",
    "\n",
    "learning_rate = 0.001\n",
    "LAMBDA = 0.001\n",
    "optimizer = torch.optim.SGD(model.parameters(), lr=learning_rate, weight_decay=LAMBDA)"
   ]
  },
  {
   "cell_type": "code",
   "execution_count": 68,
   "metadata": {
    "colab": {
     "base_uri": "https://localhost:8080/"
    },
    "id": "g2QuNnVYT260",
    "outputId": "3a4117f0-9034-441c-f828-24c5ba35cfbf"
   },
   "outputs": [
    {
     "name": "stdout",
     "output_type": "stream",
     "text": [
      "Iteration: 500. Training Loss: 0.6620798110961914. Test Loss: 1.5132237672805786\n",
      "Iteration: 1000. Training Loss: 1.2192797660827637. Test Loss: 1.4831407070159912\n",
      "Iteration: 1500. Training Loss: 1.0602871179580688. Test Loss: 1.449840784072876\n",
      "Iteration: 2000. Training Loss: 0.9160999059677124. Test Loss: 1.3953616619110107\n",
      "Iteration: 2500. Training Loss: 0.45973730087280273. Test Loss: 1.3004310131072998\n",
      "Iteration: 3000. Training Loss: 0.8752965927124023. Test Loss: 1.0321450233459473\n",
      "Iteration: 3500. Training Loss: 0.3504965901374817. Test Loss: 0.42577266693115234\n",
      "Iteration: 4000. Training Loss: 0.5312381982803345. Test Loss: 0.17760756611824036\n",
      "Iteration: 4500. Training Loss: 0.3385029733181. Test Loss: 0.201055645942688\n",
      "Iteration: 5000. Training Loss: 0.39469802379608154. Test Loss: 0.1731964498758316\n",
      "Iteration: 5500. Training Loss: 0.1621721088886261. Test Loss: 0.14211571216583252\n",
      "Iteration: 6000. Training Loss: 0.18979772925376892. Test Loss: 0.13436710834503174\n",
      "Iteration: 6500. Training Loss: 0.20887356996536255. Test Loss: 0.17693199217319489\n",
      "Iteration: 7000. Training Loss: 0.18294954299926758. Test Loss: 0.13516761362552643\n",
      "Iteration: 7500. Training Loss: 0.31835517287254333. Test Loss: 0.158761128783226\n",
      "Iteration: 8000. Training Loss: 0.4716385006904602. Test Loss: 0.14925463497638702\n",
      "Iteration: 8500. Training Loss: 0.4563060998916626. Test Loss: 0.17420247197151184\n",
      "Iteration: 9000. Training Loss: 0.2844933271408081. Test Loss: 0.16389106214046478\n",
      "Iteration: 9500. Training Loss: 0.738883376121521. Test Loss: 0.17737054824829102\n",
      "Iteration: 10000. Training Loss: 0.49479377269744873. Test Loss: 0.15001504123210907\n",
      "Iteration: 10500. Training Loss: 0.19012625515460968. Test Loss: 0.16052675247192383\n",
      "Iteration: 11000. Training Loss: 0.41664302349090576. Test Loss: 0.14601650834083557\n",
      "Iteration: 11500. Training Loss: 0.25413239002227783. Test Loss: 0.15110136568546295\n",
      "Iteration: 12000. Training Loss: 0.17423607409000397. Test Loss: 0.12901419401168823\n",
      "Iteration: 12500. Training Loss: 0.09366214275360107. Test Loss: 0.14299136400222778\n",
      "Iteration: 13000. Training Loss: 0.8419842720031738. Test Loss: 0.23655715584754944\n",
      "Iteration: 13500. Training Loss: 0.20390743017196655. Test Loss: 0.15029287338256836\n",
      "Iteration: 14000. Training Loss: 0.5183559656143188. Test Loss: 0.14349737763404846\n",
      "Iteration: 14500. Training Loss: 0.616033673286438. Test Loss: 0.21850836277008057\n",
      "Iteration: 15000. Training Loss: 0.34482240676879883. Test Loss: 0.12598036229610443\n",
      "Iteration: 15500. Training Loss: 0.39722663164138794. Test Loss: 0.17747318744659424\n",
      "Iteration: 16000. Training Loss: 0.06922531872987747. Test Loss: 0.13733722269535065\n",
      "Iteration: 16500. Training Loss: 0.12703612446784973. Test Loss: 0.14036695659160614\n",
      "Iteration: 17000. Training Loss: 0.3402888774871826. Test Loss: 0.12990054488182068\n",
      "Iteration: 17500. Training Loss: 0.1713217794895172. Test Loss: 0.13205081224441528\n",
      "Iteration: 18000. Training Loss: 0.1086680218577385. Test Loss: 0.12427923828363419\n",
      "Iteration: 18500. Training Loss: 0.7330600023269653. Test Loss: 0.1535557061433792\n",
      "Iteration: 19000. Training Loss: 0.09590445458889008. Test Loss: 0.1789780557155609\n",
      "Iteration: 19500. Training Loss: 0.14300431311130524. Test Loss: 0.11320334672927856\n",
      "Iteration: 20000. Training Loss: 0.3214384913444519. Test Loss: 0.11767005920410156\n",
      "Iteration: 20500. Training Loss: 0.6317943930625916. Test Loss: 0.12341482937335968\n",
      "Iteration: 21000. Training Loss: 0.1663430631160736. Test Loss: 0.12091333419084549\n",
      "Iteration: 21500. Training Loss: 0.5372682809829712. Test Loss: 0.18986278772354126\n",
      "Iteration: 22000. Training Loss: 0.07156795263290405. Test Loss: 0.11136183142662048\n",
      "Iteration: 22500. Training Loss: 0.19969403743743896. Test Loss: 0.11540231108665466\n",
      "Iteration: 23000. Training Loss: 0.3476528227329254. Test Loss: 0.13285242021083832\n",
      "Iteration: 23500. Training Loss: 0.31820857524871826. Test Loss: 0.169705331325531\n",
      "Iteration: 24000. Training Loss: 0.2433580756187439. Test Loss: 0.12466152012348175\n",
      "Iteration: 24500. Training Loss: 0.17342177033424377. Test Loss: 0.13439908623695374\n",
      "Iteration: 25000. Training Loss: 0.10435757040977478. Test Loss: 0.1144951730966568\n",
      "Iteration: 25500. Training Loss: 0.14802630245685577. Test Loss: 0.13202247023582458\n",
      "Iteration: 26000. Training Loss: 0.10196052491664886. Test Loss: 0.12688128650188446\n",
      "Iteration: 26500. Training Loss: 0.3051779568195343. Test Loss: 0.13030366599559784\n",
      "Iteration: 27000. Training Loss: 0.15304508805274963. Test Loss: 0.14812031388282776\n",
      "Iteration: 27500. Training Loss: 0.41206204891204834. Test Loss: 0.274372935295105\n",
      "Iteration: 28000. Training Loss: 0.37103337049484253. Test Loss: 0.11770133674144745\n",
      "Iteration: 28500. Training Loss: 0.6541996002197266. Test Loss: 0.1806480586528778\n",
      "Iteration: 29000. Training Loss: 0.3820990025997162. Test Loss: 0.1186244934797287\n",
      "Iteration: 29500. Training Loss: 0.2664048671722412. Test Loss: 0.1501971185207367\n",
      "Iteration: 30000. Training Loss: 0.5172979831695557. Test Loss: 0.20322373509407043\n",
      "Iteration: 30500. Training Loss: 0.06969685852527618. Test Loss: 0.10685326159000397\n",
      "Iteration: 31000. Training Loss: 0.3858702778816223. Test Loss: 0.11833164095878601\n",
      "Iteration: 31500. Training Loss: 0.4940846562385559. Test Loss: 0.11397476494312286\n",
      "Iteration: 32000. Training Loss: 0.25985291600227356. Test Loss: 0.12477781623601913\n",
      "Iteration: 32500. Training Loss: 0.19054856896400452. Test Loss: 0.14277181029319763\n",
      "Iteration: 33000. Training Loss: 0.09718874096870422. Test Loss: 0.11115821450948715\n",
      "Iteration: 33500. Training Loss: 0.057594671845436096. Test Loss: 0.10272833704948425\n",
      "Iteration: 34000. Training Loss: 0.7011347413063049. Test Loss: 0.13819611072540283\n",
      "Iteration: 34500. Training Loss: 0.5055239200592041. Test Loss: 0.1069263443350792\n",
      "Iteration: 35000. Training Loss: 0.29723986983299255. Test Loss: 0.18682420253753662\n",
      "Iteration: 35500. Training Loss: 0.7664915919303894. Test Loss: 0.11192472279071808\n",
      "Iteration: 36000. Training Loss: 0.2788836658000946. Test Loss: 0.1566600799560547\n",
      "Iteration: 36500. Training Loss: 0.0637764185667038. Test Loss: 0.10356878489255905\n",
      "Iteration: 37000. Training Loss: 0.13719919323921204. Test Loss: 0.12440261989831924\n",
      "Iteration: 37500. Training Loss: 0.3457757830619812. Test Loss: 0.09752781689167023\n",
      "Iteration: 38000. Training Loss: 0.1476515531539917. Test Loss: 0.13454212248325348\n",
      "Iteration: 38500. Training Loss: 0.07620295137166977. Test Loss: 0.10888335853815079\n",
      "Iteration: 39000. Training Loss: 0.1358053982257843. Test Loss: 0.10747689008712769\n"
     ]
    }
   ],
   "source": [
    "# Train the model\n",
    "\n",
    "train_loss = []\n",
    "\n",
    "iter = 0\n",
    "for epoch in range(num_epochs):\n",
    "    \n",
    "    '''\n",
    "    One iteration\n",
    "    '''\n",
    "    for i, (X, labels) in enumerate(train_loader):\n",
    "        #######################\n",
    "        #  USE GPU FOR MODEL  #\n",
    "        #######################\n",
    "        if torch.cuda.is_available():\n",
    "            X = Variable(X.cuda())\n",
    "            labels = Variable(labels.cuda())\n",
    "        else:\n",
    "            X = Variable(X)\n",
    "            labels = Variable(labels)\n",
    "        \n",
    "        # Forward pass to get output/logits\n",
    "        outputs = model(X)\n",
    "        \n",
    "        # Clear gradients w.r.t. parameters\n",
    "        optimizer.zero_grad()\n",
    "        \n",
    "        # Calculate Loss:\n",
    "        loss = criterion(outputs, labels)\n",
    "                \n",
    "        '''\n",
    "        Save loss to draw loss curve\n",
    "        '''\n",
    "        train_loss.append(loss)\n",
    "        ''''''\n",
    "\n",
    "        # Getting gradients w.r.t. parameters\n",
    "        loss.backward()\n",
    "        \n",
    "        # Updating parameters\n",
    "        optimizer.step()\n",
    "        ''''''\n",
    "        \n",
    "        iter += 1\n",
    "    \n",
    "        # Testing the model\n",
    "        if iter % 500 == 0:\n",
    "            # Iterate through test dataset\n",
    "            for X, labels in test_loader:\n",
    "                #######################\n",
    "                #  USE GPU FOR MODEL  #\n",
    "                #######################\n",
    "                if torch.cuda.is_available():\n",
    "                    X = Variable(X.cuda())\n",
    "                else:\n",
    "                    X = Variable(X)    \n",
    "                    \n",
    "                # Forward pass only to get logits/output\n",
    "                outputs = model(X)\n",
    "                \n",
    "                # Calculate Loss:\n",
    "                loss_t = criterion(outputs, labels)\n",
    "                \n",
    "            # Print Loss\n",
    "            print('Iteration: {}. Training Loss: {}. Test Loss: {}'.format(iter, loss.data, loss_t.data))\n",
    "            "
   ]
  },
  {
   "cell_type": "code",
   "execution_count": 69,
   "metadata": {
    "colab": {
     "base_uri": "https://localhost:8080/",
     "height": 350
    },
    "id": "up97TX9gT262",
    "outputId": "680c9587-f40a-46a8-f847-83c73db35557"
   },
   "outputs": [
    {
     "data": {
      "image/png": "[encoded data removed]",
      "text/plain": [
       "<Figure size 504x360 with 1 Axes>"
      ]
     },
     "metadata": {
      "needs_background": "light",
      "tags": []
     },
     "output_type": "display_data"
    }
   ],
   "source": [
    "#Plot the loss curve\n",
    "\n",
    "plt.figure(figsize=(7,5))\n",
    "plt.plot(range(len(train_loss)), train_loss)\n",
    "plt.xlabel(\"Iteration\")\n",
    "plt.ylabel(\"MSE\")\n",
    "plt.title(\"Loss curve for training\")\n",
    "plt.show()"
   ]
  },
  {
   "cell_type": "code",
   "execution_count": 70,
   "metadata": {
    "id": "mvpN8VHYt23l"
   },
   "outputs": [],
   "source": [
    "save_model = True\n",
    "if save_model is True:\n",
    "    torch.save(model.state_dict(), 'housing_FNN_pytorch_D_l2.pkl')# only save parameters"
   ]
  },
  {
   "cell_type": "markdown",
   "metadata": {
    "id": "9BuhtUmpolQ7"
   },
   "source": [
    "## L1 regularization"
   ]
  },
  {
   "cell_type": "markdown",
   "metadata": {
    "id": "bzmiJFPieT_X"
   },
   "source": [
    "### Model C: 3 Hidden Layers Feedforward Neural Network (LeakyReLU activation)"
   ]
  },
  {
   "cell_type": "markdown",
   "metadata": {
    "id": "_7Va7bA0eT_X"
   },
   "source": [
    "### Create model class"
   ]
  },
  {
   "cell_type": "code",
   "execution_count": 71,
   "metadata": {
    "colab": {
     "base_uri": "https://localhost:8080/"
    },
    "id": "Wr5P-rapeT_Y",
    "outputId": "88d4ee39-ec16-4ccd-81e0-a7ec09721ae0"
   },
   "outputs": [
    {
     "name": "stdout",
     "output_type": "stream",
     "text": [
      "38\n"
     ]
    }
   ],
   "source": [
    "batch_size = 16\n",
    "n_iters = 40000\n",
    "num_epochs = n_iters / (len(train_data) / batch_size)\n",
    "num_epochs = int(num_epochs)\n",
    "print(num_epochs)"
   ]
  },
  {
   "cell_type": "code",
   "execution_count": 72,
   "metadata": {
    "id": "lnG-ldoWeT_Z"
   },
   "outputs": [],
   "source": [
    "train_loader = DataLoader(train_dataset, batch_size=batch_size, shuffle=True) # create your dataloader\n",
    "\n",
    "test_loader = DataLoader(test_dataset, batch_size=batch_size,  shuffle=False)"
   ]
  },
  {
   "cell_type": "code",
   "execution_count": 73,
   "metadata": {
    "id": "CnHB40sdeT_b"
   },
   "outputs": [],
   "source": [
    "class FNN(nn.Module):\n",
    "    def __init__(self, input_dim, hidden_dim1,hidden_dim2,hidden_dim3, output_dim):\n",
    "        super(FNN, self).__init__()\n",
    "        \n",
    "        self.linear1 = nn.Linear(input_dim, hidden_dim1)\n",
    "        self.relu1 = nn.LeakyReLU()\n",
    "        self.linear2 = nn.Linear(hidden_dim1, hidden_dim2)\n",
    "        self.relu2 = nn.LeakyReLU()\n",
    "        self.linear3 = nn.Linear(hidden_dim2, hidden_dim3)\n",
    "        self.relu3 = nn.LeakyReLU()\n",
    "        self.linear4 = nn.Linear(hidden_dim3, output_dim)\n",
    "        \n",
    "    def forward(self, x):\n",
    "        out = self.linear1(x)\n",
    "        out = self.relu1(out)\n",
    "        out = self.linear2(out)\n",
    "        out = self.relu2(out)\n",
    "        out = self.linear3(out)\n",
    "        out = self.relu3(out)\n",
    "        out = self.linear4(out)\n",
    "        return out"
   ]
  },
  {
   "cell_type": "code",
   "execution_count": 74,
   "metadata": {
    "id": "NTP6IheMeT_d"
   },
   "outputs": [],
   "source": [
    "input_dim = tensor_x.shape[1]\n",
    "output_dim = 1\n",
    "hidden_dim1 = 500\n",
    "hidden_dim2 = 1000\n",
    "hidden_dim3 = 100"
   ]
  },
  {
   "cell_type": "code",
   "execution_count": 75,
   "metadata": {
    "id": "_75_PAVqeT_f"
   },
   "outputs": [],
   "source": [
    "model = FNN(input_dim, hidden_dim1,hidden_dim2,hidden_dim3, output_dim)\n",
    "\n",
    "#######################\n",
    "#  USE GPU FOR MODEL  #\n",
    "#######################\n",
    "if torch.cuda.is_available():\n",
    "    model.cuda()\n"
   ]
  },
  {
   "cell_type": "code",
   "execution_count": 76,
   "metadata": {
    "colab": {
     "base_uri": "https://localhost:8080/"
    },
    "id": "itI3S-84eT_h",
    "outputId": "7ac59206-5fd6-4b60-dea3-5f34dc2af64d"
   },
   "outputs": [
    {
     "name": "stdout",
     "output_type": "stream",
     "text": [
      "----------------------------------------------------------------\n",
      "        Layer (type)               Output Shape         Param #\n",
      "================================================================\n",
      "            Linear-1               [-1, 1, 500]           6,500\n",
      "         LeakyReLU-2               [-1, 1, 500]               0\n",
      "            Linear-3              [-1, 1, 1000]         501,000\n",
      "         LeakyReLU-4              [-1, 1, 1000]               0\n",
      "            Linear-5               [-1, 1, 100]         100,100\n",
      "         LeakyReLU-6               [-1, 1, 100]               0\n",
      "            Linear-7                 [-1, 1, 1]             101\n",
      "================================================================\n",
      "Total params: 607,701\n",
      "Trainable params: 607,701\n",
      "Non-trainable params: 0\n",
      "----------------------------------------------------------------\n",
      "Input size (MB): 0.00\n",
      "Forward/backward pass size (MB): 0.02\n",
      "Params size (MB): 2.32\n",
      "Estimated Total Size (MB): 2.34\n",
      "----------------------------------------------------------------\n"
     ]
    }
   ],
   "source": [
    "summary(model, (1,tensor_x.shape[1]))"
   ]
  },
  {
   "cell_type": "code",
   "execution_count": 77,
   "metadata": {
    "id": "-rmOiJw1eT_i"
   },
   "outputs": [],
   "source": [
    "criterion = nn.MSELoss(reduction='sum')\n",
    "\n",
    "learning_rate = 0.001\n",
    "optimizer = torch.optim.SGD(model.parameters(), lr=learning_rate)"
   ]
  },
  {
   "cell_type": "code",
   "execution_count": 78,
   "metadata": {
    "colab": {
     "base_uri": "https://localhost:8080/"
    },
    "id": "Tv_pxlEteT_m",
    "outputId": "2365b9bb-e1c8-415a-c5e8-45e0794d6b1f"
   },
   "outputs": [
    {
     "name": "stdout",
     "output_type": "stream",
     "text": [
      "Iteration: 500. Training Loss: 6868.06884765625. Test Loss: 0.9095872640609741\n",
      "Iteration: 1000. Training Loss: 6871.48876953125. Test Loss: 0.30802541971206665\n",
      "Iteration: 1500. Training Loss: 6873.83544921875. Test Loss: 0.2532705068588257\n",
      "Iteration: 2000. Training Loss: 6874.9970703125. Test Loss: 0.21095658838748932\n",
      "Iteration: 2500. Training Loss: 6874.8720703125. Test Loss: 0.16493752598762512\n",
      "Iteration: 3000. Training Loss: 6875.146484375. Test Loss: 0.15666328370571136\n",
      "Iteration: 3500. Training Loss: 6876.2333984375. Test Loss: 0.15204669535160065\n",
      "Iteration: 4000. Training Loss: 6876.1484375. Test Loss: 0.14821654558181763\n",
      "Iteration: 4500. Training Loss: 6876.890625. Test Loss: 0.1669633388519287\n",
      "Iteration: 5000. Training Loss: 6877.3251953125. Test Loss: 0.17799502611160278\n",
      "Iteration: 5500. Training Loss: 6877.78759765625. Test Loss: 0.18387003242969513\n",
      "Iteration: 6000. Training Loss: 6877.76611328125. Test Loss: 0.16798317432403564\n",
      "Iteration: 6500. Training Loss: 6878.22216796875. Test Loss: 0.14746634662151337\n",
      "Iteration: 7000. Training Loss: 6878.68359375. Test Loss: 0.1481364518404007\n",
      "Iteration: 7500. Training Loss: 6878.671875. Test Loss: 0.1682484894990921\n",
      "Iteration: 8000. Training Loss: 6879.162109375. Test Loss: 0.2048981934785843\n",
      "Iteration: 8500. Training Loss: 6880.4755859375. Test Loss: 0.15996091067790985\n",
      "Iteration: 9000. Training Loss: 6880.4228515625. Test Loss: 0.13395662605762482\n",
      "Iteration: 9500. Training Loss: 6880.31005859375. Test Loss: 0.13518236577510834\n",
      "Iteration: 10000. Training Loss: 6881.1513671875. Test Loss: 0.1459723711013794\n",
      "Iteration: 10500. Training Loss: 6881.478515625. Test Loss: 0.1649489402770996\n",
      "Iteration: 11000. Training Loss: 6881.1298828125. Test Loss: 0.12832319736480713\n",
      "Iteration: 11500. Training Loss: 6882.1728515625. Test Loss: 0.1702863574028015\n",
      "Iteration: 12000. Training Loss: 6882.80517578125. Test Loss: 0.20093470811843872\n",
      "Iteration: 12500. Training Loss: 6882.623046875. Test Loss: 0.20594441890716553\n",
      "Iteration: 13000. Training Loss: 6883.7080078125. Test Loss: 0.12458708882331848\n",
      "Iteration: 13500. Training Loss: 6883.70703125. Test Loss: 0.1694236397743225\n",
      "Iteration: 14000. Training Loss: 6883.6201171875. Test Loss: 0.14888370037078857\n",
      "Iteration: 14500. Training Loss: 6884.94921875. Test Loss: 0.15152612328529358\n",
      "Iteration: 15000. Training Loss: 6884.68115234375. Test Loss: 0.12553808093070984\n",
      "Iteration: 15500. Training Loss: 6884.6953125. Test Loss: 0.12024961411952972\n",
      "Iteration: 16000. Training Loss: 6885.80517578125. Test Loss: 0.1230674758553505\n",
      "Iteration: 16500. Training Loss: 6885.80126953125. Test Loss: 0.1498696208000183\n",
      "Iteration: 17000. Training Loss: 6885.7412109375. Test Loss: 0.1712024211883545\n",
      "Iteration: 17500. Training Loss: 6887.45556640625. Test Loss: 0.1832413226366043\n",
      "Iteration: 18000. Training Loss: 6887.20654296875. Test Loss: 0.14249339699745178\n",
      "Iteration: 18500. Training Loss: 6887.24560546875. Test Loss: 0.16126903891563416\n",
      "Iteration: 19000. Training Loss: 6887.7734375. Test Loss: 0.12951619923114777\n",
      "Iteration: 19500. Training Loss: 6888.1650390625. Test Loss: 0.12339812517166138\n",
      "Iteration: 20000. Training Loss: 6888.162109375. Test Loss: 0.11616817116737366\n",
      "Iteration: 20500. Training Loss: 6888.74853515625. Test Loss: 0.12304925173521042\n",
      "Iteration: 21000. Training Loss: 6889.06640625. Test Loss: 0.118887759745121\n",
      "Iteration: 21500. Training Loss: 6889.29736328125. Test Loss: 0.2405853271484375\n",
      "Iteration: 22000. Training Loss: 6889.763671875. Test Loss: 0.144330233335495\n",
      "Iteration: 22500. Training Loss: 6889.80908203125. Test Loss: 0.2096840739250183\n",
      "Iteration: 23000. Training Loss: 6890.13232421875. Test Loss: 0.11942245066165924\n",
      "Iteration: 23500. Training Loss: 6890.19873046875. Test Loss: 0.12985628843307495\n",
      "Iteration: 24000. Training Loss: 6891.10205078125. Test Loss: 0.13683441281318665\n",
      "Iteration: 24500. Training Loss: 6891.177734375. Test Loss: 0.11777237057685852\n",
      "Iteration: 25000. Training Loss: 6891.82763671875. Test Loss: 0.11076947301626205\n",
      "Iteration: 25500. Training Loss: 6892.73681640625. Test Loss: 0.18936917185783386\n",
      "Iteration: 26000. Training Loss: 6892.29833984375. Test Loss: 0.11765424907207489\n",
      "Iteration: 26500. Training Loss: 6892.3095703125. Test Loss: 0.18012487888336182\n",
      "Iteration: 27000. Training Loss: 6892.64794921875. Test Loss: 0.1522395759820938\n",
      "Iteration: 27500. Training Loss: 6893.25146484375. Test Loss: 0.17662091553211212\n",
      "Iteration: 28000. Training Loss: 6893.1669921875. Test Loss: 0.11644995957612991\n",
      "Iteration: 28500. Training Loss: 6893.55029296875. Test Loss: 0.12919476628303528\n",
      "Iteration: 29000. Training Loss: 6895.03173828125. Test Loss: 0.19169703125953674\n",
      "Iteration: 29500. Training Loss: 6894.7109375. Test Loss: 0.12647727131843567\n",
      "Iteration: 30000. Training Loss: 6895.72607421875. Test Loss: 0.12698495388031006\n",
      "Iteration: 30500. Training Loss: 6895.49609375. Test Loss: 0.18785123527050018\n",
      "Iteration: 31000. Training Loss: 6895.3984375. Test Loss: 0.18532802164554596\n",
      "Iteration: 31500. Training Loss: 6895.4912109375. Test Loss: 0.1522432118654251\n",
      "Iteration: 32000. Training Loss: 6895.7177734375. Test Loss: 0.12583544850349426\n",
      "Iteration: 32500. Training Loss: 6896.2265625. Test Loss: 0.14131921529769897\n",
      "Iteration: 33000. Training Loss: 6896.31494140625. Test Loss: 0.11246822774410248\n",
      "Iteration: 33500. Training Loss: 6896.544921875. Test Loss: 0.11092576384544373\n",
      "Iteration: 34000. Training Loss: 6896.71923828125. Test Loss: 0.12028749287128448\n",
      "Iteration: 34500. Training Loss: 6896.6064453125. Test Loss: 0.11404620110988617\n",
      "Iteration: 35000. Training Loss: 6897.77978515625. Test Loss: 0.1539749950170517\n",
      "Iteration: 35500. Training Loss: 6897.6357421875. Test Loss: 0.1709168255329132\n",
      "Iteration: 36000. Training Loss: 6897.6083984375. Test Loss: 0.13847893476486206\n",
      "Iteration: 36500. Training Loss: 6898.10009765625. Test Loss: 0.13755902647972107\n",
      "Iteration: 37000. Training Loss: 6898.359375. Test Loss: 0.13565251231193542\n",
      "Iteration: 37500. Training Loss: 6898.21923828125. Test Loss: 0.15229931473731995\n",
      "Iteration: 38000. Training Loss: 6898.734375. Test Loss: 0.18972037732601166\n",
      "Iteration: 38500. Training Loss: 6899.16845703125. Test Loss: 0.17159713804721832\n",
      "Iteration: 39000. Training Loss: 6899.220703125. Test Loss: 0.12454183399677277\n"
     ]
    }
   ],
   "source": [
    "# Train the model\n",
    "\n",
    "LAMBDA = 0.5\n",
    "train_loss = []\n",
    "\n",
    "iter = 0\n",
    "for epoch in range(num_epochs):\n",
    "    \n",
    "    '''\n",
    "    One iteration\n",
    "    '''\n",
    "    for i, (X, labels) in enumerate(train_loader):\n",
    "        #######################\n",
    "        #  USE GPU FOR MODEL  #\n",
    "        #######################\n",
    "        if torch.cuda.is_available():\n",
    "            X = Variable(X.cuda())\n",
    "            labels = Variable(labels.cuda())\n",
    "        else:\n",
    "            X = Variable(X)\n",
    "            labels = Variable(labels)\n",
    "        \n",
    "        # Forward pass to get output/logits\n",
    "        outputs = model(X)\n",
    "        \n",
    "        # Clear gradients w.r.t. parameters\n",
    "        optimizer.zero_grad()\n",
    "        \n",
    "        # Calculate Loss:\n",
    "        loss = criterion(outputs, labels)\n",
    "        '''\n",
    "        L1 regularization\n",
    "        '''\n",
    "        l1_regularization = torch.tensor(0).long().to(device)\n",
    "        for param in model.parameters():\n",
    "            l1_regularization += torch.norm(param, 1).long().to(device)\n",
    "            \n",
    "        loss += LAMBDA * l1_regularization        \n",
    "        '''\n",
    "        Save loss to draw loss curve\n",
    "        '''\n",
    "        train_loss.append(loss)\n",
    "        ''''''\n",
    "\n",
    "        # Getting gradients w.r.t. parameters\n",
    "        loss.backward()\n",
    "        \n",
    "        # Updating parameters\n",
    "        optimizer.step()\n",
    "        ''''''\n",
    "        \n",
    "        iter += 1\n",
    "    \n",
    "        # Testing the model\n",
    "        if iter % 500 == 0:\n",
    "            # Iterate through test dataset\n",
    "            for X, labels in test_loader:\n",
    "                #######################\n",
    "                #  USE GPU FOR MODEL  #\n",
    "                #######################\n",
    "                if torch.cuda.is_available():\n",
    "                    X = Variable(X.cuda())\n",
    "                else:\n",
    "                    X = Variable(X)    \n",
    "                    \n",
    "                # Forward pass only to get logits/output\n",
    "                outputs = model(X)\n",
    "                \n",
    "                # Calculate Loss:\n",
    "                loss_t = criterion(outputs, labels)\n",
    "                \n",
    "            # Print Loss\n",
    "            print('Iteration: {}. Training Loss: {}. Test Loss: {}'.format(iter, loss.data, loss_t.data))\n",
    "            "
   ]
  },
  {
   "cell_type": "code",
   "execution_count": 79,
   "metadata": {
    "colab": {
     "base_uri": "https://localhost:8080/",
     "height": 350
    },
    "id": "POR7TDR8eT_o",
    "outputId": "20badab2-90f0-45b8-bc47-cef2d690b1f6"
   },
   "outputs": [
    {
     "data": {
      "image/png": "[encoded data removed]",
      "text/plain": [
       "<Figure size 504x360 with 1 Axes>"
      ]
     },
     "metadata": {
      "needs_background": "light",
      "tags": []
     },
     "output_type": "display_data"
    }
   ],
   "source": [
    "#Plot the loss curve\n",
    "\n",
    "plt.figure(figsize=(7,5))\n",
    "plt.plot(range(len(train_loss)), train_loss)\n",
    "plt.xlabel(\"Iteration\")\n",
    "plt.ylabel(\"MSE\")\n",
    "plt.title(\"Loss curve for training\")\n",
    "plt.show()"
   ]
  },
  {
   "cell_type": "code",
   "execution_count": 80,
   "metadata": {
    "id": "lpdgvLuLeT_r"
   },
   "outputs": [],
   "source": [
    "save_model = True\n",
    "if save_model is True:\n",
    "    torch.save(model.state_dict(), 'housing_FNN_pytorch_C_l1.pkl')# only save parameters"
   ]
  },
  {
   "cell_type": "markdown",
   "metadata": {
    "id": "Jj8byERoeT_t"
   },
   "source": [
    "### Model D: 5 Hidden Layers Feedforward Neural Network"
   ]
  },
  {
   "cell_type": "markdown",
   "metadata": {
    "id": "8_xqbQ6peT_t"
   },
   "source": [
    "### Create model class"
   ]
  },
  {
   "cell_type": "code",
   "execution_count": 81,
   "metadata": {
    "colab": {
     "base_uri": "https://localhost:8080/"
    },
    "id": "5CCloA7beT_t",
    "outputId": "b1478e71-30e0-48ee-8b58-503e0bde5c24"
   },
   "outputs": [
    {
     "name": "stdout",
     "output_type": "stream",
     "text": [
      "38\n"
     ]
    }
   ],
   "source": [
    "batch_size = 16\n",
    "n_iters = 40000\n",
    "num_epochs = n_iters / (len(train_data) / batch_size)\n",
    "num_epochs = int(num_epochs)\n",
    "print(num_epochs)"
   ]
  },
  {
   "cell_type": "code",
   "execution_count": 82,
   "metadata": {
    "id": "kIehNiBMeT_v"
   },
   "outputs": [],
   "source": [
    "train_loader = DataLoader(train_dataset, batch_size=batch_size, shuffle=True) # create your dataloader\n",
    "\n",
    "test_loader = DataLoader(test_dataset, batch_size=batch_size,  shuffle=False)"
   ]
  },
  {
   "cell_type": "code",
   "execution_count": 83,
   "metadata": {
    "id": "UT59VRsTeT_x"
   },
   "outputs": [],
   "source": [
    "class FNN(nn.Module):\n",
    "    def __init__(self, input_dim, hidden_dim1, hidden_dim2, hidden_dim3, hidden_dim4, hidden_dim5, output_dim):\n",
    "        super(FNN, self).__init__()\n",
    "        \n",
    "        self.linear1 = nn.Linear(input_dim, hidden_dim1)\n",
    "        self.relu1 = nn.ReLU()\n",
    "        self.linear2 = nn.Linear(hidden_dim1, hidden_dim2)\n",
    "        self.relu2 = nn.ReLU()\n",
    "        self.linear3 = nn.Linear(hidden_dim2, hidden_dim3)\n",
    "        self.relu3 = nn.ReLU()\n",
    "        self.linear4 = nn.Linear(hidden_dim3, hidden_dim4)\n",
    "        self.relu4 = nn.ReLU()\n",
    "        self.linear5 = nn.Linear(hidden_dim4, hidden_dim5)\n",
    "        self.relu5 = nn.ReLU()\n",
    "        self.linear6 = nn.Linear(hidden_dim5, output_dim)\n",
    "        \n",
    "    def forward(self, x):\n",
    "        out = self.linear1(x)\n",
    "        out = self.relu1(out)\n",
    "        out = self.linear2(out)\n",
    "        out = self.relu2(out)\n",
    "        out = self.linear3(out)\n",
    "        out = self.relu3(out)\n",
    "        out = self.linear4(out)\n",
    "        out = self.relu4(out)\n",
    "        out = self.linear5(out)\n",
    "        out = self.relu5(out)\n",
    "        out = self.linear6(out)\n",
    "        return out\n",
    "    "
   ]
  },
  {
   "cell_type": "code",
   "execution_count": 84,
   "metadata": {
    "id": "w9EChUudeT_z"
   },
   "outputs": [],
   "source": [
    "input_dim = tensor_x.shape[1]\n",
    "output_dim = 1\n",
    "hidden_dim1 = 500\n",
    "hidden_dim2 = 1000\n",
    "hidden_dim3 = 200\n",
    "hidden_dim4 = 100\n",
    "hidden_dim5 = 10"
   ]
  },
  {
   "cell_type": "code",
   "execution_count": 85,
   "metadata": {
    "id": "xiGILqk_eT_1"
   },
   "outputs": [],
   "source": [
    "model = FNN(input_dim, hidden_dim1,hidden_dim2,hidden_dim3,hidden_dim4,hidden_dim5, output_dim)\n",
    "\n",
    "#######################\n",
    "#  USE GPU FOR MODEL  #\n",
    "#######################\n",
    "if torch.cuda.is_available():\n",
    "    model.cuda()\n"
   ]
  },
  {
   "cell_type": "code",
   "execution_count": 86,
   "metadata": {
    "colab": {
     "base_uri": "https://localhost:8080/"
    },
    "id": "oZF9Ku8beT_2",
    "outputId": "deff7e2a-f1dd-478a-b09c-6b80b563ec28"
   },
   "outputs": [
    {
     "name": "stdout",
     "output_type": "stream",
     "text": [
      "----------------------------------------------------------------\n",
      "        Layer (type)               Output Shape         Param #\n",
      "================================================================\n",
      "            Linear-1               [-1, 1, 500]           6,500\n",
      "              ReLU-2               [-1, 1, 500]               0\n",
      "            Linear-3              [-1, 1, 1000]         501,000\n",
      "              ReLU-4              [-1, 1, 1000]               0\n",
      "            Linear-5               [-1, 1, 200]         200,200\n",
      "              ReLU-6               [-1, 1, 200]               0\n",
      "            Linear-7               [-1, 1, 100]          20,100\n",
      "              ReLU-8               [-1, 1, 100]               0\n",
      "            Linear-9                [-1, 1, 10]           1,010\n",
      "             ReLU-10                [-1, 1, 10]               0\n",
      "           Linear-11                 [-1, 1, 1]              11\n",
      "================================================================\n",
      "Total params: 728,821\n",
      "Trainable params: 728,821\n",
      "Non-trainable params: 0\n",
      "----------------------------------------------------------------\n",
      "Input size (MB): 0.00\n",
      "Forward/backward pass size (MB): 0.03\n",
      "Params size (MB): 2.78\n",
      "Estimated Total Size (MB): 2.81\n",
      "----------------------------------------------------------------\n"
     ]
    }
   ],
   "source": [
    "summary(model, (1,tensor_x.shape[1]))"
   ]
  },
  {
   "cell_type": "code",
   "execution_count": 87,
   "metadata": {
    "id": "TXE58xweeT_4"
   },
   "outputs": [],
   "source": [
    "criterion = nn.MSELoss(reduction='sum')\n",
    "\n",
    "learning_rate = 0.01\n",
    "optimizer = torch.optim.SGD(model.parameters(), lr=learning_rate)"
   ]
  },
  {
   "cell_type": "code",
   "execution_count": 88,
   "metadata": {
    "colab": {
     "base_uri": "https://localhost:8080/"
    },
    "id": "MLYsoCDkeT_6",
    "outputId": "62fb611e-6434-48ec-c19e-e3c0a0c75f42"
   },
   "outputs": [
    {
     "name": "stdout",
     "output_type": "stream",
     "text": [
      "Iteration: 500. Training Loss: 1449.1932373046875. Test Loss: 0.24951793253421783\n",
      "Iteration: 1000. Training Loss: 1450.166015625. Test Loss: 0.21268749237060547\n",
      "Iteration: 1500. Training Loss: 1451.8507080078125. Test Loss: 0.41818690299987793\n",
      "Iteration: 2000. Training Loss: 1451.55859375. Test Loss: 0.11600305140018463\n",
      "Iteration: 2500. Training Loss: 1452.7081298828125. Test Loss: 0.41900143027305603\n",
      "Iteration: 3000. Training Loss: 1453.375732421875. Test Loss: 0.13071483373641968\n",
      "Iteration: 3500. Training Loss: 1453.4910888671875. Test Loss: 0.1332065761089325\n",
      "Iteration: 4000. Training Loss: 1454.1429443359375. Test Loss: 0.13960012793540955\n",
      "Iteration: 4500. Training Loss: 1455.2957763671875. Test Loss: 0.8394522070884705\n",
      "Iteration: 5000. Training Loss: 1455.30908203125. Test Loss: 0.15417402982711792\n",
      "Iteration: 5500. Training Loss: 1456.0260009765625. Test Loss: 0.2152090221643448\n",
      "Iteration: 6000. Training Loss: 1456.067138671875. Test Loss: 0.14225050806999207\n",
      "Iteration: 6500. Training Loss: 1456.496337890625. Test Loss: 0.14022183418273926\n",
      "Iteration: 7000. Training Loss: 1457.19921875. Test Loss: 0.11328745633363724\n",
      "Iteration: 7500. Training Loss: 1457.2874755859375. Test Loss: 0.13954219222068787\n",
      "Iteration: 8000. Training Loss: 1457.4781494140625. Test Loss: 0.1284034103155136\n",
      "Iteration: 8500. Training Loss: 1458.1627197265625. Test Loss: 0.11774249374866486\n",
      "Iteration: 9000. Training Loss: 1458.5743408203125. Test Loss: 0.10908624529838562\n",
      "Iteration: 9500. Training Loss: 1459.1661376953125. Test Loss: 0.12008421123027802\n",
      "Iteration: 10000. Training Loss: 1459.324462890625. Test Loss: 0.15872381627559662\n",
      "Iteration: 10500. Training Loss: 1459.9986572265625. Test Loss: 0.11234630644321442\n",
      "Iteration: 11000. Training Loss: 1460.1949462890625. Test Loss: 0.13944748044013977\n",
      "Iteration: 11500. Training Loss: 1460.6068115234375. Test Loss: 0.1282334327697754\n",
      "Iteration: 12000. Training Loss: 1460.889404296875. Test Loss: 0.11577355861663818\n",
      "Iteration: 12500. Training Loss: 1461.3360595703125. Test Loss: 0.13209877908229828\n",
      "Iteration: 13000. Training Loss: 1461.7020263671875. Test Loss: 0.11066646128892899\n",
      "Iteration: 13500. Training Loss: 1462.430419921875. Test Loss: 0.27873751521110535\n",
      "Iteration: 14000. Training Loss: 1462.537353515625. Test Loss: 0.18993708491325378\n",
      "Iteration: 14500. Training Loss: 1463.0458984375. Test Loss: 0.27829381823539734\n",
      "Iteration: 15000. Training Loss: 1463.217041015625. Test Loss: 0.12856042385101318\n",
      "Iteration: 15500. Training Loss: 1463.7015380859375. Test Loss: 0.12454532086849213\n",
      "Iteration: 16000. Training Loss: 1464.138916015625. Test Loss: 0.15497234463691711\n",
      "Iteration: 16500. Training Loss: 1464.53662109375. Test Loss: 0.18028494715690613\n",
      "Iteration: 17000. Training Loss: 1464.8284912109375. Test Loss: 0.1327594518661499\n",
      "Iteration: 17500. Training Loss: 1465.1728515625. Test Loss: 0.10924852639436722\n",
      "Iteration: 18000. Training Loss: 1465.4591064453125. Test Loss: 0.1311917006969452\n",
      "Iteration: 18500. Training Loss: 1465.563720703125. Test Loss: 0.13006462156772614\n",
      "Iteration: 19000. Training Loss: 1466.226806640625. Test Loss: 0.1568250060081482\n",
      "Iteration: 19500. Training Loss: 1466.5704345703125. Test Loss: 0.13258513808250427\n",
      "Iteration: 20000. Training Loss: 1467.093505859375. Test Loss: 0.19867102801799774\n",
      "Iteration: 20500. Training Loss: 1467.4891357421875. Test Loss: 0.12144701182842255\n",
      "Iteration: 21000. Training Loss: 1467.832275390625. Test Loss: 0.126257985830307\n",
      "Iteration: 21500. Training Loss: 1468.321533203125. Test Loss: 0.10911892354488373\n",
      "Iteration: 22000. Training Loss: 1468.5313720703125. Test Loss: 0.10081425309181213\n",
      "Iteration: 22500. Training Loss: 1469.17626953125. Test Loss: 0.21468284726142883\n",
      "Iteration: 23000. Training Loss: 1469.4769287109375. Test Loss: 0.27675262093544006\n",
      "Iteration: 23500. Training Loss: 1469.7490234375. Test Loss: 0.14676687121391296\n",
      "Iteration: 24000. Training Loss: 1470.2188720703125. Test Loss: 0.22972136735916138\n",
      "Iteration: 24500. Training Loss: 1470.743896484375. Test Loss: 0.14242714643478394\n",
      "Iteration: 25000. Training Loss: 1470.925048828125. Test Loss: 0.10940900444984436\n",
      "Iteration: 25500. Training Loss: 1471.1837158203125. Test Loss: 0.2604741156101227\n",
      "Iteration: 26000. Training Loss: 1471.4488525390625. Test Loss: 0.10986052453517914\n",
      "Iteration: 26500. Training Loss: 1472.0208740234375. Test Loss: 0.12823215126991272\n",
      "Iteration: 27000. Training Loss: 1472.2071533203125. Test Loss: 0.10773742198944092\n",
      "Iteration: 27500. Training Loss: 1472.7864990234375. Test Loss: 0.10727190971374512\n",
      "Iteration: 28000. Training Loss: 1473.0091552734375. Test Loss: 0.22467659413814545\n",
      "Iteration: 28500. Training Loss: 1472.973876953125. Test Loss: 0.12503774464130402\n",
      "Iteration: 29000. Training Loss: 1473.42724609375. Test Loss: 0.12859857082366943\n",
      "Iteration: 29500. Training Loss: 1473.812255859375. Test Loss: 0.13491404056549072\n",
      "Iteration: 30000. Training Loss: 1474.5108642578125. Test Loss: 0.19660413265228271\n",
      "Iteration: 30500. Training Loss: 1474.5848388671875. Test Loss: 0.23543193936347961\n",
      "Iteration: 31000. Training Loss: 1475.2591552734375. Test Loss: 0.24569077789783478\n",
      "Iteration: 31500. Training Loss: 1475.2635498046875. Test Loss: 0.10699879378080368\n",
      "Iteration: 32000. Training Loss: 1475.4986572265625. Test Loss: 0.117508664727211\n",
      "Iteration: 32500. Training Loss: 1476.0499267578125. Test Loss: 0.17014609277248383\n",
      "Iteration: 33000. Training Loss: 1476.26904296875. Test Loss: 0.14125540852546692\n",
      "Iteration: 33500. Training Loss: 1476.3685302734375. Test Loss: 0.13012155890464783\n",
      "Iteration: 34000. Training Loss: 1476.804443359375. Test Loss: 0.14576175808906555\n",
      "Iteration: 34500. Training Loss: 1477.2752685546875. Test Loss: 0.13886980712413788\n",
      "Iteration: 35000. Training Loss: 1477.6187744140625. Test Loss: 0.1858779788017273\n",
      "Iteration: 35500. Training Loss: 1477.5924072265625. Test Loss: 0.12240437418222427\n",
      "Iteration: 36000. Training Loss: 1478.109619140625. Test Loss: 0.17763200402259827\n",
      "Iteration: 36500. Training Loss: 1478.3834228515625. Test Loss: 0.12529712915420532\n",
      "Iteration: 37000. Training Loss: 1478.78466796875. Test Loss: 0.1287190020084381\n",
      "Iteration: 37500. Training Loss: 1479.4462890625. Test Loss: 0.1788521111011505\n",
      "Iteration: 38000. Training Loss: 1480.042724609375. Test Loss: 0.22805370390415192\n",
      "Iteration: 38500. Training Loss: 1479.8990478515625. Test Loss: 0.13352999091148376\n",
      "Iteration: 39000. Training Loss: 1480.2213134765625. Test Loss: 0.11596903204917908\n"
     ]
    }
   ],
   "source": [
    "# Train the model\n",
    "\n",
    "LAMBDA = 0.09\n",
    "train_loss = []\n",
    "\n",
    "iter = 0\n",
    "for epoch in range(num_epochs):\n",
    "    \n",
    "    '''\n",
    "    One iteration\n",
    "    '''\n",
    "    for i, (X, labels) in enumerate(train_loader):\n",
    "        #######################\n",
    "        #  USE GPU FOR MODEL  #\n",
    "        #######################\n",
    "        if torch.cuda.is_available():\n",
    "            X = Variable(X.cuda())\n",
    "            labels = Variable(labels.cuda())\n",
    "        else:\n",
    "            X = Variable(X)\n",
    "            labels = Variable(labels)\n",
    "        \n",
    "        # Forward pass to get output/logits\n",
    "        outputs = model(X)\n",
    "        \n",
    "        # Clear gradients w.r.t. parameters\n",
    "        optimizer.zero_grad()\n",
    "        \n",
    "        # Calculate Loss:\n",
    "        loss = criterion(outputs, labels)\n",
    "        '''\n",
    "        L1 regularization\n",
    "        '''\n",
    "        l1_regularization = torch.tensor(0).long().to(device)\n",
    "        for param in model.parameters():\n",
    "            l1_regularization += torch.norm(param, 1).long().to(device)\n",
    "            \n",
    "        loss += LAMBDA * l1_regularization        \n",
    "        '''\n",
    "        Save loss to draw loss curve\n",
    "        '''\n",
    "        train_loss.append(loss)\n",
    "        ''''''\n",
    "\n",
    "        # Getting gradients w.r.t. parameters\n",
    "        loss.backward()\n",
    "        \n",
    "        # Updating parameters\n",
    "        optimizer.step()\n",
    "        ''''''\n",
    "        \n",
    "        iter += 1\n",
    "    \n",
    "        # Testing the model\n",
    "        if iter % 500 == 0:\n",
    "            # Iterate through test dataset\n",
    "            for X, labels in test_loader:\n",
    "                #######################\n",
    "                #  USE GPU FOR MODEL  #\n",
    "                #######################\n",
    "                if torch.cuda.is_available():\n",
    "                    X = Variable(X.cuda())\n",
    "                else:\n",
    "                    X = Variable(X)    \n",
    "                    \n",
    "                # Forward pass only to get logits/output\n",
    "                outputs = model(X)\n",
    "                \n",
    "                # Calculate Loss:\n",
    "                loss_t = criterion(outputs, labels)\n",
    "                \n",
    "            # Print Loss\n",
    "            print('Iteration: {}. Training Loss: {}. Test Loss: {}'.format(iter, loss.data, loss_t.data))\n",
    "            "
   ]
  },
  {
   "cell_type": "code",
   "execution_count": 89,
   "metadata": {
    "colab": {
     "base_uri": "https://localhost:8080/",
     "height": 350
    },
    "id": "vYzwlmuLeT_8",
    "outputId": "b3e05228-6321-44e4-81f3-d745dedf1ab1"
   },
   "outputs": [
    {
     "data": {
      "image/png": "[encoded data removed]",
      "text/plain": [
       "<Figure size 504x360 with 1 Axes>"
      ]
     },
     "metadata": {
      "needs_background": "light",
      "tags": []
     },
     "output_type": "display_data"
    }
   ],
   "source": [
    "#Plot the loss curve\n",
    "\n",
    "plt.figure(figsize=(7,5))\n",
    "plt.plot(range(len(train_loss)), train_loss)\n",
    "plt.xlabel(\"Iteration\")\n",
    "plt.ylabel(\"MSE\")\n",
    "plt.title(\"Loss curve for training\")\n",
    "plt.show()"
   ]
  },
  {
   "cell_type": "code",
   "execution_count": 90,
   "metadata": {
    "id": "G_zicKQweT__"
   },
   "outputs": [],
   "source": [
    "save_model = True\n",
    "if save_model is True:\n",
    "    torch.save(model.state_dict(), 'housing_FNN_pytorch_D_l1.pkl')# only save parameters"
   ]
  }
 ],
 "metadata": {
  "accelerator": "GPU",
  "colab": {
   "collapsed_sections": [
    "P_xGYFrsjG0R",
    "N1RZUje2t222",
    "tOQfnZq1t23G",
    "yaZQCztQt23X"
   ],
   "name": "California_Housing_Values_FNN_with_PyTorch.ipynb",
   "provenance": []
  },
  "kernelspec": {
   "display_name": "Python 3",
   "language": "python",
   "name": "python3"
  },
  "language_info": {
   "codemirror_mode": {
    "name": "ipython",
    "version": 3
   },
   "file_extension": ".py",
   "mimetype": "text/x-python",
   "name": "python",
   "nbconvert_exporter": "python",
   "pygments_lexer": "ipython3",
   "version": "3.8.5"
  }
 },
 "nbformat": 4,
 "nbformat_minor": 4
}
