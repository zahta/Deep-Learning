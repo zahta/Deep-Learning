{
 "cells": [
  {
   "cell_type": "markdown",
   "metadata": {
    "id": "Oo9UUs6PJObS"
   },
   "source": [
    "# Some regularizations and optimization algorithms on [Pima Indians Diabetes](https://raw.githubusercontent.com/jbrownlee/Datasets/master/pima-indians-diabetes.csv) dataset\n",
    "By [Zahra Taheri](https://github.com/zahta), November 26, 2020"
   ]
  },
  {
   "cell_type": "markdown",
   "metadata": {
    "id": "07ULppsuJObU"
   },
   "source": [
    "### Import libraries"
   ]
  },
  {
   "cell_type": "code",
   "execution_count": 1,
   "metadata": {
    "id": "phjBpO0lJObW"
   },
   "outputs": [
    {
     "data": {
      "text/plain": [
       "<torch._C.Generator at 0x211d36b8690>"
      ]
     },
     "execution_count": 1,
     "metadata": {},
     "output_type": "execute_result"
    }
   ],
   "source": [
    "import numpy as np\n",
    "import pandas as pd\n",
    "import time\n",
    "import torch\n",
    "import torch.nn as nn\n",
    "import torch.nn.functional as F\n",
    "from torch.autograd import Variable\n",
    "from torchsummary import summary\n",
    "\n",
    "import matplotlib as mpl\n",
    "import matplotlib.pyplot as plt\n",
    "import seaborn as sns\n",
    "import os\n",
    "\n",
    "import warnings\n",
    "warnings.filterwarnings('ignore')\n",
    "\n",
    "# Set the seeds to ensure reproducibility\n",
    "np.random.seed(1)\n",
    "torch.manual_seed(1)"
   ]
  },
  {
   "cell_type": "markdown",
   "metadata": {
    "id": "KBU6twGzJObh"
   },
   "source": [
    "## Reading the dataset"
   ]
  },
  {
   "cell_type": "code",
   "execution_count": 2,
   "metadata": {
    "colab": {
     "base_uri": "https://localhost:8080/"
    },
    "id": "ToygYINiJObi",
    "outputId": "70fa1539-3d80-4e6c-e4ed-1f46d020f2ea"
   },
   "outputs": [
    {
     "data": {
      "text/plain": [
       "(768, 9)"
      ]
     },
     "execution_count": 2,
     "metadata": {},
     "output_type": "execute_result"
    }
   ],
   "source": [
    "data=pd.read_csv('diabetes.csv')\n",
    "data.shape"
   ]
  },
  {
   "cell_type": "code",
   "execution_count": 3,
   "metadata": {
    "colab": {
     "base_uri": "https://localhost:8080/",
     "height": 204
    },
    "id": "wFazDtd0JObw",
    "outputId": "191c00e2-de21-43d7-a6eb-f3ff6a274470"
   },
   "outputs": [
    {
     "data": {
      "text/html": [
       "<div>\n",
       "<style scoped>\n",
       "    .dataframe tbody tr th:only-of-type {\n",
       "        vertical-align: middle;\n",
       "    }\n",
       "\n",
       "    .dataframe tbody tr th {\n",
       "        vertical-align: top;\n",
       "    }\n",
       "\n",
       "    .dataframe thead th {\n",
       "        text-align: right;\n",
       "    }\n",
       "</style>\n",
       "<table border=\"1\" class=\"dataframe\">\n",
       "  <thead>\n",
       "    <tr style=\"text-align: right;\">\n",
       "      <th></th>\n",
       "      <th>Pregnancies</th>\n",
       "      <th>Glucose</th>\n",
       "      <th>BloodPressure</th>\n",
       "      <th>SkinThickness</th>\n",
       "      <th>Insulin</th>\n",
       "      <th>BMI</th>\n",
       "      <th>DiabetesPedigreeFunction</th>\n",
       "      <th>Age</th>\n",
       "      <th>Outcome</th>\n",
       "    </tr>\n",
       "  </thead>\n",
       "  <tbody>\n",
       "    <tr>\n",
       "      <th>0</th>\n",
       "      <td>6</td>\n",
       "      <td>148</td>\n",
       "      <td>72</td>\n",
       "      <td>35</td>\n",
       "      <td>0</td>\n",
       "      <td>33.6</td>\n",
       "      <td>0.627</td>\n",
       "      <td>50</td>\n",
       "      <td>1</td>\n",
       "    </tr>\n",
       "    <tr>\n",
       "      <th>1</th>\n",
       "      <td>1</td>\n",
       "      <td>85</td>\n",
       "      <td>66</td>\n",
       "      <td>29</td>\n",
       "      <td>0</td>\n",
       "      <td>26.6</td>\n",
       "      <td>0.351</td>\n",
       "      <td>31</td>\n",
       "      <td>0</td>\n",
       "    </tr>\n",
       "    <tr>\n",
       "      <th>2</th>\n",
       "      <td>8</td>\n",
       "      <td>183</td>\n",
       "      <td>64</td>\n",
       "      <td>0</td>\n",
       "      <td>0</td>\n",
       "      <td>23.3</td>\n",
       "      <td>0.672</td>\n",
       "      <td>32</td>\n",
       "      <td>1</td>\n",
       "    </tr>\n",
       "    <tr>\n",
       "      <th>3</th>\n",
       "      <td>1</td>\n",
       "      <td>89</td>\n",
       "      <td>66</td>\n",
       "      <td>23</td>\n",
       "      <td>94</td>\n",
       "      <td>28.1</td>\n",
       "      <td>0.167</td>\n",
       "      <td>21</td>\n",
       "      <td>0</td>\n",
       "    </tr>\n",
       "    <tr>\n",
       "      <th>4</th>\n",
       "      <td>0</td>\n",
       "      <td>137</td>\n",
       "      <td>40</td>\n",
       "      <td>35</td>\n",
       "      <td>168</td>\n",
       "      <td>43.1</td>\n",
       "      <td>2.288</td>\n",
       "      <td>33</td>\n",
       "      <td>1</td>\n",
       "    </tr>\n",
       "  </tbody>\n",
       "</table>\n",
       "</div>"
      ],
      "text/plain": [
       "   Pregnancies  Glucose  BloodPressure  SkinThickness  Insulin   BMI  \\\n",
       "0            6      148             72             35        0  33.6   \n",
       "1            1       85             66             29        0  26.6   \n",
       "2            8      183             64              0        0  23.3   \n",
       "3            1       89             66             23       94  28.1   \n",
       "4            0      137             40             35      168  43.1   \n",
       "\n",
       "   DiabetesPedigreeFunction  Age  Outcome  \n",
       "0                     0.627   50        1  \n",
       "1                     0.351   31        0  \n",
       "2                     0.672   32        1  \n",
       "3                     0.167   21        0  \n",
       "4                     2.288   33        1  "
      ]
     },
     "execution_count": 3,
     "metadata": {},
     "output_type": "execute_result"
    }
   ],
   "source": [
    "data.head()"
   ]
  },
  {
   "cell_type": "code",
   "execution_count": 4,
   "metadata": {
    "colab": {
     "base_uri": "https://localhost:8080/"
    },
    "id": "wpS41k7OJOb4",
    "outputId": "bfa25282-4d18-40b3-d912-b05592651e40"
   },
   "outputs": [
    {
     "name": "stdout",
     "output_type": "stream",
     "text": [
      "<class 'pandas.core.frame.DataFrame'>\n",
      "RangeIndex: 768 entries, 0 to 767\n",
      "Data columns (total 9 columns):\n",
      " #   Column                    Non-Null Count  Dtype  \n",
      "---  ------                    --------------  -----  \n",
      " 0   Pregnancies               768 non-null    int64  \n",
      " 1   Glucose                   768 non-null    int64  \n",
      " 2   BloodPressure             768 non-null    int64  \n",
      " 3   SkinThickness             768 non-null    int64  \n",
      " 4   Insulin                   768 non-null    int64  \n",
      " 5   BMI                       768 non-null    float64\n",
      " 6   DiabetesPedigreeFunction  768 non-null    float64\n",
      " 7   Age                       768 non-null    int64  \n",
      " 8   Outcome                   768 non-null    int64  \n",
      "dtypes: float64(2), int64(7)\n",
      "memory usage: 54.1 KB\n"
     ]
    }
   ],
   "source": [
    "data.info()"
   ]
  },
  {
   "cell_type": "markdown",
   "metadata": {
    "id": "G8D2gGJsJOcB"
   },
   "source": [
    "## Descriptive statistics and data visualizations"
   ]
  },
  {
   "cell_type": "code",
   "execution_count": 5,
   "metadata": {
    "colab": {
     "base_uri": "https://localhost:8080/",
     "height": 317
    },
    "id": "vJQXglTfJOcD",
    "outputId": "b490f3a1-a7bc-4e80-9482-6ef354f558cd"
   },
   "outputs": [
    {
     "data": {
      "text/html": [
       "<div>\n",
       "<style scoped>\n",
       "    .dataframe tbody tr th:only-of-type {\n",
       "        vertical-align: middle;\n",
       "    }\n",
       "\n",
       "    .dataframe tbody tr th {\n",
       "        vertical-align: top;\n",
       "    }\n",
       "\n",
       "    .dataframe thead th {\n",
       "        text-align: right;\n",
       "    }\n",
       "</style>\n",
       "<table border=\"1\" class=\"dataframe\">\n",
       "  <thead>\n",
       "    <tr style=\"text-align: right;\">\n",
       "      <th></th>\n",
       "      <th>Pregnancies</th>\n",
       "      <th>Glucose</th>\n",
       "      <th>BloodPressure</th>\n",
       "      <th>SkinThickness</th>\n",
       "      <th>Insulin</th>\n",
       "      <th>BMI</th>\n",
       "      <th>DiabetesPedigreeFunction</th>\n",
       "      <th>Age</th>\n",
       "      <th>Outcome</th>\n",
       "    </tr>\n",
       "  </thead>\n",
       "  <tbody>\n",
       "    <tr>\n",
       "      <th>count</th>\n",
       "      <td>768.000000</td>\n",
       "      <td>768.000000</td>\n",
       "      <td>768.000000</td>\n",
       "      <td>768.000000</td>\n",
       "      <td>768.000000</td>\n",
       "      <td>768.000000</td>\n",
       "      <td>768.000000</td>\n",
       "      <td>768.000000</td>\n",
       "      <td>768.000000</td>\n",
       "    </tr>\n",
       "    <tr>\n",
       "      <th>mean</th>\n",
       "      <td>3.845052</td>\n",
       "      <td>120.894531</td>\n",
       "      <td>69.105469</td>\n",
       "      <td>20.536458</td>\n",
       "      <td>79.799479</td>\n",
       "      <td>31.992578</td>\n",
       "      <td>0.471876</td>\n",
       "      <td>33.240885</td>\n",
       "      <td>0.348958</td>\n",
       "    </tr>\n",
       "    <tr>\n",
       "      <th>std</th>\n",
       "      <td>3.369578</td>\n",
       "      <td>31.972618</td>\n",
       "      <td>19.355807</td>\n",
       "      <td>15.952218</td>\n",
       "      <td>115.244002</td>\n",
       "      <td>7.884160</td>\n",
       "      <td>0.331329</td>\n",
       "      <td>11.760232</td>\n",
       "      <td>0.476951</td>\n",
       "    </tr>\n",
       "    <tr>\n",
       "      <th>min</th>\n",
       "      <td>0.000000</td>\n",
       "      <td>0.000000</td>\n",
       "      <td>0.000000</td>\n",
       "      <td>0.000000</td>\n",
       "      <td>0.000000</td>\n",
       "      <td>0.000000</td>\n",
       "      <td>0.078000</td>\n",
       "      <td>21.000000</td>\n",
       "      <td>0.000000</td>\n",
       "    </tr>\n",
       "    <tr>\n",
       "      <th>25%</th>\n",
       "      <td>1.000000</td>\n",
       "      <td>99.000000</td>\n",
       "      <td>62.000000</td>\n",
       "      <td>0.000000</td>\n",
       "      <td>0.000000</td>\n",
       "      <td>27.300000</td>\n",
       "      <td>0.243750</td>\n",
       "      <td>24.000000</td>\n",
       "      <td>0.000000</td>\n",
       "    </tr>\n",
       "    <tr>\n",
       "      <th>50%</th>\n",
       "      <td>3.000000</td>\n",
       "      <td>117.000000</td>\n",
       "      <td>72.000000</td>\n",
       "      <td>23.000000</td>\n",
       "      <td>30.500000</td>\n",
       "      <td>32.000000</td>\n",
       "      <td>0.372500</td>\n",
       "      <td>29.000000</td>\n",
       "      <td>0.000000</td>\n",
       "    </tr>\n",
       "    <tr>\n",
       "      <th>75%</th>\n",
       "      <td>6.000000</td>\n",
       "      <td>140.250000</td>\n",
       "      <td>80.000000</td>\n",
       "      <td>32.000000</td>\n",
       "      <td>127.250000</td>\n",
       "      <td>36.600000</td>\n",
       "      <td>0.626250</td>\n",
       "      <td>41.000000</td>\n",
       "      <td>1.000000</td>\n",
       "    </tr>\n",
       "    <tr>\n",
       "      <th>max</th>\n",
       "      <td>17.000000</td>\n",
       "      <td>199.000000</td>\n",
       "      <td>122.000000</td>\n",
       "      <td>99.000000</td>\n",
       "      <td>846.000000</td>\n",
       "      <td>67.100000</td>\n",
       "      <td>2.420000</td>\n",
       "      <td>81.000000</td>\n",
       "      <td>1.000000</td>\n",
       "    </tr>\n",
       "  </tbody>\n",
       "</table>\n",
       "</div>"
      ],
      "text/plain": [
       "       Pregnancies     Glucose  BloodPressure  SkinThickness     Insulin  \\\n",
       "count   768.000000  768.000000     768.000000     768.000000  768.000000   \n",
       "mean      3.845052  120.894531      69.105469      20.536458   79.799479   \n",
       "std       3.369578   31.972618      19.355807      15.952218  115.244002   \n",
       "min       0.000000    0.000000       0.000000       0.000000    0.000000   \n",
       "25%       1.000000   99.000000      62.000000       0.000000    0.000000   \n",
       "50%       3.000000  117.000000      72.000000      23.000000   30.500000   \n",
       "75%       6.000000  140.250000      80.000000      32.000000  127.250000   \n",
       "max      17.000000  199.000000     122.000000      99.000000  846.000000   \n",
       "\n",
       "              BMI  DiabetesPedigreeFunction         Age     Outcome  \n",
       "count  768.000000                768.000000  768.000000  768.000000  \n",
       "mean    31.992578                  0.471876   33.240885    0.348958  \n",
       "std      7.884160                  0.331329   11.760232    0.476951  \n",
       "min      0.000000                  0.078000   21.000000    0.000000  \n",
       "25%     27.300000                  0.243750   24.000000    0.000000  \n",
       "50%     32.000000                  0.372500   29.000000    0.000000  \n",
       "75%     36.600000                  0.626250   41.000000    1.000000  \n",
       "max     67.100000                  2.420000   81.000000    1.000000  "
      ]
     },
     "execution_count": 5,
     "metadata": {},
     "output_type": "execute_result"
    }
   ],
   "source": [
    "#Describe the dataset\n",
    "\n",
    "data.describe()"
   ]
  },
  {
   "cell_type": "code",
   "execution_count": 6,
   "metadata": {
    "colab": {
     "base_uri": "https://localhost:8080/"
    },
    "id": "7kciuqKAJOcM",
    "outputId": "1935c791-c9a2-46bc-e1e8-23c50fb67d5b"
   },
   "outputs": [
    {
     "data": {
      "text/plain": [
       "Series([], dtype: float64)"
      ]
     },
     "execution_count": 6,
     "metadata": {},
     "output_type": "execute_result"
    }
   ],
   "source": [
    "#Check the no. of unique items in each categorical column\n",
    "\n",
    "data.select_dtypes('object').nunique()"
   ]
  },
  {
   "cell_type": "code",
   "execution_count": 7,
   "metadata": {
    "colab": {
     "base_uri": "https://localhost:8080/"
    },
    "id": "7iA5iBngJOcT",
    "outputId": "14623f7e-8e0c-4155-fee0-2305e12550a9"
   },
   "outputs": [
    {
     "name": "stdout",
     "output_type": "stream",
     "text": [
      "Pregnancies                 0.0\n",
      "Glucose                     0.0\n",
      "BloodPressure               0.0\n",
      "SkinThickness               0.0\n",
      "Insulin                     0.0\n",
      "BMI                         0.0\n",
      "DiabetesPedigreeFunction    0.0\n",
      "Age                         0.0\n",
      "Outcome                     0.0\n",
      "dtype: float64\n"
     ]
    }
   ],
   "source": [
    "# Percentage of missing data in each column\n",
    "\n",
    "number_of_columns = data.shape[0]\n",
    "percentage_of_missing_data = data.isnull().sum()/number_of_columns\n",
    "print(percentage_of_missing_data)"
   ]
  },
  {
   "cell_type": "markdown",
   "metadata": {
    "_cell_guid": "437745c7-fa67-4af6-b165-ba84a8d3c394",
    "_execution_state": "idle",
    "_uuid": "1ef71a8a09126e3c66ddb6b5b84937942384767a",
    "id": "5KcfinAMJOcf"
   },
   "source": [
    "### Correlations"
   ]
  },
  {
   "cell_type": "code",
   "execution_count": 8,
   "metadata": {
    "_cell_guid": "9c122298-471f-4f02-aa14-5d4218385f56",
    "_execution_state": "idle",
    "_uuid": "cc96273ceb750522bc1f48e76599bbe12f384e9d",
    "colab": {
     "base_uri": "https://localhost:8080/",
     "height": 407
    },
    "id": "1isG_afPJOcg",
    "outputId": "aeaba558-4be3-4d0e-bd4c-c6dd5a943aed"
   },
   "outputs": [
    {
     "data": {
      "text/plain": [
       "<matplotlib.axes._subplots.AxesSubplot at 0x211d6869880>"
      ]
     },
     "execution_count": 8,
     "metadata": {},
     "output_type": "execute_result"
    },
    {
     "data": {
      "image/png": "[encoded data removed]",
      "text/plain": [
       "<Figure size 432x288 with 2 Axes>"
      ]
     },
     "metadata": {
      "needs_background": "light"
     },
     "output_type": "display_data"
    }
   ],
   "source": [
    "sns.heatmap(data.corr(), annot = True)"
   ]
  },
  {
   "cell_type": "code",
   "execution_count": 9,
   "metadata": {
    "colab": {
     "base_uri": "https://localhost:8080/",
     "height": 718
    },
    "id": "WOMO5rZGJOcm",
    "outputId": "bcf31f0f-fa71-4446-ffa6-56e8363c921a"
   },
   "outputs": [
    {
     "data": {
      "image/png": "[encoded data removed]",
      "text/plain": [
       "<Figure size 1440x1080 with 9 Axes>"
      ]
     },
     "metadata": {
      "needs_background": "light"
     },
     "output_type": "display_data"
    }
   ],
   "source": [
    "data.hist(bins=100, figsize=(20,15))\n",
    "\n",
    "plt.show()"
   ]
  },
  {
   "cell_type": "code",
   "execution_count": 10,
   "metadata": {
    "colab": {
     "base_uri": "https://localhost:8080/"
    },
    "id": "uUoG1nSHJOcu",
    "outputId": "67ecdfa0-6ad3-458b-9a73-3f5b1db81288"
   },
   "outputs": [
    {
     "name": "stdout",
     "output_type": "stream",
     "text": [
      "(768, 9)\n",
      "(768, 8)\n",
      "(768,)\n"
     ]
    }
   ],
   "source": [
    "X=data.iloc[:,:8].values\n",
    "y=data.iloc[:,8].values\n",
    "print(data.shape)\n",
    "print(X.shape)\n",
    "print(y.shape)"
   ]
  },
  {
   "cell_type": "code",
   "execution_count": 11,
   "metadata": {
    "id": "v-NfpgftJOc2"
   },
   "outputs": [],
   "source": [
    "from sklearn.model_selection import train_test_split\n",
    "\n",
    "X_train, X_test, y_train, y_test = train_test_split(X, y, test_size=0.2, random_state=0)"
   ]
  },
  {
   "cell_type": "code",
   "execution_count": 12,
   "metadata": {
    "id": "9SKilE4UJOc_"
   },
   "outputs": [],
   "source": [
    "from sklearn.preprocessing import StandardScaler\n",
    "\n",
    "std_scale = StandardScaler()\n",
    "\n",
    "train_data = std_scale.fit_transform(X_train)\n",
    "test_data = std_scale.transform(X_test)\n",
    "\n",
    "train_labels = y_train.reshape(-1,1)\n",
    "test_labels = y_test.reshape(-1,1)"
   ]
  },
  {
   "cell_type": "markdown",
   "metadata": {
    "id": "3s5fAfkYxLYp"
   },
   "source": [
    "## Preparation of the dataset for PyTorch"
   ]
  },
  {
   "cell_type": "code",
   "execution_count": 14,
   "metadata": {
    "id": "ahgOdhzoAXkf"
   },
   "outputs": [],
   "source": [
    "device = torch.device('cuda:0' if torch.cuda.is_available() else 'cpu')"
   ]
  },
  {
   "cell_type": "code",
   "execution_count": 15,
   "metadata": {
    "id": "wJ1L0HBAjGxk"
   },
   "outputs": [],
   "source": [
    "tensor_x = torch.tensor(train_data, dtype=torch.float).to(device) # transform to torch tensor\n",
    "tensor_x2 = torch.tensor(test_data, dtype=torch.float).to(device) "
   ]
  },
  {
   "cell_type": "code",
   "execution_count": 16,
   "metadata": {
    "id": "eZCUXWsRjGxt"
   },
   "outputs": [],
   "source": [
    "tensor_y = torch.tensor(train_labels, dtype=torch.float).to(device)\n",
    "tensor_y2 = torch.tensor(test_labels, dtype=torch.float).to(device)"
   ]
  },
  {
   "cell_type": "code",
   "execution_count": 17,
   "metadata": {
    "id": "PR0Pw5uNt22n"
   },
   "outputs": [],
   "source": [
    "# Normalizing the data\n",
    "\n",
    "#print(tensor_x,tensor_x2)\n",
    "\n",
    "#mean = torch.mean(tensor_x)\n",
    "#std = torch.std(tensor_x)\n",
    "\n",
    "#tensor_x = (tensor_x - mean) / std\n",
    "#tensor_x2 = (tensor_x2 - mean) / std"
   ]
  },
  {
   "cell_type": "markdown",
   "metadata": {
    "id": "0Q3zsgW2jGx8"
   },
   "source": [
    "## Building Feedforward Neural Networks with PyTorch"
   ]
  },
  {
   "cell_type": "markdown",
   "metadata": {
    "id": "3p2Us_9CNEpO"
   },
   "source": [
    "## Regularizations (Ensemble Methods)"
   ]
  },
  {
   "cell_type": "markdown",
   "metadata": {
    "id": "eIqYJTB7O9oL"
   },
   "source": [
    "- [Ensembles: the only (almost) free Lunch in Machine Learning](https://towardsdatascience.com/ensembles-the-almost-free-lunch-in-machine-learning-91af7ebe5090)\n",
    "    - Build optimal ensembles of neural networks with PyTorch and NumPy\n",
    "    \n",
    "    \n",
    "- [Bagging and Dropout Learning](https://jrodthoughts.medium.com/bagging-and-dropout-learning-ae484023b0da)"
   ]
  },
  {
   "cell_type": "markdown",
   "metadata": {
    "id": "DrPPRc_EO9oL"
   },
   "source": [
    "### Dropout: Ensemble Method Interpretation\n",
    "**Reference:** [Regularization by Sebastian Raschka](https://sebastianraschka.com/pdf/lecture-notes/stat479ss19/L10_regularization_slides.pdf)\n",
    "\n",
    "- In DL, we typically don't do regular ensembling (majority vote over a large number of networks, bagging, etc.) because it is very expensive to fit neural nets.\n",
    "- However, we know that the squared error for a prediction by a randomly selected model is larger than the squared error using an ensemble prediction (here, average over class probabilities).\n",
    "- Now, in dropout, we have a different model for each minibatch. \n",
    "- Via the minibatch iterations, we essentially sample over $M=2^h$ models, where h is the number of hidden units.\n",
    "- Restriction is that we have weight sharing over these models, which can be seen as a form of regularization.\n",
    "- During \"inference\" we can then average over all these models (but this is very expensive). \n",
    "- However, using the last model after training and scaling the predictions by a factor 1/(1-p) approximates the geometric mean and is much cheaper (actually, it's exactly the geometric mean if we have a linear model).\n",
    "\n",
    "### Dropout: More Practical Tips\n",
    "\n",
    "- Don't use Dropout if your model does not overfit .\n",
    "- However, in that case above, it is then recommended to increase the capacity to make it overfit, and then use dropout to be able to use a larger capacity model (but make it not overfit).\n",
    "\n"
   ]
  },
  {
   "cell_type": "markdown",
   "metadata": {
    "id": "P_xGYFrsjG0R"
   },
   "source": [
    "### Model A: 1 Hidden Layers Feedforward Neural Network"
   ]
  },
  {
   "cell_type": "markdown",
   "metadata": {
    "id": "Eq-gTJ_SjG0v"
   },
   "source": [
    "### Create model class"
   ]
  },
  {
   "cell_type": "code",
   "execution_count": 75,
   "metadata": {
    "id": "U2bcvOidid2l"
   },
   "outputs": [],
   "source": [
    "class FNN(nn.Module):\n",
    "    def __init__(self, input_dim, hidden_dim1, output_dim):\n",
    "        super(FNN, self).__init__()\n",
    "        \n",
    "        self.linear1 = nn.Linear(input_dim, hidden_dim1)\n",
    "        self.dropout1 = nn.Dropout(0.2)\n",
    "        self.relu1 = nn.ReLU()\n",
    "        self.linear2 = nn.Linear(hidden_dim1, output_dim)\n",
    "        self.sigmoid= nn.Sigmoid()\n",
    "\n",
    "    def forward(self, x):\n",
    "        out = self.linear1(x)\n",
    "        out = self.dropout1(out)\n",
    "        out = self.relu1(out)\n",
    "        out = self.linear2(out)\n",
    "        out = self.sigmoid(out)\n",
    "        return out"
   ]
  },
  {
   "cell_type": "code",
   "execution_count": 76,
   "metadata": {
    "id": "TNuuq39Nid2o"
   },
   "outputs": [],
   "source": [
    "input_dim = tensor_x.shape[1]\n",
    "output_dim = 1\n",
    "hidden_dim1 = 500"
   ]
  },
  {
   "cell_type": "code",
   "execution_count": 77,
   "metadata": {
    "id": "PwaZoNhUt22v"
   },
   "outputs": [],
   "source": [
    "model = FNN(input_dim, hidden_dim1, output_dim)\n",
    "\n",
    "#######################\n",
    "#  USE GPU FOR MODEL  #\n",
    "#######################\n",
    "if torch.cuda.is_available():\n",
    "    model.cuda()\n"
   ]
  },
  {
   "cell_type": "code",
   "execution_count": 78,
   "metadata": {
    "colab": {
     "base_uri": "https://localhost:8080/"
    },
    "id": "RDWXkP5iIKF9",
    "outputId": "1b9a665a-f39c-4ca4-b663-c108d8b8139a"
   },
   "outputs": [
    {
     "name": "stdout",
     "output_type": "stream",
     "text": [
      "----------------------------------------------------------------\n",
      "        Layer (type)               Output Shape         Param #\n",
      "================================================================\n",
      "            Linear-1               [-1, 1, 500]           4,500\n",
      "           Dropout-2               [-1, 1, 500]               0\n",
      "              ReLU-3               [-1, 1, 500]               0\n",
      "            Linear-4                 [-1, 1, 1]             501\n",
      "           Sigmoid-5                 [-1, 1, 1]               0\n",
      "================================================================\n",
      "Total params: 5,001\n",
      "Trainable params: 5,001\n",
      "Non-trainable params: 0\n",
      "----------------------------------------------------------------\n",
      "Input size (MB): 0.00\n",
      "Forward/backward pass size (MB): 0.01\n",
      "Params size (MB): 0.02\n",
      "Estimated Total Size (MB): 0.03\n",
      "----------------------------------------------------------------\n"
     ]
    }
   ],
   "source": [
    "summary(model, (1,tensor_x.shape[1]))"
   ]
  },
  {
   "cell_type": "code",
   "execution_count": 79,
   "metadata": {
    "id": "KnZxUvFvNJlZ"
   },
   "outputs": [],
   "source": [
    "criterion = nn.BCELoss()\n",
    "\n",
    "learning_rate = 0.05\n",
    "LAMBDA = 0.005\n",
    "optimizer = torch.optim.Adamax(model.parameters(), lr=learning_rate, weight_decay=LAMBDA)"
   ]
  },
  {
   "cell_type": "code",
   "execution_count": 80,
   "metadata": {
    "id": "w8DwiuDxv1Bi"
   },
   "outputs": [],
   "source": [
    "def accuracy(y_pred, y_test):\n",
    "    y_pred_tag = torch.round(y_pred)\n",
    "\n",
    "    correct_results_sum = (y_pred_tag == y_test).sum().float()\n",
    "    acc = correct_results_sum/y_test.shape[0]\n",
    "    acc = torch.round(acc * 100)\n",
    "    \n",
    "    return acc"
   ]
  },
  {
   "cell_type": "code",
   "execution_count": 81,
   "metadata": {
    "colab": {
     "base_uri": "https://localhost:8080/"
    },
    "id": "fHiKX1cdt22x",
    "outputId": "a76b815a-82f2-4798-ab6d-576e3635673b"
   },
   "outputs": [
    {
     "name": "stdout",
     "output_type": "stream",
     "text": [
      "Epoch: 0. Loss: 0.5366622805595398. Accuracy: 77.0\n",
      "Epoch: 500. Loss: 0.46224525570869446. Accuracy: 82.0\n",
      "Epoch: 1000. Loss: 0.45986196398735046. Accuracy: 81.0\n",
      "Epoch: 1500. Loss: 0.46127617359161377. Accuracy: 81.0\n",
      "Epoch: 2000. Loss: 0.4732803702354431. Accuracy: 82.0\n",
      "Epoch: 2500. Loss: 0.44946977496147156. Accuracy: 81.0\n",
      "Epoch: 3000. Loss: 0.4708336591720581. Accuracy: 79.0\n",
      "Epoch: 3500. Loss: 0.44731470942497253. Accuracy: 81.0\n",
      "Epoch: 4000. Loss: 0.44218361377716064. Accuracy: 81.0\n",
      "Epoch: 4500. Loss: 0.45056042075157166. Accuracy: 82.0\n"
     ]
    }
   ],
   "source": [
    "# Train the model\n",
    "\n",
    "num_epochs = 5000\n",
    "epoch_loss = []\n",
    "X = tensor_x\n",
    "y = tensor_y\n",
    "X_test = tensor_x2\n",
    "y_test = tensor_y2\n",
    "\n",
    "for epoch in range(num_epochs):\n",
    "        # Forward pass to get output/logits\n",
    "        outputs = model(X)\n",
    "        \n",
    "        # Calculate Loss\n",
    "        loss = criterion(outputs, y)\n",
    "        \n",
    "        '''\n",
    "        Save loss to draw loss curve\n",
    "        '''\n",
    "        epoch_loss.append(loss)\n",
    "\n",
    "        # Clear gradients w.r.t. parameters\n",
    "        optimizer.zero_grad() \n",
    "             \n",
    "        # Getting gradients w.r.t. parameters\n",
    "        loss.backward()\n",
    "        \n",
    "        # Updating parameters\n",
    "        optimizer.step()\n",
    "    \n",
    "        # Testing the model\n",
    "        if epoch % 500 == 0:\n",
    "            # Forward pass to get output/logits\n",
    "            outputs = model(X_test)\n",
    "            loss_t = criterion(outputs, y_test)\n",
    "            \n",
    "            # Print Loss\n",
    "            print('Epoch: {}. Loss: {}. Accuracy: {}'.format(epoch, loss_t.data, accuracy(outputs, y_test)))\n",
    "            "
   ]
  },
  {
   "cell_type": "code",
   "execution_count": 82,
   "metadata": {
    "colab": {
     "base_uri": "https://localhost:8080/",
     "height": 282
    },
    "id": "4oYI3pK5id2-",
    "outputId": "b9759047-860a-4156-fc61-e7af556b33b1"
   },
   "outputs": [
    {
     "data": {
      "text/plain": [
       "[<matplotlib.lines.Line2D at 0x17320f9ec70>]"
      ]
     },
     "execution_count": 82,
     "metadata": {},
     "output_type": "execute_result"
    },
    {
     "data": {
      "image/png": "[encoded data removed]",
      "text/plain": [
       "<Figure size 432x288 with 1 Axes>"
      ]
     },
     "metadata": {
      "needs_background": "light"
     },
     "output_type": "display_data"
    }
   ],
   "source": [
    "plt.plot(epoch_loss)"
   ]
  },
  {
   "cell_type": "markdown",
   "metadata": {
    "id": "9ALXLLyMid3F"
   },
   "source": [
    "### Model B: 2 Hidden Layers Feedforward Neural Network"
   ]
  },
  {
   "cell_type": "markdown",
   "metadata": {
    "id": "iBaF_XSxid3G"
   },
   "source": [
    "### Create model class"
   ]
  },
  {
   "cell_type": "code",
   "execution_count": 107,
   "metadata": {
    "id": "L_pXroQFt22q"
   },
   "outputs": [],
   "source": [
    "class FNN(nn.Module):\n",
    "    def __init__(self, input_dim, hidden_dim1, hidden_dim2, output_dim):\n",
    "        super(FNN, self).__init__()\n",
    "        \n",
    "        self.linear1 = nn.Linear(input_dim, hidden_dim1)\n",
    "        self.relu1 = nn.ReLU()\n",
    "        self.linear2 = nn.Linear(hidden_dim1, hidden_dim2)\n",
    "        self.relu2 = nn.ReLU()\n",
    "        self.dropout1 = nn.Dropout(0.5)\n",
    "        self.linear4 = nn.Linear(hidden_dim2, output_dim)\n",
    "        self.sigmoid= nn.Sigmoid()\n",
    "\n",
    "    def forward(self, x):\n",
    "        out = self.linear1(x)\n",
    "        out = self.relu1(out)\n",
    "        out = self.linear2(out)\n",
    "        out = self.dropout1(out)\n",
    "        out = self.relu2(out)\n",
    "        out = self.linear4(out)\n",
    "        out = self.sigmoid(out)\n",
    "        return out"
   ]
  },
  {
   "cell_type": "code",
   "execution_count": 108,
   "metadata": {
    "id": "lTICx4_Gt22t"
   },
   "outputs": [],
   "source": [
    "input_dim = tensor_x.shape[1]\n",
    "output_dim = 1\n",
    "hidden_dim1 = 50\n",
    "hidden_dim2 = 100"
   ]
  },
  {
   "cell_type": "code",
   "execution_count": 109,
   "metadata": {
    "id": "CsAmcdIkid3M"
   },
   "outputs": [],
   "source": [
    "model = FNN(input_dim, hidden_dim1, hidden_dim2, output_dim)\n",
    "\n",
    "#######################\n",
    "#  USE GPU FOR MODEL  #\n",
    "#######################\n",
    "if torch.cuda.is_available():\n",
    "    model.cuda()\n"
   ]
  },
  {
   "cell_type": "code",
   "execution_count": 110,
   "metadata": {
    "colab": {
     "base_uri": "https://localhost:8080/"
    },
    "id": "pJQ-4kilid3P",
    "outputId": "1711b9f8-ef67-4623-912b-244044f7713a"
   },
   "outputs": [
    {
     "name": "stdout",
     "output_type": "stream",
     "text": [
      "----------------------------------------------------------------\n",
      "        Layer (type)               Output Shape         Param #\n",
      "================================================================\n",
      "            Linear-1                [-1, 1, 50]             450\n",
      "              ReLU-2                [-1, 1, 50]               0\n",
      "            Linear-3               [-1, 1, 100]           5,100\n",
      "           Dropout-4               [-1, 1, 100]               0\n",
      "              ReLU-5               [-1, 1, 100]               0\n",
      "            Linear-6                 [-1, 1, 1]             101\n",
      "           Sigmoid-7                 [-1, 1, 1]               0\n",
      "================================================================\n",
      "Total params: 5,651\n",
      "Trainable params: 5,651\n",
      "Non-trainable params: 0\n",
      "----------------------------------------------------------------\n",
      "Input size (MB): 0.00\n",
      "Forward/backward pass size (MB): 0.00\n",
      "Params size (MB): 0.02\n",
      "Estimated Total Size (MB): 0.02\n",
      "----------------------------------------------------------------\n"
     ]
    }
   ],
   "source": [
    "summary(model, (1,tensor_x.shape[1]))"
   ]
  },
  {
   "cell_type": "code",
   "execution_count": 111,
   "metadata": {
    "id": "CPJJ6IL8id3S"
   },
   "outputs": [],
   "source": [
    "criterion = nn.BCELoss()\n",
    "\n",
    "learning_rate = 0.01\n",
    "LAMBDA = 0.009\n",
    "optimizer = torch.optim.SGD(model.parameters(), lr=learning_rate, weight_decay=LAMBDA)"
   ]
  },
  {
   "cell_type": "code",
   "execution_count": 112,
   "metadata": {
    "colab": {
     "base_uri": "https://localhost:8080/"
    },
    "id": "-aFVLG-Rid3Z",
    "outputId": "3e610c41-473d-47c3-eaa5-402c51163040"
   },
   "outputs": [
    {
     "name": "stdout",
     "output_type": "stream",
     "text": [
      "Epoch: 0. Loss: 0.6810814738273621. Accuracy: 63.0\n",
      "Epoch: 1000. Loss: 0.47786954045295715. Accuracy: 79.0\n",
      "Epoch: 2000. Loss: 0.4346664249897003. Accuracy: 82.0\n",
      "Epoch: 3000. Loss: 0.4311755895614624. Accuracy: 80.0\n",
      "Epoch: 4000. Loss: 0.42886853218078613. Accuracy: 82.0\n",
      "Epoch: 5000. Loss: 0.4618012607097626. Accuracy: 82.0\n",
      "Epoch: 6000. Loss: 0.44667986035346985. Accuracy: 81.0\n",
      "Epoch: 7000. Loss: 0.4513941705226898. Accuracy: 79.0\n",
      "Epoch: 8000. Loss: 0.44242632389068604. Accuracy: 81.0\n",
      "Epoch: 9000. Loss: 0.44299569725990295. Accuracy: 81.0\n"
     ]
    }
   ],
   "source": [
    "# Train the model\n",
    "\n",
    "num_epochs = 10000\n",
    "epoch_loss = []\n",
    "X = tensor_x\n",
    "y = tensor_y\n",
    "X_test = tensor_x2\n",
    "y_test = tensor_y2\n",
    "\n",
    "for epoch in range(num_epochs):\n",
    "        # Forward pass to get output/logits\n",
    "        outputs = model(X)\n",
    "        \n",
    "        # Calculate Loss\n",
    "        loss = criterion(outputs, y)\n",
    "        \n",
    "        '''\n",
    "        Save loss to draw loss curve\n",
    "        '''\n",
    "        epoch_loss.append(loss)\n",
    "\n",
    "        # Clear gradients w.r.t. parameters\n",
    "        optimizer.zero_grad() \n",
    "             \n",
    "        # Getting gradients w.r.t. parameters\n",
    "        loss.backward()\n",
    "        \n",
    "        # Updating parameters\n",
    "        optimizer.step()\n",
    "    \n",
    "        # Testing the model\n",
    "        if epoch % 1000 == 0:\n",
    "            # Forward pass to get output/logits\n",
    "            outputs = model(X_test)\n",
    "            loss_t = criterion(outputs, y_test)\n",
    "            \n",
    "            # Print Loss\n",
    "            print('Epoch: {}. Loss: {}. Accuracy: {}'.format(epoch, loss_t.data, accuracy(outputs, y_test)))\n",
    "            "
   ]
  },
  {
   "cell_type": "code",
   "execution_count": 113,
   "metadata": {
    "colab": {
     "base_uri": "https://localhost:8080/",
     "height": 282
    },
    "id": "ZE-GXPGWid3c",
    "outputId": "5db2cd80-facb-4bc4-cd61-eb7e50188023"
   },
   "outputs": [
    {
     "data": {
      "text/plain": [
       "[<matplotlib.lines.Line2D at 0x1732181f7f0>]"
      ]
     },
     "execution_count": 113,
     "metadata": {},
     "output_type": "execute_result"
    },
    {
     "data": {
      "image/png": "[encoded data removed]",
      "text/plain": [
       "<Figure size 432x288 with 1 Axes>"
      ]
     },
     "metadata": {
      "needs_background": "light"
     },
     "output_type": "display_data"
    }
   ],
   "source": [
    "plt.plot(epoch_loss)"
   ]
  },
  {
   "cell_type": "markdown",
   "metadata": {
    "id": "zI7P2o5cNErL"
   },
   "source": [
    "## **Optimization:** Different optimizers and batch normalization"
   ]
  },
  {
   "cell_type": "markdown",
   "metadata": {
    "id": "hPJd1fysO9oN"
   },
   "source": [
    "## 1. SGD"
   ]
  },
  {
   "cell_type": "markdown",
   "metadata": {
    "id": "P_xGYFrsjG0R"
   },
   "source": [
    "### Model A: 1 Hidden Layers Feedforward Neural Network"
   ]
  },
  {
   "cell_type": "markdown",
   "metadata": {
    "id": "Eq-gTJ_SjG0v"
   },
   "source": [
    "### Create model class"
   ]
  },
  {
   "cell_type": "code",
   "execution_count": 114,
   "metadata": {
    "id": "U2bcvOidid2l"
   },
   "outputs": [],
   "source": [
    "class FNN(nn.Module):\n",
    "    def __init__(self, input_dim, hidden_dim1, output_dim):\n",
    "        super(FNN, self).__init__()\n",
    "        \n",
    "        self.linear1 = nn.Linear(input_dim, hidden_dim1)\n",
    "        self.dropout1 = nn.Dropout(0.2)\n",
    "        self.relu1 = nn.ReLU()\n",
    "        self.linear2 = nn.Linear(hidden_dim1, output_dim)\n",
    "        self.sigmoid= nn.Sigmoid()\n",
    "\n",
    "    def forward(self, x):\n",
    "        out = self.linear1(x)\n",
    "        out = self.dropout1(out)\n",
    "        out = self.relu1(out)\n",
    "        out = self.linear2(out)\n",
    "        out = self.sigmoid(out)\n",
    "        return out"
   ]
  },
  {
   "cell_type": "code",
   "execution_count": 115,
   "metadata": {
    "id": "TNuuq39Nid2o"
   },
   "outputs": [],
   "source": [
    "input_dim = tensor_x.shape[1]\n",
    "output_dim = 1\n",
    "hidden_dim1 = 500"
   ]
  },
  {
   "cell_type": "code",
   "execution_count": 116,
   "metadata": {
    "id": "PwaZoNhUt22v"
   },
   "outputs": [],
   "source": [
    "model = FNN(input_dim, hidden_dim1, output_dim)\n",
    "\n",
    "#######################\n",
    "#  USE GPU FOR MODEL  #\n",
    "#######################\n",
    "if torch.cuda.is_available():\n",
    "    model.cuda()\n"
   ]
  },
  {
   "cell_type": "code",
   "execution_count": 117,
   "metadata": {
    "colab": {
     "base_uri": "https://localhost:8080/"
    },
    "id": "RDWXkP5iIKF9",
    "outputId": "1b9a665a-f39c-4ca4-b663-c108d8b8139a"
   },
   "outputs": [
    {
     "name": "stdout",
     "output_type": "stream",
     "text": [
      "----------------------------------------------------------------\n",
      "        Layer (type)               Output Shape         Param #\n",
      "================================================================\n",
      "            Linear-1               [-1, 1, 500]           4,500\n",
      "           Dropout-2               [-1, 1, 500]               0\n",
      "              ReLU-3               [-1, 1, 500]               0\n",
      "            Linear-4                 [-1, 1, 1]             501\n",
      "           Sigmoid-5                 [-1, 1, 1]               0\n",
      "================================================================\n",
      "Total params: 5,001\n",
      "Trainable params: 5,001\n",
      "Non-trainable params: 0\n",
      "----------------------------------------------------------------\n",
      "Input size (MB): 0.00\n",
      "Forward/backward pass size (MB): 0.01\n",
      "Params size (MB): 0.02\n",
      "Estimated Total Size (MB): 0.03\n",
      "----------------------------------------------------------------\n"
     ]
    }
   ],
   "source": [
    "summary(model, (1,tensor_x.shape[1]))"
   ]
  },
  {
   "cell_type": "code",
   "execution_count": 118,
   "metadata": {
    "id": "KnZxUvFvNJlZ"
   },
   "outputs": [],
   "source": [
    "criterion = nn.BCELoss()\n",
    "\n",
    "learning_rate = 0.05\n",
    "LAMBDA = 0.005\n",
    "optimizer = torch.optim.SGD(model.parameters(), lr=learning_rate, weight_decay=LAMBDA)"
   ]
  },
  {
   "cell_type": "code",
   "execution_count": 119,
   "metadata": {
    "id": "w8DwiuDxv1Bi"
   },
   "outputs": [],
   "source": [
    "def accuracy(y_pred, y_test):\n",
    "    y_pred_tag = torch.round(y_pred)\n",
    "\n",
    "    correct_results_sum = (y_pred_tag == y_test).sum().float()\n",
    "    acc = correct_results_sum/y_test.shape[0]\n",
    "    acc = torch.round(acc * 100)\n",
    "    \n",
    "    return acc"
   ]
  },
  {
   "cell_type": "code",
   "execution_count": 120,
   "metadata": {
    "colab": {
     "base_uri": "https://localhost:8080/"
    },
    "id": "fHiKX1cdt22x",
    "outputId": "a76b815a-82f2-4798-ab6d-576e3635673b"
   },
   "outputs": [
    {
     "name": "stdout",
     "output_type": "stream",
     "text": [
      "Epoch: 0. Loss: 0.6263636946678162. Accuracy: 73.0\n",
      "Epoch: 500. Loss: 0.43557703495025635. Accuracy: 83.0\n",
      "Epoch: 1000. Loss: 0.43466341495513916. Accuracy: 80.0\n",
      "Epoch: 1500. Loss: 0.4574018120765686. Accuracy: 82.0\n",
      "Epoch: 2000. Loss: 0.4474860727787018. Accuracy: 81.0\n",
      "Epoch: 2500. Loss: 0.45311251282691956. Accuracy: 81.0\n",
      "Epoch: 3000. Loss: 0.4561103582382202. Accuracy: 81.0\n",
      "Epoch: 3500. Loss: 0.43968328833580017. Accuracy: 81.0\n",
      "Epoch: 4000. Loss: 0.4570644795894623. Accuracy: 80.0\n",
      "Epoch: 4500. Loss: 0.4597553014755249. Accuracy: 81.0\n"
     ]
    }
   ],
   "source": [
    "# Train the model\n",
    "\n",
    "num_epochs = 5000\n",
    "epoch_loss = []\n",
    "X = tensor_x\n",
    "y = tensor_y\n",
    "X_test = tensor_x2\n",
    "y_test = tensor_y2\n",
    "\n",
    "for epoch in range(num_epochs):\n",
    "        # Forward pass to get output/logits\n",
    "        outputs = model(X)\n",
    "        \n",
    "        # Calculate Loss\n",
    "        loss = criterion(outputs, y)\n",
    "        \n",
    "        '''\n",
    "        Save loss to draw loss curve\n",
    "        '''\n",
    "        epoch_loss.append(loss)\n",
    "\n",
    "        # Clear gradients w.r.t. parameters\n",
    "        optimizer.zero_grad() \n",
    "             \n",
    "        # Getting gradients w.r.t. parameters\n",
    "        loss.backward()\n",
    "        \n",
    "        # Updating parameters\n",
    "        optimizer.step()\n",
    "    \n",
    "        # Testing the model\n",
    "        if epoch % 500 == 0:\n",
    "            # Forward pass to get output/logits\n",
    "            outputs = model(X_test)\n",
    "            loss_t = criterion(outputs, y_test)\n",
    "            \n",
    "            # Print Loss\n",
    "            print('Epoch: {}. Loss: {}. Accuracy: {}'.format(epoch, loss_t.data, accuracy(outputs, y_test)))\n",
    "            "
   ]
  },
  {
   "cell_type": "code",
   "execution_count": 121,
   "metadata": {
    "colab": {
     "base_uri": "https://localhost:8080/",
     "height": 282
    },
    "id": "4oYI3pK5id2-",
    "outputId": "b9759047-860a-4156-fc61-e7af556b33b1"
   },
   "outputs": [
    {
     "data": {
      "text/plain": [
       "[<matplotlib.lines.Line2D at 0x173219f24f0>]"
      ]
     },
     "execution_count": 121,
     "metadata": {},
     "output_type": "execute_result"
    },
    {
     "data": {
      "image/png": "[encoded data removed]",
      "text/plain": [
       "<Figure size 432x288 with 1 Axes>"
      ]
     },
     "metadata": {
      "needs_background": "light"
     },
     "output_type": "display_data"
    }
   ],
   "source": [
    "plt.plot(epoch_loss)"
   ]
  },
  {
   "cell_type": "markdown",
   "metadata": {
    "id": "uIFxFNUnO9oO"
   },
   "source": [
    "## 2. SGD Momentum"
   ]
  },
  {
   "cell_type": "markdown",
   "metadata": {
    "id": "P_xGYFrsjG0R"
   },
   "source": [
    "### Model A: 1 Hidden Layers Feedforward Neural Network"
   ]
  },
  {
   "cell_type": "markdown",
   "metadata": {
    "id": "Eq-gTJ_SjG0v"
   },
   "source": [
    "### Create model class"
   ]
  },
  {
   "cell_type": "code",
   "execution_count": 122,
   "metadata": {
    "id": "U2bcvOidid2l"
   },
   "outputs": [],
   "source": [
    "class FNN(nn.Module):\n",
    "    def __init__(self, input_dim, hidden_dim1, output_dim):\n",
    "        super(FNN, self).__init__()\n",
    "        \n",
    "        self.linear1 = nn.Linear(input_dim, hidden_dim1)\n",
    "        self.dropout1 = nn.Dropout(0.2)\n",
    "        self.relu1 = nn.ReLU()\n",
    "        self.linear2 = nn.Linear(hidden_dim1, output_dim)\n",
    "        self.sigmoid= nn.Sigmoid()\n",
    "\n",
    "    def forward(self, x):\n",
    "        out = self.linear1(x)\n",
    "        out = self.dropout1(out)\n",
    "        out = self.relu1(out)\n",
    "        out = self.linear2(out)\n",
    "        out = self.sigmoid(out)\n",
    "        return out"
   ]
  },
  {
   "cell_type": "code",
   "execution_count": 123,
   "metadata": {
    "id": "TNuuq39Nid2o"
   },
   "outputs": [],
   "source": [
    "input_dim = tensor_x.shape[1]\n",
    "output_dim = 1\n",
    "hidden_dim1 = 500"
   ]
  },
  {
   "cell_type": "code",
   "execution_count": 124,
   "metadata": {
    "id": "PwaZoNhUt22v"
   },
   "outputs": [],
   "source": [
    "model = FNN(input_dim, hidden_dim1, output_dim)\n",
    "\n",
    "#######################\n",
    "#  USE GPU FOR MODEL  #\n",
    "#######################\n",
    "if torch.cuda.is_available():\n",
    "    model.cuda()\n"
   ]
  },
  {
   "cell_type": "code",
   "execution_count": 125,
   "metadata": {
    "colab": {
     "base_uri": "https://localhost:8080/"
    },
    "id": "RDWXkP5iIKF9",
    "outputId": "1b9a665a-f39c-4ca4-b663-c108d8b8139a"
   },
   "outputs": [
    {
     "name": "stdout",
     "output_type": "stream",
     "text": [
      "----------------------------------------------------------------\n",
      "        Layer (type)               Output Shape         Param #\n",
      "================================================================\n",
      "            Linear-1               [-1, 1, 500]           4,500\n",
      "           Dropout-2               [-1, 1, 500]               0\n",
      "              ReLU-3               [-1, 1, 500]               0\n",
      "            Linear-4                 [-1, 1, 1]             501\n",
      "           Sigmoid-5                 [-1, 1, 1]               0\n",
      "================================================================\n",
      "Total params: 5,001\n",
      "Trainable params: 5,001\n",
      "Non-trainable params: 0\n",
      "----------------------------------------------------------------\n",
      "Input size (MB): 0.00\n",
      "Forward/backward pass size (MB): 0.01\n",
      "Params size (MB): 0.02\n",
      "Estimated Total Size (MB): 0.03\n",
      "----------------------------------------------------------------\n"
     ]
    }
   ],
   "source": [
    "summary(model, (1,tensor_x.shape[1]))"
   ]
  },
  {
   "cell_type": "code",
   "execution_count": 126,
   "metadata": {
    "id": "KnZxUvFvNJlZ"
   },
   "outputs": [],
   "source": [
    "criterion = nn.BCELoss()\n",
    "\n",
    "learning_rate = 0.05\n",
    "LAMBDA = 0.005\n",
    "optimizer = torch.optim.SGD(model.parameters(), lr=learning_rate, weight_decay=LAMBDA, momentum=0.8)"
   ]
  },
  {
   "cell_type": "code",
   "execution_count": 127,
   "metadata": {
    "id": "w8DwiuDxv1Bi"
   },
   "outputs": [],
   "source": [
    "def accuracy(y_pred, y_test):\n",
    "    y_pred_tag = torch.round(y_pred)\n",
    "\n",
    "    correct_results_sum = (y_pred_tag == y_test).sum().float()\n",
    "    acc = correct_results_sum/y_test.shape[0]\n",
    "    acc = torch.round(acc * 100)\n",
    "    \n",
    "    return acc"
   ]
  },
  {
   "cell_type": "code",
   "execution_count": 128,
   "metadata": {
    "colab": {
     "base_uri": "https://localhost:8080/"
    },
    "id": "fHiKX1cdt22x",
    "outputId": "a76b815a-82f2-4798-ab6d-576e3635673b"
   },
   "outputs": [
    {
     "name": "stdout",
     "output_type": "stream",
     "text": [
      "Epoch: 0. Loss: 0.6517653465270996. Accuracy: 71.0\n",
      "Epoch: 500. Loss: 0.4478762745857239. Accuracy: 82.0\n",
      "Epoch: 1000. Loss: 0.46376264095306396. Accuracy: 81.0\n",
      "Epoch: 1500. Loss: 0.44708380103111267. Accuracy: 82.0\n",
      "Epoch: 2000. Loss: 0.4432355761528015. Accuracy: 79.0\n",
      "Epoch: 2500. Loss: 0.45371371507644653. Accuracy: 82.0\n",
      "Epoch: 3000. Loss: 0.45403093099594116. Accuracy: 83.0\n",
      "Epoch: 3500. Loss: 0.46377667784690857. Accuracy: 82.0\n",
      "Epoch: 4000. Loss: 0.46613603830337524. Accuracy: 79.0\n",
      "Epoch: 4500. Loss: 0.45843619108200073. Accuracy: 80.0\n"
     ]
    }
   ],
   "source": [
    "# Train the model\n",
    "\n",
    "num_epochs = 5000\n",
    "epoch_loss = []\n",
    "X = tensor_x\n",
    "y = tensor_y\n",
    "X_test = tensor_x2\n",
    "y_test = tensor_y2\n",
    "\n",
    "for epoch in range(num_epochs):\n",
    "        # Forward pass to get output/logits\n",
    "        outputs = model(X)\n",
    "        \n",
    "        # Calculate Loss\n",
    "        loss = criterion(outputs, y)\n",
    "        \n",
    "        '''\n",
    "        Save loss to draw loss curve\n",
    "        '''\n",
    "        epoch_loss.append(loss)\n",
    "\n",
    "        # Clear gradients w.r.t. parameters\n",
    "        optimizer.zero_grad() \n",
    "             \n",
    "        # Getting gradients w.r.t. parameters\n",
    "        loss.backward()\n",
    "        \n",
    "        # Updating parameters\n",
    "        optimizer.step()\n",
    "    \n",
    "        # Testing the model\n",
    "        if epoch % 500 == 0:\n",
    "            # Forward pass to get output/logits\n",
    "            outputs = model(X_test)\n",
    "            loss_t = criterion(outputs, y_test)\n",
    "            \n",
    "            # Print Loss\n",
    "            print('Epoch: {}. Loss: {}. Accuracy: {}'.format(epoch, loss_t.data, accuracy(outputs, y_test)))\n",
    "            "
   ]
  },
  {
   "cell_type": "code",
   "execution_count": 129,
   "metadata": {
    "colab": {
     "base_uri": "https://localhost:8080/",
     "height": 282
    },
    "id": "4oYI3pK5id2-",
    "outputId": "b9759047-860a-4156-fc61-e7af556b33b1"
   },
   "outputs": [
    {
     "data": {
      "text/plain": [
       "[<matplotlib.lines.Line2D at 0x17321a97b50>]"
      ]
     },
     "execution_count": 129,
     "metadata": {},
     "output_type": "execute_result"
    },
    {
     "data": {
      "image/png": "[encoded data removed]",
      "text/plain": [
       "<Figure size 432x288 with 1 Axes>"
      ]
     },
     "metadata": {
      "needs_background": "light"
     },
     "output_type": "display_data"
    }
   ],
   "source": [
    "plt.plot(epoch_loss)"
   ]
  },
  {
   "cell_type": "markdown",
   "metadata": {
    "id": "Dn5NcDKsO9oQ"
   },
   "source": [
    "## 3. SGD Nesterov"
   ]
  },
  {
   "cell_type": "markdown",
   "metadata": {
    "id": "P_xGYFrsjG0R"
   },
   "source": [
    "### Model A: 1 Hidden Layers Feedforward Neural Network"
   ]
  },
  {
   "cell_type": "markdown",
   "metadata": {
    "id": "Eq-gTJ_SjG0v"
   },
   "source": [
    "### Create model class"
   ]
  },
  {
   "cell_type": "code",
   "execution_count": 130,
   "metadata": {
    "id": "U2bcvOidid2l"
   },
   "outputs": [],
   "source": [
    "class FNN(nn.Module):\n",
    "    def __init__(self, input_dim, hidden_dim1, output_dim):\n",
    "        super(FNN, self).__init__()\n",
    "        \n",
    "        self.linear1 = nn.Linear(input_dim, hidden_dim1)\n",
    "        self.dropout1 = nn.Dropout(0.2)\n",
    "        self.relu1 = nn.ReLU()\n",
    "        self.linear2 = nn.Linear(hidden_dim1, output_dim)\n",
    "        self.sigmoid= nn.Sigmoid()\n",
    "\n",
    "    def forward(self, x):\n",
    "        out = self.linear1(x)\n",
    "        out = self.dropout1(out)\n",
    "        out = self.relu1(out)\n",
    "        out = self.linear2(out)\n",
    "        out = self.sigmoid(out)\n",
    "        return out"
   ]
  },
  {
   "cell_type": "code",
   "execution_count": 131,
   "metadata": {
    "id": "TNuuq39Nid2o"
   },
   "outputs": [],
   "source": [
    "input_dim = tensor_x.shape[1]\n",
    "output_dim = 1\n",
    "hidden_dim1 = 500"
   ]
  },
  {
   "cell_type": "code",
   "execution_count": 132,
   "metadata": {
    "id": "PwaZoNhUt22v"
   },
   "outputs": [],
   "source": [
    "model = FNN(input_dim, hidden_dim1, output_dim)\n",
    "\n",
    "#######################\n",
    "#  USE GPU FOR MODEL  #\n",
    "#######################\n",
    "if torch.cuda.is_available():\n",
    "    model.cuda()\n"
   ]
  },
  {
   "cell_type": "code",
   "execution_count": 133,
   "metadata": {
    "colab": {
     "base_uri": "https://localhost:8080/"
    },
    "id": "RDWXkP5iIKF9",
    "outputId": "1b9a665a-f39c-4ca4-b663-c108d8b8139a"
   },
   "outputs": [
    {
     "name": "stdout",
     "output_type": "stream",
     "text": [
      "----------------------------------------------------------------\n",
      "        Layer (type)               Output Shape         Param #\n",
      "================================================================\n",
      "            Linear-1               [-1, 1, 500]           4,500\n",
      "           Dropout-2               [-1, 1, 500]               0\n",
      "              ReLU-3               [-1, 1, 500]               0\n",
      "            Linear-4                 [-1, 1, 1]             501\n",
      "           Sigmoid-5                 [-1, 1, 1]               0\n",
      "================================================================\n",
      "Total params: 5,001\n",
      "Trainable params: 5,001\n",
      "Non-trainable params: 0\n",
      "----------------------------------------------------------------\n",
      "Input size (MB): 0.00\n",
      "Forward/backward pass size (MB): 0.01\n",
      "Params size (MB): 0.02\n",
      "Estimated Total Size (MB): 0.03\n",
      "----------------------------------------------------------------\n"
     ]
    }
   ],
   "source": [
    "summary(model, (1,tensor_x.shape[1]))"
   ]
  },
  {
   "cell_type": "code",
   "execution_count": 134,
   "metadata": {
    "id": "KnZxUvFvNJlZ"
   },
   "outputs": [],
   "source": [
    "criterion = nn.BCELoss()\n",
    "\n",
    "learning_rate = 0.05\n",
    "LAMBDA = 0.005\n",
    "optimizer = torch.optim.SGD(model.parameters(), lr=learning_rate, weight_decay=LAMBDA, momentum=0.8, nesterov=True)"
   ]
  },
  {
   "cell_type": "code",
   "execution_count": 135,
   "metadata": {
    "id": "w8DwiuDxv1Bi"
   },
   "outputs": [],
   "source": [
    "def accuracy(y_pred, y_test):\n",
    "    y_pred_tag = torch.round(y_pred)\n",
    "\n",
    "    correct_results_sum = (y_pred_tag == y_test).sum().float()\n",
    "    acc = correct_results_sum/y_test.shape[0]\n",
    "    acc = torch.round(acc * 100)\n",
    "    \n",
    "    return acc"
   ]
  },
  {
   "cell_type": "code",
   "execution_count": 136,
   "metadata": {
    "colab": {
     "base_uri": "https://localhost:8080/"
    },
    "id": "fHiKX1cdt22x",
    "outputId": "a76b815a-82f2-4798-ab6d-576e3635673b"
   },
   "outputs": [
    {
     "name": "stdout",
     "output_type": "stream",
     "text": [
      "Epoch: 0. Loss: 0.6343744993209839. Accuracy: 71.0\n",
      "Epoch: 500. Loss: 0.45224830508232117. Accuracy: 81.0\n",
      "Epoch: 1000. Loss: 0.43933847546577454. Accuracy: 83.0\n",
      "Epoch: 1500. Loss: 0.4569447636604309. Accuracy: 82.0\n",
      "Epoch: 2000. Loss: 0.4660406708717346. Accuracy: 79.0\n",
      "Epoch: 2500. Loss: 0.45325037837028503. Accuracy: 81.0\n",
      "Epoch: 3000. Loss: 0.4395796060562134. Accuracy: 81.0\n",
      "Epoch: 3500. Loss: 0.4467664957046509. Accuracy: 81.0\n",
      "Epoch: 4000. Loss: 0.46518945693969727. Accuracy: 79.0\n",
      "Epoch: 4500. Loss: 0.4424806535243988. Accuracy: 82.0\n"
     ]
    }
   ],
   "source": [
    "# Train the model\n",
    "\n",
    "num_epochs = 5000\n",
    "epoch_loss = []\n",
    "X = tensor_x\n",
    "y = tensor_y\n",
    "X_test = tensor_x2\n",
    "y_test = tensor_y2\n",
    "\n",
    "for epoch in range(num_epochs):\n",
    "        # Forward pass to get output/logits\n",
    "        outputs = model(X)\n",
    "        \n",
    "        # Calculate Loss\n",
    "        loss = criterion(outputs, y)\n",
    "        \n",
    "        '''\n",
    "        Save loss to draw loss curve\n",
    "        '''\n",
    "        epoch_loss.append(loss)\n",
    "\n",
    "        # Clear gradients w.r.t. parameters\n",
    "        optimizer.zero_grad() \n",
    "             \n",
    "        # Getting gradients w.r.t. parameters\n",
    "        loss.backward()\n",
    "        \n",
    "        # Updating parameters\n",
    "        optimizer.step()\n",
    "    \n",
    "        # Testing the model\n",
    "        if epoch % 500 == 0:\n",
    "            # Forward pass to get output/logits\n",
    "            outputs = model(X_test)\n",
    "            loss_t = criterion(outputs, y_test)\n",
    "            \n",
    "            # Print Loss\n",
    "            print('Epoch: {}. Loss: {}. Accuracy: {}'.format(epoch, loss_t.data, accuracy(outputs, y_test)))\n",
    "            "
   ]
  },
  {
   "cell_type": "code",
   "execution_count": 137,
   "metadata": {
    "colab": {
     "base_uri": "https://localhost:8080/",
     "height": 282
    },
    "id": "4oYI3pK5id2-",
    "outputId": "b9759047-860a-4156-fc61-e7af556b33b1"
   },
   "outputs": [
    {
     "data": {
      "text/plain": [
       "[<matplotlib.lines.Line2D at 0x17321b46d30>]"
      ]
     },
     "execution_count": 137,
     "metadata": {},
     "output_type": "execute_result"
    },
    {
     "data": {
      "image/png": "[encoded data removed]",
      "text/plain": [
       "<Figure size 432x288 with 1 Axes>"
      ]
     },
     "metadata": {
      "needs_background": "light"
     },
     "output_type": "display_data"
    }
   ],
   "source": [
    "plt.plot(epoch_loss)"
   ]
  },
  {
   "cell_type": "markdown",
   "metadata": {
    "id": "jbF138UBO9oU"
   },
   "source": [
    "## 4. Adam"
   ]
  },
  {
   "cell_type": "markdown",
   "metadata": {
    "id": "P_xGYFrsjG0R"
   },
   "source": [
    "### Model A: 1 Hidden Layers Feedforward Neural Network"
   ]
  },
  {
   "cell_type": "markdown",
   "metadata": {
    "id": "Eq-gTJ_SjG0v"
   },
   "source": [
    "### Create model class"
   ]
  },
  {
   "cell_type": "code",
   "execution_count": 138,
   "metadata": {
    "id": "U2bcvOidid2l"
   },
   "outputs": [],
   "source": [
    "class FNN(nn.Module):\n",
    "    def __init__(self, input_dim, hidden_dim1, output_dim):\n",
    "        super(FNN, self).__init__()\n",
    "        \n",
    "        self.linear1 = nn.Linear(input_dim, hidden_dim1)\n",
    "        self.dropout1 = nn.Dropout(0.2)\n",
    "        self.relu1 = nn.ReLU()\n",
    "        self.linear2 = nn.Linear(hidden_dim1, output_dim)\n",
    "        self.sigmoid= nn.Sigmoid()\n",
    "\n",
    "    def forward(self, x):\n",
    "        out = self.linear1(x)\n",
    "        out = self.dropout1(out)\n",
    "        out = self.relu1(out)\n",
    "        out = self.linear2(out)\n",
    "        out = self.sigmoid(out)\n",
    "        return out"
   ]
  },
  {
   "cell_type": "code",
   "execution_count": 139,
   "metadata": {
    "id": "TNuuq39Nid2o"
   },
   "outputs": [],
   "source": [
    "input_dim = tensor_x.shape[1]\n",
    "output_dim = 1\n",
    "hidden_dim1 = 500"
   ]
  },
  {
   "cell_type": "code",
   "execution_count": 140,
   "metadata": {
    "id": "PwaZoNhUt22v"
   },
   "outputs": [],
   "source": [
    "model = FNN(input_dim, hidden_dim1, output_dim)\n",
    "\n",
    "#######################\n",
    "#  USE GPU FOR MODEL  #\n",
    "#######################\n",
    "if torch.cuda.is_available():\n",
    "    model.cuda()\n"
   ]
  },
  {
   "cell_type": "code",
   "execution_count": 141,
   "metadata": {
    "colab": {
     "base_uri": "https://localhost:8080/"
    },
    "id": "RDWXkP5iIKF9",
    "outputId": "1b9a665a-f39c-4ca4-b663-c108d8b8139a"
   },
   "outputs": [
    {
     "name": "stdout",
     "output_type": "stream",
     "text": [
      "----------------------------------------------------------------\n",
      "        Layer (type)               Output Shape         Param #\n",
      "================================================================\n",
      "            Linear-1               [-1, 1, 500]           4,500\n",
      "           Dropout-2               [-1, 1, 500]               0\n",
      "              ReLU-3               [-1, 1, 500]               0\n",
      "            Linear-4                 [-1, 1, 1]             501\n",
      "           Sigmoid-5                 [-1, 1, 1]               0\n",
      "================================================================\n",
      "Total params: 5,001\n",
      "Trainable params: 5,001\n",
      "Non-trainable params: 0\n",
      "----------------------------------------------------------------\n",
      "Input size (MB): 0.00\n",
      "Forward/backward pass size (MB): 0.01\n",
      "Params size (MB): 0.02\n",
      "Estimated Total Size (MB): 0.03\n",
      "----------------------------------------------------------------\n"
     ]
    }
   ],
   "source": [
    "summary(model, (1,tensor_x.shape[1]))"
   ]
  },
  {
   "cell_type": "code",
   "execution_count": 142,
   "metadata": {
    "id": "KnZxUvFvNJlZ"
   },
   "outputs": [],
   "source": [
    "criterion = nn.BCELoss()\n",
    "\n",
    "learning_rate = 0.05\n",
    "LAMBDA = 0.005\n",
    "optimizer = torch.optim.Adam(model.parameters(), lr=learning_rate, weight_decay=LAMBDA)"
   ]
  },
  {
   "cell_type": "code",
   "execution_count": 143,
   "metadata": {
    "id": "w8DwiuDxv1Bi"
   },
   "outputs": [],
   "source": [
    "def accuracy(y_pred, y_test):\n",
    "    y_pred_tag = torch.round(y_pred)\n",
    "\n",
    "    correct_results_sum = (y_pred_tag == y_test).sum().float()\n",
    "    acc = correct_results_sum/y_test.shape[0]\n",
    "    acc = torch.round(acc * 100)\n",
    "    \n",
    "    return acc"
   ]
  },
  {
   "cell_type": "code",
   "execution_count": 144,
   "metadata": {
    "colab": {
     "base_uri": "https://localhost:8080/"
    },
    "id": "fHiKX1cdt22x",
    "outputId": "a76b815a-82f2-4798-ab6d-576e3635673b"
   },
   "outputs": [
    {
     "name": "stdout",
     "output_type": "stream",
     "text": [
      "Epoch: 0. Loss: 0.7305088043212891. Accuracy: 74.0\n",
      "Epoch: 500. Loss: 0.4380885064601898. Accuracy: 81.0\n",
      "Epoch: 1000. Loss: 0.4324254095554352. Accuracy: 79.0\n",
      "Epoch: 1500. Loss: 0.4698551297187805. Accuracy: 81.0\n",
      "Epoch: 2000. Loss: 0.45652613043785095. Accuracy: 81.0\n",
      "Epoch: 2500. Loss: 0.44767796993255615. Accuracy: 79.0\n",
      "Epoch: 3000. Loss: 0.4508647322654724. Accuracy: 81.0\n",
      "Epoch: 3500. Loss: 0.458648145198822. Accuracy: 80.0\n",
      "Epoch: 4000. Loss: 0.45852547883987427. Accuracy: 82.0\n",
      "Epoch: 4500. Loss: 0.4711846113204956. Accuracy: 79.0\n"
     ]
    }
   ],
   "source": [
    "# Train the model\n",
    "\n",
    "num_epochs = 5000\n",
    "epoch_loss = []\n",
    "X = tensor_x\n",
    "y = tensor_y\n",
    "X_test = tensor_x2\n",
    "y_test = tensor_y2\n",
    "\n",
    "for epoch in range(num_epochs):\n",
    "        # Forward pass to get output/logits\n",
    "        outputs = model(X)\n",
    "        \n",
    "        # Calculate Loss\n",
    "        loss = criterion(outputs, y)\n",
    "        \n",
    "        '''\n",
    "        Save loss to draw loss curve\n",
    "        '''\n",
    "        epoch_loss.append(loss)\n",
    "\n",
    "        # Clear gradients w.r.t. parameters\n",
    "        optimizer.zero_grad() \n",
    "             \n",
    "        # Getting gradients w.r.t. parameters\n",
    "        loss.backward()\n",
    "        \n",
    "        # Updating parameters\n",
    "        optimizer.step()\n",
    "    \n",
    "        # Testing the model\n",
    "        if epoch % 500 == 0:\n",
    "            # Forward pass to get output/logits\n",
    "            outputs = model(X_test)\n",
    "            loss_t = criterion(outputs, y_test)\n",
    "            \n",
    "            # Print Loss\n",
    "            print('Epoch: {}. Loss: {}. Accuracy: {}'.format(epoch, loss_t.data, accuracy(outputs, y_test)))\n",
    "            "
   ]
  },
  {
   "cell_type": "code",
   "execution_count": 145,
   "metadata": {
    "colab": {
     "base_uri": "https://localhost:8080/",
     "height": 282
    },
    "id": "4oYI3pK5id2-",
    "outputId": "b9759047-860a-4156-fc61-e7af556b33b1"
   },
   "outputs": [
    {
     "data": {
      "text/plain": [
       "[<matplotlib.lines.Line2D at 0x17321885c70>]"
      ]
     },
     "execution_count": 145,
     "metadata": {},
     "output_type": "execute_result"
    },
    {
     "data": {
      "image/png": "[encoded data removed]",
      "text/plain": [
       "<Figure size 432x288 with 1 Axes>"
      ]
     },
     "metadata": {
      "needs_background": "light"
     },
     "output_type": "display_data"
    }
   ],
   "source": [
    "plt.plot(epoch_loss)"
   ]
  },
  {
   "cell_type": "markdown",
   "metadata": {
    "id": "JrEfo7CmO9oW"
   },
   "source": [
    "## 5. Adagrad"
   ]
  },
  {
   "cell_type": "markdown",
   "metadata": {
    "id": "P_xGYFrsjG0R"
   },
   "source": [
    "### Model A: 1 Hidden Layers Feedforward Neural Network"
   ]
  },
  {
   "cell_type": "markdown",
   "metadata": {
    "id": "Eq-gTJ_SjG0v"
   },
   "source": [
    "### Create model class"
   ]
  },
  {
   "cell_type": "code",
   "execution_count": 146,
   "metadata": {
    "id": "U2bcvOidid2l"
   },
   "outputs": [],
   "source": [
    "class FNN(nn.Module):\n",
    "    def __init__(self, input_dim, hidden_dim1, output_dim):\n",
    "        super(FNN, self).__init__()\n",
    "        \n",
    "        self.linear1 = nn.Linear(input_dim, hidden_dim1)\n",
    "        self.dropout1 = nn.Dropout(0.2)\n",
    "        self.relu1 = nn.ReLU()\n",
    "        self.linear2 = nn.Linear(hidden_dim1, output_dim)\n",
    "        self.sigmoid= nn.Sigmoid()\n",
    "\n",
    "    def forward(self, x):\n",
    "        out = self.linear1(x)\n",
    "        out = self.dropout1(out)\n",
    "        out = self.relu1(out)\n",
    "        out = self.linear2(out)\n",
    "        out = self.sigmoid(out)\n",
    "        return out"
   ]
  },
  {
   "cell_type": "code",
   "execution_count": 147,
   "metadata": {
    "id": "TNuuq39Nid2o"
   },
   "outputs": [],
   "source": [
    "input_dim = tensor_x.shape[1]\n",
    "output_dim = 1\n",
    "hidden_dim1 = 500"
   ]
  },
  {
   "cell_type": "code",
   "execution_count": 148,
   "metadata": {
    "id": "PwaZoNhUt22v"
   },
   "outputs": [],
   "source": [
    "model = FNN(input_dim, hidden_dim1, output_dim)\n",
    "\n",
    "#######################\n",
    "#  USE GPU FOR MODEL  #\n",
    "#######################\n",
    "if torch.cuda.is_available():\n",
    "    model.cuda()\n"
   ]
  },
  {
   "cell_type": "code",
   "execution_count": 149,
   "metadata": {
    "colab": {
     "base_uri": "https://localhost:8080/"
    },
    "id": "RDWXkP5iIKF9",
    "outputId": "1b9a665a-f39c-4ca4-b663-c108d8b8139a"
   },
   "outputs": [
    {
     "name": "stdout",
     "output_type": "stream",
     "text": [
      "----------------------------------------------------------------\n",
      "        Layer (type)               Output Shape         Param #\n",
      "================================================================\n",
      "            Linear-1               [-1, 1, 500]           4,500\n",
      "           Dropout-2               [-1, 1, 500]               0\n",
      "              ReLU-3               [-1, 1, 500]               0\n",
      "            Linear-4                 [-1, 1, 1]             501\n",
      "           Sigmoid-5                 [-1, 1, 1]               0\n",
      "================================================================\n",
      "Total params: 5,001\n",
      "Trainable params: 5,001\n",
      "Non-trainable params: 0\n",
      "----------------------------------------------------------------\n",
      "Input size (MB): 0.00\n",
      "Forward/backward pass size (MB): 0.01\n",
      "Params size (MB): 0.02\n",
      "Estimated Total Size (MB): 0.03\n",
      "----------------------------------------------------------------\n"
     ]
    }
   ],
   "source": [
    "summary(model, (1,tensor_x.shape[1]))"
   ]
  },
  {
   "cell_type": "code",
   "execution_count": 150,
   "metadata": {
    "id": "KnZxUvFvNJlZ"
   },
   "outputs": [],
   "source": [
    "criterion = nn.BCELoss()\n",
    "\n",
    "learning_rate = 0.05\n",
    "LAMBDA = 0.005\n",
    "optimizer = torch.optim.Adagrad(model.parameters(), lr=learning_rate, weight_decay=LAMBDA)"
   ]
  },
  {
   "cell_type": "code",
   "execution_count": 151,
   "metadata": {
    "id": "w8DwiuDxv1Bi"
   },
   "outputs": [],
   "source": [
    "def accuracy(y_pred, y_test):\n",
    "    y_pred_tag = torch.round(y_pred)\n",
    "\n",
    "    correct_results_sum = (y_pred_tag == y_test).sum().float()\n",
    "    acc = correct_results_sum/y_test.shape[0]\n",
    "    acc = torch.round(acc * 100)\n",
    "    \n",
    "    return acc"
   ]
  },
  {
   "cell_type": "code",
   "execution_count": 152,
   "metadata": {
    "colab": {
     "base_uri": "https://localhost:8080/"
    },
    "id": "fHiKX1cdt22x",
    "outputId": "a76b815a-82f2-4798-ab6d-576e3635673b"
   },
   "outputs": [
    {
     "name": "stdout",
     "output_type": "stream",
     "text": [
      "Epoch: 0. Loss: 0.6156861782073975. Accuracy: 78.0\n",
      "Epoch: 500. Loss: 0.458961546421051. Accuracy: 80.0\n",
      "Epoch: 1000. Loss: 0.4466301500797272. Accuracy: 83.0\n",
      "Epoch: 1500. Loss: 0.4429565668106079. Accuracy: 81.0\n",
      "Epoch: 2000. Loss: 0.464893639087677. Accuracy: 81.0\n",
      "Epoch: 2500. Loss: 0.4646756052970886. Accuracy: 82.0\n",
      "Epoch: 3000. Loss: 0.46783125400543213. Accuracy: 81.0\n",
      "Epoch: 3500. Loss: 0.4490252435207367. Accuracy: 80.0\n",
      "Epoch: 4000. Loss: 0.4568312466144562. Accuracy: 81.0\n",
      "Epoch: 4500. Loss: 0.4508931040763855. Accuracy: 82.0\n"
     ]
    }
   ],
   "source": [
    "# Train the model\n",
    "\n",
    "num_epochs = 5000\n",
    "epoch_loss = []\n",
    "X = tensor_x\n",
    "y = tensor_y\n",
    "X_test = tensor_x2\n",
    "y_test = tensor_y2\n",
    "\n",
    "for epoch in range(num_epochs):\n",
    "        # Forward pass to get output/logits\n",
    "        outputs = model(X)\n",
    "        \n",
    "        # Calculate Loss\n",
    "        loss = criterion(outputs, y)\n",
    "        \n",
    "        '''\n",
    "        Save loss to draw loss curve\n",
    "        '''\n",
    "        epoch_loss.append(loss)\n",
    "\n",
    "        # Clear gradients w.r.t. parameters\n",
    "        optimizer.zero_grad() \n",
    "             \n",
    "        # Getting gradients w.r.t. parameters\n",
    "        loss.backward()\n",
    "        \n",
    "        # Updating parameters\n",
    "        optimizer.step()\n",
    "    \n",
    "        # Testing the model\n",
    "        if epoch % 500 == 0:\n",
    "            # Forward pass to get output/logits\n",
    "            outputs = model(X_test)\n",
    "            loss_t = criterion(outputs, y_test)\n",
    "            \n",
    "            # Print Loss\n",
    "            print('Epoch: {}. Loss: {}. Accuracy: {}'.format(epoch, loss_t.data, accuracy(outputs, y_test)))\n",
    "            "
   ]
  },
  {
   "cell_type": "code",
   "execution_count": 153,
   "metadata": {
    "colab": {
     "base_uri": "https://localhost:8080/",
     "height": 282
    },
    "id": "4oYI3pK5id2-",
    "outputId": "b9759047-860a-4156-fc61-e7af556b33b1"
   },
   "outputs": [
    {
     "data": {
      "text/plain": [
       "[<matplotlib.lines.Line2D at 0x173248d7cd0>]"
      ]
     },
     "execution_count": 153,
     "metadata": {},
     "output_type": "execute_result"
    },
    {
     "data": {
      "image/png": "[encoded data removed]",
      "text/plain": [
       "<Figure size 432x288 with 1 Axes>"
      ]
     },
     "metadata": {
      "needs_background": "light"
     },
     "output_type": "display_data"
    }
   ],
   "source": [
    "plt.plot(epoch_loss)"
   ]
  },
  {
   "cell_type": "markdown",
   "metadata": {
    "id": "NCvcd-CDO9oa"
   },
   "source": [
    "## 6. Adadelta"
   ]
  },
  {
   "cell_type": "markdown",
   "metadata": {
    "id": "P_xGYFrsjG0R"
   },
   "source": [
    "### Model A: 1 Hidden Layers Feedforward Neural Network"
   ]
  },
  {
   "cell_type": "markdown",
   "metadata": {
    "id": "Eq-gTJ_SjG0v"
   },
   "source": [
    "### Create model class"
   ]
  },
  {
   "cell_type": "code",
   "execution_count": 154,
   "metadata": {
    "id": "U2bcvOidid2l"
   },
   "outputs": [],
   "source": [
    "class FNN(nn.Module):\n",
    "    def __init__(self, input_dim, hidden_dim1, output_dim):\n",
    "        super(FNN, self).__init__()\n",
    "        \n",
    "        self.linear1 = nn.Linear(input_dim, hidden_dim1)\n",
    "        self.dropout1 = nn.Dropout(0.2)\n",
    "        self.relu1 = nn.ReLU()\n",
    "        self.linear2 = nn.Linear(hidden_dim1, output_dim)\n",
    "        self.sigmoid= nn.Sigmoid()\n",
    "\n",
    "    def forward(self, x):\n",
    "        out = self.linear1(x)\n",
    "        out = self.dropout1(out)\n",
    "        out = self.relu1(out)\n",
    "        out = self.linear2(out)\n",
    "        out = self.sigmoid(out)\n",
    "        return out"
   ]
  },
  {
   "cell_type": "code",
   "execution_count": 155,
   "metadata": {
    "id": "TNuuq39Nid2o"
   },
   "outputs": [],
   "source": [
    "input_dim = tensor_x.shape[1]\n",
    "output_dim = 1\n",
    "hidden_dim1 = 500"
   ]
  },
  {
   "cell_type": "code",
   "execution_count": 156,
   "metadata": {
    "id": "PwaZoNhUt22v"
   },
   "outputs": [],
   "source": [
    "model = FNN(input_dim, hidden_dim1, output_dim)\n",
    "\n",
    "#######################\n",
    "#  USE GPU FOR MODEL  #\n",
    "#######################\n",
    "if torch.cuda.is_available():\n",
    "    model.cuda()\n"
   ]
  },
  {
   "cell_type": "code",
   "execution_count": 157,
   "metadata": {
    "colab": {
     "base_uri": "https://localhost:8080/"
    },
    "id": "RDWXkP5iIKF9",
    "outputId": "1b9a665a-f39c-4ca4-b663-c108d8b8139a"
   },
   "outputs": [
    {
     "name": "stdout",
     "output_type": "stream",
     "text": [
      "----------------------------------------------------------------\n",
      "        Layer (type)               Output Shape         Param #\n",
      "================================================================\n",
      "            Linear-1               [-1, 1, 500]           4,500\n",
      "           Dropout-2               [-1, 1, 500]               0\n",
      "              ReLU-3               [-1, 1, 500]               0\n",
      "            Linear-4                 [-1, 1, 1]             501\n",
      "           Sigmoid-5                 [-1, 1, 1]               0\n",
      "================================================================\n",
      "Total params: 5,001\n",
      "Trainable params: 5,001\n",
      "Non-trainable params: 0\n",
      "----------------------------------------------------------------\n",
      "Input size (MB): 0.00\n",
      "Forward/backward pass size (MB): 0.01\n",
      "Params size (MB): 0.02\n",
      "Estimated Total Size (MB): 0.03\n",
      "----------------------------------------------------------------\n"
     ]
    }
   ],
   "source": [
    "summary(model, (1,tensor_x.shape[1]))"
   ]
  },
  {
   "cell_type": "code",
   "execution_count": 158,
   "metadata": {
    "id": "KnZxUvFvNJlZ"
   },
   "outputs": [],
   "source": [
    "criterion = nn.BCELoss()\n",
    "\n",
    "learning_rate = 0.05\n",
    "LAMBDA = 0.005\n",
    "optimizer = torch.optim.Adadelta(model.parameters(), lr=learning_rate, weight_decay=LAMBDA)"
   ]
  },
  {
   "cell_type": "code",
   "execution_count": 159,
   "metadata": {
    "id": "w8DwiuDxv1Bi"
   },
   "outputs": [],
   "source": [
    "def accuracy(y_pred, y_test):\n",
    "    y_pred_tag = torch.round(y_pred)\n",
    "\n",
    "    correct_results_sum = (y_pred_tag == y_test).sum().float()\n",
    "    acc = correct_results_sum/y_test.shape[0]\n",
    "    acc = torch.round(acc * 100)\n",
    "    \n",
    "    return acc"
   ]
  },
  {
   "cell_type": "code",
   "execution_count": 160,
   "metadata": {
    "colab": {
     "base_uri": "https://localhost:8080/"
    },
    "id": "fHiKX1cdt22x",
    "outputId": "a76b815a-82f2-4798-ab6d-576e3635673b"
   },
   "outputs": [
    {
     "name": "stdout",
     "output_type": "stream",
     "text": [
      "Epoch: 0. Loss: 0.7609028220176697. Accuracy: 36.0\n",
      "Epoch: 500. Loss: 0.4329078495502472. Accuracy: 82.0\n",
      "Epoch: 1000. Loss: 0.4331403970718384. Accuracy: 79.0\n",
      "Epoch: 1500. Loss: 0.4249666929244995. Accuracy: 82.0\n",
      "Epoch: 2000. Loss: 0.4477139711380005. Accuracy: 82.0\n",
      "Epoch: 2500. Loss: 0.43603649735450745. Accuracy: 81.0\n",
      "Epoch: 3000. Loss: 0.4389086663722992. Accuracy: 82.0\n",
      "Epoch: 3500. Loss: 0.43926575779914856. Accuracy: 81.0\n",
      "Epoch: 4000. Loss: 0.44071123003959656. Accuracy: 81.0\n",
      "Epoch: 4500. Loss: 0.44395461678504944. Accuracy: 82.0\n"
     ]
    }
   ],
   "source": [
    "# Train the model\n",
    "\n",
    "num_epochs = 5000\n",
    "epoch_loss = []\n",
    "X = tensor_x\n",
    "y = tensor_y\n",
    "X_test = tensor_x2\n",
    "y_test = tensor_y2\n",
    "\n",
    "for epoch in range(num_epochs):\n",
    "        # Forward pass to get output/logits\n",
    "        outputs = model(X)\n",
    "        \n",
    "        # Calculate Loss\n",
    "        loss = criterion(outputs, y)\n",
    "        \n",
    "        '''\n",
    "        Save loss to draw loss curve\n",
    "        '''\n",
    "        epoch_loss.append(loss)\n",
    "\n",
    "        # Clear gradients w.r.t. parameters\n",
    "        optimizer.zero_grad() \n",
    "             \n",
    "        # Getting gradients w.r.t. parameters\n",
    "        loss.backward()\n",
    "        \n",
    "        # Updating parameters\n",
    "        optimizer.step()\n",
    "    \n",
    "        # Testing the model\n",
    "        if epoch % 500 == 0:\n",
    "            # Forward pass to get output/logits\n",
    "            outputs = model(X_test)\n",
    "            loss_t = criterion(outputs, y_test)\n",
    "            \n",
    "            # Print Loss\n",
    "            print('Epoch: {}. Loss: {}. Accuracy: {}'.format(epoch, loss_t.data, accuracy(outputs, y_test)))\n",
    "            "
   ]
  },
  {
   "cell_type": "code",
   "execution_count": 161,
   "metadata": {
    "colab": {
     "base_uri": "https://localhost:8080/",
     "height": 282
    },
    "id": "4oYI3pK5id2-",
    "outputId": "b9759047-860a-4156-fc61-e7af556b33b1"
   },
   "outputs": [
    {
     "data": {
      "text/plain": [
       "[<matplotlib.lines.Line2D at 0x1732498b580>]"
      ]
     },
     "execution_count": 161,
     "metadata": {},
     "output_type": "execute_result"
    },
    {
     "data": {
      "image/png": "[encoded data removed]",
      "text/plain": [
       "<Figure size 432x288 with 1 Axes>"
      ]
     },
     "metadata": {
      "needs_background": "light"
     },
     "output_type": "display_data"
    }
   ],
   "source": [
    "plt.plot(epoch_loss)"
   ]
  },
  {
   "cell_type": "markdown",
   "metadata": {
    "id": "C1l2uSvRO9oc"
   },
   "source": [
    "## 7. Adamax"
   ]
  },
  {
   "cell_type": "markdown",
   "metadata": {
    "id": "P_xGYFrsjG0R"
   },
   "source": [
    "### Model A: 1 Hidden Layers Feedforward Neural Network"
   ]
  },
  {
   "cell_type": "markdown",
   "metadata": {
    "id": "Eq-gTJ_SjG0v"
   },
   "source": [
    "### Create model class"
   ]
  },
  {
   "cell_type": "code",
   "execution_count": 162,
   "metadata": {
    "id": "U2bcvOidid2l"
   },
   "outputs": [],
   "source": [
    "class FNN(nn.Module):\n",
    "    def __init__(self, input_dim, hidden_dim1, output_dim):\n",
    "        super(FNN, self).__init__()\n",
    "        \n",
    "        self.linear1 = nn.Linear(input_dim, hidden_dim1)\n",
    "        self.dropout1 = nn.Dropout(0.2)\n",
    "        self.relu1 = nn.ReLU()\n",
    "        self.linear2 = nn.Linear(hidden_dim1, output_dim)\n",
    "        self.sigmoid= nn.Sigmoid()\n",
    "\n",
    "    def forward(self, x):\n",
    "        out = self.linear1(x)\n",
    "        out = self.dropout1(out)\n",
    "        out = self.relu1(out)\n",
    "        out = self.linear2(out)\n",
    "        out = self.sigmoid(out)\n",
    "        return out"
   ]
  },
  {
   "cell_type": "code",
   "execution_count": 163,
   "metadata": {
    "id": "TNuuq39Nid2o"
   },
   "outputs": [],
   "source": [
    "input_dim = tensor_x.shape[1]\n",
    "output_dim = 1\n",
    "hidden_dim1 = 500"
   ]
  },
  {
   "cell_type": "code",
   "execution_count": 164,
   "metadata": {
    "id": "PwaZoNhUt22v"
   },
   "outputs": [],
   "source": [
    "model = FNN(input_dim, hidden_dim1, output_dim)\n",
    "\n",
    "#######################\n",
    "#  USE GPU FOR MODEL  #\n",
    "#######################\n",
    "if torch.cuda.is_available():\n",
    "    model.cuda()\n"
   ]
  },
  {
   "cell_type": "code",
   "execution_count": 165,
   "metadata": {
    "colab": {
     "base_uri": "https://localhost:8080/"
    },
    "id": "RDWXkP5iIKF9",
    "outputId": "1b9a665a-f39c-4ca4-b663-c108d8b8139a"
   },
   "outputs": [
    {
     "name": "stdout",
     "output_type": "stream",
     "text": [
      "----------------------------------------------------------------\n",
      "        Layer (type)               Output Shape         Param #\n",
      "================================================================\n",
      "            Linear-1               [-1, 1, 500]           4,500\n",
      "           Dropout-2               [-1, 1, 500]               0\n",
      "              ReLU-3               [-1, 1, 500]               0\n",
      "            Linear-4                 [-1, 1, 1]             501\n",
      "           Sigmoid-5                 [-1, 1, 1]               0\n",
      "================================================================\n",
      "Total params: 5,001\n",
      "Trainable params: 5,001\n",
      "Non-trainable params: 0\n",
      "----------------------------------------------------------------\n",
      "Input size (MB): 0.00\n",
      "Forward/backward pass size (MB): 0.01\n",
      "Params size (MB): 0.02\n",
      "Estimated Total Size (MB): 0.03\n",
      "----------------------------------------------------------------\n"
     ]
    }
   ],
   "source": [
    "summary(model, (1,tensor_x.shape[1]))"
   ]
  },
  {
   "cell_type": "code",
   "execution_count": 166,
   "metadata": {
    "id": "KnZxUvFvNJlZ"
   },
   "outputs": [],
   "source": [
    "criterion = nn.BCELoss()\n",
    "\n",
    "learning_rate = 0.05\n",
    "LAMBDA = 0.005\n",
    "optimizer = torch.optim.Adamax(model.parameters(), lr=learning_rate, weight_decay=LAMBDA)"
   ]
  },
  {
   "cell_type": "code",
   "execution_count": 167,
   "metadata": {
    "id": "w8DwiuDxv1Bi"
   },
   "outputs": [],
   "source": [
    "def accuracy(y_pred, y_test):\n",
    "    y_pred_tag = torch.round(y_pred)\n",
    "\n",
    "    correct_results_sum = (y_pred_tag == y_test).sum().float()\n",
    "    acc = correct_results_sum/y_test.shape[0]\n",
    "    acc = torch.round(acc * 100)\n",
    "    \n",
    "    return acc"
   ]
  },
  {
   "cell_type": "code",
   "execution_count": 168,
   "metadata": {
    "colab": {
     "base_uri": "https://localhost:8080/"
    },
    "id": "fHiKX1cdt22x",
    "outputId": "a76b815a-82f2-4798-ab6d-576e3635673b"
   },
   "outputs": [
    {
     "name": "stdout",
     "output_type": "stream",
     "text": [
      "Epoch: 0. Loss: 0.49955952167510986. Accuracy: 77.0\n",
      "Epoch: 500. Loss: 0.46133601665496826. Accuracy: 81.0\n",
      "Epoch: 1000. Loss: 0.45412302017211914. Accuracy: 79.0\n",
      "Epoch: 1500. Loss: 0.46771398186683655. Accuracy: 79.0\n",
      "Epoch: 2000. Loss: 0.4591347873210907. Accuracy: 81.0\n",
      "Epoch: 2500. Loss: 0.4525974690914154. Accuracy: 82.0\n",
      "Epoch: 3000. Loss: 0.45025911927223206. Accuracy: 81.0\n",
      "Epoch: 3500. Loss: 0.43255650997161865. Accuracy: 83.0\n",
      "Epoch: 4000. Loss: 0.4689691662788391. Accuracy: 81.0\n",
      "Epoch: 4500. Loss: 0.43324536085128784. Accuracy: 81.0\n"
     ]
    }
   ],
   "source": [
    "# Train the model\n",
    "\n",
    "num_epochs = 5000\n",
    "epoch_loss = []\n",
    "X = tensor_x\n",
    "y = tensor_y\n",
    "X_test = tensor_x2\n",
    "y_test = tensor_y2\n",
    "\n",
    "for epoch in range(num_epochs):\n",
    "        # Forward pass to get output/logits\n",
    "        outputs = model(X)\n",
    "        \n",
    "        # Calculate Loss\n",
    "        loss = criterion(outputs, y)\n",
    "        \n",
    "        '''\n",
    "        Save loss to draw loss curve\n",
    "        '''\n",
    "        epoch_loss.append(loss)\n",
    "\n",
    "        # Clear gradients w.r.t. parameters\n",
    "        optimizer.zero_grad() \n",
    "             \n",
    "        # Getting gradients w.r.t. parameters\n",
    "        loss.backward()\n",
    "        \n",
    "        # Updating parameters\n",
    "        optimizer.step()\n",
    "    \n",
    "        # Testing the model\n",
    "        if epoch % 500 == 0:\n",
    "            # Forward pass to get output/logits\n",
    "            outputs = model(X_test)\n",
    "            loss_t = criterion(outputs, y_test)\n",
    "            \n",
    "            # Print Loss\n",
    "            print('Epoch: {}. Loss: {}. Accuracy: {}'.format(epoch, loss_t.data, accuracy(outputs, y_test)))\n",
    "            "
   ]
  },
  {
   "cell_type": "code",
   "execution_count": 169,
   "metadata": {
    "colab": {
     "base_uri": "https://localhost:8080/",
     "height": 282
    },
    "id": "4oYI3pK5id2-",
    "outputId": "b9759047-860a-4156-fc61-e7af556b33b1"
   },
   "outputs": [
    {
     "data": {
      "text/plain": [
       "[<matplotlib.lines.Line2D at 0x17324a39520>]"
      ]
     },
     "execution_count": 169,
     "metadata": {},
     "output_type": "execute_result"
    },
    {
     "data": {
      "image/png": "[encoded data removed]",
      "text/plain": [
       "<Figure size 432x288 with 1 Axes>"
      ]
     },
     "metadata": {
      "needs_background": "light"
     },
     "output_type": "display_data"
    }
   ],
   "source": [
    "plt.plot(epoch_loss)"
   ]
  },
  {
   "cell_type": "markdown",
   "metadata": {
    "id": "a481kCYNO9of"
   },
   "source": [
    "## 8. RMSProp"
   ]
  },
  {
   "cell_type": "markdown",
   "metadata": {
    "id": "P_xGYFrsjG0R"
   },
   "source": [
    "### Model A: 1 Hidden Layers Feedforward Neural Network"
   ]
  },
  {
   "cell_type": "markdown",
   "metadata": {
    "id": "Eq-gTJ_SjG0v"
   },
   "source": [
    "### Create model class"
   ]
  },
  {
   "cell_type": "code",
   "execution_count": 170,
   "metadata": {
    "id": "U2bcvOidid2l"
   },
   "outputs": [],
   "source": [
    "class FNN(nn.Module):\n",
    "    def __init__(self, input_dim, hidden_dim1, output_dim):\n",
    "        super(FNN, self).__init__()\n",
    "        \n",
    "        self.linear1 = nn.Linear(input_dim, hidden_dim1)\n",
    "        self.dropout1 = nn.Dropout(0.2)\n",
    "        self.relu1 = nn.ReLU()\n",
    "        self.linear2 = nn.Linear(hidden_dim1, output_dim)\n",
    "        self.sigmoid= nn.Sigmoid()\n",
    "\n",
    "    def forward(self, x):\n",
    "        out = self.linear1(x)\n",
    "        out = self.dropout1(out)\n",
    "        out = self.relu1(out)\n",
    "        out = self.linear2(out)\n",
    "        out = self.sigmoid(out)\n",
    "        return out"
   ]
  },
  {
   "cell_type": "code",
   "execution_count": 171,
   "metadata": {
    "id": "TNuuq39Nid2o"
   },
   "outputs": [],
   "source": [
    "input_dim = tensor_x.shape[1]\n",
    "output_dim = 1\n",
    "hidden_dim1 = 500"
   ]
  },
  {
   "cell_type": "code",
   "execution_count": 172,
   "metadata": {
    "id": "PwaZoNhUt22v"
   },
   "outputs": [],
   "source": [
    "model = FNN(input_dim, hidden_dim1, output_dim)\n",
    "\n",
    "#######################\n",
    "#  USE GPU FOR MODEL  #\n",
    "#######################\n",
    "if torch.cuda.is_available():\n",
    "    model.cuda()\n"
   ]
  },
  {
   "cell_type": "code",
   "execution_count": 173,
   "metadata": {
    "colab": {
     "base_uri": "https://localhost:8080/"
    },
    "id": "RDWXkP5iIKF9",
    "outputId": "1b9a665a-f39c-4ca4-b663-c108d8b8139a"
   },
   "outputs": [
    {
     "name": "stdout",
     "output_type": "stream",
     "text": [
      "----------------------------------------------------------------\n",
      "        Layer (type)               Output Shape         Param #\n",
      "================================================================\n",
      "            Linear-1               [-1, 1, 500]           4,500\n",
      "           Dropout-2               [-1, 1, 500]               0\n",
      "              ReLU-3               [-1, 1, 500]               0\n",
      "            Linear-4                 [-1, 1, 1]             501\n",
      "           Sigmoid-5                 [-1, 1, 1]               0\n",
      "================================================================\n",
      "Total params: 5,001\n",
      "Trainable params: 5,001\n",
      "Non-trainable params: 0\n",
      "----------------------------------------------------------------\n",
      "Input size (MB): 0.00\n",
      "Forward/backward pass size (MB): 0.01\n",
      "Params size (MB): 0.02\n",
      "Estimated Total Size (MB): 0.03\n",
      "----------------------------------------------------------------\n"
     ]
    }
   ],
   "source": [
    "summary(model, (1,tensor_x.shape[1]))"
   ]
  },
  {
   "cell_type": "code",
   "execution_count": 174,
   "metadata": {
    "id": "KnZxUvFvNJlZ"
   },
   "outputs": [],
   "source": [
    "criterion = nn.BCELoss()\n",
    "\n",
    "learning_rate = 0.05\n",
    "LAMBDA = 0.005\n",
    "optimizer = torch.optim.RMSprop(model.parameters(), lr=learning_rate, weight_decay=LAMBDA)"
   ]
  },
  {
   "cell_type": "code",
   "execution_count": 175,
   "metadata": {
    "id": "w8DwiuDxv1Bi"
   },
   "outputs": [],
   "source": [
    "def accuracy(y_pred, y_test):\n",
    "    y_pred_tag = torch.round(y_pred)\n",
    "\n",
    "    correct_results_sum = (y_pred_tag == y_test).sum().float()\n",
    "    acc = correct_results_sum/y_test.shape[0]\n",
    "    acc = torch.round(acc * 100)\n",
    "    \n",
    "    return acc"
   ]
  },
  {
   "cell_type": "code",
   "execution_count": 176,
   "metadata": {
    "colab": {
     "base_uri": "https://localhost:8080/"
    },
    "id": "fHiKX1cdt22x",
    "outputId": "a76b815a-82f2-4798-ab6d-576e3635673b"
   },
   "outputs": [
    {
     "name": "stdout",
     "output_type": "stream",
     "text": [
      "Epoch: 0. Loss: 24.56024932861328. Accuracy: 69.0\n",
      "Epoch: 500. Loss: 0.47200101613998413. Accuracy: 79.0\n",
      "Epoch: 1000. Loss: 0.5050909519195557. Accuracy: 79.0\n",
      "Epoch: 1500. Loss: 0.4552174210548401. Accuracy: 81.0\n",
      "Epoch: 2000. Loss: 0.46157118678092957. Accuracy: 78.0\n",
      "Epoch: 2500. Loss: 0.43608906865119934. Accuracy: 79.0\n",
      "Epoch: 3000. Loss: 0.831511378288269. Accuracy: 67.0\n",
      "Epoch: 3500. Loss: 0.7079839110374451. Accuracy: 71.0\n",
      "Epoch: 4000. Loss: 0.4484008252620697. Accuracy: 81.0\n",
      "Epoch: 4500. Loss: 0.4348273277282715. Accuracy: 80.0\n"
     ]
    }
   ],
   "source": [
    "# Train the model\n",
    "\n",
    "num_epochs = 5000\n",
    "epoch_loss = []\n",
    "X = tensor_x\n",
    "y = tensor_y\n",
    "X_test = tensor_x2\n",
    "y_test = tensor_y2\n",
    "\n",
    "for epoch in range(num_epochs):\n",
    "        # Forward pass to get output/logits\n",
    "        outputs = model(X)\n",
    "        \n",
    "        # Calculate Loss\n",
    "        loss = criterion(outputs, y)\n",
    "        \n",
    "        '''\n",
    "        Save loss to draw loss curve\n",
    "        '''\n",
    "        epoch_loss.append(loss)\n",
    "\n",
    "        # Clear gradients w.r.t. parameters\n",
    "        optimizer.zero_grad() \n",
    "             \n",
    "        # Getting gradients w.r.t. parameters\n",
    "        loss.backward()\n",
    "        \n",
    "        # Updating parameters\n",
    "        optimizer.step()\n",
    "    \n",
    "        # Testing the model\n",
    "        if epoch % 500 == 0:\n",
    "            # Forward pass to get output/logits\n",
    "            outputs = model(X_test)\n",
    "            loss_t = criterion(outputs, y_test)\n",
    "            \n",
    "            # Print Loss\n",
    "            print('Epoch: {}. Loss: {}. Accuracy: {}'.format(epoch, loss_t.data, accuracy(outputs, y_test)))\n",
    "            "
   ]
  },
  {
   "cell_type": "code",
   "execution_count": 177,
   "metadata": {
    "colab": {
     "base_uri": "https://localhost:8080/",
     "height": 282
    },
    "id": "4oYI3pK5id2-",
    "outputId": "b9759047-860a-4156-fc61-e7af556b33b1"
   },
   "outputs": [
    {
     "data": {
      "text/plain": [
       "[<matplotlib.lines.Line2D at 0x17339010dc0>]"
      ]
     },
     "execution_count": 177,
     "metadata": {},
     "output_type": "execute_result"
    },
    {
     "data": {
      "image/png": "[encoded data removed]",
      "text/plain": [
       "<Figure size 432x288 with 1 Axes>"
      ]
     },
     "metadata": {
      "needs_background": "light"
     },
     "output_type": "display_data"
    }
   ],
   "source": [
    "plt.plot(epoch_loss)"
   ]
  },
  {
   "cell_type": "markdown",
   "metadata": {
    "id": "PALWpQuHO9oh"
   },
   "source": [
    "## Batch normalization"
   ]
  },
  {
   "cell_type": "markdown",
   "metadata": {
    "id": "P_xGYFrsjG0R"
   },
   "source": [
    "### Model A: 1 Hidden Layers Feedforward Neural Network"
   ]
  },
  {
   "cell_type": "markdown",
   "metadata": {
    "id": "Eq-gTJ_SjG0v"
   },
   "source": [
    "### Create model class"
   ]
  },
  {
   "cell_type": "code",
   "execution_count": 28,
   "metadata": {
    "id": "U2bcvOidid2l"
   },
   "outputs": [],
   "source": [
    "class FNN(nn.Module):\n",
    "    def __init__(self, input_dim, hidden_dim1, output_dim):\n",
    "        super(FNN, self).__init__()\n",
    "        \n",
    "        self.linear1 = nn.Linear(input_dim, hidden_dim1)\n",
    "        self.BatchNorm1d1=nn.BatchNorm1d(hidden_dim1)\n",
    "        self.dropout1 = nn.Dropout(0.4)\n",
    "        self.relu1 = nn.ReLU()\n",
    "        self.linear2 = nn.Linear(hidden_dim1, output_dim)\n",
    "        self.BatchNorm1d2=nn.BatchNorm1d(output_dim)\n",
    "        self.sigmoid= nn.Sigmoid()\n",
    "\n",
    "    def forward(self, x):\n",
    "        out = self.linear1(x)\n",
    "        out = self.BatchNorm1d1(out)\n",
    "        out = self.dropout1(out)\n",
    "        out = self.relu1(out)\n",
    "        out = self.linear2(out)\n",
    "        out = self.BatchNorm1d2(out)\n",
    "        out = self.sigmoid(out)\n",
    "        return out"
   ]
  },
  {
   "cell_type": "code",
   "execution_count": 29,
   "metadata": {
    "id": "TNuuq39Nid2o"
   },
   "outputs": [],
   "source": [
    "input_dim = tensor_x.shape[1]\n",
    "output_dim = 1\n",
    "hidden_dim1 = 500"
   ]
  },
  {
   "cell_type": "code",
   "execution_count": 30,
   "metadata": {
    "id": "PwaZoNhUt22v"
   },
   "outputs": [],
   "source": [
    "model = FNN(input_dim, hidden_dim1, output_dim)\n",
    "\n",
    "#######################\n",
    "#  USE GPU FOR MODEL  #\n",
    "#######################\n",
    "if torch.cuda.is_available():\n",
    "    model.cuda()\n"
   ]
  },
  {
   "cell_type": "code",
   "execution_count": 31,
   "metadata": {
    "colab": {
     "base_uri": "https://localhost:8080/"
    },
    "id": "RDWXkP5iIKF9",
    "outputId": "1b9a665a-f39c-4ca4-b663-c108d8b8139a"
   },
   "outputs": [],
   "source": [
    "#summary(model, (1,tensor_x.shape[1]))"
   ]
  },
  {
   "cell_type": "code",
   "execution_count": 32,
   "metadata": {
    "id": "KnZxUvFvNJlZ"
   },
   "outputs": [],
   "source": [
    "criterion = nn.BCELoss()\n",
    "\n",
    "learning_rate = 0.05\n",
    "LAMBDA = 0.005\n",
    "optimizer = torch.optim.SGD(model.parameters(), lr=learning_rate, weight_decay=LAMBDA, momentum=0.8, nesterov=True)"
   ]
  },
  {
   "cell_type": "code",
   "execution_count": 33,
   "metadata": {
    "id": "w8DwiuDxv1Bi"
   },
   "outputs": [],
   "source": [
    "def accuracy(y_pred, y_test):\n",
    "    y_pred_tag = torch.round(y_pred)\n",
    "\n",
    "    correct_results_sum = (y_pred_tag == y_test).sum().float()\n",
    "    acc = correct_results_sum/y_test.shape[0]\n",
    "    acc = torch.round(acc * 100)\n",
    "    \n",
    "    return acc"
   ]
  },
  {
   "cell_type": "code",
   "execution_count": 34,
   "metadata": {
    "colab": {
     "base_uri": "https://localhost:8080/"
    },
    "id": "fHiKX1cdt22x",
    "outputId": "a76b815a-82f2-4798-ab6d-576e3635673b"
   },
   "outputs": [
    {
     "name": "stdout",
     "output_type": "stream",
     "text": [
      "Epoch: 0. Loss: 0.5521842241287231. Accuracy: 74.0\n",
      "Epoch: 500. Loss: 0.5173280239105225. Accuracy: 79.0\n",
      "Epoch: 1000. Loss: 0.6293770670890808. Accuracy: 73.0\n",
      "Epoch: 1500. Loss: 0.5981286764144897. Accuracy: 79.0\n",
      "Epoch: 2000. Loss: 0.6007148623466492. Accuracy: 77.0\n",
      "Epoch: 2500. Loss: 0.6430805921554565. Accuracy: 78.0\n",
      "Epoch: 3000. Loss: 0.6051543354988098. Accuracy: 76.0\n",
      "Epoch: 3500. Loss: 0.840488851070404. Accuracy: 69.0\n",
      "Epoch: 4000. Loss: 0.5985617637634277. Accuracy: 78.0\n",
      "Epoch: 4500. Loss: 0.5723690390586853. Accuracy: 79.0\n"
     ]
    }
   ],
   "source": [
    "# Train the model\n",
    "\n",
    "num_epochs = 5000\n",
    "epoch_loss = []\n",
    "X = tensor_x\n",
    "y = tensor_y\n",
    "X_test = tensor_x2\n",
    "y_test = tensor_y2\n",
    "\n",
    "for epoch in range(num_epochs):\n",
    "        # Forward pass to get output/logits\n",
    "        outputs = model(X)\n",
    "        \n",
    "        # Calculate Loss\n",
    "        loss = criterion(outputs, y)\n",
    "        \n",
    "        '''\n",
    "        Save loss to draw loss curve\n",
    "        '''\n",
    "        epoch_loss.append(loss)\n",
    "\n",
    "        # Clear gradients w.r.t. parameters\n",
    "        optimizer.zero_grad() \n",
    "             \n",
    "        # Getting gradients w.r.t. parameters\n",
    "        loss.backward()\n",
    "        \n",
    "        # Updating parameters\n",
    "        optimizer.step()\n",
    "    \n",
    "        # Testing the model\n",
    "        if epoch % 500 == 0:\n",
    "            # Forward pass to get output/logits\n",
    "            outputs = model(X_test)\n",
    "            loss_t = criterion(outputs, y_test)\n",
    "            \n",
    "            # Print Loss\n",
    "            print('Epoch: {}. Loss: {}. Accuracy: {}'.format(epoch, loss_t.data, accuracy(outputs, y_test)))\n",
    "            "
   ]
  },
  {
   "cell_type": "code",
   "execution_count": 35,
   "metadata": {
    "colab": {
     "base_uri": "https://localhost:8080/",
     "height": 282
    },
    "id": "4oYI3pK5id2-",
    "outputId": "b9759047-860a-4156-fc61-e7af556b33b1"
   },
   "outputs": [
    {
     "data": {
      "text/plain": [
       "[<matplotlib.lines.Line2D at 0x211d9d4dee0>]"
      ]
     },
     "execution_count": 35,
     "metadata": {},
     "output_type": "execute_result"
    },
    {
     "data": {
      "image/png": "[encoded data removed]",
      "text/plain": [
       "<Figure size 432x288 with 1 Axes>"
      ]
     },
     "metadata": {
      "needs_background": "light"
     },
     "output_type": "display_data"
    }
   ],
   "source": [
    "plt.plot(epoch_loss)"
   ]
  },
  {
   "cell_type": "markdown",
   "metadata": {},
   "source": [
    "## Results of regularizations\n",
    "\n",
    "| Model Name                    | Test Accuracy | Test Accuracy(Dropout) | \n",
    "|--------------------------------|----------|----------|\n",
    "| Model A |  81  |  82  |\n",
    "| Model B |  81  |  81  |"
   ]
  },
  {
   "cell_type": "markdown",
   "metadata": {},
   "source": [
    "## Results of optimizations (Test accuracy)\n",
    "- With dropouts from the regularization part\n",
    "\n",
    "| Optimizer                    | Model A |\n",
    "|--------------------------------|----------|\n",
    "| SGD |  81.0  |\n",
    "| SGD Momentum |  80.0  | \n",
    "| SGD Nesterov |  82.0  | \n",
    "| Adam |  79.0  |\n",
    "| Adagrad |  82.0 |\n",
    "| Adadelta |  82.0 | \n",
    "| Adamax |  81.0 |\n",
    "| RMSProp | 80.0  | \n",
    "\n",
    "\n",
    "### Batch normalozation\n",
    "- With dropouts from the regularization part\n",
    "- We employed one of the best optimizers for the model from the previous table\n",
    "\n",
    "| Model Name | Optimizer| Test Accuracy |\n",
    "|------------|----------|----------|\n",
    "| Model B |  SGD Nesterov  |   79.0 | \n"
   ]
  }
 ],
 "metadata": {
  "accelerator": "GPU",
  "colab": {
   "collapsed_sections": [],
   "name": "Pima_Indians_Diabetes_FNN_with_PyTorch (1).ipynb",
   "provenance": []
  },
  "kernelspec": {
   "display_name": "Python 3",
   "language": "python",
   "name": "python3"
  },
  "language_info": {
   "codemirror_mode": {
    "name": "ipython",
    "version": 3
   },
   "file_extension": ".py",
   "mimetype": "text/x-python",
   "name": "python",
   "nbconvert_exporter": "python",
   "pygments_lexer": "ipython3",
   "version": "3.8.5"
  }
 },
 "nbformat": 4,
 "nbformat_minor": 4
}
